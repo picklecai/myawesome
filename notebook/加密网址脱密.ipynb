{
 "cells": [
  {
   "cell_type": "markdown",
   "metadata": {},
   "source": [
    "工具：  \n",
    "[URL转码，encodeURI，encodeURIComponent — 在线工具](https://www.sojson.com/encodeurl.html)"
   ]
  },
  {
   "cell_type": "markdown",
   "metadata": {},
   "source": [
    "需要解码的url（右键获取的）:  \n",
    "\n",
    "%0A%3Csource%20src%3D%22http%3A//oss.emapgis.com/video/%25E8%25BF%2594%25E5%259B%259E%25E8%2588%25B1%25E7%259D%2580%25E9%2599%2586.mp4%22%20type%3D%22video/mp4%22%3E\n",
    "\n",
    "【用encodeURI函数】\n",
    "\n",
    "第一次解密：\n",
    "<source src%3D\"http%3A//oss.emapgis.com/video/%E8%BF%94%E5%9B%9E%E8%88%B1%E7%9D%80%E9%99%86.mp4\" type%3D\"video/mp4\">\n",
    "\n",
    "第二次解密：\n",
    "http%3A//oss.emapgis.com/video/返回舱着陆.mp4\n",
    "\n",
    "【用encodeURIComponent函数】\n",
    "\n",
    "第一次解密：\n",
    "<source src=\"http://oss.emapgis.com/video/%E8%BF%94%E5%9B%9E%E8%88%B1%E7%9D%80%E9%99%86.mp4\" type=\"video/mp4\">\n",
    "\n",
    "第二次解密：\n",
    "http://oss.emapgis.com/video/返回舱着陆.mp4"
   ]
  },
  {
   "cell_type": "markdown",
   "metadata": {},
   "source": [
    "encodeURI与encodeURIComponent方法的区别：\n",
    "\n",
    "1.encodeURI()，和encodeURIComponent()是对字符进行编码。\n",
    "\n",
    "2.decodeURI()，和decodeURIComponent()是对相应编码过的字符进行解码。\n",
    "\n",
    "3.encodeURI 方法不会对 ASCII 字母和数字进行编码，也不会对这些 ASCII 标点符号进行编码： - _ . ! ~ * ' ( ) 。\n",
    "该方法的目的是对 URI 进行完整的编码，因此对以下在 URI 中具有特殊含义的 ASCII 标点符号，encodeURI() 函数是不会进行转义的：;/?:@&=+$,#\n",
    "\n",
    "4.encodeURIComponent()方法不会对 ASCII 字母和数字进行编码，也不会对这些 ASCII 标点符号进行编码： - _ . ! ~ * ' ( ) 。  \n",
    "其他字符（比如 ：;/?:@&=+$,# 这些用于分隔 URI 组件的标点符号），都是由一个或多个十六进制的转义序列替换的。 \n",
    "\n",
    "5.形象的解释，encodeURI对全角日韩汉字其作用。对URL中的特殊字符不做处理，.encodeURIComponent()对url中的特殊字符做出来，将他们转化成对应的ASCII码  \n",
    "\n",
    "6.这些方法都是**JavaScript函数**，也就是只能够在JavaScript中使用。  "
   ]
  },
  {
   "cell_type": "code",
   "execution_count": null,
   "metadata": {},
   "outputs": [],
   "source": []
  }
 ],
 "metadata": {
  "kernelspec": {
   "display_name": "Python 3",
   "language": "python",
   "name": "python3"
  },
  "language_info": {
   "codemirror_mode": {
    "name": "ipython",
    "version": 3
   },
   "file_extension": ".py",
   "mimetype": "text/x-python",
   "name": "python",
   "nbconvert_exporter": "python",
   "pygments_lexer": "ipython3",
   "version": "3.7.6"
  }
 },
 "nbformat": 4,
 "nbformat_minor": 4
}
