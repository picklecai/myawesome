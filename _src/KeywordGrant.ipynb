{
 "cells": [
  {
   "cell_type": "markdown",
   "metadata": {},
   "source": [
    "## 高斯题目 "
   ]
  },
  {
   "cell_type": "code",
   "execution_count": 1,
   "metadata": {
    "collapsed": false
   },
   "outputs": [
    {
     "name": "stdout",
     "output_type": "stream",
     "text": [
      "5050 101\n"
     ]
    }
   ],
   "source": [
    "n = 100\n",
    "Sum = 0\n",
    "counter = 1\n",
    "while counter<=n:\n",
    "    Sum = Sum + counter\n",
    "    counter += 1\n",
    "    \n",
    "print(Sum,counter)"
   ]
  },
  {
   "cell_type": "markdown",
   "metadata": {},
   "source": [
    "## 猜测密码本中的密钥"
   ]
  },
  {
   "cell_type": "code",
   "execution_count": 2,
   "metadata": {
    "collapsed": false
   },
   "outputs": [
    {
     "name": "stdout",
     "output_type": "stream",
     "text": [
      "Enter your password:5tgbvfr4\n",
      "Access granted. Your password has 8 characters.\n"
     ]
    }
   ],
   "source": [
    "# __coding:utf-8__\n",
    "\n",
    "name = 'password'\n",
    "desk_path = '/Users/caimeijuan/github/myawesome/_src/'\n",
    "full_path = desk_path + name + '.txt'\n",
    "passwordFile = open(full_path)\n",
    "secretPassword = passwordFile.read()\n",
    "typedPassword = input(\"Enter your password:\")\n",
    "\n",
    "while typedPassword!=secretPassword :\n",
    "    print('Access denied! PLease enter again.')\n",
    "    typedPassword = input(\"Enter your password again:\")\n",
    "    if typedPassword == secretPassword:\n",
    "        break    \n",
    "\n",
    "if typedPassword == '123456':\n",
    "    print('This is not a good password.')    \n",
    "    print('Access granted.')\n",
    "else:\n",
    "    print('Access granted. Your password has %d characters.' % len(typedPassword)) "
   ]
  },
  {
   "cell_type": "markdown",
   "metadata": {},
   "source": [
    "一直提示while语句语法错误，于是写一段while来看看，还怀疑是字符串判不同的问题。最后发现，`while`不小心大写成了`While`"
   ]
  },
  {
   "cell_type": "markdown",
   "metadata": {},
   "source": [
    "## 验证用户名和密码 "
   ]
  },
  {
   "cell_type": "code",
   "execution_count": 3,
   "metadata": {
    "collapsed": false
   },
   "outputs": [
    {
     "name": "stdout",
     "output_type": "stream",
     "text": [
      "Who are you?Joe\n",
      "Hello, Joe. What is the password?(It's a fish.)swordfish\n",
      "Access granted.\n"
     ]
    }
   ],
   "source": [
    "while True:\n",
    "    name = input('Who are you?')\n",
    "    if name!='Joe':\n",
    "        continue\n",
    "    password = input('Hello, Joe. What is the password?(It\\'s a fish.)')\n",
    "    if password == 'swordfish':\n",
    "        break\n",
    "print('Access granted.')"
   ]
  },
  {
   "cell_type": "markdown",
   "metadata": {},
   "source": [
    "## 试图退出 "
   ]
  },
  {
   "cell_type": "code",
   "execution_count": 4,
   "metadata": {
    "collapsed": false
   },
   "outputs": [
    {
     "name": "stdout",
     "output_type": "stream",
     "text": [
      "Type exit to exit:exit\n",
      "You typed \"exit\".\n"
     ]
    },
    {
     "ename": "SystemExit",
     "evalue": "",
     "output_type": "error",
     "traceback": [
      "An exception has occurred, use %tb to see the full traceback.\n",
      "\u001b[0;31mSystemExit\u001b[0m\n"
     ]
    },
    {
     "name": "stderr",
     "output_type": "stream",
     "text": [
      "/Users/caimeijuan/anaconda/envs/python35/lib/python3.7/site-packages/IPython/core/interactiveshell.py:3299: UserWarning: To exit: use 'exit', 'quit', or Ctrl-D.\n",
      "  warn(\"To exit: use 'exit', 'quit', or Ctrl-D.\", stacklevel=1)\n"
     ]
    }
   ],
   "source": [
    "import sys\n",
    "while True:\n",
    "    response = input('Type exit to exit:')\n",
    "    if response == 'exit':\n",
    "        print('You typed \"'+ response +'\".')\n",
    "        sys.exit()"
   ]
  },
  {
   "cell_type": "markdown",
   "metadata": {},
   "source": [
    "## 月份随机数 "
   ]
  },
  {
   "cell_type": "code",
   "execution_count": 5,
   "metadata": {
    "collapsed": false
   },
   "outputs": [],
   "source": [
    "def getAnswer(answerNumber):\n",
    "    print(answerNumber)\n",
    "    if answerNumber == 1:\n",
    "        return 'This is in January'\n",
    "    elif answerNumber == 2:\n",
    "        return 'This is in February'\n",
    "    elif answerNumber == 3:\n",
    "        return 'This is in March'\n",
    "    elif answerNumber == 4:\n",
    "        return 'This is in April'\n",
    "    elif answerNumber == 5:\n",
    "        return 'This is in May'\n",
    "    elif answerNumber == 6:\n",
    "        return 'This is in June'\n",
    "    elif answerNumber == 7:\n",
    "        return 'This is in July'\n",
    "    elif answerNumber == 8:\n",
    "        return 'This is in August'\n",
    "    elif answerNumber == 9:\n",
    "        return 'This is in September'\n",
    "    elif answerNumber == 10:\n",
    "        return 'This is in October'\n",
    "    elif answerNumber == 11:\n",
    "        return 'This is in November'\n",
    "    elif answerNumber == 12:\n",
    "        return 'This is in December'\n",
    "    else:\n",
    "        return 'This is not in any month of the year.'    "
   ]
  },
  {
   "cell_type": "code",
   "execution_count": 6,
   "metadata": {
    "collapsed": false
   },
   "outputs": [
    {
     "name": "stdout",
     "output_type": "stream",
     "text": [
      "13\n"
     ]
    },
    {
     "data": {
      "text/plain": [
       "'This is not in any month of the year.'"
      ]
     },
     "execution_count": 6,
     "metadata": {},
     "output_type": "execute_result"
    }
   ],
   "source": [
    "import random\n",
    "getAnswer(random.randint(1,15))"
   ]
  },
  {
   "cell_type": "markdown",
   "metadata": {},
   "source": [
    "## print的参数"
   ]
  },
  {
   "cell_type": "code",
   "execution_count": 7,
   "metadata": {
    "collapsed": false
   },
   "outputs": [
    {
     "name": "stdout",
     "output_type": "stream",
     "text": [
      "Hello,Ahcai,PickleWow!\n"
     ]
    }
   ],
   "source": [
    "print(\"Hello\",\"Ahcai\",\"Pickle\", sep=',',end=\"\")\n",
    "print(\"Wow!\")"
   ]
  },
  {
   "cell_type": "markdown",
   "metadata": {},
   "source": [
    "## 异常语句"
   ]
  },
  {
   "cell_type": "code",
   "execution_count": 8,
   "metadata": {
    "collapsed": false
   },
   "outputs": [],
   "source": [
    "def spam(divideBy):\n",
    "    try:\n",
    "        return 42/divideBy\n",
    "    except ZeroDivisionError:\n",
    "        print(\"Error:Invalid argument.\")    "
   ]
  },
  {
   "cell_type": "code",
   "execution_count": 9,
   "metadata": {
    "collapsed": false
   },
   "outputs": [
    {
     "name": "stdout",
     "output_type": "stream",
     "text": [
      "21.0\n",
      "3.5\n",
      "Error:Invalid argument.\n",
      "None\n",
      "7.0\n"
     ]
    }
   ],
   "source": [
    "print(spam(2))\n",
    "print(spam(12))\n",
    "print(spam(0))\n",
    "print(spam(6))"
   ]
  },
  {
   "cell_type": "markdown",
   "metadata": {},
   "source": [
    "## 猜测100以内的随机数"
   ]
  },
  {
   "cell_type": "code",
   "execution_count": 10,
   "metadata": {
    "collapsed": false,
    "scrolled": true
   },
   "outputs": [
    {
     "name": "stdout",
     "output_type": "stream",
     "text": [
      "I'm thinking of a number between 1 and 100. Please guess it:\n",
      "50\n",
      "Your guess is too high. Take a guess:\n",
      "25\n",
      "Your guess is too high. Take a guess:\n",
      "12\n",
      "Your guess is too high. Take a guess:\n",
      "6\n",
      "Your guess is too low. Take a guess:\n",
      "9\n",
      "Your guess is too low. Take a guess:\n",
      "11\n",
      "Good job! Your guessed my number in 6 times.\n"
     ]
    }
   ],
   "source": [
    "import random\n",
    "secret = random.randint(1,100)\n",
    "times = 0\n",
    "print(\"I\\'m thinking of a number between 1 and 100. Please guess it:\")\n",
    "\n",
    "while True:\n",
    "    guess = int(input())\n",
    "    times +=1\n",
    "    if guess < secret:\n",
    "        print(\"Your guess is too low. Take a guess:\")\n",
    "    elif guess > secret:\n",
    "        print(\"Your guess is too high. Take a guess:\")\n",
    "    else:\n",
    "        print(\"Good job! Your guessed my number in %d times.\" %times) \n",
    "        break"
   ]
  },
  {
   "cell_type": "code",
   "execution_count": null,
   "metadata": {
    "collapsed": true
   },
   "outputs": [],
   "source": []
  },
  {
   "cell_type": "code",
   "execution_count": null,
   "metadata": {
    "collapsed": true
   },
   "outputs": [],
   "source": []
  }
 ],
 "metadata": {
  "kernelspec": {
   "display_name": "Python 3",
   "language": "python",
   "name": "python3"
  },
  "language_info": {
   "codemirror_mode": {
    "name": "ipython",
    "version": 3
   },
   "file_extension": ".py",
   "mimetype": "text/x-python",
   "name": "python",
   "nbconvert_exporter": "python",
   "pygments_lexer": "ipython3",
   "version": "3.7.2"
  }
 },
 "nbformat": 4,
 "nbformat_minor": 0
}
