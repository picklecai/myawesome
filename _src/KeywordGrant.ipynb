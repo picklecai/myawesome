{
 "cells": [
  {
   "cell_type": "markdown",
   "metadata": {},
   "source": [
    "## 高斯题目 "
   ]
  },
  {
   "cell_type": "code",
   "execution_count": 1,
   "metadata": {
    "collapsed": false
   },
   "outputs": [
    {
     "name": "stdout",
     "output_type": "stream",
     "text": [
      "5050 101\n"
     ]
    }
   ],
   "source": [
    "n = 100\n",
    "Sum = 0\n",
    "counter = 1\n",
    "while counter<=n:\n",
    "    Sum = Sum + counter\n",
    "    counter += 1\n",
    "    \n",
    "print(Sum,counter)"
   ]
  },
  {
   "cell_type": "markdown",
   "metadata": {},
   "source": [
    "## 猜测密码本中的密钥"
   ]
  },
  {
   "cell_type": "code",
   "execution_count": 2,
   "metadata": {
    "collapsed": false
   },
   "outputs": [
    {
     "name": "stdout",
     "output_type": "stream",
     "text": [
      "Enter your password:5tgbvfr4\n",
      "Access granted. Your password has 8 characters.\n"
     ]
    }
   ],
   "source": [
    "# __coding:utf-8__\n",
    "\n",
    "name = 'password'\n",
    "desk_path = '/Users/caimeijuan/github/myawesome/_src/'\n",
    "full_path = desk_path + name + '.txt'\n",
    "passwordFile = open(full_path)\n",
    "secretPassword = passwordFile.read()\n",
    "typedPassword = input(\"Enter your password:\")\n",
    "\n",
    "while typedPassword!=secretPassword :\n",
    "    print('Access denied! PLease enter again.')\n",
    "    typedPassword = input(\"Enter your password again:\")\n",
    "    if typedPassword == secretPassword:\n",
    "        break    \n",
    "\n",
    "if typedPassword == '123456':\n",
    "    print('This is not a good password.')    \n",
    "    print('Access granted.')\n",
    "else:\n",
    "    print('Access granted. Your password has %d characters.' % len(typedPassword)) "
   ]
  },
  {
   "cell_type": "markdown",
   "metadata": {},
   "source": [
    "一直提示while语句语法错误，于是写一段while来看看，还怀疑是字符串判不同的问题。最后发现，`while`不小心大写成了`While`"
   ]
  },
  {
   "cell_type": "markdown",
   "metadata": {},
   "source": [
    "## 验证用户名和密码 "
   ]
  },
  {
   "cell_type": "code",
   "execution_count": 3,
   "metadata": {
    "collapsed": false
   },
   "outputs": [
    {
     "name": "stdout",
     "output_type": "stream",
     "text": [
      "Who are you?Joe\n",
      "Hello, Joe. What is the password?(It's a fish.)swordfish\n",
      "Access granted.\n"
     ]
    }
   ],
   "source": [
    "while True:\n",
    "    name = input('Who are you?')\n",
    "    if name!='Joe':\n",
    "        continue\n",
    "    password = input('Hello, Joe. What is the password?(It\\'s a fish.)')\n",
    "    if password == 'swordfish':\n",
    "        break\n",
    "print('Access granted.')"
   ]
  },
  {
   "cell_type": "markdown",
   "metadata": {},
   "source": [
    "## 试图退出 "
   ]
  },
  {
   "cell_type": "code",
   "execution_count": 4,
   "metadata": {
    "collapsed": false
   },
   "outputs": [
    {
     "name": "stdout",
     "output_type": "stream",
     "text": [
      "Type exit to exit:exit\n",
      "You typed \"exit\".\n"
     ]
    },
    {
     "ename": "SystemExit",
     "evalue": "",
     "output_type": "error",
     "traceback": [
      "An exception has occurred, use %tb to see the full traceback.\n",
      "\u001b[0;31mSystemExit\u001b[0m\n"
     ]
    },
    {
     "name": "stderr",
     "output_type": "stream",
     "text": [
      "/Users/caimeijuan/anaconda/envs/python35/lib/python3.7/site-packages/IPython/core/interactiveshell.py:3299: UserWarning: To exit: use 'exit', 'quit', or Ctrl-D.\n",
      "  warn(\"To exit: use 'exit', 'quit', or Ctrl-D.\", stacklevel=1)\n"
     ]
    }
   ],
   "source": [
    "import sys\n",
    "while True:\n",
    "    response = input('Type exit to exit:')\n",
    "    if response == 'exit':\n",
    "        print('You typed \"'+ response +'\".')\n",
    "        sys.exit()"
   ]
  },
  {
   "cell_type": "markdown",
   "metadata": {},
   "source": [
    "## 月份随机数 "
   ]
  },
  {
   "cell_type": "code",
   "execution_count": 5,
   "metadata": {
    "collapsed": false
   },
   "outputs": [],
   "source": [
    "def getAnswer(answerNumber):\n",
    "    print(answerNumber)\n",
    "    if answerNumber == 1:\n",
    "        return 'This is in January'\n",
    "    elif answerNumber == 2:\n",
    "        return 'This is in February'\n",
    "    elif answerNumber == 3:\n",
    "        return 'This is in March'\n",
    "    elif answerNumber == 4:\n",
    "        return 'This is in April'\n",
    "    elif answerNumber == 5:\n",
    "        return 'This is in May'\n",
    "    elif answerNumber == 6:\n",
    "        return 'This is in June'\n",
    "    elif answerNumber == 7:\n",
    "        return 'This is in July'\n",
    "    elif answerNumber == 8:\n",
    "        return 'This is in August'\n",
    "    elif answerNumber == 9:\n",
    "        return 'This is in September'\n",
    "    elif answerNumber == 10:\n",
    "        return 'This is in October'\n",
    "    elif answerNumber == 11:\n",
    "        return 'This is in November'\n",
    "    elif answerNumber == 12:\n",
    "        return 'This is in December'\n",
    "    else:\n",
    "        return 'This is not in any month of the year.'    "
   ]
  },
  {
   "cell_type": "code",
   "execution_count": 6,
   "metadata": {
    "collapsed": false
   },
   "outputs": [
    {
     "name": "stdout",
     "output_type": "stream",
     "text": [
      "13\n"
     ]
    },
    {
     "data": {
      "text/plain": [
       "'This is not in any month of the year.'"
      ]
     },
     "execution_count": 6,
     "metadata": {},
     "output_type": "execute_result"
    }
   ],
   "source": [
    "import random\n",
    "getAnswer(random.randint(1,15))"
   ]
  },
  {
   "cell_type": "markdown",
   "metadata": {},
   "source": [
    "## print的参数"
   ]
  },
  {
   "cell_type": "code",
   "execution_count": 7,
   "metadata": {
    "collapsed": false
   },
   "outputs": [
    {
     "name": "stdout",
     "output_type": "stream",
     "text": [
      "Hello,Ahcai,PickleWow!\n"
     ]
    }
   ],
   "source": [
    "print(\"Hello\",\"Ahcai\",\"Pickle\", sep=',',end=\"\")\n",
    "print(\"Wow!\")"
   ]
  },
  {
   "cell_type": "markdown",
   "metadata": {},
   "source": [
    "## 异常语句"
   ]
  },
  {
   "cell_type": "code",
   "execution_count": 8,
   "metadata": {
    "collapsed": false
   },
   "outputs": [],
   "source": [
    "def spam(divideBy):\n",
    "    try:\n",
    "        return 42/divideBy\n",
    "    except ZeroDivisionError:\n",
    "        print(\"Error:Invalid argument.\")    "
   ]
  },
  {
   "cell_type": "code",
   "execution_count": 9,
   "metadata": {
    "collapsed": false
   },
   "outputs": [
    {
     "name": "stdout",
     "output_type": "stream",
     "text": [
      "21.0\n",
      "3.5\n",
      "Error:Invalid argument.\n",
      "None\n",
      "7.0\n"
     ]
    }
   ],
   "source": [
    "print(spam(2))\n",
    "print(spam(12))\n",
    "print(spam(0))\n",
    "print(spam(6))"
   ]
  },
  {
   "cell_type": "markdown",
   "metadata": {},
   "source": [
    "## 猜测100以内的随机数"
   ]
  },
  {
   "cell_type": "code",
   "execution_count": 10,
   "metadata": {
    "collapsed": false,
    "scrolled": true
   },
   "outputs": [
    {
     "name": "stdout",
     "output_type": "stream",
     "text": [
      "I'm thinking of a number between 1 and 100. Please guess it:\n",
      "50\n",
      "Your guess is too high. Take a guess:\n",
      "25\n",
      "Your guess is too high. Take a guess:\n",
      "12\n",
      "Your guess is too high. Take a guess:\n",
      "6\n",
      "Your guess is too low. Take a guess:\n",
      "9\n",
      "Your guess is too low. Take a guess:\n",
      "11\n",
      "Good job! Your guessed my number in 6 times.\n"
     ]
    }
   ],
   "source": [
    "import random\n",
    "secret = random.randint(1,100)\n",
    "times = 0\n",
    "print(\"I\\'m thinking of a number between 1 and 100. Please guess it:\")\n",
    "\n",
    "while True:\n",
    "    guess = int(input())\n",
    "    times +=1\n",
    "    if guess < secret:\n",
    "        print(\"Your guess is too low. Take a guess:\")\n",
    "    elif guess > secret:\n",
    "        print(\"Your guess is too high. Take a guess:\")\n",
    "    else:\n",
    "        print(\"Good job! Your guessed my number in %d times.\" %times) \n",
    "        break"
   ]
  },
  {
   "cell_type": "markdown",
   "metadata": {
    "collapsed": true
   },
   "source": [
    "## Collatz序列\n",
    "\n",
    "[冰雹猜想_百度百科](https://baike.baidu.com/item/%E5%86%B0%E9%9B%B9%E7%8C%9C%E6%83%B3/659469?fr=aladdin)"
   ]
  },
  {
   "cell_type": "code",
   "execution_count": 15,
   "metadata": {
    "collapsed": false,
    "scrolled": true
   },
   "outputs": [
    {
     "name": "stdout",
     "output_type": "stream",
     "text": [
      "Please input a positive integer：10\n",
      "The initial number is: 10\n",
      "The Follow-up digital sequence is:\n",
      "5\n",
      "16\n",
      "8\n",
      "4\n",
      "2\n",
      "1\n"
     ]
    }
   ],
   "source": [
    "def collatz(number):\n",
    "    if number%2 == 0:\n",
    "        number = number//2\n",
    "    else:\n",
    "        number = number * 3 +1\n",
    "    print(number)\n",
    "    return number\n",
    "    \n",
    "number = int(input(\"Please input a positive integer：\"))\n",
    "print('The initial number is: %d' %number)\n",
    "print('The Follow-up digital sequence is:')\n",
    "\n",
    "while True:\n",
    "    if number!=1:\n",
    "        number = collatz(number)\n",
    "    else:\n",
    "        break"
   ]
  },
  {
   "cell_type": "markdown",
   "metadata": {},
   "source": [
    "## 逗号代码"
   ]
  },
  {
   "cell_type": "code",
   "execution_count": 17,
   "metadata": {
    "collapsed": false
   },
   "outputs": [
    {
     "name": "stdout",
     "output_type": "stream",
     "text": [
      "ahcai,pickle,elephant,tiger and konglong\n"
     ]
    }
   ],
   "source": [
    "def douhao(listPara):\n",
    "    result = \"\"\n",
    "    for i in range(len(listPara)-1):\n",
    "        result = result + listPara[i] +','\n",
    "    result = result[0:-1] +' and '+listPara[-1]\n",
    "    return result\n",
    "spam = ['ahcai', 'pickle', 'elephant', 'tiger', 'konglong']\n",
    "print(douhao(spam))       "
   ]
  },
  {
   "cell_type": "markdown",
   "metadata": {},
   "source": [
    "## 字符图网格"
   ]
  },
  {
   "cell_type": "code",
   "execution_count": 18,
   "metadata": {
    "collapsed": true
   },
   "outputs": [],
   "source": [
    "grid = [['.','.','.','.','.','.'],['.','O','O','.','.','.'],['O','O','O','O','.','.'],['O','O','O','O','O','.'],['.','O','O','O','O','O'],['O','O','O','O','O','.'],['O','O','O','O','.','.'],['.','O','O','.','.','.'],['.','.','.','.','.','.'],]"
   ]
  },
  {
   "cell_type": "code",
   "execution_count": 19,
   "metadata": {
    "collapsed": false
   },
   "outputs": [
    {
     "name": "stdout",
     "output_type": "stream",
     "text": [
      "[['.', '.', '.', '.', '.', '.'], ['.', 'O', 'O', '.', '.', '.'], ['O', 'O', 'O', 'O', '.', '.'], ['O', 'O', 'O', 'O', 'O', '.'], ['.', 'O', 'O', 'O', 'O', 'O'], ['O', 'O', 'O', 'O', 'O', '.'], ['O', 'O', 'O', 'O', '.', '.'], ['.', 'O', 'O', '.', '.', '.'], ['.', '.', '.', '.', '.', '.']]\n"
     ]
    }
   ],
   "source": [
    "print(grid)"
   ]
  },
  {
   "cell_type": "code",
   "execution_count": 24,
   "metadata": {
    "collapsed": false
   },
   "outputs": [
    {
     "name": "stdout",
     "output_type": "stream",
     "text": [
      ". . . . . \n",
      "\n",
      ". O O . . \n",
      "\n",
      "O O O O . \n",
      "\n",
      "O O O O O \n",
      "\n",
      ". O O O O \n",
      "\n",
      "O O O O O \n",
      "\n",
      "O O O O . \n",
      "\n",
      ". O O . . \n",
      "\n"
     ]
    }
   ],
   "source": [
    "for i in range(8):\n",
    "    for j in range(5):\n",
    "        print(grid[i][j],end=' ')\n",
    "    print('\\n')"
   ]
  },
  {
   "cell_type": "markdown",
   "metadata": {
    "collapsed": true
   },
   "source": [
    "## 储存生日信息"
   ]
  },
  {
   "cell_type": "code",
   "execution_count": 8,
   "metadata": {
    "collapsed": false
   },
   "outputs": [
    {
     "name": "stdout",
     "output_type": "stream",
     "text": [
      "Enter a name(blank to quit):\n",
      "Pickle\n",
      "I don't have birthday information for Pickle\n",
      "What is their birthday?July 28\n",
      "Birthday database updated.\n",
      "Enter a name(blank to quit):\n",
      "Jimmy\n",
      "I don't have birthday information for Jimmy\n",
      "What is their birthday?Jan 30\n",
      "Birthday database updated.\n",
      "Enter a name(blank to quit):\n",
      "Carol\n",
      "Mar 4 is the birthday of Carol\n",
      "Enter a name(blank to quit):\n",
      "Jimmy\n",
      "Jan 30 is the birthday of Jimmy\n",
      "Enter a name(blank to quit):\n",
      "\n"
     ]
    }
   ],
   "source": [
    "birthdays = {'Alice':'Apr 1', 'Bob':'Dec 12', 'Carol':'Mar 4'}\n",
    "while True:\n",
    "    print('Enter a name(blank to quit):')\n",
    "    name = input()\n",
    "    if name==\"\":\n",
    "        break\n",
    "    if name in birthdays:\n",
    "        print(birthdays[name] + ' is the birthday of ' + name)\n",
    "    else:\n",
    "        print('I don\\'t have birthday information for ' + name)\n",
    "        bday = input('What is their birthday?')\n",
    "        birthdays[name] = bday\n",
    "        print('Birthday database updated.')"
   ]
  },
  {
   "cell_type": "code",
   "execution_count": 9,
   "metadata": {
    "collapsed": false
   },
   "outputs": [
    {
     "data": {
      "text/plain": [
       "{'Alice': 'Apr 1',\n",
       " 'Bob': 'Dec 12',\n",
       " 'Carol': 'Mar 4',\n",
       " 'Pickle': 'July 28',\n",
       " 'Jimmy': 'Jan 30'}"
      ]
     },
     "execution_count": 9,
     "metadata": {},
     "output_type": "execute_result"
    }
   ],
   "source": [
    "birthdays"
   ]
  },
  {
   "cell_type": "markdown",
   "metadata": {},
   "source": [
    "## 数字符数"
   ]
  },
  {
   "cell_type": "code",
   "execution_count": 27,
   "metadata": {
    "collapsed": false
   },
   "outputs": [
    {
     "name": "stdout",
     "output_type": "stream",
     "text": [
      "{' ': 1,\n",
      " '.': 3,\n",
      " '0': 1,\n",
      " '1': 2,\n",
      " '2': 1,\n",
      " '7': 1,\n",
      " '9': 1,\n",
      " '[': 1,\n",
      " ']': 1,\n",
      " '·': 2,\n",
      " '—': 2,\n",
      " '、': 1,\n",
      " '。': 1,\n",
      " '《': 1,\n",
      " '》': 1,\n",
      " '业': 1,\n",
      " '习': 1,\n",
      " '书': 1,\n",
      " '从': 1,\n",
      " '伯': 1,\n",
      " '何': 1,\n",
      " '克': 1,\n",
      " '出': 1,\n",
      " '利': 1,\n",
      " '到': 1,\n",
      " '刻': 1,\n",
      " '和': 1,\n",
      " '大': 1,\n",
      " '如': 1,\n",
      " '安': 1,\n",
      " '尔': 1,\n",
      " '工': 1,\n",
      " '师': 1,\n",
      " '平': 1,\n",
      " '年': 1,\n",
      " '序': 1,\n",
      " '德': 1,\n",
      " '志': 1,\n",
      " '意': 1,\n",
      " '手': 1,\n",
      " '推': 1,\n",
      " '斯': 1,\n",
      " '新': 1,\n",
      " '普': 1,\n",
      " '月': 1,\n",
      " '有': 1,\n",
      " '本': 1,\n",
      " '机': 1,\n",
      " '林': 1,\n",
      " '械': 1,\n",
      " '森': 1,\n",
      " '正': 1,\n",
      " '版': 2,\n",
      " '特': 1,\n",
      " '王': 1,\n",
      " '的': 1,\n",
      " '社': 1,\n",
      " '第': 1,\n",
      " '练': 1,\n",
      " '罗': 1,\n",
      " '美': 1,\n",
      " '艾': 1,\n",
      " '荐': 1,\n",
      " '著': 1,\n",
      " '译': 1,\n",
      " '阳': 1,\n",
      " '，': 3}\n"
     ]
    }
   ],
   "source": [
    "# __coding:utf8__\n",
    "\n",
    "import pprint\n",
    "def read_file(name):\n",
    "    desk_path = '/Users/caimeijuan/github/myawesome/_src/'\n",
    "    full_path = desk_path + name + '.txt'\n",
    "    file = open(full_path,'r')\n",
    "    return file\n",
    "\n",
    "message = read_file(\"1\").read()\n",
    "count = {}\n",
    "for character in message:\n",
    "    count.setdefault(character,0)\n",
    "    count[character] +=1\n",
    "\n",
    "'''count = zip(count.values(),count.keys())\n",
    "sorted(count,reverse=True) # 按值排序。但结果的数据类型发生了变化，不再是字典，而是zip格式。'''\n",
    "# pprint.pprint(count) # 按键排序\n",
    "print(pprint.pformat(count)) # 和上一句相比没有变化。"
   ]
  },
  {
   "cell_type": "markdown",
   "metadata": {},
   "source": [
    "## 井字棋盘"
   ]
  },
  {
   "cell_type": "code",
   "execution_count": 61,
   "metadata": {
    "collapsed": false,
    "scrolled": true
   },
   "outputs": [
    {
     "name": "stdout",
     "output_type": "stream",
     "text": [
      "-+-+-+-\n",
      "| | | | \n",
      "-+-+-+-\n",
      "| | | | \n",
      "-+-+-+-\n",
      "| | | | \n",
      "-+-+-+-\n",
      "Turn for X. Move on which space?top-R\n",
      "-+-+-+-\n",
      "| | | X| \n",
      "-+-+-+-\n",
      "| | | | \n",
      "-+-+-+-\n",
      "| | | | \n",
      "-+-+-+-\n",
      "Turn for O. Move on which space?low-M\n",
      "-+-+-+-\n",
      "| | | X| \n",
      "-+-+-+-\n",
      "| | | | \n",
      "-+-+-+-\n",
      "| | O| | \n",
      "-+-+-+-\n",
      "Turn for X. Move on which space?mid-L\n",
      "-+-+-+-\n",
      "| | | X| \n",
      "-+-+-+-\n",
      "| X| | | \n",
      "-+-+-+-\n",
      "| | O| | \n",
      "-+-+-+-\n",
      "Turn for O. Move on which space?top-M\n",
      "-+-+-+-\n",
      "| | O| X| \n",
      "-+-+-+-\n",
      "| X| | | \n",
      "-+-+-+-\n",
      "| | O| | \n",
      "-+-+-+-\n",
      "Turn for X. Move on which space?top-L\n",
      "-+-+-+-\n",
      "| X| O| X| \n",
      "-+-+-+-\n",
      "| X| | | \n",
      "-+-+-+-\n",
      "| | O| | \n",
      "-+-+-+-\n",
      "Turn for O. Move on which space?mid-M\n",
      "-+-+-+-\n",
      "| X| O| X| \n",
      "-+-+-+-\n",
      "| X| O| | \n",
      "-+-+-+-\n",
      "| | O| | \n",
      "-+-+-+-\n",
      "Turn for X. Move on which space?low-R\n",
      "-+-+-+-\n",
      "| X| O| X| \n",
      "-+-+-+-\n",
      "| X| O| | \n",
      "-+-+-+-\n",
      "| | O| X| \n",
      "-+-+-+-\n",
      "Turn for O. Move on which space?low-L\n",
      "-+-+-+-\n",
      "| X| O| X| \n",
      "-+-+-+-\n",
      "| X| O| | \n",
      "-+-+-+-\n",
      "| O| O| X| \n",
      "-+-+-+-\n",
      "Turn for X. Move on which space?mid-R\n",
      "-+-+-+-\n",
      "| X| O| X| \n",
      "-+-+-+-\n",
      "| X| O| X| \n",
      "-+-+-+-\n",
      "| O| O| X| \n",
      "-+-+-+-\n"
     ]
    }
   ],
   "source": [
    "theBoard = {'top-L':'','top-M':'','top-R':'','mid-L':'','mid-M':'','mid-R':'','low-L':'','low-M':'','low-R':''}\n",
    "def printBoard(board):\n",
    "    print('-+-+-+-')\n",
    "    print('| '+ board['top-L'] + '| '+ board['top-M'] + '| '+ board['top-R'] + '| ')\n",
    "    print('-+-+-+-')    \n",
    "    print('| '+ board['mid-L'] + '| '+ board['mid-M'] + '| '+ board['mid-R'] + '| ')\n",
    "    print('-+-+-+-')    \n",
    "    print('| '+ board['low-L'] + '| '+ board['low-M'] + '| '+ board['low-R'] + '| ')\n",
    "    print('-+-+-+-')    \n",
    "\n",
    "board = theBoard.copy() # 直接赋值，会和列表一样，原棋盘也发生了变化。\n",
    "turn = 'X'\n",
    "for i in range(9):\n",
    "    printBoard(board)\n",
    "    move = input('Turn for ' + turn + '. Move on which space?')\n",
    "    board[move] = turn\n",
    "    if turn == 'X':\n",
    "        turn = 'O'\n",
    "    else:\n",
    "        turn = 'X'\n",
    "        \n",
    "printBoard(board)"
   ]
  },
  {
   "cell_type": "markdown",
   "metadata": {},
   "source": [
    "## 野餐物品清单"
   ]
  },
  {
   "cell_type": "code",
   "execution_count": 65,
   "metadata": {
    "collapsed": false
   },
   "outputs": [
    {
     "name": "stdout",
     "output_type": "stream",
     "text": [
      "{'Alice': {'apples': 5, 'pretzels': 12}, 'Cindy': {'ham sandwiches': 5, 'cups': 12}, 'Bob': {'ham sandwiches': 3, 'apples': 2}, 'Carol': {'cups': 3, 'apple pies': 1}}\n",
      "We have 7 apples\n",
      "We have 12 pretzels\n",
      "We have 8 ham sandwiches\n",
      "We have 1 apple pies\n",
      "We have 15 cups\n"
     ]
    }
   ],
   "source": [
    "allGuests = {'Alice':{'apples':5, 'pretzels':12}, 'Cindy':{'ham sandwiches':5, 'cups':12}, 'Bob':{'ham sandwiches':3, 'apples':2}, 'Carol':{'cups':3, 'apple pies':1}}\n",
    "def totalBrought(guests, item):\n",
    "    numBrought = 0\n",
    "    for k, v in guests.items():\n",
    "        numBrought = numBrought + v.get(item,0)\n",
    "    print('We have %d %s'%(numBrought,item))\n",
    "\n",
    "print(allGuests)\n",
    "totalBrought(allGuests,'apples')\n",
    "totalBrought(allGuests,'pretzels')\n",
    "totalBrought(allGuests,'ham sandwiches')\n",
    "totalBrought(allGuests,'apple pies')\n",
    "totalBrought(allGuests,'cups')\n"
   ]
  },
  {
   "cell_type": "markdown",
   "metadata": {
    "collapsed": true
   },
   "source": [
    "## 画一个菱形"
   ]
  },
  {
   "cell_type": "code",
   "execution_count": 16,
   "metadata": {
    "collapsed": false
   },
   "outputs": [
    {
     "name": "stdout",
     "output_type": "stream",
     "text": [
      "Enter the length(for a odd number): 9\n",
      "Enter the special string(only a number or alpha or Chinese character): 福\n",
      "-----福-----\n",
      "-----福福福-----\n",
      "-----福福福福福-----\n",
      "-----福福福福福福福-----\n",
      "-----福福福福福福福福福-----\n",
      "-----福福福福福福福-----\n",
      "-----福福福福福-----\n",
      "-----福福福-----\n",
      "-----福-----\n"
     ]
    }
   ],
   "source": [
    "# __coding:utf-8__\n",
    "\n",
    "def is_chinese(uchar):\n",
    "    '''\n",
    "    判断一个unicode是否是汉字\n",
    "    '''\n",
    "    if uchar >= u'\\u4e00' and uchar<=u'\\u9fa5':\n",
    "        return True\n",
    "    else:\n",
    "        return False\n",
    "\n",
    "def paintRhombusEnglish(n, strR): \n",
    "    '''\n",
    "    该程序允许用户输入一个正奇数和一个英文字符或数字，画出边长为这个奇数的正方形中最大的菱形。\n",
    "    '''\n",
    "    for i in range(1,(n+1)//2):\n",
    "        print((strR*(2*i-1)).center(n,'-')) # 如果不用'//'而是用'/'，则运算结果为浮点数，无法继续。\n",
    "    for i in range((n+1)//2,0,-1):\n",
    "        print((strR*(2*i-1)).center(n,'-'))\n",
    "\n",
    "def paintRhombusChinese(n, strR): \n",
    "    '''\n",
    "    该程序允许用户输入一个正奇数和一个汉字字符，画出边长为这个奇数的正方形中最大的菱形。/半个菱形。\n",
    "    '''\n",
    "    for i in range(1,(n+1)//2):\n",
    "        print((strR*(2*i-1)).center(n+2*i,'-')) # 如果不用'//'而是用'/'，则运算结果为浮点数，无法继续。\n",
    "    for i in range((n+1)//2,0,-1):\n",
    "        print((strR*(2*i-1)).center(n+2*i,'-'))      \n",
    "        \n",
    "while True:\n",
    "    '''\n",
    "    如果用户输入的数字不是正奇数，则需要重新输入。\n",
    "    '''\n",
    "    n = input('Enter the length(for a odd number): ')\n",
    "    if n.isdecimal() and int(n)>0 and int(n)%2==1:\n",
    "        n = int(n)\n",
    "        break\n",
    "\n",
    "while True:\n",
    "    '''\n",
    "    如果用户输入的字符不是一位的字母或数字，则需要重新输入。\n",
    "    '''\n",
    "    strR = input('Enter the special string(only a number or alpha or Chinese character): ')\n",
    "    if strR.isalnum() and len(strR)==1:\n",
    "        break\n",
    "\n",
    "'''\n",
    "如果用户输入的字符是一个汉字，程序照旧运行，但是变形了。因为每个汉字占位2个字符。\n",
    "如果用户输入了汉字，则调用汉字画法。如果用户输入了字母或数字，则调用英文画法。\n",
    "'''\n",
    "if is_chinese(strR)==False:\n",
    "    paintRhombusEnglish(n, strR)\n",
    "else:\n",
    "    paintRhombusChinese(n, strR)"
   ]
  },
  {
   "cell_type": "code",
   "execution_count": null,
   "metadata": {
    "collapsed": true
   },
   "outputs": [],
   "source": []
  }
 ],
 "metadata": {
  "kernelspec": {
   "display_name": "Python 3",
   "language": "python",
   "name": "python3"
  },
  "language_info": {
   "codemirror_mode": {
    "name": "ipython",
    "version": 3
   },
   "file_extension": ".py",
   "mimetype": "text/x-python",
   "name": "python",
   "nbconvert_exporter": "python",
   "pygments_lexer": "ipython3",
   "version": "3.7.2"
  }
 },
 "nbformat": 4,
 "nbformat_minor": 0
}
