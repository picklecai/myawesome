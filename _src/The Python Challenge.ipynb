{
 "cells": [
  {
   "cell_type": "markdown",
   "metadata": {},
   "source": [
    "## [The Python Challenge](http://www.pythonchallenge.com/index.php)\n"
   ]
  },
  {
   "cell_type": "markdown",
   "metadata": {},
   "source": [
    "### 第0关  \n",
    "\n",
    "[warming up](http://www.pythonchallenge.com/pc/def/0.html)"
   ]
  },
  {
   "cell_type": "code",
   "execution_count": 1,
   "metadata": {},
   "outputs": [
    {
     "data": {
      "text/plain": [
       "274877906944"
      ]
     },
     "execution_count": 1,
     "metadata": {},
     "output_type": "execute_result"
    }
   ],
   "source": [
    "2**38"
   ]
  },
  {
   "cell_type": "markdown",
   "metadata": {},
   "source": [
    "### 第1关  \n",
    "\n",
    "[What about making trans?](http://www.pythonchallenge.com/pc/def/map.html)"
   ]
  },
  {
   "cell_type": "code",
   "execution_count": 1,
   "metadata": {
    "collapsed": true
   },
   "outputs": [],
   "source": [
    "msg = \"g fmnc wms bgblr rpylqjyrc gr zw fylb. rfyrq ufyr amknsrcpq ypc dmp. bmgle gr gl zw fylb gq glcddgagclr \\\n",
    "ylb rfyr'q ufw rfgq rcvr gq qm jmle. sqgle qrpgle.kyicrpylq() gq pcamkkclbcb. lmu ynnjw ml rfc spj.\"\n",
    "alpha = 'abcdefghijklmnopqrstuvwxyz'\n",
    "beta  = 'cdefghijklmnopqrstuvwxyzab'  "
   ]
  },
  {
   "cell_type": "markdown",
   "metadata": {},
   "source": [
    "原来这种偏移量方法，叫凯撒密码"
   ]
  },
  {
   "cell_type": "markdown",
   "metadata": {},
   "source": [
    "[凯撒密码 - 维基百科，自由的百科全书](https://zh.wikipedia.org/wiki/%E5%87%B1%E6%92%92%E5%AF%86%E7%A2%BC)"
   ]
  },
  {
   "cell_type": "markdown",
   "metadata": {},
   "source": [
    "#### 方法1:\n",
    "\n",
    "自己写的"
   ]
  },
  {
   "cell_type": "code",
   "execution_count": 151,
   "metadata": {},
   "outputs": [
    {
     "name": "stdout",
     "output_type": "stream",
     "text": [
      "i hope you didnt translate it by hand. thats what computers are for. doing it in by hand is inefficient and that's why this text is so long. using string.maketrans() is recommended. now apply on the url.\n"
     ]
    }
   ],
   "source": [
    "def subReplace(alpha, beta, msg):\n",
    "    a = list(alpha)\n",
    "    b = list(beta)\n",
    "    m = list(msg)\n",
    "    for i in range(len(m)):\n",
    "        for j in range(len(a)):\n",
    "            if m[i] == a[j]:\n",
    "                m[i] = b[j]\n",
    "                break\n",
    "    s = ''.join(m)\n",
    "    return s\n",
    "print(subReplace(alpha, beta, msg))"
   ]
  },
  {
   "cell_type": "markdown",
   "metadata": {},
   "source": [
    "#### 方法2:  \n",
    "\n",
    "看了上面的结果后，按提示重新写的："
   ]
  },
  {
   "cell_type": "code",
   "execution_count": 20,
   "metadata": {},
   "outputs": [
    {
     "data": {
      "text/plain": [
       "\"i hope you didnt translate it by hand. thats what computers are for. doing it in by hand is inefficient and that's why this text is so long. using string.maketrans() is recommended. now apply on the url.\""
      ]
     },
     "execution_count": 20,
     "metadata": {},
     "output_type": "execute_result"
    }
   ],
   "source": [
    "def subReplace(alpha, beta, msg):\n",
    "    dictionary = str.maketrans(alpha, beta)\n",
    "    return msg.translate(dictionary)\n",
    "subReplace(alpha, beta, msg)"
   ]
  },
  {
   "cell_type": "code",
   "execution_count": 4,
   "metadata": {},
   "outputs": [
    {
     "data": {
      "text/plain": [
       "str"
      ]
     },
     "execution_count": 4,
     "metadata": {},
     "output_type": "execute_result"
    }
   ],
   "source": [
    "type(msg.translate(str.maketrans(alpha, beta)))"
   ]
  },
  {
   "cell_type": "code",
   "execution_count": 5,
   "metadata": {},
   "outputs": [
    {
     "data": {
      "text/plain": [
       "{97: 99,\n",
       " 98: 100,\n",
       " 99: 101,\n",
       " 100: 102,\n",
       " 101: 103,\n",
       " 102: 104,\n",
       " 103: 105,\n",
       " 104: 106,\n",
       " 105: 107,\n",
       " 106: 108,\n",
       " 107: 109,\n",
       " 108: 110,\n",
       " 109: 111,\n",
       " 110: 112,\n",
       " 111: 113,\n",
       " 112: 114,\n",
       " 113: 115,\n",
       " 114: 116,\n",
       " 115: 117,\n",
       " 116: 118,\n",
       " 117: 119,\n",
       " 118: 120,\n",
       " 119: 121,\n",
       " 120: 122,\n",
       " 121: 97,\n",
       " 122: 98}"
      ]
     },
     "execution_count": 5,
     "metadata": {},
     "output_type": "execute_result"
    }
   ],
   "source": [
    "str.maketrans(alpha, beta)"
   ]
  },
  {
   "cell_type": "markdown",
   "metadata": {},
   "source": [
    "#### 方法2.1  \n",
    "\n",
    "仿照构造字典的方法试一遍"
   ]
  },
  {
   "cell_type": "code",
   "execution_count": 19,
   "metadata": {},
   "outputs": [
    {
     "data": {
      "text/plain": [
       "\"i hope you didnt translate it by hand. thats what computers are for. doing it in by hand is inefficient and that's why this text is so long. using string.maketrans() is recommended. now apply on the url.\""
      ]
     },
     "execution_count": 19,
     "metadata": {},
     "output_type": "execute_result"
    }
   ],
   "source": [
    "def subReplace(alpha, beta, msg):\n",
    "    dictionary = dict(zip(alpha, beta))\n",
    "    m = list(msg)\n",
    "    for i in range(len(m)):\n",
    "        if m[i] in dictionary: #为什么少这个判断就会keyError错误呢？对，因为有非字母字符。\n",
    "            m[i] = dictionary[m[i]]\n",
    "    return ''.join(m)\n",
    "subReplace(alpha, beta, msg)"
   ]
  },
  {
   "cell_type": "markdown",
   "metadata": {},
   "source": [
    "可见，包装成string的方法后，代码简洁了很多，也更容易理解。不知道时间代价如何？"
   ]
  },
  {
   "cell_type": "markdown",
   "metadata": {},
   "source": [
    "#### 方法3:  \n",
    "\n",
    "看了ASCII码转换功能后重新写的："
   ]
  },
  {
   "cell_type": "code",
   "execution_count": 154,
   "metadata": {},
   "outputs": [
    {
     "name": "stdout",
     "output_type": "stream",
     "text": [
      "i hope you didnt translate it by hand. thats what computers are for. doing it in by hand is inefficient and that's why this text is so long. using string.maketrans() is recommended. now apply on the url.\n"
     ]
    }
   ],
   "source": [
    "def subReplace(alpha, msg):\n",
    "    m = []\n",
    "    for i in msg:\n",
    "        if i in alpha and i!='y' and i!='z':\n",
    "            m.append(chr(ord(i)+2))\n",
    "        elif i in 'yz':\n",
    "            m.append(chr(ord(i)-24))\n",
    "        else:\n",
    "            m.append(i)\n",
    "    s = ''.join(m)\n",
    "    return s\n",
    "print(subReplace(alpha, msg))"
   ]
  },
  {
   "cell_type": "markdown",
   "metadata": {},
   "source": [
    "看了答案后改进方法3："
   ]
  },
  {
   "cell_type": "code",
   "execution_count": 155,
   "metadata": {},
   "outputs": [
    {
     "name": "stdout",
     "output_type": "stream",
     "text": [
      "i hope you didnt translate it by hand. thats what computers are for. doing it in by hand is inefficient and that's why this text is so long. using string.maketrans() is recommended. now apply on the url.\n"
     ]
    }
   ],
   "source": [
    "def subReplace(alpha, msg):\n",
    "    m = []\n",
    "    for i in msg:\n",
    "        if i in alpha:\n",
    "            m.append(chr((ord(i)+2-ord('a'))%26+ord('a')))\n",
    "        else:\n",
    "            m.append(i)\n",
    "    s = ''.join(m)\n",
    "    return s\n",
    "print(subReplace(alpha, msg))"
   ]
  },
  {
   "cell_type": "markdown",
   "metadata": {},
   "source": [
    "以上都多了个参数alpha。其实这个翻译密码的过程和alpha无关。规则只是要➕2而已。而且这个过程未考虑到大小写问题。"
   ]
  },
  {
   "cell_type": "code",
   "execution_count": 167,
   "metadata": {
    "collapsed": true
   },
   "outputs": [],
   "source": [
    "msg1 = \"G fmnc wms bgblr rpylqjyrc gr zw fylb, rfyr'q ufyr amknsrcpq ypc dmp. Bmgle gr gl zw fylb gq glcddgagclr ylb rfyr'q ufw rfgq rcvr gq qm jmle. Sqgle qrpgle.kyicrpylq() gq pcamkkclbcb. Lmu ynnjw ml rfc spj.\""
   ]
  },
  {
   "cell_type": "code",
   "execution_count": 168,
   "metadata": {},
   "outputs": [
    {
     "name": "stdout",
     "output_type": "stream",
     "text": [
      "I hope you didnt translate it by hand, that's what computers are for. Doing it in by hand is inefficient and that's why this text is so long. Using string.maketrans() is recommended. Now apply on the url.\n"
     ]
    }
   ],
   "source": [
    "def subReplace(msg1):\n",
    "    m = []\n",
    "    for i in msg1:\n",
    "        if (ord(i)>96 and ord(i)<123): \n",
    "            m.append(chr((ord(i)+2-ord('a'))%26+ord('a')))\n",
    "        elif(ord(i)>64 and ord(i)<91) :\n",
    "            m.append(chr((ord(i)+2-ord('A'))%26+ord('A')))\n",
    "        else:\n",
    "            m.append(i)\n",
    "    s = ''.join(m)\n",
    "    return s\n",
    "print(subReplace(msg1))"
   ]
  },
  {
   "cell_type": "markdown",
   "metadata": {},
   "source": [
    "转下一关："
   ]
  },
  {
   "cell_type": "code",
   "execution_count": 66,
   "metadata": {},
   "outputs": [
    {
     "name": "stdout",
     "output_type": "stream",
     "text": [
      "ocr\n"
     ]
    }
   ],
   "source": [
    "print('map'.translate(dictionary))"
   ]
  },
  {
   "cell_type": "markdown",
   "metadata": {},
   "source": [
    "### 第2关  \n",
    "\n",
    "[ocr](http://www.pythonchallenge.com/pc/def/ocr.html)"
   ]
  },
  {
   "cell_type": "code",
   "execution_count": 1,
   "metadata": {},
   "outputs": [],
   "source": [
    "# 从html文件中读取注释部分的内容\n",
    "import requests, bs4\n",
    "\n",
    "url = 'http://www.pythonchallenge.com/pc/def/ocr.html'\n",
    "'''msgSoup = bs4.BeautifulSoup(requests.get(url).text) # 放弃用soup，改用comment\n",
    "print(msgSoup.find_all(string=lambda text:isinstance(text, bs4.element.Comment)))'''\n",
    "msgComment = bs4.Comment(requests.get(url).text)\n",
    "msg = msgComment.partition('-->\\n\\n<!--\\n')[2].strip('\\n-->')\n",
    "\n",
    "\n",
    "# 原先的办法，粘贴内容为msg，用这段代码把msg的内容写入files里的文件中\n",
    "import os\n",
    "\n",
    "os.chdir(os.path.dirname(os.getcwd()) + '/files')\n",
    "with open(os.getcwd() + '/pycha2.txt', 'w') as file:\n",
    "    file.write(msg)"
   ]
  },
  {
   "cell_type": "markdown",
   "metadata": {},
   "source": [
    "[爬虫入门之爬取策略 XPath与bs4实现(五) - 诚实善良小郎君 - 博客园](https://www.cnblogs.com/why957/p/9235988.html)   \n",
    "\n",
    "每个节点都是Python对象，我们只用根据节点进行查询 , 归纳为4大对象\n",
    "\n",
    "- Tag #节点类型\n",
    "- NavigableString # 标签内容\n",
    "- BeautifulSoup #根节点类型\n",
    "- Comment #注释"
   ]
  },
  {
   "cell_type": "code",
   "execution_count": 9,
   "metadata": {
    "scrolled": false
   },
   "outputs": [],
   "source": [
    "# 用正则\n",
    "import re, requests\n",
    "\n",
    "html = requests.get(url).text\n",
    "msg = re.findall(r'(?<=<!--\\n)([\\s\\S]*?)(?=\\n-->)',html)[1]"
   ]
  },
  {
   "cell_type": "markdown",
   "metadata": {},
   "source": [
    "[如何用BeautifulSoup获取<html>标签外的注释的内容？ - 知乎](https://www.zhihu.com/question/38719841/answer/674247509)  \n",
    "\n",
    "[正则 ?<= 和 ?= 用法 - whaozl - 博客园](https://www.cnblogs.com/whaozl/p/5462865.html)"
   ]
  },
  {
   "cell_type": "code",
   "execution_count": 14,
   "metadata": {},
   "outputs": [
    {
     "data": {
      "text/plain": [
       "[]"
      ]
     },
     "execution_count": 14,
     "metadata": {},
     "output_type": "execute_result"
    }
   ],
   "source": [
    "import re\n",
    "html = requests.get(url).text\n",
    "re.findall(r'(^<!--\\n)([\\s\\S]*?)(\\n-->$)',html) # 这个没成功"
   ]
  },
  {
   "cell_type": "code",
   "execution_count": null,
   "metadata": {},
   "outputs": [],
   "source": []
  },
  {
   "cell_type": "code",
   "execution_count": 90,
   "metadata": {},
   "outputs": [
    {
     "name": "stdout",
     "output_type": "stream",
     "text": [
      "equality\n"
     ]
    }
   ],
   "source": [
    "def countMsg(msg):\n",
    "    count = {}\n",
    "    for character in msg:\n",
    "        count.setdefault(character,0)\n",
    "        count[character] +=1\n",
    "    # 增加计算低频的方法\n",
    "    avgOC = len(msg) // len(count)\n",
    "    result = []\n",
    "    for character in msg:\n",
    "        if count[character]<avgOC and character!='\\n':\n",
    "            result.append(character)\n",
    "    return ''.join(result)    \n",
    "print(countMsg(msg))"
   ]
  },
  {
   "cell_type": "markdown",
   "metadata": {},
   "source": [
    "起先用pprint排序，发现了8个字母各出现1次。但组成的词是什么呢？赶紧去掉排序，结果出来了：equality"
   ]
  },
  {
   "cell_type": "markdown",
   "metadata": {},
   "source": [
    "看了答案后，改用字典的get方法。"
   ]
  },
  {
   "cell_type": "code",
   "execution_count": 32,
   "metadata": {},
   "outputs": [
    {
     "name": "stdout",
     "output_type": "stream",
     "text": [
      "{'%': 6104, '$': 6046, '@': 6157, '_': 6112, '^': 6030, '#': 6115, ')': 6186, '&': 6043, '!': 6079, '+': 6066, ']': 6152, '*': 6034, '}': 6105, '[': 6108, '(': 6154, '{': 6046, '\\n': 1219, 'e': 1, 'q': 1, 'u': 1, 'a': 1, 'l': 1, 'i': 1, 't': 1, 'y': 1}\n",
      "equality\n"
     ]
    }
   ],
   "source": [
    "def countMsg(msg):\n",
    "    count = {}\n",
    "    for character in msg:\n",
    "        count[character] = count.get(character,0) +1\n",
    "    avgOC = len(msg) // len(count)\n",
    "    result = []\n",
    "    for character in msg:\n",
    "        if count[character]<avgOC and character!='\\n':\n",
    "            result.append(character)\n",
    "    print(count)\n",
    "    return ''.join(result)\n",
    "print(countMsg(msg))"
   ]
  },
  {
   "cell_type": "code",
   "execution_count": 2,
   "metadata": {},
   "outputs": [
    {
     "name": "stdout",
     "output_type": "stream",
     "text": [
      "OrderedDict([('%', 6104), ('$', 6046), ('@', 6157), ('_', 6112), ('^', 6030), ('#', 6115), (')', 6186), ('&', 6043), ('!', 6079), ('+', 6066), (']', 6152), ('*', 6034), ('}', 6105), ('[', 6108), ('(', 6154), ('{', 6046), ('\\n', 1219), ('e', 1), ('q', 1), ('u', 1), ('a', 1), ('l', 1), ('i', 1), ('t', 1), ('y', 1)])\n",
      "equality\n"
     ]
    }
   ],
   "source": [
    "import collections\n",
    "\n",
    "def countMsg(msg):\n",
    "    count =  collections.OrderedDict()\n",
    "    for character in msg:\n",
    "        count[character] = count.get(character,0) +1\n",
    "    avgOC = len(msg) // len(count)\n",
    "    result = []\n",
    "    for character in msg:\n",
    "        if count[character]<avgOC and character!='\\n':\n",
    "            result.append(character)\n",
    "    print(count)\n",
    "    return ''.join(result)\n",
    "print(countMsg(msg))"
   ]
  },
  {
   "cell_type": "markdown",
   "metadata": {},
   "source": [
    "collections.OrderedDict()排序，不是按键或值排序，是按放入顺序排序。"
   ]
  },
  {
   "cell_type": "markdown",
   "metadata": {},
   "source": [
    "#### 用string"
   ]
  },
  {
   "cell_type": "code",
   "execution_count": 37,
   "metadata": {},
   "outputs": [
    {
     "data": {
      "text/plain": [
       "'equality'"
      ]
     },
     "execution_count": 37,
     "metadata": {},
     "output_type": "execute_result"
    }
   ],
   "source": [
    "import string\n",
    "\n",
    "''.join(list(filter(lambda x:x in string.ascii_letters, msg)))"
   ]
  },
  {
   "cell_type": "markdown",
   "metadata": {},
   "source": [
    "这个牛叉了啊～～～！！！！"
   ]
  },
  {
   "cell_type": "code",
   "execution_count": 38,
   "metadata": {},
   "outputs": [
    {
     "data": {
      "text/plain": [
       "'abcdefghijklmnopqrstuvwxyzABCDEFGHIJKLMNOPQRSTUVWXYZ'"
      ]
     },
     "execution_count": 38,
     "metadata": {},
     "output_type": "execute_result"
    }
   ],
   "source": [
    "string.ascii_letters"
   ]
  },
  {
   "cell_type": "markdown",
   "metadata": {},
   "source": [
    "它的返回值是26字母大小写的字符串"
   ]
  },
  {
   "cell_type": "markdown",
   "metadata": {},
   "source": [
    "[Python3 filter() 函数 | 菜鸟教程](http://www.runoob.com/python3/python3-func-filter.html)"
   ]
  },
  {
   "cell_type": "markdown",
   "metadata": {},
   "source": [
    "如果msg里埋的都是字母类，这个就失效了。毕竟它没有计算频率。"
   ]
  },
  {
   "cell_type": "code",
   "execution_count": 65,
   "metadata": {},
   "outputs": [
    {
     "name": "stdout",
     "output_type": "stream",
     "text": [
      "equality\n"
     ]
    }
   ],
   "source": [
    "print(''.join([character for character in msg if character.isalpha()]))"
   ]
  },
  {
   "cell_type": "code",
   "execution_count": 67,
   "metadata": {},
   "outputs": [
    {
     "name": "stdout",
     "output_type": "stream",
     "text": [
      "['e', 'q', 'u', 'a', 'l', 'i', 't', 'y']\n"
     ]
    }
   ],
   "source": [
    "import re\n",
    "\n",
    "print(re.findall(r'[a-z]', msg))"
   ]
  },
  {
   "cell_type": "markdown",
   "metadata": {},
   "source": [
    "#### 字符串直接计数"
   ]
  },
  {
   "cell_type": "code",
   "execution_count": 42,
   "metadata": {},
   "outputs": [
    {
     "name": "stdout",
     "output_type": "stream",
     "text": [
      "e : 1\n",
      "q : 1\n",
      "u : 1\n",
      "a : 1\n",
      "l : 1\n",
      "i : 1\n",
      "t : 1\n",
      "y : 1\n"
     ]
    }
   ],
   "source": [
    "for i in msg:\n",
    "    l = msg.count(i)\n",
    "    if l<20:\n",
    "        print('%s : %d'%(i,l))"
   ]
  },
  {
   "cell_type": "markdown",
   "metadata": {},
   "source": [
    "为避免重复计数，加一个条件：  "
   ]
  },
  {
   "cell_type": "code",
   "execution_count": 43,
   "metadata": {},
   "outputs": [
    {
     "name": "stdout",
     "output_type": "stream",
     "text": [
      "equality\n"
     ]
    }
   ],
   "source": [
    "count = {}\n",
    "output = ''\n",
    "for i in msg:\n",
    "    if i in count.keys():\n",
    "        continue\n",
    "    count[i] = msg.count(i)\n",
    "    if count[i]<20:\n",
    "        output += i\n",
    "print(output)"
   ]
  },
  {
   "cell_type": "markdown",
   "metadata": {},
   "source": [
    "#### 用maketrans，只删除不翻译  \n",
    "\n",
    "类似上面那个挑出字母来的做法。"
   ]
  },
  {
   "cell_type": "code",
   "execution_count": 58,
   "metadata": {},
   "outputs": [
    {
     "data": {
      "text/plain": [
       "'equality'"
      ]
     },
     "execution_count": 58,
     "metadata": {},
     "output_type": "execute_result"
    }
   ],
   "source": [
    "translator = str.maketrans('', '', \"[]{}()#$%^@+!*&_\")\n",
    "msg.translate(translator).replace('\\n','')"
   ]
  },
  {
   "cell_type": "code",
   "execution_count": 59,
   "metadata": {},
   "outputs": [
    {
     "data": {
      "text/plain": [
       "{91: None,\n",
       " 93: None,\n",
       " 123: None,\n",
       " 125: None,\n",
       " 40: None,\n",
       " 41: None,\n",
       " 35: None,\n",
       " 36: None,\n",
       " 37: None,\n",
       " 94: None,\n",
       " 64: None,\n",
       " 43: None,\n",
       " 33: None,\n",
       " 42: None,\n",
       " 38: None,\n",
       " 95: None}"
      ]
     },
     "execution_count": 59,
     "metadata": {},
     "output_type": "execute_result"
    }
   ],
   "source": [
    "translator"
   ]
  },
  {
   "cell_type": "markdown",
   "metadata": {},
   "source": [
    "原来相当于把要删除的那些替换（翻译）为None"
   ]
  },
  {
   "cell_type": "code",
   "execution_count": 62,
   "metadata": {},
   "outputs": [
    {
     "ename": "ValueError",
     "evalue": "the first two maketrans arguments must have equal length",
     "output_type": "error",
     "traceback": [
      "\u001b[0;31m---------------------------------------------------------------------------\u001b[0m",
      "\u001b[0;31mValueError\u001b[0m                                Traceback (most recent call last)",
      "\u001b[0;32m<ipython-input-62-33f491679109>\u001b[0m in \u001b[0;36m<module>\u001b[0;34m\u001b[0m\n\u001b[0;32m----> 1\u001b[0;31m \u001b[0mtranslator\u001b[0m \u001b[0;34m=\u001b[0m \u001b[0mstr\u001b[0m\u001b[0;34m.\u001b[0m\u001b[0mmaketrans\u001b[0m\u001b[0;34m(\u001b[0m\u001b[0;34m'[]{}()#$%^@+!*&_'\u001b[0m\u001b[0;34m,\u001b[0m \u001b[0;34m''\u001b[0m\u001b[0;34m)\u001b[0m\u001b[0;34m\u001b[0m\u001b[0;34m\u001b[0m\u001b[0m\n\u001b[0m\u001b[1;32m      2\u001b[0m \u001b[0mmsg\u001b[0m\u001b[0;34m.\u001b[0m\u001b[0mtranslate\u001b[0m\u001b[0;34m(\u001b[0m\u001b[0mtranslator\u001b[0m\u001b[0;34m)\u001b[0m\u001b[0;34m.\u001b[0m\u001b[0mreplace\u001b[0m\u001b[0;34m(\u001b[0m\u001b[0;34m'\\n'\u001b[0m\u001b[0;34m,\u001b[0m\u001b[0;34m''\u001b[0m\u001b[0;34m)\u001b[0m\u001b[0;34m\u001b[0m\u001b[0;34m\u001b[0m\u001b[0m\n",
      "\u001b[0;31mValueError\u001b[0m: the first two maketrans arguments must have equal length"
     ]
    }
   ],
   "source": [
    "translator = str.maketrans('[]{}()#$%^@+!*&_', '')\n",
    "msg.translate(translator).replace('\\n','')"
   ]
  },
  {
   "cell_type": "markdown",
   "metadata": {},
   "source": [
    "不能直接这样写，因为查找字符串和替代字符串有一一对应的关系，必须数量相等。"
   ]
  },
  {
   "cell_type": "markdown",
   "metadata": {},
   "source": [
    "#### 不计频，只看有没有出现过"
   ]
  },
  {
   "cell_type": "code",
   "execution_count": 61,
   "metadata": {},
   "outputs": [
    {
     "name": "stdout",
     "output_type": "stream",
     "text": [
      "%$@_^#)&!+]*}[({\n",
      "equality\n"
     ]
    }
   ],
   "source": [
    "tab = []\n",
    "for i in msg:\n",
    "    if tab.count(i)==0:\n",
    "        tab.append(i)\n",
    "print(''.join(tab))"
   ]
  },
  {
   "cell_type": "markdown",
   "metadata": {},
   "source": [
    "才知道列表可以直接对其中的元素进行计数  "
   ]
  },
  {
   "cell_type": "markdown",
   "metadata": {},
   "source": [
    "#### 用集合"
   ]
  },
  {
   "cell_type": "code",
   "execution_count": 70,
   "metadata": {},
   "outputs": [
    {
     "name": "stdout",
     "output_type": "stream",
     "text": [
      "(: 6154\n",
      "a: 1\n",
      "e: 1\n",
      "): 6186\n",
      "#: 6115\n",
      "}: 6105\n",
      "^: 6030\n",
      "*: 6034\n",
      "$: 6046\n",
      "u: 1\n",
      "t: 1\n",
      "[: 6108\n",
      "+: 6066\n",
      "l: 1\n",
      "y: 1\n",
      "]: 6152\n",
      "%: 6104\n",
      "\n",
      ": 1219\n",
      "q: 1\n",
      "!: 6079\n",
      "&: 6043\n",
      "_: 6112\n",
      "@: 6157\n",
      "i: 1\n",
      "{: 6046\n"
     ]
    }
   ],
   "source": [
    "checklist = set(msg)\n",
    "for i in checklist:\n",
    "    print('%s: %d'%(i, msg.count(i)))"
   ]
  },
  {
   "cell_type": "markdown",
   "metadata": {},
   "source": [
    "由于是集合，顺序没有了，需要挑出来重新组合排序才能得到。"
   ]
  },
  {
   "cell_type": "code",
   "execution_count": null,
   "metadata": {
    "collapsed": true
   },
   "outputs": [],
   "source": []
  },
  {
   "cell_type": "markdown",
   "metadata": {},
   "source": [
    "### 第3关  \n",
    "\n",
    "[re](http://www.pythonchallenge.com/pc/def/equality.html)"
   ]
  },
  {
   "cell_type": "code",
   "execution_count": 20,
   "metadata": {
    "collapsed": true
   },
   "outputs": [],
   "source": [
    "# 从html文件中读取注释部分的内容\n",
    "import requests, bs4\n",
    "\n",
    "url = 'http://www.pythonchallenge.com/pc/def/equality.html'\n",
    "msgSoup = bs4.BeautifulSoup(requests.get(url).text) # 这个页面只有1个comment，可以用soup，不需要改用comment\n",
    "msg = (msgSoup.find_all(string=lambda text:isinstance(text, bs4.element.Comment)))[0].strip('\\n')\n",
    "\n",
    "\n",
    "# 原先的办法，粘贴内容为msg，用这段代码把msg的内容写入files里的文件中\n",
    "import os\n",
    "\n",
    "os.chdir(os.path.dirname(os.getcwd()) + '/files')\n",
    "with open(os.getcwd() + '/pycha3.txt', 'w') as file:\n",
    "    file.write(msg)"
   ]
  },
  {
   "cell_type": "code",
   "execution_count": 21,
   "metadata": {
    "scrolled": true
   },
   "outputs": [
    {
     "name": "stdout",
     "output_type": "stream",
     "text": [
      "linkedlist\n"
     ]
    }
   ],
   "source": [
    "import re\n",
    "msgRegEx = re.compile(r'[a-z]+[A-Z]{3}[a-z][A-Z]{3}[a-z]+') #前后不能是连续的大写字母，所以头尾加上至少1个小写字母。\n",
    "mo = msgRegEx.findall(msg)\n",
    "#print(mo)\n",
    "#新问题是怎么把中间的小写字母提取出来。\n",
    "m = []\n",
    "for i in mo:\n",
    "    for j in range(1,len(i)-1):\n",
    "        if ord(i[j-1])<=90 and ord(i[j])>=97 and ord(i[j+1])<=90 :\n",
    "            m.append(i[j])\n",
    "s = ''.join(m)\n",
    "print(s)"
   ]
  },
  {
   "cell_type": "markdown",
   "metadata": {},
   "source": [
    "使用分组，就可以不用考虑怎么提取中间小写字母的问题，只会输出分组。"
   ]
  },
  {
   "cell_type": "code",
   "execution_count": 21,
   "metadata": {},
   "outputs": [
    {
     "name": "stdout",
     "output_type": "stream",
     "text": [
      "linkedlist\n"
     ]
    }
   ],
   "source": [
    "import re\n",
    "print(''.join(re.compile(r'[a-z]+[A-Z]{3}([a-z])[A-Z]{3}[a-z]+').findall(msg)))"
   ]
  },
  {
   "cell_type": "markdown",
   "metadata": {},
   "source": [
    "原来`re.compile(r'Regex').finall(string)`相当于`re.findall(r'Regex', string)`"
   ]
  },
  {
   "cell_type": "code",
   "execution_count": 23,
   "metadata": {},
   "outputs": [
    {
     "name": "stdout",
     "output_type": "stream",
     "text": [
      "linkedlist\n"
     ]
    }
   ],
   "source": [
    "import re\n",
    "print(''.join(re.findall(r'[a-z]+[A-Z]{3}([a-z])[A-Z]{3}[a-z]+', msg)))"
   ]
  },
  {
   "cell_type": "markdown",
   "metadata": {},
   "source": [
    "如果正则也照顾到‘非大写字母’的话，这么写：  "
   ]
  },
  {
   "cell_type": "code",
   "execution_count": 24,
   "metadata": {},
   "outputs": [
    {
     "name": "stdout",
     "output_type": "stream",
     "text": [
      "linkedlist\n"
     ]
    }
   ],
   "source": [
    "import re\n",
    "print(''.join(re.findall(r'[^A-Z][A-Z]{3}([a-z])[A-Z]{3}[^A-Z]', msg)))"
   ]
  },
  {
   "cell_type": "markdown",
   "metadata": {},
   "source": [
    "#### 9字符串"
   ]
  },
  {
   "cell_type": "markdown",
   "metadata": {},
   "source": [
    "[python 3.x中列表中元素删除del、remove、pop的用法及区别 - 黑马Tony.bin - CSDN博客](https://blog.csdn.net/deqiangxiaozi/article/details/75808863)\n",
    "\n",
    "del语句没法用于字符串，只能用于list。"
   ]
  },
  {
   "cell_type": "code",
   "execution_count": 17,
   "metadata": {},
   "outputs": [
    {
     "name": "stdout",
     "output_type": "stream",
     "text": [
      "linkedlist\n"
     ]
    }
   ],
   "source": [
    "nineChar = list(' '*9)\n",
    "onechar = []\n",
    "for char in msg:\n",
    "    del nineChar[0]\n",
    "    nineChar.append(char)\n",
    "    if not nineChar[0].isupper() and nineChar[1].isupper() and nineChar[2].isupper() and nineChar[3].isupper()\\\n",
    "     and nineChar[4].islower() and nineChar[5].isupper() and nineChar[6].isupper() and nineChar[7].isupper()\\\n",
    "         and not nineChar[8].isupper():\n",
    "                onechar.append(nineChar[4])\n",
    "print(''.join(onechar))"
   ]
  },
  {
   "cell_type": "markdown",
   "metadata": {},
   "source": [
    "### 第4关  \n",
    "\n",
    "[follow the chain](http://www.pythonchallenge.com/pc/def/linkedlist.php)"
   ]
  },
  {
   "cell_type": "markdown",
   "metadata": {},
   "source": [
    "[详解 python3 urllib - 简书](https://www.jianshu.com/p/2e190438bd9c)\n",
    "\n",
    "要用到urllib，先学习。\n",
    "\n",
    "本题题干：nothing初始值为‘12345’，点击图片，则nothing值发生了变化。页面跳转，下一个页面提示next nothing。用下一个nothing值代入url，则继续跳转到下一个nothing。\n",
    "\n",
    "初始页面网址：http://www.pythonchallenge.com/pc/def/linkedlist.php\n",
    "以后的网址如：http://www.pythonchallenge.com/pc/def/linkedlist.php?nothing=12345\n",
    "网页内容也只是一句‘and the next nothing is 72198’。\n",
    "\n",
    "程序要做的事情：\n",
    "1. url初始值赋值\n",
    "2. 为url添加`?nothing=xxxx`\n",
    "3. 读取新url的网页中的阿拉伯数字部分(可以用re)，并赋值给nothing."
   ]
  },
  {
   "cell_type": "code",
   "execution_count": 52,
   "metadata": {
    "scrolled": true
   },
   "outputs": [
    {
     "name": "stdout",
     "output_type": "stream",
     "text": [
      "b'peak.html'\n"
     ]
    }
   ],
   "source": [
    "import urllib\n",
    "import re\n",
    "\n",
    "digital = '12345'\n",
    "txt = open('url.txt','a')\n",
    "while True:\n",
    "    url = 'http://www.pythonchallenge.com/pc/def/linkedlist.php' + '?nothing=' + digital\n",
    "    #print('url is: ', url,'\\n')\n",
    "    response = urllib.request.urlopen(url, timeout=5)\n",
    "    message = str(response.read())\n",
    "    if message.find('html')!=-1:\n",
    "        print(message)\n",
    "        break\n",
    "    digitalRegex = re.compile(r'\\d+')\n",
    "    mo = digitalRegex.findall(message)\n",
    "    if len(mo)<=1:\n",
    "        try:\n",
    "            digital = mo[0]\n",
    "        except (AttributeError,IndexError):\n",
    "            digital = str(16044/2)\n",
    "    elif len(mo)==2:\n",
    "        digital = mo[1]\n",
    "    #print(i,':',message)\n",
    "    #txt.write(message+'\\n')\n",
    "txt.close()"
   ]
  },
  {
   "cell_type": "markdown",
   "metadata": {},
   "source": [
    "好几个坑。最后也没像他说的那样要400次，而是250次。"
   ]
  },
  {
   "cell_type": "code",
   "execution_count": 53,
   "metadata": {},
   "outputs": [
    {
     "name": "stdout",
     "output_type": "stream",
     "text": [
      "252 peak.html\n"
     ]
    }
   ],
   "source": [
    "import re, requests\n",
    "\n",
    "digital = '12345'\n",
    "i = 1\n",
    "while True:\n",
    "    url = 'http://www.pythonchallenge.com/pc/def/linkedlist.php' + '?nothing=' + digital\n",
    "    i+=1\n",
    "    p = requests.get(url, verify=False, timeout=None)\n",
    "    if 'Divide' in p.text:\n",
    "        digital = str(int(digital)/2)\n",
    "    else:\n",
    "        digital = ''.join(re.findall(r'nothing is (\\d+)', p.text))\n",
    "    if p.text.find('html')!=-1:\n",
    "        break\n",
    "print(i, p.text)"
   ]
  },
  {
   "cell_type": "markdown",
   "metadata": {},
   "source": [
    "有时网络不稳定，就容易timeout了。"
   ]
  },
  {
   "cell_type": "markdown",
   "metadata": {},
   "source": [
    "`if 'Divide' in p.text`这一句，避免了16044/2的莫名其妙。  \n",
    "`''.join(re.findall(r'nothing is (\\d+)', p.text))`这一句可能避免了两个数字那个的坑。  \n",
    "\n",
    "把两个数字那个打出来看看：  "
   ]
  },
  {
   "cell_type": "code",
   "execution_count": 59,
   "metadata": {},
   "outputs": [
    {
     "name": "stdout",
     "output_type": "stream",
     "text": [
      "4 <font color=red>Your hands are getting tired </font>and the next nothing is 94485\n",
      "87 Yes. Divide by two and keep going.\n",
      "142 There maybe misleading numbers in the \n",
      "text. One example is 82683. Look only for the next nothing and the next nothing is 63579\n",
      "252 peak.html\n"
     ]
    }
   ],
   "source": [
    "import re, requests\n",
    "\n",
    "digital = '12345'\n",
    "i = 1\n",
    "while True:\n",
    "    url = 'http://www.pythonchallenge.com/pc/def/linkedlist.php' + '?nothing=' + digital\n",
    "    i+=1\n",
    "    p = requests.get(url, verify=False, timeout=None)\n",
    "    if 'Divide' in p.text:\n",
    "        digital = str(int(digital)/2)\n",
    "    else:\n",
    "        digital = ''.join(re.findall(r'nothing is (\\d+)', p.text))\n",
    "    if p.text.find('html')!=-1:\n",
    "        break\n",
    "    if i in [4,87,142, 252]:\n",
    "        print(i, p.text)\n",
    "print(i, p.text)"
   ]
  },
  {
   "cell_type": "markdown",
   "metadata": {
    "collapsed": true
   },
   "source": [
    "### 第5关  \n",
    "\n",
    "[peak hell](http://www.pythonchallenge.com/pc/def/peak.html)"
   ]
  },
  {
   "cell_type": "code",
   "execution_count": 1,
   "metadata": {
    "collapsed": true
   },
   "outputs": [],
   "source": [
    "import pickle"
   ]
  },
  {
   "cell_type": "markdown",
   "metadata": {},
   "source": [
    "通过下面两段，学习了pickle模块。之前找的，都没理解。"
   ]
  },
  {
   "cell_type": "code",
   "execution_count": 35,
   "metadata": {},
   "outputs": [],
   "source": [
    "a_dict = {'da': 111, 2: [23,1,4], '23': {1:2,'d':'sad'}}\n",
    "file = open('pickle.pickle', 'wb')\n",
    "pickle.dump(a_dict, file)\n",
    "file.close()"
   ]
  },
  {
   "cell_type": "code",
   "execution_count": 36,
   "metadata": {},
   "outputs": [
    {
     "name": "stdout",
     "output_type": "stream",
     "text": [
      "{'da': 111, 2: [23, 1, 4], '23': {1: 2, 'd': 'sad'}}\n"
     ]
    }
   ],
   "source": [
    "with open('pickle.pickle', 'rb') as file:\n",
    "    a_dict1 = pickle.load(file)\n",
    "print(a_dict1)"
   ]
  },
  {
   "cell_type": "markdown",
   "metadata": {},
   "source": [
    "觉得应该直接把banner.p下载下来，而不是复制其中的文本。否则有编码问题。于是用了这两天学的requests."
   ]
  },
  {
   "cell_type": "code",
   "execution_count": 38,
   "metadata": {},
   "outputs": [
    {
     "name": "stdout",
     "output_type": "stream",
     "text": [
      "[(' ', 95)]\n",
      "[(' ', 14), ('#', 5), (' ', 70), ('#', 5), (' ', 1)]\n",
      "[(' ', 15), ('#', 4), (' ', 71), ('#', 4), (' ', 1)]\n",
      "[(' ', 15), ('#', 4), (' ', 71), ('#', 4), (' ', 1)]\n",
      "[(' ', 15), ('#', 4), (' ', 71), ('#', 4), (' ', 1)]\n",
      "[(' ', 15), ('#', 4), (' ', 71), ('#', 4), (' ', 1)]\n",
      "[(' ', 15), ('#', 4), (' ', 71), ('#', 4), (' ', 1)]\n",
      "[(' ', 15), ('#', 4), (' ', 71), ('#', 4), (' ', 1)]\n",
      "[(' ', 15), ('#', 4), (' ', 71), ('#', 4), (' ', 1)]\n",
      "[(' ', 6), ('#', 3), (' ', 6), ('#', 4), (' ', 3), ('#', 3), (' ', 9), ('#', 3), (' ', 7), ('#', 5), (' ', 3), ('#', 3), (' ', 4), ('#', 5), (' ', 3), ('#', 3), (' ', 10), ('#', 3), (' ', 7), ('#', 4), (' ', 1)]\n",
      "[(' ', 3), ('#', 3), (' ', 3), ('#', 2), (' ', 4), ('#', 4), (' ', 1), ('#', 7), (' ', 5), ('#', 2), (' ', 2), ('#', 3), (' ', 6), ('#', 4), (' ', 1), ('#', 7), (' ', 3), ('#', 4), (' ', 1), ('#', 7), (' ', 5), ('#', 3), (' ', 2), ('#', 3), (' ', 5), ('#', 4), (' ', 1)]\n",
      "[(' ', 2), ('#', 3), (' ', 5), ('#', 3), (' ', 2), ('#', 5), (' ', 4), ('#', 4), (' ', 3), ('#', 3), (' ', 3), ('#', 4), (' ', 4), ('#', 5), (' ', 4), ('#', 4), (' ', 2), ('#', 5), (' ', 4), ('#', 4), (' ', 3), ('#', 3), (' ', 5), ('#', 3), (' ', 3), ('#', 4), (' ', 1)]\n",
      "[(' ', 1), ('#', 3), (' ', 11), ('#', 4), (' ', 5), ('#', 4), (' ', 3), ('#', 3), (' ', 4), ('#', 3), (' ', 4), ('#', 4), (' ', 5), ('#', 4), (' ', 2), ('#', 4), (' ', 5), ('#', 4), (' ', 2), ('#', 3), (' ', 6), ('#', 4), (' ', 2), ('#', 4), (' ', 1)]\n",
      "[(' ', 1), ('#', 3), (' ', 11), ('#', 4), (' ', 5), ('#', 4), (' ', 10), ('#', 3), (' ', 4), ('#', 4), (' ', 5), ('#', 4), (' ', 2), ('#', 4), (' ', 5), ('#', 4), (' ', 2), ('#', 3), (' ', 7), ('#', 3), (' ', 2), ('#', 4), (' ', 1)]\n",
      "[('#', 4), (' ', 11), ('#', 4), (' ', 5), ('#', 4), (' ', 5), ('#', 2), (' ', 3), ('#', 3), (' ', 4), ('#', 4), (' ', 5), ('#', 4), (' ', 2), ('#', 4), (' ', 5), ('#', 4), (' ', 1), ('#', 4), (' ', 7), ('#', 3), (' ', 2), ('#', 4), (' ', 1)]\n",
      "[('#', 4), (' ', 11), ('#', 4), (' ', 5), ('#', 4), (' ', 3), ('#', 10), (' ', 4), ('#', 4), (' ', 5), ('#', 4), (' ', 2), ('#', 4), (' ', 5), ('#', 4), (' ', 1), ('#', 14), (' ', 2), ('#', 4), (' ', 1)]\n",
      "[('#', 4), (' ', 11), ('#', 4), (' ', 5), ('#', 4), (' ', 2), ('#', 3), (' ', 4), ('#', 4), (' ', 4), ('#', 4), (' ', 5), ('#', 4), (' ', 2), ('#', 4), (' ', 5), ('#', 4), (' ', 1), ('#', 4), (' ', 12), ('#', 4), (' ', 1)]\n",
      "[('#', 4), (' ', 11), ('#', 4), (' ', 5), ('#', 4), (' ', 1), ('#', 4), (' ', 5), ('#', 3), (' ', 4), ('#', 4), (' ', 5), ('#', 4), (' ', 2), ('#', 4), (' ', 5), ('#', 4), (' ', 1), ('#', 4), (' ', 12), ('#', 4), (' ', 1)]\n",
      "[(' ', 1), ('#', 3), (' ', 11), ('#', 4), (' ', 5), ('#', 4), (' ', 1), ('#', 4), (' ', 5), ('#', 3), (' ', 4), ('#', 4), (' ', 5), ('#', 4), (' ', 2), ('#', 4), (' ', 5), ('#', 4), (' ', 2), ('#', 3), (' ', 12), ('#', 4), (' ', 1)]\n",
      "[(' ', 2), ('#', 3), (' ', 6), ('#', 2), (' ', 2), ('#', 4), (' ', 5), ('#', 4), (' ', 2), ('#', 3), (' ', 4), ('#', 4), (' ', 4), ('#', 4), (' ', 5), ('#', 4), (' ', 2), ('#', 4), (' ', 5), ('#', 4), (' ', 3), ('#', 3), (' ', 6), ('#', 2), (' ', 3), ('#', 4), (' ', 1)]\n",
      "[(' ', 3), ('#', 3), (' ', 4), ('#', 2), (' ', 3), ('#', 4), (' ', 5), ('#', 4), (' ', 3), ('#', 11), (' ', 3), ('#', 4), (' ', 5), ('#', 4), (' ', 2), ('#', 4), (' ', 5), ('#', 4), (' ', 4), ('#', 3), (' ', 4), ('#', 2), (' ', 4), ('#', 4), (' ', 1)]\n",
      "[(' ', 6), ('#', 3), (' ', 5), ('#', 6), (' ', 4), ('#', 5), (' ', 4), ('#', 2), (' ', 4), ('#', 4), (' ', 1), ('#', 6), (' ', 4), ('#', 11), (' ', 4), ('#', 5), (' ', 6), ('#', 3), (' ', 6), ('#', 6)]\n",
      "[(' ', 95)]\n"
     ]
    }
   ],
   "source": [
    "import requests\n",
    "\n",
    "url = 'http://www.pythonchallenge.com/pc/def/banner.p'\n",
    "res = requests.get(url)\n",
    "res.raise_for_status()\n",
    "\n",
    "file = open('banner.pickle', 'wb')\n",
    "for chunk in res.iter_content(100000):\n",
    "    file.write(chunk)\n",
    "file.close()\n",
    "\n",
    "with open('banner.pickle', 'rb') as file:\n",
    "    a = pickle.load(file)\n",
    "for i in range(len(a)):\n",
    "    print(a[i])"
   ]
  },
  {
   "cell_type": "markdown",
   "metadata": {},
   "source": [
    "通过打印结果，发现是个由元组组成的列表，且每一个列表项，其中的数字相加都是95。于是怀疑这是要“画画儿”。"
   ]
  },
  {
   "cell_type": "code",
   "execution_count": 29,
   "metadata": {},
   "outputs": [
    {
     "name": "stdout",
     "output_type": "stream",
     "text": [
      "                                                                                               \n",
      "\n",
      "              #####                                                                      ##### \n",
      "\n",
      "               ####                                                                       #### \n",
      "\n",
      "               ####                                                                       #### \n",
      "\n",
      "               ####                                                                       #### \n",
      "\n",
      "               ####                                                                       #### \n",
      "\n",
      "               ####                                                                       #### \n",
      "\n",
      "               ####                                                                       #### \n",
      "\n",
      "               ####                                                                       #### \n",
      "\n",
      "      ###      ####   ###         ###       #####   ###    #####   ###          ###       #### \n",
      "\n",
      "   ###   ##    #### #######     ##  ###      #### #######   #### #######     ###  ###     #### \n",
      "\n",
      "  ###     ###  #####    ####   ###   ####    #####    ####  #####    ####   ###     ###   #### \n",
      "\n",
      " ###           ####     ####   ###    ###    ####     ####  ####     ####  ###      ####  #### \n",
      "\n",
      " ###           ####     ####          ###    ####     ####  ####     ####  ###       ###  #### \n",
      "\n",
      "####           ####     ####     ##   ###    ####     ####  ####     #### ####       ###  #### \n",
      "\n",
      "####           ####     ####   ##########    ####     ####  ####     #### ##############  #### \n",
      "\n",
      "####           ####     ####  ###    ####    ####     ####  ####     #### ####            #### \n",
      "\n",
      "####           ####     #### ####     ###    ####     ####  ####     #### ####            #### \n",
      "\n",
      " ###           ####     #### ####     ###    ####     ####  ####     ####  ###            #### \n",
      "\n",
      "  ###      ##  ####     ####  ###    ####    ####     ####  ####     ####   ###      ##   #### \n",
      "\n",
      "   ###    ##   ####     ####   ###########   ####     ####  ####     ####    ###    ##    #### \n",
      "\n",
      "      ###     ######    #####    ##    #### ######    ###########    #####      ###      ######\n",
      "\n",
      "                                                                                               \n",
      "\n"
     ]
    }
   ],
   "source": [
    "for i in range(len(a)):\n",
    "    for j in range(len(a[i])):\n",
    "        print(a[i][j][0]*int(a[i][j][1]),end='')\n",
    "    print('\\n')"
   ]
  },
  {
   "cell_type": "markdown",
   "metadata": {},
   "source": [
    "由于屏幕比较小，对英文字母也不熟（大雾）。通过反复拖动鼠标，花式辨认，排除了dr等，最终确认画的是“channel“。输入，第6关出现。"
   ]
  },
  {
   "cell_type": "markdown",
   "metadata": {},
   "source": [
    "#### 不存文件的写法"
   ]
  },
  {
   "cell_type": "code",
   "execution_count": 64,
   "metadata": {},
   "outputs": [
    {
     "name": "stdout",
     "output_type": "stream",
     "text": [
      "                                                                                               \n",
      "              #####                                                                      ##### \n",
      "               ####                                                                       #### \n",
      "               ####                                                                       #### \n",
      "               ####                                                                       #### \n",
      "               ####                                                                       #### \n",
      "               ####                                                                       #### \n",
      "               ####                                                                       #### \n",
      "               ####                                                                       #### \n",
      "      ###      ####   ###         ###       #####   ###    #####   ###          ###       #### \n",
      "   ###   ##    #### #######     ##  ###      #### #######   #### #######     ###  ###     #### \n",
      "  ###     ###  #####    ####   ###   ####    #####    ####  #####    ####   ###     ###   #### \n",
      " ###           ####     ####   ###    ###    ####     ####  ####     ####  ###      ####  #### \n",
      " ###           ####     ####          ###    ####     ####  ####     ####  ###       ###  #### \n",
      "####           ####     ####     ##   ###    ####     ####  ####     #### ####       ###  #### \n",
      "####           ####     ####   ##########    ####     ####  ####     #### ##############  #### \n",
      "####           ####     ####  ###    ####    ####     ####  ####     #### ####            #### \n",
      "####           ####     #### ####     ###    ####     ####  ####     #### ####            #### \n",
      " ###           ####     #### ####     ###    ####     ####  ####     ####  ###            #### \n",
      "  ###      ##  ####     ####  ###    ####    ####     ####  ####     ####   ###      ##   #### \n",
      "   ###    ##   ####     ####   ###########   ####     ####  ####     ####    ###    ##    #### \n",
      "      ###     ######    #####    ##    #### ######    ###########    #####      ###      ######\n",
      "                                                                                               \n"
     ]
    }
   ],
   "source": [
    "import requests, pickle\n",
    "\n",
    "url = 'http://www.pythonchallenge.com/pc/def/banner.p'\n",
    "a = pickle.loads(requests.get(url).content)\n",
    "\n",
    "# 画画的新写法，用列表推导式\n",
    "for line in a:\n",
    "    print(''.join([ch*count for ch, count in line ]))"
   ]
  },
  {
   "cell_type": "markdown",
   "metadata": {},
   "source": [
    "还可以合并列表推导式："
   ]
  },
  {
   "cell_type": "code",
   "execution_count": 70,
   "metadata": {},
   "outputs": [
    {
     "name": "stdout",
     "output_type": "stream",
     "text": [
      "                                                                                               \n",
      "              #####                                                                      ##### \n",
      "               ####                                                                       #### \n",
      "               ####                                                                       #### \n",
      "               ####                                                                       #### \n",
      "               ####                                                                       #### \n",
      "               ####                                                                       #### \n",
      "               ####                                                                       #### \n",
      "               ####                                                                       #### \n",
      "      ###      ####   ###         ###       #####   ###    #####   ###          ###       #### \n",
      "   ###   ##    #### #######     ##  ###      #### #######   #### #######     ###  ###     #### \n",
      "  ###     ###  #####    ####   ###   ####    #####    ####  #####    ####   ###     ###   #### \n",
      " ###           ####     ####   ###    ###    ####     ####  ####     ####  ###      ####  #### \n",
      " ###           ####     ####          ###    ####     ####  ####     ####  ###       ###  #### \n",
      "####           ####     ####     ##   ###    ####     ####  ####     #### ####       ###  #### \n",
      "####           ####     ####   ##########    ####     ####  ####     #### ##############  #### \n",
      "####           ####     ####  ###    ####    ####     ####  ####     #### ####            #### \n",
      "####           ####     #### ####     ###    ####     ####  ####     #### ####            #### \n",
      " ###           ####     #### ####     ###    ####     ####  ####     ####  ###            #### \n",
      "  ###      ##  ####     ####  ###    ####    ####     ####  ####     ####   ###      ##   #### \n",
      "   ###    ##   ####     ####   ###########   ####     ####  ####     ####    ###    ##    #### \n",
      "      ###     ######    #####    ##    #### ######    ###########    #####      ###      ######\n",
      "                                                                                               \n"
     ]
    }
   ],
   "source": [
    "print('\\n'.join([''.join([ch*count for ch, count in line]) for line in a]))"
   ]
  },
  {
   "cell_type": "markdown",
   "metadata": {},
   "source": [
    "感觉用新的画法更容易辨认了，主要是行距小了。这样的效果，基本不需要再花式辨认了。  "
   ]
  },
  {
   "cell_type": "markdown",
   "metadata": {},
   "source": [
    "### 第6关 \n",
    "\n",
    "[now there are pairs](http://www.pythonchallenge.com/pc/def/channel.html)"
   ]
  },
  {
   "cell_type": "markdown",
   "metadata": {},
   "source": [
    "有个channel.zip文件需要下载，里面有若干txt文件，乍一看以为到了urllib那一关，因为每个都写着'The next nothing is '+一串数字。"
   ]
  },
  {
   "cell_type": "markdown",
   "metadata": {},
   "source": [
    "打开文件名，  \n",
    "读取其中的数字，  \n",
    "用数字+txt做新的文件名，  \n",
    "继续打开文件名，  \n",
    "……  \n",
    "最好把结果计入一个列表中，以便观察。"
   ]
  },
  {
   "cell_type": "code",
   "execution_count": 1,
   "metadata": {
    "scrolled": true
   },
   "outputs": [
    {
     "name": "stdout",
     "output_type": "stream",
     "text": [
      "Collect the comments.\n"
     ]
    }
   ],
   "source": [
    "import os,re\n",
    "\n",
    "digitalRegex = re.compile('\\d{2,5}')\n",
    "\n",
    "path = './channel/'\n",
    "#files = os.listdir(path) #把这个目录下的所有文件都读出来\n",
    "list_numbers = []\n",
    "filename = 'readme.txt'\n",
    "while True:\n",
    "    try:\n",
    "        file = open(path+filename)\n",
    "        text = file.read()\n",
    "        next_number = int(digitalRegex.search(text).group())\n",
    "        list_numbers.append(next_number)\n",
    "        file.close()\n",
    "        filename = str(next_number)+ '.txt'  \n",
    "    except:\n",
    "        print(text)\n",
    "        break"
   ]
  },
  {
   "cell_type": "code",
   "execution_count": 2,
   "metadata": {},
   "outputs": [],
   "source": [
    "import zipfile"
   ]
  },
  {
   "cell_type": "code",
   "execution_count": 5,
   "metadata": {},
   "outputs": [],
   "source": [
    "channelFile = zipfile.ZipFile('./channel.zip')"
   ]
  },
  {
   "cell_type": "code",
   "execution_count": 67,
   "metadata": {
    "scrolled": false
   },
   "outputs": [
    {
     "name": "stdout",
     "output_type": "stream",
     "text": [
      "E Y  *E  Y ON *****  *Y *E\n",
      "*OG  \n",
      "* Y    G E* Y   E* N*  G**G*   ** * * *  * O    X**E *E*    * X *   *   GE Y**OOGX*** ** *   *E **X O E* E  *** *\n",
      " N   * XG E  * NN  G*   XEX** Y XN  *OO O  *G G*OO G*Y**    *Y N Y*  X*\n",
      " *G***  N   N  * \n",
      "  X**Y * E* **YO***N * *** X* E*  ** X\n",
      "O***   X*\n",
      "N * *X\n",
      "  * * *   * *G  ** O  YN X N ***Y   ***  ***X ***E  E **E   *N*G* ** Y E**  ** *   ** O* * **  OG** OO  O***\n",
      " X  Y**  G E  ** E** Y **  X N*YO* O X  X* GN* Y***  X* *O * O G* *O N*** G\n",
      " E *N*YE  **O* E*  * *  ***  * *N*   E*Y\n",
      "  *NY   * E X* O   * *  * YG* NYG  ** O**   O     \n",
      "E  *Y   GY  ** X  ** **  G E** **  *O* * **** * * *  *** *    *O  *EX  *E  OG** **Y* *\n",
      " OO** * *  *    *  ** * * ***N ** * X    *XX  ** E* G  * * X* *EXG*  *  **O  ** * YE    OY *  *E  Y * *  *  *N** Y* *    *G G*  X***N   *    *E**  ** *O*X   *   O **    YX  **E**  * YO *   O     X *X*    *XX  O*  *       \n",
      "  E *****    E *** ** ** GY*G*\n"
     ]
    }
   ],
   "source": [
    "import pprint\n",
    "fileInfo = []\n",
    "for file in channelFile.namelist():\n",
    "    fileInfo.append(channelFile.getinfo(file))\n",
    "strComment = []\n",
    "for info in fileInfo:\n",
    "    strComment.append(bytes.decode(info.comment)) #bytes转string\n",
    "stringComment =''.join(strComment)\n",
    "print(stringComment)"
   ]
  },
  {
   "cell_type": "markdown",
   "metadata": {
    "collapsed": true
   },
   "source": [
    "又又又又去看了一点提示，人家说这个是按推论comment的顺序来的，怪不得我的像鬼画符。\n",
    "得嘞，把上次的过程再用zip做一遍吧。"
   ]
  },
  {
   "cell_type": "code",
   "execution_count": 71,
   "metadata": {},
   "outputs": [
    {
     "name": "stdout",
     "output_type": "stream",
     "text": [
      "Collect the comments.\n",
      "****************************************************************\n",
      "****************************************************************\n",
      "**                                                            **\n",
      "**   OO    OO    XX      YYYY    GG    GG  EEEEEE NN      NN  **\n",
      "**   OO    OO  XXXXXX   YYYYYY   GG   GG   EEEEEE  NN    NN   **\n",
      "**   OO    OO XXX  XXX YYY   YY  GG GG     EE       NN  NN    **\n",
      "**   OOOOOOOO XX    XX YY        GGG       EEEEE     NNNN     **\n",
      "**   OOOOOOOO XX    XX YY        GGG       EEEEE      NN      **\n",
      "**   OO    OO XXX  XXX YYY   YY  GG GG     EE         NN      **\n",
      "**   OO    OO  XXXXXX   YYYYYY   GG   GG   EEEEEE     NN      **\n",
      "**   OO    OO    XX      YYYY    GG    GG  EEEEEE     NN      **\n",
      "**                                                            **\n",
      "****************************************************************\n",
      " **************************************************************\n",
      "\n"
     ]
    }
   ],
   "source": [
    "import re,zipfile\n",
    "\n",
    "digitalRegex = re.compile('\\d{2,5}')\n",
    "channelFile = zipfile.ZipFile('./channel.zip') # 对压缩文件进行操作\n",
    "list_numbers = [] # 为了存储数字串而设置的列表\n",
    "fileInfo = [] # 为了存储每个文件的info而设置的列表\n",
    "filename = channelFile.namelist()[-1]  # 因为readme放在最后一个\n",
    "while True:\n",
    "    try:\n",
    "        fileInfo.append(channelFile.getinfo(filename)) # 为了按序获得info\n",
    "        file = channelFile.open(filename)\n",
    "        text = bytes.decode(file.read()) # 和一般文件一样，先open后read，只不过结果是二进制的，需要解码\n",
    "        next_number = int(digitalRegex.search(text).group())\n",
    "        list_numbers.append(next_number) # 数字串列表，可以没有。只是为了视觉方便\n",
    "        file.close()\n",
    "        filename = str(next_number)+ '.txt' \n",
    "    except:\n",
    "        print(text) # 没有数字就跳出。其实也可以用while xx.isdigital()\n",
    "        break\n",
    "strComment = []\n",
    "for info in fileInfo:\n",
    "    strComment.append(bytes.decode(info.comment)) #bytes转string，把所有info的comement读出来\n",
    "stringComment =''.join(strComment)\n",
    "print(stringComment)"
   ]
  },
  {
   "cell_type": "markdown",
   "metadata": {},
   "source": [
    "面对这么完美的画图，出乎意料地，答案不是‘hockey’，打开[www.pythonchallenge.com/pc/def/hockey.html](http://www.pythonchallenge.com/pc/def/hockey.html) ，\n",
    "提示说“it's in the air. look at the letters.”。看了一下字母，输入了oxygen，成功了。\n",
    "\n",
    "那我刚才盯着这6个字母研究它们可能的顺序，也不能算错啊。还是因为单词不熟练，无法自己拼出这个顺序。"
   ]
  },
  {
   "cell_type": "markdown",
   "metadata": {},
   "source": [
    "试试**精简**一下代码！"
   ]
  },
  {
   "cell_type": "code",
   "execution_count": 106,
   "metadata": {},
   "outputs": [
    {
     "name": "stdout",
     "output_type": "stream",
     "text": [
      "Collect the comments.\n",
      "****************************************************************\n",
      "****************************************************************\n",
      "**                                                            **\n",
      "**   OO    OO    XX      YYYY    GG    GG  EEEEEE NN      NN  **\n",
      "**   OO    OO  XXXXXX   YYYYYY   GG   GG   EEEEEE  NN    NN   **\n",
      "**   OO    OO XXX  XXX YYY   YY  GG GG     EE       NN  NN    **\n",
      "**   OOOOOOOO XX    XX YY        GGG       EEEEE     NNNN     **\n",
      "**   OOOOOOOO XX    XX YY        GGG       EEEEE      NN      **\n",
      "**   OO    OO XXX  XXX YYY   YY  GG GG     EE         NN      **\n",
      "**   OO    OO  XXXXXX   YYYYYY   GG   GG   EEEEEE     NN      **\n",
      "**   OO    OO    XX      YYYY    GG    GG  EEEEEE     NN      **\n",
      "**                                                            **\n",
      "****************************************************************\n",
      " **************************************************************\n",
      "\n"
     ]
    }
   ],
   "source": [
    "import re,zipfile\n",
    "\n",
    "channelFile = zipfile.ZipFile('./channel.zip') # 对压缩文件进行操作\n",
    "fileInfo = [] # 为了存储每个文件的info而设置的列表\n",
    "filename = channelFile.namelist()[-1]  # 因为readme放在最后一个\n",
    "while True:\n",
    "    fileInfo.append(channelFile.getinfo(filename)) # 为了按序获得info\n",
    "    with channelFile.open(filename) as file: # with的好处是出了with语句块后自动关闭file        \n",
    "        text = bytes.decode(file.read()) # 和一般文件一样，先open后read，区别在于需要解码二进制\n",
    "    if re.search(r'\\d{2,5}', text)==None: # 用if没有用try的语句块清晰。\n",
    "        break\n",
    "    next_number = re.search(r'\\d{2,5}',text).group()\n",
    "    filename = next_number + '.txt'\n",
    "print(text) # 没有数字就跳出。如果用while xx.isdigital()这样的，会直接走到最后一个文件，省略中间所有过程，导致无法打印。\n",
    "print(''.join([bytes.decode(info.comment) for info in fileInfo])) # bytes转string，把所有info的comement读出来"
   ]
  },
  {
   "cell_type": "code",
   "execution_count": 119,
   "metadata": {},
   "outputs": [
    {
     "name": "stdout",
     "output_type": "stream",
     "text": [
      "****************************************************************\n",
      "****************************************************************\n",
      "**                                                            **\n",
      "**   OO    OO    XX      YYYY    GG    GG  EEEEEE NN      NN  **\n",
      "**   OO    OO  XXXXXX   YYYYYY   GG   GG   EEEEEE  NN    NN   **\n",
      "**   OO    OO XXX  XXX YYY   YY  GG GG     EE       NN  NN    **\n",
      "**   OOOOOOOO XX    XX YY        GGG       EEEEE     NNNN     **\n",
      "**   OOOOOOOO XX    XX YY        GGG       EEEEE      NN      **\n",
      "**   OO    OO XXX  XXX YYY   YY  GG GG     EE         NN      **\n",
      "**   OO    OO  XXXXXX   YYYYYY   GG   GG   EEEEEE     NN      **\n",
      "**   OO    OO    XX      YYYY    GG    GG  EEEEEE     NN      **\n",
      "**                                                            **\n",
      "****************************************************************\n",
      " **************************************************************\n"
     ]
    }
   ],
   "source": [
    "import zipfile\n",
    "\n",
    "channelFile = zipfile.ZipFile('./channel.zip') # 对压缩文件进行操作\n",
    "filename = '90052.txt' # 抓住每个文件最后一个字符串都是数字字符串的漏洞，不用re模块\n",
    "while True:\n",
    "    try:\n",
    "        print(bytes.decode(channelFile.getinfo(filename).comment), end='') # 为了按序获得info\n",
    "        filename = bytes.decode(channelFile.open(filename).read()).split()[-1] + '.txt'\n",
    "    except:\n",
    "        break"
   ]
  },
  {
   "cell_type": "markdown",
   "metadata": {},
   "source": [
    "还是用字符串的split，给它设置分割符为数字前面的文本，也一样可以达到效果。  "
   ]
  },
  {
   "cell_type": "code",
   "execution_count": 23,
   "metadata": {},
   "outputs": [
    {
     "name": "stdout",
     "output_type": "stream",
     "text": [
      "****************************************************************\n",
      "****************************************************************\n",
      "**                                                            **\n",
      "**   OO    OO    XX      YYYY    GG    GG  EEEEEE NN      NN  **\n",
      "**   OO    OO  XXXXXX   YYYYYY   GG   GG   EEEEEE  NN    NN   **\n",
      "**   OO    OO XXX  XXX YYY   YY  GG GG     EE       NN  NN    **\n",
      "**   OOOOOOOO XX    XX YY        GGG       EEEEE     NNNN     **\n",
      "**   OOOOOOOO XX    XX YY        GGG       EEEEE      NN      **\n",
      "**   OO    OO XXX  XXX YYY   YY  GG GG     EE         NN      **\n",
      "**   OO    OO  XXXXXX   YYYYYY   GG   GG   EEEEEE     NN      **\n",
      "**   OO    OO    XX      YYYY    GG    GG  EEEEEE     NN      **\n",
      "**                                                            **\n",
      "****************************************************************\n",
      " **************************************************************\n"
     ]
    }
   ],
   "source": [
    "import zipfile\n",
    "\n",
    "channelFile = zipfile.ZipFile(os.path.dirname(os.getcwd()) + '/files/channel.zip') # 对压缩文件进行操作\n",
    "filename = '90052.txt' # 抓住每个文件最后一个字符串都是数字字符串的漏洞，不用re模块\n",
    "while True:\n",
    "    try:\n",
    "        print(bytes.decode(channelFile.getinfo(filename).comment), end='') # 为了按序获得info\n",
    "        filename = bytes.decode(channelFile.open(filename).read()).split('Next nothing is ')[1] + '.txt'\n",
    "    except:\n",
    "        break"
   ]
  },
  {
   "cell_type": "markdown",
   "metadata": {},
   "source": [
    "#### 第7关  \n",
    "\n",
    "[smarty](http://www.pythonchallenge.com/pc/def/oxygen.html)"
   ]
  },
  {
   "cell_type": "markdown",
   "metadata": {},
   "source": [
    "这回源代码里一点提示都没有了，没有隐藏链接，没有提示单词。图像上一排灰度像素。猜测这是要对图像进行操作？读出这些像素对灰度值，也许就有了数据了？再歇几天吧。。。。"
   ]
  },
  {
   "cell_type": "code",
   "execution_count": 22,
   "metadata": {},
   "outputs": [
    {
     "name": "stdout",
     "output_type": "stream",
     "text": [
      "88\n",
      "smart guy, you made it. the next level is [105, 110, 116, 101, 103, 114, 105, 116, 121]]\n",
      "integrity\n"
     ]
    }
   ],
   "source": [
    "from PIL import Image, ImageColor\n",
    "\n",
    "im = Image.open(os.path.dirname(os.getcwd()) + '/files/' + 'oxygen.png')\n",
    "width, height = im.size\n",
    "\n",
    "# 观察到：从0到607，从43到51，这些位置都是灰色。除了x为0到4之外，其他跨度都是7。并不知道有什么用，先存上再说。\n",
    "colorDic = [115]\n",
    "for i in range(5,608,7):\n",
    "    for j in range(43,52,9):\n",
    "        colorDic.append(im.getpixel((i,j))[0])\n",
    "print(len(colorDic))\n",
    "\n",
    "# 感觉有点像ascii码数值。\n",
    "def chrlist(numList):\n",
    "    resultList = []\n",
    "    for i in numList:\n",
    "        resultList.append(chr(i))\n",
    "    return ''.join(resultList)\n",
    "\n",
    "print(chrlist(colorDic))\n",
    "\n",
    "alphaDicNext = [105, 110, 116, 101, 103, 114, 105, 116, 121]\n",
    "print(chrlist(alphaDicNext))"
   ]
  },
  {
   "cell_type": "markdown",
   "metadata": {},
   "source": [
    "哈哈哈哈哈，真的过关了！！！"
   ]
  },
  {
   "cell_type": "markdown",
   "metadata": {},
   "source": [
    "#### 试试不下载文件"
   ]
  },
  {
   "cell_type": "code",
   "execution_count": 127,
   "metadata": {},
   "outputs": [],
   "source": [
    "from PIL import Image, ImageColor\n",
    "import requests, urllib\n",
    "from io import BytesIO\n",
    "\n",
    "im = Image.open(BytesIO(requests.get('http://www.pythonchallenge.com/pc/def/oxygen.png').content))\n",
    "img = Image.open(BytesIO(urllib.request.urlopen('http://www.pythonchallenge.com/pc/def/oxygen.png').read()))"
   ]
  },
  {
   "cell_type": "markdown",
   "metadata": {},
   "source": [
    "`requests.get(url).content` 和 `urllib.request.urlopen(url).read()`等效，返回结果都是二进制的，需要通过`BytesIO`转换为Image可以打开的对象。"
   ]
  },
  {
   "cell_type": "markdown",
   "metadata": {},
   "source": [
    "#### 改写上面那个转换函数chrlist"
   ]
  },
  {
   "cell_type": "code",
   "execution_count": 136,
   "metadata": {},
   "outputs": [
    {
     "name": "stdout",
     "output_type": "stream",
     "text": [
      "integrity\n"
     ]
    }
   ],
   "source": [
    "alphaDicNext = [105, 110, 116, 101, 103, 114, 105, 116, 121]\n",
    "print(''.join(map(chr,alphaDicNext)))"
   ]
  },
  {
   "cell_type": "markdown",
   "metadata": {},
   "source": [
    "使用**map函数**，完全不需要专门写一个这样的转换函数。  \n",
    "map(参数1一个函数，参数2一个列表)  \n",
    "\n",
    "它的作用就是把参数2放入参数1中都运算一遍，返回结果。"
   ]
  },
  {
   "cell_type": "code",
   "execution_count": null,
   "metadata": {},
   "outputs": [],
   "source": []
  },
  {
   "cell_type": "code",
   "execution_count": null,
   "metadata": {
    "collapsed": true
   },
   "outputs": [],
   "source": []
  },
  {
   "cell_type": "markdown",
   "metadata": {},
   "source": [
    "### 第8关  \n",
    "\n",
    "[working hard?](http://www.pythonchallenge.com/pc/def/integrity.html)"
   ]
  },
  {
   "cell_type": "code",
   "execution_count": 141,
   "metadata": {
    "collapsed": true
   },
   "outputs": [],
   "source": [
    "un = b'BZh91AY&SYA\\xaf\\x82\\r\\x00\\x00\\x01\\x01\\x80\\x02\\xc0\\x02\\x00 \\x00!\\x9ah3M\\x07<]\\xc9\\x14\\xe1BA\\x06\\xbe\\x084'\n",
    "pw = b'BZh91AY&SY\\x94$|\\x0e\\x00\\x00\\x00\\x81\\x00\\x03$ \\x00!\\x9ah3M\\x13<]\\xc9\\x14\\xe1BBP\\x91\\xf08'"
   ]
  },
  {
   "cell_type": "markdown",
   "metadata": {},
   "source": [
    "这里有编码集：[4.9.2 Standard Encodings](https://docs.python.org/2.4/lib/standard-encodings.html)\n",
    "\n",
    "这里讲编码发展史：[大话Unicode 和 UTF-8 - 绯浅yousa的笔记 - CSDN博客](https://blog.csdn.net/qq_15437667/article/details/52719265)"
   ]
  },
  {
   "cell_type": "code",
   "execution_count": 140,
   "metadata": {},
   "outputs": [
    {
     "name": "stdout",
     "output_type": "stream",
     "text": [
      "{'encoding': 'Windows-1252', 'confidence': 0.73, 'language': ''}\n",
      "BZh91AY&SYA¯‚\r",
      "\u0000\u0000\u0001\u0001€\u0002À\u0002\u0000 \u0000!šh3M\u0007<]É\u0014áBA\u0006¾\b4\n"
     ]
    }
   ],
   "source": [
    "import chardet\n",
    "\n",
    "encode_type = chardet.detect(un)\n",
    "print(encode_type)\n",
    "print(un.decode(encoding=encode_type['encoding'], errors='ignore'))"
   ]
  },
  {
   "cell_type": "markdown",
   "metadata": {},
   "source": [
    "认为是'Windows-1252'的置信度只有73%。那很可能不是这种编码。"
   ]
  },
  {
   "cell_type": "code",
   "execution_count": 230,
   "metadata": {},
   "outputs": [
    {
     "name": "stdout",
     "output_type": "stream",
     "text": [
      "â!Ç ß\u0017ëß ®b\r",
      "\u0000\u0000\u0001\u0001Ø\u0002{\u0002\u0000\u0000ªÇ(\u0014)I÷â ´\n"
     ]
    }
   ],
   "source": [
    "print(bytes.decode(un, encoding='cp1140'))"
   ]
  },
  {
   "cell_type": "code",
   "execution_count": 233,
   "metadata": {},
   "outputs": [
    {
     "ename": "UnicodeDecodeError",
     "evalue": "'ascii' codec can't decode byte 0x94 in position 10: ordinal not in range(128)",
     "output_type": "error",
     "traceback": [
      "\u001b[0;31m---------------------------------------------------------------------------\u001b[0m",
      "\u001b[0;31mUnicodeDecodeError\u001b[0m                        Traceback (most recent call last)",
      "\u001b[0;32m<ipython-input-233-21bb68a2834e>\u001b[0m in \u001b[0;36m<module>\u001b[0;34m\u001b[0m\n\u001b[0;32m----> 1\u001b[0;31m \u001b[0mprint\u001b[0m\u001b[0;34m(\u001b[0m\u001b[0mbytes\u001b[0m\u001b[0;34m.\u001b[0m\u001b[0mdecode\u001b[0m\u001b[0;34m(\u001b[0m\u001b[0mpw\u001b[0m\u001b[0;34m,\u001b[0m \u001b[0mencoding\u001b[0m\u001b[0;34m=\u001b[0m\u001b[0;34m'ascii'\u001b[0m\u001b[0;34m)\u001b[0m\u001b[0;34m)\u001b[0m\u001b[0;34m\u001b[0m\u001b[0;34m\u001b[0m\u001b[0m\n\u001b[0m",
      "\u001b[0;31mUnicodeDecodeError\u001b[0m: 'ascii' codec can't decode byte 0x94 in position 10: ordinal not in range(128)"
     ]
    }
   ],
   "source": [
    "print(bytes.decode(pw, encoding='ascii'))"
   ]
  },
  {
   "cell_type": "code",
   "execution_count": null,
   "metadata": {},
   "outputs": [],
   "source": [
    "# coords只是规定形状坐标点的。\n",
    "'''coords=\"179,284,214,311,255,320,281,226,319,224,363,309,339,222,371,225,411,229,404,242,415,252,428,233,428,214,394,\\\n",
    "207,383,205,390,195,423,192,439,193,442,209,440,215,450,221,457,226,469,202,475,187,494,188,494,169,498,147,491,121,\\\n",
    "477,136,481,96,471,94,458,98,444,91,420,87,405,92,391,88,376,82,350,79,330,82,314,85,305,90,299,96,290,103,276,110,262,\\\n",
    "114,225,123,212,125,185,133,138,144,118,160,97,168,87,176,110,180,145,176,153,176,150,182,137,190,126,194,121,198,126,\\\n",
    "203,151,205,160,195,168,217,169,234,170,260,174,282\"\n",
    "\n",
    "coordsList = coords.split(',')\n",
    "cList = []\n",
    "for s in coordsList:\n",
    "    cList.append(int(s))'''"
   ]
  },
  {
   "cell_type": "code",
   "execution_count": 66,
   "metadata": {},
   "outputs": [],
   "source": [
    "import bz2"
   ]
  },
  {
   "cell_type": "code",
   "execution_count": 237,
   "metadata": {},
   "outputs": [
    {
     "data": {
      "text/plain": [
       "b'huge'"
      ]
     },
     "execution_count": 237,
     "metadata": {},
     "output_type": "execute_result"
    }
   ],
   "source": [
    "bz2.decompress(un)"
   ]
  },
  {
   "cell_type": "code",
   "execution_count": 238,
   "metadata": {},
   "outputs": [
    {
     "data": {
      "text/plain": [
       "b'file'"
      ]
     },
     "execution_count": 238,
     "metadata": {},
     "output_type": "execute_result"
    }
   ],
   "source": [
    "bz2.decompress(pw)"
   ]
  },
  {
   "cell_type": "markdown",
   "metadata": {},
   "source": [
    "输入了这一对用户名密码后，就过了。直接第9关了。。。。。"
   ]
  },
  {
   "cell_type": "markdown",
   "metadata": {},
   "source": [
    "bz2模块用法见：[python bz2模块 - 混江龙 - CSDN博客](https://blog.csdn.net/xrwwuming/article/details/52035634)"
   ]
  },
  {
   "cell_type": "markdown",
   "metadata": {},
   "source": [
    "### 第9关 \n",
    "\n",
    "[connect the dots](http://www.pythonchallenge.com/pc/return/good.html)"
   ]
  },
  {
   "cell_type": "code",
   "execution_count": 26,
   "metadata": {
    "collapsed": true
   },
   "outputs": [],
   "source": [
    "first = [146,399,163,403,170,393,169,391,166,386,170,381,170,371,170,355,169,346,167,335,170,329,170,320,170,\n",
    "310,171,301,173,290,178,289,182,287,188,286,190,286,192,291,194,296,195,305,194,307,191,312,190,316,\n",
    "190,321,192,331,193,338,196,341,197,346,199,352,198,360,197,366,197,373,196,380,197,383,196,387,192,\n",
    "389,191,392,190,396,189,400,194,401,201,402,208,403,213,402,216,401,219,397,219,393,216,390,215,385,\n",
    "215,379,213,373,213,365,212,360,210,353,210,347,212,338,213,329,214,319,215,311,215,306,216,296,218,\n",
    "290,221,283,225,282,233,284,238,287,243,290,250,291,255,294,261,293,265,291,271,291,273,289,278,287,\n",
    "279,285,281,280,284,278,284,276,287,277,289,283,291,286,294,291,296,295,299,300,301,304,304,320,305,\n",
    "327,306,332,307,341,306,349,303,354,301,364,301,371,297,375,292,384,291,386,302,393,324,391,333,387,\n",
    "328,375,329,367,329,353,330,341,331,328,336,319,338,310,341,304,341,285,341,278,343,269,344,262,346,\n",
    "259,346,251,349,259,349,264,349,273,349,280,349,288,349,295,349,298,354,293,356,286,354,279,352,268,\n",
    "352,257,351,249,350,234,351,211,352,197,354,185,353,171,351,154,348,147,342,137,339,132,330,122,327,\n",
    "120,314,116,304,117,293,118,284,118,281,122,275,128,265,129,257,131,244,133,239,134,228,136,221,137,\n",
    "214,138,209,135,201,132,192,130,184,131,175,129,170,131,159,134,157,134,160,130,170,125,176,114,176,\n",
    "102,173,103,172,108,171,111,163,115,156,116,149,117,142,116,136,115,129,115,124,115,120,115,115,117,\n",
    "113,120,109,122,102,122,100,121,95,121,89,115,87,110,82,109,84,118,89,123,93,129,100,130,108,132,110,\n",
    "133,110,136,107,138,105,140,95,138,86,141,79,149,77,155,81,162,90,165,97,167,99,171,109,171,107,161,\n",
    "111,156,113,170,115,185,118,208,117,223,121,239,128,251,133,259,136,266,139,276,143,290,148,310,151,\n",
    "332,155,348,156,353,153,366,149,379,147,394,146,399]\n",
    "\n",
    "second = [156,141,165,135,169,131,176,130,187,134,191,140,191,146,186,150,179,155,175,157,168,157,163,157,159,\n",
    "157,158,164,159,175,159,181,157,191,154,197,153,205,153,210,152,212,147,215,146,218,143,220,132,220,\n",
    "125,217,119,209,116,196,115,185,114,172,114,167,112,161,109,165,107,170,99,171,97,167,89,164,81,162,\n",
    "77,155,81,148,87,140,96,138,105,141,110,136,111,126,113,129,118,117,128,114,137,115,146,114,155,115,\n",
    "158,121,157,128,156,134,157,136,156,136]\n"
   ]
  },
  {
   "cell_type": "code",
   "execution_count": 24,
   "metadata": {
    "collapsed": true
   },
   "outputs": [],
   "source": [
    "from PIL import Image, ImageDraw\n",
    "import os\n",
    "\n",
    "im = Image.open(os.path.dirname(os.getcwd()) + '/files/' + 'good.jpg')\n",
    "imCopy = im.copy()\n",
    "draw = ImageDraw.Draw(imCopy)"
   ]
  },
  {
   "cell_type": "code",
   "execution_count": 28,
   "metadata": {},
   "outputs": [],
   "source": [
    "draw.line(first, 'yellow')\n",
    "draw.line(second, 'yellow')\n",
    "imCopy.save(os.path.dirname(os.getcwd()) + '/files/' + 'goodCopy.jpg')"
   ]
  },
  {
   "cell_type": "markdown",
   "metadata": {},
   "source": [
    "用黑线画的，感觉像头牛。于是试了‘cow’，又要输入用户名密码，于是继续'huge:file' ，提示说：‘hmm. it's a male.’  \n",
    "\n",
    "这就成了？有点不敢相信。赶紧试一下‘bull’，真的对了。第10关出来了。顺利得有点不可思议。  \n",
    "\n",
    "顺便说一下，first是牛身体，second是牛头。真是头好牛🐂啊"
   ]
  },
  {
   "cell_type": "markdown",
   "metadata": {},
   "source": [
    "### 第10关  \n",
    "\n",
    "[what are you looking at?](http://www.pythonchallenge.com/pc/return/bull.html)"
   ]
  },
  {
   "cell_type": "code",
   "execution_count": 58,
   "metadata": {},
   "outputs": [
    {
     "name": "stdout",
     "output_type": "stream",
     "text": [
      "1664080\n"
     ]
    }
   ],
   "source": [
    "a = [1, 11, 21, 1211, 111221]\n",
    "def converseNum(x):\n",
    "    i = int(len(str(x))/2)\n",
    "    return str(x)[i:] + str(x)[:i]\n",
    "\n",
    "for j in range(26):\n",
    "    a.append(int(converseNum(a[-1])+str(a[-2])))\n",
    "print(len(str(a[-1])))"
   ]
  },
  {
   "cell_type": "code",
   "execution_count": 61,
   "metadata": {},
   "outputs": [
    {
     "name": "stdout",
     "output_type": "stream",
     "text": [
      "1664080\n"
     ]
    }
   ],
   "source": [
    "b = [1,2,2,4,6]\n",
    "for i in range(26):\n",
    "    b.append(b[-1]+b[-2])\n",
    "print(b[30])"
   ]
  },
  {
   "cell_type": "code",
   "execution_count": 179,
   "metadata": {},
   "outputs": [
    {
     "name": "stdout",
     "output_type": "stream",
     "text": [
      "5808\n"
     ]
    }
   ],
   "source": [
    "a = [1, 11, 21, 1211, 111221]\n",
    "for i in range(26):\n",
    "    s = str(a[-1])\n",
    "    nextS = []\n",
    "    s1 = ''\n",
    "    num1 = 1\n",
    "    i = 1\n",
    "    while i<len(s) and len(s)>1:\n",
    "        if s[i-1]==s[i] and i!=len(s)-1:\n",
    "            s1 = s[:i+1]\n",
    "            i += 1\n",
    "            num1 += 1\n",
    "        elif s[i-1]==s[i] and i==len(s)-1:\n",
    "            s1 = str(num1+1)+str(s[i-1])\n",
    "            nextS.append(s1)\n",
    "            break\n",
    "        elif s[i-1]!=s[i]:\n",
    "            s1 = str(num1)+str(s[i-1])\n",
    "            nextS.append(s1)\n",
    "            s = s[i:]\n",
    "            i = 1  \n",
    "            num1 = 1\n",
    "            continue \n",
    "    if len(s)==1:\n",
    "        s1 = '1'+s\n",
    "        nextS.append(s1)       \n",
    "    a.append(int(''.join(nextS)))\n",
    "print(len(str(a[30])))"
   ]
  },
  {
   "cell_type": "markdown",
   "metadata": {},
   "source": [
    "这回终于对了。过关了。"
   ]
  },
  {
   "cell_type": "markdown",
   "metadata": {},
   "source": [
    "### 第11关  \n",
    "\n",
    "[odd even](http://www.pythonchallenge.com/pc/return/5808.html)"
   ]
  },
  {
   "cell_type": "code",
   "execution_count": 235,
   "metadata": {},
   "outputs": [
    {
     "data": {
      "text/plain": [
       "[((0, 0), (0, 20, 0)),\n",
       " ((0, 2), (0, 20, 0)),\n",
       " ((0, 4), (0, 24, 0)),\n",
       " ((0, 6), (0, 19, 0)),\n",
       " ((0, 8), (0, 21, 0)),\n",
       " ((0, 10), (0, 22, 0)),\n",
       " ((0, 12), (0, 18, 0)),\n",
       " ((0, 14), (0, 16, 0)),\n",
       " ((0, 16), (0, 17, 0)),\n",
       " ((0, 18), (0, 17, 0)),\n",
       " ((0, 20), (0, 14, 0)),\n",
       " ((0, 22), (0, 11, 0)),\n",
       " ((0, 24), (0, 9, 0)),\n",
       " ((0, 26), (0, 10, 0)),\n",
       " ((0, 28), (0, 11, 0)),\n",
       " ((0, 30), (0, 12, 0)),\n",
       " ((0, 32), (0, 13, 0)),\n",
       " ((0, 34), (0, 13, 0)),\n",
       " ((0, 36), (1, 10, 0)),\n",
       " ((0, 38), (4, 7, 0)),\n",
       " ((0, 40), (3, 7, 0)),\n",
       " ((0, 42), (6, 9, 0)),\n",
       " ((0, 44), (4, 6, 0)),\n",
       " ((0, 46), (3, 5, 0)),\n",
       " ((0, 48), (3, 5, 0)),\n",
       " ((0, 50), (5, 7, 0)),\n",
       " ((0, 52), (3, 5, 0)),\n",
       " ((0, 54), (3, 6, 0)),\n",
       " ((0, 56), (3, 6, 0)),\n",
       " ((0, 58), (3, 6, 0)),\n",
       " ((0, 60), (3, 6, 0)),\n",
       " ((0, 62), (3, 6, 0)),\n",
       " ((0, 64), (4, 5, 0)),\n",
       " ((0, 66), (4, 5, 0)),\n",
       " ((0, 68), (6, 4, 0)),\n",
       " ((0, 70), (7, 4, 0)),\n",
       " ((0, 72), (11, 2, 0)),\n",
       " ((0, 74), (11, 2, 0)),\n",
       " ((0, 76), (11, 2, 0)),\n",
       " ((0, 78), (11, 2, 0)),\n",
       " ((0, 80), (11, 1, 0)),\n",
       " ((0, 82), (13, 0, 0)),\n",
       " ((0, 84), (14, 0, 0)),\n",
       " ((0, 86), (14, 0, 0)),\n",
       " ((0, 88), (14, 0, 0)),\n",
       " ((0, 90), (15, 0, 0)),\n",
       " ((0, 92), (22, 5, 0)),\n",
       " ((0, 94), (17, 0, 0)),\n",
       " ((0, 96), (13, 0, 0)),\n",
       " ((0, 98), (13, 0, 0)),\n",
       " ((0, 100), (18, 5, 0)),\n",
       " ((0, 102), (13, 0, 0)),\n",
       " ((0, 104), (15, 0, 0)),\n",
       " ((0, 106), (15, 0, 0)),\n",
       " ((0, 108), (17, 0, 0)),\n",
       " ((0, 110), (15, 0, 0)),\n",
       " ((0, 112), (15, 0, 0)),\n",
       " ((0, 114), (15, 0, 0)),\n",
       " ((0, 116), (15, 0, 0)),\n",
       " ((0, 118), (15, 0, 0)),\n",
       " ((0, 120), (15, 0, 0)),\n",
       " ((0, 122), (15, 0, 0)),\n",
       " ((0, 124), (15, 0, 0)),\n",
       " ((0, 126), (15, 0, 0)),\n",
       " ((0, 128), (17, 0, 0)),\n",
       " ((0, 130), (17, 0, 0)),\n",
       " ((0, 132), (17, 0, 0)),\n",
       " ((0, 134), (17, 0, 0)),\n",
       " ((0, 136), (20, 0, 0)),\n",
       " ((0, 138), (18, 0, 0)),\n",
       " ((0, 140), (20, 0, 0)),\n",
       " ((0, 142), (21, 0, 0)),\n",
       " ((0, 144), (20, 0, 0)),\n",
       " ((0, 146), (20, 0, 0)),\n",
       " ((0, 148), (21, 0, 0)),\n",
       " ((0, 150), (21, 0, 0)),\n",
       " ((0, 152), (22, 0, 0)),\n",
       " ((0, 154), (22, 0, 0)),\n",
       " ((0, 156), (36, 10, 0)),\n",
       " ((0, 158), (20, 0, 0)),\n",
       " ((0, 160), (18, 0, 0)),\n",
       " ((0, 162), (18, 0, 0)),\n",
       " ((0, 164), (22, 0, 0)),\n",
       " ((0, 166), (24, 0, 0)),\n",
       " ((0, 168), (18, 0, 0)),\n",
       " ((0, 170), (20, 0, 0)),\n",
       " ((0, 172), (26, 0, 0)),\n",
       " ((0, 174), (25, 0, 0)),\n",
       " ((0, 176), (28, 0, 0)),\n",
       " ((0, 178), (28, 0, 0)),\n",
       " ((0, 180), (27, 0, 0)),\n",
       " ((0, 182), (27, 0, 0)),\n",
       " ((0, 184), (27, 0, 0)),\n",
       " ((0, 186), (28, 0, 0)),\n",
       " ((0, 188), (30, 0, 0)),\n",
       " ((0, 190), (31, 0, 0)),\n",
       " ((0, 192), (34, 0, 0)),\n",
       " ((0, 194), (34, 0, 0)),\n",
       " ((0, 196), (36, 0, 0)),\n",
       " ((0, 198), (34, 0, 0)),\n",
       " ((0, 200), (35, 0, 0)),\n",
       " ((0, 202), (34, 0, 0)),\n",
       " ((0, 204), (39, 0, 0)),\n",
       " ((0, 206), (37, 0, 0)),\n",
       " ((0, 208), (34, 0, 0)),\n",
       " ((0, 210), (33, 0, 0)),\n",
       " ((0, 212), (39, 0, 0)),\n",
       " ((0, 214), (36, 0, 0)),\n",
       " ((0, 216), (34, 0, 0)),\n",
       " ((0, 218), (31, 0, 0)),\n",
       " ((0, 220), (32, 0, 0)),\n",
       " ((0, 222), (33, 0, 0)),\n",
       " ((0, 224), (27, 0, 0)),\n",
       " ((0, 226), (27, 0, 0)),\n",
       " ((0, 228), (25, 0, 0)),\n",
       " ((0, 230), (24, 0, 0)),\n",
       " ((0, 232), (25, 0, 0)),\n",
       " ((0, 234), (25, 0, 0)),\n",
       " ((0, 236), (24, 0, 0)),\n",
       " ((0, 238), (24, 0, 0)),\n",
       " ((0, 240), (24, 0, 0)),\n",
       " ((0, 242), (23, 0, 0)),\n",
       " ((0, 244), (20, 0, 0)),\n",
       " ((0, 246), (23, 3, 0)),\n",
       " ((0, 248), (21, 4, 0)),\n",
       " ((0, 250), (22, 0, 0)),\n",
       " ((0, 252), (24, 0, 0)),\n",
       " ((0, 254), (28, 0, 0)),\n",
       " ((0, 256), (28, 0, 0)),\n",
       " ((0, 258), (31, 0, 0)),\n",
       " ((0, 260), (37, 0, 0)),\n",
       " ((0, 262), (39, 0, 0)),\n",
       " ((0, 264), (39, 0, 0)),\n",
       " ((0, 266), (35, 0, 0)),\n",
       " ((0, 268), (25, 0, 0)),\n",
       " ((0, 270), (23, 2, 0)),\n",
       " ((0, 272), (4, 1, 0)),\n",
       " ((0, 274), (10, 8, 0)),\n",
       " ((0, 276), (7, 7, 0)),\n",
       " ((0, 278), (2, 3, 0)),\n",
       " ((0, 280), (0, 2, 0)),\n",
       " ((0, 282), (5, 8, 1)),\n",
       " ((0, 284), (5, 6, 0)),\n",
       " ((0, 286), (5, 6, 0)),\n",
       " ((0, 288), (12, 7, 0)),\n",
       " ((0, 290), (16, 1, 0)),\n",
       " ((0, 292), (24, 0, 0)),\n",
       " ((0, 294), (25, 0, 0)),\n",
       " ((0, 296), (20, 0, 0)),\n",
       " ((0, 298), (24, 0, 0)),\n",
       " ((0, 300), (25, 0, 0)),\n",
       " ((0, 302), (30, 0, 0)),\n",
       " ((0, 304), (46, 0, 0)),\n",
       " ((0, 306), (36, 0, 0)),\n",
       " ((0, 308), (35, 0, 0)),\n",
       " ((0, 310), (45, 2, 0)),\n",
       " ((0, 312), (29, 0, 0)),\n",
       " ((0, 314), (31, 0, 0)),\n",
       " ((0, 316), (31, 0, 0)),\n",
       " ((0, 318), (32, 0, 0)),\n",
       " ((0, 320), (28, 0, 0)),\n",
       " ((0, 322), (28, 0, 0)),\n",
       " ((0, 324), (28, 0, 0)),\n",
       " ((0, 326), (28, 0, 0)),\n",
       " ((0, 328), (28, 0, 0)),\n",
       " ((0, 330), (28, 0, 0)),\n",
       " ((0, 332), (28, 0, 0)),\n",
       " ((0, 334), (28, 0, 0)),\n",
       " ((0, 336), (27, 0, 0)),\n",
       " ((0, 338), (29, 0, 0)),\n",
       " ((0, 340), (27, 0, 0)),\n",
       " ((0, 342), (27, 0, 0)),\n",
       " ((0, 344), (27, 0, 0)),\n",
       " ((0, 346), (27, 0, 0)),\n",
       " ((0, 348), (27, 0, 0)),\n",
       " ((0, 350), (27, 0, 0)),\n",
       " ((0, 352), (25, 0, 0)),\n",
       " ((0, 354), (25, 0, 0)),\n",
       " ((0, 356), (25, 0, 0)),\n",
       " ((0, 358), (25, 0, 0)),\n",
       " ((0, 360), (25, 0, 0)),\n",
       " ((0, 362), (25, 0, 0)),\n",
       " ((0, 364), (25, 0, 0)),\n",
       " ((0, 366), (25, 0, 0)),\n",
       " ((0, 368), (24, 0, 0)),\n",
       " ((0, 370), (24, 0, 0)),\n",
       " ((0, 372), (24, 0, 0)),\n",
       " ((0, 374), (24, 0, 0)),\n",
       " ((0, 376), (24, 0, 0)),\n",
       " ((0, 378), (24, 0, 0)),\n",
       " ((0, 380), (24, 0, 0)),\n",
       " ((0, 382), (24, 0, 0)),\n",
       " ((0, 384), (24, 0, 0)),\n",
       " ((0, 386), (28, 0, 0)),\n",
       " ((0, 388), (25, 0, 0)),\n",
       " ((0, 390), (21, 0, 0)),\n",
       " ((0, 392), (18, 0, 0)),\n",
       " ((0, 394), (20, 0, 0)),\n",
       " ((0, 396), (19, 0, 0)),\n",
       " ((0, 398), (17, 0, 0)),\n",
       " ((0, 400), (20, 0, 0)),\n",
       " ((0, 402), (23, 5, 0)),\n",
       " ((0, 404), (21, 5, 0)),\n",
       " ((0, 406), (15, 0, 0)),\n",
       " ((0, 408), (15, 2, 0)),\n",
       " ((0, 410), (13, 0, 0)),\n",
       " ((0, 412), (22, 9, 0)),\n",
       " ((0, 414), (12, 0, 0)),\n",
       " ((0, 416), (13, 0, 0)),\n",
       " ((0, 418), (13, 0, 0)),\n",
       " ((0, 420), (21, 6, 0)),\n",
       " ((0, 422), (13, 0, 0)),\n",
       " ((0, 424), (15, 3, 0)),\n",
       " ((0, 426), (10, 0, 0)),\n",
       " ((0, 428), (8, 0, 0)),\n",
       " ((0, 430), (7, 0, 0)),\n",
       " ((0, 432), (7, 0, 0)),\n",
       " ((0, 434), (8, 0, 0)),\n",
       " ((0, 436), (10, 0, 0)),\n",
       " ((0, 438), (13, 0, 0)),\n",
       " ((0, 440), (8, 0, 0)),\n",
       " ((0, 442), (8, 0, 0)),\n",
       " ((0, 444), (7, 0, 0)),\n",
       " ((0, 446), (8, 2, 0)),\n",
       " ((0, 448), (6, 1, 0)),\n",
       " ((0, 450), (7, 1, 0)),\n",
       " ((0, 452), (15, 4, 0)),\n",
       " ((0, 454), (24, 7, 0)),\n",
       " ((0, 456), (18, 0, 0)),\n",
       " ((0, 458), (23, 3, 0)),\n",
       " ((0, 460), (22, 2, 0)),\n",
       " ((0, 462), (25, 5, 0)),\n",
       " ((0, 464), (19, 1, 0)),\n",
       " ((0, 466), (22, 4, 0)),\n",
       " ((0, 468), (17, 0, 0)),\n",
       " ((0, 470), (20, 2, 0)),\n",
       " ((0, 472), (17, 0, 0)),\n",
       " ((0, 474), (17, 0, 0)),\n",
       " ((0, 476), (18, 0, 0)),\n",
       " ((0, 478), (28, 6, 0)),\n",
       " ((1, 1), (0, 20, 0)),\n",
       " ((1, 3), (0, 22, 0)),\n",
       " ((1, 5), (0, 19, 0)),\n",
       " ((1, 7), (0, 18, 0)),\n",
       " ((1, 9), (0, 21, 0)),\n",
       " ((1, 11), (0, 22, 0)),\n",
       " ((1, 13), (0, 24, 0)),\n",
       " ((1, 15), (0, 15, 0)),\n",
       " ((1, 17), (0, 19, 0)),\n",
       " ((1, 19), (0, 21, 0)),\n",
       " ((1, 21), (3, 23, 0)),\n",
       " ((1, 23), (0, 13, 0)),\n",
       " ((1, 25), (0, 9, 0)),\n",
       " ((1, 27), (0, 10, 0)),\n",
       " ((1, 29), (0, 11, 0)),\n",
       " ((1, 31), (0, 12, 0)),\n",
       " ((1, 33), (0, 17, 0)),\n",
       " ((1, 35), (0, 11, 0)),\n",
       " ((1, 37), (10, 15, 0)),\n",
       " ((1, 39), (4, 7, 0)),\n",
       " ((1, 41), (9, 13, 0)),\n",
       " ((1, 43), (10, 13, 0)),\n",
       " ((1, 45), (14, 16, 0)),\n",
       " ((1, 47), (3, 5, 0)),\n",
       " ((1, 49), (9, 11, 0)),\n",
       " ((1, 51), (10, 12, 0)),\n",
       " ((1, 53), (12, 15, 0)),\n",
       " ((1, 55), (3, 6, 0)),\n",
       " ((1, 57), (8, 11, 0)),\n",
       " ((1, 59), (9, 12, 0)),\n",
       " ((1, 61), (13, 16, 0)),\n",
       " ((1, 63), (3, 6, 0)),\n",
       " ((1, 65), (4, 5, 0)),\n",
       " ((1, 67), (10, 8, 0)),\n",
       " ((1, 69), (12, 11, 0)),\n",
       " ((1, 71), (7, 4, 0)),\n",
       " ((1, 73), (11, 2, 0)),\n",
       " ((1, 75), (11, 2, 0)),\n",
       " ((1, 77), (13, 4, 0)),\n",
       " ((1, 79), (11, 2, 0)),\n",
       " ((1, 81), (11, 2, 0)),\n",
       " ((1, 83), (13, 1, 0)),\n",
       " ((1, 85), (14, 0, 0)),\n",
       " ((1, 87), (15, 0, 0)),\n",
       " ((1, 89), (19, 4, 0)),\n",
       " ((1, 91), (32, 15, 0)),\n",
       " ((1, 93), (22, 2, 0)),\n",
       " ((1, 95), (17, 0, 0)),\n",
       " ((1, 97), (13, 0, 0)),\n",
       " ((1, 99), (15, 2, 0)),\n",
       " ((1, 101), (13, 0, 0)),\n",
       " ((1, 103), (13, 0, 0)),\n",
       " ((1, 105), (16, 0, 0)),\n",
       " ((1, 107), (22, 5, 0)),\n",
       " ((1, 109), (15, 0, 0)),\n",
       " ((1, 111), (15, 0, 0)),\n",
       " ((1, 113), (15, 0, 0)),\n",
       " ((1, 115), (21, 5, 0)),\n",
       " ((1, 117), (15, 0, 0)),\n",
       " ((1, 119), (15, 0, 0)),\n",
       " ((1, 121), (15, 0, 0)),\n",
       " ((1, 123), (23, 6, 0)),\n",
       " ((1, 125), (15, 0, 0)),\n",
       " ((1, 127), (15, 0, 0)),\n",
       " ((1, 129), (26, 6, 0)),\n",
       " ((1, 131), (28, 8, 0)),\n",
       " ((1, 133), (24, 4, 0)),\n",
       " ((1, 135), (17, 0, 0)),\n",
       " ((1, 137), (21, 0, 0)),\n",
       " ((1, 139), (20, 0, 0)),\n",
       " ((1, 141), (21, 0, 0)),\n",
       " ((1, 143), (21, 0, 0)),\n",
       " ((1, 145), (20, 0, 0)),\n",
       " ((1, 147), (20, 0, 0)),\n",
       " ((1, 149), (21, 0, 0)),\n",
       " ((1, 151), (21, 0, 0)),\n",
       " ((1, 153), (22, 0, 0)),\n",
       " ((1, 155), (33, 7, 0)),\n",
       " ((1, 157), (31, 7, 0)),\n",
       " ((1, 159), (20, 0, 0)),\n",
       " ((1, 161), (17, 0, 0)),\n",
       " ((1, 163), (30, 10, 0)),\n",
       " ((1, 165), (23, 0, 0)),\n",
       " ((1, 167), (21, 0, 0)),\n",
       " ((1, 169), (18, 0, 0)),\n",
       " ((1, 171), (23, 0, 0)),\n",
       " ((1, 173), (24, 0, 0)),\n",
       " ((1, 175), (25, 0, 0)),\n",
       " ((1, 177), (28, 0, 0)),\n",
       " ((1, 179), (32, 0, 0)),\n",
       " ((1, 181), (27, 0, 0)),\n",
       " ((1, 183), (25, 0, 0)),\n",
       " ((1, 185), (28, 0, 0)),\n",
       " ((1, 187), (31, 0, 0)),\n",
       " ((1, 189), (29, 0, 0)),\n",
       " ((1, 191), (31, 0, 0)),\n",
       " ((1, 193), (34, 0, 0)),\n",
       " ((1, 195), (38, 0, 0)),\n",
       " ((1, 197), (34, 0, 0)),\n",
       " ((1, 199), (35, 0, 0)),\n",
       " ((1, 201), (36, 0, 0)),\n",
       " ((1, 203), (42, 0, 0)),\n",
       " ((1, 205), (32, 0, 0)),\n",
       " ((1, 207), (33, 0, 0)),\n",
       " ((1, 209), (33, 0, 0)),\n",
       " ((1, 211), (37, 0, 0)),\n",
       " ((1, 213), (31, 0, 0)),\n",
       " ((1, 215), (33, 0, 0)),\n",
       " ((1, 217), (31, 0, 0)),\n",
       " ((1, 219), (31, 0, 0)),\n",
       " ((1, 221), (31, 0, 0)),\n",
       " ((1, 223), (31, 0, 0)),\n",
       " ((1, 225), (27, 0, 0)),\n",
       " ((1, 227), (25, 0, 0)),\n",
       " ((1, 229), (28, 0, 0)),\n",
       " ((1, 231), (24, 0, 0)),\n",
       " ((1, 233), (26, 0, 0)),\n",
       " ((1, 235), (24, 0, 0)),\n",
       " ((1, 237), (26, 0, 0)),\n",
       " ((1, 239), (24, 0, 0)),\n",
       " ((1, 241), (23, 0, 0)),\n",
       " ((1, 243), (24, 0, 0)),\n",
       " ((1, 245), (27, 6, 0)),\n",
       " ((1, 247), (24, 3, 0)),\n",
       " ((1, 249), (26, 6, 0)),\n",
       " ((1, 251), (28, 2, 0)),\n",
       " ((1, 253), (35, 1, 0)),\n",
       " ((1, 255), (29, 0, 0)),\n",
       " ((1, 257), (29, 0, 0)),\n",
       " ((1, 259), (38, 0, 0)),\n",
       " ((1, 261), (38, 0, 0)),\n",
       " ((1, 263), (39, 0, 0)),\n",
       " ((1, 265), (36, 0, 0)),\n",
       " ((1, 267), (36, 0, 0)),\n",
       " ((1, 269), (35, 10, 0)),\n",
       " ((1, 271), (15, 0, 0)),\n",
       " ((1, 273), (6, 0, 0)),\n",
       " ((1, 275), (4, 1, 0)),\n",
       " ((1, 277), (7, 7, 0)),\n",
       " ((1, 279), (3, 4, 0)),\n",
       " ((1, 281), (2, 5, 0)),\n",
       " ((1, 283), (0, 1, 0)),\n",
       " ((1, 285), (1, 1, 0)),\n",
       " ((1, 287), (1, 3, 0)),\n",
       " ((1, 289), (19, 12, 0)),\n",
       " ((1, 291), (20, 0, 0)),\n",
       " ((1, 293), (24, 0, 0)),\n",
       " ((1, 295), (24, 0, 0)),\n",
       " ((1, 297), (20, 0, 0)),\n",
       " ((1, 299), (22, 0, 0)),\n",
       " ((1, 301), (28, 0, 0)),\n",
       " ((1, 303), (32, 0, 0)),\n",
       " ((1, 305), (42, 0, 0)),\n",
       " ((1, 307), (35, 0, 0)),\n",
       " ((1, 309), (34, 0, 0)),\n",
       " ((1, 311), (36, 0, 0)),\n",
       " ((1, 313), (31, 0, 0)),\n",
       " ((1, 315), (31, 0, 0)),\n",
       " ((1, 317), (36, 0, 0)),\n",
       " ((1, 319), (32, 0, 0)),\n",
       " ((1, 321), (28, 0, 0)),\n",
       " ((1, 323), (28, 0, 0)),\n",
       " ((1, 325), (28, 0, 0)),\n",
       " ((1, 327), (28, 0, 0)),\n",
       " ((1, 329), (29, 0, 0)),\n",
       " ((1, 331), (28, 0, 0)),\n",
       " ((1, 333), (30, 0, 0)),\n",
       " ((1, 335), (29, 0, 0)),\n",
       " ((1, 337), (32, 0, 0)),\n",
       " ((1, 339), (28, 0, 0)),\n",
       " ((1, 341), (32, 0, 0)),\n",
       " ((1, 343), (27, 0, 0)),\n",
       " ((1, 345), (28, 0, 0)),\n",
       " ((1, 347), (27, 0, 0)),\n",
       " ((1, 349), (28, 0, 0)),\n",
       " ((1, 351), (27, 0, 0)),\n",
       " ((1, 353), (25, 0, 0)),\n",
       " ((1, 355), (25, 0, 0)),\n",
       " ((1, 357), (25, 0, 0)),\n",
       " ((1, 359), (25, 0, 0)),\n",
       " ((1, 361), (25, 0, 0)),\n",
       " ((1, 363), (28, 0, 0)),\n",
       " ((1, 365), (27, 0, 0)),\n",
       " ((1, 367), (25, 0, 0)),\n",
       " ((1, 369), (24, 0, 0)),\n",
       " ((1, 371), (27, 0, 0)),\n",
       " ((1, 373), (26, 0, 0)),\n",
       " ((1, 375), (24, 0, 0)),\n",
       " ((1, 377), (27, 0, 0)),\n",
       " ((1, 379), (36, 6, 0)),\n",
       " ((1, 381), (33, 3, 0)),\n",
       " ((1, 383), (24, 0, 0)),\n",
       " ((1, 385), (24, 0, 0)),\n",
       " ((1, 387), (23, 0, 0)),\n",
       " ((1, 389), (21, 0, 0)),\n",
       " ((1, 391), (21, 0, 0)),\n",
       " ((1, 393), (18, 0, 0)),\n",
       " ((1, 395), (18, 0, 0)),\n",
       " ((1, 397), (17, 0, 0)),\n",
       " ((1, 399), (15, 0, 0)),\n",
       " ((1, 401), (17, 0, 0)),\n",
       " ((1, 403), (16, 0, 0)),\n",
       " ((1, 405), (16, 0, 0)),\n",
       " ((1, 407), (13, 0, 0)),\n",
       " ((1, 409), (13, 0, 0)),\n",
       " ((1, 411), (20, 7, 0)),\n",
       " ((1, 413), (11, 0, 0)),\n",
       " ((1, 415), (11, 0, 0)),\n",
       " ((1, 417), (13, 0, 0)),\n",
       " ((1, 419), (22, 7, 0)),\n",
       " ((1, 421), (13, 0, 0)),\n",
       " ((1, 423), (13, 0, 0)),\n",
       " ((1, 425), (18, 6, 0)),\n",
       " ((1, 427), (8, 0, 0)),\n",
       " ((1, 429), (10, 2, 0)),\n",
       " ((1, 431), (16, 8, 0)),\n",
       " ((1, 433), (12, 4, 0)),\n",
       " ((1, 435), (10, 0, 0)),\n",
       " ((1, 437), (11, 0, 0)),\n",
       " ((1, 439), (19, 1, 0)),\n",
       " ((1, 441), (12, 2, 0)),\n",
       " ((1, 443), (8, 0, 0)),\n",
       " ((1, 445), (10, 2, 0)),\n",
       " ((1, 447), (21, 15, 3)),\n",
       " ((1, 449), (6, 1, 0)),\n",
       " ((1, 451), (10, 0, 0)),\n",
       " ((1, 453), (14, 0, 0)),\n",
       " ((1, 455), (16, 0, 0)),\n",
       " ((1, 457), (18, 0, 0)),\n",
       " ((1, 459), (19, 0, 0)),\n",
       " ((1, 461), (24, 4, 0)),\n",
       " ((1, 463), (21, 1, 0)),\n",
       " ((1, 465), (17, 0, 0)),\n",
       " ((1, 467), (17, 0, 0)),\n",
       " ((1, 469), (17, 0, 0)),\n",
       " ((1, 471), (17, 0, 0)),\n",
       " ((1, 473), (18, 0, 0)),\n",
       " ((1, 475), (18, 0, 0)),\n",
       " ((1, 477), (20, 0, 0)),\n",
       " ((1, 479), (24, 2, 0)),\n",
       " ((2, 0), (0, 20, 0)),\n",
       " ((2, 2), (0, 20, 0)),\n",
       " ((2, 4), (0, 19, 0)),\n",
       " ((2, 6), (0, 20, 0)),\n",
       " ((2, 8), (0, 21, 0)),\n",
       " ((2, 10), (0, 20, 0)),\n",
       " ((2, 12), (0, 17, 0)),\n",
       " ((2, 14), (0, 15, 0)),\n",
       " ((2, 16), (0, 16, 0)),\n",
       " ((2, 18), (0, 15, 0)),\n",
       " ((2, 20), (0, 12, 0)),\n",
       " ((2, 22), (0, 9, 0)),\n",
       " ((2, 24), (0, 8, 0)),\n",
       " ((2, 26), (0, 15, 0)),\n",
       " ((2, 28), (0, 14, 0)),\n",
       " ((2, 30), (0, 12, 0)),\n",
       " ((2, 32), (0, 13, 0)),\n",
       " ((2, 34), (0, 11, 0)),\n",
       " ((2, 36), (1, 10, 0)),\n",
       " ((2, 38), (4, 7, 0)),\n",
       " ((2, 40), (3, 7, 0)),\n",
       " ((2, 42), (7, 10, 0)),\n",
       " ((2, 44), (10, 13, 0)),\n",
       " ((2, 46), (4, 6, 0)),\n",
       " ((2, 48), (3, 5, 0)),\n",
       " ((2, 50), (8, 10, 0)),\n",
       " ((2, 52), (9, 12, 0)),\n",
       " ((2, 54), (3, 6, 0)),\n",
       " ((2, 56), (3, 6, 0)),\n",
       " ((2, 58), (8, 11, 0)),\n",
       " ((2, 60), (10, 13, 0)),\n",
       " ((2, 62), (4, 7, 0)),\n",
       " ((2, 64), (3, 5, 0)),\n",
       " ((2, 66), (9, 10, 0)),\n",
       " ((2, 68), (6, 5, 0)),\n",
       " ((2, 70), (7, 4, 0)),\n",
       " ((2, 72), (10, 2, 0)),\n",
       " ((2, 74), (10, 2, 0)),\n",
       " ((2, 76), (10, 2, 0)),\n",
       " ((2, 78), (10, 2, 0)),\n",
       " ((2, 80), (11, 2, 0)),\n",
       " ((2, 82), (18, 9, 0)),\n",
       " ((2, 84), (21, 9, 0)),\n",
       " ((2, 86), (17, 3, 0)),\n",
       " ((2, 88), (14, 0, 0)),\n",
       " ((2, 90), (17, 2, 0)),\n",
       " ((2, 92), (23, 6, 0)),\n",
       " ((2, 94), (18, 0, 0)),\n",
       " ((2, 96), (14, 0, 0)),\n",
       " ((2, 98), (21, 6, 0)),\n",
       " ((2, 100), (21, 6, 0)),\n",
       " ((2, 102), (14, 0, 0)),\n",
       " ((2, 104), (20, 4, 0)),\n",
       " ((2, 106), (15, 0, 0)),\n",
       " ((2, 108), (19, 3, 0)),\n",
       " ((2, 110), (19, 3, 0)),\n",
       " ((2, 112), (17, 1, 0)),\n",
       " ((2, 114), (15, 0, 0)),\n",
       " ((2, 116), (15, 0, 0)),\n",
       " ((2, 118), (16, 0, 0)),\n",
       " ((2, 120), (15, 0, 0)),\n",
       " ((2, 122), (20, 3, 0)),\n",
       " ((2, 124), (19, 2, 0)),\n",
       " ((2, 126), (16, 0, 0)),\n",
       " ((2, 128), (21, 1, 0)),\n",
       " ((2, 130), (27, 7, 0)),\n",
       " ((2, 132), (22, 2, 0)),\n",
       " ((2, 134), (18, 0, 0)),\n",
       " ((2, 136), (24, 2, 0)),\n",
       " ((2, 138), (28, 6, 0)),\n",
       " ((2, 140), (31, 7, 0)),\n",
       " ((2, 142), (25, 0, 0)),\n",
       " ((2, 144), (21, 0, 0)),\n",
       " ((2, 146), (28, 2, 0)),\n",
       " ((2, 148), (29, 3, 0)),\n",
       " ((2, 150), (21, 0, 0)),\n",
       " ((2, 152), (22, 0, 0)),\n",
       " ((2, 154), (21, 0, 0)),\n",
       " ((2, 156), (20, 0, 0)),\n",
       " ((2, 158), (20, 0, 0)),\n",
       " ((2, 160), (17, 0, 0)),\n",
       " ((2, 162), (25, 7, 0)),\n",
       " ((2, 164), (34, 14, 0)),\n",
       " ((2, 166), (27, 4, 0)),\n",
       " ((2, 168), (19, 0, 0)),\n",
       " ((2, 170), (20, 0, 0)),\n",
       " ((2, 172), (24, 0, 0)),\n",
       " ((2, 174), (24, 0, 0)),\n",
       " ((2, 176), (27, 0, 0)),\n",
       " ((2, 178), (27, 0, 0)),\n",
       " ((2, 180), (25, 0, 0)),\n",
       " ((2, 182), (25, 0, 0)),\n",
       " ((2, 184), (28, 0, 0)),\n",
       " ((2, 186), (32, 0, 0)),\n",
       " ((2, 188), (34, 0, 0)),\n",
       " ((2, 190), (31, 0, 0)),\n",
       " ((2, 192), (34, 0, 0)),\n",
       " ((2, 194), (38, 0, 0)),\n",
       " ((2, 196), (41, 0, 0)),\n",
       " ((2, 198), (35, 0, 0)),\n",
       " ((2, 200), (35, 0, 0)),\n",
       " ((2, 202), (40, 0, 0)),\n",
       " ((2, 204), (43, 1, 0)),\n",
       " ((2, 206), (39, 0, 0)),\n",
       " ((2, 208), (33, 0, 0)),\n",
       " ((2, 210), (33, 0, 0)),\n",
       " ((2, 212), (36, 0, 0)),\n",
       " ((2, 214), (35, 0, 0)),\n",
       " ((2, 216), (32, 0, 0)),\n",
       " ((2, 218), (31, 0, 0)),\n",
       " ((2, 220), (32, 0, 0)),\n",
       " ((2, 222), (33, 0, 0)),\n",
       " ((2, 224), (27, 0, 0)),\n",
       " ((2, 226), (27, 0, 0)),\n",
       " ((2, 228), (25, 0, 0)),\n",
       " ((2, 230), (24, 0, 0)),\n",
       " ((2, 232), (27, 0, 0)),\n",
       " ((2, 234), (24, 0, 0)),\n",
       " ((2, 236), (24, 0, 0)),\n",
       " ((2, 238), (24, 0, 0)),\n",
       " ((2, 240), (25, 0, 0)),\n",
       " ((2, 242), (22, 0, 0)),\n",
       " ((2, 244), (21, 0, 0)),\n",
       " ((2, 246), (25, 1, 0)),\n",
       " ((2, 248), (27, 6, 0)),\n",
       " ((2, 250), (28, 2, 0)),\n",
       " ((2, 252), (27, 0, 0)),\n",
       " ((2, 254), (28, 0, 0)),\n",
       " ((2, 256), (29, 0, 0)),\n",
       " ((2, 258), (34, 0, 0)),\n",
       " ((2, 260), (39, 0, 0)),\n",
       " ((2, 262), (39, 0, 0)),\n",
       " ((2, 264), (36, 0, 0)),\n",
       " ((2, 266), (32, 0, 0)),\n",
       " ((2, 268), (25, 0, 0)),\n",
       " ((2, 270), (15, 0, 0)),\n",
       " ((2, 272), (9, 0, 0)),\n",
       " ((2, 274), (12, 5, 0)),\n",
       " ((2, 276), (6, 2, 0)),\n",
       " ((2, 278), (6, 3, 0)),\n",
       " ((2, 280), (1, 4, 0)),\n",
       " ((2, 282), (3, 5, 0)),\n",
       " ((2, 284), (0, 1, 0)),\n",
       " ((2, 286), (1, 2, 0)),\n",
       " ((2, 288), (17, 12, 0)),\n",
       " ((2, 290), (22, 8, 0)),\n",
       " ((2, 292), (31, 7, 0)),\n",
       " ((2, 294), (24, 0, 0)),\n",
       " ((2, 296), (18, 0, 0)),\n",
       " ((2, 298), (23, 0, 0)),\n",
       " ((2, 300), (29, 0, 0)),\n",
       " ((2, 302), (42, 4, 0)),\n",
       " ((2, 304), (44, 0, 0)),\n",
       " ((2, 306), (43, 0, 0)),\n",
       " ((2, 308), (35, 0, 0)),\n",
       " ((2, 310), (34, 0, 0)),\n",
       " ((2, 312), (30, 0, 0)),\n",
       " ((2, 314), (29, 0, 0)),\n",
       " ((2, 316), (33, 0, 0)),\n",
       " ((2, 318), (33, 0, 0)),\n",
       " ((2, 320), (29, 0, 0)),\n",
       " ((2, 322), (28, 0, 0)),\n",
       " ((2, 324), (28, 0, 0)),\n",
       " ((2, 326), (28, 0, 0)),\n",
       " ((2, 328), (30, 0, 0)),\n",
       " ((2, 330), (28, 0, 0)),\n",
       " ((2, 332), (28, 0, 0)),\n",
       " ((2, 334), (28, 0, 0)),\n",
       " ((2, 336), (31, 0, 0)),\n",
       " ((2, 338), (28, 0, 0)),\n",
       " ((2, 340), (30, 0, 0)),\n",
       " ((2, 342), (28, 0, 0)),\n",
       " ((2, 344), (27, 0, 0)),\n",
       " ((2, 346), (28, 0, 0)),\n",
       " ((2, 348), (27, 0, 0)),\n",
       " ((2, 350), (27, 0, 0)),\n",
       " ((2, 352), (25, 0, 0)),\n",
       " ((2, 354), (25, 0, 0)),\n",
       " ((2, 356), (25, 0, 0)),\n",
       " ((2, 358), (25, 0, 0)),\n",
       " ((2, 360), (25, 0, 0)),\n",
       " ((2, 362), (30, 0, 0)),\n",
       " ((2, 364), (27, 0, 0)),\n",
       " ((2, 366), (27, 0, 0)),\n",
       " ((2, 368), (24, 0, 0)),\n",
       " ((2, 370), (28, 0, 0)),\n",
       " ((2, 372), (25, 0, 0)),\n",
       " ((2, 374), (25, 0, 0)),\n",
       " ((2, 376), (24, 0, 0)),\n",
       " ((2, 378), (29, 0, 0)),\n",
       " ((2, 380), (26, 0, 0)),\n",
       " ((2, 382), (24, 0, 0)),\n",
       " ((2, 384), (24, 0, 0)),\n",
       " ((2, 386), (34, 4, 0)),\n",
       " ((2, 388), (26, 0, 0)),\n",
       " ((2, 390), (21, 0, 0)),\n",
       " ((2, 392), (24, 2, 0)),\n",
       " ((2, 394), (23, 1, 0)),\n",
       " ((2, 396), (18, 0, 0)),\n",
       " ((2, 398), (21, 4, 0)),\n",
       " ((2, 400), (21, 0, 0)),\n",
       " ((2, 402), (15, 0, 0)),\n",
       " ((2, 404), (14, 0, 0)),\n",
       " ((2, 406), (15, 0, 0)),\n",
       " ((2, 408), (18, 3, 0)),\n",
       " ((2, 410), (15, 0, 0)),\n",
       " ((2, 412), (15, 0, 0)),\n",
       " ((2, 414), (17, 2, 0)),\n",
       " ((2, 416), (13, 0, 0)),\n",
       " ((2, 418), (16, 1, 0)),\n",
       " ((2, 420), (17, 1, 0)),\n",
       " ((2, 422), (13, 0, 0)),\n",
       " ((2, 424), (17, 5, 0)),\n",
       " ((2, 426), (10, 0, 0)),\n",
       " ((2, 428), (12, 2, 0)),\n",
       " ((2, 430), (7, 0, 0)),\n",
       " ((2, 432), (9, 1, 0)),\n",
       " ((2, 434), (8, 0, 0)),\n",
       " ((2, 436), (11, 0, 0)),\n",
       " ((2, 438), (11, 0, 0)),\n",
       " ((2, 440), (8, 0, 0)),\n",
       " ((2, 442), (8, 0, 0)),\n",
       " ((2, 444), (10, 2, 0)),\n",
       " ((2, 446), (10, 4, 0)),\n",
       " ((2, 448), (9, 4, 0)),\n",
       " ((2, 450), (8, 0, 0)),\n",
       " ((2, 452), (19, 8, 0)),\n",
       " ((2, 454), (15, 0, 0)),\n",
       " ((2, 456), (18, 0, 0)),\n",
       " ((2, 458), (18, 0, 0)),\n",
       " ((2, 460), (18, 0, 0)),\n",
       " ((2, 462), (18, 0, 0)),\n",
       " ((2, 464), (17, 0, 0)),\n",
       " ((2, 466), (17, 0, 0)),\n",
       " ((2, 468), (17, 0, 0)),\n",
       " ((2, 470), (17, 0, 0)),\n",
       " ((2, 472), (25, 7, 0)),\n",
       " ((2, 474), (17, 0, 0)),\n",
       " ((2, 476), (20, 1, 0)),\n",
       " ((2, 478), (20, 0, 0)),\n",
       " ((3, 1), (0, 21, 0)),\n",
       " ((3, 3), (0, 20, 0)),\n",
       " ((3, 5), (0, 23, 0)),\n",
       " ((3, 7), (0, 23, 0)),\n",
       " ((3, 9), (0, 29, 0)),\n",
       " ((3, 11), (0, 17, 0)),\n",
       " ((3, 13), (0, 15, 0)),\n",
       " ((3, 15), (0, 14, 0)),\n",
       " ((3, 17), (0, 16, 0)),\n",
       " ((3, 19), (0, 11, 0)),\n",
       " ((3, 21), (0, 8, 0)),\n",
       " ((3, 23), (0, 7, 0)),\n",
       " ((3, 25), (2, 16, 0)),\n",
       " ((3, 27), (0, 13, 0)),\n",
       " ((3, 29), (0, 11, 0)),\n",
       " ((3, 31), (0, 11, 0)),\n",
       " ((3, 33), (0, 13, 0)),\n",
       " ((3, 35), (0, 13, 0)),\n",
       " ((3, 37), (1, 8, 0)),\n",
       " ((3, 39), (4, 7, 0)),\n",
       " ((3, 41), (6, 10, 0)),\n",
       " ((3, 43), (10, 13, 0)),\n",
       " ((3, 45), (5, 8, 0)),\n",
       " ((3, 47), (4, 6, 0)),\n",
       " ((3, 49), (9, 12, 0)),\n",
       " ((3, 51), (11, 14, 0)),\n",
       " ((3, 53), (4, 7, 0)),\n",
       " ((3, 55), (3, 6, 0)),\n",
       " ((3, 57), (8, 11, 0)),\n",
       " ((3, 59), (11, 14, 0)),\n",
       " ((3, 61), (5, 8, 0)),\n",
       " ((3, 63), (4, 7, 0)),\n",
       " ((3, 65), (4, 5, 0)),\n",
       " ((3, 67), (6, 7, 0)),\n",
       " ((3, 69), (6, 5, 0)),\n",
       " ((3, 71), (7, 4, 0)),\n",
       " ((3, 73), (14, 7, 0)),\n",
       " ((3, 75), (10, 3, 0)),\n",
       " ((3, 77), (10, 3, 0)),\n",
       " ((3, 79), (14, 7, 0)),\n",
       " ((3, 81), (17, 8, 0)),\n",
       " ((3, 83), (18, 6, 0)),\n",
       " ((3, 85), (15, 1, 0)),\n",
       " ((3, 87), (16, 2, 0)),\n",
       " ((3, 89), (14, 0, 0)),\n",
       " ((3, 91), (14, 0, 0)),\n",
       " ((3, 93), (15, 0, 0)),\n",
       " ((3, 95), (17, 0, 0)),\n",
       " ((3, 97), (14, 0, 0)),\n",
       " ((3, 99), (19, 5, 0)),\n",
       " ((3, 101), (24, 10, 0)),\n",
       " ((3, 103), (14, 0, 0)),\n",
       " ((3, 105), (26, 7, 0)),\n",
       " ((3, 107), (19, 0, 0)),\n",
       " ((3, 109), (27, 8, 0)),\n",
       " ((3, 111), (21, 2, 0)),\n",
       " ((3, 113), (24, 5, 0)),\n",
       " ((3, 115), (17, 0, 0)),\n",
       " ((3, 117), (23, 4, 0)),\n",
       " ((3, 119), (18, 0, 0)),\n",
       " ((3, 121), (26, 7, 0)),\n",
       " ((3, 123), (23, 4, 0)),\n",
       " ((3, 125), (26, 7, 0)),\n",
       " ((3, 127), (18, 0, 0)),\n",
       " ((3, 129), (17, 0, 0)),\n",
       " ((3, 131), (25, 5, 0)),\n",
       " ((3, 133), (24, 4, 0)),\n",
       " ((3, 135), (17, 0, 0)),\n",
       " ((3, 137), (24, 2, 0)),\n",
       " ((3, 139), (21, 0, 0)),\n",
       " ((3, 141), (21, 0, 0)),\n",
       " ((3, 143), (21, 0, 0)),\n",
       " ((3, 145), (22, 0, 0)),\n",
       " ((3, 147), (21, 0, 0)),\n",
       " ((3, 149), (22, 0, 0)),\n",
       " ((3, 151), (22, 0, 0)),\n",
       " ((3, 153), (22, 0, 0)),\n",
       " ((3, 155), (20, 0, 0)),\n",
       " ((3, 157), (27, 4, 0)),\n",
       " ((3, 159), (19, 0, 0)),\n",
       " ((3, 161), (16, 0, 0)),\n",
       " ((3, 163), (17, 0, 0)),\n",
       " ((3, 165), (19, 0, 0)),\n",
       " ((3, 167), (18, 0, 0)),\n",
       " ((3, 169), (18, 0, 0)),\n",
       " ((3, 171), (21, 0, 0)),\n",
       " ((3, 173), (22, 0, 0)),\n",
       " ((3, 175), (24, 0, 0)),\n",
       " ((3, 177), (25, 0, 0)),\n",
       " ((3, 179), (25, 0, 0)),\n",
       " ((3, 181), (35, 4, 0)),\n",
       " ((3, 183), (25, 0, 0)),\n",
       " ((3, 185), (28, 0, 0)),\n",
       " ((3, 187), (29, 0, 0)),\n",
       " ((3, 189), (33, 0, 0)),\n",
       " ((3, 191), (31, 0, 0)),\n",
       " ((3, 193), (34, 0, 0)),\n",
       " ((3, 195), (34, 0, 0)),\n",
       " ((3, 197), (38, 0, 0)),\n",
       " ((3, 199), (34, 0, 0)),\n",
       " ((3, 201), (35, 0, 0)),\n",
       " ((3, 203), (34, 0, 0)),\n",
       " ((3, 205), (35, 0, 0)),\n",
       " ((3, 207), (31, 0, 0)),\n",
       " ((3, 209), (31, 0, 0)),\n",
       " ((3, 211), (31, 0, 0)),\n",
       " ((3, 213), (31, 0, 0)),\n",
       " ((3, 215), (31, 0, 0)),\n",
       " ((3, 217), (32, 0, 0)),\n",
       " ((3, 219), (31, 0, 0)),\n",
       " ((3, 221), (34, 0, 0)),\n",
       " ((3, 223), (31, 0, 0)),\n",
       " ((3, 225), (29, 0, 0)),\n",
       " ((3, 227), (27, 0, 0)),\n",
       " ((3, 229), (25, 0, 0)),\n",
       " ((3, 231), (31, 2, 0)),\n",
       " ((3, 233), (29, 0, 0)),\n",
       " ((3, 235), (24, 0, 0)),\n",
       " ((3, 237), (24, 0, 0)),\n",
       " ((3, 239), (31, 2, 0)),\n",
       " ((3, 241), (30, 0, 0)),\n",
       " ((3, 243), (25, 0, 0)),\n",
       " ((3, 245), (22, 0, 0)),\n",
       " ((3, 247), (32, 5, 0)),\n",
       " ((3, 249), (34, 8, 0)),\n",
       " ((3, 251), (34, 4, 0)),\n",
       " ((3, 253), (28, 0, 0)),\n",
       " ((3, 255), (29, 0, 0)),\n",
       " ((3, 257), (32, 0, 0)),\n",
       " ((3, 259), (34, 0, 0)),\n",
       " ((3, 261), (36, 0, 0)),\n",
       " ((3, 263), (36, 0, 0)),\n",
       " ((3, 265), (32, 0, 0)),\n",
       " ((3, 267), (32, 3, 0)),\n",
       " ((3, 269), (26, 6, 0)),\n",
       " ((3, 271), (11, 0, 0)),\n",
       " ((3, 273), (10, 0, 0)),\n",
       " ((3, 275), (8, 0, 0)),\n",
       " ((3, 277), (6, 0, 0)),\n",
       " ((3, 279), (4, 0, 0)),\n",
       " ((3, 281), (0, 2, 0)),\n",
       " ((3, 283), (0, 1, 0)),\n",
       " ((3, 285), (1, 1, 0)),\n",
       " ((3, 287), (1, 2, 0)),\n",
       " ((3, 289), (17, 9, 0)),\n",
       " ((3, 291), (17, 0, 0)),\n",
       " ((3, 293), (20, 0, 0)),\n",
       " ((3, 295), (18, 0, 0)),\n",
       " ((3, 297), (18, 0, 0)),\n",
       " ((3, 299), (22, 0, 0)),\n",
       " ((3, 301), (29, 0, 0)),\n",
       " ((3, 303), (44, 4, 0)),\n",
       " ((3, 305), (45, 0, 0)),\n",
       " ((3, 307), (35, 0, 0)),\n",
       " ((3, 309), (34, 0, 0)),\n",
       " ((3, 311), (33, 0, 0)),\n",
       " ((3, 313), (34, 0, 0)),\n",
       " ((3, 315), (34, 0, 0)),\n",
       " ((3, 317), (34, 0, 0)),\n",
       " ((3, 319), (35, 0, 0)),\n",
       " ((3, 321), (28, 0, 0)),\n",
       " ((3, 323), (28, 0, 0)),\n",
       " ((3, 325), (28, 0, 0)),\n",
       " ((3, 327), (30, 0, 0)),\n",
       " ((3, 329), (29, 0, 0)),\n",
       " ((3, 331), (28, 0, 0)),\n",
       " ((3, 333), (28, 0, 0)),\n",
       " ((3, 335), (31, 0, 0)),\n",
       " ((3, 337), (33, 0, 0)),\n",
       " ((3, 339), (31, 0, 0)),\n",
       " ((3, 341), (30, 0, 0)),\n",
       " ((3, 343), (30, 0, 0)),\n",
       " ((3, 345), (31, 0, 0)),\n",
       " ((3, 347), (29, 0, 0)),\n",
       " ((3, 349), (27, 0, 0)),\n",
       " ((3, 351), (29, 0, 0)),\n",
       " ((3, 353), (27, 0, 0)),\n",
       " ((3, 355), (26, 0, 0)),\n",
       " ((3, 357), (25, 0, 0)),\n",
       " ((3, 359), (25, 0, 0)),\n",
       " ((3, 361), (30, 0, 0)),\n",
       " ((3, 363), (34, 3, 0)),\n",
       " ((3, 365), (29, 0, 0)),\n",
       " ((3, 367), (26, 0, 0)),\n",
       " ((3, 369), (28, 0, 0)),\n",
       " ((3, 371), (32, 2, 0)),\n",
       " ((3, 373), (27, 0, 0)),\n",
       " ((3, 375), (24, 0, 0)),\n",
       " ((3, 377), (24, 0, 0)),\n",
       " ((3, 379), (24, 0, 0)),\n",
       " ((3, 381), (24, 0, 0)),\n",
       " ((3, 383), (24, 0, 0)),\n",
       " ((3, 385), (24, 0, 0)),\n",
       " ((3, 387), (22, 0, 0)),\n",
       " ((3, 389), (21, 0, 0)),\n",
       " ((3, 391), (21, 0, 0)),\n",
       " ((3, 393), (18, 0, 0)),\n",
       " ((3, 395), (18, 0, 0)),\n",
       " ((3, 397), (17, 0, 0)),\n",
       " ((3, 399), (24, 7, 0)),\n",
       " ((3, 401), (22, 1, 0)),\n",
       " ((3, 403), (17, 0, 0)),\n",
       " ((3, 405), (14, 0, 0)),\n",
       " ((3, 407), (19, 4, 0)),\n",
       " ((3, 409), (19, 4, 0)),\n",
       " ((3, 411), (16, 1, 0)),\n",
       " ((3, 413), (23, 8, 0)),\n",
       " ((3, 415), (14, 0, 0)),\n",
       " ((3, 417), (18, 3, 0)),\n",
       " ((3, 419), (19, 3, 0)),\n",
       " ((3, 421), (23, 7, 0)),\n",
       " ((3, 423), (13, 0, 0)),\n",
       " ((3, 425), (13, 1, 0)),\n",
       " ((3, 427), (8, 0, 0)),\n",
       " ((3, 429), (9, 1, 0)),\n",
       " ((3, 431), (7, 0, 0)),\n",
       " ((3, 433), (8, 0, 0)),\n",
       " ((3, 435), (10, 0, 0)),\n",
       " ((3, 437), (11, 0, 0)),\n",
       " ((3, 439), (13, 0, 0)),\n",
       " ((3, 441), (8, 0, 0)),\n",
       " ((3, 443), (8, 0, 0)),\n",
       " ((3, 445), (9, 1, 0)),\n",
       " ((3, 447), (10, 4, 0)),\n",
       " ((3, 449), (7, 1, 0)),\n",
       " ((3, 451), (10, 0, 0)),\n",
       " ((3, 453), (14, 0, 0)),\n",
       " ((3, 455), (15, 0, 0)),\n",
       " ((3, 457), (18, 0, 0)),\n",
       " ((3, 459), (18, 0, 0)),\n",
       " ((3, 461), (18, 0, 0)),\n",
       " ((3, 463), (18, 0, 0)),\n",
       " ((3, 465), (22, 4, 0)),\n",
       " ((3, 467), (26, 8, 0)),\n",
       " ((3, 469), (22, 4, 0)),\n",
       " ((3, 471), (17, 0, 0)),\n",
       " ((3, 473), (25, 7, 0)),\n",
       " ((3, 475), (18, 0, 0)),\n",
       " ((3, 477), (20, 0, 0)),\n",
       " ((3, 479), (20, 0, 0)),\n",
       " ((4, 0), (0, 20, 0)),\n",
       " ((4, 2), (0, 22, 0)),\n",
       " ((4, 4), (0, 19, 0)),\n",
       " ((4, 6), (0, 24, 0)),\n",
       " ((4, 8), (0, 30, 0)),\n",
       " ((4, 10), (0, 18, 0)),\n",
       " ((4, 12), (0, 22, 0)),\n",
       " ((4, 14), (0, 17, 0)),\n",
       " ((4, 16), (0, 13, 0)),\n",
       " ((4, 18), (0, 18, 0)),\n",
       " ((4, 20), (0, 11, 0)),\n",
       " ((4, 22), (0, 6, 0)),\n",
       " ((4, 24), (2, 12, 0)),\n",
       " ((4, 26), (0, 8, 0)),\n",
       " ((4, 28), (0, 13, 0)),\n",
       " ((4, 30), (0, 14, 0)),\n",
       " ((4, 32), (0, 12, 0)),\n",
       " ((4, 34), (0, 11, 0)),\n",
       " ((4, 36), (4, 13, 0)),\n",
       " ((4, 38), (7, 12, 0)),\n",
       " ((4, 40), (3, 8, 0)),\n",
       " ((4, 42), (3, 7, 0)),\n",
       " ((4, 44), (5, 8, 0)),\n",
       " ((4, 46), (8, 11, 0)),\n",
       " ((4, 48), (5, 8, 0)),\n",
       " ((4, 50), (3, 6, 0)),\n",
       " ((4, 52), (5, 8, 0)),\n",
       " ((4, 54), (6, 9, 0)),\n",
       " ((4, 56), (3, 6, 0)),\n",
       " ((4, 58), (3, 6, 0)),\n",
       " ((4, 60), (5, 8, 0)),\n",
       " ((4, 62), (8, 11, 0)),\n",
       " ((4, 64), (6, 9, 0)),\n",
       " ((4, 66), (4, 5, 0)),\n",
       " ((4, 68), (6, 5, 0)),\n",
       " ((4, 70), (6, 5, 0)),\n",
       " ((4, 72), (15, 8, 0)),\n",
       " ((4, 74), (10, 3, 0)),\n",
       " ((4, 76), (10, 3, 0)),\n",
       " ((4, 78), (11, 4, 0)),\n",
       " ...]"
      ]
     },
     "execution_count": 235,
     "metadata": {},
     "output_type": "execute_result"
    }
   ],
   "source": [
    "from PIL import Image, ImageDraw, ImageColor\n",
    "\n",
    "im = Image.open('cave.jpg')\n",
    "imCopy = im.copy()\n",
    "draw = ImageDraw.Draw(imCopy)\n",
    "\n",
    "width, height = imCopy.size\n",
    "\n",
    "colorList = []\n",
    "for i in range(0, width, 1):\n",
    "    for j in range(0, height, 1):\n",
    "        if (i%2==0 and j%2==0) or (i%2==1 and j%2==1):\n",
    "            colorList.append(((i,j),(imCopy.getpixel((i,j)))))\n",
    "#imCopy.save('caveOdd.jpg')\n",
    "colorList"
   ]
  },
  {
   "cell_type": "code",
   "execution_count": 4,
   "metadata": {},
   "outputs": [
    {
     "name": "stdout",
     "output_type": "stream",
     "text": [
      "RGB\n"
     ]
    }
   ],
   "source": [
    "from PIL import Image, ImageDraw, ImageColor\n",
    "import os\n",
    "\n",
    "im = Image.open(os.path.dirname(os.getcwd()) + '/files/cave.jpg')\n",
    "imCopy = im.copy()\n",
    "draw = ImageDraw.Draw(imCopy)\n",
    "width, height = imCopy.size\n",
    "\n",
    "print(imCopy.mode)\n",
    "\n",
    "for i in range(0, width,8):\n",
    "    for j in range(0, height,8):\n",
    "        x, y, z = imCopy.getpixel((i,j))\n",
    "        \n",
    "        imCopy.putpixel((i,j), (x//2,y//2,z//2,0))\n",
    "imCopy.save(os.path.dirname(os.getcwd()) + '/files/cave_w.jpg')"
   ]
  },
  {
   "cell_type": "markdown",
   "metadata": {},
   "source": [
    "#### 显示和通道分离"
   ]
  },
  {
   "cell_type": "code",
   "execution_count": null,
   "metadata": {},
   "outputs": [],
   "source": [
    "import cv2, os\n",
    "\n",
    "im = cv2.imread(os.path.dirname(os.getcwd()) + '/files/cave.jpg', cv2.IMREAD_UNCHANGED)\n",
    "b, g, r = cv2.split(im)\n",
    "cv2.namedWindow('Window')\n",
    "cv2.imshow('Window', im)\n",
    "cv2.imshow('red', b)\n",
    "cv2.imshow('green', g)\n",
    "cv2.imshow('blue', r)\n",
    "cv2.waitKey(0)\n",
    "cv2.destroyAllWindows() "
   ]
  },
  {
   "cell_type": "markdown",
   "metadata": {},
   "source": [
    "#### 融合"
   ]
  },
  {
   "cell_type": "code",
   "execution_count": 2,
   "metadata": {},
   "outputs": [],
   "source": [
    "import cv2, os\n",
    "\n",
    "img1 = cv2.imread(os.path.dirname(os.getcwd()) + '/files/eggs.jpg')\n",
    "img2 = cv2.imread(os.path.dirname(os.getcwd()) + '/files/sea.jpg')\n",
    "img_add = cv2.add(img1, img2)\n",
    "img_mix2 = cv2.addWeighted(img1, 0.5, img2, 0.5, 0)\n",
    "'''\n",
    "img_mix1 = cv2.addWeighted(img1, 0.9, img2, 0.1, 0)\n",
    "\n",
    "img_mix3 = cv2.addWeighted(img1, 0.1, img2, 0.9, 0)\n",
    "\n",
    "cv2.namedWindow('img_mix1')\n",
    "cv2.namedWindow('img_mix2')\n",
    "cv2.namedWindow('img_mix3')\n",
    "\n",
    "cv2.imshow('img_mix1', img_mix1)\n",
    "cv2.imshow('img_mix2', img_mix2)\n",
    "cv2.imshow('img_mix3', img_mix3)\n",
    "'''\n",
    "cv2.imwrite(os.path.dirname(os.getcwd()) + '/files/seaegg_add.jpg', img_add)\n",
    "cv2.imwrite(os.path.dirname(os.getcwd()) + '/files/seaegg_mix.jpg', img_mix2)\n",
    "\n",
    "cv2.waitKey(0)\n",
    "cv2.destroyAllWindows()"
   ]
  },
  {
   "cell_type": "markdown",
   "metadata": {},
   "source": [
    "#### 减法"
   ]
  },
  {
   "cell_type": "code",
   "execution_count": null,
   "metadata": {
    "collapsed": true
   },
   "outputs": [],
   "source": [
    "import cv2, os\n",
    "import numpy as np\n",
    "\n",
    "im = cv2.imread(os.path.dirname(os.getcwd()) + '/files/cave.jpg', cv2.IMREAD_UNCHANGED)\n",
    "M = np.ones(im.shape,dtype=\"uint8\") * 150\n",
    "subtracted = cv2.subtract(im,M)\n",
    "cv2.imshow(\"Subtracted\", subtracted)\n",
    "\n",
    "cv2.waitKey(0)\n",
    "cv2.destroyAllWindows() "
   ]
  },
  {
   "cell_type": "markdown",
   "metadata": {
    "collapsed": true
   },
   "source": [
    "#### 正解是这个："
   ]
  },
  {
   "cell_type": "code",
   "execution_count": 13,
   "metadata": {},
   "outputs": [],
   "source": [
    "from PIL import Image, ImageDraw, ImageColor\n",
    "\n",
    "im = Image.open(os.path.dirname(os.getcwd()) + '/files/cave.jpg')\n",
    "imCopy = im.copy()\n",
    "draw = ImageDraw.Draw(imCopy)\n",
    "\n",
    "width, height = imCopy.size\n",
    "\n",
    "for i in range(0, width):\n",
    "    for j in range(0, height):\n",
    "        if (i%2==0 or j%2==0): #  and j%2==1 or (i%2==1 and j%2==0)\n",
    "            imCopy.putpixel((i,j), (0,0,0,0))\n",
    "imCopy.save(os.path.dirname(os.getcwd()) + '/files/caveEven.jpg')"
   ]
  },
  {
   "cell_type": "markdown",
   "metadata": {},
   "source": [
    "隐隐看到了四个字母：evil\n",
    "\n",
    "输入后，得到了下一关。"
   ]
  },
  {
   "cell_type": "markdown",
   "metadata": {},
   "source": [
    "### 第12关\n",
    "\n",
    "[dealing evil](http://www.pythonchallenge.com/pc/return/evil.html)"
   ]
  },
  {
   "cell_type": "markdown",
   "metadata": {},
   "source": [
    "页面上有个evil1图像，有个人提到了evil2  \n",
    "替代了一下，这个图像歪歪扭扭地写着'not jpg, -gfx'。于是从http://www.pythonchallenge.com/pc/return/evil2.gfx 下载了一个文件。\n",
    "\n",
    "然后，忙得焦头烂额却一无所获时，看见别人说还有evil3，果然有，不过写的是'no more evils.'然而，还有evil4，是个`16*16`的小方框。5终于404了。"
   ]
  },
  {
   "cell_type": "code",
   "execution_count": 25,
   "metadata": {},
   "outputs": [
    {
     "name": "stdout",
     "output_type": "stream",
     "text": [
      "width: 71\n",
      "height: 55\n",
      "pix: 3905\n",
      "filesize: 67575\n",
      "change: 17873\n",
      "loop: 22507\n"
     ]
    }
   ],
   "source": [
    "# [python 二进制读写文件 - ezhong - 博客园](https://www.cnblogs.com/ezhong/p/3529202.html)\n",
    "\n",
    "import os\n",
    "file = open(os.path.dirname(os.getcwd()) + '/files/evil2.gfx', 'rb')\n",
    "filedata = file.read()\n",
    "filesize = file.tell()\n",
    "file.close()\n",
    "\n",
    "filedata2 = bytearray(filedata)\n",
    "width = filedata2[18]\n",
    "height = filedata2[22]\n",
    "print('width:', width)\n",
    "print('height:', height)\n",
    "print('pix:', width * height)\n",
    "print('filesize:', filesize)\n",
    "\n",
    "tempfile = open(os.path.dirname(os.getcwd()) + '/files/temp.jpg', 'wb')\n",
    "change = 0\n",
    "index = 54\n",
    "loop = 0\n",
    "while index < filesize - 2:\n",
    "    loop += 1\n",
    "    r = filedata2[index]\n",
    "    g = filedata2[index+1]\n",
    "    b = filedata2[index+2]\n",
    "    threshold = 110\n",
    "    if (r < threshold) and (g < threshold) and (b < threshold):\n",
    "        bytes = bytearray(3)\n",
    "        bytes[0] = 0\n",
    "        bytes[1] = 255\n",
    "        bytes[2] = 0\n",
    "        filedata2[index:index+3] = bytes\n",
    "    else:\n",
    "        bytes = bytearray(3)\n",
    "        bytes[0] = bytes[1] = bytes[2] = 255\n",
    "        filedata2[index:index+3] = bytes\n",
    "        change += 1\n",
    "    index += 3 \n",
    "tempfile.write(filedata2)\n",
    "tempfile.close()\n",
    "print ('change:',change)\n",
    "print ('loop:',loop)"
   ]
  },
  {
   "cell_type": "code",
   "execution_count": 23,
   "metadata": {},
   "outputs": [
    {
     "name": "stdout",
     "output_type": "stream",
     "text": [
      "255 137 71 137\n"
     ]
    }
   ],
   "source": [
    "import struct\n",
    "\n",
    "f = open(os.path.dirname(os.getcwd()) + '/files/evil2.gfx',\"rb+\")\n",
    "data = f.read(4) #这样data是一个b开头的ASCII数字。\n",
    "a,b,c,d=struct.unpack('4c',data)\n",
    "\n",
    "f.close()\n",
    "print(ord(a),ord(b),ord(c),ord(d)) #将二进制数据转化为10进制数据。"
   ]
  },
  {
   "cell_type": "code",
   "execution_count": 18,
   "metadata": {},
   "outputs": [],
   "source": [
    "def xshow(filename, nx, nz):\n",
    "    f = open(filename, \"rb\")\n",
    "    pic = np.zeros((nx, nz))\n",
    "    for i in range(nx):\n",
    "        for j in range(nz):\n",
    "            data = f.read(4)\n",
    "            elem = struct.unpack(\"f\", data)[0]\n",
    "            pic[i][j] = elem\n",
    "    f.close()\n",
    "    return pic"
   ]
  },
  {
   "cell_type": "code",
   "execution_count": null,
   "metadata": {
    "collapsed": true
   },
   "outputs": [],
   "source": []
  }
 ],
 "metadata": {
  "kernelspec": {
   "display_name": "Python 3",
   "language": "python",
   "name": "python3"
  },
  "language_info": {
   "codemirror_mode": {
    "name": "ipython",
    "version": 3
   },
   "file_extension": ".py",
   "mimetype": "text/x-python",
   "name": "python",
   "nbconvert_exporter": "python",
   "pygments_lexer": "ipython3",
   "version": "3.7.3"
  }
 },
 "nbformat": 4,
 "nbformat_minor": 1
}
