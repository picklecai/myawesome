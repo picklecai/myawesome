{
 "cells": [
  {
   "cell_type": "code",
   "execution_count": 19,
   "metadata": {},
   "outputs": [],
   "source": [
    "import docx, os\n",
    "\n",
    "path = os.path.join(os.path.dirname(os.path.dirname(os.getcwd())), 'pickle')\n",
    "docNames = os.listdir(os.path.join(path,'docblog'))\n",
    "mdPath = os.path.join(path, 'mdblog')\n",
    "for name in docNames:\n",
    "    title = name[:-22] \n",
    "    date = ''.join([name[-21:-8], ':', name[-7:-5]]) \n",
    "    headers = '''---\n",
    "layout: post  \n",
    "title:  \"%s\"\n",
    "date:  %s:00\n",
    "author: Pickle Cai  \n",
    "categories: EduBlog  \n",
    "keywords: \n",
    "description:   \n",
    "tags:\tpickle   \n",
    "cover:  \"/assets/cover.jpg\"  \n",
    "\n",
    "---''' %(title, date)\n",
    "    dateInTitle = name[-21:-11]\n",
    "    with open (os.path.join(mdPath, dateInTitle+'-'+title+'.md'), 'w') as mdFile:\n",
    "        mdFile.write(headers)\n",
    "        mdFile.write('\\n\\n')\n",
    "        doc = docx.Document(os.path.join(path, 'docblog', name))\n",
    "        for i in range(2, len(doc.paragraphs)-2):\n",
    "            mdFile.write(doc.paragraphs[i].text + '\\n')"
   ]
  },
  {
   "cell_type": "code",
   "execution_count": null,
   "metadata": {},
   "outputs": [],
   "source": []
  }
 ],
 "metadata": {
  "kernelspec": {
   "display_name": "Python 3",
   "language": "python",
   "name": "python3"
  },
  "language_info": {
   "codemirror_mode": {
    "name": "ipython",
    "version": 3
   },
   "file_extension": ".py",
   "mimetype": "text/x-python",
   "name": "python",
   "nbconvert_exporter": "python",
   "pygments_lexer": "ipython3",
   "version": "3.7.3"
  }
 },
 "nbformat": 4,
 "nbformat_minor": 2
}
