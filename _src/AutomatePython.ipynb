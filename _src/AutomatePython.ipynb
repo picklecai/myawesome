{
 "cells": [
  {
   "cell_type": "markdown",
   "metadata": {},
   "source": [
    "# Python编程快速上手——让繁琐工作自动化  \n",
    "## Automate the Boring Stuff with Python  \n",
    "\n",
    "【美】AI Sweigart 著， 王海鹏 译  \n",
    "中国工信出版集团 人民邮电出版社 2016年7月第1版"
   ]
  },
  {
   "cell_type": "markdown",
   "metadata": {},
   "source": [
    "## 第二章 控制流\n",
    "\n",
    "### 1. 高斯题目 （page.38）"
   ]
  },
  {
   "cell_type": "code",
   "execution_count": 1,
   "metadata": {
    "collapsed": false
   },
   "outputs": [
    {
     "name": "stdout",
     "output_type": "stream",
     "text": [
      "5050 101\n"
     ]
    }
   ],
   "source": [
    "n = 100\n",
    "Sum = 0\n",
    "counter = 1\n",
    "while counter<=n:\n",
    "    Sum = Sum + counter\n",
    "    counter += 1\n",
    "    \n",
    "print(Sum,counter)"
   ]
  },
  {
   "cell_type": "code",
   "execution_count": 1,
   "metadata": {
    "collapsed": false
   },
   "outputs": [
    {
     "name": "stdout",
     "output_type": "stream",
     "text": [
      "5050\n"
     ]
    }
   ],
   "source": [
    "Sum = 0\n",
    "for i in range(101):\n",
    "    Sum += i\n",
    "print(Sum)"
   ]
  },
  {
   "cell_type": "code",
   "execution_count": 3,
   "metadata": {
    "collapsed": false
   },
   "outputs": [
    {
     "name": "stdout",
     "output_type": "stream",
     "text": [
      "5050\n"
     ]
    }
   ],
   "source": [
    "print(sum(range(101)))"
   ]
  },
  {
   "cell_type": "markdown",
   "metadata": {},
   "source": [
    "### 2. 猜测密码本中的密钥"
   ]
  },
  {
   "cell_type": "code",
   "execution_count": 2,
   "metadata": {
    "collapsed": false
   },
   "outputs": [
    {
     "name": "stdout",
     "output_type": "stream",
     "text": [
      "Enter your password:5tgbvfr4\n",
      "Access granted. Your password has 8 characters.\n"
     ]
    }
   ],
   "source": [
    "# __coding:utf-8__\n",
    "\n",
    "name = 'password'\n",
    "desk_path = '/Users/caimeijuan/github/myawesome/_src/'\n",
    "full_path = desk_path + name + '.txt'\n",
    "passwordFile = open(full_path)\n",
    "secretPassword = passwordFile.read()\n",
    "typedPassword = input(\"Enter your password:\")\n",
    "\n",
    "while typedPassword!=secretPassword :\n",
    "    print('Access denied! PLease enter again.')\n",
    "    typedPassword = input(\"Enter your password again:\")\n",
    "    if typedPassword == secretPassword:\n",
    "        break    \n",
    "\n",
    "if typedPassword == '123456':\n",
    "    print('This is not a good password.')    \n",
    "    print('Access granted.')\n",
    "else:\n",
    "    print('Access granted. Your password has %d characters.' % len(typedPassword)) "
   ]
  },
  {
   "cell_type": "markdown",
   "metadata": {},
   "source": [
    "一直提示while语句语法错误，于是写一段while来看看，还怀疑是字符串判不同的问题。最后发现，`while`不小心大写成了`While`"
   ]
  },
  {
   "cell_type": "code",
   "execution_count": 30,
   "metadata": {
    "collapsed": false
   },
   "outputs": [
    {
     "name": "stdout",
     "output_type": "stream",
     "text": [
      "Enter your password:········\n",
      "Enter your password:········\n",
      "Access granted.\n",
      "This is not a good password.\n"
     ]
    }
   ],
   "source": [
    "# _*_coding:utf-8_*_\n",
    "import os, getpass\n",
    "\n",
    "os.chdir(os.path.dirname(os.getcwd()) + '/files/') # 转到父级文件目录\n",
    "passWord = open(os.getcwd() + '/password.txt').read()\n",
    "while True:\n",
    "    guessWord = getpass.getpass('Enter your password:')\n",
    "    if guessWord!=passWord:\n",
    "        continue\n",
    "    else:\n",
    "        if guessWord == '123456':\n",
    "            print('Access granted.','This is not a good password.', sep='\\n')\n",
    "        else:\n",
    "            print('Access granted.','Your password has %d characters.' %len(guessWord), sep='\\n')\n",
    "        break"
   ]
  },
  {
   "cell_type": "markdown",
   "metadata": {},
   "source": [
    "结合路径和隐式输入密码，重新写。并用continue改进了流程。\n",
    "\n",
    "**是从上面这两个开始会写while的。以前只知道用for**"
   ]
  },
  {
   "cell_type": "code",
   "execution_count": 13,
   "metadata": {
    "collapsed": false
   },
   "outputs": [
    {
     "name": "stdout",
     "output_type": "stream",
     "text": [
      "Guess a password:········\n",
      "Guess a password:········\n",
      "Access granted.\n",
      "This is not a good password.\n"
     ]
    }
   ],
   "source": [
    "# _*_coding:utf-8_*_\n",
    "import os, getpass\n",
    "\n",
    "passWord = open(os.path.dirname(os.getcwd()) + '/files/password.txt').read()\n",
    "while True:\n",
    "    guessWord = getpass.getpass('Guess a password:')\n",
    "    if guessWord == passWord:\n",
    "        if guessWord == '123456':\n",
    "            print('Access granted.\\nThis is not a good password.')\n",
    "        else:\n",
    "            print('Access granted.\\nYour password has %d characters.' % len(passWord))\n",
    "        break"
   ]
  },
  {
   "cell_type": "markdown",
   "metadata": {},
   "source": [
    "重新写了读取密码本的过程，只需要一句话就可以了。continue那个分支可以不要。"
   ]
  },
  {
   "cell_type": "markdown",
   "metadata": {},
   "source": [
    "### 3. 验证用户名和密码 "
   ]
  },
  {
   "cell_type": "code",
   "execution_count": 18,
   "metadata": {
    "collapsed": false,
    "scrolled": true
   },
   "outputs": [
    {
     "name": "stdout",
     "output_type": "stream",
     "text": [
      "Who are you?Joe\n",
      "Hello, Joe. What is the password?(It's a fish.)fish\n",
      "Who are you?Joe\n",
      "Hello, Joe. What is the password?(It's a fish.)swordfish\n",
      "Access granted.\n"
     ]
    }
   ],
   "source": [
    "while True:\n",
    "    name = input('Who are you?')\n",
    "    if name!='Joe':\n",
    "        continue\n",
    "    password = input('Hello, Joe. What is the password?(It\\'s a fish.)')\n",
    "    if password == 'swordfish':\n",
    "        break\n",
    "print('Access granted.')"
   ]
  },
  {
   "cell_type": "markdown",
   "metadata": {},
   "source": [
    "如果有两个需要反复验证的，第二次的通不过会让第一次的再执行。 回答joe通过用户名后，如果密码不对，又退回去问用户名了。"
   ]
  },
  {
   "cell_type": "code",
   "execution_count": 17,
   "metadata": {
    "collapsed": false,
    "scrolled": true
   },
   "outputs": [
    {
     "name": "stdout",
     "output_type": "stream",
     "text": [
      "Who are you?Joe\n",
      "Hello, Joe. What's the pasword?(It's a fish.)fish\n",
      "Hello, Joe. What's the pasword?(It's a fish.)swordfish\n",
      "Access granted.\n"
     ]
    }
   ],
   "source": [
    "while True:\n",
    "    name = input('Who are you?')\n",
    "    if name == 'Joe':\n",
    "        password = '' # 只是为了让这个变量在被调用之前先存在\n",
    "        while password != 'swordfish':\n",
    "            password = input('Hello, Joe. What\\'s the pasword?(It\\'s a fish.)')\n",
    "        break\n",
    "print('Access granted.')"
   ]
  },
  {
   "cell_type": "markdown",
   "metadata": {},
   "source": [
    "改进上面的密码不对又回去问人，两层while加一层break"
   ]
  },
  {
   "cell_type": "markdown",
   "metadata": {},
   "source": [
    "### 4. 试图退出 "
   ]
  },
  {
   "cell_type": "code",
   "execution_count": 4,
   "metadata": {
    "collapsed": false,
    "scrolled": true
   },
   "outputs": [
    {
     "name": "stdout",
     "output_type": "stream",
     "text": [
      "Type exit to exit:exit\n",
      "You typed \"exit\".\n"
     ]
    },
    {
     "ename": "SystemExit",
     "evalue": "",
     "output_type": "error",
     "traceback": [
      "An exception has occurred, use %tb to see the full traceback.\n",
      "\u001b[0;31mSystemExit\u001b[0m\n"
     ]
    },
    {
     "name": "stderr",
     "output_type": "stream",
     "text": [
      "/Users/caimeijuan/anaconda/envs/python35/lib/python3.7/site-packages/IPython/core/interactiveshell.py:3299: UserWarning: To exit: use 'exit', 'quit', or Ctrl-D.\n",
      "  warn(\"To exit: use 'exit', 'quit', or Ctrl-D.\", stacklevel=1)\n"
     ]
    }
   ],
   "source": [
    "import sys\n",
    "while True:\n",
    "    response = input('Type exit to exit:')\n",
    "    if response == 'exit':\n",
    "        print('You typed \"'+ response +'\".')\n",
    "        sys.exit()"
   ]
  },
  {
   "cell_type": "markdown",
   "metadata": {},
   "source": [
    "## 第三章 函数  \n",
    "\n",
    "### 5. 月份随机数 "
   ]
  },
  {
   "cell_type": "code",
   "execution_count": 5,
   "metadata": {
    "collapsed": false
   },
   "outputs": [],
   "source": [
    "def getAnswer(answerNumber):\n",
    "    '''\n",
    "    函数功能：从自然数推算出对应月份\n",
    "    输入：一个自然数\n",
    "    输出：一年12个月，非这12个数字则提示无此月份\n",
    "    '''\n",
    "    print(answerNumber)\n",
    "    if answerNumber == 1:\n",
    "        return 'This is in January'\n",
    "    elif answerNumber == 2:\n",
    "        return 'This is in February'\n",
    "    elif answerNumber == 3:\n",
    "        return 'This is in March'\n",
    "    elif answerNumber == 4:\n",
    "        return 'This is in April'\n",
    "    elif answerNumber == 5:\n",
    "        return 'This is in May'\n",
    "    elif answerNumber == 6:\n",
    "        return 'This is in June'\n",
    "    elif answerNumber == 7:\n",
    "        return 'This is in July'\n",
    "    elif answerNumber == 8:\n",
    "        return 'This is in August'\n",
    "    elif answerNumber == 9:\n",
    "        return 'This is in September'\n",
    "    elif answerNumber == 10:\n",
    "        return 'This is in October'\n",
    "    elif answerNumber == 11:\n",
    "        return 'This is in November'\n",
    "    elif answerNumber == 12:\n",
    "        return 'This is in December'\n",
    "    else:\n",
    "        return 'This is not in any month of the year.'    "
   ]
  },
  {
   "cell_type": "code",
   "execution_count": 6,
   "metadata": {
    "collapsed": false
   },
   "outputs": [
    {
     "name": "stdout",
     "output_type": "stream",
     "text": [
      "13\n"
     ]
    },
    {
     "data": {
      "text/plain": [
       "'This is not in any month of the year.'"
      ]
     },
     "execution_count": 6,
     "metadata": {},
     "output_type": "execute_result"
    }
   ],
   "source": [
    "import random\n",
    "getAnswer(random.randint(1,15))"
   ]
  },
  {
   "cell_type": "code",
   "execution_count": 21,
   "metadata": {
    "collapsed": false
   },
   "outputs": [
    {
     "name": "stdout",
     "output_type": "stream",
     "text": [
      "Num is 19 . This is not in any month of the year.\n",
      "Num is 7 . This is in July\n",
      "Num is 20 . This is not in any month of the year.\n",
      "Num is 1 . This is in January\n",
      "Num is 19 . This is not in any month of the year.\n",
      "Num is 15 . This is not in any month of the year.\n"
     ]
    }
   ],
   "source": [
    "def getAnswer(answerNumber):\n",
    "    '''\n",
    "    函数功能：从自然数推算出对应月份\n",
    "    输入：一个自然数\n",
    "    输出：一年12个月，非这12个数字则提示无此月份\n",
    "    '''    \n",
    "    dictMonths = dict(zip(list(range(1,13)),['January','February','March','April','May','June','July','August',\\\n",
    "                                   'September','October','November','December']))\n",
    "    if answerNumber in dictMonths:\n",
    "        return 'Num is %d . This is in %s'%(answerNumber, dictMonths[answerNumber])\n",
    "    else:\n",
    "        return 'Num is %d . This is not in any month of the year.'%(answerNumber )\n",
    "\n",
    "import random\n",
    "for i in range(6):\n",
    "    print(getAnswer(random.randint(1,20)))"
   ]
  },
  {
   "cell_type": "markdown",
   "metadata": {},
   "source": [
    "用快速构建字典的方法，免去了逐个写反馈的重复。"
   ]
  },
  {
   "cell_type": "markdown",
   "metadata": {},
   "source": [
    "### 6. print的参数"
   ]
  },
  {
   "cell_type": "code",
   "execution_count": 7,
   "metadata": {
    "collapsed": false
   },
   "outputs": [
    {
     "name": "stdout",
     "output_type": "stream",
     "text": [
      "Hello,Ahcai,PickleWow!\n"
     ]
    }
   ],
   "source": [
    "print(\"Hello\",\"Ahcai\",\"Pickle\", sep=',',end=\"\")\n",
    "print(\"Wow!\")"
   ]
  },
  {
   "cell_type": "markdown",
   "metadata": {},
   "source": [
    "### 7. 异常语句"
   ]
  },
  {
   "cell_type": "code",
   "execution_count": 8,
   "metadata": {
    "collapsed": false
   },
   "outputs": [],
   "source": [
    "def spam(divideBy):\n",
    "    try:\n",
    "        return 42/divideBy\n",
    "    except ZeroDivisionError:\n",
    "        print(\"Error:Invalid argument.\")    "
   ]
  },
  {
   "cell_type": "code",
   "execution_count": 9,
   "metadata": {
    "collapsed": false
   },
   "outputs": [
    {
     "name": "stdout",
     "output_type": "stream",
     "text": [
      "21.0\n",
      "3.5\n",
      "Error:Invalid argument.\n",
      "None\n",
      "7.0\n"
     ]
    }
   ],
   "source": [
    "print(spam(2))\n",
    "print(spam(12))\n",
    "print(spam(0))\n",
    "print(spam(6))"
   ]
  },
  {
   "cell_type": "code",
   "execution_count": 54,
   "metadata": {
    "collapsed": false
   },
   "outputs": [
    {
     "name": "stdout",
     "output_type": "stream",
     "text": [
      "21.0\n",
      "3.5\n",
      "Error:Invalid argument.\n"
     ]
    }
   ],
   "source": [
    "def spam(number):\n",
    "    return 42/number\n",
    "   \n",
    "try:\n",
    "    print(spam(2))\n",
    "    print(spam(12))\n",
    "    print(spam(0))\n",
    "    print(spam(6))\n",
    "except ZeroDivisionError:\n",
    "    print(\"Error:Invalid argument.\")"
   ]
  },
  {
   "cell_type": "markdown",
   "metadata": {},
   "source": [
    "**执行跳到except代码块，就不会回到try代码块。**"
   ]
  },
  {
   "cell_type": "markdown",
   "metadata": {},
   "source": [
    "### 8. 猜测100以内的随机数"
   ]
  },
  {
   "cell_type": "code",
   "execution_count": 30,
   "metadata": {
    "collapsed": false,
    "scrolled": true
   },
   "outputs": [
    {
     "name": "stdout",
     "output_type": "stream",
     "text": [
      "I'm thinking of a number between 1 and 100. Please guess it:\n",
      "ert\n",
      "Your input 'ert' is not digits.\n",
      "Should be digits: 67.8\n",
      "Your input '67.8' is not digits.\n",
      "Should be digits: q2\n",
      "Your input 'q2' is not digits.\n",
      "Should be digits: @r5\n",
      "Your input '@r5' is not digits.\n",
      "Should be digits: 67\n",
      "Your guess is too high. Take a guess:\n",
      "50\n",
      "Your guess is too low. Take a guess:\n",
      "59\n",
      "Your guess is too low. Take a guess:\n",
      "63\n",
      "Your guess is too high. Take a guess:\n",
      "61\n",
      "Your guess is too low. Take a guess:\n",
      "62\n",
      "Good job! You guess my number in 6 times.\n"
     ]
    }
   ],
   "source": [
    "import random\n",
    "\n",
    "def guessRandom():\n",
    "    '''\n",
    "    函数功能：让用户猜测1-100之间的一个随机整数，计算用户猜测次数\n",
    "    无参数输入\n",
    "    用户输入（猜测）：须介于1和100之间（不包含100）的数值\n",
    "    输出：用户猜准所用次数\n",
    "    '''\n",
    "    secret = random.randint(1,100)\n",
    "    times = 0\n",
    "    print(\"I\\'m thinking of a number between 1 and 100. Please guess it:\")\n",
    "\n",
    "    while True:\n",
    "        guess = input()\n",
    "        while not guess.isdecimal() :\n",
    "            print('Your input \\'%s\\' is not digits.' %guess)\n",
    "            guess = input('Should be digits: ')\n",
    "        times +=1\n",
    "        if int(guess) < secret:\n",
    "            print(\"Your guess is too low. Take a guess:\")\n",
    "        elif int(guess) > secret:\n",
    "            print(\"Your guess is too high. Take a guess:\")\n",
    "        else:\n",
    "            print(\"Good job! You guess my number in %d times.\" %times) \n",
    "            break\n",
    "    return\n",
    "\n",
    "guessRandom()"
   ]
  },
  {
   "cell_type": "markdown",
   "metadata": {},
   "source": [
    "增加了判断用户输入是否正确的功能"
   ]
  },
  {
   "cell_type": "markdown",
   "metadata": {
    "collapsed": true
   },
   "source": [
    "### 9. Collatz序列\n",
    "\n",
    "[冰雹猜想_百度百科](https://baike.baidu.com/item/%E5%86%B0%E9%9B%B9%E7%8C%9C%E6%83%B3/659469?fr=aladdin)"
   ]
  },
  {
   "cell_type": "code",
   "execution_count": 1,
   "metadata": {
    "collapsed": false,
    "scrolled": true
   },
   "outputs": [
    {
     "name": "stdout",
     "output_type": "stream",
     "text": [
      "Please input a positive integer：10\n",
      "The initial number is: 10\n",
      "The Follow-up digital sequence is:\n",
      "5\n",
      "16\n",
      "8\n",
      "4\n",
      "2\n",
      "1\n"
     ]
    }
   ],
   "source": [
    "'''\n",
    "函数功能：打印出collatz数列\n",
    "输入：一个正整数\n",
    "输出：collatz数列\n",
    "无须用户输入\n",
    "'''\n",
    "def collatz(number):\n",
    "    if number%2 == 0:\n",
    "        number = number//2\n",
    "    else:\n",
    "        number = number * 3 +1\n",
    "    print(number)\n",
    "    return number\n",
    "    \n",
    "number = int(input(\"Please input a positive integer：\"))\n",
    "print('The initial number is: %d' %number)\n",
    "print('The Follow-up digital sequence is:')\n",
    "\n",
    "while True:\n",
    "    if number!=1:\n",
    "        number = collatz(number)\n",
    "    else:\n",
    "        break"
   ]
  },
  {
   "cell_type": "code",
   "execution_count": 32,
   "metadata": {
    "collapsed": false
   },
   "outputs": [
    {
     "name": "stdout",
     "output_type": "stream",
     "text": [
      "Enter an integer:6\n",
      "The sequence collatz(6) is:  [6, 3, 10, 5, 16, 8, 4, 2, 1]\n"
     ]
    }
   ],
   "source": [
    "'''\n",
    "函数功能：打印出collatz数列\n",
    "输入：一个正整数\n",
    "输出：collatz数列\n",
    "无须用户输入\n",
    "'''\n",
    "def collatz(number):   \n",
    "    if number%2==0:\n",
    "        number = number//2\n",
    "    else:\n",
    "        number = number*3+1  \n",
    "    collatzList.append(number)        \n",
    "    while number!=1:\n",
    "        number = collatz(number)\n",
    "    return number\n",
    "def caculateCollatz(number):\n",
    "    global collatzList\n",
    "    collatzList = [number]\n",
    "    collatz(number)\n",
    "    print('The sequence collatz(%d) is: '%number, collatzList)\n",
    "\n",
    "number = int(input('Enter an integer:'))\n",
    "caculateCollatz(number)"
   ]
  },
  {
   "cell_type": "markdown",
   "metadata": {},
   "source": [
    "while子句不小心多缩进了4格，居然也运行正确。number变量拼写错误，导致次次死循环崩溃。"
   ]
  },
  {
   "cell_type": "markdown",
   "metadata": {},
   "source": [
    "把调用执行过程包装进另一个函数caculateCollatz时，列表collatzList在调用collatz的过程中不再新增，因为它是局部变量。这时必须增加**global**"
   ]
  },
  {
   "cell_type": "code",
   "execution_count": 18,
   "metadata": {
    "collapsed": false
   },
   "outputs": [
    {
     "name": "stdout",
     "output_type": "stream",
     "text": [
      "27,82,41,124,62,31,94,47,142,71,214,107,322,161,484,242,121,364,182,91,274,137,412,206,103,310,155,466,233,700,350,175,526,263,790,395,1186,593,1780,890,445,1336,668,334,167,502,251,754,377,1132,566,283,850,425,1276,638,319,958,479,1438,719,2158,1079,3238,1619,4858,2429,7288,3644,1822,911,2734,1367,4102,2051,6154,3077,9232,4616,2308,1154,577,1732,866,433,1300,650,325,976,488,244,122,61,184,92,46,23,70,35,106,53,160,80,40,20,10,5,16,8,4,2,1,"
     ]
    }
   ],
   "source": [
    "def collatz_cal(number):\n",
    "    '''\n",
    "    函数功能：打印出collatz数列\n",
    "    输入：一个正整数\n",
    "    输出：collatz数列\n",
    "    无须用户输入\n",
    "    '''\n",
    "    print(number, end=',')\n",
    "    def collatz(number):\n",
    "        if number % 2 == 0:\n",
    "            number = number // 2\n",
    "        else:\n",
    "            number = number * 3 + 1\n",
    "        print(number, end=',')\n",
    "        return number\n",
    "    \n",
    "    while number != 1:\n",
    "        number = collatz(number)\n",
    "        \n",
    "collatz_cal(27)"
   ]
  },
  {
   "cell_type": "code",
   "execution_count": 22,
   "metadata": {
    "collapsed": false,
    "scrolled": true
   },
   "outputs": [
    {
     "name": "stdout",
     "output_type": "stream",
     "text": [
      "[1, 2, 4, 8, 16, 5, 10, 20, 40, 13, 26, 52, 104, 208, 69]\n"
     ]
    }
   ],
   "source": [
    "import random\n",
    "def reverseCollatzCal(endNum):\n",
    "    number = 1\n",
    "    global switch, reCollatz\n",
    "    switch = random.randint(-1,1)\n",
    "    reCollatz = [1]\n",
    "    while len(reCollatz) < endNum:\n",
    "        number = reverseCollatz(number)\n",
    "    print(reCollatz)\n",
    "\n",
    "def reverseCollatz(number):\n",
    "    global switch\n",
    "    # print(number, switch)\n",
    "    if (number - 1) % 3 == 0 and ((number - 1) // 3) % 2 !=0 and (number - 1) // 3 != 1:\n",
    "        if switch == 1:\n",
    "            number = ((number - 1) // 3 )\n",
    "        elif switch == -1:\n",
    "            number = number * 2\n",
    "        switch = switch * (-1)\n",
    "    else:\n",
    "        number = number * 2\n",
    "    reCollatz.append(number)\n",
    "    return number\n",
    "\n",
    "reverseCollatzCal(15)"
   ]
  },
  {
   "cell_type": "markdown",
   "metadata": {},
   "source": [
    "## 第四章 列表\n",
    "\n",
    "### 10. 逗号代码"
   ]
  },
  {
   "cell_type": "code",
   "execution_count": 20,
   "metadata": {
    "collapsed": false
   },
   "outputs": [
    {
     "name": "stdout",
     "output_type": "stream",
     "text": [
      "ahcai,pickle,elephant,tiger,and konglong\n"
     ]
    }
   ],
   "source": [
    "def douhao(listPara):\n",
    "    result = \"\"\n",
    "    for i in range(len(listPara)-1):\n",
    "        result = result + listPara[i] +','\n",
    "    result = result[0:-1] +',and '+listPara[-1]\n",
    "    return result\n",
    "spam = ['ahcai', 'pickle', 'elephant', 'tiger', 'konglong']\n",
    "print(douhao(spam))       "
   ]
  },
  {
   "cell_type": "code",
   "execution_count": 19,
   "metadata": {
    "collapsed": false
   },
   "outputs": [
    {
     "name": "stdout",
     "output_type": "stream",
     "text": [
      "ahcai,pickle,elephant,tiger,and konglong\n"
     ]
    }
   ],
   "source": [
    "def douhao(listPara):\n",
    "    result = listPara[:-1] + ['and ' + listPara[-1]]\n",
    "    return ','.join(result)\n",
    "spam = ['ahcai', 'pickle', 'elephant', 'tiger', 'konglong']\n",
    "print(douhao(spam)) "
   ]
  },
  {
   "cell_type": "markdown",
   "metadata": {},
   "source": [
    "### 11. 字符图网格"
   ]
  },
  {
   "cell_type": "code",
   "execution_count": 33,
   "metadata": {
    "collapsed": true
   },
   "outputs": [],
   "source": [
    "grid = [['.','.','.','.','.','.'],['.','O','O','.','.','.'],['O','O','O','O','.','.'],['O','O','O','O','O','.'],['.','O','O','O','O','O'],['O','O','O','O','O','.'],['O','O','O','O','.','.'],['.','O','O','.','.','.'],['.','.','.','.','.','.'],]"
   ]
  },
  {
   "cell_type": "code",
   "execution_count": 19,
   "metadata": {
    "collapsed": false
   },
   "outputs": [
    {
     "name": "stdout",
     "output_type": "stream",
     "text": [
      "[['.', '.', '.', '.', '.', '.'], ['.', 'O', 'O', '.', '.', '.'], ['O', 'O', 'O', 'O', '.', '.'], ['O', 'O', 'O', 'O', 'O', '.'], ['.', 'O', 'O', 'O', 'O', 'O'], ['O', 'O', 'O', 'O', 'O', '.'], ['O', 'O', 'O', 'O', '.', '.'], ['.', 'O', 'O', '.', '.', '.'], ['.', '.', '.', '.', '.', '.']]\n"
     ]
    }
   ],
   "source": [
    "print(grid)"
   ]
  },
  {
   "cell_type": "code",
   "execution_count": 24,
   "metadata": {
    "collapsed": false
   },
   "outputs": [
    {
     "name": "stdout",
     "output_type": "stream",
     "text": [
      ". . . . . \n",
      "\n",
      ". O O . . \n",
      "\n",
      "O O O O . \n",
      "\n",
      "O O O O O \n",
      "\n",
      ". O O O O \n",
      "\n",
      "O O O O O \n",
      "\n",
      "O O O O . \n",
      "\n",
      ". O O . . \n",
      "\n"
     ]
    }
   ],
   "source": [
    "for i in range(8):\n",
    "    for j in range(5):\n",
    "        print(grid[i][j],end=' ')\n",
    "    print('\\n')"
   ]
  },
  {
   "cell_type": "code",
   "execution_count": 34,
   "metadata": {
    "collapsed": false
   },
   "outputs": [
    {
     "name": "stdout",
     "output_type": "stream",
     "text": [
      "[['.', '.', '.', '.', '.', '.'],\n",
      " ['.', 'O', 'O', '.', '.', '.'],\n",
      " ['O', 'O', 'O', 'O', '.', '.'],\n",
      " ['O', 'O', 'O', 'O', 'O', '.'],\n",
      " ['.', 'O', 'O', 'O', 'O', 'O'],\n",
      " ['O', 'O', 'O', 'O', 'O', '.'],\n",
      " ['O', 'O', 'O', 'O', '.', '.'],\n",
      " ['.', 'O', 'O', '.', '.', '.'],\n",
      " ['.', '.', '.', '.', '.', '.']]\n"
     ]
    }
   ],
   "source": [
    "import pprint\n",
    "\n",
    "pprint.pprint(grid)"
   ]
  },
  {
   "cell_type": "code",
   "execution_count": 36,
   "metadata": {
    "collapsed": false
   },
   "outputs": [
    {
     "name": "stdout",
     "output_type": "stream",
     "text": [
      "[['.', '.', '.', '.', '.', '.'],\n",
      " ['.', 'O', 'O', '.', '.', '.'],\n",
      " ['O', 'O', 'O', 'O', '.', '.'],\n",
      " ['O', 'O', 'O', 'O', 'O', '.'],\n",
      " ['.', 'O', 'O', 'O', 'O', 'O'],\n",
      " ['O', 'O', 'O', 'O', 'O', '.'],\n",
      " ['O', 'O', 'O', 'O', '.', '.'],\n",
      " ['.', 'O', 'O', '.', '.', '.'],\n",
      " ['.', '.', '.', '.', '.', '.']]\n"
     ]
    }
   ],
   "source": [
    "print(pprint.pformat(grid))"
   ]
  },
  {
   "cell_type": "markdown",
   "metadata": {
    "collapsed": true
   },
   "source": [
    "## 第五章 字典\n",
    "\n",
    "### 12. 储存生日信息"
   ]
  },
  {
   "cell_type": "code",
   "execution_count": 8,
   "metadata": {
    "collapsed": false
   },
   "outputs": [
    {
     "name": "stdout",
     "output_type": "stream",
     "text": [
      "Enter a name(blank to quit):\n",
      "Pickle\n",
      "I don't have birthday information for Pickle\n",
      "What is their birthday?July 28\n",
      "Birthday database updated.\n",
      "Enter a name(blank to quit):\n",
      "Jimmy\n",
      "I don't have birthday information for Jimmy\n",
      "What is their birthday?Jan 30\n",
      "Birthday database updated.\n",
      "Enter a name(blank to quit):\n",
      "Carol\n",
      "Mar 4 is the birthday of Carol\n",
      "Enter a name(blank to quit):\n",
      "Jimmy\n",
      "Jan 30 is the birthday of Jimmy\n",
      "Enter a name(blank to quit):\n",
      "\n"
     ]
    }
   ],
   "source": [
    "birthdays = {'Alice':'Apr 1', 'Bob':'Dec 12', 'Carol':'Mar 4'}\n",
    "while True:\n",
    "    print('Enter a name(blank to quit):')\n",
    "    name = input()\n",
    "    if name==\"\":\n",
    "        break\n",
    "    if name in birthdays:\n",
    "        print(birthdays[name] + ' is the birthday of ' + name)\n",
    "    else:\n",
    "        print('I don\\'t have birthday information for ' + name)\n",
    "        bday = input('What is their birthday?')\n",
    "        birthdays[name] = bday\n",
    "        print('Birthday database updated.')"
   ]
  },
  {
   "cell_type": "code",
   "execution_count": 29,
   "metadata": {
    "collapsed": false,
    "scrolled": true
   },
   "outputs": [
    {
     "data": {
      "text/plain": [
       "{'Alice': 'Apr 1', 'Bob': 'Dec 12', 'Carol': 'Mar 4'}"
      ]
     },
     "execution_count": 29,
     "metadata": {},
     "output_type": "execute_result"
    }
   ],
   "source": [
    "birthdays"
   ]
  },
  {
   "cell_type": "code",
   "execution_count": 39,
   "metadata": {
    "collapsed": false
   },
   "outputs": [
    {
     "name": "stdout",
     "output_type": "stream",
     "text": [
      "Enter a name(blank to quit):Alice\n",
      "Enter his/her birthday: June 3\n",
      "Apr 1 is the birthday of Alice\n",
      "Enter a name(blank to quit):Ahcai\n",
      "Enter his/her birthday: July 28\n",
      "July 28 is the birthday of Ahcai\n",
      "Enter a name(blank to quit):\n",
      "{'Alice': 'Apr 1', 'Bob': 'Dec 12', 'Carol': 'Mar 4', 'Ahcai': 'July 28'}\n"
     ]
    }
   ],
   "source": [
    "birthdays = {'Alice':'Apr 1', 'Bob':'Dec 12', 'Carol':'Mar 4'}\n",
    "while True:\n",
    "    name = input('Enter a name(blank to quit):')\n",
    "    if name == '':\n",
    "        break\n",
    "    print(birthdays.setdefault(name, input('Enter his/her birthday: ')) + ' is the birthday of ' + name)\n",
    "    # print(birthdays.get(name, input('Enter his/her birthday: ')) + ' is the birthday of ' + name)\n",
    "    # print('Birthday database updated.')\n",
    "print(birthdays)"
   ]
  },
  {
   "cell_type": "markdown",
   "metadata": {},
   "source": [
    "终于看到字典的`get()`方法和`setdefault()`方法的区别了。**set后会加入这个新键值对，get后不会加。**"
   ]
  },
  {
   "cell_type": "markdown",
   "metadata": {},
   "source": [
    "## 13. 数字符数"
   ]
  },
  {
   "cell_type": "code",
   "execution_count": 27,
   "metadata": {
    "collapsed": false
   },
   "outputs": [
    {
     "name": "stdout",
     "output_type": "stream",
     "text": [
      "{' ': 1,\n",
      " '.': 3,\n",
      " '0': 1,\n",
      " '1': 2,\n",
      " '2': 1,\n",
      " '7': 1,\n",
      " '9': 1,\n",
      " '[': 1,\n",
      " ']': 1,\n",
      " '·': 2,\n",
      " '—': 2,\n",
      " '、': 1,\n",
      " '。': 1,\n",
      " '《': 1,\n",
      " '》': 1,\n",
      " '业': 1,\n",
      " '习': 1,\n",
      " '书': 1,\n",
      " '从': 1,\n",
      " '伯': 1,\n",
      " '何': 1,\n",
      " '克': 1,\n",
      " '出': 1,\n",
      " '利': 1,\n",
      " '到': 1,\n",
      " '刻': 1,\n",
      " '和': 1,\n",
      " '大': 1,\n",
      " '如': 1,\n",
      " '安': 1,\n",
      " '尔': 1,\n",
      " '工': 1,\n",
      " '师': 1,\n",
      " '平': 1,\n",
      " '年': 1,\n",
      " '序': 1,\n",
      " '德': 1,\n",
      " '志': 1,\n",
      " '意': 1,\n",
      " '手': 1,\n",
      " '推': 1,\n",
      " '斯': 1,\n",
      " '新': 1,\n",
      " '普': 1,\n",
      " '月': 1,\n",
      " '有': 1,\n",
      " '本': 1,\n",
      " '机': 1,\n",
      " '林': 1,\n",
      " '械': 1,\n",
      " '森': 1,\n",
      " '正': 1,\n",
      " '版': 2,\n",
      " '特': 1,\n",
      " '王': 1,\n",
      " '的': 1,\n",
      " '社': 1,\n",
      " '第': 1,\n",
      " '练': 1,\n",
      " '罗': 1,\n",
      " '美': 1,\n",
      " '艾': 1,\n",
      " '荐': 1,\n",
      " '著': 1,\n",
      " '译': 1,\n",
      " '阳': 1,\n",
      " '，': 3}\n"
     ]
    }
   ],
   "source": [
    "# __coding:utf8__\n",
    "\n",
    "import pprint\n",
    "def read_file(name):\n",
    "    desk_path = '/Users/caimeijuan/github/myawesome/_src/'\n",
    "    full_path = desk_path + name + '.txt'\n",
    "    file = open(full_path,'r')\n",
    "    return file\n",
    "\n",
    "message = read_file(\"1\").read()\n",
    "count = {}\n",
    "for character in message:\n",
    "    count.setdefault(character,0)\n",
    "    count[character] +=1\n",
    "\n",
    "'''count = zip(count.values(),count.keys())\n",
    "sorted(count,reverse=True) # 按值排序。但结果的数据类型发生了变化，不再是字典，而是zip格式。'''\n",
    "# pprint.pprint(count) # 按键排序\n",
    "print(pprint.pformat(count)) # 和上一句相比没有变化。"
   ]
  },
  {
   "cell_type": "code",
   "execution_count": 1,
   "metadata": {
    "collapsed": false
   },
   "outputs": [
    {
     "name": "stdout",
     "output_type": "stream",
     "text": [
      "全书一共1288532字，使用了4198个中文字符\n",
      "全书只出现了一次的字有：\n",
      "蜃,膊,糯,銮,霓,椭,镀,苔,衾,邈,掖,鬣,饯,芬,粝,踞,洼,砾,夬,趑,趄,彖,晖,縠,嘎,骚,妯,娌,幞,熔,阒,肛,龂,眄,铅,睐,蛔,宓,孚,魇,竦,凫,厕,缪,亥,徵,诨,楹,璞,俄,猢,狲,荊,糙,棠,缙,讴,撙,锱,铢,殚,厝,缣,厦,曝,萃,蹴,畿,渚,郄,铰,裨,骛,镭,侬,欸,菡,萏,陂,咋,鳖,绒,茯,苓,胚,桠,舷,汊,浜,倩,菽,荜,妍,橄,榄,觌,臃,洲,崂,欤,荠,侦,悒,噢,渲,摒,弭,逮,怄,颔,谲,蜍,戆,愣,啜,遒,谐,爿,岐,锻,杞,箧,筛,戊,剁,噍,箩,郝,殡,邯,郸,诋,殁,蚱,蜢,桔,咤,睥,啻,箓,稣,憬,忱,踬,谿,阪,郅,潦,棕,浚,忪,壕,吭,疟,髭,缱,绻,疙,瘩,幔,涤,衢,酋,阕,钞,谗,醮,谑,窑,哺,豺,苹,忻,呷,烙,螯,郾,硫,芝,唳,鏖,辎,恬,涣,纛,曙,猬,憝,潢,馈,隗,敦,币,蓟,瀛,妫,廨,婪,砧,栅,撵,笞,瑕,蚤,嗌,孱,蚯,蚓,啃,龛,殖,唵,鳞,盎,坍,楣,撬,橙,泓,佗,膑,颡,秧,隧,姘,嗳,轲,纣,鲠,橫,诤,聩,掣,臾,唢,骈,骊,撰,癖,圹,迥,雏,憋,淤,亿,懵,橛,擘,枷,鹞,俞,娼,妓,硕,呦,獒,窕,拧,馗,鲨,牒,趴,榫,樽,侉,捂,濬,泾,臑,艄,码,碜,飚,茎,釜,戌,俎,庖,趱,峥,嵘,讧,笄,骠,骢,撺,氅,撄,糜,渝,泠,蹁,跹,垒,胫,佞,械,虱,杼,沐,鹊,舆,奘,辑,赃,墟,坪,暐,愍,侨,椟,柢,愎,蟋,蟀,框,稼,愀,鄜,驷,拌,迨,溉,蚋,暧,冕,罔,缒,祀,湮,怂,恿,矜,癸,仕,娈,潼,囱,褥,墅,怵,徭,嫦,猖,獗,绁,缧,塑,馁,飨,鞠,扛,壅,柩,薨,瘼,谥,痘,谴,俸,赈,傜,庵,姹,绥,驭,幄,戍,勋,韶,惇,聒,癯,匮,榷,酤,谶,恺,悌,畴,芜,坂,峦,肱,饬,募,跸,瞩,宸,屹,殂,谙,迤,逦,跖,犍,旃,羯,烽,畤,挲,傈,僳,彝,宪,杭,聂,粹,稿,椿,嵋,黛,冗,楔,魍,魉,町,镛,渥,亟,淇,禧,"
     ]
    }
   ],
   "source": [
    "import os, pprint\n",
    "\n",
    "os.chdir(os.path.dirname(os.getcwd()) + '/files')\n",
    "text = open((os.getcwd()) + '/新修版天龙八部.txt').read()\n",
    "count = {}\n",
    "\n",
    "for char in text:\n",
    "    if u'\\u4e00'<=char<=u'\\u9fa5': # 判断是否汉字\n",
    "        count[char] = count.get(char,0) + 1\n",
    "print('全书一共%d字，使用了%d个中文字符'%(len(text),len(count))) \n",
    "print('全书只出现了一次的字有：')\n",
    "for char in count:\n",
    "    if count[char]==1:\n",
    "        print(char, end=',')\n",
    "#print(dict(sorted(count.items(), key=lambda item:item[1], reverse=True)))\n",
    "\n",
    "#pprint.pprint(count)"
   ]
  },
  {
   "cell_type": "code",
   "execution_count": 44,
   "metadata": {
    "collapsed": false
   },
   "outputs": [
    {
     "name": "stdout",
     "output_type": "stream",
     "text": [
      "{'\\n': 1249,\n",
      " 'A': 1903,\n",
      " 'B': 1960,\n",
      " 'C': 1980,\n",
      " 'D': 1949,\n",
      " 'E': 1967,\n",
      " 'F': 1957,\n",
      " 'G': 1941,\n",
      " 'H': 1987,\n",
      " 'I': 1961,\n",
      " 'J': 1917,\n",
      " 'K': 1987,\n",
      " 'L': 1864,\n",
      " 'M': 1869,\n",
      " 'N': 1935,\n",
      " 'O': 1807,\n",
      " 'P': 1867,\n",
      " 'Q': 1922,\n",
      " 'R': 1944,\n",
      " 'S': 1867,\n",
      " 'T': 1922,\n",
      " 'U': 1932,\n",
      " 'V': 1876,\n",
      " 'W': 1945,\n",
      " 'X': 1916,\n",
      " 'Y': 1937,\n",
      " 'Z': 1985,\n",
      " 'a': 1930,\n",
      " 'b': 1956,\n",
      " 'c': 1885,\n",
      " 'd': 1859,\n",
      " 'e': 1930,\n",
      " 'f': 1939,\n",
      " 'g': 1911,\n",
      " 'h': 1973,\n",
      " 'i': 1822,\n",
      " 'j': 1961,\n",
      " 'k': 1974,\n",
      " 'l': 1992,\n",
      " 'm': 1960,\n",
      " 'n': 1872,\n",
      " 'o': 1839,\n",
      " 'p': 1869,\n",
      " 'q': 1952,\n",
      " 'r': 1930,\n",
      " 's': 1889,\n",
      " 't': 1914,\n",
      " 'u': 2005,\n",
      " 'v': 1852,\n",
      " 'w': 1947,\n",
      " 'x': 1955,\n",
      " 'y': 1901,\n",
      " 'z': 1886}\n"
     ]
    }
   ],
   "source": [
    "import os, pprint\n",
    "\n",
    "message = open(os.path.dirname(os.getcwd()) + '/files/pycha3.txt').read()\n",
    "count = {}\n",
    "for char in message:\n",
    "    count[char] = count.setdefault(char, 0) + 1\n",
    "    # count[char] = count.get(char, 0) + 1\n",
    "pprint.pprint(count)"
   ]
  },
  {
   "cell_type": "code",
   "execution_count": 45,
   "metadata": {
    "collapsed": false
   },
   "outputs": [
    {
     "data": {
      "text/plain": [
       "[('Pickle', 32), ('Mia', 18), ('Coco', 35), ('Cindy', 21), ('Alice', 19)]"
      ]
     },
     "execution_count": 45,
     "metadata": {},
     "output_type": "execute_result"
    }
   ],
   "source": [
    "dictionary = {\n",
    "    'Pickle':32,\n",
    "    'Cindy':21,\n",
    "    'Alice':19,\n",
    "    'Coco':35,\n",
    "    'Mia':18\n",
    "}\n",
    "\n",
    "sorted(dictionary.items(), key=lambda item:item[0], reverse=True)"
   ]
  },
  {
   "cell_type": "code",
   "execution_count": 63,
   "metadata": {
    "collapsed": false
   },
   "outputs": [
    {
     "data": {
      "text/plain": [
       "{'Coco': 35, 'Pickle': 32, 'Cindy': 21, 'Alice': 19, 'Mia': 18}"
      ]
     },
     "execution_count": 63,
     "metadata": {},
     "output_type": "execute_result"
    }
   ],
   "source": [
    "dict(sorted(dictionary.items(), key=lambda item:item[1], reverse=True))"
   ]
  },
  {
   "cell_type": "markdown",
   "metadata": {},
   "source": [
    "以上做法，输出的是list"
   ]
  },
  {
   "cell_type": "markdown",
   "metadata": {},
   "source": [
    "### 14. 井字棋盘"
   ]
  },
  {
   "cell_type": "code",
   "execution_count": 61,
   "metadata": {
    "collapsed": false,
    "scrolled": true
   },
   "outputs": [
    {
     "name": "stdout",
     "output_type": "stream",
     "text": [
      "-+-+-+-\n",
      "| | | | \n",
      "-+-+-+-\n",
      "| | | | \n",
      "-+-+-+-\n",
      "| | | | \n",
      "-+-+-+-\n",
      "Turn for X. Move on which space?top-R\n",
      "-+-+-+-\n",
      "| | | X| \n",
      "-+-+-+-\n",
      "| | | | \n",
      "-+-+-+-\n",
      "| | | | \n",
      "-+-+-+-\n",
      "Turn for O. Move on which space?low-M\n",
      "-+-+-+-\n",
      "| | | X| \n",
      "-+-+-+-\n",
      "| | | | \n",
      "-+-+-+-\n",
      "| | O| | \n",
      "-+-+-+-\n",
      "Turn for X. Move on which space?mid-L\n",
      "-+-+-+-\n",
      "| | | X| \n",
      "-+-+-+-\n",
      "| X| | | \n",
      "-+-+-+-\n",
      "| | O| | \n",
      "-+-+-+-\n",
      "Turn for O. Move on which space?top-M\n",
      "-+-+-+-\n",
      "| | O| X| \n",
      "-+-+-+-\n",
      "| X| | | \n",
      "-+-+-+-\n",
      "| | O| | \n",
      "-+-+-+-\n",
      "Turn for X. Move on which space?top-L\n",
      "-+-+-+-\n",
      "| X| O| X| \n",
      "-+-+-+-\n",
      "| X| | | \n",
      "-+-+-+-\n",
      "| | O| | \n",
      "-+-+-+-\n",
      "Turn for O. Move on which space?mid-M\n",
      "-+-+-+-\n",
      "| X| O| X| \n",
      "-+-+-+-\n",
      "| X| O| | \n",
      "-+-+-+-\n",
      "| | O| | \n",
      "-+-+-+-\n",
      "Turn for X. Move on which space?low-R\n",
      "-+-+-+-\n",
      "| X| O| X| \n",
      "-+-+-+-\n",
      "| X| O| | \n",
      "-+-+-+-\n",
      "| | O| X| \n",
      "-+-+-+-\n",
      "Turn for O. Move on which space?low-L\n",
      "-+-+-+-\n",
      "| X| O| X| \n",
      "-+-+-+-\n",
      "| X| O| | \n",
      "-+-+-+-\n",
      "| O| O| X| \n",
      "-+-+-+-\n",
      "Turn for X. Move on which space?mid-R\n",
      "-+-+-+-\n",
      "| X| O| X| \n",
      "-+-+-+-\n",
      "| X| O| X| \n",
      "-+-+-+-\n",
      "| O| O| X| \n",
      "-+-+-+-\n"
     ]
    }
   ],
   "source": [
    "theBoard = {'top-L':'','top-M':'','top-R':'','mid-L':'','mid-M':'','mid-R':'','low-L':'','low-M':'','low-R':''}\n",
    "def printBoard(board):\n",
    "    print('-+-+-+-')\n",
    "    print('| '+ board['top-L'] + '| '+ board['top-M'] + '| '+ board['top-R'] + '| ')\n",
    "    print('-+-+-+-')    \n",
    "    print('| '+ board['mid-L'] + '| '+ board['mid-M'] + '| '+ board['mid-R'] + '| ')\n",
    "    print('-+-+-+-')    \n",
    "    print('| '+ board['low-L'] + '| '+ board['low-M'] + '| '+ board['low-R'] + '| ')\n",
    "    print('-+-+-+-')    \n",
    "\n",
    "board = theBoard.copy() # 直接赋值，会和列表一样，原棋盘也发生了变化。\n",
    "turn = 'X'\n",
    "for i in range(9):\n",
    "    printBoard(board)\n",
    "    move = input('Turn for ' + turn + '. Move on which space?')\n",
    "    board[move] = turn\n",
    "    if turn == 'X':\n",
    "        turn = 'O'\n",
    "    else:\n",
    "        turn = 'X'\n",
    "        \n",
    "printBoard(board)"
   ]
  },
  {
   "cell_type": "code",
   "execution_count": 36,
   "metadata": {
    "collapsed": false
   },
   "outputs": [
    {
     "name": "stdout",
     "output_type": "stream",
     "text": [
      "X turn. Where'll put?5\n",
      " | | \n",
      "-+-+-\n",
      " |X| \n",
      "-+-+-\n",
      " | | \n",
      "O turn. Where'll put?5\n",
      "O turn. Where'll put?6\n",
      " | | \n",
      "-+-+-\n",
      " |X|O\n",
      "-+-+-\n",
      " | | \n",
      "X turn. Where'll put?6\n",
      "X turn. Where'll put?5\n",
      "X turn. Where'll put?4\n",
      " | | \n",
      "-+-+-\n",
      "X|X|O\n",
      "-+-+-\n",
      " | | \n",
      "O turn. Where'll put?7\n",
      " | | \n",
      "-+-+-\n",
      "X|X|O\n",
      "-+-+-\n",
      "O| | \n",
      "X turn. Where'll put?8\n",
      " | | \n",
      "-+-+-\n",
      "X|X|O\n",
      "-+-+-\n",
      "O|X| \n",
      "O turn. Where'll put?3\n",
      " | |O\n",
      "-+-+-\n",
      "X|X|O\n",
      "-+-+-\n",
      "O|X| \n",
      "X turn. Where'll put?1\n",
      "X| |O\n",
      "-+-+-\n",
      "X|X|O\n",
      "-+-+-\n",
      "O|X| \n",
      "O turn. Where'll put?5\n",
      "O turn. Where'll put?9\n",
      "X| |O\n",
      "-+-+-\n",
      "X|X|O\n",
      "-+-+-\n",
      "O|X|O\n",
      "X turn. Where'll put?1\n",
      "X turn. Where'll put?3\n",
      "X turn. Where'll put?4\n",
      "X turn. Where'll put?5\n",
      "X turn. Where'll put?6\n",
      "X turn. Where'll put?7\n",
      "X turn. Where'll put?8\n",
      "X turn. Where'll put?9\n",
      "X turn. Where'll put?10\n",
      "X turn. Where'll put?2\n",
      "X|X|O\n",
      "-+-+-\n",
      "X|X|O\n",
      "-+-+-\n",
      "O|X|O\n"
     ]
    }
   ],
   "source": [
    "def printBoard(board):\n",
    "    print(board[1] + '|' + board[2] + '|' + board[3])\n",
    "    print('-' + '+' + '-' + '+' '-')\n",
    "    print(board[4] + '|' + board[5] + '|' + board[6])\n",
    "    print('-' + '+' + '-' + '+' '-')\n",
    "    print(board[7] + '|' + board[8] + '|' + board[9])  \n",
    "theBoard = dict(zip(range(1,10),list(' '*9)))\n",
    "playBoard = theBoard.copy()\n",
    "\n",
    "chess = {1:'X', (-1):'O'}\n",
    "turn = 1\n",
    "listNumber = [1,2,3,4,5,6,7,8,9]\n",
    "while listNumber!=[]:    \n",
    "    inputN = int(input('%s turn. Where\\'ll put?'%chess[turn]))\n",
    "    if inputN in listNumber:\n",
    "        playBoard[inputN] = chess[turn]\n",
    "        listNumber.remove(inputN)\n",
    "        printBoard(playBoard)  \n",
    "        turn = turn *(-1)\n",
    "    else:\n",
    "        continue "
   ]
  },
  {
   "cell_type": "markdown",
   "metadata": {
    "collapsed": true
   },
   "source": [
    "#### 换tkinter版本试试"
   ]
  },
  {
   "cell_type": "code",
   "execution_count": 1,
   "metadata": {
    "collapsed": false
   },
   "outputs": [],
   "source": [
    "import tkinter\n",
    "\n",
    "root = tkinter.Tk()\n",
    "root.title('Chess')\n",
    "root.geometry('640x480')\n",
    "\n",
    "grid_list = []\n",
    "for i in range(3):\n",
    "    for j in range(3):\n",
    "        l = tkinter.Label(root, text='', bg='#F5D27D',borderwidth=2, relief=\"groove\", width=10, height=5)\n",
    "        l.grid(row=i, column=j, padx=5, pady=5, ipadx=10, ipady=10)\n",
    "        grid_list.append(l)\n",
    "\n",
    "chess = {1:'X', (-1):'O'}\n",
    "turn = 1\n",
    "user_label = tkinter.Label(root, text=chess[turn]+' turn. Where\\'ll put?')\n",
    "user_label.grid(row=5,column=1)\n",
    "entry = tkinter.Entry(root)\n",
    "entry.grid(row=6, column=1)\n",
    "result_label = tkinter.Label(root, text='')\n",
    "result_label.grid(row=8,column=1)\n",
    "\n",
    "def chess_in():    \n",
    "    global turn\n",
    "    #result_label.config(text='')    \n",
    "    var_grid = entry.get() \n",
    "    grid_list[int(var_grid)].config(text=chess[turn])\n",
    "    #下一手换用户\n",
    "    turn = turn * (-1)\n",
    "    user_label.config(text=chess[turn]+' turn. Where\\'ll put?')\n",
    "    \n",
    "    # 测试是否下满棋盘\n",
    "    alltext=''\n",
    "    for grid in grid_list:\n",
    "        alltext = alltext + grid.cget('text')\n",
    "    if len(alltext)==9:\n",
    "        user_label.config(text='Game over!')\n",
    "        btn.config(state='disabled') # 游戏结束后不能再玩。\n",
    "#global btn\n",
    "btn = tkinter.Button(root, text='Submit', command=chess_in)\n",
    "btn.grid(row=7, column=1)\n",
    "\n",
    "root.mainloop()"
   ]
  },
  {
   "cell_type": "markdown",
   "metadata": {
    "collapsed": true
   },
   "source": [
    "除了不能禁止在已经有棋子的地方下棋，其他基本差不多了。和上面的版本功能一样，还多了一个'game over'的功能。"
   ]
  },
  {
   "cell_type": "markdown",
   "metadata": {},
   "source": [
    "### 15.  野餐物品清单"
   ]
  },
  {
   "cell_type": "code",
   "execution_count": 65,
   "metadata": {
    "collapsed": false
   },
   "outputs": [
    {
     "name": "stdout",
     "output_type": "stream",
     "text": [
      "{'Alice': {'apples': 5, 'pretzels': 12}, 'Cindy': {'ham sandwiches': 5, 'cups': 12}, 'Bob': {'ham sandwiches': 3, 'apples': 2}, 'Carol': {'cups': 3, 'apple pies': 1}}\n",
      "We have 7 apples\n",
      "We have 12 pretzels\n",
      "We have 8 ham sandwiches\n",
      "We have 1 apple pies\n",
      "We have 15 cups\n"
     ]
    }
   ],
   "source": [
    "allGuests = {'Alice':{'apples':5, 'pretzels':12}, 'Cindy':{'ham sandwiches':5, 'cups':12}, 'Bob':{'ham sandwiches':3, 'apples':2}, 'Carol':{'cups':3, 'apple pies':1}}\n",
    "def totalBrought(guests, item):\n",
    "    numBrought = 0\n",
    "    for k, v in guests.items():\n",
    "        numBrought = numBrought + v.get(item,0)\n",
    "    print('We have %d %s'%(numBrought,item))\n",
    "\n",
    "print(allGuests)\n",
    "totalBrought(allGuests,'apples')\n",
    "totalBrought(allGuests,'pretzels')\n",
    "totalBrought(allGuests,'ham sandwiches')\n",
    "totalBrought(allGuests,'apple pies')\n",
    "totalBrought(allGuests,'cups')\n"
   ]
  },
  {
   "cell_type": "markdown",
   "metadata": {},
   "source": [
    "#### 合并列表为字典"
   ]
  },
  {
   "cell_type": "code",
   "execution_count": 49,
   "metadata": {
    "collapsed": false
   },
   "outputs": [
    {
     "name": "stdout",
     "output_type": "stream",
     "text": [
      "{'key1': '1', 'key2': '2', 'key3': '3'}\n"
     ]
    },
    {
     "data": {
      "text/plain": [
       "dict"
      ]
     },
     "execution_count": 49,
     "metadata": {},
     "output_type": "execute_result"
    }
   ],
   "source": [
    "list1 = ['key1','key2','key3']\n",
    "list2 = ['1','2','3']\n",
    "keyword = dict(zip(list1,list2))\n",
    "print(keyword)\n",
    "type(keyword)"
   ]
  },
  {
   "cell_type": "markdown",
   "metadata": {
    "collapsed": true
   },
   "source": [
    "## 第六章\n",
    "\n",
    "### 16. 画一个菱形"
   ]
  },
  {
   "cell_type": "code",
   "execution_count": 2,
   "metadata": {
    "collapsed": false
   },
   "outputs": [
    {
     "name": "stdout",
     "output_type": "stream",
     "text": [
      "Enter the length(for a odd number): *\n",
      "Enter the length(for a odd number): 9\n",
      "Enter the special string(only a number or alpha or Chinese character): *\n",
      "Enter the special string(only a number or alpha or Chinese character): o\n",
      "----o----\n",
      "---ooo---\n",
      "--ooooo--\n",
      "-ooooooo-\n",
      "ooooooooo\n",
      "-ooooooo-\n",
      "--ooooo--\n",
      "---ooo---\n",
      "----o----\n"
     ]
    }
   ],
   "source": [
    "# __coding:utf-8__\n",
    "\n",
    "def is_chinese(uchar):\n",
    "    '''\n",
    "    判断一个unicode是否是汉字\n",
    "    '''\n",
    "    if uchar >= u'\\u4e00' and uchar<=u'\\u9fa5':\n",
    "        return True\n",
    "    else:\n",
    "        return False\n",
    "\n",
    "def paintRhombusEnglish(n, strR): \n",
    "    '''\n",
    "    该程序允许用户输入一个正奇数和一个英文字符或数字，画出边长为这个奇数的正方形中最大的菱形。\n",
    "    '''\n",
    "    for i in range(1,(n+1)//2):\n",
    "        print((strR*(2*i-1)).center(n,'-')) # 如果不用'//'而是用'/'，则运算结果为浮点数，无法继续。\n",
    "    for i in range((n+1)//2,0,-1):\n",
    "        print((strR*(2*i-1)).center(n,'-'))\n",
    "\n",
    "def paintRhombusChinese(n, strR): \n",
    "    '''\n",
    "    该程序允许用户输入一个正奇数和一个汉字字符，画出边长为这个奇数的正方形中最大的菱形。/半个菱形。\n",
    "    '''\n",
    "    for i in range(1,(n+1)//2):\n",
    "        print((strR*(2*i-1)).center(n+2*i,'-')) # 如果不用'//'而是用'/'，则运算结果为浮点数，无法继续。\n",
    "    for i in range((n+1)//2,0,-1):\n",
    "        print((strR*(2*i-1)).center(n+2*i,'-'))      \n",
    "        \n",
    "while True:\n",
    "    '''\n",
    "    如果用户输入的数字不是正奇数，则需要重新输入。\n",
    "    '''\n",
    "    n = input('Enter the length(for a odd number): ')\n",
    "    if n.isdecimal() and int(n)>0 and int(n)%2==1:\n",
    "        n = int(n)\n",
    "        break\n",
    "\n",
    "while True:\n",
    "    '''\n",
    "    如果用户输入的字符不是一位的字母或数字，则需要重新输入。\n",
    "    '''\n",
    "    strR = input('Enter the special string(only a number or alpha or Chinese character): ')\n",
    "    if strR.isalnum() and len(strR)==1:\n",
    "        break\n",
    "\n",
    "'''\n",
    "如果用户输入的字符是一个汉字，程序照旧运行，但是变形了。因为每个汉字占位2个字符。\n",
    "如果用户输入了汉字，则调用汉字画法。如果用户输入了字母或数字，则调用英文画法。\n",
    "'''\n",
    "if is_chinese(strR)==False:\n",
    "    paintRhombusEnglish(n, strR)\n",
    "else:\n",
    "    paintRhombusChinese(n, strR)"
   ]
  },
  {
   "cell_type": "code",
   "execution_count": 14,
   "metadata": {
    "collapsed": false
   },
   "outputs": [
    {
     "name": "stdout",
     "output_type": "stream",
     "text": [
      "Enter the special string(only a number or alpha or Chinese character): 福\n",
      "Enter the length(even number): 12\n",
      "-----福-----\n",
      "----福福----\n",
      "---福福福---\n",
      "--福福福福--\n",
      "-福福福福福-\n",
      "福福福福福福\n",
      "-福福福福福-\n",
      "--福福福福--\n",
      "---福福福---\n",
      "----福福----\n",
      "-----福-----\n"
     ]
    }
   ],
   "source": [
    "# _*_coding:utf-8_*_\n",
    "\n",
    "def is_chinese(uchar):\n",
    "    '''\n",
    "    判断一个unicode是否是汉字\n",
    "    '''\n",
    "    if uchar >= u'\\u4e00' and uchar<=u'\\u9fa5':\n",
    "        return True\n",
    "    else:\n",
    "        return False\n",
    "\n",
    "def paintRhombusEnglish(n, strR): \n",
    "    '''\n",
    "    该程序允许用户输入一个正奇数和一个英文字符或数字，画出边长为这个奇数的正方形中最大的菱形。\n",
    "    '''\n",
    "    for i in range(1,(n+1)//2):\n",
    "        print((strR*(2*i-1)).center(n,'-')) # 如果不用'//'而是用'/'，则运算结果为浮点数，无法继续。\n",
    "    for i in range((n+1)//2,0,-1):\n",
    "        print((strR*(2*i-1)).center(n,'-'))\n",
    "\n",
    "def paintRhombusChinese(n, strR): \n",
    "    '''\n",
    "    该程序允许用户输入一个正偶数和一个汉字字符，画出边长为这个奇数的正方形中最大的菱形。\n",
    "    '''\n",
    "    for i in range(1,(n+1)//2):\n",
    "        print((strR*i).center(n-i,'-')) # 如果不用'//'而是用'/'，则运算结果为浮点数，无法继续。\n",
    "    for i in range((n+1)//2,0,-1):\n",
    "        print((strR*i).center(n-i,'-'))      \n",
    "\n",
    "while True:\n",
    "    '''\n",
    "    如果用户输入的字符不是一位的字母或数字，则需要重新输入。\n",
    "    '''\n",
    "    strR = input('Enter the special string(only a number or alpha or Chinese character): ')\n",
    "    if strR.isalnum() and len(strR)==1:\n",
    "        break\n",
    "        \n",
    "while True:\n",
    "    '''\n",
    "    如果用户输入了字母或数字，则调用英文画法；如果是汉字，则调用汉字画法。\n",
    "    如果用户输入的字符是一个汉字，则n必须是偶数。因为每个汉字占位2个字符。\n",
    "    如果用户输入的数字不是正整数，则需要重新输入。\n",
    "    '''\n",
    "    if is_chinese(strR)==False:\n",
    "        n = input('Enter the length(odd number): ')\n",
    "        if n.isdecimal() and int(n)>0 and int(n)%2==1:\n",
    "            n = int(n)\n",
    "            paintRhombusEnglish(n, strR)\n",
    "            break        \n",
    "    else:\n",
    "        n = input('Enter the length(even number): ')\n",
    "        if n.isdecimal() and int(n)>0 and int(n)%2==0:\n",
    "            n = int(n)\n",
    "            paintRhombusChinese(n, strR)\n",
    "            break"
   ]
  },
  {
   "cell_type": "markdown",
   "metadata": {
    "collapsed": true
   },
   "source": [
    "### 17. 打印整齐表格"
   ]
  },
  {
   "cell_type": "code",
   "execution_count": 1,
   "metadata": {
    "collapsed": false
   },
   "outputs": [
    {
     "name": "stdout",
     "output_type": "stream",
     "text": [
      "-------PICNIC ITEMS-------\n",
      "sandwiches..........     4\n",
      "apples..............    12\n",
      "cups................     4\n",
      "cookies.............  8000\n"
     ]
    }
   ],
   "source": [
    "def printPicnic(itemsDict, leftWidth, rightWidth):\n",
    "    print('PICNIC ITEMS'.center(leftWidth+rightWidth, '-'))\n",
    "    for k, v in itemsDict.items():\n",
    "        print(k.ljust(leftWidth,'.')+str(v).rjust(rightWidth))\n",
    "        \n",
    "picnicItems = {'sandwiches':4, 'apples':12, 'cups':4, 'cookies':8000}\n",
    "printPicnic(picnicItems,20, 6)"
   ]
  },
  {
   "cell_type": "markdown",
   "metadata": {
    "collapsed": true
   },
   "source": [
    "### 18. 密码箱"
   ]
  },
  {
   "cell_type": "code",
   "execution_count": 16,
   "metadata": {
    "collapsed": false
   },
   "outputs": [
    {
     "name": "stdout",
     "output_type": "stream",
     "text": [
      "This account isn't exist.\n"
     ]
    }
   ],
   "source": [
    "# python3\n",
    "# pw.py\n",
    "# __coding:utf-8__\n",
    "# 这是一个密码箱\n",
    "\n",
    "import sys\n",
    "import pyperclip\n",
    "\n",
    "PASSWORD = {\"email\":\"eTfGIM2BZbYH7fxS\", \"blog\":\"a7QEHvM6Rszzo9Uj\", \"luggage\":\"12345\"}\n",
    "\n",
    "if len(sys.argv)<2:\n",
    "    print(\"Usage: python pw.py [account] - copy account password\")\n",
    "    sys.exit()\n",
    "    \n",
    "account = sys.argv[1]\n",
    "\n",
    "print(PASSWORD.get(account,\"This account isn\\'t exist.\"))"
   ]
  },
  {
   "cell_type": "markdown",
   "metadata": {},
   "source": [
    "不能在ipython中运行"
   ]
  },
  {
   "cell_type": "code",
   "execution_count": 62,
   "metadata": {
    "collapsed": false
   },
   "outputs": [
    {
     "name": "stdout",
     "output_type": "stream",
     "text": [
      "Password for cangshuguan copied to clipboard.\n"
     ]
    }
   ],
   "source": [
    "# _*_coding:utf-8_*_\n",
    "import pyperclip, os\n",
    "\n",
    "def passwordBox(account):\n",
    "    '''\n",
    "    函数功能：如果存了这个帐号的密码，则将密码粘贴到剪切板。如没有，则告知没有存。\n",
    "    输入：某帐号名\n",
    "    输出：帐号名对应的密码，粘贴到剪切板，不是直接打印\n",
    "    '''\n",
    "    # PASSWORD = {\"email\":\"eTfGIM2BZbYH7fxS\", \"blog\":\"a7QEHvM6Rszzo9Uj\", \"luggage\":\"12345\"}\n",
    "    lines = open(os.path.dirname(os.getcwd()) + '/files/pw.txt').readlines()\n",
    "    PASSWORD = dict(zip(lines[0].strip('\\n').split(' '), lines[1].strip('\\n').split(' ')))\n",
    "    if account in PASSWORD:\n",
    "        pyperclip.copy(PASSWORD[account])\n",
    "        print(\"Password for \" + account + ' copied to clipboard.')\n",
    "    else:\n",
    "        print('This account isn\\'t exist.')\n",
    "passwordBox('cangshuguan')"
   ]
  },
  {
   "cell_type": "markdown",
   "metadata": {},
   "source": [
    "## 第七章 模式匹配与正则表达式\n",
    "\n",
    "### 19. 普通方法查找电话号码"
   ]
  },
  {
   "cell_type": "code",
   "execution_count": 18,
   "metadata": {
    "collapsed": false
   },
   "outputs": [
    {
     "name": "stdout",
     "output_type": "stream",
     "text": [
      "Phone number found: 415-555-1011\n",
      "Phone number found: 415-555-9999\n",
      "Done!\n"
     ]
    }
   ],
   "source": [
    "def isPhoneNumber(text):\n",
    "    if len(text)!= 12:\n",
    "        return False\n",
    "    for i in range(0,3):\n",
    "        if not text[i].isdecimal():\n",
    "            return False\n",
    "    if text[3]!='-':\n",
    "        return False        \n",
    "    for i in range(4,7):\n",
    "        if not text[i].isdecimal():\n",
    "            return False\n",
    "    if text[7]!='-':\n",
    "        return False\n",
    "    for i in range(8,12):\n",
    "        if not text[i].isdecimal():\n",
    "            return False\n",
    "    return True\n",
    "\n",
    "message = \"Call me at 415-555-1011. 415-555-9999 is my office.\"\n",
    "\n",
    "for i in range(len(message)):\n",
    "    chunk = message[i:i+12]\n",
    "    if isPhoneNumber(chunk):\n",
    "        print('Phone number found: ' + chunk)\n",
    "print('Done!')"
   ]
  },
  {
   "cell_type": "markdown",
   "metadata": {},
   "source": [
    "### 20.  用正则表达式查找电话号码"
   ]
  },
  {
   "cell_type": "code",
   "execution_count": 19,
   "metadata": {
    "collapsed": false,
    "scrolled": true
   },
   "outputs": [
    {
     "name": "stdout",
     "output_type": "stream",
     "text": [
      "Phone number found: 415-555-1011\n"
     ]
    }
   ],
   "source": [
    "import re\n",
    "\n",
    "phoneNumRegex = re.compile(r'\\d{3}-\\d{3}-\\d{4}')\n",
    "mo = phoneNumRegex.search(message)\n",
    "print('Phone number found: ' + mo.group())"
   ]
  },
  {
   "cell_type": "code",
   "execution_count": 69,
   "metadata": {
    "collapsed": false
   },
   "outputs": [
    {
     "data": {
      "text/plain": [
       "'555-1011'"
      ]
     },
     "execution_count": 69,
     "metadata": {},
     "output_type": "execute_result"
    }
   ],
   "source": [
    "import re\n",
    "message = \"Call me at 415-555-1011. 415-555-9999 is my office.\"\n",
    "re.search(r'(\\d{3})-(\\d{3}-\\d{4})', message).group(2)"
   ]
  },
  {
   "cell_type": "code",
   "execution_count": 20,
   "metadata": {
    "collapsed": true
   },
   "outputs": [],
   "source": [
    "message1 = \"Call me at (415)-(555-1011). (415)-(555-9999) is my office.\""
   ]
  },
  {
   "cell_type": "code",
   "execution_count": 23,
   "metadata": {
    "collapsed": false
   },
   "outputs": [
    {
     "name": "stdout",
     "output_type": "stream",
     "text": [
      "(415)-(555-1011)\n"
     ]
    },
    {
     "data": {
      "text/plain": [
       "\"\\n当message中没有括号时，又想用groups()，就需要在正则中加上()，message中不加。\\n如果message也有括号，正则中需要加上有转义符的括号，''里面的字符，依然要加上前一句说的()才能既匹配上message中的括号，又能使用groups()。\\n现在只返回第一个符合条件的。\\n\""
      ]
     },
     "execution_count": 23,
     "metadata": {},
     "output_type": "execute_result"
    }
   ],
   "source": [
    "phoneNumRegex1 = re.compile(r'(\\(\\d{3}\\))-(\\(\\d{3}-\\d{4}\\))')\n",
    "mo = phoneNumRegex1.search(message1)\n",
    "print(mo.group())\n",
    "'''\n",
    "当message中没有括号时，又想用groups()，就需要在正则中加上()，message中不加。\n",
    "如果message也有括号，正则中需要加上有转义符的括号，''里面的字符，依然要加上前一句说的()才能既匹配上message中的括号，又能使用groups()。\n",
    "现在只返回第一个符合条件的。\n",
    "'''"
   ]
  },
  {
   "cell_type": "markdown",
   "metadata": {},
   "source": [
    "### 21.  查找电话号码和电子邮箱"
   ]
  },
  {
   "cell_type": "code",
   "execution_count": 70,
   "metadata": {
    "collapsed": false
   },
   "outputs": [
    {
     "name": "stdout",
     "output_type": "stream",
     "text": [
      "Done. To paste your results.\n",
      "(941)-227-4444\n",
      "941-227-4444\n",
      "941-827-2985\n",
      "-997-2019\n"
     ]
    }
   ],
   "source": [
    "import pyperclip\n",
    "import re\n",
    "\n",
    "# clipboard message\n",
    "message = str(pyperclip.paste())\n",
    "if message == \"\":\n",
    "    print('Clipboard is null. Copy something to continue.')\n",
    "\n",
    "# phone regex\n",
    "phoneNumRegex = re.compile(r'''(\n",
    "(\\d{3}|\\(\\d{3}\\))?             # area code\n",
    "(\\s|-|\\.)?                     # seperator\n",
    "(\\d{3})                        # first 3 digits\n",
    "(\\s|-|\\.)                      # seperator\n",
    "(\\d{4})                        # last 4 digits\n",
    "(\\s*(ext|x|ext.)\\s*(\\d{2,5}))? # extension\n",
    ")''', re.VERBOSE)\n",
    "\n",
    "# email regex\n",
    "emailRegex = re.compile(r'''(\n",
    "[a-zA-Z0-9._%+-]+              # username\n",
    "@                              # @symbol\n",
    "[a-zA-Z0-9._]+                 # domain name\n",
    "(\\.[a-zA-Z]{2,4})              # dot-something\n",
    ")''', re.VERBOSE)\n",
    "\n",
    "# Find all matches in clipboard text.\n",
    "matches = []\n",
    "for groups in phoneNumRegex.findall(message):\n",
    "    phoneNum = '-'.join([groups[1],groups[3],groups[5]])\n",
    "    if groups[8] != '':\n",
    "        phoneNum += ' x' + groups[8]\n",
    "    matches.append(phoneNum)\n",
    "for groups in emailRegex.findall(message):\n",
    "    matches.append(groups[0])\n",
    "\n",
    "if len(matches) > 0:\n",
    "    pyperclip.copy('\\n'.join(matches))\n",
    "    print('Done. To paste your results.')\n",
    "    print('\\n'.join(matches))\n",
    "else:\n",
    "    print('No phone numbers or emails found.')"
   ]
  },
  {
   "cell_type": "markdown",
   "metadata": {},
   "source": [
    "测试文本：  \n",
    "\n",
    "[Contact Us | No Starch Press](https://nostarch.com/contactus)\n",
    "\n",
    "可以直接粘贴：  \n",
    "```\n",
    "800-420-7240\n",
    "415-863-9900\n",
    "415-863-9950\n",
    "info@nostarch.com\n",
    "media@nostarch.com\n",
    "academic@nostarch.com\n",
    "info@nostarch.com\n",
    "```"
   ]
  },
  {
   "cell_type": "code",
   "execution_count": 98,
   "metadata": {
    "collapsed": true
   },
   "outputs": [],
   "source": [
    "def digitsMatch(message):\n",
    "    digitsRegex = re.compile(r'^\\d{1,3}(,\\d{3})*$')\n",
    "    try:\n",
    "        print(digitsRegex.search(message).group())\n",
    "    except:\n",
    "        print('No Match.')\n",
    "    return"
   ]
  },
  {
   "cell_type": "code",
   "execution_count": 104,
   "metadata": {
    "collapsed": true
   },
   "outputs": [],
   "source": [
    "def digitsMatch(message):\n",
    "    digitsRegex = re.compile(r'(\\d{1,3})(,\\d{3})*')\n",
    "    try:\n",
    "        print(digitsRegex.findall(message))\n",
    "    except:\n",
    "        print('No Match.')\n",
    "    return"
   ]
  },
  {
   "cell_type": "code",
   "execution_count": 105,
   "metadata": {
    "collapsed": false
   },
   "outputs": [
    {
     "name": "stdout",
     "output_type": "stream",
     "text": [
      "[('1', ',234')]\n",
      "[('42', '')]\n",
      "[('6', ',745')]\n",
      "[('12', ''), ('34', ',567')]\n",
      "[('123', ''), ('4', '')]\n"
     ]
    }
   ],
   "source": [
    "messages = ['1,234', '42', '6,368,745', '12,34,567', '1234']\n",
    "for msg in messages:\n",
    "    digitsMatch(msg)"
   ]
  },
  {
   "cell_type": "code",
   "execution_count": 5,
   "metadata": {
    "collapsed": false
   },
   "outputs": [
    {
     "name": "stdout",
     "output_type": "stream",
     "text": [
      "['This']\n"
     ]
    }
   ],
   "source": [
    "import re\n",
    "\n",
    "catRegex = re.compile(r'^This') #(r'\\w+') #(r'\\<cat\\>')\n",
    "msg = 'This cat is a yellow cat . '\n",
    "m = catRegex.findall(msg)\n",
    "print(m)"
   ]
  },
  {
   "cell_type": "markdown",
   "metadata": {
    "collapsed": false
   },
   "source": [
    "## 第11章 从web抓取信息"
   ]
  },
  {
   "cell_type": "markdown",
   "metadata": {},
   "source": [
    "### 22.  `webbrowser`\n",
    "\n",
    "`webbrowser`这个模块，可以直接打开网址。"
   ]
  },
  {
   "cell_type": "markdown",
   "metadata": {},
   "source": [
    "#### 打开单个城市"
   ]
  },
  {
   "cell_type": "code",
   "execution_count": 31,
   "metadata": {
    "collapsed": false
   },
   "outputs": [
    {
     "data": {
      "text/plain": [
       "True"
      ]
     },
     "execution_count": 31,
     "metadata": {},
     "output_type": "execute_result"
    }
   ],
   "source": [
    "#_*_coding:utf-8_*_\n",
    "import webbrowser\n",
    "import re\n",
    "\n",
    "def mapit(address):\n",
    "    address = re.compile(r'\\s+').sub('+',address) # 这里“+”之前不需要转义符\\\n",
    "    url = 'http://www.google.com/maps/place/' + address\n",
    "    return webbrowser.open(url)\n",
    "\n",
    "address = 'Wuxi,   Jiangsu,   China'    \n",
    "mapit(address)"
   ]
  },
  {
   "cell_type": "markdown",
   "metadata": {},
   "source": [
    "#### 批量打开城市群"
   ]
  },
  {
   "cell_type": "code",
   "execution_count": 32,
   "metadata": {
    "collapsed": false
   },
   "outputs": [],
   "source": [
    "import webbrowser\n",
    "\n",
    "def mapcities(cities):\n",
    "    address = []\n",
    "    for city in cities:\n",
    "        address.append(city + ', Jiangsu, China')\n",
    "    for a in address:\n",
    "        a = re.compile(r'\\s+').sub('+',a)\n",
    "        url = 'http://www.google.com/maps/place/' + a\n",
    "        webbrowser.open(url)\n",
    "        \n",
    "cities = ['Wuxi', 'Suzhou', 'Xuzhou', 'Zhengjiang', 'Taizhou']\n",
    "mapcities(cities)"
   ]
  },
  {
   "cell_type": "markdown",
   "metadata": {},
   "source": [
    "### requests模块"
   ]
  },
  {
   "cell_type": "code",
   "execution_count": 33,
   "metadata": {
    "collapsed": true
   },
   "outputs": [],
   "source": [
    "#_*_coding:utf-8_*_\n",
    "import requests\n",
    "import chardet"
   ]
  },
  {
   "cell_type": "code",
   "execution_count": 34,
   "metadata": {
    "collapsed": true
   },
   "outputs": [],
   "source": [
    "url0 = 'http://www.gutenberg.org/cache/epub/1112/pg1112.txt'\n",
    "url1 = 'http://example.webscraping.com'\n",
    "url2 = 'http://www.engine3d.com'"
   ]
  },
  {
   "cell_type": "code",
   "execution_count": 35,
   "metadata": {
    "collapsed": false
   },
   "outputs": [],
   "source": [
    "res0 = requests.get(url0)\n",
    "res1 = requests.get(url1)\n",
    "res2 = requests.get(url2)"
   ]
  },
  {
   "cell_type": "code",
   "execution_count": 36,
   "metadata": {
    "collapsed": false
   },
   "outputs": [
    {
     "data": {
      "text/plain": [
       "[requests.models.Response, requests.models.Response, requests.models.Response]"
      ]
     },
     "execution_count": 36,
     "metadata": {},
     "output_type": "execute_result"
    }
   ],
   "source": [
    "[type(res0),type(res1),type(res2)]"
   ]
  },
  {
   "cell_type": "code",
   "execution_count": 37,
   "metadata": {
    "collapsed": false
   },
   "outputs": [
    {
     "data": {
      "text/plain": [
       "[True, True, True]"
      ]
     },
     "execution_count": 37,
     "metadata": {},
     "output_type": "execute_result"
    }
   ],
   "source": [
    "[res0.status_code == requests.codes.ok,res1.status_code == requests.codes.ok,res2.status_code == requests.codes.ok]"
   ]
  },
  {
   "cell_type": "code",
   "execution_count": 38,
   "metadata": {
    "collapsed": false
   },
   "outputs": [
    {
     "data": {
      "text/plain": [
       "[178981, 7902, 17925]"
      ]
     },
     "execution_count": 38,
     "metadata": {},
     "output_type": "execute_result"
    }
   ],
   "source": [
    "[len(res0.text),len(res1.text),len(res2.text)]"
   ]
  },
  {
   "cell_type": "code",
   "execution_count": 39,
   "metadata": {
    "collapsed": false
   },
   "outputs": [
    {
     "name": "stdout",
     "output_type": "stream",
     "text": [
      "﻿The Project Gutenberg EBook of Romeo and Juliet, by William Shakespeare\r\n",
      "\r\n",
      "This eBook is for the use of anyone anywhere at no cost and with\r\n",
      "almost no restrictions whatsoever.  You may copy it, give it away or\r\n",
      "re-use it under the terms of the Proje\n"
     ]
    }
   ],
   "source": [
    "print(res0.text[:250])"
   ]
  },
  {
   "cell_type": "code",
   "execution_count": 40,
   "metadata": {
    "collapsed": false
   },
   "outputs": [
    {
     "data": {
      "text/plain": [
       "'ISO-8859-1'"
      ]
     },
     "execution_count": 40,
     "metadata": {},
     "output_type": "execute_result"
    }
   ],
   "source": [
    "res2.encoding"
   ]
  },
  {
   "cell_type": "code",
   "execution_count": 41,
   "metadata": {
    "collapsed": false
   },
   "outputs": [],
   "source": [
    "url3 = 'http://inventwithpython.com/page_that_does_not_exist'"
   ]
  },
  {
   "cell_type": "code",
   "execution_count": 42,
   "metadata": {
    "collapsed": false
   },
   "outputs": [],
   "source": [
    "res3 = requests.get(url3)"
   ]
  },
  {
   "cell_type": "code",
   "execution_count": 43,
   "metadata": {
    "collapsed": false
   },
   "outputs": [
    {
     "ename": "HTTPError",
     "evalue": "404 Client Error: Not Found for url: http://inventwithpython.com/page_that_does_not_exist",
     "output_type": "error",
     "traceback": [
      "\u001b[0;31m---------------------------------------------------------------------------\u001b[0m",
      "\u001b[0;31mHTTPError\u001b[0m                                 Traceback (most recent call last)",
      "\u001b[0;32m<ipython-input-43-5fb0c97f3d86>\u001b[0m in \u001b[0;36m<module>\u001b[0;34m\u001b[0m\n\u001b[0;32m----> 1\u001b[0;31m \u001b[0mres3\u001b[0m\u001b[0;34m.\u001b[0m\u001b[0mraise_for_status\u001b[0m\u001b[0;34m(\u001b[0m\u001b[0;34m)\u001b[0m\u001b[0;34m\u001b[0m\u001b[0;34m\u001b[0m\u001b[0m\n\u001b[0m",
      "\u001b[0;32m~/anaconda/envs/python35/lib/python3.7/site-packages/requests/models.py\u001b[0m in \u001b[0;36mraise_for_status\u001b[0;34m(self)\u001b[0m\n\u001b[1;32m    938\u001b[0m \u001b[0;34m\u001b[0m\u001b[0m\n\u001b[1;32m    939\u001b[0m         \u001b[0;32mif\u001b[0m \u001b[0mhttp_error_msg\u001b[0m\u001b[0;34m:\u001b[0m\u001b[0;34m\u001b[0m\u001b[0;34m\u001b[0m\u001b[0m\n\u001b[0;32m--> 940\u001b[0;31m             \u001b[0;32mraise\u001b[0m \u001b[0mHTTPError\u001b[0m\u001b[0;34m(\u001b[0m\u001b[0mhttp_error_msg\u001b[0m\u001b[0;34m,\u001b[0m \u001b[0mresponse\u001b[0m\u001b[0;34m=\u001b[0m\u001b[0mself\u001b[0m\u001b[0;34m)\u001b[0m\u001b[0;34m\u001b[0m\u001b[0;34m\u001b[0m\u001b[0m\n\u001b[0m\u001b[1;32m    941\u001b[0m \u001b[0;34m\u001b[0m\u001b[0m\n\u001b[1;32m    942\u001b[0m     \u001b[0;32mdef\u001b[0m \u001b[0mclose\u001b[0m\u001b[0;34m(\u001b[0m\u001b[0mself\u001b[0m\u001b[0;34m)\u001b[0m\u001b[0;34m:\u001b[0m\u001b[0;34m\u001b[0m\u001b[0;34m\u001b[0m\u001b[0m\n",
      "\u001b[0;31mHTTPError\u001b[0m: 404 Client Error: Not Found for url: http://inventwithpython.com/page_that_does_not_exist"
     ]
    }
   ],
   "source": [
    "res3.raise_for_status()"
   ]
  },
  {
   "cell_type": "code",
   "execution_count": 44,
   "metadata": {
    "collapsed": false
   },
   "outputs": [],
   "source": [
    "def download(url):\n",
    "    res = requests.get(url)\n",
    "    try:\n",
    "        res.raise_for_status()\n",
    "        html = res.text\n",
    "        print('Webpage is download successfully.'+'\\n'+'The beginning texts here:  '+'\\n\\n')\n",
    "        print(html[:200])\n",
    "    except Exception as exc :\n",
    "        print('There was a problem: %s' %exc)"
   ]
  },
  {
   "cell_type": "code",
   "execution_count": 45,
   "metadata": {
    "collapsed": false
   },
   "outputs": [
    {
     "name": "stdout",
     "output_type": "stream",
     "text": [
      "Webpage is download successfully.\n",
      "The beginning texts here:  \n",
      "\n",
      "\n",
      "﻿The Project Gutenberg EBook of Romeo and Juliet, by William Shakespeare\r\n",
      "\r\n",
      "This eBook is for the use of anyone anywhere at no cost and with\r\n",
      "almost no restrictions whatsoever.  You may copy it, give \n"
     ]
    }
   ],
   "source": [
    "download(url0)"
   ]
  },
  {
   "cell_type": "code",
   "execution_count": 71,
   "metadata": {
    "collapsed": false
   },
   "outputs": [
    {
     "name": "stdout",
     "output_type": "stream",
     "text": [
      "There was a problem: 404 Client Error: Not Found for url: http://inventwithpython.com/page_that_does_not_exist\n"
     ]
    }
   ],
   "source": [
    "download(url3)"
   ]
  },
  {
   "cell_type": "markdown",
   "metadata": {},
   "source": [
    "关于Unicode编码的知识：[The Absolute Minimum Every Software Developer Absolutely, Positively Must Know About Unicode and Character Sets (No Excuses!) – Joel on Software](https://www.joelonsoftware.com/2003/10/08/the-absolute-minimum-every-software-developer-absolutely-positively-must-know-about-unicode-and-character-sets-no-excuses/)"
   ]
  },
  {
   "cell_type": "code",
   "execution_count": 76,
   "metadata": {
    "collapsed": true
   },
   "outputs": [],
   "source": [
    "import requests\n",
    "\n",
    "res = requests.get(url0)\n",
    "res.raise_for_status()\n",
    "playFile = open('RomeoAndJuliet.txt', 'wb')\n",
    "for chunk in res.iter_content(100000):\n",
    "    playFile.write(chunk)\n",
    "playFile.close()"
   ]
  },
  {
   "cell_type": "markdown",
   "metadata": {},
   "source": [
    "`encode_type = chardet.detect(html)  `\n",
    "`html = html.decode(encode_type['encoding'])`  \n",
    "\n",
    "这里不是靠这两句解决问题的。已经测试过，html是str类型的。\n",
    "\n",
    "用wb模式打开文件，写入内容是 `res.iter_content(100000)`  \n",
    "作者说，使用iter_content是为了确保requests模块即使在**下载巨大**的文件时也**不会消耗太多**内存。\n",
    "\n",
    "**The chunk size is the number of bytes it should read into memory. **"
   ]
  },
  {
   "cell_type": "code",
   "execution_count": 77,
   "metadata": {
    "collapsed": false
   },
   "outputs": [
    {
     "name": "stdout",
     "output_type": "stream",
     "text": [
      "Help on method iter_content in module requests.models:\n",
      "\n",
      "iter_content(chunk_size=1, decode_unicode=False) method of requests.models.Response instance\n",
      "    Iterates over the response data.  When stream=True is set on the\n",
      "    request, this avoids reading the content at once into memory for\n",
      "    large responses.  The chunk size is the number of bytes it should\n",
      "    read into memory.  This is not necessarily the length of each item\n",
      "    returned as decoding can take place.\n",
      "    \n",
      "    chunk_size must be of type int or None. A value of None will\n",
      "    function differently depending on the value of `stream`.\n",
      "    stream=True will read data as it arrives in whatever size the\n",
      "    chunks are received. If stream=False, data is returned as\n",
      "    a single chunk.\n",
      "    \n",
      "    If decode_unicode is True, content will be decoded using the best\n",
      "    available encoding based on the response.\n",
      "\n"
     ]
    }
   ],
   "source": [
    "help(res.iter_content)"
   ]
  },
  {
   "cell_type": "markdown",
   "metadata": {},
   "source": [
    "requests文档地址：  \n",
    "[Requests: HTTP for Humans™ — Requests 2.21.0 documentation](https://requests.readthedocs.io/en/master/)"
   ]
  },
  {
   "cell_type": "markdown",
   "metadata": {},
   "source": [
    "### HTML\n",
    "\n",
    "**苹果系统中，command+option+I，可以打开或关闭开发者工具，和Windows上的F12是一样的。**  \n",
    "\n",
    "作者建议，**不要用正则表达式来解析HTML**。例如昨天遇到的将class写在a标签中间的那种，对于html来说仍然有效，用正则来预估所有的情况则会非常繁琐。专门用来解析html的模块，例如beautifulsoup，将更不容易出错。[html - RegEx match open tags except XHTML self-contained tags - Stack Overflow](https://stackoverflow.com/questions/1732348/regex-match-open-tags-except-xhtml-self-contained-tags/1732454#1732454)"
   ]
  },
  {
   "cell_type": "markdown",
   "metadata": {},
   "source": [
    "### BeautifulSoup"
   ]
  },
  {
   "cell_type": "code",
   "execution_count": 81,
   "metadata": {
    "collapsed": false
   },
   "outputs": [
    {
     "data": {
      "text/plain": [
       "bs4.BeautifulSoup"
      ]
     },
     "execution_count": 81,
     "metadata": {},
     "output_type": "execute_result"
    }
   ],
   "source": [
    "import requests, bs4\n",
    "\n",
    "url = 'http://nostarch.com'\n",
    "res = requests.get(url)\n",
    "res.raise_for_status()\n",
    "noStarchSoup = bs4.BeautifulSoup(res.text)\n",
    "type(noStarchSoup)"
   ]
  },
  {
   "cell_type": "code",
   "execution_count": 92,
   "metadata": {
    "collapsed": false
   },
   "outputs": [
    {
     "data": {
      "text/plain": [
       "bs4.BeautifulSoup"
      ]
     },
     "execution_count": 92,
     "metadata": {},
     "output_type": "execute_result"
    }
   ],
   "source": [
    "exampleFile = open('UnicodeandCharacter.html')\n",
    "exampleSoup = bs4.BeautifulSoup(exampleFile.read()) #.read()加了没加没区别。\n",
    "type(exampleSoup)"
   ]
  },
  {
   "cell_type": "code",
   "execution_count": 97,
   "metadata": {
    "collapsed": false
   },
   "outputs": [],
   "source": [
    "elms = exampleSoup.select('img')"
   ]
  },
  {
   "cell_type": "code",
   "execution_count": 117,
   "metadata": {
    "collapsed": false
   },
   "outputs": [
    {
     "data": {
      "text/plain": [
       "True"
      ]
     },
     "execution_count": 117,
     "metadata": {},
     "output_type": "execute_result"
    }
   ],
   "source": [
    "homePage = 'https://www.joelonsoftware.com/'\n",
    "url_src = homePage+elms[0]['src'][3:]\n",
    "import webbrowser\n",
    "webbrowser.open(url_src)"
   ]
  },
  {
   "cell_type": "markdown",
   "metadata": {},
   "source": [
    "src=\"https://i1.wp.com/www.joelonsoftware.com/wp-content/uploads/2016/12/Pong.png?w=730&ssl=1\"\n",
    "\n",
    "为什么从网页中粘下来的src和上面elms的src不一样呢？"
   ]
  },
  {
   "cell_type": "markdown",
   "metadata": {},
   "source": [
    "#### Google自动查询"
   ]
  },
  {
   "cell_type": "code",
   "execution_count": 145,
   "metadata": {
    "collapsed": false
   },
   "outputs": [
    {
     "name": "stdout",
     "output_type": "stream",
     "text": [
      "Googling...\n"
     ]
    }
   ],
   "source": [
    "# _*_coding:utf-8_*_\n",
    "import requests, bs4, webbrowser,re\n",
    "\n",
    "def googleit(query):\n",
    "    \n",
    "    #打开查询结果页面\n",
    "    if '' in query:\n",
    "        query = re.compile(r'\\s+').sub('+', query)\n",
    "    else:\n",
    "        query = query\n",
    "\n",
    "    url = 'http://www.google.com/search?q=' + query\n",
    "    print('Googling...')\n",
    "    res = requests.get(url)\n",
    "    res.raise_for_status()\n",
    "    \n",
    "    #选择结果页面\n",
    "    soup = bs4.BeautifulSoup(res.text)\n",
    "    linkElems = soup.select('.r a')\n",
    "    \n",
    "    #打开前5个页面\n",
    "    numOpen = min(5, len(linkElems))\n",
    "    for i in range(numOpen):\n",
    "        webbrowser.open('http://google.com' + linkElems[i].get('href'))\n",
    "query = 'python webscraping'\n",
    "googleit(query)"
   ]
  },
  {
   "cell_type": "code",
   "execution_count": 103,
   "metadata": {
    "collapsed": false
   },
   "outputs": [
    {
     "name": "stdout",
     "output_type": "stream",
     "text": [
      "That is wrong. Downloading image is http://www.xkcd.com/2067/asset/challengers_header.png ...\n"
     ]
    },
    {
     "ename": "SSLError",
     "evalue": "HTTPSConnectionPool(host='xkcd.com', port=443): Max retries exceeded with url: /2005/ (Caused by SSLError(SSLError(\"bad handshake: SysCallError(54, 'ECONNRESET')\")))",
     "output_type": "error",
     "traceback": [
      "\u001b[0;31m---------------------------------------------------------------------------\u001b[0m",
      "\u001b[0;31mSysCallError\u001b[0m                              Traceback (most recent call last)",
      "\u001b[0;32m~/anaconda/envs/python35/lib/python3.7/site-packages/urllib3/contrib/pyopenssl.py\u001b[0m in \u001b[0;36mwrap_socket\u001b[0;34m(self, sock, server_side, do_handshake_on_connect, suppress_ragged_eofs, server_hostname)\u001b[0m\n\u001b[1;32m    452\u001b[0m             \u001b[0;32mtry\u001b[0m\u001b[0;34m:\u001b[0m\u001b[0;34m\u001b[0m\u001b[0;34m\u001b[0m\u001b[0m\n\u001b[0;32m--> 453\u001b[0;31m                 \u001b[0mcnx\u001b[0m\u001b[0;34m.\u001b[0m\u001b[0mdo_handshake\u001b[0m\u001b[0;34m(\u001b[0m\u001b[0;34m)\u001b[0m\u001b[0;34m\u001b[0m\u001b[0;34m\u001b[0m\u001b[0m\n\u001b[0m\u001b[1;32m    454\u001b[0m             \u001b[0;32mexcept\u001b[0m \u001b[0mOpenSSL\u001b[0m\u001b[0;34m.\u001b[0m\u001b[0mSSL\u001b[0m\u001b[0;34m.\u001b[0m\u001b[0mWantReadError\u001b[0m\u001b[0;34m:\u001b[0m\u001b[0;34m\u001b[0m\u001b[0;34m\u001b[0m\u001b[0m\n",
      "\u001b[0;32m~/anaconda/envs/python35/lib/python3.7/site-packages/OpenSSL/SSL.py\u001b[0m in \u001b[0;36mdo_handshake\u001b[0;34m(self)\u001b[0m\n\u001b[1;32m   1914\u001b[0m         \u001b[0mresult\u001b[0m \u001b[0;34m=\u001b[0m \u001b[0m_lib\u001b[0m\u001b[0;34m.\u001b[0m\u001b[0mSSL_do_handshake\u001b[0m\u001b[0;34m(\u001b[0m\u001b[0mself\u001b[0m\u001b[0;34m.\u001b[0m\u001b[0m_ssl\u001b[0m\u001b[0;34m)\u001b[0m\u001b[0;34m\u001b[0m\u001b[0;34m\u001b[0m\u001b[0m\n\u001b[0;32m-> 1915\u001b[0;31m         \u001b[0mself\u001b[0m\u001b[0;34m.\u001b[0m\u001b[0m_raise_ssl_error\u001b[0m\u001b[0;34m(\u001b[0m\u001b[0mself\u001b[0m\u001b[0;34m.\u001b[0m\u001b[0m_ssl\u001b[0m\u001b[0;34m,\u001b[0m \u001b[0mresult\u001b[0m\u001b[0;34m)\u001b[0m\u001b[0;34m\u001b[0m\u001b[0;34m\u001b[0m\u001b[0m\n\u001b[0m\u001b[1;32m   1916\u001b[0m \u001b[0;34m\u001b[0m\u001b[0m\n",
      "\u001b[0;32m~/anaconda/envs/python35/lib/python3.7/site-packages/OpenSSL/SSL.py\u001b[0m in \u001b[0;36m_raise_ssl_error\u001b[0;34m(self, ssl, result)\u001b[0m\n\u001b[1;32m   1638\u001b[0m                     \u001b[0;32mif\u001b[0m \u001b[0merrno\u001b[0m \u001b[0;34m!=\u001b[0m \u001b[0;36m0\u001b[0m\u001b[0;34m:\u001b[0m\u001b[0;34m\u001b[0m\u001b[0;34m\u001b[0m\u001b[0m\n\u001b[0;32m-> 1639\u001b[0;31m                         \u001b[0;32mraise\u001b[0m \u001b[0mSysCallError\u001b[0m\u001b[0;34m(\u001b[0m\u001b[0merrno\u001b[0m\u001b[0;34m,\u001b[0m \u001b[0merrorcode\u001b[0m\u001b[0;34m.\u001b[0m\u001b[0mget\u001b[0m\u001b[0;34m(\u001b[0m\u001b[0merrno\u001b[0m\u001b[0;34m)\u001b[0m\u001b[0;34m)\u001b[0m\u001b[0;34m\u001b[0m\u001b[0;34m\u001b[0m\u001b[0m\n\u001b[0m\u001b[1;32m   1640\u001b[0m                 \u001b[0;32mraise\u001b[0m \u001b[0mSysCallError\u001b[0m\u001b[0;34m(\u001b[0m\u001b[0;34m-\u001b[0m\u001b[0;36m1\u001b[0m\u001b[0;34m,\u001b[0m \u001b[0;34m\"Unexpected EOF\"\u001b[0m\u001b[0;34m)\u001b[0m\u001b[0;34m\u001b[0m\u001b[0;34m\u001b[0m\u001b[0m\n",
      "\u001b[0;31mSysCallError\u001b[0m: (54, 'ECONNRESET')",
      "\nDuring handling of the above exception, another exception occurred:\n",
      "\u001b[0;31mSSLError\u001b[0m                                  Traceback (most recent call last)",
      "\u001b[0;32m~/anaconda/envs/python35/lib/python3.7/site-packages/urllib3/connectionpool.py\u001b[0m in \u001b[0;36murlopen\u001b[0;34m(self, method, url, body, headers, retries, redirect, assert_same_host, timeout, pool_timeout, release_conn, chunked, body_pos, **response_kw)\u001b[0m\n\u001b[1;32m    593\u001b[0m             \u001b[0;32mif\u001b[0m \u001b[0mis_new_proxy_conn\u001b[0m\u001b[0;34m:\u001b[0m\u001b[0;34m\u001b[0m\u001b[0;34m\u001b[0m\u001b[0m\n\u001b[0;32m--> 594\u001b[0;31m                 \u001b[0mself\u001b[0m\u001b[0;34m.\u001b[0m\u001b[0m_prepare_proxy\u001b[0m\u001b[0;34m(\u001b[0m\u001b[0mconn\u001b[0m\u001b[0;34m)\u001b[0m\u001b[0;34m\u001b[0m\u001b[0;34m\u001b[0m\u001b[0m\n\u001b[0m\u001b[1;32m    595\u001b[0m \u001b[0;34m\u001b[0m\u001b[0m\n",
      "\u001b[0;32m~/anaconda/envs/python35/lib/python3.7/site-packages/urllib3/connectionpool.py\u001b[0m in \u001b[0;36m_prepare_proxy\u001b[0;34m(self, conn)\u001b[0m\n\u001b[1;32m    804\u001b[0m         \u001b[0mconn\u001b[0m\u001b[0;34m.\u001b[0m\u001b[0mset_tunnel\u001b[0m\u001b[0;34m(\u001b[0m\u001b[0mself\u001b[0m\u001b[0;34m.\u001b[0m\u001b[0m_proxy_host\u001b[0m\u001b[0;34m,\u001b[0m \u001b[0mself\u001b[0m\u001b[0;34m.\u001b[0m\u001b[0mport\u001b[0m\u001b[0;34m,\u001b[0m \u001b[0mself\u001b[0m\u001b[0;34m.\u001b[0m\u001b[0mproxy_headers\u001b[0m\u001b[0;34m)\u001b[0m\u001b[0;34m\u001b[0m\u001b[0;34m\u001b[0m\u001b[0m\n\u001b[0;32m--> 805\u001b[0;31m         \u001b[0mconn\u001b[0m\u001b[0;34m.\u001b[0m\u001b[0mconnect\u001b[0m\u001b[0;34m(\u001b[0m\u001b[0;34m)\u001b[0m\u001b[0;34m\u001b[0m\u001b[0;34m\u001b[0m\u001b[0m\n\u001b[0m\u001b[1;32m    806\u001b[0m \u001b[0;34m\u001b[0m\u001b[0m\n",
      "\u001b[0;32m~/anaconda/envs/python35/lib/python3.7/site-packages/urllib3/connection.py\u001b[0m in \u001b[0;36mconnect\u001b[0;34m(self)\u001b[0m\n\u001b[1;32m    343\u001b[0m             \u001b[0mserver_hostname\u001b[0m\u001b[0;34m=\u001b[0m\u001b[0mserver_hostname\u001b[0m\u001b[0;34m,\u001b[0m\u001b[0;34m\u001b[0m\u001b[0;34m\u001b[0m\u001b[0m\n\u001b[0;32m--> 344\u001b[0;31m             ssl_context=context)\n\u001b[0m\u001b[1;32m    345\u001b[0m \u001b[0;34m\u001b[0m\u001b[0m\n",
      "\u001b[0;32m~/anaconda/envs/python35/lib/python3.7/site-packages/urllib3/util/ssl_.py\u001b[0m in \u001b[0;36mssl_wrap_socket\u001b[0;34m(sock, keyfile, certfile, cert_reqs, ca_certs, server_hostname, ssl_version, ciphers, ssl_context, ca_cert_dir)\u001b[0m\n\u001b[1;32m    343\u001b[0m         \u001b[0;32mif\u001b[0m \u001b[0mHAS_SNI\u001b[0m \u001b[0;32mand\u001b[0m \u001b[0mserver_hostname\u001b[0m \u001b[0;32mis\u001b[0m \u001b[0;32mnot\u001b[0m \u001b[0;32mNone\u001b[0m\u001b[0;34m:\u001b[0m\u001b[0;34m\u001b[0m\u001b[0;34m\u001b[0m\u001b[0m\n\u001b[0;32m--> 344\u001b[0;31m             \u001b[0;32mreturn\u001b[0m \u001b[0mcontext\u001b[0m\u001b[0;34m.\u001b[0m\u001b[0mwrap_socket\u001b[0m\u001b[0;34m(\u001b[0m\u001b[0msock\u001b[0m\u001b[0;34m,\u001b[0m \u001b[0mserver_hostname\u001b[0m\u001b[0;34m=\u001b[0m\u001b[0mserver_hostname\u001b[0m\u001b[0;34m)\u001b[0m\u001b[0;34m\u001b[0m\u001b[0;34m\u001b[0m\u001b[0m\n\u001b[0m\u001b[1;32m    345\u001b[0m \u001b[0;34m\u001b[0m\u001b[0m\n",
      "\u001b[0;32m~/anaconda/envs/python35/lib/python3.7/site-packages/urllib3/contrib/pyopenssl.py\u001b[0m in \u001b[0;36mwrap_socket\u001b[0;34m(self, sock, server_side, do_handshake_on_connect, suppress_ragged_eofs, server_hostname)\u001b[0m\n\u001b[1;32m    458\u001b[0m             \u001b[0;32mexcept\u001b[0m \u001b[0mOpenSSL\u001b[0m\u001b[0;34m.\u001b[0m\u001b[0mSSL\u001b[0m\u001b[0;34m.\u001b[0m\u001b[0mError\u001b[0m \u001b[0;32mas\u001b[0m \u001b[0me\u001b[0m\u001b[0;34m:\u001b[0m\u001b[0;34m\u001b[0m\u001b[0;34m\u001b[0m\u001b[0m\n\u001b[0;32m--> 459\u001b[0;31m                 \u001b[0;32mraise\u001b[0m \u001b[0mssl\u001b[0m\u001b[0;34m.\u001b[0m\u001b[0mSSLError\u001b[0m\u001b[0;34m(\u001b[0m\u001b[0;34m'bad handshake: %r'\u001b[0m \u001b[0;34m%\u001b[0m \u001b[0me\u001b[0m\u001b[0;34m)\u001b[0m\u001b[0;34m\u001b[0m\u001b[0;34m\u001b[0m\u001b[0m\n\u001b[0m\u001b[1;32m    460\u001b[0m             \u001b[0;32mbreak\u001b[0m\u001b[0;34m\u001b[0m\u001b[0;34m\u001b[0m\u001b[0m\n",
      "\u001b[0;31mSSLError\u001b[0m: (\"bad handshake: SysCallError(54, 'ECONNRESET')\",)",
      "\nDuring handling of the above exception, another exception occurred:\n",
      "\u001b[0;31mMaxRetryError\u001b[0m                             Traceback (most recent call last)",
      "\u001b[0;32m~/anaconda/envs/python35/lib/python3.7/site-packages/requests/adapters.py\u001b[0m in \u001b[0;36msend\u001b[0;34m(self, request, stream, timeout, verify, cert, proxies)\u001b[0m\n\u001b[1;32m    448\u001b[0m                     \u001b[0mretries\u001b[0m\u001b[0;34m=\u001b[0m\u001b[0mself\u001b[0m\u001b[0;34m.\u001b[0m\u001b[0mmax_retries\u001b[0m\u001b[0;34m,\u001b[0m\u001b[0;34m\u001b[0m\u001b[0;34m\u001b[0m\u001b[0m\n\u001b[0;32m--> 449\u001b[0;31m                     \u001b[0mtimeout\u001b[0m\u001b[0;34m=\u001b[0m\u001b[0mtimeout\u001b[0m\u001b[0;34m\u001b[0m\u001b[0;34m\u001b[0m\u001b[0m\n\u001b[0m\u001b[1;32m    450\u001b[0m                 )\n",
      "\u001b[0;32m~/anaconda/envs/python35/lib/python3.7/site-packages/urllib3/connectionpool.py\u001b[0m in \u001b[0;36murlopen\u001b[0;34m(self, method, url, body, headers, retries, redirect, assert_same_host, timeout, pool_timeout, release_conn, chunked, body_pos, **response_kw)\u001b[0m\n\u001b[1;32m    637\u001b[0m             retries = retries.increment(method, url, error=e, _pool=self,\n\u001b[0;32m--> 638\u001b[0;31m                                         _stacktrace=sys.exc_info()[2])\n\u001b[0m\u001b[1;32m    639\u001b[0m             \u001b[0mretries\u001b[0m\u001b[0;34m.\u001b[0m\u001b[0msleep\u001b[0m\u001b[0;34m(\u001b[0m\u001b[0;34m)\u001b[0m\u001b[0;34m\u001b[0m\u001b[0;34m\u001b[0m\u001b[0m\n",
      "\u001b[0;32m~/anaconda/envs/python35/lib/python3.7/site-packages/urllib3/util/retry.py\u001b[0m in \u001b[0;36mincrement\u001b[0;34m(self, method, url, response, error, _pool, _stacktrace)\u001b[0m\n\u001b[1;32m    397\u001b[0m         \u001b[0;32mif\u001b[0m \u001b[0mnew_retry\u001b[0m\u001b[0;34m.\u001b[0m\u001b[0mis_exhausted\u001b[0m\u001b[0;34m(\u001b[0m\u001b[0;34m)\u001b[0m\u001b[0;34m:\u001b[0m\u001b[0;34m\u001b[0m\u001b[0;34m\u001b[0m\u001b[0m\n\u001b[0;32m--> 398\u001b[0;31m             \u001b[0;32mraise\u001b[0m \u001b[0mMaxRetryError\u001b[0m\u001b[0;34m(\u001b[0m\u001b[0m_pool\u001b[0m\u001b[0;34m,\u001b[0m \u001b[0murl\u001b[0m\u001b[0;34m,\u001b[0m \u001b[0merror\u001b[0m \u001b[0;32mor\u001b[0m \u001b[0mResponseError\u001b[0m\u001b[0;34m(\u001b[0m\u001b[0mcause\u001b[0m\u001b[0;34m)\u001b[0m\u001b[0;34m)\u001b[0m\u001b[0;34m\u001b[0m\u001b[0;34m\u001b[0m\u001b[0m\n\u001b[0m\u001b[1;32m    399\u001b[0m \u001b[0;34m\u001b[0m\u001b[0m\n",
      "\u001b[0;31mMaxRetryError\u001b[0m: HTTPSConnectionPool(host='xkcd.com', port=443): Max retries exceeded with url: /2005/ (Caused by SSLError(SSLError(\"bad handshake: SysCallError(54, 'ECONNRESET')\")))",
      "\nDuring handling of the above exception, another exception occurred:\n",
      "\u001b[0;31mSSLError\u001b[0m                                  Traceback (most recent call last)",
      "\u001b[0;32m<ipython-input-103-2f4027e94548>\u001b[0m in \u001b[0;36m<module>\u001b[0;34m\u001b[0m\n\u001b[1;32m      7\u001b[0m     \u001b[0;31m#下载网页\u001b[0m\u001b[0;34m\u001b[0m\u001b[0;34m\u001b[0m\u001b[0;34m\u001b[0m\u001b[0m\n\u001b[1;32m      8\u001b[0m     \u001b[0;31m# print('Downloading page %s ...'%url)\u001b[0m\u001b[0;34m\u001b[0m\u001b[0;34m\u001b[0m\u001b[0;34m\u001b[0m\u001b[0m\n\u001b[0;32m----> 9\u001b[0;31m     \u001b[0mres\u001b[0m \u001b[0;34m=\u001b[0m \u001b[0mrequests\u001b[0m\u001b[0;34m.\u001b[0m\u001b[0mget\u001b[0m\u001b[0;34m(\u001b[0m\u001b[0murl\u001b[0m\u001b[0;34m)\u001b[0m\u001b[0;34m\u001b[0m\u001b[0;34m\u001b[0m\u001b[0m\n\u001b[0m\u001b[1;32m     10\u001b[0m     \u001b[0mres\u001b[0m\u001b[0;34m.\u001b[0m\u001b[0mraise_for_status\u001b[0m\u001b[0;34m(\u001b[0m\u001b[0;34m)\u001b[0m\u001b[0;34m\u001b[0m\u001b[0;34m\u001b[0m\u001b[0m\n\u001b[1;32m     11\u001b[0m     \u001b[0msoup\u001b[0m \u001b[0;34m=\u001b[0m \u001b[0mbs4\u001b[0m\u001b[0;34m.\u001b[0m\u001b[0mBeautifulSoup\u001b[0m\u001b[0;34m(\u001b[0m\u001b[0mres\u001b[0m\u001b[0;34m.\u001b[0m\u001b[0mtext\u001b[0m\u001b[0;34m)\u001b[0m\u001b[0;34m\u001b[0m\u001b[0;34m\u001b[0m\u001b[0m\n",
      "\u001b[0;32m~/anaconda/envs/python35/lib/python3.7/site-packages/requests/api.py\u001b[0m in \u001b[0;36mget\u001b[0;34m(url, params, **kwargs)\u001b[0m\n\u001b[1;32m     73\u001b[0m \u001b[0;34m\u001b[0m\u001b[0m\n\u001b[1;32m     74\u001b[0m     \u001b[0mkwargs\u001b[0m\u001b[0;34m.\u001b[0m\u001b[0msetdefault\u001b[0m\u001b[0;34m(\u001b[0m\u001b[0;34m'allow_redirects'\u001b[0m\u001b[0;34m,\u001b[0m \u001b[0;32mTrue\u001b[0m\u001b[0;34m)\u001b[0m\u001b[0;34m\u001b[0m\u001b[0;34m\u001b[0m\u001b[0m\n\u001b[0;32m---> 75\u001b[0;31m     \u001b[0;32mreturn\u001b[0m \u001b[0mrequest\u001b[0m\u001b[0;34m(\u001b[0m\u001b[0;34m'get'\u001b[0m\u001b[0;34m,\u001b[0m \u001b[0murl\u001b[0m\u001b[0;34m,\u001b[0m \u001b[0mparams\u001b[0m\u001b[0;34m=\u001b[0m\u001b[0mparams\u001b[0m\u001b[0;34m,\u001b[0m \u001b[0;34m**\u001b[0m\u001b[0mkwargs\u001b[0m\u001b[0;34m)\u001b[0m\u001b[0;34m\u001b[0m\u001b[0;34m\u001b[0m\u001b[0m\n\u001b[0m\u001b[1;32m     76\u001b[0m \u001b[0;34m\u001b[0m\u001b[0m\n\u001b[1;32m     77\u001b[0m \u001b[0;34m\u001b[0m\u001b[0m\n",
      "\u001b[0;32m~/anaconda/envs/python35/lib/python3.7/site-packages/requests/api.py\u001b[0m in \u001b[0;36mrequest\u001b[0;34m(method, url, **kwargs)\u001b[0m\n\u001b[1;32m     58\u001b[0m     \u001b[0;31m# cases, and look like a memory leak in others.\u001b[0m\u001b[0;34m\u001b[0m\u001b[0;34m\u001b[0m\u001b[0;34m\u001b[0m\u001b[0m\n\u001b[1;32m     59\u001b[0m     \u001b[0;32mwith\u001b[0m \u001b[0msessions\u001b[0m\u001b[0;34m.\u001b[0m\u001b[0mSession\u001b[0m\u001b[0;34m(\u001b[0m\u001b[0;34m)\u001b[0m \u001b[0;32mas\u001b[0m \u001b[0msession\u001b[0m\u001b[0;34m:\u001b[0m\u001b[0;34m\u001b[0m\u001b[0;34m\u001b[0m\u001b[0m\n\u001b[0;32m---> 60\u001b[0;31m         \u001b[0;32mreturn\u001b[0m \u001b[0msession\u001b[0m\u001b[0;34m.\u001b[0m\u001b[0mrequest\u001b[0m\u001b[0;34m(\u001b[0m\u001b[0mmethod\u001b[0m\u001b[0;34m=\u001b[0m\u001b[0mmethod\u001b[0m\u001b[0;34m,\u001b[0m \u001b[0murl\u001b[0m\u001b[0;34m=\u001b[0m\u001b[0murl\u001b[0m\u001b[0;34m,\u001b[0m \u001b[0;34m**\u001b[0m\u001b[0mkwargs\u001b[0m\u001b[0;34m)\u001b[0m\u001b[0;34m\u001b[0m\u001b[0;34m\u001b[0m\u001b[0m\n\u001b[0m\u001b[1;32m     61\u001b[0m \u001b[0;34m\u001b[0m\u001b[0m\n\u001b[1;32m     62\u001b[0m \u001b[0;34m\u001b[0m\u001b[0m\n",
      "\u001b[0;32m~/anaconda/envs/python35/lib/python3.7/site-packages/requests/sessions.py\u001b[0m in \u001b[0;36mrequest\u001b[0;34m(self, method, url, params, data, headers, cookies, files, auth, timeout, allow_redirects, proxies, hooks, stream, verify, cert, json)\u001b[0m\n\u001b[1;32m    531\u001b[0m         }\n\u001b[1;32m    532\u001b[0m         \u001b[0msend_kwargs\u001b[0m\u001b[0;34m.\u001b[0m\u001b[0mupdate\u001b[0m\u001b[0;34m(\u001b[0m\u001b[0msettings\u001b[0m\u001b[0;34m)\u001b[0m\u001b[0;34m\u001b[0m\u001b[0;34m\u001b[0m\u001b[0m\n\u001b[0;32m--> 533\u001b[0;31m         \u001b[0mresp\u001b[0m \u001b[0;34m=\u001b[0m \u001b[0mself\u001b[0m\u001b[0;34m.\u001b[0m\u001b[0msend\u001b[0m\u001b[0;34m(\u001b[0m\u001b[0mprep\u001b[0m\u001b[0;34m,\u001b[0m \u001b[0;34m**\u001b[0m\u001b[0msend_kwargs\u001b[0m\u001b[0;34m)\u001b[0m\u001b[0;34m\u001b[0m\u001b[0;34m\u001b[0m\u001b[0m\n\u001b[0m\u001b[1;32m    534\u001b[0m \u001b[0;34m\u001b[0m\u001b[0m\n\u001b[1;32m    535\u001b[0m         \u001b[0;32mreturn\u001b[0m \u001b[0mresp\u001b[0m\u001b[0;34m\u001b[0m\u001b[0;34m\u001b[0m\u001b[0m\n",
      "\u001b[0;32m~/anaconda/envs/python35/lib/python3.7/site-packages/requests/sessions.py\u001b[0m in \u001b[0;36msend\u001b[0;34m(self, request, **kwargs)\u001b[0m\n\u001b[1;32m    666\u001b[0m \u001b[0;34m\u001b[0m\u001b[0m\n\u001b[1;32m    667\u001b[0m         \u001b[0;31m# Resolve redirects if allowed.\u001b[0m\u001b[0;34m\u001b[0m\u001b[0;34m\u001b[0m\u001b[0;34m\u001b[0m\u001b[0m\n\u001b[0;32m--> 668\u001b[0;31m         \u001b[0mhistory\u001b[0m \u001b[0;34m=\u001b[0m \u001b[0;34m[\u001b[0m\u001b[0mresp\u001b[0m \u001b[0;32mfor\u001b[0m \u001b[0mresp\u001b[0m \u001b[0;32min\u001b[0m \u001b[0mgen\u001b[0m\u001b[0;34m]\u001b[0m \u001b[0;32mif\u001b[0m \u001b[0mallow_redirects\u001b[0m \u001b[0;32melse\u001b[0m \u001b[0;34m[\u001b[0m\u001b[0;34m]\u001b[0m\u001b[0;34m\u001b[0m\u001b[0;34m\u001b[0m\u001b[0m\n\u001b[0m\u001b[1;32m    669\u001b[0m \u001b[0;34m\u001b[0m\u001b[0m\n\u001b[1;32m    670\u001b[0m         \u001b[0;31m# Shuffle things around if there's history.\u001b[0m\u001b[0;34m\u001b[0m\u001b[0;34m\u001b[0m\u001b[0;34m\u001b[0m\u001b[0m\n",
      "\u001b[0;32m~/anaconda/envs/python35/lib/python3.7/site-packages/requests/sessions.py\u001b[0m in \u001b[0;36m<listcomp>\u001b[0;34m(.0)\u001b[0m\n\u001b[1;32m    666\u001b[0m \u001b[0;34m\u001b[0m\u001b[0m\n\u001b[1;32m    667\u001b[0m         \u001b[0;31m# Resolve redirects if allowed.\u001b[0m\u001b[0;34m\u001b[0m\u001b[0;34m\u001b[0m\u001b[0;34m\u001b[0m\u001b[0m\n\u001b[0;32m--> 668\u001b[0;31m         \u001b[0mhistory\u001b[0m \u001b[0;34m=\u001b[0m \u001b[0;34m[\u001b[0m\u001b[0mresp\u001b[0m \u001b[0;32mfor\u001b[0m \u001b[0mresp\u001b[0m \u001b[0;32min\u001b[0m \u001b[0mgen\u001b[0m\u001b[0;34m]\u001b[0m \u001b[0;32mif\u001b[0m \u001b[0mallow_redirects\u001b[0m \u001b[0;32melse\u001b[0m \u001b[0;34m[\u001b[0m\u001b[0;34m]\u001b[0m\u001b[0;34m\u001b[0m\u001b[0;34m\u001b[0m\u001b[0m\n\u001b[0m\u001b[1;32m    669\u001b[0m \u001b[0;34m\u001b[0m\u001b[0m\n\u001b[1;32m    670\u001b[0m         \u001b[0;31m# Shuffle things around if there's history.\u001b[0m\u001b[0;34m\u001b[0m\u001b[0;34m\u001b[0m\u001b[0;34m\u001b[0m\u001b[0m\n",
      "\u001b[0;32m~/anaconda/envs/python35/lib/python3.7/site-packages/requests/sessions.py\u001b[0m in \u001b[0;36mresolve_redirects\u001b[0;34m(self, resp, req, stream, timeout, verify, cert, proxies, yield_requests, **adapter_kwargs)\u001b[0m\n\u001b[1;32m    245\u001b[0m                     \u001b[0mproxies\u001b[0m\u001b[0;34m=\u001b[0m\u001b[0mproxies\u001b[0m\u001b[0;34m,\u001b[0m\u001b[0;34m\u001b[0m\u001b[0;34m\u001b[0m\u001b[0m\n\u001b[1;32m    246\u001b[0m                     \u001b[0mallow_redirects\u001b[0m\u001b[0;34m=\u001b[0m\u001b[0;32mFalse\u001b[0m\u001b[0;34m,\u001b[0m\u001b[0;34m\u001b[0m\u001b[0;34m\u001b[0m\u001b[0m\n\u001b[0;32m--> 247\u001b[0;31m                     \u001b[0;34m**\u001b[0m\u001b[0madapter_kwargs\u001b[0m\u001b[0;34m\u001b[0m\u001b[0;34m\u001b[0m\u001b[0m\n\u001b[0m\u001b[1;32m    248\u001b[0m                 )\n\u001b[1;32m    249\u001b[0m \u001b[0;34m\u001b[0m\u001b[0m\n",
      "\u001b[0;32m~/anaconda/envs/python35/lib/python3.7/site-packages/requests/sessions.py\u001b[0m in \u001b[0;36msend\u001b[0;34m(self, request, **kwargs)\u001b[0m\n\u001b[1;32m    644\u001b[0m \u001b[0;34m\u001b[0m\u001b[0m\n\u001b[1;32m    645\u001b[0m         \u001b[0;31m# Send the request\u001b[0m\u001b[0;34m\u001b[0m\u001b[0;34m\u001b[0m\u001b[0;34m\u001b[0m\u001b[0m\n\u001b[0;32m--> 646\u001b[0;31m         \u001b[0mr\u001b[0m \u001b[0;34m=\u001b[0m \u001b[0madapter\u001b[0m\u001b[0;34m.\u001b[0m\u001b[0msend\u001b[0m\u001b[0;34m(\u001b[0m\u001b[0mrequest\u001b[0m\u001b[0;34m,\u001b[0m \u001b[0;34m**\u001b[0m\u001b[0mkwargs\u001b[0m\u001b[0;34m)\u001b[0m\u001b[0;34m\u001b[0m\u001b[0;34m\u001b[0m\u001b[0m\n\u001b[0m\u001b[1;32m    647\u001b[0m \u001b[0;34m\u001b[0m\u001b[0m\n\u001b[1;32m    648\u001b[0m         \u001b[0;31m# Total elapsed time of the request (approximately)\u001b[0m\u001b[0;34m\u001b[0m\u001b[0;34m\u001b[0m\u001b[0;34m\u001b[0m\u001b[0m\n",
      "\u001b[0;32m~/anaconda/envs/python35/lib/python3.7/site-packages/requests/adapters.py\u001b[0m in \u001b[0;36msend\u001b[0;34m(self, request, stream, timeout, verify, cert, proxies)\u001b[0m\n\u001b[1;32m    512\u001b[0m             \u001b[0;32mif\u001b[0m \u001b[0misinstance\u001b[0m\u001b[0;34m(\u001b[0m\u001b[0me\u001b[0m\u001b[0;34m.\u001b[0m\u001b[0mreason\u001b[0m\u001b[0;34m,\u001b[0m \u001b[0m_SSLError\u001b[0m\u001b[0;34m)\u001b[0m\u001b[0;34m:\u001b[0m\u001b[0;34m\u001b[0m\u001b[0;34m\u001b[0m\u001b[0m\n\u001b[1;32m    513\u001b[0m                 \u001b[0;31m# This branch is for urllib3 v1.22 and later.\u001b[0m\u001b[0;34m\u001b[0m\u001b[0;34m\u001b[0m\u001b[0;34m\u001b[0m\u001b[0m\n\u001b[0;32m--> 514\u001b[0;31m                 \u001b[0;32mraise\u001b[0m \u001b[0mSSLError\u001b[0m\u001b[0;34m(\u001b[0m\u001b[0me\u001b[0m\u001b[0;34m,\u001b[0m \u001b[0mrequest\u001b[0m\u001b[0;34m=\u001b[0m\u001b[0mrequest\u001b[0m\u001b[0;34m)\u001b[0m\u001b[0;34m\u001b[0m\u001b[0;34m\u001b[0m\u001b[0m\n\u001b[0m\u001b[1;32m    515\u001b[0m \u001b[0;34m\u001b[0m\u001b[0m\n\u001b[1;32m    516\u001b[0m             \u001b[0;32mraise\u001b[0m \u001b[0mConnectionError\u001b[0m\u001b[0;34m(\u001b[0m\u001b[0me\u001b[0m\u001b[0;34m,\u001b[0m \u001b[0mrequest\u001b[0m\u001b[0;34m=\u001b[0m\u001b[0mrequest\u001b[0m\u001b[0;34m)\u001b[0m\u001b[0;34m\u001b[0m\u001b[0;34m\u001b[0m\u001b[0m\n",
      "\u001b[0;31mSSLError\u001b[0m: HTTPSConnectionPool(host='xkcd.com', port=443): Max retries exceeded with url: /2005/ (Caused by SSLError(SSLError(\"bad handshake: SysCallError(54, 'ECONNRESET')\")))"
     ]
    }
   ],
   "source": [
    "#_*_coding:utf-8_*_\n",
    "import requests, bs4,os\n",
    "\n",
    "url = 'http://xkcd.com'\n",
    "os.makedirs('xkcd', exist_ok=True)\n",
    "while not url.endswith('#'):\n",
    "    #下载网页\n",
    "    # print('Downloading page %s ...'%url)\n",
    "    res = requests.get(url)\n",
    "    res.raise_for_status()\n",
    "    soup = bs4.BeautifulSoup(res.text)\n",
    "    \n",
    "    #寻找漫画\n",
    "    comicElem = soup.select('#comic img')\n",
    "    if comicElem == []:\n",
    "        print('Could not find comic image.')\n",
    "    else:\n",
    "        try:\n",
    "            comicUrl = 'http:'+ comicElem[0].get('src')\n",
    "            # print('Downloading image is %s ...'%comicUrl)\n",
    "            res = requests.get(comicUrl)\n",
    "            res.raise_for_status()  \n",
    "        except:\n",
    "            comicUrl = 'http://www.xkcd.com'+ comicElem[0].get('src')\n",
    "            print('That is wrong. Downloading image is %s ...'%comicUrl)    \n",
    "            res = requests.get(comicUrl)\n",
    "            res.raise_for_status() \n",
    "\n",
    "    #保存漫画\n",
    "    imageFile = open(os.path.join('xkcd', os.path.basename(comicUrl)), 'wb')\n",
    "    for chunk in res.iter_content(100000):\n",
    "        imageFile.write(chunk)\n",
    "    imageFile.close() \n",
    "\n",
    "    #找前一张漫画\n",
    "    prevLink = soup.select('a[rel=\"prev\"]')[0]\n",
    "    url = 'http://xkcd.com' + prevLink.get('href')\n",
    "    \n",
    "print('Done.')"
   ]
  },
  {
   "cell_type": "code",
   "execution_count": 176,
   "metadata": {
    "collapsed": false
   },
   "outputs": [
    {
     "name": "stdout",
     "output_type": "stream",
     "text": [
      "Downloading image is http://imgs.xkcd.com/comics/pie_charts.png ...\n"
     ]
    }
   ],
   "source": [
    "url = 'https://xkcd.com/2031/'\n",
    "res = requests.get(url)\n",
    "res.raise_for_status()\n",
    "soup = bs4.BeautifulSoup(res.text)\n",
    "comicElem = soup.select('#comic img')\n",
    "try:\n",
    "    comicUrl = 'http:'+ comicElem[0].get('src')\n",
    "    print('Downloading image is %s ...'%comicUrl)\n",
    "    res = requests.get(comicUrl)\n",
    "    res.raise_for_status()  \n",
    "except:\n",
    "    comicUrl = 'http://www.xkcd.com'+ comicElem[0].get('src')\n",
    "    print('That is wrong. Downloading image is %s ...'%comicUrl)    \n",
    "    res = requests.get(comicUrl)\n",
    "    res.raise_for_status() "
   ]
  },
  {
   "cell_type": "markdown",
   "metadata": {},
   "source": [
    "明白了，这里用的是canvas，不是img。"
   ]
  },
  {
   "cell_type": "markdown",
   "metadata": {},
   "source": [
    "2031和1813都出现的错误：  \n",
    "\n",
    "SysCallError                              Traceback (most recent call last)\n",
    "\n",
    "SSLError: HTTPSConnectionPool(host='xkcd.com', port=443): Max retries exceeded with url: /1813/ (Caused by SSLError(SSLError(\"bad handshake: SysCallError(-1, 'Unexpected EOF')\")))"
   ]
  },
  {
   "cell_type": "markdown",
   "metadata": {},
   "source": [
    "### selenium"
   ]
  },
  {
   "cell_type": "markdown",
   "metadata": {
    "collapsed": true
   },
   "source": [
    "折腾过程见教程。"
   ]
  },
  {
   "cell_type": "markdown",
   "metadata": {},
   "source": [
    "**如果browser赋值时打开的窗口关掉了，让browser.get(url)就会出错。**"
   ]
  },
  {
   "cell_type": "code",
   "execution_count": 25,
   "metadata": {
    "collapsed": true
   },
   "outputs": [],
   "source": [
    "#_*_coding:utf-8_*_\n",
    "from selenium import webdriver\n",
    "\n",
    "path = '/Users/caimeijuan/anaconda/envs/python35/lib/python3.7/site-packages/selenium/webdriver/chrome/chromedriver'\n",
    "browser = webdriver.Chrome(path)"
   ]
  },
  {
   "cell_type": "code",
   "execution_count": 1,
   "metadata": {
    "collapsed": false,
    "scrolled": true
   },
   "outputs": [
    {
     "name": "stdout",
     "output_type": "stream",
     "text": [
      "Found <img> element with that class name!\n"
     ]
    }
   ],
   "source": [
    "url = 'http://inventwithpython.com'\n",
    "browser.get(url)\n",
    "\n",
    "try:\n",
    "    elem = browser.find_element_by_class_name('card-img-top')\n",
    "    print('Found <%s> element with that class name!' %(elem.tag_name))\n",
    "except:\n",
    "    print('Was not able to find an element with that name.')"
   ]
  },
  {
   "cell_type": "code",
   "execution_count": 2,
   "metadata": {
    "collapsed": false
   },
   "outputs": [
    {
     "data": {
      "text/plain": [
       "selenium.webdriver.remote.webelement.WebElement"
      ]
     },
     "execution_count": 2,
     "metadata": {},
     "output_type": "execute_result"
    }
   ],
   "source": [
    "browser = webdriver.Chrome(path)\n",
    "url = 'http://inventwithpython.com'\n",
    "browser.get(url)\n",
    "\n",
    "linkElem = browser.find_element_by_link_text('Read Online for Free')\n",
    "type(linkElem)"
   ]
  },
  {
   "cell_type": "code",
   "execution_count": 3,
   "metadata": {
    "collapsed": false
   },
   "outputs": [],
   "source": [
    "linkElem.click()"
   ]
  },
  {
   "cell_type": "markdown",
   "metadata": {},
   "source": [
    "真的把这个链接打开了。"
   ]
  },
  {
   "cell_type": "markdown",
   "metadata": {},
   "source": [
    "#### 登录gmail"
   ]
  },
  {
   "cell_type": "code",
   "execution_count": 26,
   "metadata": {
    "collapsed": false
   },
   "outputs": [],
   "source": [
    "url = 'http://gmail.com'\n",
    "browser.get(url)"
   ]
  },
  {
   "cell_type": "markdown",
   "metadata": {},
   "source": [
    "找出input元素：  "
   ]
  },
  {
   "cell_type": "code",
   "execution_count": 21,
   "metadata": {
    "collapsed": false
   },
   "outputs": [],
   "source": [
    "classElem = browser.find_element_by_class_name('whsOnd')"
   ]
  },
  {
   "cell_type": "code",
   "execution_count": 22,
   "metadata": {
    "collapsed": false
   },
   "outputs": [],
   "source": [
    "idElem = browser.find_element_by_id('identifierId')"
   ]
  },
  {
   "cell_type": "code",
   "execution_count": 23,
   "metadata": {
    "collapsed": false
   },
   "outputs": [],
   "source": [
    "nameElem = browser.find_element_by_name('identifier')"
   ]
  },
  {
   "cell_type": "code",
   "execution_count": 24,
   "metadata": {
    "collapsed": false
   },
   "outputs": [
    {
     "data": {
      "text/plain": [
       "True"
      ]
     },
     "execution_count": 24,
     "metadata": {},
     "output_type": "execute_result"
    }
   ],
   "source": [
    "classElem == idElem"
   ]
  },
  {
   "cell_type": "code",
   "execution_count": 25,
   "metadata": {
    "collapsed": false
   },
   "outputs": [
    {
     "data": {
      "text/plain": [
       "True"
      ]
     },
     "execution_count": 25,
     "metadata": {},
     "output_type": "execute_result"
    }
   ],
   "source": [
    "idElem == nameElem"
   ]
  },
  {
   "cell_type": "code",
   "execution_count": 26,
   "metadata": {
    "collapsed": true
   },
   "outputs": [],
   "source": [
    "tagElem = browser.find_element_by_tag_name('input')"
   ]
  },
  {
   "cell_type": "code",
   "execution_count": 27,
   "metadata": {
    "collapsed": false
   },
   "outputs": [
    {
     "data": {
      "text/plain": [
       "True"
      ]
     },
     "execution_count": 27,
     "metadata": {},
     "output_type": "execute_result"
    }
   ],
   "source": [
    "nameElem == tagElem"
   ]
  },
  {
   "cell_type": "code",
   "execution_count": 36,
   "metadata": {
    "collapsed": false
   },
   "outputs": [],
   "source": [
    "tagsElem_div = browser.find_elements_by_tag_name('div')"
   ]
  },
  {
   "cell_type": "code",
   "execution_count": 48,
   "metadata": {
    "collapsed": false
   },
   "outputs": [],
   "source": [
    "tagsElem_a = browser.find_elements_by_tag_name('a')"
   ]
  },
  {
   "cell_type": "markdown",
   "metadata": {},
   "source": [
    "##### 填写email帐号"
   ]
  },
  {
   "cell_type": "code",
   "execution_count": 27,
   "metadata": {
    "collapsed": false
   },
   "outputs": [
    {
     "name": "stdout",
     "output_type": "stream",
     "text": [
      "········\n"
     ]
    }
   ],
   "source": [
    "import getpass\n",
    "tagsElem_input = browser.find_elements_by_tag_name('input')\n",
    "email = tagsElem_input[0]\n",
    "email.clear()\n",
    "email.send_keys(getpass.getpass())"
   ]
  },
  {
   "cell_type": "markdown",
   "metadata": {},
   "source": [
    "试图毕其功于一役，失败。错误提示是：**元素不可见**。"
   ]
  },
  {
   "cell_type": "code",
   "execution_count": 5,
   "metadata": {
    "collapsed": false
   },
   "outputs": [],
   "source": [
    "tagsElem_input = browser.find_elements_by_tag_name('input')\n",
    "email = None\n",
    "password = None\n",
    "for t in tagsElem_input:\n",
    "    if t.get_property('type')=='email':\n",
    "        email = t\n",
    "    elif t.get_property('type')=='password':\n",
    "        password = t"
   ]
  },
  {
   "cell_type": "code",
   "execution_count": 8,
   "metadata": {
    "collapsed": false
   },
   "outputs": [
    {
     "ename": "ElementNotVisibleException",
     "evalue": "Message: element not interactable\n  (Session info: chrome=73.0.3683.103)\n  (Driver info: chromedriver=73.0.3683.68 (47787ec04b6e38e22703e856e101e840b65afe72),platform=Mac OS X 10.14.4 x86_64)\n",
     "output_type": "error",
     "traceback": [
      "\u001b[0;31m---------------------------------------------------------------------------\u001b[0m",
      "\u001b[0;31mElementNotVisibleException\u001b[0m                Traceback (most recent call last)",
      "\u001b[0;32m<ipython-input-8-e2c2fb1dd386>\u001b[0m in \u001b[0;36m<module>\u001b[0;34m\u001b[0m\n\u001b[1;32m      1\u001b[0m \u001b[0memail\u001b[0m\u001b[0;34m.\u001b[0m\u001b[0mclear\u001b[0m\u001b[0;34m(\u001b[0m\u001b[0;34m)\u001b[0m\u001b[0;34m\u001b[0m\u001b[0;34m\u001b[0m\u001b[0m\n\u001b[1;32m      2\u001b[0m \u001b[0memail\u001b[0m\u001b[0;34m.\u001b[0m\u001b[0msend_keys\u001b[0m\u001b[0;34m(\u001b[0m\u001b[0;34m'caimeijuan@gmail.com'\u001b[0m\u001b[0;34m)\u001b[0m\u001b[0;34m\u001b[0m\u001b[0;34m\u001b[0m\u001b[0m\n\u001b[0;32m----> 3\u001b[0;31m \u001b[0mpassword\u001b[0m\u001b[0;34m.\u001b[0m\u001b[0mclear\u001b[0m\u001b[0;34m(\u001b[0m\u001b[0;34m)\u001b[0m\u001b[0;34m\u001b[0m\u001b[0;34m\u001b[0m\u001b[0m\n\u001b[0m\u001b[1;32m      4\u001b[0m \u001b[0mpassword\u001b[0m\u001b[0;34m.\u001b[0m\u001b[0msend_keys\u001b[0m\u001b[0;34m(\u001b[0m\u001b[0;34m'363265911'\u001b[0m\u001b[0;34m)\u001b[0m\u001b[0;34m\u001b[0m\u001b[0;34m\u001b[0m\u001b[0m\n",
      "\u001b[0;32m~/anaconda/envs/python35/lib/python3.7/site-packages/selenium/webdriver/remote/webelement.py\u001b[0m in \u001b[0;36mclear\u001b[0;34m(self)\u001b[0m\n\u001b[1;32m     93\u001b[0m     \u001b[0;32mdef\u001b[0m \u001b[0mclear\u001b[0m\u001b[0;34m(\u001b[0m\u001b[0mself\u001b[0m\u001b[0;34m)\u001b[0m\u001b[0;34m:\u001b[0m\u001b[0;34m\u001b[0m\u001b[0;34m\u001b[0m\u001b[0m\n\u001b[1;32m     94\u001b[0m         \u001b[0;34m\"\"\"Clears the text if it's a text entry element.\"\"\"\u001b[0m\u001b[0;34m\u001b[0m\u001b[0;34m\u001b[0m\u001b[0m\n\u001b[0;32m---> 95\u001b[0;31m         \u001b[0mself\u001b[0m\u001b[0;34m.\u001b[0m\u001b[0m_execute\u001b[0m\u001b[0;34m(\u001b[0m\u001b[0mCommand\u001b[0m\u001b[0;34m.\u001b[0m\u001b[0mCLEAR_ELEMENT\u001b[0m\u001b[0;34m)\u001b[0m\u001b[0;34m\u001b[0m\u001b[0;34m\u001b[0m\u001b[0m\n\u001b[0m\u001b[1;32m     96\u001b[0m \u001b[0;34m\u001b[0m\u001b[0m\n\u001b[1;32m     97\u001b[0m     \u001b[0;32mdef\u001b[0m \u001b[0mget_property\u001b[0m\u001b[0;34m(\u001b[0m\u001b[0mself\u001b[0m\u001b[0;34m,\u001b[0m \u001b[0mname\u001b[0m\u001b[0;34m)\u001b[0m\u001b[0;34m:\u001b[0m\u001b[0;34m\u001b[0m\u001b[0;34m\u001b[0m\u001b[0m\n",
      "\u001b[0;32m~/anaconda/envs/python35/lib/python3.7/site-packages/selenium/webdriver/remote/webelement.py\u001b[0m in \u001b[0;36m_execute\u001b[0;34m(self, command, params)\u001b[0m\n\u001b[1;32m    631\u001b[0m             \u001b[0mparams\u001b[0m \u001b[0;34m=\u001b[0m \u001b[0;34m{\u001b[0m\u001b[0;34m}\u001b[0m\u001b[0;34m\u001b[0m\u001b[0;34m\u001b[0m\u001b[0m\n\u001b[1;32m    632\u001b[0m         \u001b[0mparams\u001b[0m\u001b[0;34m[\u001b[0m\u001b[0;34m'id'\u001b[0m\u001b[0;34m]\u001b[0m \u001b[0;34m=\u001b[0m \u001b[0mself\u001b[0m\u001b[0;34m.\u001b[0m\u001b[0m_id\u001b[0m\u001b[0;34m\u001b[0m\u001b[0;34m\u001b[0m\u001b[0m\n\u001b[0;32m--> 633\u001b[0;31m         \u001b[0;32mreturn\u001b[0m \u001b[0mself\u001b[0m\u001b[0;34m.\u001b[0m\u001b[0m_parent\u001b[0m\u001b[0;34m.\u001b[0m\u001b[0mexecute\u001b[0m\u001b[0;34m(\u001b[0m\u001b[0mcommand\u001b[0m\u001b[0;34m,\u001b[0m \u001b[0mparams\u001b[0m\u001b[0;34m)\u001b[0m\u001b[0;34m\u001b[0m\u001b[0;34m\u001b[0m\u001b[0m\n\u001b[0m\u001b[1;32m    634\u001b[0m \u001b[0;34m\u001b[0m\u001b[0m\n\u001b[1;32m    635\u001b[0m     \u001b[0;32mdef\u001b[0m \u001b[0mfind_element\u001b[0m\u001b[0;34m(\u001b[0m\u001b[0mself\u001b[0m\u001b[0;34m,\u001b[0m \u001b[0mby\u001b[0m\u001b[0;34m=\u001b[0m\u001b[0mBy\u001b[0m\u001b[0;34m.\u001b[0m\u001b[0mID\u001b[0m\u001b[0;34m,\u001b[0m \u001b[0mvalue\u001b[0m\u001b[0;34m=\u001b[0m\u001b[0;32mNone\u001b[0m\u001b[0;34m)\u001b[0m\u001b[0;34m:\u001b[0m\u001b[0;34m\u001b[0m\u001b[0;34m\u001b[0m\u001b[0m\n",
      "\u001b[0;32m~/anaconda/envs/python35/lib/python3.7/site-packages/selenium/webdriver/remote/webdriver.py\u001b[0m in \u001b[0;36mexecute\u001b[0;34m(self, driver_command, params)\u001b[0m\n\u001b[1;32m    319\u001b[0m         \u001b[0mresponse\u001b[0m \u001b[0;34m=\u001b[0m \u001b[0mself\u001b[0m\u001b[0;34m.\u001b[0m\u001b[0mcommand_executor\u001b[0m\u001b[0;34m.\u001b[0m\u001b[0mexecute\u001b[0m\u001b[0;34m(\u001b[0m\u001b[0mdriver_command\u001b[0m\u001b[0;34m,\u001b[0m \u001b[0mparams\u001b[0m\u001b[0;34m)\u001b[0m\u001b[0;34m\u001b[0m\u001b[0;34m\u001b[0m\u001b[0m\n\u001b[1;32m    320\u001b[0m         \u001b[0;32mif\u001b[0m \u001b[0mresponse\u001b[0m\u001b[0;34m:\u001b[0m\u001b[0;34m\u001b[0m\u001b[0;34m\u001b[0m\u001b[0m\n\u001b[0;32m--> 321\u001b[0;31m             \u001b[0mself\u001b[0m\u001b[0;34m.\u001b[0m\u001b[0merror_handler\u001b[0m\u001b[0;34m.\u001b[0m\u001b[0mcheck_response\u001b[0m\u001b[0;34m(\u001b[0m\u001b[0mresponse\u001b[0m\u001b[0;34m)\u001b[0m\u001b[0;34m\u001b[0m\u001b[0;34m\u001b[0m\u001b[0m\n\u001b[0m\u001b[1;32m    322\u001b[0m             response['value'] = self._unwrap_value(\n\u001b[1;32m    323\u001b[0m                 response.get('value', None))\n",
      "\u001b[0;32m~/anaconda/envs/python35/lib/python3.7/site-packages/selenium/webdriver/remote/errorhandler.py\u001b[0m in \u001b[0;36mcheck_response\u001b[0;34m(self, response)\u001b[0m\n\u001b[1;32m    240\u001b[0m                 \u001b[0malert_text\u001b[0m \u001b[0;34m=\u001b[0m \u001b[0mvalue\u001b[0m\u001b[0;34m[\u001b[0m\u001b[0;34m'alert'\u001b[0m\u001b[0;34m]\u001b[0m\u001b[0;34m.\u001b[0m\u001b[0mget\u001b[0m\u001b[0;34m(\u001b[0m\u001b[0;34m'text'\u001b[0m\u001b[0;34m)\u001b[0m\u001b[0;34m\u001b[0m\u001b[0;34m\u001b[0m\u001b[0m\n\u001b[1;32m    241\u001b[0m             \u001b[0;32mraise\u001b[0m \u001b[0mexception_class\u001b[0m\u001b[0;34m(\u001b[0m\u001b[0mmessage\u001b[0m\u001b[0;34m,\u001b[0m \u001b[0mscreen\u001b[0m\u001b[0;34m,\u001b[0m \u001b[0mstacktrace\u001b[0m\u001b[0;34m,\u001b[0m \u001b[0malert_text\u001b[0m\u001b[0;34m)\u001b[0m\u001b[0;34m\u001b[0m\u001b[0;34m\u001b[0m\u001b[0m\n\u001b[0;32m--> 242\u001b[0;31m         \u001b[0;32mraise\u001b[0m \u001b[0mexception_class\u001b[0m\u001b[0;34m(\u001b[0m\u001b[0mmessage\u001b[0m\u001b[0;34m,\u001b[0m \u001b[0mscreen\u001b[0m\u001b[0;34m,\u001b[0m \u001b[0mstacktrace\u001b[0m\u001b[0;34m)\u001b[0m\u001b[0;34m\u001b[0m\u001b[0;34m\u001b[0m\u001b[0m\n\u001b[0m\u001b[1;32m    243\u001b[0m \u001b[0;34m\u001b[0m\u001b[0m\n\u001b[1;32m    244\u001b[0m     \u001b[0;32mdef\u001b[0m \u001b[0m_value_or_default\u001b[0m\u001b[0;34m(\u001b[0m\u001b[0mself\u001b[0m\u001b[0;34m,\u001b[0m \u001b[0mobj\u001b[0m\u001b[0;34m,\u001b[0m \u001b[0mkey\u001b[0m\u001b[0;34m,\u001b[0m \u001b[0mdefault\u001b[0m\u001b[0;34m)\u001b[0m\u001b[0;34m:\u001b[0m\u001b[0;34m\u001b[0m\u001b[0;34m\u001b[0m\u001b[0m\n",
      "\u001b[0;31mElementNotVisibleException\u001b[0m: Message: element not interactable\n  (Session info: chrome=73.0.3683.103)\n  (Driver info: chromedriver=73.0.3683.68 (47787ec04b6e38e22703e856e101e840b65afe72),platform=Mac OS X 10.14.4 x86_64)\n"
     ]
    }
   ],
   "source": [
    "email.clear()\n",
    "email.send_keys('xxxxxxx@gmail.com')\n",
    "password.clear()\n",
    "password.send_keys('********')"
   ]
  },
  {
   "cell_type": "markdown",
   "metadata": {},
   "source": [
    "##### 点击下一步"
   ]
  },
  {
   "cell_type": "code",
   "execution_count": 28,
   "metadata": {
    "collapsed": false
   },
   "outputs": [],
   "source": [
    "classElem_btn = browser.find_element_by_class_name('RveJvd')\n",
    "classElem_btn.click()"
   ]
  },
  {
   "cell_type": "markdown",
   "metadata": {},
   "source": [
    "##### 填写密码"
   ]
  },
  {
   "cell_type": "code",
   "execution_count": 29,
   "metadata": {
    "collapsed": false
   },
   "outputs": [
    {
     "name": "stdout",
     "output_type": "stream",
     "text": [
      "········\n"
     ]
    }
   ],
   "source": [
    "tagsElem_input = browser.find_elements_by_tag_name('input')\n",
    "password = tagsElem_input[2]\n",
    "password.send_keys(getpass.getpass())"
   ]
  },
  {
   "cell_type": "markdown",
   "metadata": {},
   "source": [
    "##### 点击下一步"
   ]
  },
  {
   "cell_type": "code",
   "execution_count": 30,
   "metadata": {
    "collapsed": false
   },
   "outputs": [],
   "source": [
    "classElem_btn = browser.find_element_by_class_name('RveJvd')\n",
    "classElem_btn.click()"
   ]
  },
  {
   "cell_type": "markdown",
   "metadata": {},
   "source": [
    "以下是很久不登录需要选择风格的画面。一般不会遇到。"
   ]
  },
  {
   "cell_type": "code",
   "execution_count": 15,
   "metadata": {
    "collapsed": false
   },
   "outputs": [],
   "source": [
    "nameElem_btn = browser.find_element_by_name('welcome_dialog_next')\n",
    "nameElem_btn.click()"
   ]
  },
  {
   "cell_type": "code",
   "execution_count": 18,
   "metadata": {
    "collapsed": false
   },
   "outputs": [],
   "source": [
    "typeElem_btn = browser.find_element_by_name('ok')\n",
    "typeElem_btn.click()"
   ]
  },
  {
   "cell_type": "markdown",
   "metadata": {
    "collapsed": true
   },
   "source": [
    "逐步登录成功。"
   ]
  },
  {
   "cell_type": "markdown",
   "metadata": {},
   "source": [
    "————————————合并成一个完整程序————————————————————"
   ]
  },
  {
   "cell_type": "code",
   "execution_count": 34,
   "metadata": {
    "collapsed": false
   },
   "outputs": [
    {
     "name": "stdout",
     "output_type": "stream",
     "text": [
      "Input your email account: ········\n",
      "Input your password: ········\n",
      "identifier\n",
      "hiddenPassword\n",
      "ca\n",
      "ct\n",
      "pstMsg\n",
      "checkConnection\n",
      "checkedDomains\n"
     ]
    },
    {
     "ename": "ElementNotInteractableException",
     "evalue": "Message: element not interactable\n  (Session info: chrome=73.0.3683.103)\n  (Driver info: chromedriver=73.0.3683.68 (47787ec04b6e38e22703e856e101e840b65afe72),platform=Mac OS X 10.14.4 x86_64)\n",
     "output_type": "error",
     "traceback": [
      "\u001b[0;31m---------------------------------------------------------------------------\u001b[0m",
      "\u001b[0;31mElementNotInteractableException\u001b[0m           Traceback (most recent call last)",
      "\u001b[0;32m<ipython-input-34-67b0fa918efd>\u001b[0m in \u001b[0;36m<module>\u001b[0;34m\u001b[0m\n\u001b[1;32m     34\u001b[0m \u001b[0memail\u001b[0m \u001b[0;34m=\u001b[0m \u001b[0mgetpass\u001b[0m\u001b[0;34m.\u001b[0m\u001b[0mgetpass\u001b[0m\u001b[0;34m(\u001b[0m\u001b[0;34m'Input your email account: '\u001b[0m\u001b[0;34m)\u001b[0m\u001b[0;34m\u001b[0m\u001b[0;34m\u001b[0m\u001b[0m\n\u001b[1;32m     35\u001b[0m \u001b[0mpassword\u001b[0m \u001b[0;34m=\u001b[0m \u001b[0mgetpass\u001b[0m\u001b[0;34m.\u001b[0m\u001b[0mgetpass\u001b[0m\u001b[0;34m(\u001b[0m\u001b[0;34m'Input your password: '\u001b[0m\u001b[0;34m)\u001b[0m \u001b[0;31m#不显示输入值\u001b[0m\u001b[0;34m\u001b[0m\u001b[0;34m\u001b[0m\u001b[0m\n\u001b[0;32m---> 36\u001b[0;31m \u001b[0mgmailSignin\u001b[0m\u001b[0;34m(\u001b[0m\u001b[0memail\u001b[0m\u001b[0;34m,\u001b[0m \u001b[0mpassword\u001b[0m\u001b[0;34m)\u001b[0m\u001b[0;34m\u001b[0m\u001b[0;34m\u001b[0m\u001b[0m\n\u001b[0m",
      "\u001b[0;32m<ipython-input-34-67b0fa918efd>\u001b[0m in \u001b[0;36mgmailSignin\u001b[0;34m(email, password)\u001b[0m\n\u001b[1;32m     26\u001b[0m         \u001b[0mprint\u001b[0m\u001b[0;34m(\u001b[0m\u001b[0mt\u001b[0m\u001b[0;34m.\u001b[0m\u001b[0mget_property\u001b[0m\u001b[0;34m(\u001b[0m\u001b[0;34m'name'\u001b[0m\u001b[0;34m)\u001b[0m\u001b[0;34m)\u001b[0m\u001b[0;34m\u001b[0m\u001b[0;34m\u001b[0m\u001b[0m\n\u001b[1;32m     27\u001b[0m     \u001b[0mpasswordElem\u001b[0m \u001b[0;34m=\u001b[0m \u001b[0mElem_input\u001b[0m\u001b[0;34m[\u001b[0m\u001b[0;36m2\u001b[0m\u001b[0;34m]\u001b[0m\u001b[0;34m\u001b[0m\u001b[0;34m\u001b[0m\u001b[0m\n\u001b[0;32m---> 28\u001b[0;31m     \u001b[0mpasswordElem\u001b[0m\u001b[0;34m.\u001b[0m\u001b[0msend_keys\u001b[0m\u001b[0;34m(\u001b[0m\u001b[0mpassword\u001b[0m\u001b[0;34m)\u001b[0m\u001b[0;34m\u001b[0m\u001b[0;34m\u001b[0m\u001b[0m\n\u001b[0m\u001b[1;32m     29\u001b[0m \u001b[0;34m\u001b[0m\u001b[0m\n\u001b[1;32m     30\u001b[0m     \u001b[0;31m# 点击下一步\u001b[0m\u001b[0;34m\u001b[0m\u001b[0;34m\u001b[0m\u001b[0;34m\u001b[0m\u001b[0m\n",
      "\u001b[0;32m~/anaconda/envs/python35/lib/python3.7/site-packages/selenium/webdriver/remote/webelement.py\u001b[0m in \u001b[0;36msend_keys\u001b[0;34m(self, *value)\u001b[0m\n\u001b[1;32m    477\u001b[0m         self._execute(Command.SEND_KEYS_TO_ELEMENT,\n\u001b[1;32m    478\u001b[0m                       {'text': \"\".join(keys_to_typing(value)),\n\u001b[0;32m--> 479\u001b[0;31m                        'value': keys_to_typing(value)})\n\u001b[0m\u001b[1;32m    480\u001b[0m \u001b[0;34m\u001b[0m\u001b[0m\n\u001b[1;32m    481\u001b[0m     \u001b[0;31m# RenderedWebElement Items\u001b[0m\u001b[0;34m\u001b[0m\u001b[0;34m\u001b[0m\u001b[0;34m\u001b[0m\u001b[0m\n",
      "\u001b[0;32m~/anaconda/envs/python35/lib/python3.7/site-packages/selenium/webdriver/remote/webelement.py\u001b[0m in \u001b[0;36m_execute\u001b[0;34m(self, command, params)\u001b[0m\n\u001b[1;32m    631\u001b[0m             \u001b[0mparams\u001b[0m \u001b[0;34m=\u001b[0m \u001b[0;34m{\u001b[0m\u001b[0;34m}\u001b[0m\u001b[0;34m\u001b[0m\u001b[0;34m\u001b[0m\u001b[0m\n\u001b[1;32m    632\u001b[0m         \u001b[0mparams\u001b[0m\u001b[0;34m[\u001b[0m\u001b[0;34m'id'\u001b[0m\u001b[0;34m]\u001b[0m \u001b[0;34m=\u001b[0m \u001b[0mself\u001b[0m\u001b[0;34m.\u001b[0m\u001b[0m_id\u001b[0m\u001b[0;34m\u001b[0m\u001b[0;34m\u001b[0m\u001b[0m\n\u001b[0;32m--> 633\u001b[0;31m         \u001b[0;32mreturn\u001b[0m \u001b[0mself\u001b[0m\u001b[0;34m.\u001b[0m\u001b[0m_parent\u001b[0m\u001b[0;34m.\u001b[0m\u001b[0mexecute\u001b[0m\u001b[0;34m(\u001b[0m\u001b[0mcommand\u001b[0m\u001b[0;34m,\u001b[0m \u001b[0mparams\u001b[0m\u001b[0;34m)\u001b[0m\u001b[0;34m\u001b[0m\u001b[0;34m\u001b[0m\u001b[0m\n\u001b[0m\u001b[1;32m    634\u001b[0m \u001b[0;34m\u001b[0m\u001b[0m\n\u001b[1;32m    635\u001b[0m     \u001b[0;32mdef\u001b[0m \u001b[0mfind_element\u001b[0m\u001b[0;34m(\u001b[0m\u001b[0mself\u001b[0m\u001b[0;34m,\u001b[0m \u001b[0mby\u001b[0m\u001b[0;34m=\u001b[0m\u001b[0mBy\u001b[0m\u001b[0;34m.\u001b[0m\u001b[0mID\u001b[0m\u001b[0;34m,\u001b[0m \u001b[0mvalue\u001b[0m\u001b[0;34m=\u001b[0m\u001b[0;32mNone\u001b[0m\u001b[0;34m)\u001b[0m\u001b[0;34m:\u001b[0m\u001b[0;34m\u001b[0m\u001b[0;34m\u001b[0m\u001b[0m\n",
      "\u001b[0;32m~/anaconda/envs/python35/lib/python3.7/site-packages/selenium/webdriver/remote/webdriver.py\u001b[0m in \u001b[0;36mexecute\u001b[0;34m(self, driver_command, params)\u001b[0m\n\u001b[1;32m    319\u001b[0m         \u001b[0mresponse\u001b[0m \u001b[0;34m=\u001b[0m \u001b[0mself\u001b[0m\u001b[0;34m.\u001b[0m\u001b[0mcommand_executor\u001b[0m\u001b[0;34m.\u001b[0m\u001b[0mexecute\u001b[0m\u001b[0;34m(\u001b[0m\u001b[0mdriver_command\u001b[0m\u001b[0;34m,\u001b[0m \u001b[0mparams\u001b[0m\u001b[0;34m)\u001b[0m\u001b[0;34m\u001b[0m\u001b[0;34m\u001b[0m\u001b[0m\n\u001b[1;32m    320\u001b[0m         \u001b[0;32mif\u001b[0m \u001b[0mresponse\u001b[0m\u001b[0;34m:\u001b[0m\u001b[0;34m\u001b[0m\u001b[0;34m\u001b[0m\u001b[0m\n\u001b[0;32m--> 321\u001b[0;31m             \u001b[0mself\u001b[0m\u001b[0;34m.\u001b[0m\u001b[0merror_handler\u001b[0m\u001b[0;34m.\u001b[0m\u001b[0mcheck_response\u001b[0m\u001b[0;34m(\u001b[0m\u001b[0mresponse\u001b[0m\u001b[0;34m)\u001b[0m\u001b[0;34m\u001b[0m\u001b[0;34m\u001b[0m\u001b[0m\n\u001b[0m\u001b[1;32m    322\u001b[0m             response['value'] = self._unwrap_value(\n\u001b[1;32m    323\u001b[0m                 response.get('value', None))\n",
      "\u001b[0;32m~/anaconda/envs/python35/lib/python3.7/site-packages/selenium/webdriver/remote/errorhandler.py\u001b[0m in \u001b[0;36mcheck_response\u001b[0;34m(self, response)\u001b[0m\n\u001b[1;32m    240\u001b[0m                 \u001b[0malert_text\u001b[0m \u001b[0;34m=\u001b[0m \u001b[0mvalue\u001b[0m\u001b[0;34m[\u001b[0m\u001b[0;34m'alert'\u001b[0m\u001b[0;34m]\u001b[0m\u001b[0;34m.\u001b[0m\u001b[0mget\u001b[0m\u001b[0;34m(\u001b[0m\u001b[0;34m'text'\u001b[0m\u001b[0;34m)\u001b[0m\u001b[0;34m\u001b[0m\u001b[0;34m\u001b[0m\u001b[0m\n\u001b[1;32m    241\u001b[0m             \u001b[0;32mraise\u001b[0m \u001b[0mexception_class\u001b[0m\u001b[0;34m(\u001b[0m\u001b[0mmessage\u001b[0m\u001b[0;34m,\u001b[0m \u001b[0mscreen\u001b[0m\u001b[0;34m,\u001b[0m \u001b[0mstacktrace\u001b[0m\u001b[0;34m,\u001b[0m \u001b[0malert_text\u001b[0m\u001b[0;34m)\u001b[0m\u001b[0;34m\u001b[0m\u001b[0;34m\u001b[0m\u001b[0m\n\u001b[0;32m--> 242\u001b[0;31m         \u001b[0;32mraise\u001b[0m \u001b[0mexception_class\u001b[0m\u001b[0;34m(\u001b[0m\u001b[0mmessage\u001b[0m\u001b[0;34m,\u001b[0m \u001b[0mscreen\u001b[0m\u001b[0;34m,\u001b[0m \u001b[0mstacktrace\u001b[0m\u001b[0;34m)\u001b[0m\u001b[0;34m\u001b[0m\u001b[0;34m\u001b[0m\u001b[0m\n\u001b[0m\u001b[1;32m    243\u001b[0m \u001b[0;34m\u001b[0m\u001b[0m\n\u001b[1;32m    244\u001b[0m     \u001b[0;32mdef\u001b[0m \u001b[0m_value_or_default\u001b[0m\u001b[0;34m(\u001b[0m\u001b[0mself\u001b[0m\u001b[0;34m,\u001b[0m \u001b[0mobj\u001b[0m\u001b[0;34m,\u001b[0m \u001b[0mkey\u001b[0m\u001b[0;34m,\u001b[0m \u001b[0mdefault\u001b[0m\u001b[0;34m)\u001b[0m\u001b[0;34m:\u001b[0m\u001b[0;34m\u001b[0m\u001b[0;34m\u001b[0m\u001b[0m\n",
      "\u001b[0;31mElementNotInteractableException\u001b[0m: Message: element not interactable\n  (Session info: chrome=73.0.3683.103)\n  (Driver info: chromedriver=73.0.3683.68 (47787ec04b6e38e22703e856e101e840b65afe72),platform=Mac OS X 10.14.4 x86_64)\n"
     ]
    }
   ],
   "source": [
    "#_*_coding:utf-8_*_\n",
    "from selenium import webdriver\n",
    "import getpass\n",
    "\n",
    "path = '/Users/caimeijuan/anaconda/envs/python35/lib/python3.7/site-packages/selenium/webdriver/chrome/chromedriver'\n",
    "browser = webdriver.Chrome(path)\n",
    "\n",
    "def gmailSignin(email, password):\n",
    "    #打开登录界面\n",
    "    url = 'http://gmail.com'\n",
    "    browser.get(url)\n",
    "\n",
    "    # 填写email帐号\n",
    "    tagsElem_input = browser.find_elements_by_tag_name('input')\n",
    "    emailElem = tagsElem_input[0]\n",
    "    emailElem.clear()\n",
    "    emailElem.send_keys(email)\n",
    "\n",
    "    # 点击下一步\n",
    "    classElem_btn = browser.find_element_by_class_name('RveJvd')\n",
    "    classElem_btn.click()\n",
    "\n",
    "    # 填写密码\n",
    "    Elem_input = browser.find_elements_by_tag_name('input')\n",
    "    for t in Elem_input:\n",
    "        print(t.get_property('name'))\n",
    "    passwordElem = Elem_input[2]      \n",
    "    passwordElem.send_keys(password)\n",
    "\n",
    "    # 点击下一步\n",
    "    classElem_btn = browser.find_element_by_class_name('RveJvd')\n",
    "    classElem_btn.click()\n",
    "    \n",
    "email = getpass.getpass('Input your email account: ')\n",
    "password = getpass.getpass('Input your password: ') #不显示输入值\n",
    "gmailSignin(email, password)"
   ]
  },
  {
   "cell_type": "markdown",
   "metadata": {},
   "source": [
    "### 玩BeautifulSoup"
   ]
  },
  {
   "cell_type": "markdown",
   "metadata": {},
   "source": [
    "[BeautifulSoup高级应用 之 CSS selectors /CSS 选择器 - Winterto1990的博客 - CSDN博客](https://blog.csdn.net/Winterto1990/article/details/47808949)"
   ]
  },
  {
   "cell_type": "code",
   "execution_count": 20,
   "metadata": {
    "collapsed": false
   },
   "outputs": [],
   "source": [
    "import requests, bs4, lxml\n",
    "\n",
    "url = 'https://www.tripadvisor.cn/'\n",
    "res = requests.get(url)\n",
    "res.raise_for_status()\n",
    "html = res.text\n",
    "\n",
    "tripSoup = bs4.BeautifulSoup(html, 'lxml')"
   ]
  },
  {
   "cell_type": "code",
   "execution_count": 21,
   "metadata": {
    "collapsed": false
   },
   "outputs": [
    {
     "data": {
      "text/plain": [
       "[<title> TripAdvisor(猫途鹰) - 全球旅游点评,酒店/景点/餐厅,真实旅客评论 </title>]"
      ]
     },
     "execution_count": 21,
     "metadata": {},
     "output_type": "execute_result"
    }
   ],
   "source": [
    "tripSoup.select('title')"
   ]
  },
  {
   "cell_type": "code",
   "execution_count": 36,
   "metadata": {
    "collapsed": false
   },
   "outputs": [
    {
     "data": {
      "text/plain": [
       "[<img alt=\"TripAdvisor(猫途鹰)\" class=\"global-nav-img global-nav-svg\" src=\"https://cc.ddcdn.com/img2/langs/zh_CN/branding/rebrand/TA_logo_primary.svg\"/>,\n",
       " <img alt=\"TripAdvisor(猫途鹰)\" class=\"global-nav-img\" src=\"https://cc.ddcdn.com/img2/langs/zh_CN/branding/rebrand/TA_logo_primary.svg\"/>,\n",
       " <img alt=\"旅行者之选\" class=\"bgImage\" id=\"lazyload_1815213524_40\" src=\"https://cc.ddcdn.com/img2/x.gif\"/>,\n",
       " <img alt=\"自助游指南\" class=\"bgImage\" id=\"lazyload_1815213524_41\" src=\"https://cc.ddcdn.com/img2/x.gif\"/>,\n",
       " <img alt=\"旅游攻略\" class=\"bgImage\" id=\"lazyload_1815213524_42\" src=\"https://cc.ddcdn.com/img2/x.gif\"/>,\n",
       " <img alt=\"TripAdvisor APP\" class=\"bgImage\" id=\"lazyload_1815213524_43\" src=\"https://cc.ddcdn.com/img2/x.gif\"/>,\n",
       " <img alt=\"札幌旅游攻略\" class=\"guide-photo\" id=\"lazyload_1815213524_44\" src=\"https://cc.ddcdn.com/img2/x.gif\"/>,\n",
       " <img alt=\"普吉岛旅游攻略\" class=\"guide-photo\" id=\"lazyload_1815213524_45\" src=\"https://cc.ddcdn.com/img2/x.gif\"/>,\n",
       " <img alt=\"巴黎旅游攻略\" class=\"guide-photo\" id=\"lazyload_1815213524_46\" src=\"https://cc.ddcdn.com/img2/x.gif\"/>,\n",
       " <img alt=\"伦敦旅游攻略\" class=\"guide-photo\" id=\"lazyload_1815213524_47\" src=\"https://cc.ddcdn.com/img2/x.gif\"/>,\n",
       " <img alt=\"巴塞罗那旅游攻略\" class=\"guide-photo\" id=\"lazyload_1815213524_48\" src=\"https://cc.ddcdn.com/img2/x.gif\"/>,\n",
       " <img alt=\"首尔旅游攻略\" class=\"guide-photo\" id=\"lazyload_1815213524_49\" src=\"https://cc.ddcdn.com/img2/x.gif\"/>]"
      ]
     },
     "execution_count": 36,
     "metadata": {},
     "output_type": "execute_result"
    }
   ],
   "source": [
    "tripSoup.select('a>img')"
   ]
  },
  {
   "cell_type": "code",
   "execution_count": 37,
   "metadata": {
    "collapsed": false
   },
   "outputs": [
    {
     "data": {
      "text/plain": [
       "[<img alt=\"TripAdvisor(猫途鹰)\" class=\"global-nav-img global-nav-svg\" src=\"https://cc.ddcdn.com/img2/langs/zh_CN/branding/rebrand/TA_logo_primary.svg\"/>,\n",
       " <img alt=\"TripAdvisor(猫途鹰)\" class=\"global-nav-img\" src=\"https://cc.ddcdn.com/img2/langs/zh_CN/branding/rebrand/TA_logo_primary.svg\"/>,\n",
       " <img height=\"18\" id=\"lazyload_1815213524_12\" src=\"https://cc.ddcdn.com/img2/x.gif\" title=\"Wanderer51460845672\" width=\"18\"/>,\n",
       " <img height=\"18\" id=\"lazyload_1815213524_13\" src=\"https://cc.ddcdn.com/img2/x.gif\" title=\"Global33372028904\" width=\"18\"/>,\n",
       " <img height=\"18\" id=\"lazyload_1815213524_14\" src=\"https://cc.ddcdn.com/img2/x.gif\" title=\"Seaside33861576233\" width=\"18\"/>,\n",
       " <img height=\"18\" id=\"lazyload_1815213524_15\" src=\"https://cc.ddcdn.com/img2/x.gif\" title=\"Passenger32413267245\" width=\"18\"/>,\n",
       " <img alt=\"\" class=\"photo_image\" height=\"220\" src=\"https://ccm.ddcdn.com/ext/photo-s/03/9b/30/02/phuket.jpg\" style=\"height: 221px; width: 368px; margin-top: 0px;\" width=\"368\"/>,\n",
       " <img height=\"18\" id=\"lazyload_1815213524_16\" src=\"https://cc.ddcdn.com/img2/x.gif\" title=\"typ0316\" width=\"18\"/>,\n",
       " <img height=\"18\" id=\"lazyload_1815213524_17\" src=\"https://cc.ddcdn.com/img2/x.gif\" title=\"Traveler06165062326\" width=\"18\"/>,\n",
       " <img height=\"18\" id=\"lazyload_1815213524_18\" src=\"https://cc.ddcdn.com/img2/x.gif\" title=\"Scenic35635480561\" width=\"18\"/>,\n",
       " <img height=\"18\" id=\"lazyload_1815213524_19\" src=\"https://cc.ddcdn.com/img2/x.gif\" title=\"Discover17167644573\" width=\"18\"/>,\n",
       " <img alt=\"\" class=\"photo_image\" height=\"220\" src=\"https://ccm.ddcdn.com/ext/photo-s/03/9b/2d/ad/bangkok.jpg\" style=\"height: 221px; width: 368px; margin-top: 0px;\" width=\"368\"/>,\n",
       " <img height=\"18\" id=\"lazyload_1815213524_20\" src=\"https://cc.ddcdn.com/img2/x.gif\" title=\"Vacation37906575591\" width=\"18\"/>,\n",
       " <img height=\"18\" id=\"lazyload_1815213524_21\" src=\"https://cc.ddcdn.com/img2/x.gif\" title=\"Road34907802751\" width=\"18\"/>,\n",
       " <img height=\"18\" id=\"lazyload_1815213524_22\" src=\"https://cc.ddcdn.com/img2/x.gif\" title=\"Alex-ChiangMai\" width=\"18\"/>,\n",
       " <img height=\"18\" id=\"lazyload_1815213524_23\" src=\"https://cc.ddcdn.com/img2/x.gif\" title=\"zaka0909\" width=\"18\"/>,\n",
       " <img alt=\"\" class=\"photo_image\" height=\"220\" src=\"https://ccm.ddcdn.com/ext/photo-b/1280x250/03/9b/2d/c0/chiang-mai.jpg\" style=\"height: 220px; width: 1126px; margin-left: -379px;\" width=\"368\"/>,\n",
       " <img height=\"18\" id=\"lazyload_1815213524_24\" src=\"https://cc.ddcdn.com/img2/x.gif\" title=\"另一个修行在红尘\" width=\"18\"/>,\n",
       " <img height=\"18\" id=\"lazyload_1815213524_25\" src=\"https://cc.ddcdn.com/img2/x.gif\" title=\"蜜丝唐唐\" width=\"18\"/>,\n",
       " <img height=\"18\" id=\"lazyload_1815213524_26\" src=\"https://cc.ddcdn.com/img2/x.gif\" title=\"单青梅\" width=\"18\"/>,\n",
       " <img height=\"18\" id=\"lazyload_1815213524_27\" src=\"https://cc.ddcdn.com/img2/x.gif\" title=\"缪宝\" width=\"18\"/>,\n",
       " <img alt=\"\" class=\"photo_image\" height=\"220\" src=\"https://ccm.ddcdn.com/ext/photo-s/03/9b/2e/18/tokyo.jpg\" style=\"height: 221px; width: 368px; margin-top: 0px;\" width=\"368\"/>,\n",
       " <img height=\"18\" id=\"lazyload_1815213524_28\" src=\"https://cc.ddcdn.com/img2/x.gif\" title=\"nanayours\" width=\"18\"/>,\n",
       " <img height=\"18\" id=\"lazyload_1815213524_29\" src=\"https://cc.ddcdn.com/img2/x.gif\" title=\"Travel42679345817\" width=\"18\"/>,\n",
       " <img height=\"18\" id=\"lazyload_1815213524_30\" src=\"https://cc.ddcdn.com/img2/x.gif\" title=\"Seaside21654763748\" width=\"18\"/>,\n",
       " <img height=\"18\" id=\"lazyload_1815213524_31\" src=\"https://cc.ddcdn.com/img2/x.gif\" title=\"Wanderer27252879365\" width=\"18\"/>,\n",
       " <img alt=\"\" class=\"photo_image\" height=\"220\" src=\"https://ccm.ddcdn.com/ext/photo-b/1280x250/03/9b/2d/dc/kyoto.jpg\" style=\"height: 220px; width: 1126px; margin-left: -379px;\" width=\"368\"/>,\n",
       " <img height=\"18\" id=\"lazyload_1815213524_32\" src=\"https://cc.ddcdn.com/img2/x.gif\" title=\"Pioneer59337858345\" width=\"18\"/>,\n",
       " <img height=\"18\" id=\"lazyload_1815213524_33\" src=\"https://cc.ddcdn.com/img2/x.gif\" title=\"Curiosity49262793954\" width=\"18\"/>,\n",
       " <img height=\"18\" id=\"lazyload_1815213524_34\" src=\"https://cc.ddcdn.com/img2/x.gif\" title=\"Connector04092441515\" width=\"18\"/>,\n",
       " <img height=\"18\" id=\"lazyload_1815213524_35\" src=\"https://cc.ddcdn.com/img2/x.gif\" title=\"啊啦嘞\" width=\"18\"/>,\n",
       " <img alt=\"\" class=\"photo_image\" height=\"220\" src=\"https://ccm.ddcdn.com/ext/photo-s/00/17/b8/4f/po-ngar-tower-2.jpg\" style=\"height: 276px; width: 368px; margin-top: -28px;\" width=\"368\"/>,\n",
       " <img height=\"18\" id=\"lazyload_1815213524_36\" src=\"https://cc.ddcdn.com/img2/x.gif\" title=\"Maps24636260532\" width=\"18\"/>,\n",
       " <img height=\"18\" id=\"lazyload_1815213524_37\" src=\"https://cc.ddcdn.com/img2/x.gif\" title=\"sunker\" width=\"18\"/>,\n",
       " <img height=\"18\" id=\"lazyload_1815213524_38\" src=\"https://cc.ddcdn.com/img2/x.gif\" title=\"miumiu919\" width=\"18\"/>,\n",
       " <img height=\"18\" id=\"lazyload_1815213524_39\" src=\"https://cc.ddcdn.com/img2/x.gif\" title=\"Companion36493731427\" width=\"18\"/>,\n",
       " <img alt=\"\" class=\"photo_image\" height=\"220\" src=\"https://ccm.ddcdn.com/ext/photo-s/10/81/57/a3/osaka-castle-beautiful.jpg\" style=\"height: 276px; width: 368px; margin-top: -28px;\" width=\"368\"/>,\n",
       " <img src=\"https://cc.ddcdn.com/ddimg/home_2015/bg_region_asia.jpg\"/>,\n",
       " <img src=\"https://cc.ddcdn.com/ddimg/home_2015/bg_region_europe.jpg\"/>,\n",
       " <img src=\"https://cc.ddcdn.com/ddimg/home_2015/bg_region_america.jpg\"/>,\n",
       " <img src=\"https://cc.ddcdn.com/ddimg/home_2015/bg_region_south_pacific.jpg\"/>,\n",
       " <img src=\"https://cc.ddcdn.com/ddimg/home_2015/bg_region_global.jpg\"/>,\n",
       " <img alt=\"旅行者之选\" class=\"bgImage\" id=\"lazyload_1815213524_40\" src=\"https://cc.ddcdn.com/img2/x.gif\"/>,\n",
       " <img alt=\"自助游指南\" class=\"bgImage\" id=\"lazyload_1815213524_41\" src=\"https://cc.ddcdn.com/img2/x.gif\"/>,\n",
       " <img alt=\"旅游攻略\" class=\"bgImage\" id=\"lazyload_1815213524_42\" src=\"https://cc.ddcdn.com/img2/x.gif\"/>,\n",
       " <img alt=\"TripAdvisor APP\" class=\"bgImage\" id=\"lazyload_1815213524_43\" src=\"https://cc.ddcdn.com/img2/x.gif\"/>,\n",
       " <img alt=\"札幌旅游攻略\" class=\"guide-photo\" id=\"lazyload_1815213524_44\" src=\"https://cc.ddcdn.com/img2/x.gif\"/>,\n",
       " <img alt=\"普吉岛旅游攻略\" class=\"guide-photo\" id=\"lazyload_1815213524_45\" src=\"https://cc.ddcdn.com/img2/x.gif\"/>,\n",
       " <img alt=\"巴黎旅游攻略\" class=\"guide-photo\" id=\"lazyload_1815213524_46\" src=\"https://cc.ddcdn.com/img2/x.gif\"/>,\n",
       " <img alt=\"伦敦旅游攻略\" class=\"guide-photo\" id=\"lazyload_1815213524_47\" src=\"https://cc.ddcdn.com/img2/x.gif\"/>,\n",
       " <img alt=\"巴塞罗那旅游攻略\" class=\"guide-photo\" id=\"lazyload_1815213524_48\" src=\"https://cc.ddcdn.com/img2/x.gif\"/>,\n",
       " <img alt=\"首尔旅游攻略\" class=\"guide-photo\" id=\"lazyload_1815213524_49\" src=\"https://cc.ddcdn.com/img2/x.gif\"/>,\n",
       " <img class=\"trip-photo\" id=\"lazyload_1815213524_50\" src=\"https://cc.ddcdn.com/img2/x.gif\"/>,\n",
       " <img _src=\"https://cc.ddcdn.com/img2/daodao/site/no_user_photo_daodao.gif\" alt=\"\" class=\"trip-author-avatar\" height=\"15\" src=\"https://ccm.ddcdn.com/photo-s/02/88/d5/6d/daodaoavatar037.jpg\" width=\"15\"/>,\n",
       " <img class=\"trip-photo\" id=\"lazyload_1815213524_51\" src=\"https://cc.ddcdn.com/img2/x.gif\"/>,\n",
       " <img _src=\"https://cc.ddcdn.com/img2/daodao/site/no_user_photo_daodao.gif\" alt=\"\" class=\"trip-author-avatar\" height=\"15\" src=\"https://ccm.ddcdn.com/photo-s/02/88/d5/56/daodaoavatar014.jpg\" width=\"15\"/>,\n",
       " <img class=\"trip-photo\" id=\"lazyload_1815213524_52\" src=\"https://cc.ddcdn.com/img2/x.gif\"/>,\n",
       " <img _src=\"https://cc.ddcdn.com/img2/daodao/site/no_user_photo_daodao.gif\" alt=\"\" class=\"trip-author-avatar\" height=\"15\" src=\"https://ccm.ddcdn.com/photo-s/02/88/d5/aa/daodaoavatar098.jpg\" width=\"15\"/>,\n",
       " <img class=\"trip-photo\" id=\"lazyload_1815213524_53\" src=\"https://cc.ddcdn.com/img2/x.gif\"/>,\n",
       " <img _src=\"https://cc.ddcdn.com/img2/daodao/site/no_user_photo_daodao.gif\" alt=\"\" class=\"trip-author-avatar\" height=\"15\" src=\"https://ccm.ddcdn.com/photo-s/02/88/d5/7d/daodaoavatar053.jpg\" width=\"15\"/>]"
      ]
     },
     "execution_count": 37,
     "metadata": {},
     "output_type": "execute_result"
    }
   ],
   "source": [
    "tripSoup.select('a img')"
   ]
  },
  {
   "cell_type": "code",
   "execution_count": 53,
   "metadata": {
    "collapsed": false
   },
   "outputs": [
    {
     "data": {
      "text/plain": [
       "[<input checked=\"true\" class=\"invisible\" id=\"hotel\" name=\"tabOption\" pageaction=\"Daodao_PTPT_Hotel_button\" type=\"radio\"/>,\n",
       " <input class=\"invisible\" id=\"attraction\" name=\"tabOption\" pageaction=\"Daodao_PTPT_Attraction_button\" type=\"radio\"/>,\n",
       " <input class=\"invisible\" id=\"restaurant\" name=\"tabOption\" pageaction=\"Daodao_PTPT_Restaurant_button\" type=\"radio\"/>,\n",
       " <input class=\"invisible\" id=\"destination\" name=\"tabOption\" pageaction=\"Daodao_PTPT_Destination_button\" type=\"radio\"/>]"
      ]
     },
     "execution_count": 53,
     "metadata": {},
     "output_type": "execute_result"
    }
   ],
   "source": [
    "tripSoup.select('input[type=\"radio\"]')"
   ]
  },
  {
   "cell_type": "code",
   "execution_count": 54,
   "metadata": {
    "collapsed": false
   },
   "outputs": [
    {
     "data": {
      "text/plain": [
       "<input checked=\"true\" class=\"invisible\" id=\"hotel\" name=\"tabOption\" pageaction=\"Daodao_PTPT_Hotel_button\" type=\"radio\"/>"
      ]
     },
     "execution_count": 54,
     "metadata": {},
     "output_type": "execute_result"
    }
   ],
   "source": [
    "tripSoup.select_one('input[type=\"radio\"]')"
   ]
  },
  {
   "cell_type": "code",
   "execution_count": 58,
   "metadata": {
    "collapsed": false
   },
   "outputs": [
    {
     "data": {
      "text/plain": [
       "[<img alt=\"\" class=\"photo_image\" height=\"220\" src=\"https://ccm.ddcdn.com/ext/photo-s/03/9b/30/02/phuket.jpg\" style=\"height: 221px; width: 368px; margin-top: 0px;\" width=\"368\"/>]"
      ]
     },
     "execution_count": 58,
     "metadata": {},
     "output_type": "execute_result"
    }
   ],
   "source": [
    "tripSoup.select('#popularDestinations > div.section > ul.regionContent > li.active > ul > li:nth-child(1) > a > span.thumbCrop > img')"
   ]
  },
  {
   "cell_type": "code",
   "execution_count": 69,
   "metadata": {
    "collapsed": false
   },
   "outputs": [],
   "source": [
    "images = tripSoup.select('#popularDestinations > div.section > ul.regionContent > li.active > ul > li > a > span.thumbCrop > img')"
   ]
  },
  {
   "cell_type": "code",
   "execution_count": 65,
   "metadata": {
    "collapsed": false
   },
   "outputs": [],
   "source": [
    "titles = tripSoup.select('#popularDestinations > div.section > ul.regionContent > li.active > ul > li > div.title')"
   ]
  },
  {
   "cell_type": "code",
   "execution_count": 87,
   "metadata": {
    "collapsed": false
   },
   "outputs": [
    {
     "data": {
      "text/plain": [
       "[{'title': '泰国普吉岛',\n",
       "  'image': 'https://ccm.ddcdn.com/ext/photo-s/03/9b/30/02/phuket.jpg'},\n",
       " {'title': '泰国曼谷',\n",
       "  'image': 'https://ccm.ddcdn.com/ext/photo-s/03/9b/2d/ad/bangkok.jpg'},\n",
       " {'title': '泰国清迈',\n",
       "  'image': 'https://ccm.ddcdn.com/ext/photo-b/1280x250/03/9b/2d/c0/chiang-mai.jpg'},\n",
       " {'title': '日本东京',\n",
       "  'image': 'https://ccm.ddcdn.com/ext/photo-s/03/9b/2e/18/tokyo.jpg'},\n",
       " {'title': '日本京都市',\n",
       "  'image': 'https://ccm.ddcdn.com/ext/photo-b/1280x250/03/9b/2d/dc/kyoto.jpg'},\n",
       " {'title': '越南芽庄',\n",
       "  'image': 'https://ccm.ddcdn.com/ext/photo-s/00/17/b8/4f/po-ngar-tower-2.jpg'},\n",
       " {'title': '日本大阪市',\n",
       "  'image': 'https://ccm.ddcdn.com/ext/photo-s/10/81/57/a3/osaka-castle-beautiful.jpg'}]"
      ]
     },
     "execution_count": 87,
     "metadata": {},
     "output_type": "execute_result"
    }
   ],
   "source": [
    "info = []\n",
    "for title,image in zip(titles, images):\n",
    "    data = {\n",
    "            'title':((title.get_text()).replace('\\n','')).replace('游记指南',''),\n",
    "            'image':image.get('src')\n",
    "        }\n",
    "    info.append(data)\n",
    "info"
   ]
  },
  {
   "cell_type": "markdown",
   "metadata": {},
   "source": [
    "回到豆瓣："
   ]
  },
  {
   "cell_type": "code",
   "execution_count": 260,
   "metadata": {
    "collapsed": false
   },
   "outputs": [],
   "source": [
    "import requests, bs4, lxml, re\n",
    "urls = []\n",
    "for i in range(0,250,25):\n",
    "    urls.append('https://book.douban.com/top250?start=' + str(i))\n",
    "info = []\n",
    "for url in urls:\n",
    "    res = requests.get(url)\n",
    "    res.raise_for_status()\n",
    "    html = res.text\n",
    "    doubanBookSoup = bs4.BeautifulSoup(html, 'lxml')\n",
    "    titles = doubanBookSoup.select('a[title]')\n",
    "    scores = doubanBookSoup.select('span[class=\"rating_nums\"]')\n",
    "    authors = doubanBookSoup.select('p.pl')\n",
    "    for title, author, score in zip(titles, authors, scores):\n",
    "        data = {\n",
    "            'title':((title.get_text()).replace('\\n','')).replace(' ','') ,\n",
    "            'author':re.compile(r'(\\[\\w+\\])?(\\w)+(·)?(\\w+)(·\\w+)?').search(author.get_text()).group(),\n",
    "            'score':score.get_text()\n",
    "        }\n",
    "        info.append(data)"
   ]
  },
  {
   "cell_type": "code",
   "execution_count": 261,
   "metadata": {
    "collapsed": false
   },
   "outputs": [
    {
     "name": "stdout",
     "output_type": "stream",
     "text": [
      "{'title': '白夜行', 'author': '东野圭吾', 'score': '9.1'}\n",
      "{'title': '活着', 'author': '余华', 'score': '9.3'}\n",
      "{'title': '百年孤独', 'author': '哥伦比亚', 'score': '9.2'}\n",
      "{'title': '红楼梦', 'author': '曹雪芹', 'score': '9.6'}\n",
      "{'title': '三体Ⅱ:黑暗森林', 'author': '刘慈欣', 'score': '9.3'}\n",
      "{'title': '三体Ⅲ:死神永生', 'author': '刘慈欣', 'score': '9.2'}\n",
      "{'title': '飘', 'author': '美国', 'score': '9.3'}\n",
      "{'title': '1984', 'author': '乔治·奥威尔', 'score': '9.3'}\n",
      "{'title': '三国演义（全二册）', 'author': '罗贯中', 'score': '9.2'}\n",
      "{'title': '人类简史:从动物到上帝', 'author': '以色列', 'score': '9.1'}\n",
      "{'title': '天龙八部', 'author': '金庸', 'score': '9.1'}\n",
      "{'title': '房思琪的初恋乐园', 'author': '林奕含', 'score': '9.2'}\n",
      "{'title': '福尔摩斯探案全集（上中下）', 'author': '阿·柯南道尔', 'score': '9.2'}\n",
      "{'title': '沉默的大多数:王小波杂文随笔全编', 'author': '王小波', 'score': '9.1'}\n",
      "{'title': '肖申克的救赎', 'author': '斯蒂芬·金', 'score': '9.1'}\n",
      "{'title': '动物农场', 'author': '乔治·奥威尔', 'score': '9.2'}\n",
      "{'title': '安徒生童话故事集', 'author': '丹麦', 'score': '9.2'}\n",
      "{'title': '杀死一只知更鸟', 'author': '哈珀·李', 'score': '9.2'}\n",
      "{'title': '海贼王:ONEPIECE', 'author': '尾田荣一郎', 'score': '9.5'}\n",
      "{'title': '中国历代政治得失', 'author': '钱穆', 'score': '9.1'}\n",
      "{'title': '一九八四·动物农场', 'author': '乔治·奥威尔', 'score': '9.3'}\n",
      "{'title': '冰与火之歌（卷一）:权力的游戏', 'author': '乔治·R', 'score': '9.3'}\n",
      "{'title': '文学回忆录（全2册）:1989—1994', 'author': '木心', 'score': '9.2'}\n",
      "{'title': '父与子全集', 'author': '埃·奥·卜劳恩', 'score': '9.2'}\n",
      "{'title': '我的精神家园:王小波杂文自选集', 'author': '王小波', 'score': '9.1'}\n",
      "{'title': '浪潮之巅', 'author': '吴军', 'score': '9.1'}\n",
      "{'title': '夹边沟记事', 'author': '杨显惠', 'score': '9.2'}\n",
      "{'title': '动物庄园', 'author': '乔治·奥威尔', 'score': '9.1'}\n"
     ]
    }
   ],
   "source": [
    "for i in info:\n",
    "    if 9.1<=float(i['score'])<9.7:\n",
    "        print(i)"
   ]
  },
  {
   "cell_type": "markdown",
   "metadata": {},
   "source": [
    "## Excel"
   ]
  },
  {
   "cell_type": "code",
   "execution_count": 19,
   "metadata": {
    "collapsed": false
   },
   "outputs": [
    {
     "name": "stderr",
     "output_type": "stream",
     "text": [
      "/Users/caimeijuan/anaconda/envs/python35/lib/python3.7/site-packages/ipykernel_launcher.py:4: DeprecationWarning: Call to deprecated function get_sheet_names (Use wb.sheetnames).\n",
      "  after removing the cwd from sys.path.\n"
     ]
    },
    {
     "data": {
      "text/plain": [
       "['Sheet']"
      ]
     },
     "execution_count": 19,
     "metadata": {},
     "output_type": "execute_result"
    }
   ],
   "source": [
    "import openpyxl\n",
    "\n",
    "file_exl = openpyxl.Workbook()\n",
    "file_exl.get_sheet_names()"
   ]
  },
  {
   "cell_type": "code",
   "execution_count": 21,
   "metadata": {
    "collapsed": false
   },
   "outputs": [
    {
     "name": "stderr",
     "output_type": "stream",
     "text": [
      "/Users/caimeijuan/anaconda/envs/python35/lib/python3.7/site-packages/ipykernel_launcher.py:1: DeprecationWarning: Call to deprecated function get_active_sheet (Use the .active property).\n",
      "  \"\"\"Entry point for launching an IPython kernel.\n"
     ]
    }
   ],
   "source": [
    "sheet = file_exl.get_active_sheet()"
   ]
  },
  {
   "cell_type": "code",
   "execution_count": 23,
   "metadata": {
    "collapsed": false
   },
   "outputs": [
    {
     "name": "stderr",
     "output_type": "stream",
     "text": [
      "/Users/caimeijuan/anaconda/envs/python35/lib/python3.7/site-packages/ipykernel_launcher.py:2: DeprecationWarning: Call to deprecated function get_sheet_names (Use wb.sheetnames).\n",
      "  \n"
     ]
    },
    {
     "data": {
      "text/plain": [
       "['Lovely Yazhi']"
      ]
     },
     "execution_count": 23,
     "metadata": {},
     "output_type": "execute_result"
    }
   ],
   "source": [
    "sheet.title = 'Lovely Yazhi'\n",
    "file_exl.get_sheet_names()"
   ]
  },
  {
   "cell_type": "code",
   "execution_count": 25,
   "metadata": {
    "collapsed": true
   },
   "outputs": [],
   "source": [
    "path = './yazhitieba/'"
   ]
  },
  {
   "cell_type": "code",
   "execution_count": 28,
   "metadata": {
    "collapsed": false
   },
   "outputs": [
    {
     "data": {
      "text/plain": [
       "<Worksheet \"Sheet\">"
      ]
     },
     "execution_count": 28,
     "metadata": {},
     "output_type": "execute_result"
    }
   ],
   "source": [
    "file_exl.create_sheet()"
   ]
  },
  {
   "cell_type": "code",
   "execution_count": 30,
   "metadata": {
    "collapsed": false
   },
   "outputs": [
    {
     "data": {
      "text/plain": [
       "<Worksheet \"qinqinyazhi\">"
      ]
     },
     "execution_count": 30,
     "metadata": {},
     "output_type": "execute_result"
    }
   ],
   "source": [
    "file_exl.create_sheet(title='qinqinyazhi')"
   ]
  },
  {
   "cell_type": "code",
   "execution_count": 35,
   "metadata": {
    "collapsed": false
   },
   "outputs": [
    {
     "name": "stderr",
     "output_type": "stream",
     "text": [
      "/Users/caimeijuan/anaconda/envs/python35/lib/python3.7/site-packages/ipykernel_launcher.py:1: DeprecationWarning: Call to deprecated function get_sheet_by_name (Use wb[sheetname]).\n",
      "  \"\"\"Entry point for launching an IPython kernel.\n"
     ]
    },
    {
     "ename": "KeyError",
     "evalue": "'Worksheet Sheet does not exist.'",
     "output_type": "error",
     "traceback": [
      "\u001b[0;31m---------------------------------------------------------------------------\u001b[0m",
      "\u001b[0;31mKeyError\u001b[0m                                  Traceback (most recent call last)",
      "\u001b[0;32m<ipython-input-35-1b38066aac95>\u001b[0m in \u001b[0;36m<module>\u001b[0;34m\u001b[0m\n\u001b[0;32m----> 1\u001b[0;31m \u001b[0mfile_exl\u001b[0m\u001b[0;34m.\u001b[0m\u001b[0mremove_sheet\u001b[0m\u001b[0;34m(\u001b[0m\u001b[0mfile_exl\u001b[0m\u001b[0;34m.\u001b[0m\u001b[0mget_sheet_by_name\u001b[0m\u001b[0;34m(\u001b[0m\u001b[0;34m'Sheet'\u001b[0m\u001b[0;34m)\u001b[0m\u001b[0;34m)\u001b[0m\u001b[0;34m\u001b[0m\u001b[0;34m\u001b[0m\u001b[0m\n\u001b[0m",
      "\u001b[0;32m~/anaconda/envs/python35/lib/python3.7/site-packages/openpyxl/compat/__init__.py\u001b[0m in \u001b[0;36mnew_func1\u001b[0;34m(*args, **kwargs)\u001b[0m\n\u001b[1;32m     53\u001b[0m                     \u001b[0mstacklevel\u001b[0m\u001b[0;34m=\u001b[0m\u001b[0;36m2\u001b[0m\u001b[0;34m\u001b[0m\u001b[0;34m\u001b[0m\u001b[0m\n\u001b[1;32m     54\u001b[0m                 )\n\u001b[0;32m---> 55\u001b[0;31m                 \u001b[0;32mreturn\u001b[0m \u001b[0mfunc1\u001b[0m\u001b[0;34m(\u001b[0m\u001b[0;34m*\u001b[0m\u001b[0margs\u001b[0m\u001b[0;34m,\u001b[0m \u001b[0;34m**\u001b[0m\u001b[0mkwargs\u001b[0m\u001b[0;34m)\u001b[0m\u001b[0;34m\u001b[0m\u001b[0;34m\u001b[0m\u001b[0m\n\u001b[0m\u001b[1;32m     56\u001b[0m \u001b[0;34m\u001b[0m\u001b[0m\n\u001b[1;32m     57\u001b[0m             \u001b[0;31m# Enhance docstring with a deprecation note\u001b[0m\u001b[0;34m\u001b[0m\u001b[0;34m\u001b[0m\u001b[0;34m\u001b[0m\u001b[0m\n",
      "\u001b[0;32m~/anaconda/envs/python35/lib/python3.7/site-packages/openpyxl/workbook/workbook.py\u001b[0m in \u001b[0;36mget_sheet_by_name\u001b[0;34m(self, name)\u001b[0m\n\u001b[1;32m    249\u001b[0m \u001b[0;34m\u001b[0m\u001b[0m\n\u001b[1;32m    250\u001b[0m         \"\"\"\n\u001b[0;32m--> 251\u001b[0;31m         \u001b[0;32mreturn\u001b[0m \u001b[0mself\u001b[0m\u001b[0;34m[\u001b[0m\u001b[0mname\u001b[0m\u001b[0;34m]\u001b[0m\u001b[0;34m\u001b[0m\u001b[0;34m\u001b[0m\u001b[0m\n\u001b[0m\u001b[1;32m    252\u001b[0m \u001b[0;34m\u001b[0m\u001b[0m\n\u001b[1;32m    253\u001b[0m     \u001b[0;32mdef\u001b[0m \u001b[0m__contains__\u001b[0m\u001b[0;34m(\u001b[0m\u001b[0mself\u001b[0m\u001b[0;34m,\u001b[0m \u001b[0mkey\u001b[0m\u001b[0;34m)\u001b[0m\u001b[0;34m:\u001b[0m\u001b[0;34m\u001b[0m\u001b[0;34m\u001b[0m\u001b[0m\n",
      "\u001b[0;32m~/anaconda/envs/python35/lib/python3.7/site-packages/openpyxl/workbook/workbook.py\u001b[0m in \u001b[0;36m__getitem__\u001b[0;34m(self, key)\u001b[0m\n\u001b[1;32m    275\u001b[0m             \u001b[0;32mif\u001b[0m \u001b[0msheet\u001b[0m\u001b[0;34m.\u001b[0m\u001b[0mtitle\u001b[0m \u001b[0;34m==\u001b[0m \u001b[0mkey\u001b[0m\u001b[0;34m:\u001b[0m\u001b[0;34m\u001b[0m\u001b[0;34m\u001b[0m\u001b[0m\n\u001b[1;32m    276\u001b[0m                 \u001b[0;32mreturn\u001b[0m \u001b[0msheet\u001b[0m\u001b[0;34m\u001b[0m\u001b[0;34m\u001b[0m\u001b[0m\n\u001b[0;32m--> 277\u001b[0;31m         \u001b[0;32mraise\u001b[0m \u001b[0mKeyError\u001b[0m\u001b[0;34m(\u001b[0m\u001b[0;34m\"Worksheet {0} does not exist.\"\u001b[0m\u001b[0;34m.\u001b[0m\u001b[0mformat\u001b[0m\u001b[0;34m(\u001b[0m\u001b[0mkey\u001b[0m\u001b[0;34m)\u001b[0m\u001b[0;34m)\u001b[0m\u001b[0;34m\u001b[0m\u001b[0;34m\u001b[0m\u001b[0m\n\u001b[0m\u001b[1;32m    278\u001b[0m \u001b[0;34m\u001b[0m\u001b[0m\n\u001b[1;32m    279\u001b[0m     \u001b[0;32mdef\u001b[0m \u001b[0m__delitem__\u001b[0m\u001b[0;34m(\u001b[0m\u001b[0mself\u001b[0m\u001b[0;34m,\u001b[0m \u001b[0mkey\u001b[0m\u001b[0;34m)\u001b[0m\u001b[0;34m:\u001b[0m\u001b[0;34m\u001b[0m\u001b[0;34m\u001b[0m\u001b[0m\n",
      "\u001b[0;31mKeyError\u001b[0m: 'Worksheet Sheet does not exist.'"
     ]
    }
   ],
   "source": [
    "file_exl.remove_sheet(file_exl.get_sheet_by_name('Sheet'))"
   ]
  },
  {
   "cell_type": "code",
   "execution_count": 37,
   "metadata": {
    "collapsed": false
   },
   "outputs": [
    {
     "name": "stderr",
     "output_type": "stream",
     "text": [
      "/Users/caimeijuan/anaconda/envs/python35/lib/python3.7/site-packages/ipykernel_launcher.py:1: DeprecationWarning: Call to deprecated function get_sheet_by_name (Use wb[sheetname]).\n",
      "  \"\"\"Entry point for launching an IPython kernel.\n"
     ]
    }
   ],
   "source": [
    "sheet = file_exl.get_sheet_by_name('Lovely Yazhi')"
   ]
  },
  {
   "cell_type": "code",
   "execution_count": 38,
   "metadata": {
    "collapsed": true
   },
   "outputs": [],
   "source": [
    "sheet['A1'] = 'Title'\n",
    "sheet['B1'] = 'Replies'\n",
    "sheet['C1'] = 'Link'"
   ]
  },
  {
   "cell_type": "code",
   "execution_count": 39,
   "metadata": {
    "collapsed": false
   },
   "outputs": [],
   "source": [
    "file_exl.save(path + 'yazhi.xlsx')"
   ]
  },
  {
   "cell_type": "markdown",
   "metadata": {},
   "source": [
    "#### 基础"
   ]
  },
  {
   "cell_type": "code",
   "execution_count": 1,
   "metadata": {
    "collapsed": false
   },
   "outputs": [
    {
     "name": "stdout",
     "output_type": "stream",
     "text": [
      "工作簿的类型是：  <class 'openpyxl.workbook.workbook.Workbook'>\n",
      "工作簿里有哪些sheet？ ['Tieba']\n",
      "sheet的类型是： <class 'openpyxl.worksheet.worksheet.Worksheet'>\n",
      "sheet的name是： Tieba\n",
      "<Cell 'Tieba'.A1>\n",
      "<Cell 'Tieba'.A1>\n",
      "单元格的类型是： <class 'openpyxl.cell.cell.Cell'>\n",
      "sheet从属于：  <openpyxl.workbook.workbook.Workbook object at 0x10fe53898>\n",
      "A1单元格从属于：  <Worksheet \"Tieba\">\n"
     ]
    },
    {
     "name": "stderr",
     "output_type": "stream",
     "text": [
      "/Users/caimeijuan/anaconda/envs/python35/lib/python3.7/site-packages/ipykernel_launcher.py:7: DeprecationWarning: Call to deprecated function get_sheet_names (Use wb.sheetnames).\n",
      "  import sys\n",
      "/Users/caimeijuan/anaconda/envs/python35/lib/python3.7/site-packages/ipykernel_launcher.py:9: DeprecationWarning: Call to deprecated function get_sheet_by_name (Use wb[sheetname]).\n",
      "  if __name__ == '__main__':\n"
     ]
    }
   ],
   "source": [
    "import openpyxl\n",
    "path = './yazhitieba/'\n",
    "wb = openpyxl.load_workbook(path + 'yazhi.xlsx')\n",
    "\n",
    "print('工作簿的类型是： ', type(wb))\n",
    "\n",
    "print('工作簿里有哪些sheet？', wb.get_sheet_names())\n",
    "\n",
    "sheet = wb.get_sheet_by_name('Tieba')\n",
    "print('sheet的类型是：', type(sheet))\n",
    "\n",
    "print('sheet的name是：', sheet.title)\n",
    "\n",
    "print(sheet['A1'])\n",
    "print(sheet['a1'])\n",
    "print('单元格的类型是：', type(sheet['A1']))\n",
    "\n",
    "print('sheet从属于： ', sheet.parent)\n",
    "print('A1单元格从属于： ', sheet['A1'].parent)"
   ]
  },
  {
   "cell_type": "markdown",
   "metadata": {},
   "source": [
    "`get_sheet_names()`得到的是列表，所有sheet的name，它的主体是工作簿。 `.title`是字符串，其中一个表格的name，它的主体是工作表。  \n",
    "\n",
    "`get_sheet_by_name()` `get_active_sheet()`都能得到sheet对象。一个是指定sheetname，一个是获取当前sheet。  \n",
    "\n",
    "单元格名称可以不区分大小写，和Excel表格中一样。但是表名必须区分大小写，如上面的'Tieba'，写成'tieba'，就会出错。"
   ]
  },
  {
   "cell_type": "code",
   "execution_count": 2,
   "metadata": {
    "collapsed": true
   },
   "outputs": [],
   "source": [
    "c = sheet['A1']"
   ]
  },
  {
   "cell_type": "code",
   "execution_count": 3,
   "metadata": {
    "collapsed": false
   },
   "outputs": [
    {
     "name": "stdout",
     "output_type": "stream",
     "text": [
      "注意⚠️ 单元格行列计数从1开始，不是从0开始。\n",
      "\n",
      "c单元格的列数为：  1\n",
      "c单元格的列数为：  1\n",
      "c单元格的列号为：  A\n",
      "c.col_idx和c.column是同一回事。  True\n",
      "c单元格的行数为：  1\n",
      "c的坐标是什么？ A1\n"
     ]
    }
   ],
   "source": [
    "print('注意⚠️ 单元格行列计数从1开始，不是从0开始。\\n')\n",
    "\n",
    "# 列\n",
    "print('c单元格的列数为： ', c.col_idx)\n",
    "print('c单元格的列数为： ', c.column)\n",
    "print('c单元格的列号为： ', c.column_letter)\n",
    "print('c.col_idx和c.column是同一回事。 ', c.col_idx==c.column)\n",
    "\n",
    "# 行\n",
    "print('c单元格的行数为： ', c.row)\n",
    "\n",
    "# 坐标\n",
    "print('c的坐标是什么？', c.coordinate)"
   ]
  },
  {
   "cell_type": "code",
   "execution_count": 4,
   "metadata": {
    "collapsed": false
   },
   "outputs": [
    {
     "name": "stdout",
     "output_type": "stream",
     "text": [
      "c的数据类型是日期date： False\n",
      "c的internal_value和value是相同的： True\n"
     ]
    }
   ],
   "source": [
    "print('c的数据类型是日期date：', c.is_date)\n",
    "print('c的internal_value和value是相同的：', c.internal_value == c.value)"
   ]
  },
  {
   "cell_type": "code",
   "execution_count": 6,
   "metadata": {
    "collapsed": false
   },
   "outputs": [
    {
     "data": {
      "text/plain": [
       "'Replies'"
      ]
     },
     "execution_count": 6,
     "metadata": {},
     "output_type": "execute_result"
    }
   ],
   "source": [
    "sheet.cell(row=1,column=2).value"
   ]
  },
  {
   "cell_type": "code",
   "execution_count": 14,
   "metadata": {
    "collapsed": false
   },
   "outputs": [
    {
     "name": "stdout",
     "output_type": "stream",
     "text": [
      "Replies\n",
      "0\n",
      "813\n",
      "19\n",
      "1811\n",
      "19\n",
      "148\n",
      "7\n",
      "21\n",
      "26\n"
     ]
    }
   ],
   "source": [
    "for i in range(1,11,1):\n",
    "    print(sheet.cell(row=i, column=2).value)"
   ]
  },
  {
   "cell_type": "code",
   "execution_count": 24,
   "metadata": {
    "collapsed": false
   },
   "outputs": [
    {
     "name": "stdout",
     "output_type": "stream",
     "text": [
      "Tieba表一共有 51 行数据。\n",
      "Tieba表一共有 3 列数据。\n"
     ]
    }
   ],
   "source": [
    "# sheet.get_highest_row()不能用了。\n",
    "print('Tieba表一共有 %d 行数据。' %sheet.max_row)\n",
    "print('Tieba表一共有 %d 列数据。' %sheet.max_column)"
   ]
  },
  {
   "cell_type": "code",
   "execution_count": 28,
   "metadata": {
    "collapsed": false
   },
   "outputs": [
    {
     "name": "stdout",
     "output_type": "stream",
     "text": [
      "第900列是哪一列？ AHP\n",
      "Tieba表的最后一列是哪一列？ C\n",
      "\"AHP\"是第几列？ 900\n"
     ]
    }
   ],
   "source": [
    "# 直接从表格得到列字母\n",
    "print('第900列是哪一列？', openpyxl.cell.cell.get_column_letter(900))\n",
    "print('Tieba表的最后一列是哪一列？', openpyxl.cell.cell.get_column_letter(sheet.max_column))\n",
    "\n",
    "# 从列字母得到列数\n",
    "print('\"AHP\"是第几列？', openpyxl.cell.cell.column_index_from_string('AHP'))"
   ]
  },
  {
   "cell_type": "code",
   "execution_count": 31,
   "metadata": {
    "collapsed": false
   },
   "outputs": [
    {
     "name": "stdout",
     "output_type": "stream",
     "text": [
      "((<Cell 'Tieba'.A1>,), (<Cell 'Tieba'.A2>,), (<Cell 'Tieba'.A3>,))\n",
      "sheet['A1':'A3']的类型是： <class 'tuple'>\n"
     ]
    }
   ],
   "source": [
    "print(sheet['A1':'A3'])\n",
    "print(\"sheet['A1':'A3']的类型是：\", type(sheet['A1':'A3']))"
   ]
  },
  {
   "cell_type": "code",
   "execution_count": 35,
   "metadata": {
    "collapsed": false
   },
   "outputs": [
    {
     "name": "stdout",
     "output_type": "stream",
     "text": [
      "A1 Title\n",
      "B1 Replies\n",
      "C1 Link\n",
      "-------Row End--------\n",
      "A2 【典雅一生】跪求吧里的大哥发一下新白和三花的高清版，再去品一\n",
      "B2 0\n",
      "C2 http://tieba.baidu.com/p/6092038025\n",
      "-------Row End--------\n",
      "A3 【典雅一生】搬文。 娘子还是那个娘子，许仙穿越一下\n",
      "B3 813\n",
      "C3 http://tieba.baidu.com/p/4839119914\n",
      "-------Row End--------\n"
     ]
    }
   ],
   "source": [
    "for rowCells in sheet['A1':'C3']:\n",
    "    for cell in rowCells:\n",
    "        print(cell.coordinate , cell.value)\n",
    "    print('-------Row End--------')"
   ]
  },
  {
   "cell_type": "markdown",
   "metadata": {
    "collapsed": true
   },
   "source": [
    "[完全理解Python迭代对象、迭代器、生成器 - FooFish-Python之禅](https://foofish.net/iterators-vs-generators.html)"
   ]
  },
  {
   "cell_type": "code",
   "execution_count": 58,
   "metadata": {
    "collapsed": false
   },
   "outputs": [
    {
     "name": "stdout",
     "output_type": "stream",
     "text": [
      "A1 Title\n",
      "A2 【典雅一生】跪求吧里的大哥发一下新白和三花的高清版，再去品一\n",
      "A3 【典雅一生】搬文。 娘子还是那个娘子，许仙穿越一下\n",
      "A4 【典雅一生】【签到】2019年04月05日签到贴^_^！\n",
      "A5 【典雅一生】《新白娘子传奇》高清大图剧照\n",
      "A6 【典雅一生】〖签到〗2019年04月04日签到贴^_^！\n",
      "A7 [典雅一生]有没有一秒离你很近\n",
      "A8 【典雅一生】【签到】2019年03月03日签到贴^_^！\n",
      "A9 【典雅一生】〖签到〗2019年04月02日签到贴^_^！\n",
      "A10 【典雅一生】汪涵说zz是因为喜欢一个男孩子啥子意思啊\n",
      "A11 【典雅一生】跪求大神发个戏说乾隆的高清版下载啊\n",
      "A12 【典雅一生】做一个芝剧最全链接分享，有芝姐所有电视剧\n",
      "A13 【典雅一生】求芝姐穿这件牛仔衣的美图！\n",
      "A14 【典雅一生】【签到】2019年04月01日签到贴^_^！\n",
      "A15 【典雅一生】芝姐的播音人\n",
      "A16 【典雅一生】请问谁有戏说的续呀~~\n",
      "A17 【典雅一生】〖签到〗2019年03月31日签到贴^_^！\n",
      "A18 【典雅一生】一不留神我都15级了\n",
      "A19 【典雅一生】【签到】2019年03月30日签到贴^_^！\n",
      "A20 【典雅一生】〖签到〗2019年03月29日签到贴^_^！\n",
      "A21 【典雅一生】白素贞报恩一定要以身相许吗？\n",
      "A22 【典雅一生】资源NO.8《帝女花》\n",
      "A23 【典雅一生】芝姐八个女人一台戏图片。\n",
      "A24 【典雅一生】〖签到〗2019年03月28日签到贴^_^！\n",
      "A25 【典雅一生】兰兰今天看见几张芝姐红色礼服好美\n",
      "A26 【典雅一生】芝姐在帝凰业里出演的角色，好美\n",
      "A27 【典雅一生】【签到】2019年03月27日签到贴^_^！\n",
      "A28 【典雅一生】【汇合】芝姐广告集中贴\n",
      "A29 【典雅一生】新白娘子传奇\n",
      "A30 【典雅一生】〖签到〗2019年03月26日签到贴^_^！\n",
      "A31 【典雅一生】百度百科明星外交团\n",
      "A32 【典雅一生】芝姐夫妇法国巴黎图片\n",
      "A33 【典雅一生】〖签到〗2019年03月25日签到贴^_^！\n",
      "A34 【典雅一生】TVB《楚留香》中的赵雅芝MV剪辑\n",
      "A35 【典雅一生】【签到】2019年03月24日签到贴^_^！\n",
      "A36 【典雅一生】没有白娘娘的假期是不完整的！安徽卫视从2019年2\n",
      "A37 【典雅一生】【签到】2019年03月23日签到贴^_^！\n",
      "A38 赵雅芝和张国荣都是优秀艺人 大家请尊重他们对于艺术的贡献\n",
      "A39 【典雅一生】美丽的芝姐\n",
      "A40 【典雅一生】西关大少续写之再续前缘\n",
      "A41 【典雅一生】〖签到〗2019年03月22日签到贴^_^！\n",
      "A42 【典雅一生】赵雅芝夫妇\n",
      "A43 【典雅一生】白素贞，我比许仙更胜一筹哟，信不信由你\n",
      "A44 【典雅一生】【签到】2019年03月21日签到贴^_^！\n",
      "A45 【典雅一生】芝姐粉紫色衣裳白色衣裳大红色衣裳\n",
      "A46 【典雅一生】帅气\n",
      "A47 【典雅一生】2019，爱你依旧\n",
      "A48 【典雅一生】〖签到〗2019年03月20日签到贴^_^！\n",
      "A49 [调查] 看过新白52集版本的来报个到!\n",
      "A50 【典雅一生】青城山下白素贞，洞中千年修此身\n",
      "A51 【典雅一生】中华之美我p的芝姐图片\n"
     ]
    }
   ],
   "source": [
    "# generator无法处理，就转换为元组tuple来处理。注意，这次是从0开始。\n",
    "for cell in tuple(sheet.columns)[0]:\n",
    "    print(cell.coordinate, cell.value)"
   ]
  },
  {
   "cell_type": "code",
   "execution_count": 66,
   "metadata": {
    "collapsed": false
   },
   "outputs": [
    {
     "name": "stdout",
     "output_type": "stream",
     "text": [
      "A3 【典雅一生】搬文。 娘子还是那个娘子，许仙穿越一下\n",
      "B3 813\n",
      "C3 http://tieba.baidu.com/p/4839119914\n"
     ]
    }
   ],
   "source": [
    "for cell in tuple(sheet.rows)[2]:\n",
    "    print(cell.coordinate, cell.value)"
   ]
  },
  {
   "cell_type": "code",
   "execution_count": 76,
   "metadata": {
    "collapsed": false
   },
   "outputs": [
    {
     "name": "stdout",
     "output_type": "stream",
     "text": [
      "A1 Title\n",
      "B1 Replies\n",
      "C1 Link\n",
      "--------------Row End------------------\n",
      "A2 【典雅一生】跪求吧里的大哥发一下新白和三花的高清版，再去品一\n",
      "B2 0\n",
      "C2 http://tieba.baidu.com/p/6092038025\n",
      "--------------Row End------------------\n",
      "A3 【典雅一生】搬文。 娘子还是那个娘子，许仙穿越一下\n",
      "B3 813\n",
      "C3 http://tieba.baidu.com/p/4839119914\n",
      "--------------Row End------------------\n"
     ]
    }
   ],
   "source": [
    "for cells in tuple(sheet.rows)[:3]:\n",
    "    for cell in cells:\n",
    "        print(cell.coordinate, cell.value)\n",
    "    print('--------------Row End------------------')"
   ]
  },
  {
   "cell_type": "code",
   "execution_count": 68,
   "metadata": {
    "collapsed": false
   },
   "outputs": [
    {
     "data": {
      "text/plain": [
       "((<Cell 'Tieba'.A2>, <Cell 'Tieba'.B2>, <Cell 'Tieba'.C2>),\n",
       " (<Cell 'Tieba'.A3>, <Cell 'Tieba'.B3>, <Cell 'Tieba'.C3>),\n",
       " (<Cell 'Tieba'.A4>, <Cell 'Tieba'.B4>, <Cell 'Tieba'.C4>),\n",
       " (<Cell 'Tieba'.A5>, <Cell 'Tieba'.B5>, <Cell 'Tieba'.C5>))"
      ]
     },
     "execution_count": 68,
     "metadata": {},
     "output_type": "execute_result"
    }
   ],
   "source": [
    "tuple(sheet.rows)[1:5]"
   ]
  },
  {
   "cell_type": "markdown",
   "metadata": {
    "collapsed": true
   },
   "source": [
    "#### 美国人口计算"
   ]
  },
  {
   "cell_type": "code",
   "execution_count": 74,
   "metadata": {
    "collapsed": false
   },
   "outputs": [
    {
     "name": "stderr",
     "output_type": "stream",
     "text": [
      "/Users/caimeijuan/anaconda/envs/python35/lib/python3.7/site-packages/ipykernel_launcher.py:5: DeprecationWarning: Call to deprecated function get_active_sheet (Use the .active property).\n",
      "  \"\"\"\n"
     ]
    }
   ],
   "source": [
    "#_*_coding:utf-8_*_\n",
    "import openpyxl\n",
    "\n",
    "wb_cencus = openpyxl.load_workbook('censuspopdata.xlsx')\n",
    "sheet_cencus = wb_cencus.get_active_sheet()"
   ]
  },
  {
   "cell_type": "code",
   "execution_count": 86,
   "metadata": {
    "collapsed": false
   },
   "outputs": [
    {
     "name": "stdout",
     "output_type": "stream",
     "text": [
      "表格一共 72865 行数据。\n",
      "\n",
      "一共有 51 个States\n",
      "{'ME', 'AK', 'DC', 'NM', 'MD', 'KS', 'AR', 'SC', 'OH', 'IL', 'NY', 'NV', 'MS', 'NH', 'IA', 'MO', 'MA', 'WA', 'WV', 'LA', 'AZ', 'OK', 'MI', 'CT', 'DE', 'TX', 'NC', 'IN', 'VT', 'RI', 'CA', 'MT', 'UT', 'WI', 'NE', 'ID', 'WY', 'AL', 'HI', 'CO', 'NJ', 'GA', 'FL', 'TN', 'VA', 'ND', 'KY', 'OR', 'SD', 'PA', 'MN'}\n",
      "\n",
      "一共有 1838 个Counties\n"
     ]
    }
   ],
   "source": [
    "# 计算一共多少行数据\n",
    "print('表格一共 %d 行数据。\\n'%sheet_cencus.max_row)\n",
    "\n",
    "#计算有多少state\n",
    "state = set()\n",
    "for cell in tuple(sheet_cencus.columns)[1]:\n",
    "    if cell.value not in state and cell.value!='State':\n",
    "        state.add(cell.value)\n",
    "print('一共有 %d 个States'%len(state))\n",
    "print(state)\n",
    "\n",
    "#计算有多少county\n",
    "\n",
    "county = set()\n",
    "for cell in tuple(sheet_cencus.columns)[2]:\n",
    "    if cell.value not in county and cell.value!='County':\n",
    "        county.add(cell.value)\n",
    "print('\\n一共有 %d 个Counties'%len(county))\n",
    "#print(county)"
   ]
  },
  {
   "cell_type": "code",
   "execution_count": 104,
   "metadata": {
    "collapsed": false
   },
   "outputs": [
    {
     "name": "stdout",
     "output_type": "stream",
     "text": [
      "{'ME': 1328361, 'AK': 710231, 'DC': 601723, 'NM': 2059179, 'MD': 5773552, 'KS': 2853118, 'AR': 2915918, 'SC': 4625364, 'OH': 11536504, 'IL': 12830632, 'NY': 19378102, 'NV': 2700551, 'MS': 2967297, 'NH': 1316470, 'IA': 3046355, 'MO': 5988927, 'MA': 6547629, 'WA': 6724540, 'WV': 1852994, 'LA': 4533372, 'AZ': 6392017, 'OK': 3751351, 'MI': 9883640, 'CT': 3574097, 'DE': 897934, 'TX': 25145561, 'NC': 9535483, 'IN': 6483802, 'VT': 625741, 'RI': 1052567, 'CA': 37253956, 'MT': 989415, 'UT': 2763885, 'WI': 5686986, 'NE': 1826341, 'ID': 1567582, 'WY': 563626, 'AL': 4779736, 'HI': 1360301, 'CO': 5029196, 'NJ': 8791894, 'GA': 9687653, 'FL': 18801310, 'TN': 6346105, 'VA': 8001024, 'ND': 672591, 'KY': 4339367, 'OR': 3831074, 'SD': 814180, 'PA': 12702379, 'MN': 5303925}\n"
     ]
    }
   ],
   "source": [
    "#每个州总人口\n",
    "stateCencus = dict.fromkeys(list(state),0) #初始化字典，赋一个list给key，值初始化为0\n",
    "for s in list(state):\n",
    "    for i in range(1, sheet_cencus.max_row+1):\n",
    "        if sheet_cencus.cell(row=i, column=2).value==s:\n",
    "            popu = sheet_cencus.cell(row=i, column=4).value\n",
    "            stateCencus[s] += popu\n",
    "print(stateCencus)    \n",
    "\n",
    "#每个县总人口\n",
    "countyCencus = dict.fromkeys(list(county), 0)\n",
    "for c in list(county):\n",
    "    for i in range(1, sheet_cencus.max_row+1):\n",
    "        if sheet_cencus.cell(row=i, column=3).value==c:\n",
    "            popu = sheet_cencus.cell(row=i, column=4).value\n",
    "            countyCencus[c] += popu\n",
    "#print(countyCencus)"
   ]
  },
  {
   "cell_type": "code",
   "execution_count": 113,
   "metadata": {
    "collapsed": false
   },
   "outputs": [
    {
     "name": "stdout",
     "output_type": "stream",
     "text": [
      "人口数最多的10个州：\n",
      "[('CA', 37253956), ('TX', 25145561), ('NY', 19378102), ('FL', 18801310), ('IL', 12830632), ('PA', 12702379), ('OH', 11536504), ('MI', 9883640), ('GA', 9687653), ('NC', 9535483)]\n",
      "\n",
      "Cencus of County Autauga is 54571 .\n",
      "\n",
      "人口数最多的10个县：\n",
      "[('Los Angeles', 9818605), ('Cook', 5217063), ('Orange', 4826896), ('Harris', 4124483), ('Maricopa', 3817117), ('Jefferson', 3584625), ('Montgomery', 3519362), ('San Diego', 3095313), ('Clark', 2748857), ('Kings', 2657682)]\n"
     ]
    }
   ],
   "source": [
    "# 人口数最多的10个州\n",
    "list0 = sorted(stateCencus.items(), key= lambda x:x[1], reverse=True)\n",
    "print('人口数最多的10个州：')\n",
    "print(list0[:10])\n",
    "\n",
    "# 查询某个county的人口数\n",
    "print('\\nCencus of County Autauga is %d .'%countyCencus['Autauga'])\n",
    "\n",
    "# 人口数最多的10个县\n",
    "list1 = sorted(countyCencus.items(), key = lambda x:x[1], reverse=True) # 按值排序。\n",
    "print('\\n人口数最多的10个县：')\n",
    "print(list1[:10])"
   ]
  },
  {
   "cell_type": "markdown",
   "metadata": {},
   "source": [
    "---------------作者的写法太巧妙了。只做一次循环♻️，结构很清晰。----------------------"
   ]
  },
  {
   "cell_type": "code",
   "execution_count": 120,
   "metadata": {
    "collapsed": false
   },
   "outputs": [
    {
     "name": "stdout",
     "output_type": "stream",
     "text": [
      "Reading rows...\n",
      "Writing results....\n",
      "Done.\n"
     ]
    }
   ],
   "source": [
    "countyData = {}\n",
    "print('Reading rows...')\n",
    "for i in range(2, sheet_cencus.max_row+1):\n",
    "    State = sheet_cencus['B'+str(i)].value\n",
    "    County = sheet_cencus['C'+str(i)].value\n",
    "    pop = sheet_cencus['D'+str(i)].value\n",
    "    countyData.setdefault(State, {})\n",
    "    countyData[State].setdefault(County, {'tracts':0, 'pop':0})\n",
    "    \n",
    "    countyData[State][County]['tracts'] += 1\n",
    "    countyData[State][County]['pop'] += int(pop)\n",
    "    \n",
    "import pprint\n",
    "print('Writing results....')\n",
    "file = open('cencus2010.py', 'w')\n",
    "file.write('allData = ' + pprint.pformat(countyData)) #输出为python文件时，allData是个变量。\n",
    "file.close()\n",
    "print('Done.')"
   ]
  },
  {
   "cell_type": "markdown",
   "metadata": {},
   "source": [
    "几乎是瞬间完成运行。怎么会有这么好看又高效的写法的？😺  \n",
    "只循环1次，循环的时候顺便把结构做好，把计算做好。剩下的只是输出和打印。"
   ]
  },
  {
   "cell_type": "code",
   "execution_count": 124,
   "metadata": {
    "collapsed": false
   },
   "outputs": [
    {
     "data": {
      "text/plain": [
       "{'pop': 9818605, 'tracts': 2343}"
      ]
     },
     "execution_count": 124,
     "metadata": {},
     "output_type": "execute_result"
    }
   ],
   "source": [
    "from cencus2010 import allData\n",
    "\n",
    "allData['CA']['Los Angeles']"
   ]
  },
  {
   "cell_type": "markdown",
   "metadata": {},
   "source": [
    "#### 销售数据表格"
   ]
  },
  {
   "cell_type": "code",
   "execution_count": 128,
   "metadata": {
    "collapsed": false
   },
   "outputs": [
    {
     "name": "stderr",
     "output_type": "stream",
     "text": [
      "/Users/caimeijuan/anaconda/envs/python35/lib/python3.7/site-packages/ipykernel_launcher.py:4: DeprecationWarning: Call to deprecated function get_sheet_by_name (Use wb[sheetname]).\n",
      "  after removing the cwd from sys.path.\n"
     ]
    }
   ],
   "source": [
    "import openpyxl\n",
    "\n",
    "wb_sales = openpyxl.load_workbook('produceSales.xlsx')\n",
    "sheet_sales = wb_sales.get_sheet_by_name('Sheet')"
   ]
  },
  {
   "cell_type": "code",
   "execution_count": 130,
   "metadata": {
    "collapsed": false
   },
   "outputs": [],
   "source": [
    "for i in range(2, sheet_sales.max_row+1):\n",
    "    if sheet_sales['A'+str(i)].value == 'Garlic':\n",
    "        sheet_sales['B'+str(i)] = 3.07\n",
    "    elif sheet_sales['A'+str(i)].value == 'Celery':\n",
    "        sheet_sales['B'+str(i)] = 1.19\n",
    "    elif sheet_sales['A'+str(i)].value == 'Lemon':\n",
    "        sheet_sales['B'+str(i)] = 1.27\n",
    "wb_sales.save('produceSalesNew.xlsx')"
   ]
  },
  {
   "cell_type": "code",
   "execution_count": 164,
   "metadata": {
    "collapsed": false
   },
   "outputs": [
    {
     "name": "stderr",
     "output_type": "stream",
     "text": [
      "/Users/caimeijuan/anaconda/envs/python35/lib/python3.7/site-packages/ipykernel_launcher.py:4: DeprecationWarning: Call to deprecated function get_sheet_by_name (Use wb[sheetname]).\n",
      "  after removing the cwd from sys.path.\n"
     ]
    },
    {
     "name": "stdout",
     "output_type": "stream",
     "text": [
      "{'Apples': {'Cost': 1.88,\n",
      "            'Pounds': 12397.400000000003,\n",
      "            'Total': 23307.11999999997},\n",
      " 'Apricots': {'Cost': 3.71,\n",
      "              'Pounds': 11761.999999999984,\n",
      "              'Total': 43637.359999999964},\n",
      " 'Asparagus': {'Cost': 2.49,\n",
      "               'Pounds': 12847.799999999997,\n",
      "               'Total': 31991.28999999999},\n",
      " 'Avocados': {'Cost': 3.23,\n",
      "              'Pounds': 12369.099999999991,\n",
      "              'Total': 39952.529999999984},\n",
      " 'Bananas': {'Cost': 0.86,\n",
      "             'Pounds': 12629.400000000003,\n",
      "             'Total': 10861.319999999996},\n",
      " 'Beets': {'Cost': 1.51,\n",
      "           'Pounds': 12255.199999999999,\n",
      "           'Total': 18505.659999999996},\n",
      " 'Bok choy': {'Cost': 1.42,\n",
      "              'Pounds': 11564.899999999994,\n",
      "              'Total': 16422.189999999984},\n",
      " 'Brussels sprouts': {'Cost': 1.65,\n",
      "                      'Pounds': 11946.599999999999,\n",
      "                      'Total': 19713.449999999993},\n",
      " 'Butternut squash': {'Cost': 1.28,\n",
      "                      'Pounds': 11494.700000000006,\n",
      "                      'Total': 14713.209999999997},\n",
      " 'Carrots': {'Cost': 1.26,\n",
      "             'Pounds': 12203.799999999994,\n",
      "             'Total': 15376.840000000017},\n",
      " 'Celery': {'Cost': 3.07,\n",
      "            'Pounds': 12333.999999999987,\n",
      "            'Total': 37865.62000000003},\n",
      " 'Cherries': {'Cost': 9.5, 'Pounds': 12384.499999999995, 'Total': 117652.75},\n",
      " 'Coconuts': {'Cost': 1.18,\n",
      "              'Pounds': 11840.300000000008,\n",
      "              'Total': 13971.59000000002},\n",
      " 'Corn': {'Cost': 1.07,\n",
      "          'Pounds': 11702.099999999999,\n",
      "          'Total': 12521.610000000008},\n",
      " 'Cucumber': {'Cost': 1.07,\n",
      "              'Pounds': 11993.800000000007,\n",
      "              'Total': 12833.619999999999},\n",
      " 'Daikon': {'Cost': 1.4,\n",
      "            'Pounds': 12145.899999999998,\n",
      "            'Total': 17004.26000000001},\n",
      " 'Eggplant': {'Cost': 2.32,\n",
      "              'Pounds': 11843.399999999985,\n",
      "              'Total': 27476.699999999986},\n",
      " 'Fava beans': {'Cost': 2.69, 'Pounds': 11702.7, 'Total': 31480.479999999978},\n",
      " 'Garlic': {'Cost': 1.19,\n",
      "            'Pounds': 12511.900000000005,\n",
      "            'Total': 14889.439999999988},\n",
      " 'Ginger': {'Cost': 5.13,\n",
      "            'Pounds': 11915.299999999996,\n",
      "            'Total': 61125.76000000006},\n",
      " 'Grapefruit': {'Cost': 0.76,\n",
      "                'Pounds': 11706.70000000001,\n",
      "                'Total': 8897.189999999995},\n",
      " 'Grapes': {'Cost': 2.63,\n",
      "            'Pounds': 12293.799999999992,\n",
      "            'Total': 32333.079999999987},\n",
      " 'Green beans': {'Cost': 2.52,\n",
      "                 'Pounds': 11483.499999999998,\n",
      "                 'Total': 28938.369999999988},\n",
      " 'Green cabbage': {'Cost': 0.8, 'Pounds': 11610.700000000008, 'Total': 9288.56},\n",
      " 'Green peppers': {'Cost': 1.89,\n",
      "                   'Pounds': 11981.499999999987,\n",
      "                   'Total': 22645.41999999998},\n",
      " 'Kale': {'Cost': 5.02, 'Pounds': 12293.1, 'Total': 61711.459999999955},\n",
      " 'Lemon': {'Cost': 1.29,\n",
      "           'Pounds': 12382.499999999995,\n",
      "           'Total': 15973.900000000007},\n",
      " 'Lettuce': {'Cost': 1.88,\n",
      "             'Pounds': 11890.700000000012,\n",
      "             'Total': 22354.53999999999},\n",
      " 'Lime': {'Cost': 1.06,\n",
      "          'Pounds': 11933.700000000019,\n",
      "          'Total': 12649.619999999999},\n",
      " 'Okra': {'Cost': 2.26,\n",
      "          'Pounds': 12960.300000000001,\n",
      "          'Total': 29290.289999999994},\n",
      " 'Orange': {'Cost': 1.09,\n",
      "            'Pounds': 11180.199999999999,\n",
      "            'Total': 12186.800000000007},\n",
      " 'Papaya': {'Cost': 1.34,\n",
      "            'Pounds': 11775.099999999999,\n",
      "            'Total': 15778.549999999992},\n",
      " 'Parsnips': {'Cost': 2.27,\n",
      "              'Pounds': 11270.200000000004,\n",
      "              'Total': 25583.649999999983},\n",
      " 'Potatoes': {'Cost': 0.86,\n",
      "              'Pounds': 12218.69999999999,\n",
      "              'Total': 10508.149999999998},\n",
      " 'Red onion': {'Cost': 0.78,\n",
      "               'Pounds': 12549.100000000006,\n",
      "               'Total': 9788.460000000003},\n",
      " 'Spinach': {'Cost': 4.12,\n",
      "             'Pounds': 11739.600000000006,\n",
      "             'Total': 48367.19000000001},\n",
      " 'Strawberries': {'Cost': 4.4,\n",
      "                  'Pounds': 11692.30000000001,\n",
      "                  'Total': 51446.120000000024},\n",
      " 'Tomatoes': {'Cost': 3.16,\n",
      "              'Pounds': 12015.600000000004,\n",
      "              'Total': 37969.34000000003},\n",
      " 'Watermelon': {'Cost': 0.66,\n",
      "                'Pounds': 11484.500000000004,\n",
      "                'Total': 7579.880000000008},\n",
      " 'Yellow peppers': {'Cost': 2.87,\n",
      "                    'Pounds': 12159.69999999998,\n",
      "                    'Total': 34898.64000000003}}\n"
     ]
    }
   ],
   "source": [
    "import openpyxl\n",
    "\n",
    "wb_sales = openpyxl.load_workbook('produceSales.xlsx', data_only=True)\n",
    "sheet_sales = wb_sales.get_sheet_by_name('Sheet')\n",
    "\n",
    "produceData = {}\n",
    "for i in range(2, sheet_sales.max_row+1):\n",
    "    Produce = sheet_sales['A'+str(i)].value\n",
    "    Cost = sheet_sales['B'+str(i)].value\n",
    "    Pounds = sheet_sales['C'+str(i)].value\n",
    "    Total = sheet_sales['D'+str(i)].value\n",
    "    produceData.setdefault(Produce,{'Cost':0, 'Pounds':0, 'Total':0})\n",
    "    produceData[Produce]['Cost'] = Cost\n",
    "    produceData[Produce]['Pounds'] += Pounds\n",
    "    produceData[Produce]['Total'] += Total #使用了公式，不能直接对value进行float\n",
    "import pprint\n",
    "print(pprint.pformat(produceData))"
   ]
  },
  {
   "cell_type": "code",
   "execution_count": 143,
   "metadata": {
    "collapsed": false
   },
   "outputs": [
    {
     "data": {
      "text/plain": [
       "'=ROUND(B2*C2,2)'"
      ]
     },
     "execution_count": 143,
     "metadata": {},
     "output_type": "execute_result"
    }
   ],
   "source": [
    "# Excel中的公式，在这里是string，难怪没法计算\n",
    "\n",
    "sheet_sales['D2'].value"
   ]
  },
  {
   "cell_type": "markdown",
   "metadata": {},
   "source": [
    "**两个遗留问题：1是浮点小数位，2是total的计算**"
   ]
  },
  {
   "cell_type": "markdown",
   "metadata": {},
   "source": [
    "`load_wordbook()`中，data_only这个参数值设置为True，就能得到公式结果数，而不是公式字面。"
   ]
  },
  {
   "cell_type": "code",
   "execution_count": null,
   "metadata": {
    "collapsed": true
   },
   "outputs": [],
   "source": []
  },
  {
   "cell_type": "code",
   "execution_count": null,
   "metadata": {
    "collapsed": true
   },
   "outputs": [],
   "source": []
  },
  {
   "cell_type": "markdown",
   "metadata": {},
   "source": [
    "--------------又来说作者的厉害了！-------------------------------------------------------"
   ]
  },
  {
   "cell_type": "code",
   "execution_count": 144,
   "metadata": {
    "collapsed": false
   },
   "outputs": [
    {
     "name": "stderr",
     "output_type": "stream",
     "text": [
      "/Users/caimeijuan/anaconda/envs/python35/lib/python3.7/site-packages/ipykernel_launcher.py:4: DeprecationWarning: Call to deprecated function get_sheet_by_name (Use wb[sheetname]).\n",
      "  after removing the cwd from sys.path.\n"
     ]
    }
   ],
   "source": [
    "import openpyxl\n",
    "\n",
    "wb_sales = openpyxl.load_workbook('produceSales.xlsx')\n",
    "sheet_sales = wb_sales.get_sheet_by_name('Sheet')\n",
    "\n",
    "priceUpdates = {\n",
    "    'Garlic':3.07,\n",
    "    'Celery':1.19,\n",
    "    'Lemon':1.27\n",
    "}\n",
    "\n",
    "for i in range(2, sheet_sales.max_row+1):\n",
    "    produceName = sheet_sales.cell(row=i, column=1).value\n",
    "    if produceName in priceUpdates:\n",
    "        sheet_sales.cell(row=i, column=2).value = priceUpdates[produceName]\n",
    "wb_sales.save('updateProduceSales.xlsx')"
   ]
  },
  {
   "cell_type": "markdown",
   "metadata": {},
   "source": [
    "用字典放更新价格，下次更新只要更改字典。好干净清爽～～～～～～"
   ]
  },
  {
   "cell_type": "code",
   "execution_count": 149,
   "metadata": {
    "collapsed": false
   },
   "outputs": [],
   "source": [
    "from openpyxl.styles import Font"
   ]
  },
  {
   "cell_type": "markdown",
   "metadata": {},
   "source": [
    "**Style不能import**，是openpyxl更新的问题，不是python更新的问题。  \n",
    "\n",
    "问题解决见：[python: ImportError: cannot import name 'Style' from 'openpyxl.styles' 解决方法 - explore_inload的博客 - CSDN博客](https://blog.csdn.net/weixin_41569319/article/details/80807006)  \n",
    "\n",
    "作者的更正：[Automate the Boring Stuff with Python](https://automatetheboringstuff.com/chapter12/)"
   ]
  },
  {
   "cell_type": "code",
   "execution_count": 150,
   "metadata": {
    "collapsed": true
   },
   "outputs": [],
   "source": [
    "path = './yazhitieba/'\n",
    "wb = openpyxl.load_workbook(path + 'yazhi.xlsx')"
   ]
  },
  {
   "cell_type": "code",
   "execution_count": 151,
   "metadata": {
    "collapsed": false
   },
   "outputs": [
    {
     "name": "stderr",
     "output_type": "stream",
     "text": [
      "/Users/caimeijuan/anaconda/envs/python35/lib/python3.7/site-packages/ipykernel_launcher.py:1: DeprecationWarning: Call to deprecated function get_active_sheet (Use the .active property).\n",
      "  \"\"\"Entry point for launching an IPython kernel.\n"
     ]
    }
   ],
   "source": [
    "sheet = wb.get_active_sheet()"
   ]
  },
  {
   "cell_type": "code",
   "execution_count": 160,
   "metadata": {
    "collapsed": false
   },
   "outputs": [],
   "source": [
    "# 更改标题行字体\n",
    "italic24Font = Font(size=24, italic=True)\n",
    "for rowCells in sheet['A1':'C1']:\n",
    "    for cell in rowCells:\n",
    "        cell.font = italic24Font\n",
    "wb.save(path + 'yazhi.xlsx')"
   ]
  },
  {
   "cell_type": "code",
   "execution_count": 163,
   "metadata": {
    "collapsed": false
   },
   "outputs": [],
   "source": [
    "# 刚才不小心更新错了单元格（A1-C1写成了A1-A3），回到默认样式来。\n",
    "for rowCells in sheet['A2':'A3']:\n",
    "    for cell in rowCells:\n",
    "        cell.font = 'Normal'\n",
    "wb.save(path + 'yazhi.xlsx') "
   ]
  },
  {
   "cell_type": "markdown",
   "metadata": {},
   "source": [
    "**默认样式的名称来自这里：[openpyxl-样式 – 飞鹊](https://flyingmagpiesdream.wordpress.com/2018/07/25/25/#h-3)**"
   ]
  },
  {
   "cell_type": "markdown",
   "metadata": {},
   "source": [
    "官方文档：[使用样式 - openpyxl 2.6.2文档](https://openpyxl.readthedocs.io/en/stable/styles.html)"
   ]
  },
  {
   "cell_type": "code",
   "execution_count": 1,
   "metadata": {
    "collapsed": false
   },
   "outputs": [
    {
     "name": "stderr",
     "output_type": "stream",
     "text": [
      "/Users/caimeijuan/anaconda/envs/python35/lib/python3.7/site-packages/ipykernel_launcher.py:6: DeprecationWarning: Call to deprecated function get_sheet_by_name (Use wb[sheetname]).\n",
      "  \n"
     ]
    }
   ],
   "source": [
    "import openpyxl\n",
    "from openpyxl.styles import Font, Alignment, PatternFill\n",
    "\n",
    "path = './yazhitieba/'\n",
    "wb = openpyxl.load_workbook(path + 'yazhi.xlsx')\n",
    "sheet = wb.get_sheet_by_name('Tieba')"
   ]
  },
  {
   "cell_type": "code",
   "execution_count": 7,
   "metadata": {
    "collapsed": false
   },
   "outputs": [],
   "source": [
    "# 调整行高、列宽\n",
    "for i in ['A', 'B', 'C']:\n",
    "    sheet.column_dimensions[i].width = 30\n",
    "sheet.row_dimensions[1].height = 40"
   ]
  },
  {
   "cell_type": "code",
   "execution_count": 74,
   "metadata": {
    "collapsed": false
   },
   "outputs": [],
   "source": [
    "# 设置标题样式\n",
    "alignment = Alignment(horizontal='center',vertical='center', wrap_text=False, shrink_to_fit=False, indent=0)\n",
    "font = Font(name='Toppan Bunkyu Midashi Gothic',\\\n",
    "            size=24, bold=False, italic=False, vertAlign=None, underline='none', strike=False, color='FF0C0000')\n",
    "fill = PatternFill(fill_type=None, start_color='FFFFFFFF', end_color='FF0CC000')"
   ]
  },
  {
   "cell_type": "code",
   "execution_count": 21,
   "metadata": {
    "collapsed": true
   },
   "outputs": [],
   "source": [
    "# 对标题行实施样式\n",
    "for rowCells in sheet['A1':'C1']:\n",
    "    for cell in rowCells:\n",
    "        cell.alignment = alignment\n",
    "        cell.font = font\n",
    "        cell.fill = fill"
   ]
  },
  {
   "cell_type": "markdown",
   "metadata": {},
   "source": [
    "##### **自适应列宽**"
   ]
  },
  {
   "cell_type": "markdown",
   "metadata": {},
   "source": [
    "自适应列宽，这个人写了个函数：[python openpyxl列宽自适应 | Ray's Blog](https://www.love4026.org/313773/python-openpyxl%E5%88%97%E5%AE%BD%E8%87%AA%E9%80%82%E5%BA%94/)  \n",
    "这个人有完整的折腾过程，结果是失败：[【部分解决】openpyxl的excel设置列宽自适应+设置行高 – 在路上](https://www.crifan.com/openpyxl_excel_set_auto_adjust_column_width_set_line_height/)  \n",
    "\n",
    "第一个人用的enumerate：[Python enumerate() 函数 | 菜鸟教程](http://www.runoob.com/python/python-func-enumerate.html)"
   ]
  },
  {
   "cell_type": "code",
   "execution_count": 67,
   "metadata": {
    "collapsed": false
   },
   "outputs": [],
   "source": [
    "# 第一行和第一列被忽视了。\n",
    "# ——————不是被忽视，第一列的问题是汉字没算成双倍长度，第一行的问题是没有考虑到字体大小变化了。\n",
    "\n",
    "import re\n",
    "\n",
    "column_widths = []\n",
    "for row in tuple(sheet.rows):\n",
    "    for i, cell in enumerate(row):\n",
    "        if cell.value!=None:\n",
    "            length = len(cell.value)\n",
    "        else:\n",
    "            length = 0\n",
    "            cell.value = ''\n",
    "        \n",
    "        # 如果只需要判断真假，不需要找到文本结果，可以用bool(re.search(Regex, String))\n",
    "        # 找到了求字体大小的参数，但是默认的却是None，所以没法比较大小，确定正确的缩放比例。\n",
    "        if bool(re.search(u\"[\\u4e00-\\u9fa5]+\", cell.value)) or type(cell.font.sz)!=None:  #判断是否含有中文\n",
    "            length = len(cell.value) * 2 #不是严格的自适应列宽。没有考虑其中的英文字符无须双倍。\n",
    "\n",
    "        # 第二行以下：\n",
    "        if len(column_widths) > i:\n",
    "            if length > column_widths[i]:\n",
    "                column_widths[i] = length\n",
    "        else: #第一行\n",
    "            column_widths += [length]\n",
    "\n",
    "for i, column_width in enumerate(column_widths, start=1):\n",
    "    sheet.column_dimensions[openpyxl.cell.cell.get_column_letter(i)].width = column_width"
   ]
  },
  {
   "cell_type": "code",
   "execution_count": 63,
   "metadata": {
    "collapsed": false
   },
   "outputs": [],
   "source": [
    "sheet.insert_rows(1)"
   ]
  },
  {
   "cell_type": "code",
   "execution_count": 68,
   "metadata": {
    "collapsed": false
   },
   "outputs": [],
   "source": [
    "sheet['A1'] = '赵雅芝贴吧'"
   ]
  },
  {
   "cell_type": "code",
   "execution_count": 80,
   "metadata": {
    "collapsed": false
   },
   "outputs": [],
   "source": [
    "sheet.merge_cells('A1:C1')"
   ]
  },
  {
   "cell_type": "code",
   "execution_count": 75,
   "metadata": {
    "collapsed": false
   },
   "outputs": [],
   "source": [
    "cell = sheet['A1']\n",
    "cell.alignment = alignment\n",
    "cell.font = font\n",
    "cell.fill = fill"
   ]
  },
  {
   "cell_type": "code",
   "execution_count": 78,
   "metadata": {
    "collapsed": false
   },
   "outputs": [],
   "source": [
    "sheet.unmerge_cells('A1:C1')"
   ]
  },
  {
   "cell_type": "code",
   "execution_count": 81,
   "metadata": {
    "collapsed": true
   },
   "outputs": [],
   "source": [
    "wb.save(path + 'yazhi.xlsx')"
   ]
  },
  {
   "cell_type": "markdown",
   "metadata": {
    "collapsed": true
   },
   "source": [
    "### 乘法表"
   ]
  },
  {
   "cell_type": "code",
   "execution_count": 131,
   "metadata": {
    "collapsed": false
   },
   "outputs": [
    {
     "name": "stderr",
     "output_type": "stream",
     "text": [
      "/Users/caimeijuan/anaconda/envs/python35/lib/python3.7/site-packages/ipykernel_launcher.py:4: DeprecationWarning: Call to deprecated function get_active_sheet (Use the .active property).\n",
      "  after removing the cwd from sys.path.\n"
     ]
    },
    {
     "name": "stdout",
     "output_type": "stream",
     "text": [
      "请输入乘法表的N：8\n",
      "Done!\n"
     ]
    }
   ],
   "source": [
    "import openpyxl\n",
    "path = './chengfa/'\n",
    "wb = openpyxl.Workbook()\n",
    "sheet = wb.get_active_sheet()\n",
    "\n",
    "# 设置标题样式\n",
    "alignment = Alignment(horizontal='center',vertical='center', wrap_text=False, shrink_to_fit=False, indent=0)\n",
    "font = Font(name='Toppan Bunkyu Midashi Gothic',\\\n",
    "            size=14, bold=False, italic=True, vertAlign=None, underline='none', strike=False, color='FF0C0000')\n",
    "fill = PatternFill(fill_type=None, start_color='FFFFFFFF', end_color='FF0CC000')\n",
    "\n",
    "def multiplication(n):\n",
    "    for i in range(1, n+2):\n",
    "        for j in range(1, n+2):\n",
    "            if i*j==i and i!=1:\n",
    "                sheet.cell(row=i, column=j).value = (i-1)*j\n",
    "                sheet.cell(row=i, column=j).alignment = alignment\n",
    "                sheet.cell(row=i, column=j).font = font\n",
    "                sheet.cell(row=i, column=j).fill = fill\n",
    "            elif i*j==j and j!=1:\n",
    "                sheet.cell(row=i, column=j).value = i*(j-1)\n",
    "                sheet.cell(row=i, column=j).alignment = alignment\n",
    "                sheet.cell(row=i, column=j).font = font\n",
    "                sheet.cell(row=i, column=j).fill = fill                \n",
    "            elif i*j==1:\n",
    "                sheet.cell(row=i, column=j).value = '乘法表'\n",
    "                sheet.cell(row=i, column=j).alignment = alignment\n",
    "                sheet.cell(row=i, column=j).font = font\n",
    "                sheet.cell(row=i, column=j).fill = fill                \n",
    "            else:\n",
    "                sheet.cell(row=i, column=j).value = (i-1)*(j-1)\n",
    "    print('Done!')\n",
    "    \n",
    "multiplication(int(input('请输入乘法表的N：')))\n",
    "wb.save(path+'multiply.xlsx')"
   ]
  },
  {
   "cell_type": "markdown",
   "metadata": {},
   "source": [
    "——————觉得太啰嗦，想改一下。改了1个小时。似乎行数少了，但其实多做了循环，时间代价变大了。——————————————"
   ]
  },
  {
   "cell_type": "code",
   "execution_count": 132,
   "metadata": {
    "collapsed": false
   },
   "outputs": [
    {
     "name": "stderr",
     "output_type": "stream",
     "text": [
      "/Users/caimeijuan/anaconda/envs/python35/lib/python3.7/site-packages/ipykernel_launcher.py:4: DeprecationWarning: Call to deprecated function get_active_sheet (Use the .active property).\n",
      "  after removing the cwd from sys.path.\n"
     ]
    },
    {
     "name": "stdout",
     "output_type": "stream",
     "text": [
      "请输入乘法表的N：7\n",
      "Done!\n"
     ]
    }
   ],
   "source": [
    "import openpyxl\n",
    "path = './chengfa/'\n",
    "wb = openpyxl.Workbook()\n",
    "sheet = wb.get_active_sheet()\n",
    "\n",
    "# 设置标题样式\n",
    "alignment = Alignment(horizontal='center',vertical='center', wrap_text=False, shrink_to_fit=False, indent=0)\n",
    "font = Font(name='Toppan Bunkyu Midashi Gothic',\\\n",
    "            size=14, bold=False, italic=True, vertAlign=None, underline='none', strike=False, color='FF0C0000')\n",
    "fill = PatternFill(fill_type=None, start_color='FFFFFFFF', end_color='FF0CC000')\n",
    "\n",
    "def multiplication(n):\n",
    "    for i in range(2, n+2):\n",
    "        for j in range(2, n+2):\n",
    "            sheet.cell(row=i, column=j).value = (i-1)*(j-1)\n",
    "    for i in range(1, n+2):\n",
    "        sheet.cell(row=1, column=i).value = i-1\n",
    "        sheet.cell(row=i, column=1).value = i-1\n",
    "    sheet.cell(row=1, column=1).value = '乘法表'        \n",
    "    for cell in (list(sheet.rows)[0] + list(sheet.columns)[0]):    #成功取到了第一行和第一列\n",
    "        cell.alignment = alignment\n",
    "        cell.font = font\n",
    "        cell.fill = fill\n",
    "    print('Done!')\n",
    "    \n",
    "multiplication(int(input('请输入乘法表的N：')))\n",
    "wb.save(path+'multiply.xlsx')"
   ]
  },
  {
   "cell_type": "code",
   "execution_count": 135,
   "metadata": {
    "collapsed": false
   },
   "outputs": [
    {
     "name": "stderr",
     "output_type": "stream",
     "text": [
      "/Users/caimeijuan/anaconda/envs/python35/lib/python3.7/site-packages/ipykernel_launcher.py:5: DeprecationWarning: Call to deprecated function get_active_sheet (Use the .active property).\n",
      "  \"\"\"\n"
     ]
    },
    {
     "name": "stdout",
     "output_type": "stream",
     "text": [
      "请输入乘法表的N：9\n",
      "Done!\n"
     ]
    }
   ],
   "source": [
    "import openpyxl\n",
    "from openpyxl.styles import NamedStyle\n",
    "path = './chengfa/'\n",
    "wb = openpyxl.Workbook()\n",
    "sheet = wb.get_active_sheet()\n",
    "\n",
    "# 设置标题样式\n",
    "title_style = NamedStyle(name='title_style')\n",
    "title_style.alignment = Alignment(horizontal='center',vertical='center', wrap_text=False, shrink_to_fit=False, indent=0)\n",
    "title_style.font = Font(name='Toppan Bunkyu Midashi Gothic',\\\n",
    "            size=14, bold=False, italic=True, vertAlign=None, underline='none', strike=False, color='FF0C0000')\n",
    "title_style.fill = PatternFill(fill_type=None, start_color='FFFFFFFF', end_color='FF0CC000')\n",
    "\n",
    "def multiplication(n):\n",
    "    for i in range(2, n+2):\n",
    "        for j in range(2, n+2):\n",
    "            sheet.cell(row=i, column=j).value = (i-1)*(j-1)\n",
    "    for i in range(1, n+2):\n",
    "        sheet.cell(row=1, column=i).value = i-1\n",
    "        sheet.cell(row=i, column=1).value = i-1\n",
    "    sheet.cell(row=1, column=1).value = '乘法表'        \n",
    "    for cell in (list(sheet.rows)[0] + list(sheet.columns)[0]):    #成功取到了第一行和第一列\n",
    "        cell.style = title_style # 用样式名称将设置样式缩为一句\n",
    "    print('Done!')\n",
    "    \n",
    "multiplication(int(input('请输入乘法表的N：')))\n",
    "wb.save(path+'multiply.xlsx')"
   ]
  },
  {
   "cell_type": "code",
   "execution_count": null,
   "metadata": {
    "collapsed": false
   },
   "outputs": [],
   "source": []
  },
  {
   "cell_type": "markdown",
   "metadata": {},
   "source": [
    "### 测绘资质"
   ]
  },
  {
   "cell_type": "code",
   "execution_count": 13,
   "metadata": {
    "collapsed": false
   },
   "outputs": [],
   "source": [
    "#_*_coding:utf-8_*_\n",
    "from selenium import webdriver\n",
    "from selenium.webdriver.chrome.options import Options\n",
    "\n",
    "chrome_options = Options()\n",
    "chrome_options.add_argument('--headless')\n",
    "chrome_options.add_argument('--disable-gpu')\n",
    "path = '/Users/caimeijuan/anaconda/envs/python35/lib/python3.7/site-packages/selenium/webdriver/chrome/chromedriver'\n",
    "browser = webdriver.Chrome(options=chrome_options, executable_path=path)\n",
    "\n",
    "provinces = {\n",
    "    '北 京':'BJ', '上 海':'SH', '天 津':'TJ', '重 庆':'CQ', '河 北':'HEB', '河 南':'HEN', '山 东':'SD', '山 西':'SX', '湖 北':'HB',\\\n",
    "    '湖 南':'HN', '辽 宁':'LN', '吉 林':'JL', '黑龙江':'HL', '江 苏':'JS', '浙 江':'ZJ', '福 建':'FJ', '安 徽':'AH', '广 东':'GD', \\\n",
    "    '广 西':'GX', '江 西':'JX', '四 川':'SC', '贵 州':'GZ', '海 南':'HI', '云 南':'YN', '陕 西':'SN', '甘 肃':'GS', '青 海':'QH', \\\n",
    "    '宁 夏':'NX', '新 疆':'XJ', '西 藏':'XZ', '内蒙古':'NM'\n",
    "}\n",
    "urls = []\n",
    "for key in provinces:\n",
    "    urls.append('http://www.cehuizizhi.com/' + provinces[key] + '/Query/1/1')"
   ]
  },
  {
   "cell_type": "code",
   "execution_count": 14,
   "metadata": {
    "collapsed": false
   },
   "outputs": [
    {
     "name": "stderr",
     "output_type": "stream",
     "text": [
      "/Users/caimeijuan/anaconda/envs/python35/lib/python3.7/site-packages/ipykernel_launcher.py:7: DeprecationWarning: use driver.switch_to.frame instead\n",
      "  import sys\n"
     ]
    },
    {
     "ename": "NoSuchFrameException",
     "evalue": "Message: no such frame\n  (Session info: headless chrome=73.0.3683.103)\n  (Driver info: chromedriver=73.0.3683.68 (47787ec04b6e38e22703e856e101e840b65afe72),platform=Mac OS X 10.14.4 x86_64)\n",
     "output_type": "error",
     "traceback": [
      "\u001b[0;31m---------------------------------------------------------------------------\u001b[0m",
      "\u001b[0;31mNoSuchFrameException\u001b[0m                      Traceback (most recent call last)",
      "\u001b[0;32m<ipython-input-14-8380990d8c70>\u001b[0m in \u001b[0;36m<module>\u001b[0;34m\u001b[0m\n\u001b[1;32m      5\u001b[0m     \u001b[0mbrowser\u001b[0m\u001b[0;34m.\u001b[0m\u001b[0mget\u001b[0m\u001b[0;34m(\u001b[0m\u001b[0murl\u001b[0m\u001b[0;34m)\u001b[0m\u001b[0;34m\u001b[0m\u001b[0;34m\u001b[0m\u001b[0m\n\u001b[1;32m      6\u001b[0m     \u001b[0mbrowser\u001b[0m\u001b[0;34m.\u001b[0m\u001b[0mimplicitly_wait\u001b[0m\u001b[0;34m(\u001b[0m\u001b[0;36m5\u001b[0m\u001b[0;34m)\u001b[0m\u001b[0;34m\u001b[0m\u001b[0;34m\u001b[0m\u001b[0m\n\u001b[0;32m----> 7\u001b[0;31m     \u001b[0mbrowser\u001b[0m\u001b[0;34m.\u001b[0m\u001b[0mswitch_to_frame\u001b[0m\u001b[0;34m(\u001b[0m\u001b[0;34m'iframeShow'\u001b[0m\u001b[0;34m)\u001b[0m \u001b[0;31m#需要进入iframe\u001b[0m\u001b[0;34m\u001b[0m\u001b[0;34m\u001b[0m\u001b[0m\n\u001b[0m\u001b[1;32m      8\u001b[0m     \u001b[0mbrowser\u001b[0m\u001b[0;34m.\u001b[0m\u001b[0mimplicitly_wait\u001b[0m\u001b[0;34m(\u001b[0m\u001b[0;36m5\u001b[0m\u001b[0;34m)\u001b[0m\u001b[0;34m\u001b[0m\u001b[0;34m\u001b[0m\u001b[0m\n\u001b[1;32m      9\u001b[0m     \u001b[0ms1\u001b[0m \u001b[0;34m=\u001b[0m \u001b[0mwebdriver\u001b[0m\u001b[0;34m.\u001b[0m\u001b[0msupport\u001b[0m\u001b[0;34m.\u001b[0m\u001b[0mui\u001b[0m\u001b[0;34m.\u001b[0m\u001b[0mSelect\u001b[0m\u001b[0;34m(\u001b[0m\u001b[0mbrowser\u001b[0m\u001b[0;34m.\u001b[0m\u001b[0mfind_element_by_id\u001b[0m\u001b[0;34m(\u001b[0m\u001b[0;34m'sltProvince'\u001b[0m\u001b[0;34m)\u001b[0m\u001b[0;34m)\u001b[0m\u001b[0;34m\u001b[0m\u001b[0;34m\u001b[0m\u001b[0m\n",
      "\u001b[0;32m~/anaconda/envs/python35/lib/python3.7/site-packages/selenium/webdriver/remote/webdriver.py\u001b[0m in \u001b[0;36mswitch_to_frame\u001b[0;34m(self, frame_reference)\u001b[0m\n\u001b[1;32m    787\u001b[0m         warnings.warn(\"use driver.switch_to.frame instead\",\n\u001b[1;32m    788\u001b[0m                       DeprecationWarning, stacklevel=2)\n\u001b[0;32m--> 789\u001b[0;31m         \u001b[0mself\u001b[0m\u001b[0;34m.\u001b[0m\u001b[0m_switch_to\u001b[0m\u001b[0;34m.\u001b[0m\u001b[0mframe\u001b[0m\u001b[0;34m(\u001b[0m\u001b[0mframe_reference\u001b[0m\u001b[0;34m)\u001b[0m\u001b[0;34m\u001b[0m\u001b[0;34m\u001b[0m\u001b[0m\n\u001b[0m\u001b[1;32m    790\u001b[0m \u001b[0;34m\u001b[0m\u001b[0m\n\u001b[1;32m    791\u001b[0m     \u001b[0;32mdef\u001b[0m \u001b[0mswitch_to_default_content\u001b[0m\u001b[0;34m(\u001b[0m\u001b[0mself\u001b[0m\u001b[0;34m)\u001b[0m\u001b[0;34m:\u001b[0m\u001b[0;34m\u001b[0m\u001b[0;34m\u001b[0m\u001b[0m\n",
      "\u001b[0;32m~/anaconda/envs/python35/lib/python3.7/site-packages/selenium/webdriver/remote/switch_to.py\u001b[0m in \u001b[0;36mframe\u001b[0;34m(self, frame_reference)\u001b[0m\n\u001b[1;32m     87\u001b[0m                     \u001b[0;32mraise\u001b[0m \u001b[0mNoSuchFrameException\u001b[0m\u001b[0;34m(\u001b[0m\u001b[0mframe_reference\u001b[0m\u001b[0;34m)\u001b[0m\u001b[0;34m\u001b[0m\u001b[0;34m\u001b[0m\u001b[0m\n\u001b[1;32m     88\u001b[0m \u001b[0;34m\u001b[0m\u001b[0m\n\u001b[0;32m---> 89\u001b[0;31m         \u001b[0mself\u001b[0m\u001b[0;34m.\u001b[0m\u001b[0m_driver\u001b[0m\u001b[0;34m.\u001b[0m\u001b[0mexecute\u001b[0m\u001b[0;34m(\u001b[0m\u001b[0mCommand\u001b[0m\u001b[0;34m.\u001b[0m\u001b[0mSWITCH_TO_FRAME\u001b[0m\u001b[0;34m,\u001b[0m \u001b[0;34m{\u001b[0m\u001b[0;34m'id'\u001b[0m\u001b[0;34m:\u001b[0m \u001b[0mframe_reference\u001b[0m\u001b[0;34m}\u001b[0m\u001b[0;34m)\u001b[0m\u001b[0;34m\u001b[0m\u001b[0;34m\u001b[0m\u001b[0m\n\u001b[0m\u001b[1;32m     90\u001b[0m \u001b[0;34m\u001b[0m\u001b[0m\n\u001b[1;32m     91\u001b[0m     \u001b[0;32mdef\u001b[0m \u001b[0mparent_frame\u001b[0m\u001b[0;34m(\u001b[0m\u001b[0mself\u001b[0m\u001b[0;34m)\u001b[0m\u001b[0;34m:\u001b[0m\u001b[0;34m\u001b[0m\u001b[0;34m\u001b[0m\u001b[0m\n",
      "\u001b[0;32m~/anaconda/envs/python35/lib/python3.7/site-packages/selenium/webdriver/remote/webdriver.py\u001b[0m in \u001b[0;36mexecute\u001b[0;34m(self, driver_command, params)\u001b[0m\n\u001b[1;32m    319\u001b[0m         \u001b[0mresponse\u001b[0m \u001b[0;34m=\u001b[0m \u001b[0mself\u001b[0m\u001b[0;34m.\u001b[0m\u001b[0mcommand_executor\u001b[0m\u001b[0;34m.\u001b[0m\u001b[0mexecute\u001b[0m\u001b[0;34m(\u001b[0m\u001b[0mdriver_command\u001b[0m\u001b[0;34m,\u001b[0m \u001b[0mparams\u001b[0m\u001b[0;34m)\u001b[0m\u001b[0;34m\u001b[0m\u001b[0;34m\u001b[0m\u001b[0m\n\u001b[1;32m    320\u001b[0m         \u001b[0;32mif\u001b[0m \u001b[0mresponse\u001b[0m\u001b[0;34m:\u001b[0m\u001b[0;34m\u001b[0m\u001b[0;34m\u001b[0m\u001b[0m\n\u001b[0;32m--> 321\u001b[0;31m             \u001b[0mself\u001b[0m\u001b[0;34m.\u001b[0m\u001b[0merror_handler\u001b[0m\u001b[0;34m.\u001b[0m\u001b[0mcheck_response\u001b[0m\u001b[0;34m(\u001b[0m\u001b[0mresponse\u001b[0m\u001b[0;34m)\u001b[0m\u001b[0;34m\u001b[0m\u001b[0;34m\u001b[0m\u001b[0m\n\u001b[0m\u001b[1;32m    322\u001b[0m             response['value'] = self._unwrap_value(\n\u001b[1;32m    323\u001b[0m                 response.get('value', None))\n",
      "\u001b[0;32m~/anaconda/envs/python35/lib/python3.7/site-packages/selenium/webdriver/remote/errorhandler.py\u001b[0m in \u001b[0;36mcheck_response\u001b[0;34m(self, response)\u001b[0m\n\u001b[1;32m    240\u001b[0m                 \u001b[0malert_text\u001b[0m \u001b[0;34m=\u001b[0m \u001b[0mvalue\u001b[0m\u001b[0;34m[\u001b[0m\u001b[0;34m'alert'\u001b[0m\u001b[0;34m]\u001b[0m\u001b[0;34m.\u001b[0m\u001b[0mget\u001b[0m\u001b[0;34m(\u001b[0m\u001b[0;34m'text'\u001b[0m\u001b[0;34m)\u001b[0m\u001b[0;34m\u001b[0m\u001b[0;34m\u001b[0m\u001b[0m\n\u001b[1;32m    241\u001b[0m             \u001b[0;32mraise\u001b[0m \u001b[0mexception_class\u001b[0m\u001b[0;34m(\u001b[0m\u001b[0mmessage\u001b[0m\u001b[0;34m,\u001b[0m \u001b[0mscreen\u001b[0m\u001b[0;34m,\u001b[0m \u001b[0mstacktrace\u001b[0m\u001b[0;34m,\u001b[0m \u001b[0malert_text\u001b[0m\u001b[0;34m)\u001b[0m\u001b[0;34m\u001b[0m\u001b[0;34m\u001b[0m\u001b[0m\n\u001b[0;32m--> 242\u001b[0;31m         \u001b[0;32mraise\u001b[0m \u001b[0mexception_class\u001b[0m\u001b[0;34m(\u001b[0m\u001b[0mmessage\u001b[0m\u001b[0;34m,\u001b[0m \u001b[0mscreen\u001b[0m\u001b[0;34m,\u001b[0m \u001b[0mstacktrace\u001b[0m\u001b[0;34m)\u001b[0m\u001b[0;34m\u001b[0m\u001b[0;34m\u001b[0m\u001b[0m\n\u001b[0m\u001b[1;32m    243\u001b[0m \u001b[0;34m\u001b[0m\u001b[0m\n\u001b[1;32m    244\u001b[0m     \u001b[0;32mdef\u001b[0m \u001b[0m_value_or_default\u001b[0m\u001b[0;34m(\u001b[0m\u001b[0mself\u001b[0m\u001b[0;34m,\u001b[0m \u001b[0mobj\u001b[0m\u001b[0;34m,\u001b[0m \u001b[0mkey\u001b[0m\u001b[0;34m,\u001b[0m \u001b[0mdefault\u001b[0m\u001b[0;34m)\u001b[0m\u001b[0;34m:\u001b[0m\u001b[0;34m\u001b[0m\u001b[0;34m\u001b[0m\u001b[0m\n",
      "\u001b[0;31mNoSuchFrameException\u001b[0m: Message: no such frame\n  (Session info: headless chrome=73.0.3683.103)\n  (Driver info: chromedriver=73.0.3683.68 (47787ec04b6e38e22703e856e101e840b65afe72),platform=Mac OS X 10.14.4 x86_64)\n"
     ]
    }
   ],
   "source": [
    "path = './cehui/'\n",
    "\n",
    "for key, url in zip(provinces,urls):\n",
    "    file = open(path + provinces[key]  +'.txt', 'w+')\n",
    "    browser.get(url)\n",
    "    browser.implicitly_wait(5)\n",
    "    browser.switch_to_frame('iframeShow') #需要进入iframe\n",
    "    browser.implicitly_wait(5)\n",
    "    s1 = webdriver.support.ui.Select(browser.find_element_by_id('sltProvince'))\n",
    "    s1.select_by_index(1)\n",
    "    s2 = webdriver.support.ui.Select(browser.find_element_by_id('DropLevl'))\n",
    "    s2.select_by_index(3)\n",
    "    btnSubmit = browser.find_element_by_name('BtnSearch')\n",
    "    btnSubmit.click()\n",
    "    browser.implicitly_wait(20) #让浏览器等待一下，最长等10秒。看看数据有没有加载出来。\n",
    "    # 如果存txt，这样就可以了。\n",
    "    table = browser.find_elements_by_tag_name('tbody')[2]\n",
    "    file.write(table.text)\n",
    "    file.close()\n",
    "browser.close() #浏览器用完也需要关掉"
   ]
  },
  {
   "cell_type": "code",
   "execution_count": null,
   "metadata": {
    "collapsed": false,
    "scrolled": false
   },
   "outputs": [],
   "source": [
    "#_*_coding:utf-8_*_\n",
    "from selenium import webdriver\n",
    "from selenium.webdriver.chrome.options import Options\n",
    "\n",
    "chrome_options = Options()\n",
    "chrome_options.add_argument('--headless')\n",
    "chrome_options.add_argument('--disable-gpu')\n",
    "path = '/Users/caimeijuan/anaconda/envs/python35/lib/python3.7/site-packages/selenium/webdriver/chrome/chromedriver'\n",
    "browser = webdriver.Chrome(options=chrome_options, executable_path=path)\n",
    "\n",
    "url = 'http://www.cehuizizhi.com/GD/Query/1/1'\n",
    "browser.get(url)\n",
    "browser.implicitly_wait(5)\n",
    "browser.switch_to_frame('iframeShow') #需要进入iframe\n",
    "s1 = webdriver.support.ui.Select(browser.find_element_by_xpath('//*[@id=\"sltProvince\"]'))\n",
    "s1.select_by_index(1)\n",
    "s2 = webdriver.support.ui.Select(browser.find_element_by_id('DropLevl'))\n",
    "s2.select_by_index(2)\n",
    "btnSubmit = browser.find_element_by_name('BtnSearch')\n",
    "btnSubmit.send_keys(webdriver.common.keys.Keys.ENTER)\n",
    "# btnSubmit.click()\n",
    "browser.implicitly_wait(15)\n",
    "table = browser.find_elements_by_tag_name('tbody')[2]\n",
    "print(table.text)\n",
    "browser.close()"
   ]
  },
  {
   "cell_type": "markdown",
   "metadata": {
    "collapsed": false
   },
   "source": [
    "突然觉得昨天txt文件只有表头，是不是因为没有等待足够的时间？于是搜索了等待时间，[Python selenium —— 一定要会用selenium的等待，三种等待方式解读 - 灰蓝 - CSDN博客](https://blog.csdn.net/huilan_same/article/details/52544521)\n",
    "\n",
    "一会儿说没有这个frame，一会儿又只出表头。但昨天明明是看到内容的啊。  \n",
    "```\n",
    " ---------------------------------------------------------------------------\n",
    " NoSuchFrameException                      Traceback (most recent call last)\n",
    " <ipython-input-7-ca6a58f20130> in <module>\n",
    "```\n",
    "这里有个嵌套frame的应对办法：[python - Selenium Webdriver give NoSuchFrameException - Stack Overflow](https://stackoverflow.com/questions/28778142/selenium-webdriver-give-nosuchframeexception)  但是我的页面里没有嵌套frame。"
   ]
  },
  {
   "cell_type": "markdown",
   "metadata": {
    "collapsed": false
   },
   "source": [
    "## 图像"
   ]
  },
  {
   "cell_type": "code",
   "execution_count": 29,
   "metadata": {
    "collapsed": false
   },
   "outputs": [
    {
     "data": {
      "text/plain": [
       "(100, 149, 237, 255)"
      ]
     },
     "execution_count": 29,
     "metadata": {},
     "output_type": "execute_result"
    }
   ],
   "source": [
    "from PIL import ImageColor\n",
    "\n",
    "ImageColor.getcolor('red', 'RGBA')\n",
    "ImageColor.getcolor('RED', 'RGBA')\n",
    "type(ImageColor.getcolor('CHOCOLATE', 'RGBA'))\n",
    "ImageColor.getcolor('CornflowerBlue', 'RGBA')"
   ]
  },
  {
   "cell_type": "code",
   "execution_count": 46,
   "metadata": {
    "collapsed": false
   },
   "outputs": [
    {
     "name": "stdout",
     "output_type": "stream",
     "text": [
      "(816, 1088)\n"
     ]
    }
   ],
   "source": [
    "from PIL import Image\n",
    "\n",
    "catIm = Image.open('zophie.png')\n",
    "print(catIm.size)\n",
    "type(catIm.size)\n",
    "width, height = catIm.size\n",
    "catIm.filename\n",
    "catIm.format\n",
    "catIm.format_description\n",
    "\n",
    "catIm.save('zophie.jpg')\n",
    "\n",
    "im1 = Image.new('RGBA', (100, 200), 'CornflowerBlue')\n",
    "im1.save('cornflower.png')\n",
    "\n",
    "im2 = Image.new('RGBA', (200, 200))\n",
    "im2.save('transparent.png')\n",
    "\n",
    "croppedIm = catIm.crop((335, 345, 565, 560))\n",
    "croppedIm.save('cropped.png')\n",
    "\n",
    "catCopyIm = catIm.copy()\n",
    "catCopyIm.paste(croppedIm, (0,0))\n",
    "catCopyIm.save('pasted.png')\n",
    "\n",
    "faceWidth, faceHeight = croppedIm.size\n",
    "for left in range(0, width, faceWidth):\n",
    "    for top in range(0, height, faceHeight):\n",
    "        #print(left, top)\n",
    "        catCopyIm.paste(croppedIm, (left,top))\n",
    "catCopyIm.save('tiled.png')\n",
    "\n",
    "quartersizeIm = catIm.resize((int(width/2), int(height/2)))\n",
    "quartersizeIm.save('quartersized.png')\n",
    "\n",
    "svelteIm = catIm.resize((width, height+300))\n",
    "svelteIm.save('svelte.png')\n",
    "\n",
    "catIm.rotate(90).save('rotate90.png')\n",
    "catIm.rotate(180).save('rotate180.png')\n",
    "catIm.rotate(270).save('rotate270.png')\n",
    "\n",
    "rotate90 = Image.open('rotate90.png')\n",
    "rotate90.size\n",
    "\n",
    "catIm.rotate(6).save('rotate.png')\n",
    "catIm.rotate(6, expand=True).save('rotate-expand.png')\n",
    "catIm.transpose(Image.FLIP_LEFT_RIGHT).save('horizontal.png')\n",
    "catIm.transpose(Image.FLIP_TOP_BOTTOM).save('vertical.png')"
   ]
  },
  {
   "cell_type": "code",
   "execution_count": 31,
   "metadata": {
    "collapsed": true
   },
   "outputs": [],
   "source": [
    "im = Image.new('RGBA', (256,256))\n",
    "for x in range(256):\n",
    "    for y in range(256):\n",
    "        im.putpixel((x,y),(y,y,y))\n",
    "im.save('putPixel.png')"
   ]
  },
  {
   "cell_type": "code",
   "execution_count": 33,
   "metadata": {
    "collapsed": false
   },
   "outputs": [],
   "source": [
    "for x in range(256):\n",
    "    for y in range(256):\n",
    "        im.putpixel((x,y),(x,x,x))\n",
    "im.save('putPixelr.png')"
   ]
  },
  {
   "cell_type": "code",
   "execution_count": 47,
   "metadata": {
    "collapsed": false
   },
   "outputs": [
    {
     "name": "stdout",
     "output_type": "stream",
     "text": [
      "Resizing rotate180.png...\n",
      "Adding logo to rotate180.png...\n",
      "Adding logo to putPixelr.png...\n",
      "Adding logo to cropped.png...\n",
      "Resizing quartersized.png...\n",
      "Adding logo to quartersized.png...\n",
      "Adding logo to cornflower.png...\n",
      "Resizing rotate90.png...\n",
      "Adding logo to rotate90.png...\n",
      "Adding logo to putPixel.png...\n",
      "Resizing vertical.png...\n",
      "Adding logo to vertical.png...\n",
      "Resizing rotate.png...\n",
      "Adding logo to rotate.png...\n",
      "Resizing rotate-expand.png...\n",
      "Adding logo to rotate-expand.png...\n",
      "Resizing horizontal.png...\n",
      "Adding logo to horizontal.png...\n",
      "Resizing zophie.png...\n",
      "Adding logo to zophie.png...\n",
      "Resizing zophie.jpg...\n",
      "Adding logo to zophie.jpg...\n",
      "Resizing rotate270.png...\n",
      "Adding logo to rotate270.png...\n",
      "Resizing pasted.png...\n",
      "Adding logo to pasted.png...\n",
      "Resizing tiled.png...\n",
      "Adding logo to tiled.png...\n",
      "Adding logo to transparent.png...\n",
      "Resizing svelte.png...\n",
      "Adding logo to svelte.png...\n"
     ]
    }
   ],
   "source": [
    "import os\n",
    "from PIL import Image\n",
    "\n",
    "SQUARE_FIT_SIZE = 300\n",
    "LOGO_FILENAME = 'catlogo.png'\n",
    "\n",
    "logoIm = Image.open(LOGO_FILENAME)\n",
    "logoWidth, logoHeight = logoIm.size\n",
    "logoIm = logoIm.resize((logoWidth//10, logoHeight//10))\n",
    "logoWidth, logoHeight = logoIm.size\n",
    "\n",
    "os.makedirs('withlogo', exist_ok=True)\n",
    "\n",
    "for filename in os.listdir('.'):\n",
    "    if not (filename.endswith('.png') or filename.endswith('.jpg')) or filename==LOGO_FILENAME: \n",
    "        continue\n",
    "    im = Image.open(filename)\n",
    "    width, height = im.size\n",
    "    if width> SQUARE_FIT_SIZE and height>SQUARE_FIT_SIZE:\n",
    "        if width>height:\n",
    "            height = int(SQUARE_FIT_SIZE/width*height)\n",
    "            width = SQUARE_FIT_SIZE\n",
    "        else:\n",
    "            width = int(SQUARE_FIT_SIZE/height*width)\n",
    "            height = SQUARE_FIT_SIZE            \n",
    "        print('Resizing %s...'%filename)\n",
    "        im = im.resize((width, height))\n",
    "    print('Adding logo to %s...'%filename)\n",
    "    im.paste(logoIm, (width-logoWidth, height-logoHeight), logoIm)\n",
    "    \n",
    "    im.save(os.path.join('withlogo', filename))"
   ]
  },
  {
   "cell_type": "code",
   "execution_count": 57,
   "metadata": {
    "collapsed": false
   },
   "outputs": [],
   "source": [
    "from PIL import Image, ImageDraw\n",
    "\n",
    "im = Image.new('RGBA', (200,200), 'white')\n",
    "draw = ImageDraw.Draw(im)\n",
    "\n",
    "draw.line([(0,0), (199,0), (199,199), (0,199), (0,0)], fill='red')\n",
    "draw.rectangle((20,30,60,60), fill='blue', outline='red')\n",
    "draw.ellipse((120,30,160,70), fill='red', outline='blue')\n",
    "draw.polygon(((57,87),(79,62),(94,85),(120,90),(103,113)), fill='brown', outline='yellow')\n",
    "\n",
    "for i in range(100,200,5):\n",
    "    draw.line([(i,0),(200,i-100)], fill='green')\n",
    "im.save('drawing.png')"
   ]
  },
  {
   "cell_type": "code",
   "execution_count": 78,
   "metadata": {
    "collapsed": false
   },
   "outputs": [],
   "source": [
    "from PIL import Image, ImageDraw, ImageFont\n",
    "import os\n",
    "\n",
    "im = Image.new('RGBA', (200,200), 'white')\n",
    "draw = ImageDraw.Draw(im)\n",
    "\n",
    "draw.text((20,150),'Hello', fill='purple')\n",
    "\n",
    "fontsFolder = '/System/Library/Fonts/'\n",
    "#os.listdir(fontsFolder) #列出目录下的文件名，检查目录是否正确\n",
    "arialFont = ImageFont.truetype(os.path.join(fontsFolder, 'Menlo.ttc'), 32)\n",
    "draw.text((100,150), 'Howdy', fill='gray', font=arialFont)\n",
    "\n",
    "im.save('text.png')"
   ]
  },
  {
   "cell_type": "markdown",
   "metadata": {
    "collapsed": false
   },
   "source": [
    "## pdf和word"
   ]
  },
  {
   "cell_type": "markdown",
   "metadata": {},
   "source": [
    "### pdf"
   ]
  },
  {
   "cell_type": "code",
   "execution_count": 1,
   "metadata": {
    "collapsed": true
   },
   "outputs": [],
   "source": [
    "import PyPDF2\n",
    "import os"
   ]
  },
  {
   "cell_type": "code",
   "execution_count": 2,
   "metadata": {
    "collapsed": false
   },
   "outputs": [
    {
     "data": {
      "text/plain": [
       "19"
      ]
     },
     "execution_count": 2,
     "metadata": {},
     "output_type": "execute_result"
    }
   ],
   "source": [
    "pdfFileObj = open(os.path.dirname(os.getcwd()) + '/files/' + 'meetingminutes.pdf', 'rb')\n",
    "pdfReader = PyPDF2.PdfFileReader(pdfFileObj)\n",
    "pdfReader.numPages"
   ]
  },
  {
   "cell_type": "code",
   "execution_count": 4,
   "metadata": {
    "collapsed": false
   },
   "outputs": [
    {
     "name": "stdout",
     "output_type": "stream",
     "text": [
      "OOFFFFIICCIIAALL  BBOOAARRDD  MMIINNUUTTEESS   Meeting of \n",
      "March 7\n",
      ", 2014\n",
      "        \n",
      "     The Board of Elementary and Secondary Education shall provide leadership and \n",
      "create policies for education that expand opportunities for children, empower \n",
      "families and communities, and advance Louisiana in an increasingly \n",
      "competitive glob\n",
      "al market.\n",
      " BOARD \n",
      " of ELEMENTARY\n",
      " and \n",
      " SECONDARY\n",
      " EDUCATION\n",
      "  \n"
     ]
    }
   ],
   "source": [
    "pageObj = pdfReader.getPage(0)\n",
    "print(pageObj.extractText())"
   ]
  },
  {
   "cell_type": "markdown",
   "metadata": {},
   "source": [
    "#### 加密文档🔐"
   ]
  },
  {
   "cell_type": "code",
   "execution_count": 9,
   "metadata": {
    "collapsed": false
   },
   "outputs": [
    {
     "name": "stdout",
     "output_type": "stream",
     "text": [
      "True\n"
     ]
    },
    {
     "data": {
      "text/plain": [
       "1"
      ]
     },
     "execution_count": 9,
     "metadata": {},
     "output_type": "execute_result"
    }
   ],
   "source": [
    "pdfReader = PyPDF2.PdfFileReader(open(os.path.dirname(os.getcwd()) + '/files/encrypted.pdf','rb'))\n",
    "print(pdfReader.isEncrypted)\n",
    "pdfReader.decrypt('rosebud')"
   ]
  },
  {
   "cell_type": "code",
   "execution_count": 11,
   "metadata": {
    "collapsed": false,
    "scrolled": true
   },
   "outputs": [
    {
     "name": "stdout",
     "output_type": "stream",
     "text": [
      "19\n",
      "OOFFFFIICCIIAALL  BB\n"
     ]
    }
   ],
   "source": [
    "print(pdfReader.numPages)\n",
    "pageObj = pdfReader.getPage(0)\n",
    "print(pageObj.extractText()[:20])"
   ]
  },
  {
   "cell_type": "code",
   "execution_count": 16,
   "metadata": {
    "collapsed": true
   },
   "outputs": [],
   "source": [
    "pdfReader = PyPDF2.PdfFileReader(open(os.path.dirname(os.getcwd()) + '/files/meetingminutes.pdf', 'rb'))\n",
    "pdfWriter = PyPDF2.PdfFileWriter()\n",
    "\n",
    "for pageNum in range(pdfReader.numPages):\n",
    "    pdfWriter.addPage(pdfReader.getPage(pageNum))\n",
    "    \n",
    "pdfWriter.encrypt('swordfish')\n",
    "resultPdf = open(os.path.dirname(os.getcwd()) + '/files/encryptedminutes.pdf', 'wb')\n",
    "pdfWriter.write(resultPdf)\n",
    "resultPdf.close()"
   ]
  },
  {
   "cell_type": "markdown",
   "metadata": {},
   "source": [
    "#### 合并文档"
   ]
  },
  {
   "cell_type": "code",
   "execution_count": 13,
   "metadata": {
    "collapsed": false
   },
   "outputs": [],
   "source": [
    "pdf1File = open(os.path.dirname(os.getcwd()) + '/files/meetingminutes.pdf', 'rb')\n",
    "pdf2File = open(os.path.dirname(os.getcwd()) + '/files/meetingminutes2.pdf', 'rb')\n",
    "\n",
    "pdf1Reader = PyPDF2.PdfFileReader(pdf1File)\n",
    "pdf2Reader = PyPDF2.PdfFileReader(pdf2File)\n",
    "pdfWriter = PyPDF2.PdfFileWriter()\n",
    "\n",
    "for pageNum in range(pdf1Reader.numPages):\n",
    "    pageObj = pdf1Reader.getPage(pageNum)\n",
    "    pdfWriter.addPage(pageObj)\n",
    "    \n",
    "for pageNum in range(pdf2Reader.numPages):\n",
    "    pageObj = pdf2Reader.getPage(pageNum)\n",
    "    pdfWriter.addPage(pageObj)\n",
    "    \n",
    "pdfOutputFile = open(os.path.dirname(os.getcwd()) + '/files/combinedminutes.pdf', 'wb')\n",
    "pdfWriter.write(pdfOutputFile)\n",
    "pdfOutputFile.close()\n",
    "pdf1File.close()\n",
    "pdf2File.close()"
   ]
  },
  {
   "cell_type": "code",
   "execution_count": 15,
   "metadata": {
    "collapsed": false
   },
   "outputs": [],
   "source": [
    "minutesFile = open(os.path.dirname(os.getcwd()) + '/files/meetingminutes.pdf', 'rb')\n",
    "pdfReader = PyPDF2.PdfFileReader(minutesFile)\n",
    "minutesFirstPage = pdfReader.getPage(0)\n",
    "pdfWatermarkReader = PyPDF2.PdfFileReader(open(os.path.dirname(os.getcwd()) + '/files/watermark.pdf', 'rb'))\n",
    "minutesFirstPage.mergePage(pdfWatermarkReader.getPage(0))\n",
    "\n",
    "pdfWriter = PyPDF2.PdfFileWriter()\n",
    "pdfWriter.addPage(minutesFirstPage)\n",
    "\n",
    "for pageNum in range(1, pdfReader.numPages):\n",
    "    pageObj = pdfReader.getPage(pageNum)\n",
    "    pdfWriter.addPage(pageObj)\n",
    "    \n",
    "resultFile = open(os.path.dirname(os.getcwd()) + '/files/watermarkedCover.pdf', 'wb')\n",
    "pdfWriter.write(resultFile)\n",
    "minutesFile.close()\n",
    "resultFile.close()"
   ]
  },
  {
   "cell_type": "markdown",
   "metadata": {
    "collapsed": false
   },
   "source": [
    "#### 整合pdf文件——日本拉面  \n",
    "\n",
    "看到Google趋势里有日本拉面、荞麦面和越南粉三种食物，其中日本拉面搜索的人最多。于是拿这个作主题，搜了一堆pdf文件。"
   ]
  },
  {
   "cell_type": "code",
   "execution_count": 30,
   "metadata": {
    "collapsed": false
   },
   "outputs": [],
   "source": [
    "import PyPDF2\n",
    "import os\n",
    "\n",
    "# 取pdf文件\n",
    "pdfFiles = []\n",
    "for filename in os.listdir(os.path.dirname(os.getcwd()) + '/files/ramen'):\n",
    "    if filename.endswith('.pdf'):\n",
    "        pdfFiles.append(filename)\n",
    "\n",
    "# pdf文件排序        \n",
    "pdfFiles.sort(key=str.lower)\n",
    "\n",
    "# 添加每个文件的每一页到pdfWriter中\n",
    "pdfWriter = PyPDF2.PdfFileWriter()\n",
    "for filename in pdfFiles:\n",
    "    with open(os.path.dirname(os.getcwd()) + '/files/ramen/' + filename, 'rb') as pdfFileObj:\n",
    "        pdfReader = PyPDF2.PdfFileReader(pdfFileObj)\n",
    "        for pageNum in range(pdfReader.numPages):\n",
    "            pageObj = pdfReader.getPage(pageNum)\n",
    "            pdfWriter.addPage(pageObj)\n",
    "        \n",
    "# 保存添加结果\n",
    "with open(os.path.dirname(os.getcwd()) + '/files/ramen/result_ramen.pdf', 'wb') as resultFile:\n",
    "    pdfWriter.write(resultFile)"
   ]
  },
  {
   "cell_type": "code",
   "execution_count": 45,
   "metadata": {
    "collapsed": false
   },
   "outputs": [],
   "source": [
    "import PyPDF2, os\n",
    "\n",
    "# 取pdf文件\n",
    "pdfFiles = []\n",
    "for filename in os.listdir(os.path.dirname(os.getcwd()) + '/files/ramen'):\n",
    "    if filename.endswith('.pdf'):\n",
    "        pdfFiles.append(filename)\n",
    "\n",
    "# pdf文件排序        \n",
    "pdfFiles.sort(key=str.lower)\n",
    "\n",
    "# 添加每个文件的每一页到pdfWriter中\n",
    "pdfWriter = PyPDF2.PdfFileWriter()\n",
    "for filename in pdfFiles:\n",
    "    pdfFileObj = open(os.path.dirname(os.getcwd()) + '/files/ramen/' + filename, 'rb')\n",
    "    pdfReader = PyPDF2.PdfFileReader(pdfFileObj)\n",
    "    for pageNum in range(pdfReader.numPages):\n",
    "        pageObj = pdfReader.getPage(pageNum)\n",
    "        pdfWriter.addPage(pageObj)\n",
    "    # pdfFileObj.close()\n",
    "        \n",
    "# 保存添加结果\n",
    "resultFile = open(os.path.dirname(os.getcwd()) + '/files/ramen/result_ramen.pdf', 'wb')\n",
    "pdfWriter.write(resultFile)\n",
    "resultFile.close()"
   ]
  },
  {
   "cell_type": "markdown",
   "metadata": {},
   "source": [
    "#### 暴力破解密码"
   ]
  },
  {
   "cell_type": "code",
   "execution_count": 38,
   "metadata": {
    "collapsed": false
   },
   "outputs": [
    {
     "name": "stdout",
     "output_type": "stream",
     "text": [
      "rosebud\n"
     ]
    }
   ],
   "source": [
    "import PyPDF2, os\n",
    "\n",
    "pdfReader = PyPDF2.PdfFileReader(open(os.path.dirname(os.getcwd()) + '/files/pdf/encrypted.pdf','rb'))\n",
    "\n",
    "file = open(os.path.dirname(os.getcwd()) + '/files/pdf/dictionary.txt')\n",
    "for word in file.readlines():\n",
    "    word = word.split('\\n')[0].lower()\n",
    "    if pdfReader.decrypt(word) == 1:\n",
    "        print(word)\n",
    "        break"
   ]
  },
  {
   "cell_type": "markdown",
   "metadata": {},
   "source": [
    "### word文档"
   ]
  },
  {
   "cell_type": "code",
   "execution_count": 1,
   "metadata": {
    "collapsed": false
   },
   "outputs": [
    {
     "data": {
      "text/plain": [
       "7"
      ]
     },
     "execution_count": 1,
     "metadata": {},
     "output_type": "execute_result"
    }
   ],
   "source": [
    "import docx, os\n",
    "\n",
    "doc = docx.Document(os.path.dirname(os.getcwd()) + '/files/word/demo.docx')\n",
    "len(doc.paragraphs)"
   ]
  },
  {
   "cell_type": "code",
   "execution_count": 6,
   "metadata": {
    "collapsed": false
   },
   "outputs": [
    {
     "data": {
      "text/plain": [
       "docx.text.run.Run"
      ]
     },
     "execution_count": 6,
     "metadata": {},
     "output_type": "execute_result"
    }
   ],
   "source": [
    "type(doc.paragraphs[0].runs[0])"
   ]
  },
  {
   "cell_type": "code",
   "execution_count": 48,
   "metadata": {
    "collapsed": false
   },
   "outputs": [
    {
     "data": {
      "text/plain": [
       "'Document Title'"
      ]
     },
     "execution_count": 48,
     "metadata": {},
     "output_type": "execute_result"
    }
   ],
   "source": [
    "doc.paragraphs[0].text"
   ]
  },
  {
   "cell_type": "code",
   "execution_count": 52,
   "metadata": {
    "collapsed": false
   },
   "outputs": [
    {
     "data": {
      "text/plain": [
       "5"
      ]
     },
     "execution_count": 52,
     "metadata": {},
     "output_type": "execute_result"
    }
   ],
   "source": [
    "len(doc.paragraphs[1].runs)"
   ]
  },
  {
   "cell_type": "code",
   "execution_count": 56,
   "metadata": {
    "collapsed": false,
    "scrolled": true
   },
   "outputs": [
    {
     "name": "stdout",
     "output_type": "stream",
     "text": [
      "Document Title\n",
      "A plain paragraph with\n",
      " some \n",
      "bold\n",
      " and some \n",
      "italic\n",
      "Heading, level 1\n",
      "Intense quote\n",
      "first item in unordered list\n",
      "first item in ordered list\n",
      "\n",
      "\n"
     ]
    }
   ],
   "source": [
    "def getText(filename):\n",
    "    doc = docx.Document(os.path.dirname(os.getcwd()) + '/files/word/' + filename)\n",
    "    for i in range(len(doc.paragraphs)):\n",
    "        for j in range(len(doc.paragraphs[i].runs)):\n",
    "            print(doc.paragraphs[i].runs[j].text)\n",
    "            \n",
    "getText('demo.docx')"
   ]
  },
  {
   "cell_type": "code",
   "execution_count": 8,
   "metadata": {
    "collapsed": false,
    "scrolled": true
   },
   "outputs": [
    {
     "name": "stdout",
     "output_type": "stream",
     "text": [
      "Document Title\n",
      "A plain paragraph with\n",
      " some \n",
      "bold\n",
      " and some \n",
      "italic\n",
      "Heading, level 1\n",
      "Intense quote\n",
      "first item in unordered list\n",
      "first item in ordered list\n",
      "\n",
      "\n"
     ]
    }
   ],
   "source": [
    "def getText(filename):\n",
    "    doc = docx.Document(os.path.dirname(os.getcwd()) + '/files/word/' + filename)\n",
    "    for para in doc.paragraphs:\n",
    "        for run in para.runs:\n",
    "            print(run.text)\n",
    "    return None\n",
    "getText('demo.docx')"
   ]
  },
  {
   "cell_type": "code",
   "execution_count": 58,
   "metadata": {
    "collapsed": false
   },
   "outputs": [
    {
     "name": "stdout",
     "output_type": "stream",
     "text": [
      "Document Title\n",
      "A plain paragraph with some bold and some italic\n",
      "Heading, level 1\n",
      "Intense quote\n",
      "first item in unordered list\n",
      "first item in ordered list\n",
      "\n",
      "\n"
     ]
    }
   ],
   "source": [
    "def getText(filename):\n",
    "    doc = docx.Document(os.path.dirname(os.getcwd()) + '/files/word/' + filename)\n",
    "    fullText = []\n",
    "    for para in doc.paragraphs:\n",
    "        fullText.append(para.text)\n",
    "    print('\\n'.join(fullText))\n",
    "\n",
    "getText('demo.docx')"
   ]
  },
  {
   "cell_type": "markdown",
   "metadata": {},
   "source": [
    "以上两个函数的区别在于，第一个函数区分了因为样式不同的各部分。第三个直接获取段落文本。"
   ]
  },
  {
   "cell_type": "code",
   "execution_count": 13,
   "metadata": {
    "collapsed": false
   },
   "outputs": [
    {
     "data": {
      "text/plain": [
       "_ParagraphStyle('Title') id: 4424487096"
      ]
     },
     "execution_count": 13,
     "metadata": {},
     "output_type": "execute_result"
    }
   ],
   "source": [
    "doc.paragraphs[0].style"
   ]
  },
  {
   "cell_type": "code",
   "execution_count": 15,
   "metadata": {
    "collapsed": true
   },
   "outputs": [],
   "source": [
    "doc.paragraphs[0].style = 'Normal'"
   ]
  },
  {
   "cell_type": "code",
   "execution_count": 16,
   "metadata": {
    "collapsed": true
   },
   "outputs": [],
   "source": [
    "doc.save(os.path.dirname(os.getcwd()) + '/files/word/restyled.docx')"
   ]
  },
  {
   "cell_type": "code",
   "execution_count": 27,
   "metadata": {
    "collapsed": false
   },
   "outputs": [],
   "source": [
    "doc1 = docx.Document()\n",
    "doc1.add_paragraph('Hello World')\n",
    "doc1.paragraphs[0].style = 'Title'\n",
    "doc1.add_paragraph('I say hello to the world at Shanghai.')\n",
    "doc1.paragraphs[1].add_run('Where are you?')\n",
    "doc1.paragraphs[1].runs[1].bold = True\n",
    "doc1.add_heading('Header 1', 1)\n",
    "doc1.add_paragraph('This is first para. I will set to None.')\n",
    "doc1.save(os.path.dirname(os.getcwd()) + '/files/word/hello.docx')"
   ]
  },
  {
   "cell_type": "markdown",
   "metadata": {},
   "source": [
    "## csv和JSON\n",
    "\n",
    "### CSV"
   ]
  },
  {
   "cell_type": "code",
   "execution_count": 47,
   "metadata": {
    "collapsed": false,
    "scrolled": true
   },
   "outputs": [
    {
     "name": "stdout",
     "output_type": "stream",
     "text": [
      "Row # 1: ['4/5/2014 13:34', 'Apples', '73']\n",
      "Row # 2: ['4/5/2014 3:41', 'Cherries', '85']\n",
      "Row # 3: ['4/6/2014 12:46', 'Pears', '14']\n",
      "Row # 4: ['4/8/2014 8:59', 'Oranges', '52']\n",
      "Row # 5: ['4/10/2014 2:07', 'Apples', '152']\n",
      "Row # 6: ['4/10/2014 18:10', 'Bananas', '23']\n",
      "Row # 7: ['4/10/2014 2:40', 'Strawberries', '98']\n"
     ]
    }
   ],
   "source": [
    "import csv, os\n",
    "\n",
    "exampleFile = open(os.path.dirname(os.getcwd()) + '/files/csv/example.csv')\n",
    "exampleReader = csv.reader(exampleFile)\n",
    "for row in exampleReader:\n",
    "    print('Row # ' + str(exampleReader.line_num) + ': ' + str(row))"
   ]
  },
  {
   "cell_type": "code",
   "execution_count": 55,
   "metadata": {
    "collapsed": false
   },
   "outputs": [],
   "source": [
    "import csv, os\n",
    "\n",
    "outputFile = open(os.path.dirname(os.getcwd()) + '/files/csv/output.csv', 'w', newline='')\n",
    "outputWriter = csv.writer(outputFile)\n",
    "outputWriter.writerow(['spam', 'eggs', 'bacon', 'ham'])\n",
    "outputWriter.writerow(['Hello, world!', 'eggs', 'bacon', 'ham'])\n",
    "outputWriter.writerow([1, 2, 3.141592, 4])\n",
    "outputFile.close()"
   ]
  },
  {
   "cell_type": "code",
   "execution_count": 59,
   "metadata": {
    "collapsed": false
   },
   "outputs": [],
   "source": [
    "import csv, os\n",
    "\n",
    "csvFile = open(os.path.dirname(os.getcwd()) + '/files/csv/example.tsv', 'w', newline='')\n",
    "csvWriter = csv.writer(csvFile, delimiter='\\t', lineterminator='\\n\\n')\n",
    "csvWriter.writerow(['apples', 'oranges', 'grapes'])\n",
    "csvWriter.writerow(['eggs', 'bacon', 'ham'])\n",
    "csvWriter.writerow(['spam', 'spam', 'spam', 'spam', 'spam', 'spam'])\n",
    "csvFile.close()"
   ]
  },
  {
   "cell_type": "markdown",
   "metadata": {},
   "source": [
    "#### 从csv中删除表头"
   ]
  },
  {
   "cell_type": "code",
   "execution_count": 64,
   "metadata": {
    "collapsed": false
   },
   "outputs": [
    {
     "name": "stdout",
     "output_type": "stream",
     "text": [
      "Removing header from NAICS_data_3237.csv ...\n",
      "Removing header from NAICS_data_7535.csv ...\n",
      "Removing header from NAICS_data_7642.csv ...\n",
      "Removing header from NAICS_data_8015.csv ...\n",
      "Removing header from NAICS_data_3197.csv ...\n",
      "Removing header from NAICS_data_7913.csv ...\n",
      "Removing header from NAICS_data_4215.csv ...\n",
      "Removing header from NAICS_data_1218.csv ...\n",
      "Removing header from NAICS_data_4610.csv ...\n",
      "Removing header from NAICS_data_1973.csv ...\n",
      "Removing header from NAICS_data_1817.csv ...\n",
      "Removing header from NAICS_data_9250.csv ...\n",
      "Removing header from NAICS_data_8760.csv ...\n",
      "Removing header from NAICS_data_2066.csv ...\n",
      "Removing header from NAICS_data_1751.csv ...\n",
      "Removing header from NAICS_data_8749.csv ...\n",
      "Removing header from NAICS_data_8832.csv ...\n",
      "Removing header from NAICS_data_5899.csv ...\n",
      "Removing header from NAICS_data_8403.csv ...\n",
      "Removing header from NAICS_data_2648.csv ...\n",
      "Removing header from NAICS_data_4213.csv ...\n",
      "Removing header from NAICS_data_1814.csv ...\n",
      "Removing header from NAICS_data_3144.csv ...\n",
      "Removing header from NAICS_data_5092.csv ...\n",
      "Removing header from NAICS_data_6161.csv ...\n",
      "Removing header from NAICS_data_5631.csv ...\n",
      "Removing header from NAICS_data_5341.csv ...\n",
      "Removing header from NAICS_data_6700.csv ...\n",
      "Removing header from NAICS_data_2994.csv ...\n",
      "Removing header from NAICS_data_4329.csv ...\n",
      "Removing header from NAICS_data_3731.csv ...\n",
      "Removing header from NAICS_data_8499.csv ...\n",
      "Removing header from NAICS_data_4699.csv ...\n",
      "Removing header from NAICS_data_4896.csv ...\n",
      "Removing header from NAICS_data_2799.csv ...\n",
      "Removing header from NAICS_data_7226.csv ...\n",
      "Removing header from NAICS_data_1657.csv ...\n",
      "Removing header from NAICS_data_3044.csv ...\n",
      "Removing header from NAICS_data_2993.csv ...\n",
      "Removing header from NAICS_data_6329.csv ...\n",
      "Removing header from NAICS_data_6842.csv ...\n",
      "Removing header from NAICS_data_8700.csv ...\n",
      "Removing header from NAICS_data_7427.csv ...\n",
      "Removing header from NAICS_data_3494.csv ...\n",
      "Removing header from NAICS_data_3495.csv ...\n",
      "Removing header from NAICS_data_7383.csv ...\n",
      "Removing header from NAICS_data_1889.csv ...\n",
      "Removing header from NAICS_data_2427.csv ...\n",
      "Removing header from NAICS_data_2988.csv ...\n",
      "Removing header from NAICS_data_7833.csv ...\n",
      "Removing header from NAICS_data_2183.csv ...\n",
      "Removing header from NAICS_data_4525.csv ...\n",
      "Removing header from NAICS_data_9834.csv ...\n",
      "Removing header from NAICS_data_7830.csv ...\n",
      "Removing header from NAICS_data_6904.csv ...\n",
      "Removing header from NAICS_data_3075.csv ...\n",
      "Removing header from NAICS_data_2828.csv ...\n",
      "Removing header from NAICS_data_9986.csv ...\n",
      "Removing header from NAICS_data_7388.csv ...\n",
      "Removing header from NAICS_data_1048.csv ...\n",
      "Removing header from NAICS_data_9825.csv ...\n",
      "Removing header from NAICS_data_5992.csv ...\n",
      "Removing header from NAICS_data_9165.csv ...\n",
      "Removing header from NAICS_data_2959.csv ...\n",
      "Removing header from NAICS_data_4125.csv ...\n",
      "Removing header from NAICS_data_8131.csv ...\n",
      "Removing header from NAICS_data_2346.csv ...\n",
      "Removing header from NAICS_data_4938.csv ...\n",
      "Removing header from NAICS_data_7028.csv ...\n",
      "Removing header from NAICS_data_6493.csv ...\n",
      "Removing header from NAICS_data_8522.csv ...\n",
      "Removing header from NAICS_data_8085.csv ...\n",
      "Removing header from NAICS_data_5364.csv ...\n",
      "Removing header from NAICS_data_3073.csv ...\n",
      "Removing header from NAICS_data_7765.csv ...\n",
      "Removing header from NAICS_data_6335.csv ...\n",
      "Removing header from NAICS_data_9012.csv ...\n",
      "Removing header from NAICS_data_8196.csv ...\n",
      "Removing header from NAICS_data_7845.csv ...\n",
      "Removing header from NAICS_data_8545.csv ...\n",
      "Removing header from NAICS_data_7138.csv ...\n",
      "Removing header from NAICS_data_7677.csv ...\n",
      "Removing header from NAICS_data_5060.csv ...\n",
      "Removing header from NAICS_data_6637.csv ...\n",
      "Removing header from NAICS_data_8397.csv ...\n",
      "Removing header from NAICS_data_4618.csv ...\n",
      "Removing header from NAICS_data_9103.csv ...\n",
      "Removing header from NAICS_data_7338.csv ...\n",
      "Removing header from NAICS_data_1952.csv ...\n",
      "Removing header from NAICS_data_6397.csv ...\n",
      "Removing header from NAICS_data_6181.csv ...\n",
      "Removing header from NAICS_data_5305.csv ...\n",
      "Removing header from NAICS_data_7102.csv ...\n",
      "Removing header from NAICS_data_4436.csv ...\n",
      "Removing header from NAICS_data_5890.csv ...\n",
      "Removing header from NAICS_data_9066.csv ...\n",
      "Removing header from NAICS_data_9448.csv ...\n",
      "Removing header from NAICS_data_2092.csv ...\n",
      "Removing header from NAICS_data_9139.csv ...\n",
      "Removing header from NAICS_data_4031.csv ...\n"
     ]
    }
   ],
   "source": [
    "import csv, os\n",
    "\n",
    "path = os.path.join(os.path.dirname(os.getcwd()), 'files', 'csv', 'removeCsvHeader')\n",
    "for csvFilename in os.listdir(path):\n",
    "    if not csvFilename.endswith('.csv'):\n",
    "        continue\n",
    "    print('Removing header from ' + csvFilename + ' ...')\n",
    "    csvRows = []\n",
    "    csvFileObj = open(os.path.join(path, csvFilename))\n",
    "    readerObj = csv.reader(csvFileObj)\n",
    "    for row in readerObj:\n",
    "        if readerObj.line_num ==1:\n",
    "            continue\n",
    "        csvRows.append(row)\n",
    "    csvFileObj.close()\n",
    "    csvFile = open(os.path.join(path, 'HeaderRemove', csvFilename), 'w', newline='') # 路径需要预先建立好\n",
    "    csvWriter = csv.writer(csvFile)\n",
    "    for row in csvRows:\n",
    "        csvWriter.writerow(row)\n",
    "    csvFile.close()"
   ]
  },
  {
   "cell_type": "markdown",
   "metadata": {},
   "source": [
    "### JSON"
   ]
  },
  {
   "cell_type": "code",
   "execution_count": 67,
   "metadata": {
    "collapsed": false
   },
   "outputs": [
    {
     "data": {
      "text/plain": [
       "{'name': 'Zophie', 'isCat': True, 'miceCaught': 0, 'felineIQ': None}"
      ]
     },
     "execution_count": 67,
     "metadata": {},
     "output_type": "execute_result"
    }
   ],
   "source": [
    "import json\n",
    "stringJson = '{\"name\": \"Zophie\", \"isCat\": true, \"miceCaught\":0, \"felineIQ\":null }'\n",
    "jsonAsPythonValue = json.loads(stringJson)\n",
    "jsonAsPythonValue"
   ]
  },
  {
   "cell_type": "code",
   "execution_count": 68,
   "metadata": {
    "collapsed": false
   },
   "outputs": [
    {
     "data": {
      "text/plain": [
       "'{\"name\": \"Zophie\", \"isCat\": true, \"miceCaught\": 0, \"felineIQ\": null}'"
      ]
     },
     "execution_count": 68,
     "metadata": {},
     "output_type": "execute_result"
    }
   ],
   "source": [
    "json.dumps(jsonAsPythonValue)"
   ]
  },
  {
   "cell_type": "markdown",
   "metadata": {},
   "source": [
    "#### 获取天气数据"
   ]
  },
  {
   "cell_type": "code",
   "execution_count": 69,
   "metadata": {
    "collapsed": false
   },
   "outputs": [
    {
     "ename": "HTTPError",
     "evalue": "401 Client Error: Unauthorized for url: http://api.openweathermap.org/data/2.5/forecast/daily?q=suzhou&cnt=3",
     "output_type": "error",
     "traceback": [
      "\u001b[0;31m---------------------------------------------------------------------------\u001b[0m",
      "\u001b[0;31mHTTPError\u001b[0m                                 Traceback (most recent call last)",
      "\u001b[0;32m<ipython-input-69-c73bb96ea4eb>\u001b[0m in \u001b[0;36m<module>\u001b[0;34m\u001b[0m\n\u001b[1;32m     10\u001b[0m     \u001b[0mprint\u001b[0m\u001b[0;34m(\u001b[0m\u001b[0mw\u001b[0m\u001b[0;34m[\u001b[0m\u001b[0;36m0\u001b[0m\u001b[0;34m]\u001b[0m\u001b[0;34m[\u001b[0m\u001b[0;34m'weather'\u001b[0m\u001b[0;34m]\u001b[0m\u001b[0;34m[\u001b[0m\u001b[0;36m0\u001b[0m\u001b[0;34m]\u001b[0m\u001b[0;34m[\u001b[0m\u001b[0;34m'main'\u001b[0m\u001b[0;34m]\u001b[0m\u001b[0;34m,\u001b[0m \u001b[0;34m'-'\u001b[0m\u001b[0;34m,\u001b[0m \u001b[0mw\u001b[0m\u001b[0;34m[\u001b[0m\u001b[0;36m0\u001b[0m\u001b[0;34m]\u001b[0m\u001b[0;34m[\u001b[0m\u001b[0;34m'weather'\u001b[0m\u001b[0;34m]\u001b[0m\u001b[0;34m[\u001b[0m\u001b[0;36m0\u001b[0m\u001b[0;34m]\u001b[0m\u001b[0;34m[\u001b[0m\u001b[0;34m'description'\u001b[0m\u001b[0;34m]\u001b[0m\u001b[0;34m)\u001b[0m\u001b[0;34m\u001b[0m\u001b[0;34m\u001b[0m\u001b[0m\n\u001b[1;32m     11\u001b[0m \u001b[0;34m\u001b[0m\u001b[0m\n\u001b[0;32m---> 12\u001b[0;31m \u001b[0mweather\u001b[0m\u001b[0;34m(\u001b[0m\u001b[0;34m'suzhou'\u001b[0m\u001b[0;34m)\u001b[0m\u001b[0;34m\u001b[0m\u001b[0;34m\u001b[0m\u001b[0m\n\u001b[0m",
      "\u001b[0;32m<ipython-input-69-c73bb96ea4eb>\u001b[0m in \u001b[0;36mweather\u001b[0;34m(location)\u001b[0m\n\u001b[1;32m      4\u001b[0m     \u001b[0murl\u001b[0m \u001b[0;34m=\u001b[0m \u001b[0;34m'http://api.openweathermap.org/data/2.5/forecast/daily?q=%s&cnt=3'\u001b[0m\u001b[0;34m%\u001b[0m\u001b[0;34m(\u001b[0m\u001b[0mlocation\u001b[0m\u001b[0;34m)\u001b[0m\u001b[0;34m\u001b[0m\u001b[0;34m\u001b[0m\u001b[0m\n\u001b[1;32m      5\u001b[0m     \u001b[0mresponse\u001b[0m \u001b[0;34m=\u001b[0m \u001b[0mrequests\u001b[0m\u001b[0;34m.\u001b[0m\u001b[0mget\u001b[0m\u001b[0;34m(\u001b[0m\u001b[0murl\u001b[0m\u001b[0;34m)\u001b[0m\u001b[0;34m\u001b[0m\u001b[0;34m\u001b[0m\u001b[0m\n\u001b[0;32m----> 6\u001b[0;31m     \u001b[0mresponse\u001b[0m\u001b[0;34m.\u001b[0m\u001b[0mraise_for_status\u001b[0m\u001b[0;34m(\u001b[0m\u001b[0;34m)\u001b[0m\u001b[0;34m\u001b[0m\u001b[0;34m\u001b[0m\u001b[0m\n\u001b[0m\u001b[1;32m      7\u001b[0m     \u001b[0mweatherData\u001b[0m \u001b[0;34m=\u001b[0m \u001b[0mjson\u001b[0m\u001b[0;34m.\u001b[0m\u001b[0mloads\u001b[0m\u001b[0;34m(\u001b[0m\u001b[0mresponse\u001b[0m\u001b[0;34m.\u001b[0m\u001b[0mtext\u001b[0m\u001b[0;34m)\u001b[0m\u001b[0;34m\u001b[0m\u001b[0;34m\u001b[0m\u001b[0m\n\u001b[1;32m      8\u001b[0m     \u001b[0mw\u001b[0m \u001b[0;34m=\u001b[0m \u001b[0mweatherData\u001b[0m\u001b[0;34m[\u001b[0m\u001b[0;34m'list'\u001b[0m\u001b[0;34m]\u001b[0m\u001b[0;34m\u001b[0m\u001b[0;34m\u001b[0m\u001b[0m\n",
      "\u001b[0;32m~/anaconda/envs/python35/lib/python3.7/site-packages/requests/models.py\u001b[0m in \u001b[0;36mraise_for_status\u001b[0;34m(self)\u001b[0m\n\u001b[1;32m    938\u001b[0m \u001b[0;34m\u001b[0m\u001b[0m\n\u001b[1;32m    939\u001b[0m         \u001b[0;32mif\u001b[0m \u001b[0mhttp_error_msg\u001b[0m\u001b[0;34m:\u001b[0m\u001b[0;34m\u001b[0m\u001b[0;34m\u001b[0m\u001b[0m\n\u001b[0;32m--> 940\u001b[0;31m             \u001b[0;32mraise\u001b[0m \u001b[0mHTTPError\u001b[0m\u001b[0;34m(\u001b[0m\u001b[0mhttp_error_msg\u001b[0m\u001b[0;34m,\u001b[0m \u001b[0mresponse\u001b[0m\u001b[0;34m=\u001b[0m\u001b[0mself\u001b[0m\u001b[0;34m)\u001b[0m\u001b[0;34m\u001b[0m\u001b[0;34m\u001b[0m\u001b[0m\n\u001b[0m\u001b[1;32m    941\u001b[0m \u001b[0;34m\u001b[0m\u001b[0m\n\u001b[1;32m    942\u001b[0m     \u001b[0;32mdef\u001b[0m \u001b[0mclose\u001b[0m\u001b[0;34m(\u001b[0m\u001b[0mself\u001b[0m\u001b[0;34m)\u001b[0m\u001b[0;34m:\u001b[0m\u001b[0;34m\u001b[0m\u001b[0;34m\u001b[0m\u001b[0m\n",
      "\u001b[0;31mHTTPError\u001b[0m: 401 Client Error: Unauthorized for url: http://api.openweathermap.org/data/2.5/forecast/daily?q=suzhou&cnt=3"
     ]
    }
   ],
   "source": [
    "import json, requests, sys\n",
    "\n",
    "def weather(location):\n",
    "    url = 'http://api.openweathermap.org/data/2.5/forecast/daily?q=%s&cnt=3'%(location)\n",
    "    response = requests.get(url)\n",
    "    response.raise_for_status()\n",
    "    weatherData = json.loads(response.text)\n",
    "    w = weatherData['list']\n",
    "    print('Current weather in %s: '%(location))\n",
    "    print(w[0]['weather'][0]['main'], '-', w[0]['weather'][0]['description'])\n",
    "    \n",
    "weather('suzhou')"
   ]
  },
  {
   "cell_type": "markdown",
   "metadata": {},
   "source": [
    "## 超级秒表"
   ]
  },
  {
   "cell_type": "code",
   "execution_count": 82,
   "metadata": {
    "collapsed": false
   },
   "outputs": [
    {
     "name": "stdout",
     "output_type": "stream",
     "text": [
      "Press Enter to begin\n",
      "\n",
      "Started.\n",
      "\n",
      "Lap #1: 0.88 (0.88)\n",
      "Lap #2: 2.66 (1.79)\n",
      "Lap #3: 4.1 (1.44)\n",
      "Lap #4: 7.09 (2.99)\n",
      "Lap #5: 7.95 (0.86)\n",
      "Lap #6: 11.28 (3.33)\n",
      "Lap #7: 13.44 (2.16)\n",
      "Lap #8: 15.4 (1.96)\n",
      "Done.\n"
     ]
    }
   ],
   "source": [
    "import time\n",
    "print('Press Enter to begin')\n",
    "input()\n",
    "print('Started.')\n",
    "startTime = time.time()\n",
    "lastTime = startTime\n",
    "lapNum = 1\n",
    "\n",
    "try:\n",
    "    while True:\n",
    "        input()\n",
    "        lapTime = round(time.time() - lastTime, 2)\n",
    "        totalTime = round(time.time() - startTime, 2)\n",
    "        print('Lap #%s: %s (%s)' % (lapNum, totalTime, lapTime), end='')\n",
    "        lapNum += 1\n",
    "        lastTime = round(time.time(),2)\n",
    "except KeyboardInterrupt:\n",
    "    print('\\nDone.')"
   ]
  },
  {
   "cell_type": "code",
   "execution_count": 83,
   "metadata": {
    "collapsed": false
   },
   "outputs": [
    {
     "data": {
      "text/plain": [
       "datetime.datetime(2019, 5, 29, 13, 46, 38, 341412)"
      ]
     },
     "execution_count": 83,
     "metadata": {},
     "output_type": "execute_result"
    }
   ],
   "source": [
    "import datetime\n",
    "\n",
    "datetime.datetime.now()"
   ]
  },
  {
   "cell_type": "code",
   "execution_count": 98,
   "metadata": {
    "collapsed": false
   },
   "outputs": [
    {
     "data": {
      "text/plain": [
       "datetime.timedelta(days=4268)"
      ]
     },
     "execution_count": 98,
     "metadata": {},
     "output_type": "execute_result"
    }
   ],
   "source": [
    "day = datetime.datetime(1993,5,4,11,0,0)\n",
    "now = datetime.datetime.now()\n",
    "day-birth"
   ]
  },
  {
   "cell_type": "markdown",
   "metadata": {},
   "source": [
    "## 多线程"
   ]
  },
  {
   "cell_type": "code",
   "execution_count": 101,
   "metadata": {
    "collapsed": false
   },
   "outputs": [
    {
     "name": "stdout",
     "output_type": "stream",
     "text": [
      "End of progranm.\n",
      "Wake up.\n",
      "Start of program.\n"
     ]
    }
   ],
   "source": [
    "import threading, time\n",
    "\n",
    "\n",
    "def takeANap():\n",
    "    time.sleep(5)\n",
    "    print('Wake up.')\n",
    "\n",
    "def tryAgain():\n",
    "    time.sleep(10)\n",
    "    print('Start of program.')\n",
    "\n",
    "threadObj1 = threading.Thread(target=takeANap)\n",
    "threadObj2 = threading.Thread(target=tryAgain)\n",
    "threadObj1.start()\n",
    "threadObj2.start()\n",
    "\n",
    "print('End of progranm.')"
   ]
  },
  {
   "cell_type": "code",
   "execution_count": 102,
   "metadata": {
    "collapsed": false
   },
   "outputs": [
    {
     "name": "stdout",
     "output_type": "stream",
     "text": [
      "pickle & bacon & rabbits & tigers\n"
     ]
    }
   ],
   "source": [
    "import threading\n",
    "\n",
    "threadObj = threading.Thread(target=print, args=['pickle', 'bacon', 'rabbits', 'tigers'], kwargs={'sep':' & '})\n",
    "threadObj.start()"
   ]
  },
  {
   "cell_type": "markdown",
   "metadata": {},
   "source": [
    "## 倒计时"
   ]
  },
  {
   "cell_type": "code",
   "execution_count": 105,
   "metadata": {
    "collapsed": false
   },
   "outputs": [
    {
     "name": "stdout",
     "output_type": "stream",
     "text": [
      "10,9,8,7,6,5,4,3,2,1,"
     ]
    },
    {
     "data": {
      "text/plain": [
       "<subprocess.Popen at 0x10ca13b00>"
      ]
     },
     "execution_count": 105,
     "metadata": {},
     "output_type": "execute_result"
    }
   ],
   "source": [
    "import time, subprocess, os\n",
    "\n",
    "timeLeft = 10\n",
    "while timeLeft > 0:\n",
    "    print(timeLeft, end=',')\n",
    "    time.sleep(1)\n",
    "    timeLeft -= 1\n",
    "    \n",
    "subprocess.Popen(['open',os.path.join(os.path.dirname(os.getcwd()), 'files', 'alarm.wav')])"
   ]
  },
  {
   "cell_type": "markdown",
   "metadata": {},
   "source": [
    "## 发短信"
   ]
  },
  {
   "cell_type": "code",
   "execution_count": null,
   "metadata": {
    "collapsed": true
   },
   "outputs": [],
   "source": [
    "from twilio.rest import Client\n",
    "\n",
    "accountSTD = 'A--------------'\n",
    "authToken = '---------------'\n",
    "twilioCli = Client(accountSTD, authToken)\n",
    "myTwilioNumber = '-------------'\n",
    "myCellNumber = '-----------' # 注意手机号码加上‘+86’\n",
    "message = twilioCli.messages.create(body='How many trees do you have?', from_=myTwilioNumber, to=myCellNumber)"
   ]
  },
  {
   "cell_type": "markdown",
   "metadata": {},
   "source": [
    "## 发邮件"
   ]
  },
  {
   "cell_type": "code",
   "execution_count": 176,
   "metadata": {
    "collapsed": false,
    "scrolled": true
   },
   "outputs": [
    {
     "name": "stdout",
     "output_type": "stream",
     "text": [
      "········\n",
      "52421240@qq.com\n",
      "Success\n"
     ]
    }
   ],
   "source": [
    "import smtplib\n",
    "HOST = 'smtp.163.com'\n",
    "PORT = 25 # 默认端口号\n",
    "smtpObj = smtplib.SMTP(HOST, PORT)\n",
    "\n",
    "import getpass\n",
    "mail_user = 'pickle.ahcai'\n",
    "mail_pass = getpass.getpass() # 授权码，非密码\n",
    "\n",
    "smtpObj.ehlo()\n",
    "smtpObj.starttls()\n",
    "smtpObj.login(mail_user, mail_pass)\n",
    "\n",
    "from email.header import Header\n",
    "from email.mime.text import MIMEText\n",
    "from email.mime.multipart import MIMEMultipart\n",
    "\n",
    "sender = 'pickle.ahcai@163.com'\n",
    "receiver = input()\n",
    "c_receiver = 'cmj_827@163.com'\n",
    "content = 'Dear Cindy,\\n 我喜欢蒜泥蒸丝瓜，你可以帮我做一些吗？.'\n",
    "title = 'Delicious Food 美味食物'\n",
    "\n",
    "message = MIMEMultipart()\n",
    "message['From'] = \"{}\".format(sender)\n",
    "message['To'] = receiver\n",
    "message['Cc'] = c_receiver\n",
    "message['Subject'] = Header(title, 'utf-8').encode()\n",
    "message.attach(MIMEText(content, 'plain', 'utf-8'))\n",
    "\n",
    "try:\n",
    "    smtpObj.sendmail(sender, receiver, message.as_string())\n",
    "    print('Success')\n",
    "    smtpObj.quit()\n",
    "    smtpObj.close()\n",
    "except smtplib.SMTPException as e:\n",
    "    print(\"Error: 无法发送邮件\", e)"
   ]
  },
  {
   "cell_type": "markdown",
   "metadata": {},
   "source": [
    "## 文件读写\n",
    "\n",
    "普通的open、read和write这段时间用得比较多，略。  \n",
    "主要看看shelve模块。  "
   ]
  },
  {
   "cell_type": "code",
   "execution_count": 179,
   "metadata": {
    "collapsed": false
   },
   "outputs": [],
   "source": [
    "import shelve, os\n",
    "\n",
    "with shelve.open(os.path.join(os.path.dirname(os.getcwd()), 'files', 'mydata')) as shelfFile:\n",
    "    cats = ['Zophie', 'Pooka', 'Simon']\n",
    "    shelfFile['cats'] = cats"
   ]
  },
  {
   "cell_type": "code",
   "execution_count": 181,
   "metadata": {
    "collapsed": false
   },
   "outputs": [
    {
     "data": {
      "text/plain": [
       "shelve.DbfilenameShelf"
      ]
     },
     "execution_count": 181,
     "metadata": {},
     "output_type": "execute_result"
    }
   ],
   "source": [
    "shelfFile = shelve.open(os.path.join(os.path.dirname(os.getcwd()), 'files', 'mydata'))\n",
    "type(shelfFile)"
   ]
  },
  {
   "cell_type": "code",
   "execution_count": 182,
   "metadata": {
    "collapsed": false
   },
   "outputs": [
    {
     "data": {
      "text/plain": [
       "['Zophie', 'Pooka', 'Simon']"
      ]
     },
     "execution_count": 182,
     "metadata": {},
     "output_type": "execute_result"
    }
   ],
   "source": [
    "shelfFile['cats']"
   ]
  },
  {
   "cell_type": "code",
   "execution_count": 183,
   "metadata": {
    "collapsed": false
   },
   "outputs": [],
   "source": [
    "shelfFile.close()"
   ]
  },
  {
   "cell_type": "markdown",
   "metadata": {},
   "source": [
    "### 组织文件"
   ]
  },
  {
   "cell_type": "code",
   "execution_count": 184,
   "metadata": {
    "collapsed": true
   },
   "outputs": [],
   "source": [
    "import shutil, os"
   ]
  },
  {
   "cell_type": "markdown",
   "metadata": {},
   "source": [
    "## 异常处理"
   ]
  },
  {
   "cell_type": "code",
   "execution_count": 185,
   "metadata": {
    "collapsed": true
   },
   "outputs": [],
   "source": [
    "import traceback"
   ]
  },
  {
   "cell_type": "code",
   "execution_count": 186,
   "metadata": {
    "collapsed": false
   },
   "outputs": [
    {
     "name": "stdout",
     "output_type": "stream",
     "text": [
      "The traceback info was written to errorInfo.txt.\n"
     ]
    }
   ],
   "source": [
    "try:\n",
    "    raise Exception('This is the error mesage.')\n",
    "except:\n",
    "    errorFile = open('errorInfo.txt', 'w')\n",
    "    errorFile.write(traceback.format_exc())\n",
    "    errorFile.close()\n",
    "    print('The traceback info was written to errorInfo.txt.')"
   ]
  },
  {
   "cell_type": "code",
   "execution_count": 189,
   "metadata": {
    "collapsed": true
   },
   "outputs": [],
   "source": [
    "podStatus = 'open'\n",
    "assert podStatus == 'open', 'The podStatus should be open.'\n",
    "podStatus = 'close'"
   ]
  },
  {
   "cell_type": "code",
   "execution_count": 190,
   "metadata": {
    "collapsed": false
   },
   "outputs": [
    {
     "ename": "AssertionError",
     "evalue": "The podStatus should be open.",
     "output_type": "error",
     "traceback": [
      "\u001b[0;31m---------------------------------------------------------------------------\u001b[0m",
      "\u001b[0;31mAssertionError\u001b[0m                            Traceback (most recent call last)",
      "\u001b[0;32m<ipython-input-190-2d60e2440e89>\u001b[0m in \u001b[0;36m<module>\u001b[0;34m\u001b[0m\n\u001b[0;32m----> 1\u001b[0;31m \u001b[0;32massert\u001b[0m \u001b[0mpodStatus\u001b[0m \u001b[0;34m==\u001b[0m \u001b[0;34m'open'\u001b[0m\u001b[0;34m,\u001b[0m \u001b[0;34m'The podStatus should be open.'\u001b[0m\u001b[0;34m\u001b[0m\u001b[0;34m\u001b[0m\u001b[0m\n\u001b[0m",
      "\u001b[0;31mAssertionError\u001b[0m: The podStatus should be open."
     ]
    }
   ],
   "source": [
    "assert podStatus == 'open', 'The podStatus should be open.'"
   ]
  },
  {
   "cell_type": "markdown",
   "metadata": {},
   "source": [
    "### 日志"
   ]
  },
  {
   "cell_type": "code",
   "execution_count": 199,
   "metadata": {
    "collapsed": false
   },
   "outputs": [
    {
     "name": "stdout",
     "output_type": "stream",
     "text": [
      "0\n"
     ]
    }
   ],
   "source": [
    "import logging\n",
    "logging.basicConfig(level=logging.DEBUG, format=' %(asctime)s - %(levelname)s - %(message)s')\n",
    "logging.debug('Start of program')\n",
    "\n",
    "def factorial(n):\n",
    "    logging.debug('Start of factorial(%s%%)' % (n))\n",
    "    total = 1\n",
    "    for i in range(n+1):\n",
    "        total *= i\n",
    "        logging.debug('i is ' + str(i) + ', total is ' + str(total))\n",
    "    logging.debug('End of factorial(%s%%)' % (n))\n",
    "    return total\n",
    "\n",
    "print(factorial(5))\n",
    "logging.debug('End of program')"
   ]
  },
  {
   "cell_type": "markdown",
   "metadata": {},
   "source": [
    "## python控制键盘鼠标"
   ]
  },
  {
   "cell_type": "code",
   "execution_count": 204,
   "metadata": {
    "collapsed": false
   },
   "outputs": [],
   "source": [
    "import pyautogui\n",
    "\n",
    "width, height = tuple(pyautogui.size())"
   ]
  },
  {
   "cell_type": "code",
   "execution_count": 212,
   "metadata": {
    "collapsed": false
   },
   "outputs": [],
   "source": [
    "for i in range(10):\n",
    "    pyautogui.moveTo(100, 100, duration=0.25)\n",
    "    pyautogui.moveTo(200, 100, duration=0.25)\n",
    "    pyautogui.moveTo(200, 200, duration=0.25)\n",
    "    pyautogui.moveTo(100, 200, duration=0.25)"
   ]
  },
  {
   "cell_type": "code",
   "execution_count": 217,
   "metadata": {
    "collapsed": false,
    "scrolled": true
   },
   "outputs": [
    {
     "name": "stdout",
     "output_type": "stream",
     "text": [
      "Point(x=443, y=192)\n",
      "Point(x=443, y=292)\n",
      "Point(x=343, y=292)\n",
      "Point(x=343, y=192)\n"
     ]
    }
   ],
   "source": [
    "for i in range(1):\n",
    "    pyautogui.moveRel(100, 0, duration=0.25)\n",
    "    print(pyautogui.position())\n",
    "    pyautogui.moveRel(0, 100, duration=0.25)\n",
    "    print(pyautogui.position())\n",
    "    pyautogui.moveRel(-100, 0, duration=0.25)\n",
    "    print(pyautogui.position())\n",
    "    pyautogui.moveRel(0, -100, duration=0.25)\n",
    "    print(pyautogui.position())"
   ]
  },
  {
   "cell_type": "code",
   "execution_count": 225,
   "metadata": {
    "collapsed": false,
    "scrolled": true
   },
   "outputs": [
    {
     "name": "stdout",
     "output_type": "stream",
     "text": [
      "wwwwwwwwww\b\b\b\b\b\b\b\b\b\bwwwwwwwwww"
     ]
    }
   ],
   "source": [
    "print('w'*10, end='', flush=True)\n",
    "print('\\b'*10, end='', flush=True)\n",
    "print('w'*10, end='', flush=True)"
   ]
  },
  {
   "cell_type": "code",
   "execution_count": 228,
   "metadata": {
    "collapsed": false
   },
   "outputs": [],
   "source": [
    "pyautogui.scroll(200)"
   ]
  },
  {
   "cell_type": "code",
   "execution_count": 229,
   "metadata": {
    "collapsed": false
   },
   "outputs": [
    {
     "data": {
      "text/plain": [
       "Box(left=106, top=108, width=32, height=30)"
      ]
     },
     "execution_count": 229,
     "metadata": {},
     "output_type": "execute_result"
    }
   ],
   "source": [
    "pyautogui.locateOnScreen('jupyter.png')"
   ]
  },
  {
   "cell_type": "code",
   "execution_count": 230,
   "metadata": {
    "collapsed": false
   },
   "outputs": [
    {
     "data": {
      "text/plain": [
       "Point(x=122, y=123)"
      ]
     },
     "execution_count": 230,
     "metadata": {},
     "output_type": "execute_result"
    }
   ],
   "source": [
    "pyautogui.center(pyautogui.locateOnScreen('jupyter.png'))"
   ]
  },
  {
   "cell_type": "code",
   "execution_count": 237,
   "metadata": {
    "collapsed": false
   },
   "outputs": [],
   "source": [
    "pyautogui.moveTo(pyautogui.center(pyautogui.locateOnScreen('save.png')), duration=0.25)\n",
    "pyautogui.click()\n",
    "pyautogui.moveRel(100, 100)\n",
    "pyautogui.click()"
   ]
  },
  {
   "cell_type": "code",
   "execution_count": 249,
   "metadata": {
    "collapsed": true
   },
   "outputs": [],
   "source": [
    "pyautogui.click(670,100)\n",
    "pyautogui.typewrite(['a', 'b', 'Y', 'left','X', 'home', 'enter', 'up', 'c', 'i', 'right', 'n', 'd'], 0.25)"
   ]
  },
  {
   "cell_type": "code",
   "execution_count": 250,
   "metadata": {
    "collapsed": true
   },
   "outputs": [],
   "source": [
    "pyautogui.click(670,100)\n",
    "pyautogui.keyDown('shift')\n",
    "pyautogui.press('4')\n",
    "pyautogui.keyUp('shift')"
   ]
  },
  {
   "cell_type": "code",
   "execution_count": 11,
   "metadata": {
    "collapsed": false
   },
   "outputs": [
    {
     "data": {
      "text/plain": [
       "1.5428922781690698e-32"
      ]
     },
     "execution_count": 11,
     "metadata": {},
     "output_type": "execute_result"
    }
   ],
   "source": [
    "import random\n",
    "\n",
    "random.betavariate(0.1,0.5)"
   ]
  },
  {
   "cell_type": "code",
   "execution_count": null,
   "metadata": {
    "collapsed": false
   },
   "outputs": [],
   "source": []
  },
  {
   "cell_type": "code",
   "execution_count": null,
   "metadata": {
    "collapsed": true
   },
   "outputs": [],
   "source": []
  }
 ],
 "metadata": {
  "kernelspec": {
   "display_name": "Python 3",
   "language": "python",
   "name": "python3"
  },
  "language_info": {
   "codemirror_mode": {
    "name": "ipython",
    "version": 3
   },
   "file_extension": ".py",
   "mimetype": "text/x-python",
   "name": "python",
   "nbconvert_exporter": "python",
   "pygments_lexer": "ipython3",
   "version": "3.7.2"
  }
 },
 "nbformat": 4,
 "nbformat_minor": 0
}
