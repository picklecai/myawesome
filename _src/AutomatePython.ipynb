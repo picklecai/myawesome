{
 "cells": [
  {
   "cell_type": "markdown",
   "metadata": {},
   "source": [
    "## 高斯题目 "
   ]
  },
  {
   "cell_type": "code",
   "execution_count": 1,
   "metadata": {
    "collapsed": false
   },
   "outputs": [
    {
     "name": "stdout",
     "output_type": "stream",
     "text": [
      "5050 101\n"
     ]
    }
   ],
   "source": [
    "n = 100\n",
    "Sum = 0\n",
    "counter = 1\n",
    "while counter<=n:\n",
    "    Sum = Sum + counter\n",
    "    counter += 1\n",
    "    \n",
    "print(Sum,counter)"
   ]
  },
  {
   "cell_type": "markdown",
   "metadata": {},
   "source": [
    "## 猜测密码本中的密钥"
   ]
  },
  {
   "cell_type": "code",
   "execution_count": 2,
   "metadata": {
    "collapsed": false
   },
   "outputs": [
    {
     "name": "stdout",
     "output_type": "stream",
     "text": [
      "Enter your password:5tgbvfr4\n",
      "Access granted. Your password has 8 characters.\n"
     ]
    }
   ],
   "source": [
    "# __coding:utf-8__\n",
    "\n",
    "name = 'password'\n",
    "desk_path = '/Users/caimeijuan/github/myawesome/_src/'\n",
    "full_path = desk_path + name + '.txt'\n",
    "passwordFile = open(full_path)\n",
    "secretPassword = passwordFile.read()\n",
    "typedPassword = input(\"Enter your password:\")\n",
    "\n",
    "while typedPassword!=secretPassword :\n",
    "    print('Access denied! PLease enter again.')\n",
    "    typedPassword = input(\"Enter your password again:\")\n",
    "    if typedPassword == secretPassword:\n",
    "        break    \n",
    "\n",
    "if typedPassword == '123456':\n",
    "    print('This is not a good password.')    \n",
    "    print('Access granted.')\n",
    "else:\n",
    "    print('Access granted. Your password has %d characters.' % len(typedPassword)) "
   ]
  },
  {
   "cell_type": "markdown",
   "metadata": {},
   "source": [
    "一直提示while语句语法错误，于是写一段while来看看，还怀疑是字符串判不同的问题。最后发现，`while`不小心大写成了`While`"
   ]
  },
  {
   "cell_type": "markdown",
   "metadata": {},
   "source": [
    "## 验证用户名和密码 "
   ]
  },
  {
   "cell_type": "code",
   "execution_count": 3,
   "metadata": {
    "collapsed": false
   },
   "outputs": [
    {
     "name": "stdout",
     "output_type": "stream",
     "text": [
      "Who are you?Joe\n",
      "Hello, Joe. What is the password?(It's a fish.)swordfish\n",
      "Access granted.\n"
     ]
    }
   ],
   "source": [
    "while True:\n",
    "    name = input('Who are you?')\n",
    "    if name!='Joe':\n",
    "        continue\n",
    "    password = input('Hello, Joe. What is the password?(It\\'s a fish.)')\n",
    "    if password == 'swordfish':\n",
    "        break\n",
    "print('Access granted.')"
   ]
  },
  {
   "cell_type": "markdown",
   "metadata": {},
   "source": [
    "## 试图退出 "
   ]
  },
  {
   "cell_type": "code",
   "execution_count": 4,
   "metadata": {
    "collapsed": false
   },
   "outputs": [
    {
     "name": "stdout",
     "output_type": "stream",
     "text": [
      "Type exit to exit:exit\n",
      "You typed \"exit\".\n"
     ]
    },
    {
     "ename": "SystemExit",
     "evalue": "",
     "output_type": "error",
     "traceback": [
      "An exception has occurred, use %tb to see the full traceback.\n",
      "\u001b[0;31mSystemExit\u001b[0m\n"
     ]
    },
    {
     "name": "stderr",
     "output_type": "stream",
     "text": [
      "/Users/caimeijuan/anaconda/envs/python35/lib/python3.7/site-packages/IPython/core/interactiveshell.py:3299: UserWarning: To exit: use 'exit', 'quit', or Ctrl-D.\n",
      "  warn(\"To exit: use 'exit', 'quit', or Ctrl-D.\", stacklevel=1)\n"
     ]
    }
   ],
   "source": [
    "import sys\n",
    "while True:\n",
    "    response = input('Type exit to exit:')\n",
    "    if response == 'exit':\n",
    "        print('You typed \"'+ response +'\".')\n",
    "        sys.exit()"
   ]
  },
  {
   "cell_type": "markdown",
   "metadata": {},
   "source": [
    "## 月份随机数 "
   ]
  },
  {
   "cell_type": "code",
   "execution_count": 5,
   "metadata": {
    "collapsed": false
   },
   "outputs": [],
   "source": [
    "def getAnswer(answerNumber):\n",
    "    print(answerNumber)\n",
    "    if answerNumber == 1:\n",
    "        return 'This is in January'\n",
    "    elif answerNumber == 2:\n",
    "        return 'This is in February'\n",
    "    elif answerNumber == 3:\n",
    "        return 'This is in March'\n",
    "    elif answerNumber == 4:\n",
    "        return 'This is in April'\n",
    "    elif answerNumber == 5:\n",
    "        return 'This is in May'\n",
    "    elif answerNumber == 6:\n",
    "        return 'This is in June'\n",
    "    elif answerNumber == 7:\n",
    "        return 'This is in July'\n",
    "    elif answerNumber == 8:\n",
    "        return 'This is in August'\n",
    "    elif answerNumber == 9:\n",
    "        return 'This is in September'\n",
    "    elif answerNumber == 10:\n",
    "        return 'This is in October'\n",
    "    elif answerNumber == 11:\n",
    "        return 'This is in November'\n",
    "    elif answerNumber == 12:\n",
    "        return 'This is in December'\n",
    "    else:\n",
    "        return 'This is not in any month of the year.'    "
   ]
  },
  {
   "cell_type": "code",
   "execution_count": 6,
   "metadata": {
    "collapsed": false
   },
   "outputs": [
    {
     "name": "stdout",
     "output_type": "stream",
     "text": [
      "13\n"
     ]
    },
    {
     "data": {
      "text/plain": [
       "'This is not in any month of the year.'"
      ]
     },
     "execution_count": 6,
     "metadata": {},
     "output_type": "execute_result"
    }
   ],
   "source": [
    "import random\n",
    "getAnswer(random.randint(1,15))"
   ]
  },
  {
   "cell_type": "markdown",
   "metadata": {},
   "source": [
    "## print的参数"
   ]
  },
  {
   "cell_type": "code",
   "execution_count": 7,
   "metadata": {
    "collapsed": false
   },
   "outputs": [
    {
     "name": "stdout",
     "output_type": "stream",
     "text": [
      "Hello,Ahcai,PickleWow!\n"
     ]
    }
   ],
   "source": [
    "print(\"Hello\",\"Ahcai\",\"Pickle\", sep=',',end=\"\")\n",
    "print(\"Wow!\")"
   ]
  },
  {
   "cell_type": "markdown",
   "metadata": {},
   "source": [
    "## 异常语句"
   ]
  },
  {
   "cell_type": "code",
   "execution_count": 8,
   "metadata": {
    "collapsed": false
   },
   "outputs": [],
   "source": [
    "def spam(divideBy):\n",
    "    try:\n",
    "        return 42/divideBy\n",
    "    except ZeroDivisionError:\n",
    "        print(\"Error:Invalid argument.\")    "
   ]
  },
  {
   "cell_type": "code",
   "execution_count": 9,
   "metadata": {
    "collapsed": false
   },
   "outputs": [
    {
     "name": "stdout",
     "output_type": "stream",
     "text": [
      "21.0\n",
      "3.5\n",
      "Error:Invalid argument.\n",
      "None\n",
      "7.0\n"
     ]
    }
   ],
   "source": [
    "print(spam(2))\n",
    "print(spam(12))\n",
    "print(spam(0))\n",
    "print(spam(6))"
   ]
  },
  {
   "cell_type": "markdown",
   "metadata": {},
   "source": [
    "## 猜测100以内的随机数"
   ]
  },
  {
   "cell_type": "code",
   "execution_count": 10,
   "metadata": {
    "collapsed": false,
    "scrolled": true
   },
   "outputs": [
    {
     "name": "stdout",
     "output_type": "stream",
     "text": [
      "I'm thinking of a number between 1 and 100. Please guess it:\n",
      "50\n",
      "Your guess is too high. Take a guess:\n",
      "25\n",
      "Your guess is too high. Take a guess:\n",
      "12\n",
      "Your guess is too high. Take a guess:\n",
      "6\n",
      "Your guess is too low. Take a guess:\n",
      "9\n",
      "Your guess is too low. Take a guess:\n",
      "11\n",
      "Good job! Your guessed my number in 6 times.\n"
     ]
    }
   ],
   "source": [
    "import random\n",
    "secret = random.randint(1,100)\n",
    "times = 0\n",
    "print(\"I\\'m thinking of a number between 1 and 100. Please guess it:\")\n",
    "\n",
    "while True:\n",
    "    guess = int(input())\n",
    "    times +=1\n",
    "    if guess < secret:\n",
    "        print(\"Your guess is too low. Take a guess:\")\n",
    "    elif guess > secret:\n",
    "        print(\"Your guess is too high. Take a guess:\")\n",
    "    else:\n",
    "        print(\"Good job! Your guessed my number in %d times.\" %times) \n",
    "        break"
   ]
  },
  {
   "cell_type": "markdown",
   "metadata": {
    "collapsed": true
   },
   "source": [
    "## Collatz序列\n",
    "\n",
    "[冰雹猜想_百度百科](https://baike.baidu.com/item/%E5%86%B0%E9%9B%B9%E7%8C%9C%E6%83%B3/659469?fr=aladdin)"
   ]
  },
  {
   "cell_type": "code",
   "execution_count": 15,
   "metadata": {
    "collapsed": false,
    "scrolled": true
   },
   "outputs": [
    {
     "name": "stdout",
     "output_type": "stream",
     "text": [
      "Please input a positive integer：10\n",
      "The initial number is: 10\n",
      "The Follow-up digital sequence is:\n",
      "5\n",
      "16\n",
      "8\n",
      "4\n",
      "2\n",
      "1\n"
     ]
    }
   ],
   "source": [
    "def collatz(number):\n",
    "    if number%2 == 0:\n",
    "        number = number//2\n",
    "    else:\n",
    "        number = number * 3 +1\n",
    "    print(number)\n",
    "    return number\n",
    "    \n",
    "number = int(input(\"Please input a positive integer：\"))\n",
    "print('The initial number is: %d' %number)\n",
    "print('The Follow-up digital sequence is:')\n",
    "\n",
    "while True:\n",
    "    if number!=1:\n",
    "        number = collatz(number)\n",
    "    else:\n",
    "        break"
   ]
  },
  {
   "cell_type": "markdown",
   "metadata": {},
   "source": [
    "## 逗号代码"
   ]
  },
  {
   "cell_type": "code",
   "execution_count": 17,
   "metadata": {
    "collapsed": false
   },
   "outputs": [
    {
     "name": "stdout",
     "output_type": "stream",
     "text": [
      "ahcai,pickle,elephant,tiger and konglong\n"
     ]
    }
   ],
   "source": [
    "def douhao(listPara):\n",
    "    result = \"\"\n",
    "    for i in range(len(listPara)-1):\n",
    "        result = result + listPara[i] +','\n",
    "    result = result[0:-1] +' and '+listPara[-1]\n",
    "    return result\n",
    "spam = ['ahcai', 'pickle', 'elephant', 'tiger', 'konglong']\n",
    "print(douhao(spam))       "
   ]
  },
  {
   "cell_type": "markdown",
   "metadata": {},
   "source": [
    "## 字符图网格"
   ]
  },
  {
   "cell_type": "code",
   "execution_count": 18,
   "metadata": {
    "collapsed": true
   },
   "outputs": [],
   "source": [
    "grid = [['.','.','.','.','.','.'],['.','O','O','.','.','.'],['O','O','O','O','.','.'],['O','O','O','O','O','.'],['.','O','O','O','O','O'],['O','O','O','O','O','.'],['O','O','O','O','.','.'],['.','O','O','.','.','.'],['.','.','.','.','.','.'],]"
   ]
  },
  {
   "cell_type": "code",
   "execution_count": 19,
   "metadata": {
    "collapsed": false
   },
   "outputs": [
    {
     "name": "stdout",
     "output_type": "stream",
     "text": [
      "[['.', '.', '.', '.', '.', '.'], ['.', 'O', 'O', '.', '.', '.'], ['O', 'O', 'O', 'O', '.', '.'], ['O', 'O', 'O', 'O', 'O', '.'], ['.', 'O', 'O', 'O', 'O', 'O'], ['O', 'O', 'O', 'O', 'O', '.'], ['O', 'O', 'O', 'O', '.', '.'], ['.', 'O', 'O', '.', '.', '.'], ['.', '.', '.', '.', '.', '.']]\n"
     ]
    }
   ],
   "source": [
    "print(grid)"
   ]
  },
  {
   "cell_type": "code",
   "execution_count": 24,
   "metadata": {
    "collapsed": false
   },
   "outputs": [
    {
     "name": "stdout",
     "output_type": "stream",
     "text": [
      ". . . . . \n",
      "\n",
      ". O O . . \n",
      "\n",
      "O O O O . \n",
      "\n",
      "O O O O O \n",
      "\n",
      ". O O O O \n",
      "\n",
      "O O O O O \n",
      "\n",
      "O O O O . \n",
      "\n",
      ". O O . . \n",
      "\n"
     ]
    }
   ],
   "source": [
    "for i in range(8):\n",
    "    for j in range(5):\n",
    "        print(grid[i][j],end=' ')\n",
    "    print('\\n')"
   ]
  },
  {
   "cell_type": "markdown",
   "metadata": {
    "collapsed": true
   },
   "source": [
    "## 储存生日信息"
   ]
  },
  {
   "cell_type": "code",
   "execution_count": 8,
   "metadata": {
    "collapsed": false
   },
   "outputs": [
    {
     "name": "stdout",
     "output_type": "stream",
     "text": [
      "Enter a name(blank to quit):\n",
      "Pickle\n",
      "I don't have birthday information for Pickle\n",
      "What is their birthday?July 28\n",
      "Birthday database updated.\n",
      "Enter a name(blank to quit):\n",
      "Jimmy\n",
      "I don't have birthday information for Jimmy\n",
      "What is their birthday?Jan 30\n",
      "Birthday database updated.\n",
      "Enter a name(blank to quit):\n",
      "Carol\n",
      "Mar 4 is the birthday of Carol\n",
      "Enter a name(blank to quit):\n",
      "Jimmy\n",
      "Jan 30 is the birthday of Jimmy\n",
      "Enter a name(blank to quit):\n",
      "\n"
     ]
    }
   ],
   "source": [
    "birthdays = {'Alice':'Apr 1', 'Bob':'Dec 12', 'Carol':'Mar 4'}\n",
    "while True:\n",
    "    print('Enter a name(blank to quit):')\n",
    "    name = input()\n",
    "    if name==\"\":\n",
    "        break\n",
    "    if name in birthdays:\n",
    "        print(birthdays[name] + ' is the birthday of ' + name)\n",
    "    else:\n",
    "        print('I don\\'t have birthday information for ' + name)\n",
    "        bday = input('What is their birthday?')\n",
    "        birthdays[name] = bday\n",
    "        print('Birthday database updated.')"
   ]
  },
  {
   "cell_type": "code",
   "execution_count": 9,
   "metadata": {
    "collapsed": false
   },
   "outputs": [
    {
     "data": {
      "text/plain": [
       "{'Alice': 'Apr 1',\n",
       " 'Bob': 'Dec 12',\n",
       " 'Carol': 'Mar 4',\n",
       " 'Pickle': 'July 28',\n",
       " 'Jimmy': 'Jan 30'}"
      ]
     },
     "execution_count": 9,
     "metadata": {},
     "output_type": "execute_result"
    }
   ],
   "source": [
    "birthdays"
   ]
  },
  {
   "cell_type": "markdown",
   "metadata": {},
   "source": [
    "## 数字符数"
   ]
  },
  {
   "cell_type": "code",
   "execution_count": 27,
   "metadata": {
    "collapsed": false
   },
   "outputs": [
    {
     "name": "stdout",
     "output_type": "stream",
     "text": [
      "{' ': 1,\n",
      " '.': 3,\n",
      " '0': 1,\n",
      " '1': 2,\n",
      " '2': 1,\n",
      " '7': 1,\n",
      " '9': 1,\n",
      " '[': 1,\n",
      " ']': 1,\n",
      " '·': 2,\n",
      " '—': 2,\n",
      " '、': 1,\n",
      " '。': 1,\n",
      " '《': 1,\n",
      " '》': 1,\n",
      " '业': 1,\n",
      " '习': 1,\n",
      " '书': 1,\n",
      " '从': 1,\n",
      " '伯': 1,\n",
      " '何': 1,\n",
      " '克': 1,\n",
      " '出': 1,\n",
      " '利': 1,\n",
      " '到': 1,\n",
      " '刻': 1,\n",
      " '和': 1,\n",
      " '大': 1,\n",
      " '如': 1,\n",
      " '安': 1,\n",
      " '尔': 1,\n",
      " '工': 1,\n",
      " '师': 1,\n",
      " '平': 1,\n",
      " '年': 1,\n",
      " '序': 1,\n",
      " '德': 1,\n",
      " '志': 1,\n",
      " '意': 1,\n",
      " '手': 1,\n",
      " '推': 1,\n",
      " '斯': 1,\n",
      " '新': 1,\n",
      " '普': 1,\n",
      " '月': 1,\n",
      " '有': 1,\n",
      " '本': 1,\n",
      " '机': 1,\n",
      " '林': 1,\n",
      " '械': 1,\n",
      " '森': 1,\n",
      " '正': 1,\n",
      " '版': 2,\n",
      " '特': 1,\n",
      " '王': 1,\n",
      " '的': 1,\n",
      " '社': 1,\n",
      " '第': 1,\n",
      " '练': 1,\n",
      " '罗': 1,\n",
      " '美': 1,\n",
      " '艾': 1,\n",
      " '荐': 1,\n",
      " '著': 1,\n",
      " '译': 1,\n",
      " '阳': 1,\n",
      " '，': 3}\n"
     ]
    }
   ],
   "source": [
    "# __coding:utf8__\n",
    "\n",
    "import pprint\n",
    "def read_file(name):\n",
    "    desk_path = '/Users/caimeijuan/github/myawesome/_src/'\n",
    "    full_path = desk_path + name + '.txt'\n",
    "    file = open(full_path,'r')\n",
    "    return file\n",
    "\n",
    "message = read_file(\"1\").read()\n",
    "count = {}\n",
    "for character in message:\n",
    "    count.setdefault(character,0)\n",
    "    count[character] +=1\n",
    "\n",
    "'''count = zip(count.values(),count.keys())\n",
    "sorted(count,reverse=True) # 按值排序。但结果的数据类型发生了变化，不再是字典，而是zip格式。'''\n",
    "# pprint.pprint(count) # 按键排序\n",
    "print(pprint.pformat(count)) # 和上一句相比没有变化。"
   ]
  },
  {
   "cell_type": "markdown",
   "metadata": {},
   "source": [
    "## 井字棋盘"
   ]
  },
  {
   "cell_type": "code",
   "execution_count": 61,
   "metadata": {
    "collapsed": false,
    "scrolled": true
   },
   "outputs": [
    {
     "name": "stdout",
     "output_type": "stream",
     "text": [
      "-+-+-+-\n",
      "| | | | \n",
      "-+-+-+-\n",
      "| | | | \n",
      "-+-+-+-\n",
      "| | | | \n",
      "-+-+-+-\n",
      "Turn for X. Move on which space?top-R\n",
      "-+-+-+-\n",
      "| | | X| \n",
      "-+-+-+-\n",
      "| | | | \n",
      "-+-+-+-\n",
      "| | | | \n",
      "-+-+-+-\n",
      "Turn for O. Move on which space?low-M\n",
      "-+-+-+-\n",
      "| | | X| \n",
      "-+-+-+-\n",
      "| | | | \n",
      "-+-+-+-\n",
      "| | O| | \n",
      "-+-+-+-\n",
      "Turn for X. Move on which space?mid-L\n",
      "-+-+-+-\n",
      "| | | X| \n",
      "-+-+-+-\n",
      "| X| | | \n",
      "-+-+-+-\n",
      "| | O| | \n",
      "-+-+-+-\n",
      "Turn for O. Move on which space?top-M\n",
      "-+-+-+-\n",
      "| | O| X| \n",
      "-+-+-+-\n",
      "| X| | | \n",
      "-+-+-+-\n",
      "| | O| | \n",
      "-+-+-+-\n",
      "Turn for X. Move on which space?top-L\n",
      "-+-+-+-\n",
      "| X| O| X| \n",
      "-+-+-+-\n",
      "| X| | | \n",
      "-+-+-+-\n",
      "| | O| | \n",
      "-+-+-+-\n",
      "Turn for O. Move on which space?mid-M\n",
      "-+-+-+-\n",
      "| X| O| X| \n",
      "-+-+-+-\n",
      "| X| O| | \n",
      "-+-+-+-\n",
      "| | O| | \n",
      "-+-+-+-\n",
      "Turn for X. Move on which space?low-R\n",
      "-+-+-+-\n",
      "| X| O| X| \n",
      "-+-+-+-\n",
      "| X| O| | \n",
      "-+-+-+-\n",
      "| | O| X| \n",
      "-+-+-+-\n",
      "Turn for O. Move on which space?low-L\n",
      "-+-+-+-\n",
      "| X| O| X| \n",
      "-+-+-+-\n",
      "| X| O| | \n",
      "-+-+-+-\n",
      "| O| O| X| \n",
      "-+-+-+-\n",
      "Turn for X. Move on which space?mid-R\n",
      "-+-+-+-\n",
      "| X| O| X| \n",
      "-+-+-+-\n",
      "| X| O| X| \n",
      "-+-+-+-\n",
      "| O| O| X| \n",
      "-+-+-+-\n"
     ]
    }
   ],
   "source": [
    "theBoard = {'top-L':'','top-M':'','top-R':'','mid-L':'','mid-M':'','mid-R':'','low-L':'','low-M':'','low-R':''}\n",
    "def printBoard(board):\n",
    "    print('-+-+-+-')\n",
    "    print('| '+ board['top-L'] + '| '+ board['top-M'] + '| '+ board['top-R'] + '| ')\n",
    "    print('-+-+-+-')    \n",
    "    print('| '+ board['mid-L'] + '| '+ board['mid-M'] + '| '+ board['mid-R'] + '| ')\n",
    "    print('-+-+-+-')    \n",
    "    print('| '+ board['low-L'] + '| '+ board['low-M'] + '| '+ board['low-R'] + '| ')\n",
    "    print('-+-+-+-')    \n",
    "\n",
    "board = theBoard.copy() # 直接赋值，会和列表一样，原棋盘也发生了变化。\n",
    "turn = 'X'\n",
    "for i in range(9):\n",
    "    printBoard(board)\n",
    "    move = input('Turn for ' + turn + '. Move on which space?')\n",
    "    board[move] = turn\n",
    "    if turn == 'X':\n",
    "        turn = 'O'\n",
    "    else:\n",
    "        turn = 'X'\n",
    "        \n",
    "printBoard(board)"
   ]
  },
  {
   "cell_type": "markdown",
   "metadata": {},
   "source": [
    "## 野餐物品清单"
   ]
  },
  {
   "cell_type": "code",
   "execution_count": 65,
   "metadata": {
    "collapsed": false
   },
   "outputs": [
    {
     "name": "stdout",
     "output_type": "stream",
     "text": [
      "{'Alice': {'apples': 5, 'pretzels': 12}, 'Cindy': {'ham sandwiches': 5, 'cups': 12}, 'Bob': {'ham sandwiches': 3, 'apples': 2}, 'Carol': {'cups': 3, 'apple pies': 1}}\n",
      "We have 7 apples\n",
      "We have 12 pretzels\n",
      "We have 8 ham sandwiches\n",
      "We have 1 apple pies\n",
      "We have 15 cups\n"
     ]
    }
   ],
   "source": [
    "allGuests = {'Alice':{'apples':5, 'pretzels':12}, 'Cindy':{'ham sandwiches':5, 'cups':12}, 'Bob':{'ham sandwiches':3, 'apples':2}, 'Carol':{'cups':3, 'apple pies':1}}\n",
    "def totalBrought(guests, item):\n",
    "    numBrought = 0\n",
    "    for k, v in guests.items():\n",
    "        numBrought = numBrought + v.get(item,0)\n",
    "    print('We have %d %s'%(numBrought,item))\n",
    "\n",
    "print(allGuests)\n",
    "totalBrought(allGuests,'apples')\n",
    "totalBrought(allGuests,'pretzels')\n",
    "totalBrought(allGuests,'ham sandwiches')\n",
    "totalBrought(allGuests,'apple pies')\n",
    "totalBrought(allGuests,'cups')\n"
   ]
  },
  {
   "cell_type": "markdown",
   "metadata": {
    "collapsed": true
   },
   "source": [
    "## 画一个菱形"
   ]
  },
  {
   "cell_type": "code",
   "execution_count": 16,
   "metadata": {
    "collapsed": false
   },
   "outputs": [
    {
     "name": "stdout",
     "output_type": "stream",
     "text": [
      "Enter the length(for a odd number): 9\n",
      "Enter the special string(only a number or alpha or Chinese character): 福\n",
      "-----福-----\n",
      "-----福福福-----\n",
      "-----福福福福福-----\n",
      "-----福福福福福福福-----\n",
      "-----福福福福福福福福福-----\n",
      "-----福福福福福福福-----\n",
      "-----福福福福福-----\n",
      "-----福福福-----\n",
      "-----福-----\n"
     ]
    }
   ],
   "source": [
    "# __coding:utf-8__\n",
    "\n",
    "def is_chinese(uchar):\n",
    "    '''\n",
    "    判断一个unicode是否是汉字\n",
    "    '''\n",
    "    if uchar >= u'\\u4e00' and uchar<=u'\\u9fa5':\n",
    "        return True\n",
    "    else:\n",
    "        return False\n",
    "\n",
    "def paintRhombusEnglish(n, strR): \n",
    "    '''\n",
    "    该程序允许用户输入一个正奇数和一个英文字符或数字，画出边长为这个奇数的正方形中最大的菱形。\n",
    "    '''\n",
    "    for i in range(1,(n+1)//2):\n",
    "        print((strR*(2*i-1)).center(n,'-')) # 如果不用'//'而是用'/'，则运算结果为浮点数，无法继续。\n",
    "    for i in range((n+1)//2,0,-1):\n",
    "        print((strR*(2*i-1)).center(n,'-'))\n",
    "\n",
    "def paintRhombusChinese(n, strR): \n",
    "    '''\n",
    "    该程序允许用户输入一个正奇数和一个汉字字符，画出边长为这个奇数的正方形中最大的菱形。/半个菱形。\n",
    "    '''\n",
    "    for i in range(1,(n+1)//2):\n",
    "        print((strR*(2*i-1)).center(n+2*i,'-')) # 如果不用'//'而是用'/'，则运算结果为浮点数，无法继续。\n",
    "    for i in range((n+1)//2,0,-1):\n",
    "        print((strR*(2*i-1)).center(n+2*i,'-'))      \n",
    "        \n",
    "while True:\n",
    "    '''\n",
    "    如果用户输入的数字不是正奇数，则需要重新输入。\n",
    "    '''\n",
    "    n = input('Enter the length(for a odd number): ')\n",
    "    if n.isdecimal() and int(n)>0 and int(n)%2==1:\n",
    "        n = int(n)\n",
    "        break\n",
    "\n",
    "while True:\n",
    "    '''\n",
    "    如果用户输入的字符不是一位的字母或数字，则需要重新输入。\n",
    "    '''\n",
    "    strR = input('Enter the special string(only a number or alpha or Chinese character): ')\n",
    "    if strR.isalnum() and len(strR)==1:\n",
    "        break\n",
    "\n",
    "'''\n",
    "如果用户输入的字符是一个汉字，程序照旧运行，但是变形了。因为每个汉字占位2个字符。\n",
    "如果用户输入了汉字，则调用汉字画法。如果用户输入了字母或数字，则调用英文画法。\n",
    "'''\n",
    "if is_chinese(strR)==False:\n",
    "    paintRhombusEnglish(n, strR)\n",
    "else:\n",
    "    paintRhombusChinese(n, strR)"
   ]
  },
  {
   "cell_type": "markdown",
   "metadata": {
    "collapsed": true
   },
   "source": [
    "## 打印整齐表格"
   ]
  },
  {
   "cell_type": "code",
   "execution_count": 1,
   "metadata": {
    "collapsed": false
   },
   "outputs": [
    {
     "name": "stdout",
     "output_type": "stream",
     "text": [
      "-------PICNIC ITEMS-------\n",
      "sandwiches..........     4\n",
      "apples..............    12\n",
      "cups................     4\n",
      "cookies.............  8000\n"
     ]
    }
   ],
   "source": [
    "def printPicnic(itemsDict, leftWidth, rightWidth):\n",
    "    print('PICNIC ITEMS'.center(leftWidth+rightWidth, '-'))\n",
    "    for k, v in itemsDict.items():\n",
    "        print(k.ljust(leftWidth,'.')+str(v).rjust(rightWidth))\n",
    "        \n",
    "picnicItems = {'sandwiches':4, 'apples':12, 'cups':4, 'cookies':8000}\n",
    "printPicnic(picnicItems,20, 6)"
   ]
  },
  {
   "cell_type": "markdown",
   "metadata": {
    "collapsed": true
   },
   "source": [
    "## 密码箱"
   ]
  },
  {
   "cell_type": "code",
   "execution_count": 12,
   "metadata": {
    "collapsed": false
   },
   "outputs": [
    {
     "name": "stdout",
     "output_type": "stream",
     "text": [
      "This account isn't exist.\n"
     ]
    }
   ],
   "source": [
    "# python3\n",
    "# pw.py\n",
    "# __coding:utf-8__\n",
    "# 这是一个密码箱\n",
    "\n",
    "import sys\n",
    "import pyperclip\n",
    "\n",
    "PASSWORD = {\"email\":\"eTfGIM2BZbYH7fxS\", \"blog\":\"a7QEHvM6Rszzo9Uj\", \"luggage\":\"12345\"}\n",
    "\n",
    "if len(sys.argv)<2:\n",
    "    print(\"Usage: python pw.py [account] - copy account password\")\n",
    "    sys.exit()\n",
    "    \n",
    "account = sys.argv[1]\n",
    "\n",
    "print(PASSWORD.get(account,\"This account isn\\'t exist.\"))"
   ]
  },
  {
   "cell_type": "markdown",
   "metadata": {},
   "source": [
    "## 合并列表为字典"
   ]
  },
  {
   "cell_type": "code",
   "execution_count": 1,
   "metadata": {
    "collapsed": true
   },
   "outputs": [],
   "source": [
    "list1 = ['key1','key2','key3']\n",
    "list2 = ['1','2','3']\n",
    "keyword = dict(zip(list1,list2))"
   ]
  },
  {
   "cell_type": "code",
   "execution_count": 2,
   "metadata": {
    "collapsed": false
   },
   "outputs": [
    {
     "data": {
      "text/plain": [
       "dict"
      ]
     },
     "execution_count": 2,
     "metadata": {},
     "output_type": "execute_result"
    }
   ],
   "source": [
    "type(keyword)"
   ]
  },
  {
   "cell_type": "code",
   "execution_count": 3,
   "metadata": {
    "collapsed": false
   },
   "outputs": [
    {
     "name": "stdout",
     "output_type": "stream",
     "text": [
      "{'key1': '1', 'key2': '2', 'key3': '3'}\n"
     ]
    }
   ],
   "source": [
    "print(keyword)"
   ]
  },
  {
   "cell_type": "markdown",
   "metadata": {},
   "source": [
    "## 普通方法查找电话号码"
   ]
  },
  {
   "cell_type": "code",
   "execution_count": 28,
   "metadata": {
    "collapsed": false
   },
   "outputs": [
    {
     "name": "stdout",
     "output_type": "stream",
     "text": [
      "Phone number found: 415-555-1011\n",
      "Phone number found: 415-555-9999\n",
      "Done!\n"
     ]
    }
   ],
   "source": [
    "def isPhoneNumber(text):\n",
    "    if len(text)!= 12:\n",
    "        return False\n",
    "    for i in range(0,3):\n",
    "        if not text[i].isdecimal():\n",
    "            return False\n",
    "    if text[3]!='-':\n",
    "        return False        \n",
    "    for i in range(4,7):\n",
    "        if not text[i].isdecimal():\n",
    "            return False\n",
    "    if text[7]!='-':\n",
    "        return False\n",
    "    for i in range(8,12):\n",
    "        if not text[i].isdecimal():\n",
    "            return False\n",
    "    return True\n",
    "\n",
    "message = \"Call me at 415-555-1011. 415-555-9999 is my office.\"\n",
    "\n",
    "for i in range(len(message)):\n",
    "    chunk = message[i:i+12]\n",
    "    if isPhoneNumber(chunk):\n",
    "        print('Phone number found: ' + chunk)\n",
    "print('Done!')"
   ]
  },
  {
   "cell_type": "markdown",
   "metadata": {},
   "source": [
    "## 用正则表达式查找电话号码"
   ]
  },
  {
   "cell_type": "code",
   "execution_count": 29,
   "metadata": {
    "collapsed": false,
    "scrolled": true
   },
   "outputs": [
    {
     "name": "stdout",
     "output_type": "stream",
     "text": [
      "Phone number found: 415-555-1011\n"
     ]
    }
   ],
   "source": [
    "import re\n",
    "\n",
    "phoneNumRegex = re.compile(r'\\d{3}-\\d{3}-\\d{4}')\n",
    "mo = phoneNumRegex.search(message)\n",
    "print('Phone number found: ' + mo.group())"
   ]
  },
  {
   "cell_type": "code",
   "execution_count": 67,
   "metadata": {
    "collapsed": true
   },
   "outputs": [],
   "source": [
    "message1 = \"Call me at (415)-(555-1011). (415)-(555-9999) is my office.\""
   ]
  },
  {
   "cell_type": "code",
   "execution_count": 71,
   "metadata": {
    "collapsed": false
   },
   "outputs": [
    {
     "data": {
      "text/plain": [
       "\"\\n当message中没有括号时，又想用groups()，就需要在正则中加上()，message中不加。\\n如果message也有括号，正则中需要加上有转义符的括号，''里面的字符，依然要加上前一句说的()才能既匹配上message中的括号，又能使用groups()。\\n现在只返回第一个符合条件的。\\n\""
      ]
     },
     "execution_count": 71,
     "metadata": {},
     "output_type": "execute_result"
    }
   ],
   "source": [
    "phoneNumRegex1 = re.compile(r'(\\(\\d{3}\\))-(\\(\\d{3}-\\d{4}\\))')\n",
    "mo = phoneNumRegex1.search(message1)\n",
    "mo\n",
    "'''\n",
    "当message中没有括号时，又想用groups()，就需要在正则中加上()，message中不加。\n",
    "如果message也有括号，正则中需要加上有转义符的括号，''里面的字符，依然要加上前一句说的()才能既匹配上message中的括号，又能使用groups()。\n",
    "现在只返回第一个符合条件的。\n",
    "'''"
   ]
  },
  {
   "cell_type": "markdown",
   "metadata": {},
   "source": [
    "##  查找电话号码和电子邮箱"
   ]
  },
  {
   "cell_type": "code",
   "execution_count": 94,
   "metadata": {
    "collapsed": false
   },
   "outputs": [
    {
     "name": "stdout",
     "output_type": "stream",
     "text": [
      "No phone numbers or emails found.\n"
     ]
    }
   ],
   "source": [
    "import pyperclip\n",
    "import re\n",
    "\n",
    "# clipboard message\n",
    "message = str(pyperclip.paste())\n",
    "if message == \"\":\n",
    "    print('Clipboard is null. Copy something to continue.')\n",
    "\n",
    "# phone regex\n",
    "phoneNumRegex = re.compile(r'''(\n",
    "(\\d{3}|\\(\\d{3}\\))?             # area code\n",
    "(\\s|-|\\.)?                     # seperator\n",
    "(\\d{3})                        # first 3 digits\n",
    "(\\s|-|\\.)                      # seperator\n",
    "(\\d{4})                        # last 4 digits\n",
    "(\\s*(ext|x|ext.)\\s*(\\d{2,5}))? # extension\n",
    ")''', re.VERBOSE)\n",
    "\n",
    "# email regex\n",
    "emailRegex = re. compile(r'''(\n",
    "[a-zA-Z0-9._%+-]+              # username\n",
    "@                              # @symbol\n",
    "[a-zA-Z0-9._]+                 # domain name\n",
    "(\\.[a-zA-Z{2,4}])              # dot-something\n",
    ")''', re.VERBOSE)\n",
    "\n",
    "# Find all matches in clipboard text.\n",
    "matches = []\n",
    "for groups in phoneNumRegex.findall(message):\n",
    "    phoneNum = '-'.join([groups[1],groups[3],groups[5]])\n",
    "    if groups[8] != '':\n",
    "        phoneNum += ' x' + groups[8]\n",
    "    matches.append(phoneNum)\n",
    "for groups in emailRegex.findall(message):\n",
    "    matches.append(groups[0])\n",
    "\n",
    "if len(matches) > 0:\n",
    "    pyperclip.copy('\\n'.join(matches))\n",
    "    print('Done. To paste your results.')\n",
    "    print('\\n'.join(matches))\n",
    "else:\n",
    "    print('No phone numbers or emails found.')"
   ]
  },
  {
   "cell_type": "markdown",
   "metadata": {
    "collapsed": false
   },
   "source": [
    "## PI  \n",
    "\n",
    "[Irrational Numbers Search Engine](http://www.subidiom.com/pi/pi.asp)"
   ]
  },
  {
   "cell_type": "code",
   "execution_count": 14,
   "metadata": {
    "collapsed": false
   },
   "outputs": [],
   "source": [
    "from math import pi\n",
    "from decimal import *\n",
    "import re\n",
    "import numpy as np\n",
    "import timeit"
   ]
  },
  {
   "cell_type": "code",
   "execution_count": 6,
   "metadata": {
    "collapsed": false
   },
   "outputs": [
    {
     "data": {
      "text/plain": [
       "'3.141592653589793115997963468544185161590576171875'"
      ]
     },
     "execution_count": 6,
     "metadata": {},
     "output_type": "execute_result"
    }
   ],
   "source": [
    "str(Decimal(pi))"
   ]
  },
  {
   "cell_type": "code",
   "execution_count": 19,
   "metadata": {
    "collapsed": false
   },
   "outputs": [
    {
     "name": "stdout",
     "output_type": "stream",
     "text": [
      "concat  501.20280385 seconds\n"
     ]
    }
   ],
   "source": [
    "def pifomula(precision):\n",
    "    getcontext().prec = precision\n",
    "    fomula = 0\n",
    "    for k in range(precision):\n",
    "        fomula += 1/Decimal(16)**k * (Decimal(4)/(8*k+1)-Decimal(2)/(8*k+4)-Decimal(1)/(8*k+5)-Decimal(1)/(8*k+6))\n",
    "    return fomula\n",
    "t1 = timeit.Timer(\"pifomula(2*10**4)\", \"from __main__ import pifomula\")\n",
    "print(\"concat \",t1.timeit(number=2), \"seconds\")"
   ]
  },
  {
   "cell_type": "code",
   "execution_count": null,
   "metadata": {
    "collapsed": false
   },
   "outputs": [],
   "source": []
  },
  {
   "cell_type": "code",
   "execution_count": 49,
   "metadata": {
    "collapsed": false
   },
   "outputs": [
    {
     "name": "stdout",
     "output_type": "stream",
     "text": [
      "Not found.\n"
     ]
    }
   ],
   "source": [
    "def findFromPI(numbers):\n",
    "    strPI = str(pifomula(10))    \n",
    "    if numbers.isdigit():\n",
    "        if re.match(numbers, strPI) == None:\n",
    "            print('Not found.')\n",
    "        else:\n",
    "            for match in re.finditer(numbers, strPI):\n",
    "                print('The numeric string ' + numbers + ' appears at the ' + str(int(match.start())-1) + ' decimal digit of Pi.')\n",
    "    else:\n",
    "        print('Digitals please!')\n",
    "findFromPI('14')"
   ]
  },
  {
   "cell_type": "code",
   "execution_count": 44,
   "metadata": {
    "collapsed": false
   },
   "outputs": [
    {
     "name": "stdout",
     "output_type": "stream",
     "text": [
      "3.141592653\n"
     ]
    }
   ],
   "source": [
    "print(str(pifomula(10)))"
   ]
  },
  {
   "cell_type": "code",
   "execution_count": 53,
   "metadata": {
    "collapsed": false
   },
   "outputs": [
    {
     "name": "stdout",
     "output_type": "stream",
     "text": [
      "None\n"
     ]
    }
   ],
   "source": [
    "print(re.match('926', '3.141592653'))"
   ]
  },
  {
   "cell_type": "markdown",
   "metadata": {
    "collapsed": false
   },
   "source": [
    "## 从web抓取信息"
   ]
  },
  {
   "cell_type": "markdown",
   "metadata": {},
   "source": [
    "### `webbrowser`\n",
    "\n",
    "`webbrowser`这个模块，可以直接打开网址。"
   ]
  },
  {
   "cell_type": "markdown",
   "metadata": {},
   "source": [
    "#### 打开单个城市"
   ]
  },
  {
   "cell_type": "code",
   "execution_count": 14,
   "metadata": {
    "collapsed": false
   },
   "outputs": [
    {
     "data": {
      "text/plain": [
       "True"
      ]
     },
     "execution_count": 14,
     "metadata": {},
     "output_type": "execute_result"
    }
   ],
   "source": [
    "#_*_coding:utf-8_*_\n",
    "import webbrowser\n",
    "import re\n",
    "\n",
    "def mapit(address):\n",
    "    address = re.compile(r'\\s+').sub('+',address) # 这里“+”之前不需要转义符\\\n",
    "    url = 'http://www.google.com/maps/place/' + address\n",
    "    return webbrowser.open(url)\n",
    "\n",
    "address = 'Wuxi,   Jiangsu,   China'    \n",
    "mapit(address)"
   ]
  },
  {
   "cell_type": "markdown",
   "metadata": {},
   "source": [
    "#### 批量打开城市群"
   ]
  },
  {
   "cell_type": "code",
   "execution_count": 17,
   "metadata": {
    "collapsed": false
   },
   "outputs": [],
   "source": [
    "import webbrowser\n",
    "\n",
    "def mapcities(cities):\n",
    "    address = []\n",
    "    for city in cities:\n",
    "        address.append(city + ', Jiangsu, China')\n",
    "    for a in address:\n",
    "        a = re.compile(r'\\s+').sub('+',a)\n",
    "        url = 'http://www.google.com/maps/place/' + a\n",
    "        webbrowser.open(url)\n",
    "        \n",
    "cities = ['Wuxi', 'Suzhou', 'Xuzhou', 'Zhengjiang', 'Taizhou']\n",
    "mapcities(cities)"
   ]
  },
  {
   "cell_type": "markdown",
   "metadata": {},
   "source": [
    "### requests模块"
   ]
  },
  {
   "cell_type": "code",
   "execution_count": 42,
   "metadata": {
    "collapsed": true
   },
   "outputs": [],
   "source": [
    "#_*_coding:utf-8_*_\n",
    "import requests\n",
    "import chardet"
   ]
  },
  {
   "cell_type": "code",
   "execution_count": 39,
   "metadata": {
    "collapsed": true
   },
   "outputs": [],
   "source": [
    "url0 = 'http://www.gutenberg.org/cache/epub/1112/pg1112.txt'\n",
    "url1 = 'http://example.webscraping.com'\n",
    "url2 = 'http://www.engine3d.com'"
   ]
  },
  {
   "cell_type": "code",
   "execution_count": 40,
   "metadata": {
    "collapsed": false
   },
   "outputs": [],
   "source": [
    "res0 = requests.get(url0)\n",
    "res1 = requests.get(url1)\n",
    "res2 = requests.get(url2)"
   ]
  },
  {
   "cell_type": "code",
   "execution_count": 26,
   "metadata": {
    "collapsed": false
   },
   "outputs": [
    {
     "data": {
      "text/plain": [
       "[requests.models.Response, requests.models.Response, requests.models.Response]"
      ]
     },
     "execution_count": 26,
     "metadata": {},
     "output_type": "execute_result"
    }
   ],
   "source": [
    "[type(res0),type(res1),type(res2)]"
   ]
  },
  {
   "cell_type": "code",
   "execution_count": 27,
   "metadata": {
    "collapsed": false
   },
   "outputs": [
    {
     "data": {
      "text/plain": [
       "[True, True, True]"
      ]
     },
     "execution_count": 27,
     "metadata": {},
     "output_type": "execute_result"
    }
   ],
   "source": [
    "[res0.status_code == requests.codes.ok,res1.status_code == requests.codes.ok,res2.status_code == requests.codes.ok]"
   ]
  },
  {
   "cell_type": "code",
   "execution_count": 28,
   "metadata": {
    "collapsed": false
   },
   "outputs": [
    {
     "data": {
      "text/plain": [
       "[178981, 7902, 17925]"
      ]
     },
     "execution_count": 28,
     "metadata": {},
     "output_type": "execute_result"
    }
   ],
   "source": [
    "[len(res0.text),len(res1.text),len(res2.text)]"
   ]
  },
  {
   "cell_type": "code",
   "execution_count": 43,
   "metadata": {
    "collapsed": false
   },
   "outputs": [
    {
     "name": "stdout",
     "output_type": "stream",
     "text": [
      "﻿The Project Gutenberg EBook of Romeo and Juliet, by William Shakespeare\r\n",
      "\r\n",
      "This eBook is for the use of anyone anywhere at no cost and with\r\n",
      "almost no restrictions whatsoever.  You may copy it, give it away or\r\n",
      "re-use it under the terms of the Proje\n"
     ]
    }
   ],
   "source": [
    "print(res0.text[:250])"
   ]
  },
  {
   "cell_type": "code",
   "execution_count": 37,
   "metadata": {
    "collapsed": false
   },
   "outputs": [
    {
     "data": {
      "text/plain": [
       "'ISO-8859-1'"
      ]
     },
     "execution_count": 37,
     "metadata": {},
     "output_type": "execute_result"
    }
   ],
   "source": [
    "res2.encoding"
   ]
  },
  {
   "cell_type": "code",
   "execution_count": 52,
   "metadata": {
    "collapsed": false
   },
   "outputs": [],
   "source": [
    "url3 = 'http://inventwithpython.com/page_that_does_not_exist'"
   ]
  },
  {
   "cell_type": "code",
   "execution_count": 53,
   "metadata": {
    "collapsed": false
   },
   "outputs": [],
   "source": [
    "res3 = requests.get(url3)"
   ]
  },
  {
   "cell_type": "code",
   "execution_count": 54,
   "metadata": {
    "collapsed": false
   },
   "outputs": [
    {
     "ename": "HTTPError",
     "evalue": "404 Client Error: Not Found for url: http://inventwithpython.com/page_that_does_not_exist",
     "output_type": "error",
     "traceback": [
      "\u001b[0;31m---------------------------------------------------------------------------\u001b[0m",
      "\u001b[0;31mHTTPError\u001b[0m                                 Traceback (most recent call last)",
      "\u001b[0;32m<ipython-input-54-5fb0c97f3d86>\u001b[0m in \u001b[0;36m<module>\u001b[0;34m\u001b[0m\n\u001b[0;32m----> 1\u001b[0;31m \u001b[0mres3\u001b[0m\u001b[0;34m.\u001b[0m\u001b[0mraise_for_status\u001b[0m\u001b[0;34m(\u001b[0m\u001b[0;34m)\u001b[0m\u001b[0;34m\u001b[0m\u001b[0;34m\u001b[0m\u001b[0m\n\u001b[0m",
      "\u001b[0;32m~/anaconda/envs/python35/lib/python3.7/site-packages/requests/models.py\u001b[0m in \u001b[0;36mraise_for_status\u001b[0;34m(self)\u001b[0m\n\u001b[1;32m    938\u001b[0m \u001b[0;34m\u001b[0m\u001b[0m\n\u001b[1;32m    939\u001b[0m         \u001b[0;32mif\u001b[0m \u001b[0mhttp_error_msg\u001b[0m\u001b[0;34m:\u001b[0m\u001b[0;34m\u001b[0m\u001b[0;34m\u001b[0m\u001b[0m\n\u001b[0;32m--> 940\u001b[0;31m             \u001b[0;32mraise\u001b[0m \u001b[0mHTTPError\u001b[0m\u001b[0;34m(\u001b[0m\u001b[0mhttp_error_msg\u001b[0m\u001b[0;34m,\u001b[0m \u001b[0mresponse\u001b[0m\u001b[0;34m=\u001b[0m\u001b[0mself\u001b[0m\u001b[0;34m)\u001b[0m\u001b[0;34m\u001b[0m\u001b[0;34m\u001b[0m\u001b[0m\n\u001b[0m\u001b[1;32m    941\u001b[0m \u001b[0;34m\u001b[0m\u001b[0m\n\u001b[1;32m    942\u001b[0m     \u001b[0;32mdef\u001b[0m \u001b[0mclose\u001b[0m\u001b[0;34m(\u001b[0m\u001b[0mself\u001b[0m\u001b[0;34m)\u001b[0m\u001b[0;34m:\u001b[0m\u001b[0;34m\u001b[0m\u001b[0;34m\u001b[0m\u001b[0m\n",
      "\u001b[0;31mHTTPError\u001b[0m: 404 Client Error: Not Found for url: http://inventwithpython.com/page_that_does_not_exist"
     ]
    }
   ],
   "source": [
    "res3.raise_for_status()"
   ]
  },
  {
   "cell_type": "code",
   "execution_count": 70,
   "metadata": {
    "collapsed": false
   },
   "outputs": [],
   "source": [
    "def download(url):\n",
    "    res = requests.get(url)\n",
    "    try:\n",
    "        res.raise_for_status()\n",
    "        html = res.text\n",
    "        print('Webpage is download successfully.'+'\\n'+'The beginning texts here:  '+'\\n\\n')\n",
    "        print(html[:200])\n",
    "    except Exception as exc :\n",
    "        print('There was a problem: %s' %exc)"
   ]
  },
  {
   "cell_type": "code",
   "execution_count": 72,
   "metadata": {
    "collapsed": false
   },
   "outputs": [
    {
     "name": "stdout",
     "output_type": "stream",
     "text": [
      "Webpage is download successfully.\n",
      "The beginning texts here:  \n",
      "\n",
      "\n",
      "﻿The Project Gutenberg EBook of Romeo and Juliet, by William Shakespeare\r\n",
      "\r\n",
      "This eBook is for the use of anyone anywhere at no cost and with\r\n",
      "almost no restrictions whatsoever.  You may copy it, give \n"
     ]
    }
   ],
   "source": [
    "download(url0)"
   ]
  },
  {
   "cell_type": "code",
   "execution_count": 71,
   "metadata": {
    "collapsed": false
   },
   "outputs": [
    {
     "name": "stdout",
     "output_type": "stream",
     "text": [
      "There was a problem: 404 Client Error: Not Found for url: http://inventwithpython.com/page_that_does_not_exist\n"
     ]
    }
   ],
   "source": [
    "download(url3)"
   ]
  },
  {
   "cell_type": "markdown",
   "metadata": {},
   "source": [
    "关于Unicode编码的知识：[The Absolute Minimum Every Software Developer Absolutely, Positively Must Know About Unicode and Character Sets (No Excuses!) – Joel on Software](https://www.joelonsoftware.com/2003/10/08/the-absolute-minimum-every-software-developer-absolutely-positively-must-know-about-unicode-and-character-sets-no-excuses/)"
   ]
  },
  {
   "cell_type": "code",
   "execution_count": 76,
   "metadata": {
    "collapsed": true
   },
   "outputs": [],
   "source": [
    "import requests\n",
    "\n",
    "res = requests.get(url0)\n",
    "res.raise_for_status()\n",
    "playFile = open('RomeoAndJuliet.txt', 'wb')\n",
    "for chunk in res.iter_content(100000):\n",
    "    playFile.write(chunk)\n",
    "playFile.close()"
   ]
  },
  {
   "cell_type": "markdown",
   "metadata": {},
   "source": [
    "`encode_type = chardet.detect(html)`\n",
    "`html = html.decode(encode_type['encoding'])`  \n",
    "\n",
    "这里不是靠这两句解决问题的。已经测试过，html是str类型的。\n",
    "\n",
    "用wb模式打开文件，写入内容是 `res.iter_content(100000)`  \n",
    "作者说，使用iter_content是为了确保requests模块即使在**下载巨大**的文件时也**不会消耗太多**内存。\n",
    "\n",
    "**The chunk size is the number of bytes it should read into memory. **"
   ]
  },
  {
   "cell_type": "code",
   "execution_count": 77,
   "metadata": {
    "collapsed": false
   },
   "outputs": [
    {
     "name": "stdout",
     "output_type": "stream",
     "text": [
      "Help on method iter_content in module requests.models:\n",
      "\n",
      "iter_content(chunk_size=1, decode_unicode=False) method of requests.models.Response instance\n",
      "    Iterates over the response data.  When stream=True is set on the\n",
      "    request, this avoids reading the content at once into memory for\n",
      "    large responses.  The chunk size is the number of bytes it should\n",
      "    read into memory.  This is not necessarily the length of each item\n",
      "    returned as decoding can take place.\n",
      "    \n",
      "    chunk_size must be of type int or None. A value of None will\n",
      "    function differently depending on the value of `stream`.\n",
      "    stream=True will read data as it arrives in whatever size the\n",
      "    chunks are received. If stream=False, data is returned as\n",
      "    a single chunk.\n",
      "    \n",
      "    If decode_unicode is True, content will be decoded using the best\n",
      "    available encoding based on the response.\n",
      "\n"
     ]
    }
   ],
   "source": [
    "help(res.iter_content)"
   ]
  },
  {
   "cell_type": "markdown",
   "metadata": {},
   "source": [
    "requests文档地址：  \n",
    "[Requests: HTTP for Humans™ — Requests 2.21.0 documentation](https://requests.readthedocs.io/en/master/)"
   ]
  },
  {
   "cell_type": "markdown",
   "metadata": {},
   "source": [
    "### HTML\n",
    "\n",
    "**苹果系统中，command+option+I，可以打开或关闭开发者工具，和Windows上的F12是一样的。**  \n",
    "\n",
    "作者建议，**不要用正则表达式来解析HTML**。例如昨天遇到的将class写在a标签中间的那种，对于html来说仍然有效，用正则来预估所有的情况则会非常繁琐。专门用来解析html的模块，例如beautifulsoup，将更不容易出错。[html - RegEx match open tags except XHTML self-contained tags - Stack Overflow](https://stackoverflow.com/questions/1732348/regex-match-open-tags-except-xhtml-self-contained-tags/1732454#1732454)"
   ]
  },
  {
   "cell_type": "markdown",
   "metadata": {},
   "source": [
    "### BeautifulSoup"
   ]
  },
  {
   "cell_type": "code",
   "execution_count": 81,
   "metadata": {
    "collapsed": false
   },
   "outputs": [
    {
     "data": {
      "text/plain": [
       "bs4.BeautifulSoup"
      ]
     },
     "execution_count": 81,
     "metadata": {},
     "output_type": "execute_result"
    }
   ],
   "source": [
    "import requests, bs4\n",
    "\n",
    "url = 'http://nostarch.com'\n",
    "res = requests.get(url)\n",
    "res.raise_for_status()\n",
    "noStarchSoup = bs4.BeautifulSoup(res.text)\n",
    "type(noStarchSoup)"
   ]
  },
  {
   "cell_type": "code",
   "execution_count": 92,
   "metadata": {
    "collapsed": false
   },
   "outputs": [
    {
     "data": {
      "text/plain": [
       "bs4.BeautifulSoup"
      ]
     },
     "execution_count": 92,
     "metadata": {},
     "output_type": "execute_result"
    }
   ],
   "source": [
    "exampleFile = open('UnicodeandCharacter.html')\n",
    "exampleSoup = bs4.BeautifulSoup(exampleFile.read()) #.read()加了没加没区别。\n",
    "type(exampleSoup)"
   ]
  },
  {
   "cell_type": "code",
   "execution_count": 97,
   "metadata": {
    "collapsed": false
   },
   "outputs": [],
   "source": [
    "elms = exampleSoup.select('img')"
   ]
  },
  {
   "cell_type": "code",
   "execution_count": 117,
   "metadata": {
    "collapsed": false
   },
   "outputs": [
    {
     "data": {
      "text/plain": [
       "True"
      ]
     },
     "execution_count": 117,
     "metadata": {},
     "output_type": "execute_result"
    }
   ],
   "source": [
    "homePage = 'https://www.joelonsoftware.com/'\n",
    "url_src = homePage+elms[0]['src'][3:]\n",
    "import webbrowser\n",
    "webbrowser.open(url_src)"
   ]
  },
  {
   "cell_type": "markdown",
   "metadata": {},
   "source": [
    "src=\"https://i1.wp.com/www.joelonsoftware.com/wp-content/uploads/2016/12/Pong.png?w=730&ssl=1\"\n",
    "\n",
    "为什么从网页中粘下来的src和上面elms的src不一样呢？"
   ]
  },
  {
   "cell_type": "markdown",
   "metadata": {},
   "source": [
    "#### Google自动查询"
   ]
  },
  {
   "cell_type": "code",
   "execution_count": 145,
   "metadata": {
    "collapsed": false
   },
   "outputs": [
    {
     "name": "stdout",
     "output_type": "stream",
     "text": [
      "Googling...\n"
     ]
    }
   ],
   "source": [
    "# _*_coding:utf-8_*_\n",
    "import requests, bs4, webbrowser,re\n",
    "\n",
    "def googleit(query):\n",
    "    \n",
    "    #打开查询结果页面\n",
    "    if '' in query:\n",
    "        query = re.compile(r'\\s+').sub('+', query)\n",
    "    else:\n",
    "        query = query\n",
    "\n",
    "    url = 'http://www.google.com/search?q=' + query\n",
    "    print('Googling...')\n",
    "    res = requests.get(url)\n",
    "    res.raise_for_status()\n",
    "    \n",
    "    #选择结果页面\n",
    "    soup = bs4.BeautifulSoup(res.text)\n",
    "    linkElems = soup.select('.r a')\n",
    "    \n",
    "    #打开前5个页面\n",
    "    numOpen = min(5, len(linkElems))\n",
    "    for i in range(numOpen):\n",
    "        webbrowser.open('http://google.com' + linkElems[i].get('href'))\n",
    "query = 'python webscraping'\n",
    "googleit(query)"
   ]
  },
  {
   "cell_type": "code",
   "execution_count": 177,
   "metadata": {
    "collapsed": false
   },
   "outputs": [
    {
     "name": "stdout",
     "output_type": "stream",
     "text": [
      "Downloading page http://xkcd.com ...\n",
      "Downloading image is http://imgs.xkcd.com/comics/too_much_talking.png ...\n",
      "Downloading page http://xkcd.com/2133/ ...\n",
      "Downloading image is http://imgs.xkcd.com/comics/eht_black_hole_picture.png ...\n",
      "Downloading page http://xkcd.com/2132/ ...\n",
      "Downloading image is http://imgs.xkcd.com/comics/percentage_styles.png ...\n",
      "Downloading page http://xkcd.com/2131/ ...\n",
      "Downloading image is http://imgs.xkcd.com/comics/emojidome.png ...\n",
      "Downloading page http://xkcd.com/2130/ ...\n",
      "Downloading image is http://imgs.xkcd.com/comics/industry_nicknames.png ...\n",
      "Downloading page http://xkcd.com/2129/ ...\n",
      "Downloading image is http://imgs.xkcd.com/comics/1921_fact_checker.png ...\n",
      "Downloading page http://xkcd.com/2128/ ...\n",
      "Downloading image is http://imgs.xkcd.com/comics/new_robot.png ...\n",
      "Downloading page http://xkcd.com/2127/ ...\n",
      "Downloading image is http://imgs.xkcd.com/comics/panama_canal.png ...\n",
      "Downloading page http://xkcd.com/2126/ ...\n",
      "Downloading image is http://imgs.xkcd.com/comics/google_trends_maps.png ...\n",
      "Downloading page http://xkcd.com/2125/ ...\n",
      "Downloading image is http://imgs.xkcd.com/comics/luna_2.png ...\n",
      "Downloading page http://xkcd.com/2124/ ...\n",
      "Downloading image is http://imgs.xkcd.com/comics/space_mission_hearing.png ...\n",
      "Downloading page http://xkcd.com/2123/ ...\n",
      "Downloading image is http://imgs.xkcd.com/comics/meta_collecting.png ...\n",
      "Downloading page http://xkcd.com/2122/ ...\n",
      "Downloading image is http://imgs.xkcd.com/comics/size_venn_diagram.png ...\n",
      "Downloading page http://xkcd.com/2121/ ...\n",
      "Downloading image is http://imgs.xkcd.com/comics/light_pollution.png ...\n",
      "Downloading page http://xkcd.com/2120/ ...\n",
      "Downloading image is http://imgs.xkcd.com/comics/brain_hemispheres.png ...\n",
      "Downloading page http://xkcd.com/2119/ ...\n",
      "Downloading image is http://imgs.xkcd.com/comics/video_orientation.png ...\n",
      "Downloading page http://xkcd.com/2118/ ...\n",
      "Downloading image is http://imgs.xkcd.com/comics/normal_distribution.png ...\n",
      "Downloading page http://xkcd.com/2117/ ...\n",
      "Downloading image is http://imgs.xkcd.com/comics/differentiation_and_integration.png ...\n",
      "Downloading page http://xkcd.com/2116/ ...\n",
      "Downloading image is http://imgs.xkcd.com/comics/norm_normal_file_format.png ...\n",
      "Downloading page http://xkcd.com/2115/ ...\n",
      "Downloading image is http://imgs.xkcd.com/comics/plutonium.png ...\n",
      "Downloading page http://xkcd.com/2114/ ...\n",
      "Downloading image is http://imgs.xkcd.com/comics/launch_conditions.png ...\n",
      "Downloading page http://xkcd.com/2113/ ...\n",
      "Downloading image is http://imgs.xkcd.com/comics/physics_suppression.png ...\n",
      "Downloading page http://xkcd.com/2112/ ...\n",
      "Downloading image is http://imgs.xkcd.com/comics/night_shift.png ...\n",
      "Downloading page http://xkcd.com/2111/ ...\n",
      "Downloading image is http://imgs.xkcd.com/comics/opportunity_rover.png ...\n",
      "Downloading page http://xkcd.com/2110/ ...\n",
      "Downloading image is http://imgs.xkcd.com/comics/error_bars.png ...\n",
      "Downloading page http://xkcd.com/2109/ ...\n",
      "Downloading image is http://imgs.xkcd.com/comics/invisible_formatting.png ...\n",
      "Downloading page http://xkcd.com/2108/ ...\n",
      "Downloading image is http://imgs.xkcd.com/comics/carbonated_beverage_language_map.png ...\n",
      "Downloading page http://xkcd.com/2107/ ...\n",
      "Downloading image is http://imgs.xkcd.com/comics/launch_risk.png ...\n",
      "Downloading page http://xkcd.com/2106/ ...\n",
      "Downloading image is http://imgs.xkcd.com/comics/sharing_options.png ...\n",
      "Downloading page http://xkcd.com/2105/ ...\n",
      "Downloading image is http://imgs.xkcd.com/comics/modern_osi_model.png ...\n",
      "Downloading page http://xkcd.com/2104/ ...\n",
      "Downloading image is http://imgs.xkcd.com/comics/biff_tannen.png ...\n",
      "Downloading page http://xkcd.com/2103/ ...\n",
      "Downloading image is http://imgs.xkcd.com/comics/midcontinent_rift_system.png ...\n",
      "Downloading page http://xkcd.com/2102/ ...\n",
      "Downloading image is http://imgs.xkcd.com/comics/internet_archive.png ...\n",
      "Downloading page http://xkcd.com/2101/ ...\n",
      "Downloading image is http://imgs.xkcd.com/comics/technical_analysis.png ...\n",
      "Downloading page http://xkcd.com/2100/ ...\n",
      "Downloading image is http://imgs.xkcd.com/comics/models_of_the_atom.png ...\n",
      "Downloading page http://xkcd.com/2099/ ...\n",
      "Downloading image is http://imgs.xkcd.com/comics/missal_of_silos.png ...\n",
      "Downloading page http://xkcd.com/2098/ ...\n",
      "Downloading image is http://imgs.xkcd.com/comics/magnetic_pole.png ...\n",
      "Downloading page http://xkcd.com/2097/ ...\n",
      "Downloading image is http://imgs.xkcd.com/comics/thor_tools.png ...\n",
      "Downloading page http://xkcd.com/2096/ ...\n",
      "Downloading image is http://imgs.xkcd.com/comics/mattresses.png ...\n",
      "Downloading page http://xkcd.com/2095/ ...\n",
      "Downloading image is http://imgs.xkcd.com/comics/marsiforming.png ...\n",
      "Downloading page http://xkcd.com/2094/ ...\n",
      "Downloading image is http://imgs.xkcd.com/comics/short_selling.png ...\n",
      "Downloading page http://xkcd.com/2093/ ...\n",
      "Downloading image is http://imgs.xkcd.com/comics/reminders.png ...\n",
      "Downloading page http://xkcd.com/2092/ ...\n",
      "Downloading image is http://imgs.xkcd.com/comics/consensus_new_year.png ...\n",
      "Downloading page http://xkcd.com/2091/ ...\n",
      "Downloading image is http://imgs.xkcd.com/comics/million_billion_trillion.png ...\n",
      "Downloading page http://xkcd.com/2090/ ...\n",
      "Downloading image is http://imgs.xkcd.com/comics/feathered_dinosaur_venn_diagram.png ...\n",
      "Downloading page http://xkcd.com/2089/ ...\n",
      "Downloading image is http://imgs.xkcd.com/comics/christmas_eve_eve.png ...\n",
      "Downloading page http://xkcd.com/2088/ ...\n",
      "Downloading image is http://imgs.xkcd.com/comics/schwarzschilds_cat.png ...\n",
      "Downloading page http://xkcd.com/2087/ ...\n",
      "Downloading image is http://imgs.xkcd.com/comics/rocket_launch.png ...\n",
      "Downloading page http://xkcd.com/2086/ ...\n",
      "Downloading image is http://imgs.xkcd.com/comics/history_department.png ...\n",
      "Downloading page http://xkcd.com/2085/ ...\n",
      "Downloading image is http://imgs.xkcd.com/comics/arxiv.png ...\n",
      "Downloading page http://xkcd.com/2084/ ...\n",
      "Downloading image is http://imgs.xkcd.com/comics/fdr.png ...\n",
      "Downloading page http://xkcd.com/2083/ ...\n",
      "Downloading image is http://imgs.xkcd.com/comics/laptop_issues.png ...\n",
      "Downloading page http://xkcd.com/2082/ ...\n",
      "Downloading image is http://imgs.xkcd.com/comics/mercator_projection.png ...\n",
      "Downloading page http://xkcd.com/2081/ ...\n",
      "Downloading image is http://imgs.xkcd.com/comics/middle_latitudes.png ...\n",
      "Downloading page http://xkcd.com/2080/ ...\n",
      "Downloading image is http://imgs.xkcd.com/comics/cohort_and_age_effects.png ...\n",
      "Downloading page http://xkcd.com/2079/ ...\n",
      "Downloading image is http://imgs.xkcd.com/comics/alpha_centauri.png ...\n",
      "Downloading page http://xkcd.com/2078/ ...\n",
      "Downloading image is http://imgs.xkcd.com/comics/popper.png ...\n",
      "Downloading page http://xkcd.com/2077/ ...\n",
      "Downloading image is http://imgs.xkcd.com/comics/heist.png ...\n",
      "Downloading page http://xkcd.com/2076/ ...\n",
      "Downloading image is http://imgs.xkcd.com/comics/horror_movies_2.png ...\n",
      "Downloading page http://xkcd.com/2075/ ...\n",
      "Downloading image is http://imgs.xkcd.com/comics/update_your_address.png ...\n",
      "Downloading page http://xkcd.com/2074/ ...\n",
      "Downloading image is http://imgs.xkcd.com/comics/airplanes_and_spaceships.png ...\n",
      "Downloading page http://xkcd.com/2073/ ...\n",
      "Downloading image is http://imgs.xkcd.com/comics/kilogram.png ...\n",
      "Downloading page http://xkcd.com/2072/ ...\n",
      "Downloading image is http://imgs.xkcd.com/comics/evaluating_tech_things.png ...\n",
      "Downloading page http://xkcd.com/2071/ ...\n",
      "Downloading image is http://imgs.xkcd.com/comics/indirect_detection.png ...\n",
      "Downloading page http://xkcd.com/2070/ ...\n",
      "Downloading image is http://imgs.xkcd.com/comics/trig_identities.png ...\n",
      "Downloading page http://xkcd.com/2069/ ...\n",
      "Downloading image is http://imgs.xkcd.com/comics/wishlist.png ...\n",
      "Downloading page http://xkcd.com/2068/ ...\n",
      "Downloading image is http://imgs.xkcd.com/comics/election_night.png ...\n",
      "Downloading page http://xkcd.com/2067/ ...\n",
      "Downloading image is http:/2067/asset/challengers_header.png ...\n",
      "That is wrong. Downloading image is http://www.xkcd.com/2067/asset/challengers_header.png ...\n",
      "Downloading page http://xkcd.com/2066/ ...\n",
      "Downloading image is http://imgs.xkcd.com/comics/ballot_selfies.png ...\n",
      "Downloading page http://xkcd.com/2065/ ...\n",
      "Downloading image is http://imgs.xkcd.com/comics/who_sends_the_first_text.png ...\n",
      "Downloading page http://xkcd.com/2064/ ...\n",
      "Downloading image is http://imgs.xkcd.com/comics/im_a_car.png ...\n",
      "Downloading page http://xkcd.com/2063/ ...\n",
      "Downloading image is http://imgs.xkcd.com/comics/carnot_cycle.png ...\n",
      "Downloading page http://xkcd.com/2062/ ...\n",
      "Downloading image is http://imgs.xkcd.com/comics/barnards_star.png ...\n",
      "Downloading page http://xkcd.com/2061/ ...\n",
      "Downloading image is http://imgs.xkcd.com/comics/tectonics_game.png ...\n",
      "Downloading page http://xkcd.com/2060/ ...\n",
      "Downloading image is http://imgs.xkcd.com/comics/hygrometer.png ...\n",
      "Downloading page http://xkcd.com/2059/ ...\n",
      "Downloading image is http://imgs.xkcd.com/comics/modified_bayes_theorem.png ...\n",
      "Downloading page http://xkcd.com/2058/ ...\n",
      "Downloading image is http://imgs.xkcd.com/comics/rock_wall.png ...\n",
      "Downloading page http://xkcd.com/2057/ ...\n",
      "Downloading image is http://imgs.xkcd.com/comics/internal_monologues.png ...\n",
      "Downloading page http://xkcd.com/2056/ ...\n",
      "Downloading image is http://imgs.xkcd.com/comics/horror_movies.png ...\n",
      "Downloading page http://xkcd.com/2055/ ...\n",
      "Downloading image is http://imgs.xkcd.com/comics/bluetooth.png ...\n",
      "Downloading page http://xkcd.com/2054/ ...\n",
      "Downloading image is http://imgs.xkcd.com/comics/data_pipeline.png ...\n",
      "Downloading page http://xkcd.com/2053/ ...\n",
      "Downloading image is http://imgs.xkcd.com/comics/incoming_calls.png ...\n",
      "Downloading page http://xkcd.com/2052/ ...\n",
      "Downloading image is http://imgs.xkcd.com/comics/stanislav_petrov_day.png ...\n",
      "Downloading page http://xkcd.com/2051/ ...\n",
      "Downloading image is http://imgs.xkcd.com/comics/bad_opinions.png ...\n",
      "Downloading page http://xkcd.com/2050/ ...\n",
      "Downloading image is http://imgs.xkcd.com/comics/6_6_time.png ...\n",
      "Downloading page http://xkcd.com/2049/ ...\n",
      "Downloading image is http://imgs.xkcd.com/comics/unfulfilling_toys.png ...\n",
      "Downloading page http://xkcd.com/2048/ ...\n",
      "Downloading image is http://imgs.xkcd.com/comics/curve_fitting.png ...\n",
      "Downloading page http://xkcd.com/2047/ ...\n",
      "Downloading image is http://imgs.xkcd.com/comics/beverages.png ...\n",
      "Downloading page http://xkcd.com/2046/ ...\n",
      "Downloading image is http://imgs.xkcd.com/comics/trum.png ...\n",
      "Downloading page http://xkcd.com/2045/ ...\n",
      "Downloading image is http://imgs.xkcd.com/comics/social_media_announcement.png ...\n",
      "Downloading page http://xkcd.com/2044/ ...\n",
      "Downloading image is http://imgs.xkcd.com/comics/sandboxing_cycle.png ...\n",
      "Downloading page http://xkcd.com/2043/ ...\n",
      "Downloading image is http://imgs.xkcd.com/comics/boathouses_and_houseboats.png ...\n",
      "Downloading page http://xkcd.com/2042/ ...\n",
      "Downloading image is http://imgs.xkcd.com/comics/rolles_theorem.png ...\n",
      "Downloading page http://xkcd.com/2041/ ...\n",
      "Downloading image is http://imgs.xkcd.com/comics/frontiers.png ...\n",
      "Downloading page http://xkcd.com/2040/ ...\n",
      "Downloading image is http://imgs.xkcd.com/comics/sibling_in_law.png ...\n",
      "Downloading page http://xkcd.com/2039/ ...\n",
      "Downloading image is http://imgs.xkcd.com/comics/begging_the_question.png ...\n",
      "Downloading page http://xkcd.com/2038/ ...\n",
      "Downloading image is http://imgs.xkcd.com/comics/hazard_symbol.png ...\n",
      "Downloading page http://xkcd.com/2037/ ...\n",
      "Downloading image is http://imgs.xkcd.com/comics/supreme_court_bracket.png ...\n",
      "Downloading page http://xkcd.com/2036/ ...\n",
      "Downloading image is http://imgs.xkcd.com/comics/edgelord.png ...\n",
      "Downloading page http://xkcd.com/2035/ ...\n",
      "Downloading image is http://imgs.xkcd.com/comics/dark_matter_candidates.png ...\n",
      "Downloading page http://xkcd.com/2034/ ...\n",
      "Downloading image is http://imgs.xkcd.com/comics/equations.png ...\n",
      "Downloading page http://xkcd.com/2033/ ...\n",
      "Downloading image is http://imgs.xkcd.com/comics/repair_or_replace.png ...\n",
      "Downloading page http://xkcd.com/2032/ ...\n",
      "Downloading image is http://imgs.xkcd.com/comics/word_puzzles.png ...\n",
      "Downloading page http://xkcd.com/2031/ ...\n",
      "Downloading image is http://imgs.xkcd.com/comics/pie_charts.png ...\n",
      "Downloading page http://xkcd.com/2030/ ...\n",
      "Downloading image is http://imgs.xkcd.com/comics/voting_software.png ...\n",
      "Downloading page http://xkcd.com/2029/ ...\n",
      "Downloading image is http://imgs.xkcd.com/comics/disaster_movie.png ...\n",
      "Downloading page http://xkcd.com/2028/ ...\n",
      "Downloading image is http://imgs.xkcd.com/comics/complex_numbers.png ...\n",
      "Downloading page http://xkcd.com/2027/ ...\n",
      "Downloading image is http://imgs.xkcd.com/comics/lightning_distance.png ...\n",
      "Downloading page http://xkcd.com/2026/ ...\n",
      "Downloading image is http://imgs.xkcd.com/comics/heat_index.png ...\n",
      "Downloading page http://xkcd.com/2025/ ...\n",
      "Downloading image is http://imgs.xkcd.com/comics/peer_review.png ...\n",
      "Downloading page http://xkcd.com/2024/ ...\n",
      "Downloading image is http://imgs.xkcd.com/comics/light_hacks.png ...\n",
      "Downloading page http://xkcd.com/2023/ ...\n",
      "Downloading image is http://imgs.xkcd.com/comics/y_axis.png ...\n",
      "Downloading page http://xkcd.com/2022/ ...\n",
      "Downloading image is http://imgs.xkcd.com/comics/sports_champions.png ...\n",
      "Downloading page http://xkcd.com/2021/ ...\n",
      "Downloading image is http://imgs.xkcd.com/comics/software_development.png ...\n",
      "Downloading page http://xkcd.com/2020/ ...\n",
      "Downloading image is http://imgs.xkcd.com/comics/negative_results.png ...\n",
      "Downloading page http://xkcd.com/2019/ ...\n",
      "Downloading image is http://imgs.xkcd.com/comics/an_apple_for_a_dollar.png ...\n",
      "Downloading page http://xkcd.com/2018/ ...\n",
      "Downloading image is http://imgs.xkcd.com/comics/wall_art.png ...\n",
      "Downloading page http://xkcd.com/2017/ ...\n",
      "Downloading image is http://imgs.xkcd.com/comics/stargazing_2.png ...\n",
      "Downloading page http://xkcd.com/2016/ ...\n",
      "Downloading image is http://imgs.xkcd.com/comics/oeis_submissions.png ...\n",
      "Downloading page http://xkcd.com/2015/ ...\n",
      "Downloading image is http://imgs.xkcd.com/comics/new_phone_thread.png ...\n",
      "Downloading page http://xkcd.com/2014/ ...\n",
      "Downloading image is http://imgs.xkcd.com/comics/jwst_delays.png ...\n",
      "Downloading page http://xkcd.com/2013/ ...\n",
      "Downloading image is http://imgs.xkcd.com/comics/rock.png ...\n",
      "Downloading page http://xkcd.com/2012/ ...\n",
      "Downloading image is http://imgs.xkcd.com/comics/thorough_analysis.png ...\n",
      "Downloading page http://xkcd.com/2011/ ...\n",
      "Downloading image is http://imgs.xkcd.com/comics/newtons_trajectories.png ...\n",
      "Downloading page http://xkcd.com/2010/ ...\n",
      "Downloading image is http://imgs.xkcd.com/comics/update_notes.png ...\n",
      "Downloading page http://xkcd.com/2009/ ...\n",
      "Downloading image is http://imgs.xkcd.com/comics/hertzsprung_russell_diagram.png ...\n",
      "Downloading page http://xkcd.com/2008/ ...\n",
      "Downloading image is http://imgs.xkcd.com/comics/irony_definition.png ...\n",
      "Downloading page http://xkcd.com/2007/ ...\n",
      "Downloading image is http://imgs.xkcd.com/comics/brookhaven_rhic.png ...\n",
      "Downloading page http://xkcd.com/2006/ ...\n",
      "Downloading image is http://imgs.xkcd.com/comics/customer_rewards.png ...\n",
      "Downloading page http://xkcd.com/2005/ ...\n",
      "Downloading image is http://imgs.xkcd.com/comics/attention_span.png ...\n",
      "Downloading page http://xkcd.com/2004/ ...\n",
      "Downloading image is http://imgs.xkcd.com/comics/sun_and_earth.png ...\n",
      "Downloading page http://xkcd.com/2003/ ...\n",
      "Downloading image is http://imgs.xkcd.com/comics/presidential_succession.png ...\n",
      "Downloading page http://xkcd.com/2002/ ...\n",
      "Downloading image is http://imgs.xkcd.com/comics/lebron_james_and_stephen_curry.png ...\n",
      "Downloading page http://xkcd.com/2001/ ...\n",
      "Downloading image is http://imgs.xkcd.com/comics/clickbait_corrected_p_value.png ...\n",
      "Downloading page http://xkcd.com/2000/ ...\n",
      "Downloading image is http://imgs.xkcd.com/comics/xkcd_phone_2000.png ...\n",
      "Downloading page http://xkcd.com/1999/ ...\n",
      "Downloading image is http://imgs.xkcd.com/comics/selection_effect.png ...\n",
      "Downloading page http://xkcd.com/1998/ ...\n",
      "Downloading image is http://imgs.xkcd.com/comics/gdpr.png ...\n",
      "Downloading page http://xkcd.com/1997/ ...\n",
      "Downloading image is http://imgs.xkcd.com/comics/business_update.png ...\n",
      "Downloading page http://xkcd.com/1996/ ...\n",
      "Downloading image is http://imgs.xkcd.com/comics/morning_news.png ...\n",
      "Downloading page http://xkcd.com/1995/ ...\n",
      "Downloading image is http://imgs.xkcd.com/comics/mc_hammer_age.png ...\n",
      "Downloading page http://xkcd.com/1994/ ...\n",
      "Downloading image is http://imgs.xkcd.com/comics/repairs.png ...\n",
      "Downloading page http://xkcd.com/1993/ ...\n",
      "Downloading image is http://imgs.xkcd.com/comics/fatal_crash_rate.png ...\n",
      "Downloading page http://xkcd.com/1992/ ...\n",
      "Downloading image is http://imgs.xkcd.com/comics/safetysat.png ...\n",
      "Downloading page http://xkcd.com/1991/ ...\n",
      "Downloading image is http://imgs.xkcd.com/comics/research_areas_by_size_and_countedness.png ...\n",
      "Downloading page http://xkcd.com/1990/ ...\n",
      "Downloading image is http://imgs.xkcd.com/comics/driving_cars.png ...\n",
      "Downloading page http://xkcd.com/1989/ ...\n",
      "Downloading image is http://imgs.xkcd.com/comics/imho.png ...\n",
      "Downloading page http://xkcd.com/1988/ ...\n",
      "Downloading image is http://imgs.xkcd.com/comics/containers.png ...\n",
      "Downloading page http://xkcd.com/1987/ ...\n",
      "Downloading image is http://imgs.xkcd.com/comics/python_environment.png ...\n",
      "Downloading page http://xkcd.com/1986/ ...\n",
      "Downloading image is http://imgs.xkcd.com/comics/river_border.png ...\n",
      "Downloading page http://xkcd.com/1985/ ...\n",
      "Downloading image is http://imgs.xkcd.com/comics/meteorologist.png ...\n",
      "Downloading page http://xkcd.com/1984/ ...\n",
      "Downloading image is http://imgs.xkcd.com/comics/misinterpretation.png ...\n",
      "Downloading page http://xkcd.com/1983/ ...\n",
      "Downloading image is http://imgs.xkcd.com/comics/clutter.png ...\n",
      "Downloading page http://xkcd.com/1982/ ...\n",
      "Downloading image is http://imgs.xkcd.com/comics/evangelism.png ...\n",
      "Downloading page http://xkcd.com/1981/ ...\n",
      "Downloading image is http://imgs.xkcd.com/comics/rickrolling_anniversary.png ...\n",
      "Downloading page http://xkcd.com/1980/ ...\n",
      "Downloading image is http://imgs.xkcd.com/comics/turkish_delight.png ...\n",
      "Downloading page http://xkcd.com/1979/ ...\n",
      "Downloading image is http://imgs.xkcd.com/comics/history.png ...\n",
      "Downloading page http://xkcd.com/1978/ ...\n",
      "Downloading image is http://imgs.xkcd.com/comics/congressional_testimony.png ...\n",
      "Downloading page http://xkcd.com/1977/ ...\n",
      "Downloading image is http://imgs.xkcd.com/comics/paperwork.png ...\n",
      "Downloading page http://xkcd.com/1976/ ...\n",
      "Downloading image is http://imgs.xkcd.com/comics/friendly_questions.png ...\n",
      "Downloading page http://xkcd.com/1975/ ...\n",
      "Downloading image is http://imgs.xkcd.com/comics/right_click.png ...\n",
      "Downloading page http://xkcd.com/1974/ ...\n",
      "Downloading image is http://imgs.xkcd.com/comics/conversational_dynamics.png ...\n",
      "Downloading page http://xkcd.com/1973/ ...\n",
      "Downloading image is http://imgs.xkcd.com/comics/star_lore.png ...\n",
      "Downloading page http://xkcd.com/1972/ ...\n",
      "Downloading image is http://imgs.xkcd.com/comics/autogyros.png ...\n",
      "Downloading page http://xkcd.com/1971/ ...\n",
      "Downloading image is http://imgs.xkcd.com/comics/personal_data.png ...\n",
      "Downloading page http://xkcd.com/1970/ ...\n",
      "Downloading image is http://imgs.xkcd.com/comics/name_dominoes.png ...\n",
      "Downloading page http://xkcd.com/1969/ ...\n",
      "Downloading image is http://imgs.xkcd.com/comics/not_available.png ...\n",
      "Downloading page http://xkcd.com/1968/ ...\n",
      "Downloading image is http://imgs.xkcd.com/comics/robot_future.png ...\n",
      "Downloading page http://xkcd.com/1967/ ...\n",
      "Downloading image is http://imgs.xkcd.com/comics/violin_plots.png ...\n",
      "Downloading page http://xkcd.com/1966/ ...\n",
      "Downloading image is http://imgs.xkcd.com/comics/smart_home_security.png ...\n",
      "Downloading page http://xkcd.com/1965/ ...\n",
      "Downloading image is http://imgs.xkcd.com/comics/background_apps.png ...\n",
      "Downloading page http://xkcd.com/1964/ ...\n",
      "Downloading image is http://imgs.xkcd.com/comics/spatial_orientation.png ...\n",
      "Downloading page http://xkcd.com/1963/ ...\n",
      "Downloading image is http://imgs.xkcd.com/comics/namespace_land_rush.png ...\n",
      "Downloading page http://xkcd.com/1962/ ...\n",
      "Downloading image is http://imgs.xkcd.com/comics/generations.png ...\n",
      "Downloading page http://xkcd.com/1961/ ...\n",
      "Downloading image is http://imgs.xkcd.com/comics/interaction.png ...\n",
      "Downloading page http://xkcd.com/1960/ ...\n",
      "Downloading image is http://imgs.xkcd.com/comics/code_golf.png ...\n",
      "Downloading page http://xkcd.com/1959/ ...\n",
      "Downloading image is http://imgs.xkcd.com/comics/the_simpsons.png ...\n",
      "Downloading page http://xkcd.com/1958/ ...\n",
      "Downloading image is http://imgs.xkcd.com/comics/self_driving_issues.png ...\n",
      "Downloading page http://xkcd.com/1957/ ...\n",
      "Downloading image is http://imgs.xkcd.com/comics/2018_cve_list.png ...\n",
      "Downloading page http://xkcd.com/1956/ ...\n",
      "Downloading image is http://imgs.xkcd.com/comics/unification.png ...\n",
      "Downloading page http://xkcd.com/1955/ ...\n",
      "Downloading image is http://imgs.xkcd.com/comics/robots.png ...\n",
      "Downloading page http://xkcd.com/1954/ ...\n",
      "Downloading image is http://imgs.xkcd.com/comics/impostor_syndrome.png ...\n",
      "Downloading page http://xkcd.com/1953/ ...\n",
      "Downloading image is http://imgs.xkcd.com/comics/the_history_of_unicode.png ...\n",
      "Downloading page http://xkcd.com/1952/ ...\n",
      "Downloading image is http://imgs.xkcd.com/comics/backpack_decisions.png ...\n",
      "Downloading page http://xkcd.com/1951/ ...\n",
      "Downloading image is http://imgs.xkcd.com/comics/super_bowl_watch_party.png ...\n",
      "Downloading page http://xkcd.com/1950/ ...\n",
      "Downloading image is http://imgs.xkcd.com/comics/chicken_pox_and_name_statistics.png ...\n",
      "Downloading page http://xkcd.com/1949/ ...\n",
      "Downloading image is http://imgs.xkcd.com/comics/fruit_collider.png ...\n",
      "Downloading page http://xkcd.com/1948/ ...\n",
      "Downloading image is http://imgs.xkcd.com/comics/campaign_fundraising_emails.png ...\n",
      "Downloading page http://xkcd.com/1947/ ...\n",
      "Downloading image is http://imgs.xkcd.com/comics/night_sky.png ...\n",
      "Downloading page http://xkcd.com/1946/ ...\n",
      "Downloading image is http://imgs.xkcd.com/comics/hawaii.png ...\n",
      "Downloading page http://xkcd.com/1945/ ...\n",
      "Downloading image is http://imgs.xkcd.com/comics/scientific_paper_graph_quality.png ...\n",
      "Downloading page http://xkcd.com/1944/ ...\n",
      "Downloading image is http://imgs.xkcd.com/comics/the_end_of_the_rainbow.png ...\n",
      "Downloading page http://xkcd.com/1943/ ...\n",
      "Downloading image is http://imgs.xkcd.com/comics/universal_dreams.png ...\n",
      "Downloading page http://xkcd.com/1942/ ...\n",
      "Downloading image is http://imgs.xkcd.com/comics/memorable_quotes.png ...\n",
      "Downloading page http://xkcd.com/1941/ ...\n",
      "Downloading image is http://imgs.xkcd.com/comics/dying_gift.png ...\n",
      "Downloading page http://xkcd.com/1940/ ...\n",
      "Downloading image is http://imgs.xkcd.com/comics/the_food_size_cycle.png ...\n",
      "Downloading page http://xkcd.com/1939/ ...\n",
      "Downloading image is http://imgs.xkcd.com/comics/2016_election_map.png ...\n",
      "Downloading page http://xkcd.com/1938/ ...\n",
      "Downloading image is http://imgs.xkcd.com/comics/meltdown_and_spectre.png ...\n",
      "Downloading page http://xkcd.com/1937/ ...\n",
      "Downloading image is http://imgs.xkcd.com/comics/iata_airport_abbreviations.png ...\n",
      "Downloading page http://xkcd.com/1936/ ...\n",
      "Downloading image is http://imgs.xkcd.com/comics/desert_golfing.png ...\n",
      "Downloading page http://xkcd.com/1935/ ...\n",
      "Downloading image is http://imgs.xkcd.com/comics/2018.png ...\n",
      "Downloading page http://xkcd.com/1934/ ...\n",
      "Downloading image is http://imgs.xkcd.com/comics/phone_security.png ...\n",
      "Downloading page http://xkcd.com/1933/ ...\n",
      "Downloading image is http://imgs.xkcd.com/comics/santa_facts.png ...\n",
      "Downloading page http://xkcd.com/1932/ ...\n",
      "Downloading image is http://imgs.xkcd.com/comics/the_true_meaning_of_christmas.png ...\n",
      "Downloading page http://xkcd.com/1931/ ...\n",
      "Downloading image is http://imgs.xkcd.com/comics/virtual_assistant.png ...\n",
      "Downloading page http://xkcd.com/1930/ ...\n",
      "Downloading image is http://imgs.xkcd.com/comics/calendar_facts.png ...\n",
      "Downloading page http://xkcd.com/1929/ ...\n",
      "Downloading image is http://imgs.xkcd.com/comics/argument_timing.png ...\n",
      "Downloading page http://xkcd.com/1928/ ...\n",
      "Downloading image is http://imgs.xkcd.com/comics/seven_years.png ...\n",
      "Downloading page http://xkcd.com/1927/ ...\n",
      "Downloading image is http://imgs.xkcd.com/comics/tinder.png ...\n",
      "Downloading page http://xkcd.com/1926/ ...\n",
      "Downloading image is http://imgs.xkcd.com/comics/bad_code.png ...\n",
      "Downloading page http://xkcd.com/1925/ ...\n",
      "Downloading image is http://imgs.xkcd.com/comics/self_driving_car_milestones.png ...\n",
      "Downloading page http://xkcd.com/1924/ ...\n",
      "Downloading image is http://imgs.xkcd.com/comics/solar_panels.png ...\n",
      "Downloading page http://xkcd.com/1923/ ...\n",
      "Downloading image is http://imgs.xkcd.com/comics/felsius.png ...\n",
      "Downloading page http://xkcd.com/1922/ ...\n",
      "Downloading image is http://imgs.xkcd.com/comics/interferometry.png ...\n",
      "Downloading page http://xkcd.com/1921/ ...\n",
      "Downloading image is http://imgs.xkcd.com/comics/the_moon_and_the_great_wall.png ...\n",
      "Downloading page http://xkcd.com/1920/ ...\n",
      "Downloading image is http://imgs.xkcd.com/comics/emoji_sports.png ...\n",
      "Downloading page http://xkcd.com/1919/ ...\n",
      "Downloading image is http://imgs.xkcd.com/comics/interstellar_asteroid.png ...\n",
      "Downloading page http://xkcd.com/1918/ ...\n",
      "Downloading image is http://imgs.xkcd.com/comics/nexus.png ...\n",
      "Downloading page http://xkcd.com/1917/ ...\n",
      "Downloading image is http://imgs.xkcd.com/comics/how_to_make_friends.png ...\n",
      "Downloading page http://xkcd.com/1916/ ...\n",
      "Downloading image is http://imgs.xkcd.com/comics/temperature_preferences.png ...\n",
      "Downloading page http://xkcd.com/1915/ ...\n",
      "Downloading image is http://imgs.xkcd.com/comics/nightmare_email_feature.png ...\n",
      "Downloading page http://xkcd.com/1914/ ...\n",
      "Downloading image is http://imgs.xkcd.com/comics/twitter_verification.png ...\n",
      "Downloading page http://xkcd.com/1913/ ...\n",
      "Downloading image is http://imgs.xkcd.com/comics/i.png ...\n",
      "Downloading page http://xkcd.com/1912/ ...\n",
      "Downloading image is http://imgs.xkcd.com/comics/thermostat.png ...\n",
      "Downloading page http://xkcd.com/1911/ ...\n",
      "Downloading image is http://imgs.xkcd.com/comics/defensive_profile.png ...\n",
      "Downloading page http://xkcd.com/1910/ ...\n",
      "Downloading image is http://imgs.xkcd.com/comics/sky_spotters.png ...\n",
      "Downloading page http://xkcd.com/1909/ ...\n",
      "Downloading image is http://imgs.xkcd.com/comics/digital_resource_lifespan.png ...\n",
      "Downloading page http://xkcd.com/1908/ ...\n",
      "Downloading image is http://imgs.xkcd.com/comics/credit_card_rewards.png ...\n",
      "Downloading page http://xkcd.com/1907/ ...\n",
      "Downloading image is http://imgs.xkcd.com/comics/immune_system.png ...\n",
      "Downloading page http://xkcd.com/1906/ ...\n",
      "Downloading image is http://imgs.xkcd.com/comics/making_progress.png ...\n",
      "Downloading page http://xkcd.com/1905/ ...\n",
      "Downloading image is http://imgs.xkcd.com/comics/cast_iron_pans.png ...\n",
      "Downloading page http://xkcd.com/1904/ ...\n",
      "Downloading image is http://imgs.xkcd.com/comics/research_risks.png ...\n",
      "Downloading page http://xkcd.com/1903/ ...\n",
      "Downloading image is http://imgs.xkcd.com/comics/bun_trend.png ...\n",
      "Downloading page http://xkcd.com/1902/ ...\n",
      "Downloading image is http://imgs.xkcd.com/comics/state_borders.png ...\n",
      "Downloading page http://xkcd.com/1901/ ...\n",
      "Downloading image is http://imgs.xkcd.com/comics/logical.png ...\n",
      "Downloading page http://xkcd.com/1900/ ...\n",
      "Downloading image is http://imgs.xkcd.com/comics/jet_lag.png ...\n",
      "Downloading page http://xkcd.com/1899/ ...\n",
      "Downloading image is http://imgs.xkcd.com/comics/ears.png ...\n",
      "Downloading page http://xkcd.com/1898/ ...\n",
      "Downloading image is http://imgs.xkcd.com/comics/october_2017.png ...\n",
      "Downloading page http://xkcd.com/1897/ ...\n",
      "Downloading image is http://imgs.xkcd.com/comics/self_driving.png ...\n",
      "Downloading page http://xkcd.com/1896/ ...\n",
      "Downloading image is http://imgs.xkcd.com/comics/active_ingredients_only.png ...\n",
      "Downloading page http://xkcd.com/1895/ ...\n",
      "Downloading image is http://imgs.xkcd.com/comics/worrying_scientist_interviews.png ...\n",
      "Downloading page http://xkcd.com/1894/ ...\n",
      "Downloading image is http://imgs.xkcd.com/comics/real_estate.png ...\n",
      "Downloading page http://xkcd.com/1893/ ...\n",
      "Downloading image is http://imgs.xkcd.com/comics/thread.png ...\n",
      "Downloading page http://xkcd.com/1892/ ...\n",
      "Downloading image is http://imgs.xkcd.com/comics/usb_cables.png ...\n",
      "Downloading page http://xkcd.com/1891/ ...\n",
      "Downloading image is http://imgs.xkcd.com/comics/obsolete_technology.png ...\n",
      "Downloading page http://xkcd.com/1890/ ...\n",
      "Downloading image is http://imgs.xkcd.com/comics/what_to_bring.png ...\n",
      "Downloading page http://xkcd.com/1889/ ...\n",
      "Downloading image is http://imgs.xkcd.com/comics/xkcd_phone_6.png ...\n",
      "Downloading page http://xkcd.com/1888/ ...\n",
      "Downloading image is http://imgs.xkcd.com/comics/still_in_use.png ...\n",
      "Downloading page http://xkcd.com/1887/ ...\n",
      "Downloading image is http://imgs.xkcd.com/comics/two_down_one_to_go.png ...\n",
      "Downloading page http://xkcd.com/1886/ ...\n",
      "Downloading image is http://imgs.xkcd.com/comics/typing_notifications.png ...\n",
      "Downloading page http://xkcd.com/1885/ ...\n",
      "Downloading image is http://imgs.xkcd.com/comics/ensemble_model.png ...\n",
      "Downloading page http://xkcd.com/1884/ ...\n",
      "Downloading image is http://imgs.xkcd.com/comics/ringer_volume_media_volume.png ...\n",
      "Downloading page http://xkcd.com/1883/ ...\n",
      "Downloading image is http://imgs.xkcd.com/comics/supervillain_plan.png ...\n",
      "Downloading page http://xkcd.com/1882/ ...\n",
      "Downloading image is http://imgs.xkcd.com/comics/color_models.png ...\n",
      "Downloading page http://xkcd.com/1881/ ...\n",
      "Downloading image is http://imgs.xkcd.com/comics/drone_training.png ...\n",
      "Downloading page http://xkcd.com/1880/ ...\n",
      "Downloading image is http://imgs.xkcd.com/comics/eclipse_review.png ...\n",
      "Downloading page http://xkcd.com/1879/ ...\n",
      "Downloading image is http://imgs.xkcd.com/comics/eclipse_birds.png ...\n",
      "Downloading page http://xkcd.com/1878/ ...\n",
      "Downloading image is http://imgs.xkcd.com/comics/earth_orbital_diagram.png ...\n",
      "Downloading page http://xkcd.com/1877/ ...\n",
      "Downloading image is http://imgs.xkcd.com/comics/eclipse_science.png ...\n",
      "Downloading page http://xkcd.com/1876/ ...\n",
      "Downloading image is http://imgs.xkcd.com/comics/eclipse_searches.png ...\n",
      "Downloading page http://xkcd.com/1875/ ...\n",
      "Downloading image is http://imgs.xkcd.com/comics/computers_vs_humans.png ...\n",
      "Downloading page http://xkcd.com/1874/ ...\n",
      "Downloading image is http://imgs.xkcd.com/comics/geologic_faults.png ...\n",
      "Downloading page http://xkcd.com/1873/ ...\n",
      "Downloading image is http://imgs.xkcd.com/comics/email_reply.png ...\n",
      "Downloading page http://xkcd.com/1872/ ...\n",
      "Downloading image is http://imgs.xkcd.com/comics/backup_batteries.png ...\n",
      "Downloading page http://xkcd.com/1871/ ...\n",
      "Downloading image is http://imgs.xkcd.com/comics/bun_alert.png ...\n",
      "Downloading page http://xkcd.com/1870/ ...\n",
      "Downloading image is http://imgs.xkcd.com/comics/emoji_movie_reviews.png ...\n",
      "Downloading page http://xkcd.com/1869/ ...\n",
      "Downloading image is http://imgs.xkcd.com/comics/positive_and_negative_reviews.png ...\n",
      "Downloading page http://xkcd.com/1868/ ...\n",
      "Downloading image is http://imgs.xkcd.com/comics/eclipse_flights.png ...\n",
      "Downloading page http://xkcd.com/1867/ ...\n",
      "Downloading image is http://imgs.xkcd.com/comics/physics_confession.png ...\n",
      "Downloading page http://xkcd.com/1866/ ...\n",
      "Downloading image is http://imgs.xkcd.com/comics/russells_teapot.png ...\n",
      "Downloading page http://xkcd.com/1865/ ...\n",
      "Downloading image is http://imgs.xkcd.com/comics/wifi_vs_cellular.png ...\n",
      "Downloading page http://xkcd.com/1864/ ...\n",
      "Downloading image is http://imgs.xkcd.com/comics/city_nicknames.png ...\n",
      "Downloading page http://xkcd.com/1863/ ...\n",
      "Downloading image is http://imgs.xkcd.com/comics/screenshots.png ...\n",
      "Downloading page http://xkcd.com/1862/ ...\n",
      "Downloading image is http://imgs.xkcd.com/comics/particle_properties.png ...\n",
      "Downloading page http://xkcd.com/1861/ ...\n",
      "Downloading image is http://imgs.xkcd.com/comics/quantum.png ...\n",
      "Downloading page http://xkcd.com/1860/ ...\n",
      "Downloading image is http://imgs.xkcd.com/comics/communicating.png ...\n",
      "Downloading page http://xkcd.com/1859/ ...\n",
      "Downloading image is http://imgs.xkcd.com/comics/sports_knowledge.png ...\n",
      "Downloading page http://xkcd.com/1858/ ...\n",
      "Downloading image is http://imgs.xkcd.com/comics/4th_of_july.png ...\n",
      "Downloading page http://xkcd.com/1857/ ...\n",
      "Downloading image is http://imgs.xkcd.com/comics/emoji_movie.png ...\n",
      "Downloading page http://xkcd.com/1856/ ...\n",
      "Downloading image is http://imgs.xkcd.com/comics/existence_proof.png ...\n",
      "Downloading page http://xkcd.com/1855/ ...\n",
      "Downloading image is http://imgs.xkcd.com/comics/telephoto.png ...\n",
      "Downloading page http://xkcd.com/1854/ ...\n",
      "Downloading image is http://imgs.xkcd.com/comics/refresh_types.png ...\n",
      "Downloading page http://xkcd.com/1853/ ...\n",
      "Downloading image is http://imgs.xkcd.com/comics/once_per_day.png ...\n",
      "Downloading page http://xkcd.com/1852/ ...\n",
      "Downloading image is http://imgs.xkcd.com/comics/election_map.png ...\n",
      "Downloading page http://xkcd.com/1851/ ...\n",
      "Downloading image is http://imgs.xkcd.com/comics/magnetohydrodynamics.png ...\n",
      "Downloading page http://xkcd.com/1850/ ...\n",
      "Downloading image is http://imgs.xkcd.com/comics/air_force_museum.png ...\n",
      "Downloading page http://xkcd.com/1849/ ...\n",
      "Downloading image is http://imgs.xkcd.com/comics/decades.png ...\n",
      "Downloading page http://xkcd.com/1848/ ...\n",
      "Downloading image is http://imgs.xkcd.com/comics/glacial_erratic.png ...\n",
      "Downloading page http://xkcd.com/1847/ ...\n",
      "Downloading image is http://imgs.xkcd.com/comics/dubious_study.png ...\n",
      "Downloading page http://xkcd.com/1846/ ...\n",
      "Downloading image is http://imgs.xkcd.com/comics/drone_problems.png ...\n",
      "Downloading page http://xkcd.com/1845/ ...\n",
      "Downloading image is http://imgs.xkcd.com/comics/state_word_map.png ...\n",
      "Downloading page http://xkcd.com/1844/ ...\n",
      "Downloading image is http://imgs.xkcd.com/comics/voting_systems.png ...\n",
      "Downloading page http://xkcd.com/1843/ ...\n",
      "Downloading image is http://imgs.xkcd.com/comics/opening_crawl.png ...\n",
      "Downloading page http://xkcd.com/1842/ ...\n",
      "Downloading image is http://imgs.xkcd.com/comics/anti_drone_eagles.png ...\n",
      "Downloading page http://xkcd.com/1841/ ...\n",
      "Downloading image is http://imgs.xkcd.com/comics/who.png ...\n",
      "Downloading page http://xkcd.com/1840/ ...\n",
      "Downloading image is http://imgs.xkcd.com/comics/genetic_testing_results.png ...\n",
      "Downloading page http://xkcd.com/1839/ ...\n",
      "Downloading image is http://imgs.xkcd.com/comics/doctor_visit.png ...\n",
      "Downloading page http://xkcd.com/1838/ ...\n",
      "Downloading image is http://imgs.xkcd.com/comics/machine_learning.png ...\n",
      "Downloading page http://xkcd.com/1837/ ...\n",
      "Downloading image is http://imgs.xkcd.com/comics/rental_car.png ...\n",
      "Downloading page http://xkcd.com/1836/ ...\n",
      "Downloading image is http://imgs.xkcd.com/comics/okeanos.png ...\n",
      "Downloading page http://xkcd.com/1835/ ...\n",
      "Downloading image is http://imgs.xkcd.com/comics/random_obsessions.png ...\n",
      "Downloading page http://xkcd.com/1834/ ...\n",
      "Downloading image is http://imgs.xkcd.com/comics/lunch_order.png ...\n",
      "Downloading page http://xkcd.com/1833/ ...\n",
      "Downloading image is http://imgs.xkcd.com/comics/code_quality_3.png ...\n",
      "Downloading page http://xkcd.com/1832/ ...\n",
      "Downloading image is http://imgs.xkcd.com/comics/photo_library_management.png ...\n",
      "Downloading page http://xkcd.com/1831/ ...\n",
      "Downloading image is http://imgs.xkcd.com/comics/here_to_help.png ...\n",
      "Downloading page http://xkcd.com/1830/ ...\n",
      "Downloading image is http://imgs.xkcd.com/comics/iss_solar_transit_2.png ...\n",
      "Downloading page http://xkcd.com/1829/ ...\n",
      "Downloading image is http://imgs.xkcd.com/comics/geochronology.png ...\n",
      "Downloading page http://xkcd.com/1828/ ...\n",
      "Downloading image is http://imgs.xkcd.com/comics/iss_solar_transit.png ...\n",
      "Downloading page http://xkcd.com/1827/ ...\n",
      "Downloading image is http://imgs.xkcd.com/comics/survivorship_bias.png ...\n",
      "Downloading page http://xkcd.com/1826/ ...\n",
      "Downloading image is http://imgs.xkcd.com/comics/birdwatching.png ...\n",
      "Downloading page http://xkcd.com/1825/ ...\n",
      "Downloading image is http://imgs.xkcd.com/comics/7_eleven.png ...\n",
      "Downloading page http://xkcd.com/1824/ ...\n",
      "Downloading image is http://imgs.xkcd.com/comics/identification_chart.png ...\n",
      "Downloading page http://xkcd.com/1823/ ...\n",
      "Downloading image is http://imgs.xkcd.com/comics/hottest_editors.png ...\n",
      "Downloading page http://xkcd.com/1822/ ...\n",
      "Downloading image is http://imgs.xkcd.com/comics/existential_bug_reports.png ...\n",
      "Downloading page http://xkcd.com/1821/ ...\n",
      "Downloading image is http://imgs.xkcd.com/comics/incinerator.png ...\n",
      "Downloading page http://xkcd.com/1820/ ...\n",
      "Downloading image is http://imgs.xkcd.com/comics/security_advice.png ...\n",
      "Downloading page http://xkcd.com/1819/ ...\n",
      "Downloading image is http://imgs.xkcd.com/comics/sweet_16.png ...\n",
      "Downloading page http://xkcd.com/1818/ ...\n",
      "Downloading image is http://imgs.xkcd.com/comics/rayleigh_scattering.png ...\n",
      "Downloading page http://xkcd.com/1817/ ...\n",
      "Downloading image is http://imgs.xkcd.com/comics/incognito_mode.png ...\n",
      "Downloading page http://xkcd.com/1816/ ...\n",
      "Downloading image is http://imgs.xkcd.com/comics/mispronunciation.png ...\n",
      "Downloading page http://xkcd.com/1815/ ...\n",
      "Downloading image is http://imgs.xkcd.com/comics/flag.png ...\n",
      "Downloading page http://xkcd.com/1814/ ...\n",
      "Downloading image is http://imgs.xkcd.com/comics/color_pattern.png ...\n",
      "Downloading page http://xkcd.com/1813/ ...\n"
     ]
    },
    {
     "ename": "SSLError",
     "evalue": "HTTPSConnectionPool(host='xkcd.com', port=443): Max retries exceeded with url: /1813/ (Caused by SSLError(SSLError(\"bad handshake: SysCallError(-1, 'Unexpected EOF')\")))",
     "output_type": "error",
     "traceback": [
      "\u001b[0;31m---------------------------------------------------------------------------\u001b[0m",
      "\u001b[0;31mSysCallError\u001b[0m                              Traceback (most recent call last)",
      "\u001b[0;32m~/anaconda/envs/python35/lib/python3.7/site-packages/urllib3/contrib/pyopenssl.py\u001b[0m in \u001b[0;36mwrap_socket\u001b[0;34m(self, sock, server_side, do_handshake_on_connect, suppress_ragged_eofs, server_hostname)\u001b[0m\n\u001b[1;32m    452\u001b[0m             \u001b[0;32mtry\u001b[0m\u001b[0;34m:\u001b[0m\u001b[0;34m\u001b[0m\u001b[0;34m\u001b[0m\u001b[0m\n\u001b[0;32m--> 453\u001b[0;31m                 \u001b[0mcnx\u001b[0m\u001b[0;34m.\u001b[0m\u001b[0mdo_handshake\u001b[0m\u001b[0;34m(\u001b[0m\u001b[0;34m)\u001b[0m\u001b[0;34m\u001b[0m\u001b[0;34m\u001b[0m\u001b[0m\n\u001b[0m\u001b[1;32m    454\u001b[0m             \u001b[0;32mexcept\u001b[0m \u001b[0mOpenSSL\u001b[0m\u001b[0;34m.\u001b[0m\u001b[0mSSL\u001b[0m\u001b[0;34m.\u001b[0m\u001b[0mWantReadError\u001b[0m\u001b[0;34m:\u001b[0m\u001b[0;34m\u001b[0m\u001b[0;34m\u001b[0m\u001b[0m\n",
      "\u001b[0;32m~/anaconda/envs/python35/lib/python3.7/site-packages/OpenSSL/SSL.py\u001b[0m in \u001b[0;36mdo_handshake\u001b[0;34m(self)\u001b[0m\n\u001b[1;32m   1914\u001b[0m         \u001b[0mresult\u001b[0m \u001b[0;34m=\u001b[0m \u001b[0m_lib\u001b[0m\u001b[0;34m.\u001b[0m\u001b[0mSSL_do_handshake\u001b[0m\u001b[0;34m(\u001b[0m\u001b[0mself\u001b[0m\u001b[0;34m.\u001b[0m\u001b[0m_ssl\u001b[0m\u001b[0;34m)\u001b[0m\u001b[0;34m\u001b[0m\u001b[0;34m\u001b[0m\u001b[0m\n\u001b[0;32m-> 1915\u001b[0;31m         \u001b[0mself\u001b[0m\u001b[0;34m.\u001b[0m\u001b[0m_raise_ssl_error\u001b[0m\u001b[0;34m(\u001b[0m\u001b[0mself\u001b[0m\u001b[0;34m.\u001b[0m\u001b[0m_ssl\u001b[0m\u001b[0;34m,\u001b[0m \u001b[0mresult\u001b[0m\u001b[0;34m)\u001b[0m\u001b[0;34m\u001b[0m\u001b[0;34m\u001b[0m\u001b[0m\n\u001b[0m\u001b[1;32m   1916\u001b[0m \u001b[0;34m\u001b[0m\u001b[0m\n",
      "\u001b[0;32m~/anaconda/envs/python35/lib/python3.7/site-packages/OpenSSL/SSL.py\u001b[0m in \u001b[0;36m_raise_ssl_error\u001b[0;34m(self, ssl, result)\u001b[0m\n\u001b[1;32m   1639\u001b[0m                         \u001b[0;32mraise\u001b[0m \u001b[0mSysCallError\u001b[0m\u001b[0;34m(\u001b[0m\u001b[0merrno\u001b[0m\u001b[0;34m,\u001b[0m \u001b[0merrorcode\u001b[0m\u001b[0;34m.\u001b[0m\u001b[0mget\u001b[0m\u001b[0;34m(\u001b[0m\u001b[0merrno\u001b[0m\u001b[0;34m)\u001b[0m\u001b[0;34m)\u001b[0m\u001b[0;34m\u001b[0m\u001b[0;34m\u001b[0m\u001b[0m\n\u001b[0;32m-> 1640\u001b[0;31m                 \u001b[0;32mraise\u001b[0m \u001b[0mSysCallError\u001b[0m\u001b[0;34m(\u001b[0m\u001b[0;34m-\u001b[0m\u001b[0;36m1\u001b[0m\u001b[0;34m,\u001b[0m \u001b[0;34m\"Unexpected EOF\"\u001b[0m\u001b[0;34m)\u001b[0m\u001b[0;34m\u001b[0m\u001b[0;34m\u001b[0m\u001b[0m\n\u001b[0m\u001b[1;32m   1641\u001b[0m             \u001b[0;32melse\u001b[0m\u001b[0;34m:\u001b[0m\u001b[0;34m\u001b[0m\u001b[0;34m\u001b[0m\u001b[0m\n",
      "\u001b[0;31mSysCallError\u001b[0m: (-1, 'Unexpected EOF')",
      "\nDuring handling of the above exception, another exception occurred:\n",
      "\u001b[0;31mSSLError\u001b[0m                                  Traceback (most recent call last)",
      "\u001b[0;32m~/anaconda/envs/python35/lib/python3.7/site-packages/urllib3/connectionpool.py\u001b[0m in \u001b[0;36murlopen\u001b[0;34m(self, method, url, body, headers, retries, redirect, assert_same_host, timeout, pool_timeout, release_conn, chunked, body_pos, **response_kw)\u001b[0m\n\u001b[1;32m    593\u001b[0m             \u001b[0;32mif\u001b[0m \u001b[0mis_new_proxy_conn\u001b[0m\u001b[0;34m:\u001b[0m\u001b[0;34m\u001b[0m\u001b[0;34m\u001b[0m\u001b[0m\n\u001b[0;32m--> 594\u001b[0;31m                 \u001b[0mself\u001b[0m\u001b[0;34m.\u001b[0m\u001b[0m_prepare_proxy\u001b[0m\u001b[0;34m(\u001b[0m\u001b[0mconn\u001b[0m\u001b[0;34m)\u001b[0m\u001b[0;34m\u001b[0m\u001b[0;34m\u001b[0m\u001b[0m\n\u001b[0m\u001b[1;32m    595\u001b[0m \u001b[0;34m\u001b[0m\u001b[0m\n",
      "\u001b[0;32m~/anaconda/envs/python35/lib/python3.7/site-packages/urllib3/connectionpool.py\u001b[0m in \u001b[0;36m_prepare_proxy\u001b[0;34m(self, conn)\u001b[0m\n\u001b[1;32m    804\u001b[0m         \u001b[0mconn\u001b[0m\u001b[0;34m.\u001b[0m\u001b[0mset_tunnel\u001b[0m\u001b[0;34m(\u001b[0m\u001b[0mself\u001b[0m\u001b[0;34m.\u001b[0m\u001b[0m_proxy_host\u001b[0m\u001b[0;34m,\u001b[0m \u001b[0mself\u001b[0m\u001b[0;34m.\u001b[0m\u001b[0mport\u001b[0m\u001b[0;34m,\u001b[0m \u001b[0mself\u001b[0m\u001b[0;34m.\u001b[0m\u001b[0mproxy_headers\u001b[0m\u001b[0;34m)\u001b[0m\u001b[0;34m\u001b[0m\u001b[0;34m\u001b[0m\u001b[0m\n\u001b[0;32m--> 805\u001b[0;31m         \u001b[0mconn\u001b[0m\u001b[0;34m.\u001b[0m\u001b[0mconnect\u001b[0m\u001b[0;34m(\u001b[0m\u001b[0;34m)\u001b[0m\u001b[0;34m\u001b[0m\u001b[0;34m\u001b[0m\u001b[0m\n\u001b[0m\u001b[1;32m    806\u001b[0m \u001b[0;34m\u001b[0m\u001b[0m\n",
      "\u001b[0;32m~/anaconda/envs/python35/lib/python3.7/site-packages/urllib3/connection.py\u001b[0m in \u001b[0;36mconnect\u001b[0;34m(self)\u001b[0m\n\u001b[1;32m    343\u001b[0m             \u001b[0mserver_hostname\u001b[0m\u001b[0;34m=\u001b[0m\u001b[0mserver_hostname\u001b[0m\u001b[0;34m,\u001b[0m\u001b[0;34m\u001b[0m\u001b[0;34m\u001b[0m\u001b[0m\n\u001b[0;32m--> 344\u001b[0;31m             ssl_context=context)\n\u001b[0m\u001b[1;32m    345\u001b[0m \u001b[0;34m\u001b[0m\u001b[0m\n",
      "\u001b[0;32m~/anaconda/envs/python35/lib/python3.7/site-packages/urllib3/util/ssl_.py\u001b[0m in \u001b[0;36mssl_wrap_socket\u001b[0;34m(sock, keyfile, certfile, cert_reqs, ca_certs, server_hostname, ssl_version, ciphers, ssl_context, ca_cert_dir)\u001b[0m\n\u001b[1;32m    343\u001b[0m         \u001b[0;32mif\u001b[0m \u001b[0mHAS_SNI\u001b[0m \u001b[0;32mand\u001b[0m \u001b[0mserver_hostname\u001b[0m \u001b[0;32mis\u001b[0m \u001b[0;32mnot\u001b[0m \u001b[0;32mNone\u001b[0m\u001b[0;34m:\u001b[0m\u001b[0;34m\u001b[0m\u001b[0;34m\u001b[0m\u001b[0m\n\u001b[0;32m--> 344\u001b[0;31m             \u001b[0;32mreturn\u001b[0m \u001b[0mcontext\u001b[0m\u001b[0;34m.\u001b[0m\u001b[0mwrap_socket\u001b[0m\u001b[0;34m(\u001b[0m\u001b[0msock\u001b[0m\u001b[0;34m,\u001b[0m \u001b[0mserver_hostname\u001b[0m\u001b[0;34m=\u001b[0m\u001b[0mserver_hostname\u001b[0m\u001b[0;34m)\u001b[0m\u001b[0;34m\u001b[0m\u001b[0;34m\u001b[0m\u001b[0m\n\u001b[0m\u001b[1;32m    345\u001b[0m \u001b[0;34m\u001b[0m\u001b[0m\n",
      "\u001b[0;32m~/anaconda/envs/python35/lib/python3.7/site-packages/urllib3/contrib/pyopenssl.py\u001b[0m in \u001b[0;36mwrap_socket\u001b[0;34m(self, sock, server_side, do_handshake_on_connect, suppress_ragged_eofs, server_hostname)\u001b[0m\n\u001b[1;32m    458\u001b[0m             \u001b[0;32mexcept\u001b[0m \u001b[0mOpenSSL\u001b[0m\u001b[0;34m.\u001b[0m\u001b[0mSSL\u001b[0m\u001b[0;34m.\u001b[0m\u001b[0mError\u001b[0m \u001b[0;32mas\u001b[0m \u001b[0me\u001b[0m\u001b[0;34m:\u001b[0m\u001b[0;34m\u001b[0m\u001b[0;34m\u001b[0m\u001b[0m\n\u001b[0;32m--> 459\u001b[0;31m                 \u001b[0;32mraise\u001b[0m \u001b[0mssl\u001b[0m\u001b[0;34m.\u001b[0m\u001b[0mSSLError\u001b[0m\u001b[0;34m(\u001b[0m\u001b[0;34m'bad handshake: %r'\u001b[0m \u001b[0;34m%\u001b[0m \u001b[0me\u001b[0m\u001b[0;34m)\u001b[0m\u001b[0;34m\u001b[0m\u001b[0;34m\u001b[0m\u001b[0m\n\u001b[0m\u001b[1;32m    460\u001b[0m             \u001b[0;32mbreak\u001b[0m\u001b[0;34m\u001b[0m\u001b[0;34m\u001b[0m\u001b[0m\n",
      "\u001b[0;31mSSLError\u001b[0m: (\"bad handshake: SysCallError(-1, 'Unexpected EOF')\",)",
      "\nDuring handling of the above exception, another exception occurred:\n",
      "\u001b[0;31mMaxRetryError\u001b[0m                             Traceback (most recent call last)",
      "\u001b[0;32m~/anaconda/envs/python35/lib/python3.7/site-packages/requests/adapters.py\u001b[0m in \u001b[0;36msend\u001b[0;34m(self, request, stream, timeout, verify, cert, proxies)\u001b[0m\n\u001b[1;32m    448\u001b[0m                     \u001b[0mretries\u001b[0m\u001b[0;34m=\u001b[0m\u001b[0mself\u001b[0m\u001b[0;34m.\u001b[0m\u001b[0mmax_retries\u001b[0m\u001b[0;34m,\u001b[0m\u001b[0;34m\u001b[0m\u001b[0;34m\u001b[0m\u001b[0m\n\u001b[0;32m--> 449\u001b[0;31m                     \u001b[0mtimeout\u001b[0m\u001b[0;34m=\u001b[0m\u001b[0mtimeout\u001b[0m\u001b[0;34m\u001b[0m\u001b[0;34m\u001b[0m\u001b[0m\n\u001b[0m\u001b[1;32m    450\u001b[0m                 )\n",
      "\u001b[0;32m~/anaconda/envs/python35/lib/python3.7/site-packages/urllib3/connectionpool.py\u001b[0m in \u001b[0;36murlopen\u001b[0;34m(self, method, url, body, headers, retries, redirect, assert_same_host, timeout, pool_timeout, release_conn, chunked, body_pos, **response_kw)\u001b[0m\n\u001b[1;32m    637\u001b[0m             retries = retries.increment(method, url, error=e, _pool=self,\n\u001b[0;32m--> 638\u001b[0;31m                                         _stacktrace=sys.exc_info()[2])\n\u001b[0m\u001b[1;32m    639\u001b[0m             \u001b[0mretries\u001b[0m\u001b[0;34m.\u001b[0m\u001b[0msleep\u001b[0m\u001b[0;34m(\u001b[0m\u001b[0;34m)\u001b[0m\u001b[0;34m\u001b[0m\u001b[0;34m\u001b[0m\u001b[0m\n",
      "\u001b[0;32m~/anaconda/envs/python35/lib/python3.7/site-packages/urllib3/util/retry.py\u001b[0m in \u001b[0;36mincrement\u001b[0;34m(self, method, url, response, error, _pool, _stacktrace)\u001b[0m\n\u001b[1;32m    397\u001b[0m         \u001b[0;32mif\u001b[0m \u001b[0mnew_retry\u001b[0m\u001b[0;34m.\u001b[0m\u001b[0mis_exhausted\u001b[0m\u001b[0;34m(\u001b[0m\u001b[0;34m)\u001b[0m\u001b[0;34m:\u001b[0m\u001b[0;34m\u001b[0m\u001b[0;34m\u001b[0m\u001b[0m\n\u001b[0;32m--> 398\u001b[0;31m             \u001b[0;32mraise\u001b[0m \u001b[0mMaxRetryError\u001b[0m\u001b[0;34m(\u001b[0m\u001b[0m_pool\u001b[0m\u001b[0;34m,\u001b[0m \u001b[0murl\u001b[0m\u001b[0;34m,\u001b[0m \u001b[0merror\u001b[0m \u001b[0;32mor\u001b[0m \u001b[0mResponseError\u001b[0m\u001b[0;34m(\u001b[0m\u001b[0mcause\u001b[0m\u001b[0;34m)\u001b[0m\u001b[0;34m)\u001b[0m\u001b[0;34m\u001b[0m\u001b[0;34m\u001b[0m\u001b[0m\n\u001b[0m\u001b[1;32m    399\u001b[0m \u001b[0;34m\u001b[0m\u001b[0m\n",
      "\u001b[0;31mMaxRetryError\u001b[0m: HTTPSConnectionPool(host='xkcd.com', port=443): Max retries exceeded with url: /1813/ (Caused by SSLError(SSLError(\"bad handshake: SysCallError(-1, 'Unexpected EOF')\")))",
      "\nDuring handling of the above exception, another exception occurred:\n",
      "\u001b[0;31mSSLError\u001b[0m                                  Traceback (most recent call last)",
      "\u001b[0;32m<ipython-input-177-05b5ee91653e>\u001b[0m in \u001b[0;36m<module>\u001b[0;34m\u001b[0m\n\u001b[1;32m      7\u001b[0m     \u001b[0;31m#下载网页\u001b[0m\u001b[0;34m\u001b[0m\u001b[0;34m\u001b[0m\u001b[0;34m\u001b[0m\u001b[0m\n\u001b[1;32m      8\u001b[0m     \u001b[0mprint\u001b[0m\u001b[0;34m(\u001b[0m\u001b[0;34m'Downloading page %s ...'\u001b[0m\u001b[0;34m%\u001b[0m\u001b[0murl\u001b[0m\u001b[0;34m)\u001b[0m\u001b[0;34m\u001b[0m\u001b[0;34m\u001b[0m\u001b[0m\n\u001b[0;32m----> 9\u001b[0;31m     \u001b[0mres\u001b[0m \u001b[0;34m=\u001b[0m \u001b[0mrequests\u001b[0m\u001b[0;34m.\u001b[0m\u001b[0mget\u001b[0m\u001b[0;34m(\u001b[0m\u001b[0murl\u001b[0m\u001b[0;34m)\u001b[0m\u001b[0;34m\u001b[0m\u001b[0;34m\u001b[0m\u001b[0m\n\u001b[0m\u001b[1;32m     10\u001b[0m     \u001b[0mres\u001b[0m\u001b[0;34m.\u001b[0m\u001b[0mraise_for_status\u001b[0m\u001b[0;34m(\u001b[0m\u001b[0;34m)\u001b[0m\u001b[0;34m\u001b[0m\u001b[0;34m\u001b[0m\u001b[0m\n\u001b[1;32m     11\u001b[0m     \u001b[0msoup\u001b[0m \u001b[0;34m=\u001b[0m \u001b[0mbs4\u001b[0m\u001b[0;34m.\u001b[0m\u001b[0mBeautifulSoup\u001b[0m\u001b[0;34m(\u001b[0m\u001b[0mres\u001b[0m\u001b[0;34m.\u001b[0m\u001b[0mtext\u001b[0m\u001b[0;34m)\u001b[0m\u001b[0;34m\u001b[0m\u001b[0;34m\u001b[0m\u001b[0m\n",
      "\u001b[0;32m~/anaconda/envs/python35/lib/python3.7/site-packages/requests/api.py\u001b[0m in \u001b[0;36mget\u001b[0;34m(url, params, **kwargs)\u001b[0m\n\u001b[1;32m     73\u001b[0m \u001b[0;34m\u001b[0m\u001b[0m\n\u001b[1;32m     74\u001b[0m     \u001b[0mkwargs\u001b[0m\u001b[0;34m.\u001b[0m\u001b[0msetdefault\u001b[0m\u001b[0;34m(\u001b[0m\u001b[0;34m'allow_redirects'\u001b[0m\u001b[0;34m,\u001b[0m \u001b[0;32mTrue\u001b[0m\u001b[0;34m)\u001b[0m\u001b[0;34m\u001b[0m\u001b[0;34m\u001b[0m\u001b[0m\n\u001b[0;32m---> 75\u001b[0;31m     \u001b[0;32mreturn\u001b[0m \u001b[0mrequest\u001b[0m\u001b[0;34m(\u001b[0m\u001b[0;34m'get'\u001b[0m\u001b[0;34m,\u001b[0m \u001b[0murl\u001b[0m\u001b[0;34m,\u001b[0m \u001b[0mparams\u001b[0m\u001b[0;34m=\u001b[0m\u001b[0mparams\u001b[0m\u001b[0;34m,\u001b[0m \u001b[0;34m**\u001b[0m\u001b[0mkwargs\u001b[0m\u001b[0;34m)\u001b[0m\u001b[0;34m\u001b[0m\u001b[0;34m\u001b[0m\u001b[0m\n\u001b[0m\u001b[1;32m     76\u001b[0m \u001b[0;34m\u001b[0m\u001b[0m\n\u001b[1;32m     77\u001b[0m \u001b[0;34m\u001b[0m\u001b[0m\n",
      "\u001b[0;32m~/anaconda/envs/python35/lib/python3.7/site-packages/requests/api.py\u001b[0m in \u001b[0;36mrequest\u001b[0;34m(method, url, **kwargs)\u001b[0m\n\u001b[1;32m     58\u001b[0m     \u001b[0;31m# cases, and look like a memory leak in others.\u001b[0m\u001b[0;34m\u001b[0m\u001b[0;34m\u001b[0m\u001b[0;34m\u001b[0m\u001b[0m\n\u001b[1;32m     59\u001b[0m     \u001b[0;32mwith\u001b[0m \u001b[0msessions\u001b[0m\u001b[0;34m.\u001b[0m\u001b[0mSession\u001b[0m\u001b[0;34m(\u001b[0m\u001b[0;34m)\u001b[0m \u001b[0;32mas\u001b[0m \u001b[0msession\u001b[0m\u001b[0;34m:\u001b[0m\u001b[0;34m\u001b[0m\u001b[0;34m\u001b[0m\u001b[0m\n\u001b[0;32m---> 60\u001b[0;31m         \u001b[0;32mreturn\u001b[0m \u001b[0msession\u001b[0m\u001b[0;34m.\u001b[0m\u001b[0mrequest\u001b[0m\u001b[0;34m(\u001b[0m\u001b[0mmethod\u001b[0m\u001b[0;34m=\u001b[0m\u001b[0mmethod\u001b[0m\u001b[0;34m,\u001b[0m \u001b[0murl\u001b[0m\u001b[0;34m=\u001b[0m\u001b[0murl\u001b[0m\u001b[0;34m,\u001b[0m \u001b[0;34m**\u001b[0m\u001b[0mkwargs\u001b[0m\u001b[0;34m)\u001b[0m\u001b[0;34m\u001b[0m\u001b[0;34m\u001b[0m\u001b[0m\n\u001b[0m\u001b[1;32m     61\u001b[0m \u001b[0;34m\u001b[0m\u001b[0m\n\u001b[1;32m     62\u001b[0m \u001b[0;34m\u001b[0m\u001b[0m\n",
      "\u001b[0;32m~/anaconda/envs/python35/lib/python3.7/site-packages/requests/sessions.py\u001b[0m in \u001b[0;36mrequest\u001b[0;34m(self, method, url, params, data, headers, cookies, files, auth, timeout, allow_redirects, proxies, hooks, stream, verify, cert, json)\u001b[0m\n\u001b[1;32m    531\u001b[0m         }\n\u001b[1;32m    532\u001b[0m         \u001b[0msend_kwargs\u001b[0m\u001b[0;34m.\u001b[0m\u001b[0mupdate\u001b[0m\u001b[0;34m(\u001b[0m\u001b[0msettings\u001b[0m\u001b[0;34m)\u001b[0m\u001b[0;34m\u001b[0m\u001b[0;34m\u001b[0m\u001b[0m\n\u001b[0;32m--> 533\u001b[0;31m         \u001b[0mresp\u001b[0m \u001b[0;34m=\u001b[0m \u001b[0mself\u001b[0m\u001b[0;34m.\u001b[0m\u001b[0msend\u001b[0m\u001b[0;34m(\u001b[0m\u001b[0mprep\u001b[0m\u001b[0;34m,\u001b[0m \u001b[0;34m**\u001b[0m\u001b[0msend_kwargs\u001b[0m\u001b[0;34m)\u001b[0m\u001b[0;34m\u001b[0m\u001b[0;34m\u001b[0m\u001b[0m\n\u001b[0m\u001b[1;32m    534\u001b[0m \u001b[0;34m\u001b[0m\u001b[0m\n\u001b[1;32m    535\u001b[0m         \u001b[0;32mreturn\u001b[0m \u001b[0mresp\u001b[0m\u001b[0;34m\u001b[0m\u001b[0;34m\u001b[0m\u001b[0m\n",
      "\u001b[0;32m~/anaconda/envs/python35/lib/python3.7/site-packages/requests/sessions.py\u001b[0m in \u001b[0;36msend\u001b[0;34m(self, request, **kwargs)\u001b[0m\n\u001b[1;32m    666\u001b[0m \u001b[0;34m\u001b[0m\u001b[0m\n\u001b[1;32m    667\u001b[0m         \u001b[0;31m# Resolve redirects if allowed.\u001b[0m\u001b[0;34m\u001b[0m\u001b[0;34m\u001b[0m\u001b[0;34m\u001b[0m\u001b[0m\n\u001b[0;32m--> 668\u001b[0;31m         \u001b[0mhistory\u001b[0m \u001b[0;34m=\u001b[0m \u001b[0;34m[\u001b[0m\u001b[0mresp\u001b[0m \u001b[0;32mfor\u001b[0m \u001b[0mresp\u001b[0m \u001b[0;32min\u001b[0m \u001b[0mgen\u001b[0m\u001b[0;34m]\u001b[0m \u001b[0;32mif\u001b[0m \u001b[0mallow_redirects\u001b[0m \u001b[0;32melse\u001b[0m \u001b[0;34m[\u001b[0m\u001b[0;34m]\u001b[0m\u001b[0;34m\u001b[0m\u001b[0;34m\u001b[0m\u001b[0m\n\u001b[0m\u001b[1;32m    669\u001b[0m \u001b[0;34m\u001b[0m\u001b[0m\n\u001b[1;32m    670\u001b[0m         \u001b[0;31m# Shuffle things around if there's history.\u001b[0m\u001b[0;34m\u001b[0m\u001b[0;34m\u001b[0m\u001b[0;34m\u001b[0m\u001b[0m\n",
      "\u001b[0;32m~/anaconda/envs/python35/lib/python3.7/site-packages/requests/sessions.py\u001b[0m in \u001b[0;36m<listcomp>\u001b[0;34m(.0)\u001b[0m\n\u001b[1;32m    666\u001b[0m \u001b[0;34m\u001b[0m\u001b[0m\n\u001b[1;32m    667\u001b[0m         \u001b[0;31m# Resolve redirects if allowed.\u001b[0m\u001b[0;34m\u001b[0m\u001b[0;34m\u001b[0m\u001b[0;34m\u001b[0m\u001b[0m\n\u001b[0;32m--> 668\u001b[0;31m         \u001b[0mhistory\u001b[0m \u001b[0;34m=\u001b[0m \u001b[0;34m[\u001b[0m\u001b[0mresp\u001b[0m \u001b[0;32mfor\u001b[0m \u001b[0mresp\u001b[0m \u001b[0;32min\u001b[0m \u001b[0mgen\u001b[0m\u001b[0;34m]\u001b[0m \u001b[0;32mif\u001b[0m \u001b[0mallow_redirects\u001b[0m \u001b[0;32melse\u001b[0m \u001b[0;34m[\u001b[0m\u001b[0;34m]\u001b[0m\u001b[0;34m\u001b[0m\u001b[0;34m\u001b[0m\u001b[0m\n\u001b[0m\u001b[1;32m    669\u001b[0m \u001b[0;34m\u001b[0m\u001b[0m\n\u001b[1;32m    670\u001b[0m         \u001b[0;31m# Shuffle things around if there's history.\u001b[0m\u001b[0;34m\u001b[0m\u001b[0;34m\u001b[0m\u001b[0;34m\u001b[0m\u001b[0m\n",
      "\u001b[0;32m~/anaconda/envs/python35/lib/python3.7/site-packages/requests/sessions.py\u001b[0m in \u001b[0;36mresolve_redirects\u001b[0;34m(self, resp, req, stream, timeout, verify, cert, proxies, yield_requests, **adapter_kwargs)\u001b[0m\n\u001b[1;32m    245\u001b[0m                     \u001b[0mproxies\u001b[0m\u001b[0;34m=\u001b[0m\u001b[0mproxies\u001b[0m\u001b[0;34m,\u001b[0m\u001b[0;34m\u001b[0m\u001b[0;34m\u001b[0m\u001b[0m\n\u001b[1;32m    246\u001b[0m                     \u001b[0mallow_redirects\u001b[0m\u001b[0;34m=\u001b[0m\u001b[0;32mFalse\u001b[0m\u001b[0;34m,\u001b[0m\u001b[0;34m\u001b[0m\u001b[0;34m\u001b[0m\u001b[0m\n\u001b[0;32m--> 247\u001b[0;31m                     \u001b[0;34m**\u001b[0m\u001b[0madapter_kwargs\u001b[0m\u001b[0;34m\u001b[0m\u001b[0;34m\u001b[0m\u001b[0m\n\u001b[0m\u001b[1;32m    248\u001b[0m                 )\n\u001b[1;32m    249\u001b[0m \u001b[0;34m\u001b[0m\u001b[0m\n",
      "\u001b[0;32m~/anaconda/envs/python35/lib/python3.7/site-packages/requests/sessions.py\u001b[0m in \u001b[0;36msend\u001b[0;34m(self, request, **kwargs)\u001b[0m\n\u001b[1;32m    644\u001b[0m \u001b[0;34m\u001b[0m\u001b[0m\n\u001b[1;32m    645\u001b[0m         \u001b[0;31m# Send the request\u001b[0m\u001b[0;34m\u001b[0m\u001b[0;34m\u001b[0m\u001b[0;34m\u001b[0m\u001b[0m\n\u001b[0;32m--> 646\u001b[0;31m         \u001b[0mr\u001b[0m \u001b[0;34m=\u001b[0m \u001b[0madapter\u001b[0m\u001b[0;34m.\u001b[0m\u001b[0msend\u001b[0m\u001b[0;34m(\u001b[0m\u001b[0mrequest\u001b[0m\u001b[0;34m,\u001b[0m \u001b[0;34m**\u001b[0m\u001b[0mkwargs\u001b[0m\u001b[0;34m)\u001b[0m\u001b[0;34m\u001b[0m\u001b[0;34m\u001b[0m\u001b[0m\n\u001b[0m\u001b[1;32m    647\u001b[0m \u001b[0;34m\u001b[0m\u001b[0m\n\u001b[1;32m    648\u001b[0m         \u001b[0;31m# Total elapsed time of the request (approximately)\u001b[0m\u001b[0;34m\u001b[0m\u001b[0;34m\u001b[0m\u001b[0;34m\u001b[0m\u001b[0m\n",
      "\u001b[0;32m~/anaconda/envs/python35/lib/python3.7/site-packages/requests/adapters.py\u001b[0m in \u001b[0;36msend\u001b[0;34m(self, request, stream, timeout, verify, cert, proxies)\u001b[0m\n\u001b[1;32m    512\u001b[0m             \u001b[0;32mif\u001b[0m \u001b[0misinstance\u001b[0m\u001b[0;34m(\u001b[0m\u001b[0me\u001b[0m\u001b[0;34m.\u001b[0m\u001b[0mreason\u001b[0m\u001b[0;34m,\u001b[0m \u001b[0m_SSLError\u001b[0m\u001b[0;34m)\u001b[0m\u001b[0;34m:\u001b[0m\u001b[0;34m\u001b[0m\u001b[0;34m\u001b[0m\u001b[0m\n\u001b[1;32m    513\u001b[0m                 \u001b[0;31m# This branch is for urllib3 v1.22 and later.\u001b[0m\u001b[0;34m\u001b[0m\u001b[0;34m\u001b[0m\u001b[0;34m\u001b[0m\u001b[0m\n\u001b[0;32m--> 514\u001b[0;31m                 \u001b[0;32mraise\u001b[0m \u001b[0mSSLError\u001b[0m\u001b[0;34m(\u001b[0m\u001b[0me\u001b[0m\u001b[0;34m,\u001b[0m \u001b[0mrequest\u001b[0m\u001b[0;34m=\u001b[0m\u001b[0mrequest\u001b[0m\u001b[0;34m)\u001b[0m\u001b[0;34m\u001b[0m\u001b[0;34m\u001b[0m\u001b[0m\n\u001b[0m\u001b[1;32m    515\u001b[0m \u001b[0;34m\u001b[0m\u001b[0m\n\u001b[1;32m    516\u001b[0m             \u001b[0;32mraise\u001b[0m \u001b[0mConnectionError\u001b[0m\u001b[0;34m(\u001b[0m\u001b[0me\u001b[0m\u001b[0;34m,\u001b[0m \u001b[0mrequest\u001b[0m\u001b[0;34m=\u001b[0m\u001b[0mrequest\u001b[0m\u001b[0;34m)\u001b[0m\u001b[0;34m\u001b[0m\u001b[0;34m\u001b[0m\u001b[0m\n",
      "\u001b[0;31mSSLError\u001b[0m: HTTPSConnectionPool(host='xkcd.com', port=443): Max retries exceeded with url: /1813/ (Caused by SSLError(SSLError(\"bad handshake: SysCallError(-1, 'Unexpected EOF')\")))"
     ]
    }
   ],
   "source": [
    "#_*_coding:utf-8_*_\n",
    "import requests, bs4,os\n",
    "\n",
    "url = 'http://xkcd.com'\n",
    "os.makedirs('xkcd', exist_ok=True)\n",
    "while not url.endswith('#'):\n",
    "    #下载网页\n",
    "    print('Downloading page %s ...'%url)\n",
    "    res = requests.get(url)\n",
    "    res.raise_for_status()\n",
    "    soup = bs4.BeautifulSoup(res.text)\n",
    "    \n",
    "    #寻找漫画\n",
    "    comicElem = soup.select('#comic img')\n",
    "    if comicElem == []:\n",
    "        print('Could not find comic image.')\n",
    "    else:\n",
    "        try:\n",
    "            comicUrl = 'http:'+ comicElem[0].get('src')\n",
    "            print('Downloading image is %s ...'%comicUrl)\n",
    "            res = requests.get(comicUrl)\n",
    "            res.raise_for_status()  \n",
    "        except:\n",
    "            comicUrl = 'http://www.xkcd.com'+ comicElem[0].get('src')\n",
    "            print('That is wrong. Downloading image is %s ...'%comicUrl)    \n",
    "            res = requests.get(comicUrl)\n",
    "            res.raise_for_status() \n",
    "\n",
    "    #保存漫画\n",
    "    imageFile = open(os.path.join('xkcd', os.path.basename(comicUrl)), 'wb')\n",
    "    for chunk in res.iter_content(100000):\n",
    "        imageFile.write(chunk)\n",
    "    imageFile.close() \n",
    "\n",
    "    #找前一张漫画\n",
    "    prevLink = soup.select('a[rel=\"prev\"]')[0]\n",
    "    url = 'http://xkcd.com' + prevLink.get('href')\n",
    "    \n",
    "print('Done.')"
   ]
  },
  {
   "cell_type": "code",
   "execution_count": 176,
   "metadata": {
    "collapsed": false
   },
   "outputs": [
    {
     "name": "stdout",
     "output_type": "stream",
     "text": [
      "Downloading image is http://imgs.xkcd.com/comics/pie_charts.png ...\n"
     ]
    }
   ],
   "source": [
    "url = 'https://xkcd.com/2031/'\n",
    "res = requests.get(url)\n",
    "res.raise_for_status()\n",
    "soup = bs4.BeautifulSoup(res.text)\n",
    "comicElem = soup.select('#comic img')\n",
    "try:\n",
    "    comicUrl = 'http:'+ comicElem[0].get('src')\n",
    "    print('Downloading image is %s ...'%comicUrl)\n",
    "    res = requests.get(comicUrl)\n",
    "    res.raise_for_status()  \n",
    "except:\n",
    "    comicUrl = 'http://www.xkcd.com'+ comicElem[0].get('src')\n",
    "    print('That is wrong. Downloading image is %s ...'%comicUrl)    \n",
    "    res = requests.get(comicUrl)\n",
    "    res.raise_for_status() "
   ]
  },
  {
   "cell_type": "markdown",
   "metadata": {},
   "source": [
    "明白了，这里用的是canvas，不是img。"
   ]
  },
  {
   "cell_type": "markdown",
   "metadata": {},
   "source": [
    "2031和1813都出现的错误：  \n",
    "\n",
    "SysCallError                              Traceback (most recent call last)\n",
    "\n",
    "SSLError: HTTPSConnectionPool(host='xkcd.com', port=443): Max retries exceeded with url: /1813/ (Caused by SSLError(SSLError(\"bad handshake: SysCallError(-1, 'Unexpected EOF')\")))"
   ]
  },
  {
   "cell_type": "markdown",
   "metadata": {},
   "source": [
    "### selenium"
   ]
  },
  {
   "cell_type": "code",
   "execution_count": 24,
   "metadata": {
    "collapsed": false
   },
   "outputs": [],
   "source": [
    "from selenium import webdriver\n",
    "import os"
   ]
  },
  {
   "cell_type": "code",
   "execution_count": 35,
   "metadata": {
    "collapsed": false,
    "scrolled": true
   },
   "outputs": [],
   "source": [
    "path = '/Users/caimeijuan/anaconda/envs/python35/lib/python3.7/site-packages/selenium/webdriver/chrome/chromedriver'\n",
    "browser = webdriver.Chrome(path)"
   ]
  },
  {
   "cell_type": "markdown",
   "metadata": {
    "collapsed": true
   },
   "source": [
    "折腾过程见教程。"
   ]
  },
  {
   "cell_type": "code",
   "execution_count": 36,
   "metadata": {
    "collapsed": false
   },
   "outputs": [
    {
     "data": {
      "text/plain": [
       "selenium.webdriver.chrome.webdriver.WebDriver"
      ]
     },
     "execution_count": 36,
     "metadata": {},
     "output_type": "execute_result"
    }
   ],
   "source": [
    "type(browser)"
   ]
  },
  {
   "cell_type": "code",
   "execution_count": null,
   "metadata": {
    "collapsed": false
   },
   "outputs": [],
   "source": []
  },
  {
   "cell_type": "code",
   "execution_count": null,
   "metadata": {
    "collapsed": true
   },
   "outputs": [],
   "source": []
  }
 ],
 "metadata": {
  "kernelspec": {
   "display_name": "Python 3",
   "language": "python",
   "name": "python3"
  },
  "language_info": {
   "codemirror_mode": {
    "name": "ipython",
    "version": 3
   },
   "file_extension": ".py",
   "mimetype": "text/x-python",
   "name": "python",
   "nbconvert_exporter": "python",
   "pygments_lexer": "ipython3",
   "version": "3.7.2"
  }
 },
 "nbformat": 4,
 "nbformat_minor": 0
}
