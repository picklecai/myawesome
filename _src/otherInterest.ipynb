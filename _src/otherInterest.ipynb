{
 "cells": [
  {
   "cell_type": "code",
   "execution_count": 1,
   "metadata": {},
   "outputs": [],
   "source": [
    "# ipython输出各行结果\n",
    "from IPython.core.interactiveshell import InteractiveShell\n",
    "InteractiveShell.ast_node_interactivity = \"all\""
   ]
  },
  {
   "cell_type": "markdown",
   "metadata": {},
   "source": [
    "## 1. 替换敏感词\n",
    "\n",
    "下面这个程序目的是替换不合适的词后，再存入文件中。"
   ]
  },
  {
   "cell_type": "code",
   "execution_count": 25,
   "metadata": {},
   "outputs": [
    {
     "ename": "FileNotFoundError",
     "evalue": "[Errno 2] No such file or directory: '/Users/caimeijuan/github/myawesome/_src/1.txt'",
     "output_type": "error",
     "traceback": [
      "\u001b[0;31m---------------------------------------------------------------------------\u001b[0m",
      "\u001b[0;31mFileNotFoundError\u001b[0m                         Traceback (most recent call last)",
      "\u001b[0;32m<ipython-input-25-a2a8545e8dcc>\u001b[0m in \u001b[0;36m<module>\u001b[0;34m\u001b[0m\n\u001b[1;32m     24\u001b[0m     \u001b[0mmsg\u001b[0m \u001b[0;34m=\u001b[0m \u001b[0mtext_filter\u001b[0m\u001b[0;34m(\u001b[0m\u001b[0mmsg\u001b[0m\u001b[0;34m)\u001b[0m\u001b[0;34m\u001b[0m\u001b[0;34m\u001b[0m\u001b[0m\n\u001b[1;32m     25\u001b[0m     \u001b[0mtext_create\u001b[0m\u001b[0;34m(\u001b[0m\u001b[0mname\u001b[0m\u001b[0;34m,\u001b[0m\u001b[0mmsg\u001b[0m\u001b[0;34m)\u001b[0m\u001b[0;34m\u001b[0m\u001b[0;34m\u001b[0m\u001b[0m\n\u001b[0;32m---> 26\u001b[0;31m \u001b[0mcensored_text_create\u001b[0m\u001b[0;34m(\u001b[0m\u001b[0;34m'2'\u001b[0m\u001b[0;34m,\u001b[0m\u001b[0mtext_read\u001b[0m\u001b[0;34m(\u001b[0m\u001b[0;34m'1'\u001b[0m\u001b[0;34m)\u001b[0m\u001b[0;34m)\u001b[0m\u001b[0;34m\u001b[0m\u001b[0;34m\u001b[0m\u001b[0m\n\u001b[0m",
      "\u001b[0;32m<ipython-input-25-a2a8545e8dcc>\u001b[0m in \u001b[0;36mtext_read\u001b[0;34m(name)\u001b[0m\n\u001b[1;32m     18\u001b[0m     \u001b[0mfile\u001b[0m\u001b[0;34m.\u001b[0m\u001b[0mclose\u001b[0m\u001b[0;34m(\u001b[0m\u001b[0;34m)\u001b[0m\u001b[0;34m\u001b[0m\u001b[0;34m\u001b[0m\u001b[0m\n\u001b[1;32m     19\u001b[0m \u001b[0;32mdef\u001b[0m \u001b[0mtext_read\u001b[0m\u001b[0;34m(\u001b[0m\u001b[0mname\u001b[0m\u001b[0;34m)\u001b[0m\u001b[0;34m:\u001b[0m\u001b[0;34m\u001b[0m\u001b[0;34m\u001b[0m\u001b[0m\n\u001b[0;32m---> 20\u001b[0;31m     \u001b[0mmsg\u001b[0m \u001b[0;34m=\u001b[0m \u001b[0mread_file\u001b[0m\u001b[0;34m(\u001b[0m\u001b[0mname\u001b[0m\u001b[0;34m)\u001b[0m\u001b[0;34m.\u001b[0m\u001b[0mread\u001b[0m\u001b[0;34m(\u001b[0m\u001b[0;34m)\u001b[0m\u001b[0;34m\u001b[0m\u001b[0;34m\u001b[0m\u001b[0m\n\u001b[0m\u001b[1;32m     21\u001b[0m     \u001b[0mread_file\u001b[0m\u001b[0;34m(\u001b[0m\u001b[0mname\u001b[0m\u001b[0;34m)\u001b[0m\u001b[0;34m.\u001b[0m\u001b[0mclose\u001b[0m\u001b[0;34m(\u001b[0m\u001b[0;34m)\u001b[0m\u001b[0;34m\u001b[0m\u001b[0;34m\u001b[0m\u001b[0m\n\u001b[1;32m     22\u001b[0m     \u001b[0;32mreturn\u001b[0m \u001b[0mmsg\u001b[0m\u001b[0;34m\u001b[0m\u001b[0;34m\u001b[0m\u001b[0m\n",
      "\u001b[0;32m<ipython-input-25-a2a8545e8dcc>\u001b[0m in \u001b[0;36mread_file\u001b[0;34m(name)\u001b[0m\n\u001b[1;32m      8\u001b[0m     \u001b[0mdesk_path\u001b[0m \u001b[0;34m=\u001b[0m \u001b[0;34m'/Users/caimeijuan/github/myawesome/_src/'\u001b[0m\u001b[0;34m\u001b[0m\u001b[0;34m\u001b[0m\u001b[0m\n\u001b[1;32m      9\u001b[0m     \u001b[0mfull_path\u001b[0m \u001b[0;34m=\u001b[0m \u001b[0mdesk_path\u001b[0m \u001b[0;34m+\u001b[0m \u001b[0mname\u001b[0m \u001b[0;34m+\u001b[0m \u001b[0;34m'.txt'\u001b[0m\u001b[0;34m\u001b[0m\u001b[0;34m\u001b[0m\u001b[0m\n\u001b[0;32m---> 10\u001b[0;31m     \u001b[0mfile\u001b[0m \u001b[0;34m=\u001b[0m \u001b[0mopen\u001b[0m\u001b[0;34m(\u001b[0m\u001b[0mfull_path\u001b[0m\u001b[0;34m,\u001b[0m\u001b[0;34m'r'\u001b[0m\u001b[0;34m)\u001b[0m\u001b[0;34m\u001b[0m\u001b[0;34m\u001b[0m\u001b[0m\n\u001b[0m\u001b[1;32m     11\u001b[0m     \u001b[0;32mreturn\u001b[0m \u001b[0mfile\u001b[0m\u001b[0;34m\u001b[0m\u001b[0;34m\u001b[0m\u001b[0m\n\u001b[1;32m     12\u001b[0m \u001b[0;32mdef\u001b[0m \u001b[0mtext_filter\u001b[0m\u001b[0;34m(\u001b[0m\u001b[0mword\u001b[0m\u001b[0;34m,\u001b[0m \u001b[0mcensored_word\u001b[0m\u001b[0;34m=\u001b[0m\u001b[0;34m'宝宝'\u001b[0m\u001b[0;34m,\u001b[0m \u001b[0mchanged_word\u001b[0m\u001b[0;34m=\u001b[0m\u001b[0;34m'baby'\u001b[0m\u001b[0;34m)\u001b[0m\u001b[0;34m:\u001b[0m\u001b[0;34m\u001b[0m\u001b[0;34m\u001b[0m\u001b[0m\n",
      "\u001b[0;31mFileNotFoundError\u001b[0m: [Errno 2] No such file or directory: '/Users/caimeijuan/github/myawesome/_src/1.txt'"
     ]
    }
   ],
   "source": [
    "# _*_ coding: utf-8 _*_\n",
    "def load_file(name):\n",
    "    desk_path = '/Users/caimeijuan/github/myawesome/_src/'\n",
    "    full_path = desk_path + name + '.txt'\n",
    "    file = open(full_path,'w')\n",
    "    return file\n",
    "def read_file(name):\n",
    "    desk_path = '/Users/caimeijuan/github/myawesome/_src/'\n",
    "    full_path = desk_path + name + '.txt'\n",
    "    file = open(full_path,'r')\n",
    "    return file\n",
    "def text_filter(word, censored_word='宝宝', changed_word='baby'):\n",
    "    word = word.replace(censored_word,changed_word)\n",
    "    return word\n",
    "def text_create(name,msg):\n",
    "    file = load_file(name)\n",
    "    file.write(msg)\n",
    "    file.close()\n",
    "def text_read(name):\n",
    "    msg = read_file(name).read()\n",
    "    read_file(name).close()\n",
    "    return msg\n",
    "def censored_text_create(name,msg):\n",
    "    msg = text_filter(msg)\n",
    "    text_create(name,msg)\n",
    "censored_text_create('2',text_read('1'))"
   ]
  },
  {
   "cell_type": "markdown",
   "metadata": {},
   "source": [
    "## 2. PI  \n",
    "\n",
    "[Irrational Numbers Search Engine](http://www.subidiom.com/pi/pi.asp)"
   ]
  },
  {
   "cell_type": "markdown",
   "metadata": {},
   "source": [
    "[One billion digits of pi](https://stuff.mit.edu/afs/sipb/contrib/pi/)  \n",
    "[计算圆周率至任意精度 | 睿](https://z-rui.github.io/post/2015/06/pi-digits/)"
   ]
  },
  {
   "cell_type": "code",
   "execution_count": 16,
   "metadata": {},
   "outputs": [
    {
     "name": "stdout",
     "output_type": "stream",
     "text": [
      "3.141592653589793115997963468544185161590576171875\n"
     ]
    }
   ],
   "source": [
    "from math import pi\n",
    "from decimal import *\n",
    "import re\n",
    "import numpy as np\n",
    "import timeit\n",
    "\n",
    "strPI = str(Decimal(pi))\n",
    "print(strPI)"
   ]
  },
  {
   "cell_type": "code",
   "execution_count": 24,
   "metadata": {},
   "outputs": [
    {
     "name": "stdout",
     "output_type": "stream",
     "text": [
      "concat  1.0779117330000645 seconds\n"
     ]
    }
   ],
   "source": [
    "def pifomula(precision):\n",
    "    getcontext().prec = precision\n",
    "    fomula = 0\n",
    "    for k in range(precision):\n",
    "        fomula += 1/Decimal(16)**k * (Decimal(4)/(8*k+1)-Decimal(2)/(8*k+4)-Decimal(1)/(8*k+5)-Decimal(1)/(8*k+6))\n",
    "    return fomula\n",
    "t1 = timeit.Timer(\"pifomula(2*10**3)\", \"from __main__ import pifomula\")\n",
    "print(\"concat \",t1.timeit(number=2), \"seconds\")"
   ]
  },
  {
   "cell_type": "code",
   "execution_count": 23,
   "metadata": {},
   "outputs": [
    {
     "name": "stdout",
     "output_type": "stream",
     "text": [
      "The numeric string 14 appears at the 1 decimal digit of Pi.\n",
      "<re.Match object; span=(0, 1), match='3'>\n",
      "<re.Match object; span=(6, 9), match='926'>\n"
     ]
    }
   ],
   "source": [
    "def findFromPI(numbers):\n",
    "    strPI = str(pifomula(10))    \n",
    "    if numbers.isdigit():\n",
    "        #if re.match(numbers, strPI) == None:\n",
    "        if bool(re.search(numbers, strPI)) == None:\n",
    "            print('Not found.')\n",
    "        else:\n",
    "            for match in re.finditer(numbers, strPI):\n",
    "                print('The numeric string ' + numbers + ' appears at the ' + str(int(match.start())-1) + \\\n",
    "                      ' decimal digit of Pi.')\n",
    "    else:\n",
    "        print('Digitals please!')\n",
    "findFromPI('14')\n",
    "\n",
    "print(re.match('3', '3.141592653')) #match只在开头找。开头找不到就算了。\n",
    "print(re.search('926', '3.141592653'))"
   ]
  },
  {
   "cell_type": "code",
   "execution_count": 17,
   "metadata": {},
   "outputs": [
    {
     "name": "stdout",
     "output_type": "stream",
     "text": [
      "The numeric string '6346' appears at the 23 decimal digit of Pi.\n"
     ]
    }
   ],
   "source": [
    "from math import pi\n",
    "import re\n",
    "import requests\n",
    "\n",
    "def findFromPI(numbers):\n",
    "    '''url = 'https://stuff.mit.edu/afs/sipb/contrib/pi/pi-billion.txt'\n",
    "    res = requests.get(url)\n",
    "    res.raise_for_status()\n",
    "    file = open('pi.txt', 'wb')\n",
    "    for chunk in res.iter_content(100000):\n",
    "        file.write(chunk)\n",
    "    file.close()\n",
    "    file = open('pi.txt', 'r')\n",
    "    strPI = file.read()'''\n",
    "    if numbers.isdigit(): \n",
    "        if bool(re.search(numbers, strPI)) == None: \n",
    "            print('Not found.')\n",
    "            # 如果只需要判断真假，不需要找到文本结果，可以用bool(re.search(Regex, String))\n",
    "        else:\n",
    "            for match in re.finditer(numbers, strPI):\n",
    "                print('The numeric string \\'' + numbers + '\\' appears at the ' + str(int(match.start())-1) + \\\n",
    "                      ' decimal digit of Pi.')\n",
    "    else:\n",
    "        print('Digitals please!')\n",
    "findFromPI('6346')"
   ]
  },
  {
   "cell_type": "markdown",
   "metadata": {},
   "source": [
    "## 3. 比较文件是否相同"
   ]
  },
  {
   "cell_type": "markdown",
   "metadata": {},
   "source": [
    "[python中比较两个文件是否相同 - Cure - 博客园](https://www.cnblogs.com/dahuzizyd/archive/2005/03/02/111749.html)"
   ]
  },
  {
   "cell_type": "markdown",
   "metadata": {},
   "source": [
    "[MAC OSX 系统下，U盘会被自动挂载到哪个目录](https://www.douban.com/note/525171297/)"
   ]
  },
  {
   "cell_type": "markdown",
   "metadata": {},
   "source": [
    "[python字典排序、按照list中的字典的某个key排序 - 一步一步 - CSDN博客](https://blog.csdn.net/Tangzongyu123/article/details/75200619)"
   ]
  },
  {
   "cell_type": "code",
   "execution_count": 33,
   "metadata": {},
   "outputs": [],
   "source": [
    "import os, filecmp\n",
    "\n",
    "def findDupFile(path):\n",
    "    os.chdir(path)\n",
    "    # 把文件名和大小存入字典\n",
    "    files = []\n",
    "    for i in range(len(os.listdir(path))):\n",
    "        files.append(\n",
    "            {\n",
    "                'fileName':os.listdir(path)[i],\n",
    "                'fileSize':os.path.getsize(os.listdir(path)[i]),      \n",
    "            }\n",
    "        )\n",
    "    files = sorted(files, key=lambda e:e.__getitem__('fileSize')) # 按size大小排序\n",
    "\n",
    "    #可以直接比较文件，反正已经排序过了\n",
    "    num = 0\n",
    "    sizes, dupFiles = [], []\n",
    "    for i in range(len(files)-1):\n",
    "        if filecmp.cmp(files[i]['fileName'], files[i+1]['fileName']):\n",
    "            num += 1\n",
    "            sizes.append(files[i]['fileSize'])\n",
    "            dupFiles.append(files[i+1]['fileName'])\n",
    "            '''print('[Pair %d] %s, %s . Size is %d' %(num, files[i]['fileName'], files[i+1]['fileName'],\\\n",
    "                                                    files[i]['fileSize']))'''\n",
    "    print('Total of size is: %d M.'% (sum(sizes)/1024/1024))\n",
    "\n",
    "    # 有两对文件，大小相同，但不是相同文件。列出来看看是谁\n",
    "    number = 0\n",
    "    for i in range(len(files)-1):\n",
    "        if files[i]['fileSize']==files[i+1]['fileSize'] and not filecmp.cmp(files[i]['fileName'], files[i+1]['fileName']):\n",
    "            number += 1\n",
    "            print('[Pair %d] %s, %s . Size is %d' %(number, files[i]['fileName'], files[i+1]['fileName'],\\\n",
    "                                                                      files[i]['fileSize']))\n",
    "    recordFile = open('/users/caimeijuan/github/myawesome/_src/Duple/' + os.path.basename(path) + '.txt','w')\n",
    "    for txt in dupFiles:\n",
    "        recordFile.write(txt)\n",
    "        recordFile.write('\\n')\n",
    "    recordFile.close()"
   ]
  },
  {
   "cell_type": "code",
   "execution_count": 34,
   "metadata": {},
   "outputs": [
    {
     "name": "stdout",
     "output_type": "stream",
     "text": [
      "Total of size is: 495 M.\n",
      "[Pair 1] 43-1-搜商：万物皆有路径且可达.mp3, 古典丨搜商：万物皆有路径且可达.mp3 . Size is 10837289\n",
      "[Pair 2] 40-3-三个卓有成效的向上沟通方法.mp3, 古典丨三个卓有成效的向上沟通方法.mp3 . Size is 13602107\n",
      "Total of size is: 321 M.\n",
      "Total of size is: 281 M.\n",
      "[Pair 1] 0622, 0625 . Size is 0\n",
      "[Pair 2] 0625, 0706 . Size is 0\n",
      "[Pair 3] 0706, 20171129 . Size is 0\n",
      "[Pair 4] 20171129, 20171203 . Size is 0\n",
      "[Pair 5] 20171203, 20171204 . Size is 0\n",
      "[Pair 6] 20171204, 20180614 . Size is 0\n",
      "[Pair 7] 刘润丨4U原则：我文章写得很好，但阅读量总是很低，怎么办？.mp3, 刘润丨社群效应：另一种增强用户黏性的“强力胶”.mp3 . Size is 2888665\n",
      "[Pair 8] 刘润丨女生为什么会逼婚？.mp3, 刘润丨麦穗理论：如何选择人生中最大的那支麦穗.mp3 . Size is 2998046\n",
      "[Pair 9] 刘润丨展示设计：顾客逛了一圈，就蒙圈地走了，怎么办？.mp3, 刘润丨选址逻辑：不知道选贵而近，还是远而便宜的地方开店，怎么办？.mp3 . Size is 3088729\n",
      "[Pair 10] 卓克｜科学思维课-全年总结.mp3, 卓克｜衰老：线粒体，曾经的杀手.mp3 . Size is 4878209\n",
      "[Pair 11] 何帆｜论语2：儒家思想的历史渊源.mp3, 唐涯丨 动量交易：追涨杀跌，对不对？.mp3 . Size is 5321664\n",
      "[Pair 12] 刘苏里｜《两种自由》第五讲：思想的最要者在于方法.mp3, 武志红丨无常04 头脑的伟大之处.mp3 . Size is 5493654\n",
      "[Pair 13] 1_唐涯丨延展话题：索罗斯与反身性炼金术.mp3, 唐涯丨延展话题：索罗斯与反身性炼金术.mp3 . Size is 5912240\n",
      "[Pair 14] 刘苏里丨《管理行为》第一讲：当代百科全书式的人物赫伯特·西蒙2.mp3, 张潇雨丨保时捷和大众，到底是谁收购了谁？.mp3 . Size is 9573486\n",
      "[Pair 15] 1_每日听书丨高情商管理.mp3, 每日听书丨我们内心的冲突.mp3 . Size is 11051884\n",
      "[Pair 16] 每日听书丨人体的故事.mp3, 每日听书丨说话就是生产力.mp3 . Size is 11497638\n",
      "[Pair 17] 每日听书《拜占庭帝国3》.mp3, 每日听书《苏格拉底的申辩》.mp3 . Size is 26040254\n"
     ]
    }
   ],
   "source": [
    "path = '/Volumes/学习工具/培训与学习/10-得到音频/gudian'\n",
    "findDupFile(path)\n",
    "path = '/Volumes/学习工具/培训与学习/10-得到音频/图片'\n",
    "findDupFile(path)\n",
    "path = '/Volumes/学习工具/培训与学习/10-得到音频'\n",
    "findDupFile(path)"
   ]
  },
  {
   "cell_type": "markdown",
   "metadata": {},
   "source": [
    "[Bug report: \"Error: Unknown command: cask\" after #23852 · Issue #23934 · Homebrew/homebrew-cask](https://github.com/Homebrew/homebrew-cask/issues/23934)"
   ]
  },
  {
   "cell_type": "code",
   "execution_count": null,
   "metadata": {},
   "outputs": [],
   "source": [
    "# 删除重复文件\n",
    "'''for file in dupFiles:\n",
    "    if os.path.exists(file):\n",
    "        os.remove(file)\n",
    "    else:\n",
    "        print('No such file. %s' %file)\n",
    "print('Done.')'''"
   ]
  },
  {
   "cell_type": "markdown",
   "metadata": {},
   "source": [
    "## 4. Tkinter学习  \n",
    "\n",
    "[Tkinter GUI 教程系列 | 莫烦Python](https://morvanzhou.github.io/tutorials/python-basic/tkinter/)"
   ]
  },
  {
   "cell_type": "markdown",
   "metadata": {},
   "source": [
    "### 4.1 button & lable"
   ]
  },
  {
   "cell_type": "code",
   "execution_count": 1,
   "metadata": {},
   "outputs": [],
   "source": [
    "import tkinter\n",
    "\n",
    "root = tkinter.Tk()\n",
    "root.title('You Hit Me')\n",
    "root.geometry('640x480')\n",
    "\n",
    "var = tkinter.StringVar()\n",
    "l = tkinter.Label(root, textvariable=var, bg='yellow', width=15)\n",
    "l.pack()\n",
    "\n",
    "on_hit = False\n",
    "def hit_me():\n",
    "    global on_hit\n",
    "    if on_hit == False:\n",
    "        on_hit = True\n",
    "        var.set('You hitted me.')\n",
    "    else:\n",
    "        on_hit = False\n",
    "        var.set('')\n",
    "b = tkinter.Button(root, text='hit me', command=hit_me, width=15)\n",
    "b.pack()\n",
    "root.mainloop()"
   ]
  },
  {
   "cell_type": "markdown",
   "metadata": {},
   "source": [
    "### 4.2 entry & button"
   ]
  },
  {
   "cell_type": "code",
   "execution_count": 1,
   "metadata": {},
   "outputs": [],
   "source": [
    "import tkinter\n",
    "\n",
    "root = tkinter.Tk()\n",
    "root.title('Insert')\n",
    "root.geometry('640x480')\n",
    "\n",
    "e = tkinter.Entry(root, width=15, show='o')\n",
    "e.pack()\n",
    "\n",
    "def insert_point():\n",
    "    var = e.get()\n",
    "    t.insert('insert', var)\n",
    "def insert_end():\n",
    "    var = e.get()\n",
    "    t.insert('end', var)\n",
    "    \n",
    "b1 = tkinter.Button(root, text='Insert point', command=insert_point, width=15)\n",
    "b2 = tkinter.Button(root, text='Insert end', command=insert_end, width=15)\n",
    "b1.pack()\n",
    "b2.pack()\n",
    "\n",
    "t = tkinter.Text(root, width=15, height=5)\n",
    "t.pack()\n",
    "\n",
    "root.mainloop()"
   ]
  },
  {
   "cell_type": "markdown",
   "metadata": {},
   "source": [
    "### 4.3 listbox & lable"
   ]
  },
  {
   "cell_type": "code",
   "execution_count": 1,
   "metadata": {},
   "outputs": [],
   "source": [
    "import tkinter\n",
    "\n",
    "root = tkinter.Tk()\n",
    "root.title('Selection')\n",
    "root.geometry('640x480')\n",
    "\n",
    "var1 = tkinter.Variable()\n",
    "l = tkinter.Label(root, width=15, textvariable=var1, bg='pink')\n",
    "l.pack()\n",
    "\n",
    "def print_selection():\n",
    "    variable = ls.get(ls.curselection())\n",
    "    var1.set(variable)\n",
    "\n",
    "b = tkinter.Button(root, text='Print Selection', command=print_selection, width=15)\n",
    "b.pack()\n",
    "\n",
    "var2 = tkinter.Variable()\n",
    "month_list = ['May', 'June', 'July', 'August', 'September']\n",
    "var2.set(['Janary','Februry','March','April'])\n",
    "\n",
    "ls = tkinter.Listbox(root, listvariable=var2, width=15) #不赋初值也没关系\n",
    "for month in month_list:\n",
    "    ls.insert('end', month)\n",
    "ls.insert(9, 'Octorber')\n",
    "ls.pack()\n",
    "\n",
    "root.mainloop()"
   ]
  },
  {
   "cell_type": "markdown",
   "metadata": {},
   "source": [
    "### 4.4 radiobutton & lable"
   ]
  },
  {
   "cell_type": "code",
   "execution_count": 1,
   "metadata": {},
   "outputs": [],
   "source": [
    "import tkinter\n",
    "\n",
    "root = tkinter.Tk()\n",
    "root.title('Radio Button')\n",
    "root.geometry('640x480')\n",
    "\n",
    "var = tkinter.Variable()\n",
    "l = tkinter.Label(root, width=20, text=' ', bg='pink')\n",
    "l.pack()\n",
    "\n",
    "def print_selection():\n",
    "    l.config(text='You choose ' + var.get())\n",
    "\n",
    "r1 = tkinter.Radiobutton(root, text='Option A', variable=var, value='Spring', command=print_selection, width=15)\n",
    "r1.pack()\n",
    "r2 = tkinter.Radiobutton(root, text='Option B', variable=var, value='Summer', command=print_selection, width=15)\n",
    "r2.pack()\n",
    "r3 = tkinter.Radiobutton(root, text='Option C', variable=var, value='Autumn', command=print_selection, width=15)\n",
    "r3.pack()\n",
    "\n",
    "root.mainloop()"
   ]
  },
  {
   "cell_type": "markdown",
   "metadata": {
    "collapsed": true
   },
   "source": [
    "### 4.5 scale"
   ]
  },
  {
   "cell_type": "code",
   "execution_count": 29,
   "metadata": {},
   "outputs": [],
   "source": [
    "import tkinter\n",
    "\n",
    "root = tkinter.Tk()\n",
    "root.title('A Ruler')\n",
    "root.geometry('640x480')\n",
    "\n",
    "\n",
    "l = tkinter.Label(root, width=20, text=' ', bg='#7DECF5')\n",
    "l.pack()\n",
    "\n",
    "def print_selection(v):\n",
    "    l.config(text='You choose ' + v)\n",
    "\n",
    "s = tkinter.Scale(root, label = 'A Ruler', from_=0, to=600, length=600, orient = tkinter.HORIZONTAL, tickinterval=100,\\\n",
    "                 command=print_selection, resolution=0.1, showvalue=1)\n",
    "s.pack()\n",
    "\n",
    "root.mainloop()"
   ]
  },
  {
   "cell_type": "markdown",
   "metadata": {},
   "source": [
    "### 4.6 checkbutton"
   ]
  },
  {
   "cell_type": "code",
   "execution_count": 37,
   "metadata": {},
   "outputs": [],
   "source": [
    "import tkinter\n",
    "\n",
    "root = tkinter.Tk()\n",
    "root.title('Python or C ?')\n",
    "root.geometry('640x480')\n",
    "\n",
    "\n",
    "l = tkinter.Label(root, width=20, text=' ', bg='#7DECF5')\n",
    "l.pack()\n",
    "\n",
    "var1 = tkinter.IntVar()\n",
    "var2 = tkinter.IntVar()\n",
    "\n",
    "def print_selection():\n",
    "    if var1.get()==1 and var2.get()==0:\n",
    "        l.config(text='I love only Python')\n",
    "    elif var1.get()==0 and var2.get()==1:\n",
    "        l.config(text='I love only C语言')\n",
    "    elif var1.get()==1 and var2.get()==1:\n",
    "        l.config(text='I love both')\n",
    "    else:\n",
    "        l.config(text='I dont love either')\n",
    "\n",
    "c1 = tkinter.Checkbutton(root, text='Python', variable=var1, onvalue=1, offvalue=0, command=print_selection)\n",
    "c2 = tkinter.Checkbutton(root, text='C语言', variable=var2, onvalue=1, offvalue=0, command=print_selection)\n",
    "c1.pack()\n",
    "c2.pack()\n",
    "\n",
    "root.mainloop()"
   ]
  },
  {
   "cell_type": "code",
   "execution_count": 5,
   "metadata": {},
   "outputs": [],
   "source": []
  },
  {
   "cell_type": "markdown",
   "metadata": {},
   "source": [
    "### 4.7 canvas"
   ]
  },
  {
   "cell_type": "code",
   "execution_count": 1,
   "metadata": {},
   "outputs": [],
   "source": [
    "import tkinter\n",
    "\n",
    "root = tkinter.Tk()\n",
    "root.title('My canvas')\n",
    "root.geometry('640x480')\n",
    "\n",
    "\n",
    "c = tkinter.Canvas(root, width=360, height=360, bg='#7DECF5')\n",
    "image_file = tkinter.PhotoImage(file='emoj.png')\n",
    "image = c.create_image(10, 10, anchor='nw', image=image_file)\n",
    "line = c.create_line(200,200,220,220,230,250,320,150)\n",
    "oval = c.create_oval(300,300,350,350, fill='red')\n",
    "arc = c.create_arc(260,260,330,330, fill='yellow', start=0, extent=120)\n",
    "rec = c.create_rectangle(50,270,150,310, fill='#A3F57D')\n",
    "\n",
    "c.pack()\n",
    "\n",
    "def down_it():\n",
    "    c.move(rec,0,5)\n",
    "def up_it():\n",
    "    c.move(rec,0,-5)\n",
    "def left_it():\n",
    "    c.move(rec,-5,0)\n",
    "def right_it():\n",
    "    c.move(rec,5,0)\n",
    "\n",
    "b1 = tkinter.Button(root, text='up', command=up_it)\n",
    "b1.pack()\n",
    "b2 = tkinter.Button(root, text='down', command=down_it)\n",
    "b2.pack()\n",
    "b3 = tkinter.Button(root, text='left', command=left_it)\n",
    "b3.pack()\n",
    "b4 = tkinter.Button(root, text='right', command=right_it)\n",
    "b4.pack()\n",
    "\n",
    "root.mainloop()"
   ]
  },
  {
   "cell_type": "markdown",
   "metadata": {
    "collapsed": true
   },
   "source": [
    "### 4.8 menubar"
   ]
  },
  {
   "cell_type": "code",
   "execution_count": 26,
   "metadata": {},
   "outputs": [],
   "source": [
    "import tkinter\n",
    "\n",
    "root = tkinter.Tk()\n",
    "root.title('MenuBar')\n",
    "root.geometry('640x480')\n",
    "\n",
    "l = tkinter.Label(bg='yellow', width=20)\n",
    "l.pack()\n",
    "\n",
    "count = 0\n",
    "def do_job():\n",
    "    global count\n",
    "    l.config(text='Do it %s times. '%str(count))\n",
    "    count += 1    \n",
    "\n",
    "menubar = tkinter.Menu(root)\n",
    "\n",
    "filemenu = tkinter.Menu(menubar, tearoff=1)\n",
    "menubar.add_cascade(label='File', menu=filemenu)\n",
    "filemenu.add_command(label='New', command=do_job)\n",
    "filemenu.add_command(label='Open', command=do_job)\n",
    "filemenu.add_command(label='Save', command=do_job)\n",
    "\n",
    "submenu = tkinter.Menu(filemenu, tearoff=1)\n",
    "filemenu.add_cascade(label='Import', menu=submenu)\n",
    "submenu.add_command(label='Submenu1', command=do_job)\n",
    "\n",
    "filemenu.add_separator()\n",
    "filemenu.add_command(label='Exit', command=root.quit)\n",
    "\n",
    "editmenu = tkinter.Menu(menubar, tearoff=1)\n",
    "menubar.add_cascade(label='Edit', menu=editmenu)\n",
    "editmenu.add_command(label='Cut', command=do_job)\n",
    "editmenu.add_command(label='Copy', command=do_job)\n",
    "editmenu.add_command(label='Paste', command=do_job)\n",
    "editmenu.add_separator()\n",
    "\n",
    "root.config(menu=menubar)\n",
    "\n",
    "root.mainloop()"
   ]
  },
  {
   "cell_type": "markdown",
   "metadata": {},
   "source": [
    "### 4.9 Frame框架"
   ]
  },
  {
   "cell_type": "code",
   "execution_count": 34,
   "metadata": {
    "collapsed": true
   },
   "outputs": [],
   "source": [
    "import tkinter\n",
    "\n",
    "root = tkinter.Tk()\n",
    "root.title('Frame')\n",
    "root.geometry('640x480')\n",
    "\n",
    "l = tkinter.Label(root, text='On the window')\n",
    "l.pack()\n",
    "\n",
    "frm = tkinter.Frame(root, bg='pink')\n",
    "frm.pack()\n",
    "\n",
    "frm_l = tkinter.Frame(frm, bg='yellow')\n",
    "frm_l.pack(side='left')\n",
    "l1 = tkinter.Label(frm_l, text='Left Frame')\n",
    "l1.pack()\n",
    "l2 = tkinter.Label(frm_l, text='Left Frame')\n",
    "l2.pack()\n",
    "\n",
    "frm_r = tkinter.Frame(frm)\n",
    "frm_r.pack(side='right')\n",
    "l3 = tkinter.Label(frm_r, text='Right Frame')\n",
    "l3.pack(side='right')\n",
    "\n",
    "\n",
    "root.mainloop()"
   ]
  },
  {
   "cell_type": "markdown",
   "metadata": {},
   "source": [
    "### 4.10 messagebox"
   ]
  },
  {
   "cell_type": "code",
   "execution_count": 48,
   "metadata": {},
   "outputs": [
    {
     "name": "stdout",
     "output_type": "stream",
     "text": [
      "False\n",
      "True\n"
     ]
    }
   ],
   "source": [
    "import tkinter\n",
    "import tkinter.messagebox\n",
    "\n",
    "root= tkinter.Tk()\n",
    "root.title('MessageBox')\n",
    "root.geometry('640x480')\n",
    "\n",
    "def hit_me():\n",
    "    #tkinter.messagebox.showinfo(title='Information', message='This is a normal information.')        \n",
    "    #tkinter.messagebox.showwarning(title='Warning', message='Warning. Stop it !!!')    \n",
    "    #tkinter.messagebox.showerror(title='Error', message='Error!!!')\n",
    "    #print(tkinter.messagebox.askquestion(title='Ask', message='for lunch?'))\n",
    "    #print(tkinter.messagebox.askyesno(title='Ask', message='for lunch?'))\n",
    "    #print(tkinter.messagebox.askyesnocancel(title='Ask', message='for lunch?'))\n",
    "    #print(tkinter.messagebox.askretrycancel(title='Ask', message='for lunch?'))\n",
    "    print(tkinter.messagebox.askokcancel(title='Ask', message='for lunch?'))\n",
    "    \n",
    "b = tkinter.Button(root, text='hit me', command=hit_me)\n",
    "b.pack()\n",
    "\n",
    "root.mainloop()"
   ]
  },
  {
   "cell_type": "markdown",
   "metadata": {},
   "source": [
    "### 4.11 pack"
   ]
  },
  {
   "cell_type": "code",
   "execution_count": 79,
   "metadata": {},
   "outputs": [],
   "source": [
    "import tkinter\n",
    "\n",
    "root = tkinter.Tk()\n",
    "root.title('Pack Grid Place')\n",
    "root.geometry('640x480')\n",
    "\n",
    "'''tkinter.Label(text='top', bg='pink').pack(side='top')\n",
    "tkinter.Label(text='bottom', bg='pink').pack(side='bottom')\n",
    "tkinter.Label(text='left', bg='pink').pack(side='left')\n",
    "tkinter.Label(text='right', bg='pink').pack(side='right')'''\n",
    "\n",
    "'''for i in range(3):\n",
    "    for j in range(3):\n",
    "        tkinter.Label(root, text='null', bg='pink',borderwidth=2, relief=\"groove\", width=10, height=5\\\n",
    "                     ).grid(row=i, column=j, padx=10, pady=10, ipadx=10, ipady=10)'''\n",
    "\n",
    "tkinter.Label(text=' ', bg='pink', padx=10, pady=10).place(x=100, y=100, anchor='se')\n",
    "tkinter.Label(text=' ', bg='yellow', padx=10, pady=10).place(x=100, y=100, anchor='nw')\n",
    "tkinter.Label(text=' ', bg='red', padx=10, pady=10).place(x=100, y=100, anchor='sw')\n",
    "tkinter.Label(text=' ', bg='blue', padx=10, pady=10).place(x=100, y=100, anchor='ne')\n",
    "\n",
    "root.mainloop()"
   ]
  },
  {
   "cell_type": "markdown",
   "metadata": {},
   "source": [
    "### 4.12 登录窗口"
   ]
  },
  {
   "cell_type": "markdown",
   "metadata": {},
   "source": [
    "先制作用户名密码文件：  "
   ]
  },
  {
   "cell_type": "code",
   "execution_count": 3,
   "metadata": {},
   "outputs": [],
   "source": [
    "import pickle, os\n",
    "user_dict = {'admin':'123456', 'example@python.com':'py123thon', 'cai@163.com':'qwerasdf'}\n",
    "os.chdir(os.path.dirname(os.getcwd()) + '/files')\n",
    "file = open(os.getcwd()+'/user.pickle','wb')\n",
    "pickle.dump(user_dict, file)\n",
    "file.close()\n",
    "os.chdir(os.path.dirname(os.getcwd()) + '/_src')"
   ]
  },
  {
   "cell_type": "code",
   "execution_count": 2,
   "metadata": {},
   "outputs": [],
   "source": [
    "import tkinter, os, pickle\n",
    "import tkinter.messagebox\n",
    "\n",
    "root = tkinter.Tk()\n",
    "root.title(' ')\n",
    "root.geometry('640x480')\n",
    "\n",
    "canvas = tkinter.Canvas(root, height=130, width=445)\n",
    "image_file = tkinter.PhotoImage(file='welcome.gif')\n",
    "image = canvas.create_image(0, 0, anchor='nw', image=image_file)\n",
    "canvas.pack(side='top')\n",
    "\n",
    "var_usr_name = tkinter.StringVar()\n",
    "var_usr_name.set('example@python.com')\n",
    "var_usr_pwd = tkinter.StringVar()\n",
    "\n",
    "def usr_login():\n",
    "    usr_name = var_usr_name.get()\n",
    "    usr_pwd = var_usr_pwd.get()\n",
    "    os.chdir(os.path.dirname(os.getcwd()) + '/files')\n",
    "    with open(os.getcwd()+'/user.pickle','rb') as usr_file:\n",
    "        usr_dict = pickle.load(usr_file)\n",
    "    if usr_name in usr_dict and usr_pwd==usr_dict[usr_name]:\n",
    "        tkinter.messagebox.showinfo(title='Welcome', message='Welcome to here, '+usr_name)\n",
    "    elif usr_name in usr_dict and usr_pwd!=usr_dict[usr_name]:\n",
    "        tkinter.messagebox.showerror(title='Error', message='Your password is wrong. Try again.')\n",
    "    elif usr_name not in usr_dict:\n",
    "        is_sign_up = tkinter.messagebox.askyesno(title='Warning', message='You havn\\'t sign up. Sign up today?')\n",
    "        if is_sign_up:\n",
    "            usr_signup()\n",
    "    os.chdir(os.path.dirname(os.getcwd()) + '/_src')\n",
    "\n",
    "def usr_signup():\n",
    "    window_sign_up = tkinter.Toplevel(root)\n",
    "    window_sign_up.title('Sign Up')\n",
    "    window_sign_up.geometry('350x200')\n",
    "    \n",
    "    new_name = tkinter.StringVar()\n",
    "    new_name.set('example@python.com')\n",
    "    new_pwd = tkinter.StringVar()\n",
    "    new_pwd_confirm = tkinter.StringVar()\n",
    "    \n",
    "    def win_signup():\n",
    "        win_name = new_name.get()\n",
    "        win_pwd = new_pwd.get()\n",
    "        win_pwd_confirm = new_pwd_confirm.get()\n",
    "        os.chdir(os.path.dirname(os.getcwd()) + '/files')\n",
    "        with open(os.getcwd()+'/user.pickle','rb') as usr_file:\n",
    "            usr_dict = pickle.load(usr_file)\n",
    "        if win_name in usr_dict:\n",
    "            tkinter.messagebox.showerror(title='Error', message='This user has exist. Please choose another.')\n",
    "        elif win_pwd!=win_pwd_confirm:\n",
    "            tkinter.messagebox.showerror(title='Error', message='Password should be confirmed.')\n",
    "        else:\n",
    "            usr_dict[win_name] = win_pwd \n",
    "            with open(os.getcwd()+'/user.pickle','wb') as usr_file:                \n",
    "                pickle.dump(usr_dict, usr_file)\n",
    "            tkinter.messagebox.showinfo(title='Welcome', message='Sign up successfully. Welcome you '+ win_name)\n",
    "        window_sign_up.destroy()\n",
    "        os.chdir(os.path.dirname(os.getcwd()) + '/_src')\n",
    "    \n",
    "    tkinter.Label(window_sign_up, text='Username: ').place(x=15, y=20)\n",
    "    tkinter.Label(window_sign_up, text='Password: ').place(x=15, y=60)\n",
    "    tkinter.Label(window_sign_up, text='Password Again: ').place(x=15, y=100)\n",
    "    tkinter.Entry(window_sign_up, textvariable=new_name).place(x=145, y=20)\n",
    "    tkinter.Entry(window_sign_up, textvariable=new_pwd, show='*').place(x=145, y=60)\n",
    "    tkinter.Entry(window_sign_up, textvariable=new_pwd_confirm, show='*').place(x=145, y=100)\n",
    "    tkinter.Button(window_sign_up, text='Sign Up', command=win_signup).place(x=135, y=150)\n",
    "\n",
    "tkinter.Label(root, text='Username: ').place(x=50, y=150)\n",
    "tkinter.Label(root, text='Password: ').place(x=50, y=190)\n",
    "tkinter.Entry(root, textvariable=var_usr_name).place(x=160, y=150)\n",
    "tkinter.Entry(root, textvariable=var_usr_pwd, show='*').place(x=160, y=190)\n",
    "tkinter.Button(root, text='Login', command=usr_login).place(x=170, y=250)\n",
    "tkinter.Button(root, text='Sign up', command=usr_signup).place(x=270, y=250)\n",
    "\n",
    "root.mainloop()"
   ]
  },
  {
   "cell_type": "markdown",
   "metadata": {},
   "source": [
    "读取密码文件看看："
   ]
  },
  {
   "cell_type": "code",
   "execution_count": 5,
   "metadata": {},
   "outputs": [],
   "source": [
    "import pprint\n",
    "os.chdir(os.path.dirname(os.getcwd()) + '/files')\n",
    "with open(os.getcwd()+'/user.pickle','rb') as usr_file:\n",
    "    usr_dict = pickle.load(usr_file)\n",
    "#pprint.pprint(usr_dict)    \n",
    "os.chdir(os.path.dirname(os.getcwd()) + '/_src')"
   ]
  },
  {
   "cell_type": "markdown",
   "metadata": {
    "collapsed": true
   },
   "source": [
    "## 5. 邻接矩阵转换"
   ]
  },
  {
   "cell_type": "markdown",
   "metadata": {},
   "source": [
    "以前的项目里，需要把作者联系表转换为作者-作者邻接矩阵。创下的记录是38天写了72行代码。其实有语言差别，这72行中有三分之一是end。整个全部用循环来做了。那时候就想，一个真正会写程序的人，肯定一会儿就做好了，而且不需要全部用循环——用循环多不经济啊，老是从头再来地计算。  \n",
    "\n",
    "很久没有看了，先复习一下什么是邻接矩阵：  \n",
    "\n",
    "> 邻接矩阵（Adjacency Matrix）是表示顶点之间相邻关系的矩阵。 设G=(V,E)是一个图，其中V={v1,v2,…,vn} 。 G的邻接矩阵是一个具有下列性质的n阶方阵： ①对无向图而言，邻接矩阵一定是对称的，而且主对角线一定为零（在此仅讨论无向简单图），副对角线不一定为0，有向图则不一定如此。\n",
    "\n",
    "输入是一个`m*n`的嵌套列表，m代表行，n代表各行中最大的列数。  \n",
    "输出是`c*c`的矩阵b，c是上面嵌套列表中不重复个体的总数，最大是`m*n`，一般不会有这么大。  \n",
    "b矩阵的特征是：  \n",
    "- `b[i][i] == 0`\n",
    "- 如果`b[0][j]`和`b[i][0]`在嵌套列表中是同一行，那么`b[i][j]`和`b[j][i]`都是1"
   ]
  },
  {
   "cell_type": "code",
   "execution_count": 16,
   "metadata": {},
   "outputs": [],
   "source": [
    "from itertools import permutations\n",
    "def toAdjency(authorsContact):\n",
    "    # 读取authors的members    \n",
    "    authorMembers = set()\n",
    "    for authors in authorsContact:\n",
    "        authorMembers = authorMembers | set(authors)\n",
    "    # 构造由members构成的二维矩阵\n",
    "    authorAdjency = [['没有' for i in range(len(authorMembers)+1)] for j in range(len(authorMembers)+1)]\n",
    "    authorAdjency[0] = [''] + list(authorMembers)\n",
    "    for i in range(1, len(authorAdjency)):\n",
    "        authorAdjency[i][0] = authorAdjency[0][i]        \n",
    "    # 给二维矩阵赋值：来自authors同一行，赋值1    \n",
    "    for authors in authorsContact:\n",
    "        adjcentX = []\n",
    "        for i in range(len(authors)):\n",
    "            adjcentX.append(list(authorMembers).index(authors[i]) + 1)\n",
    "        for x in list(permutations(adjcentX,2)):\n",
    "            authorAdjency[x[0]][x[1]] = '有'    \n",
    "    # 输出二维矩阵\n",
    "    return authorAdjency"
   ]
  },
  {
   "cell_type": "code",
   "execution_count": 22,
   "metadata": {
    "scrolled": true
   },
   "outputs": [
    {
     "name": "stdout",
     "output_type": "stream",
     "text": [
      "      何玲梅  朱小颖  曹志希  范传伟  杨庆尧  白 雪  孙红珠  麋 可  杨晓彤 \n",
      "\n",
      " 何玲梅   没有   没有   有    没有   没有   没有   没有   没有   没有 \n",
      "\n",
      " 朱小颖   没有   没有   没有   没有   有    没有   有    没有   没有 \n",
      "\n",
      " 曹志希   有    没有   没有   没有   没有   没有   没有   没有   没有 \n",
      "\n",
      " 范传伟   没有   没有   没有   没有   没有   有    没有   没有   没有 \n",
      "\n",
      " 杨庆尧   没有   有    没有   没有   没有   没有   有    有    有  \n",
      "\n",
      " 白 雪   没有   没有   没有   有    没有   没有   没有   没有   没有 \n",
      "\n",
      " 孙红珠   没有   有    没有   没有   有    没有   没有   没有   没有 \n",
      "\n",
      " 麋 可   没有   没有   没有   没有   有    没有   没有   没有   有  \n",
      "\n",
      " 杨晓彤   没有   没有   没有   没有   有    没有   没有   有    没有 \n",
      "\n"
     ]
    }
   ],
   "source": [
    "# 只是为了漂亮打印\n",
    "import pprint\n",
    "authorsContact = [['白 雪','范传伟'],['曹志希','何玲梅'],['杨晓彤','麋 可','杨庆尧'],['杨庆尧','朱小颖','孙红珠']]\n",
    "b = toAdjency(authorsContact)\n",
    "for i in range(len(b)):\n",
    "    for j in range(len(b[i])):\n",
    "        print(str(b[i][j]).center(5), end='')\n",
    "    print('\\n')"
   ]
  },
  {
   "cell_type": "markdown",
   "metadata": {
    "collapsed": true
   },
   "source": [
    "### 如何快速算出组合可能\n",
    "\n",
    "[Python 排列组合的计算 - Zhang's Wikipedia - CSDN博客](https://blog.csdn.net/lanchunhui/article/details/51824602)  \n",
    "```\n",
    "from itertools import combinations, permutations\n",
    "permutations([1, 2, 3], 2)\n",
    "<itertools.permutations at 0x7febfd880fc0>   # 可迭代对象\n",
    "list(permutations([1, 2, 3], 2))\n",
    "[(1, 2), (1, 3), (2, 1), (2, 3), (3, 1), (3, 2)]\n",
    "\n",
    "list(combinations([1, 2, 3], 2))\n",
    "[(1, 2), (1, 3), (2, 3)]\n",
    "```"
   ]
  },
  {
   "cell_type": "markdown",
   "metadata": {},
   "source": [
    "### numpy或普通矩阵\n",
    "```\n",
    "import numpy as np\n",
    "\n",
    "authorAdjency = np.zeros((len(authorMembers)+1,len(authorMembers)+1))\n",
    "\n",
    "```\n",
    "\n",
    "由于numpy做零矩阵会出现`ValueError: could not convert string to float`的错误，即：numpy的零矩阵，不能把其中某个值更改为字符串值，只能是数值。 所以不采用numpy，改用普通零矩阵。\n",
    "\n",
    "普通零矩阵的方法来自这里：[python二维零矩阵 - 简书](https://www.jianshu.com/p/ba57509b0d55)\n",
    "\n",
    "```\n",
    "[[0 for col in range(2)] for row in range(3)]\n",
    "\n",
    "```"
   ]
  },
  {
   "cell_type": "markdown",
   "metadata": {},
   "source": [
    "### 小结和之前程序的变化  \n",
    "\n",
    "1. 花费的时间变少了：由38天缩短为3.5小时  \n",
    "2. 代码变短了：由72行缩短为16行（另外加上4行注释）  \n",
    "3. for循环变少了：for的数量变少，层数变浅，计算量也变小  \n",
    "4. 重复作者不需要特殊处理  \n",
    "5. 没有用if判断  \n",
    "6. 过程变清晰了  \n",
    "\n",
    "其中前三条是推动这次重写的主因。对这三条，十年来一直念念不忘。2016年想重写的时候还想着‘再写不也还是要依靠for循环吗’。事实的确如此，不过还是有很大改进啊。\n",
    "\n",
    "不过这个题目需要花费3个半小时也是意想不到的。半个小时时以为很快就好了，因为整体思路清晰，只差第三部分了。没想到后来又走了许多歪路，才终于写出了第三部分这6行。以这个作为考核的话，还只是入门吧。\n",
    "\n",
    "### 增加的巧妙办法  \n",
    "\n",
    "1. 使用集合，能去重复  \n",
    "2. 使用零矩阵，快速大量赋值\n",
    "3. 使用获取下标index建立联系\n",
    "4. 引入排列组合已有模块"
   ]
  },
  {
   "cell_type": "markdown",
   "metadata": {},
   "source": [
    "## 6. 处理大猫照片"
   ]
  },
  {
   "cell_type": "code",
   "execution_count": 1,
   "metadata": {
    "collapsed": true
   },
   "outputs": [],
   "source": [
    "from PIL import Image\n",
    "\n",
    "catIm = Image.open('bigcat.jpg')\n",
    "width, height = catIm.size\n",
    "smallCatIm = catIm.resize((int(width//4),int(height//4)))\n",
    "smallCatIm.save('smallcat.jpg')\n",
    "cropCat = smallCatIm.crop((235,193,648,819))\n",
    "cropCat.save('cropcat.jpg')\n",
    "cropCatIm = cropCat.copy()"
   ]
  },
  {
   "cell_type": "code",
   "execution_count": 4,
   "metadata": {},
   "outputs": [],
   "source": [
    "for x in range(40):\n",
    "    for y in range(200):\n",
    "        if cropCatIm.getpixel((x,y))[2] > 150:\n",
    "            cropCatIm.putpixel((x,y),(0,0,255))\n",
    "cropCatIm.save('bluecat.jpg')"
   ]
  },
  {
   "cell_type": "code",
   "execution_count": 6,
   "metadata": {},
   "outputs": [
    {
     "data": {
      "text/plain": [
       "(237, 206, 152)"
      ]
     },
     "execution_count": 6,
     "metadata": {},
     "output_type": "execute_result"
    }
   ],
   "source": [
    "cropCatIm.getpixel((120,350))"
   ]
  },
  {
   "cell_type": "code",
   "execution_count": null,
   "metadata": {},
   "outputs": [],
   "source": [
    "import cv2\n",
    "\n",
    "bigCat = cv2.imread('cropcat.jpg')\n",
    "cv2.imshow('cropcat', bigCat)\n",
    "cv2.waitKey(0)\n",
    "cv2.destroyAllWindows()"
   ]
  },
  {
   "cell_type": "markdown",
   "metadata": {
    "collapsed": true
   },
   "source": [
    "## 7. 随机产生6位数字"
   ]
  },
  {
   "cell_type": "code",
   "execution_count": 3,
   "metadata": {},
   "outputs": [
    {
     "name": "stdout",
     "output_type": "stream",
     "text": [
      "360135\n"
     ]
    }
   ],
   "source": [
    "import random\n",
    "\n",
    "string = ''\n",
    "for i in range(6):\n",
    "    ch = chr(random.randrange(ord('0'), ord('9')+1))\n",
    "    string += ch\n",
    "print(string)"
   ]
  },
  {
   "cell_type": "markdown",
   "metadata": {
    "collapsed": true
   },
   "source": [
    "## 8. 一些奇特的数字\n",
    "\n",
    "### 水仙花数\n",
    "\n",
    "[水仙花数_百度百科](https://baike.baidu.com/item/%E6%B0%B4%E4%BB%99%E8%8A%B1%E6%95%B0)\n",
    "\n",
    "> 水仙花数（Narcissistic number）也被称为超完全数字不变数（pluperfect digital invariant, PPDI）、自恋数、自幂数、阿姆斯壮数或阿姆斯特朗数（Armstrong number），水仙花数是指一个 3 位数，它的每个位上的数字的 3次幂之和等于它本身（例如：1^3 + 5^3+ 3^3 = 153）。"
   ]
  },
  {
   "cell_type": "code",
   "execution_count": 4,
   "metadata": {},
   "outputs": [
    {
     "name": "stdout",
     "output_type": "stream",
     "text": [
      "153\n",
      "370\n",
      "371\n",
      "407\n"
     ]
    }
   ],
   "source": [
    "for i in range(100,1000):\n",
    "    if (i//100)**3 + ((i//10)%10)**3 + (i%10)**3 == i:\n",
    "        print(i)"
   ]
  },
  {
   "cell_type": "markdown",
   "metadata": {},
   "source": [
    "### 四叶玫瑰数\n",
    "\n",
    "顾名思义，各位数字的四次方之和等于它本身。"
   ]
  },
  {
   "cell_type": "code",
   "execution_count": 5,
   "metadata": {},
   "outputs": [
    {
     "name": "stdout",
     "output_type": "stream",
     "text": [
      "1634\n",
      "8208\n",
      "9474\n"
     ]
    }
   ],
   "source": [
    "for i in range(1000,10000):\n",
    "    if (i//1000)**4 + ((i//100)%10)**4 + ((i//10)%10)**4 + (i%10)**4 == i:\n",
    "        print(i)"
   ]
  },
  {
   "cell_type": "markdown",
   "metadata": {},
   "source": [
    "### 完全数\n",
    "\n",
    "[完全数_百度百科](https://baike.baidu.com/item/%E5%AE%8C%E5%85%A8%E6%95%B0/370913)\n",
    "\n",
    "> 完全数（Perfect number），又称完美数或完备数，是一些特殊的自然数。它所有的真因子（即除了自身以外的约数）的和（即因子函数），恰好等于它本身。如果一个数恰好等于它的因子之和，则称该数为“完全数”。"
   ]
  },
  {
   "cell_type": "code",
   "execution_count": 9,
   "metadata": {},
   "outputs": [
    {
     "name": "stdout",
     "output_type": "stream",
     "text": [
      "6\n",
      "28\n",
      "496\n",
      "8128\n"
     ]
    }
   ],
   "source": [
    "# 求真因子列表\n",
    "def fact(num):\n",
    "    factList = []\n",
    "    for i in range(1, num):\n",
    "        if num%i==0 and num!=i:\n",
    "            factList.append(i)\n",
    "    return factList\n",
    "\n",
    "for i in range(1, 10000):\n",
    "    if sum(fact(i))==i:\n",
    "        print(i)"
   ]
  },
  {
   "cell_type": "markdown",
   "metadata": {},
   "source": [
    "## 9. 百钱百鸡问题\n",
    "\n",
    "[百鸡百钱_百度百科](https://baike.baidu.com/item/%E7%99%BE%E9%B8%A1%E7%99%BE%E9%92%B1/5857320)\n",
    "\n",
    "> 鸡翁一值钱五，鸡母一值钱三，鸡雏三值钱一。百钱买百鸡，问鸡翁、鸡母、鸡雏各几何？"
   ]
  },
  {
   "cell_type": "code",
   "execution_count": 14,
   "metadata": {},
   "outputs": [
    {
     "name": "stdout",
     "output_type": "stream",
     "text": [
      "0 25 75\n",
      "4 18 78\n",
      "8 11 81\n",
      "12 4 84\n"
     ]
    }
   ],
   "source": [
    "for x in range(20):\n",
    "    for y in range(33):\n",
    "        for z in range(47,100):\n",
    "            if 5*x+3*y+z/3 == 100 and x+y+z==100:\n",
    "                print(x,y,z)"
   ]
  },
  {
   "cell_type": "markdown",
   "metadata": {},
   "source": [
    "## 10. Craps赌博游戏\n",
    "\n",
    "规则：玩家掷两个骰子，每个骰子点数为1-6，如果第一次点数和为7或11，则玩家胜；如果点数和为2、3或12，则玩家输庄家胜。若和为其他点数，则记录第一次的点数和，玩家继续掷骰子，直至点数和等于第一次掷出的点数和则玩家胜；若掷出的点数和为7则庄家胜。"
   ]
  },
  {
   "cell_type": "code",
   "execution_count": 36,
   "metadata": {},
   "outputs": [],
   "source": [
    "import random\n",
    "\n",
    "def craps():\n",
    "    times = 1\n",
    "    dice1 = random.randint(1,6)\n",
    "    # print('Times %d: Dice1 is: %d' %(times, dice1))\n",
    "    dice2 = random.randint(1,6)\n",
    "    # print('Times %d: Dice2 is: %d' %(times, dice2))\n",
    "    firstSum = dice1 + dice2 \n",
    "    # print('Times %d Sum is %d.\\n' % (times, firstSum))\n",
    "\n",
    "    while True:\n",
    "        if firstSum == (7 or 11):\n",
    "            # print('You win!')\n",
    "            return True\n",
    "            break\n",
    "        elif firstSum == (2 or 3 or 12):\n",
    "            # print('You\\'re lost!')\n",
    "            return False           \n",
    "            break\n",
    "        else:\n",
    "            times += 1\n",
    "            dice1 = random.randint(1,6)\n",
    "            # print('Times %d: Dice1 is: %d' %(times, dice1))\n",
    "            dice2 = random.randint(1,6)\n",
    "            # print('Times %d: Dice2 is: %d\\n' %(times, dice2))\n",
    "            secondSum = dice1 + dice2\n",
    "            if secondSum == firstSum:\n",
    "                # print('Times %d Sum is %d. You win!' % (times, secondSum))\n",
    "                return True\n",
    "                break\n",
    "\n",
    "            elif secondSum == 7:\n",
    "                # print('Times %d Sum is %d. You\\'re lost!' % (times, secondSum))\n",
    "                return False\n",
    "                break\n",
    "            else:\n",
    "                continue"
   ]
  },
  {
   "cell_type": "markdown",
   "metadata": {},
   "source": [
    "想通过重复执行看看谁赢的几率大的，感觉没有什么区别。"
   ]
  },
  {
   "cell_type": "code",
   "execution_count": 44,
   "metadata": {},
   "outputs": [
    {
     "name": "stdout",
     "output_type": "stream",
     "text": [
      "You win 42 times.\n",
      "You're lost 58 times.\n"
     ]
    }
   ],
   "source": [
    "crapsList = []\n",
    "for i in range(100):\n",
    "    crapsList.append(craps())\n",
    "print('You win %d times.' % crapsList.count(True))\n",
    "print('You\\'re lost %d times.' % crapsList.count(False))"
   ]
  },
  {
   "cell_type": "markdown",
   "metadata": {},
   "source": [
    "也许限制次数，可能就有明显输赢了。"
   ]
  },
  {
   "cell_type": "code",
   "execution_count": 53,
   "metadata": {
    "collapsed": true
   },
   "outputs": [],
   "source": [
    "import random\n",
    "\n",
    "def crapsTimes():\n",
    "    times = 1\n",
    "    dice1 = random.randint(1,6)\n",
    "    # print('Times %d: Dice1 is: %d' %(times, dice1))\n",
    "    dice2 = random.randint(1,6)\n",
    "    # print('Times %d: Dice2 is: %d' %(times, dice2))\n",
    "    firstSum = dice1 + dice2 \n",
    "    # print('Times %d Sum is %d.\\n' % (times, firstSum))\n",
    "\n",
    "    while True:\n",
    "        if firstSum == (7 or 11):\n",
    "            # print('You win!')\n",
    "            return True\n",
    "            break\n",
    "        elif firstSum == (2 or 3 or 12):\n",
    "            # print('You\\'re lost!')\n",
    "            return False           \n",
    "            break\n",
    "        else:\n",
    "            times += 1\n",
    "            dice1 = random.randint(1,6)\n",
    "            # print('Times %d: Dice1 is: %d' %(times, dice1))\n",
    "            dice2 = random.randint(1,6)\n",
    "            # print('Times %d: Dice2 is: %d\\n' %(times, dice2))\n",
    "            secondSum = dice1 + dice2\n",
    "            if secondSum == firstSum:\n",
    "                # print('Times %d Sum is %d. You win!' % (times, secondSum))\n",
    "                return True\n",
    "                break\n",
    "            elif secondSum == 7:\n",
    "                # print('Times %d Sum is %d. You\\'re lost!' % (times, secondSum))\n",
    "                return False\n",
    "                break\n",
    "            else:\n",
    "                continue\n",
    "        if times == 3:\n",
    "            # print('Times is over. You\\'re lost!')\n",
    "            return False\n",
    "            break"
   ]
  },
  {
   "cell_type": "code",
   "execution_count": 64,
   "metadata": {},
   "outputs": [
    {
     "name": "stdout",
     "output_type": "stream",
     "text": [
      "You win 50 times.\n",
      "You're lost 50 times.\n"
     ]
    }
   ],
   "source": [
    "crapsList = []\n",
    "for i in range(100):\n",
    "    crapsList.append(crapsTimes())\n",
    "print('You win %d times.' % crapsList.count(True))\n",
    "print('You\\'re lost %d times.' % crapsList.count(False))"
   ]
  },
  {
   "cell_type": "markdown",
   "metadata": {},
   "source": [
    "也不明显。"
   ]
  },
  {
   "cell_type": "markdown",
   "metadata": {},
   "source": [
    "## 11. 苹果分组问题：\n",
    "\n",
    "8个苹果分4组，每组至少1个苹果，一共有多少种分法\n",
    "\n",
    "相对于7个空档中选择3个空档作为隔板（可以分割为4组），所以是C73"
   ]
  },
  {
   "cell_type": "code",
   "execution_count": 81,
   "metadata": {},
   "outputs": [
    {
     "data": {
      "text/plain": [
       "35"
      ]
     },
     "execution_count": 81,
     "metadata": {},
     "output_type": "execute_result"
    }
   ],
   "source": [
    "# 阶乘算法\n",
    "def factor(num):\n",
    "    factorial = 1\n",
    "    for i in range(1, num+1):\n",
    "        factorial *= i\n",
    "    return factorial\n",
    "\n",
    "factor(7)//(factor(3)*factor(7-3))"
   ]
  },
  {
   "cell_type": "code",
   "execution_count": 82,
   "metadata": {},
   "outputs": [
    {
     "data": {
      "text/plain": [
       "35"
      ]
     },
     "execution_count": 82,
     "metadata": {},
     "output_type": "execute_result"
    }
   ],
   "source": [
    "import math\n",
    "\n",
    "math.factorial(7)//(math.factorial(3)*math.factorial(7-3))"
   ]
  },
  {
   "cell_type": "markdown",
   "metadata": {},
   "source": [
    "## 12. 检查回文数"
   ]
  },
  {
   "cell_type": "code",
   "execution_count": 102,
   "metadata": {},
   "outputs": [],
   "source": [
    "def isPalindrome(num):\n",
    "    temp = num\n",
    "    total = 0\n",
    "    while temp>0:\n",
    "        total = total *10 + temp % 10\n",
    "        temp = temp //10\n",
    "    return total == num\n",
    "\n",
    "def isPrime(num):\n",
    "    if num != 1:\n",
    "        for i in range(2, num):\n",
    "            if num % i ==0:\n",
    "                return False\n",
    "        return True\n",
    "    else:\n",
    "        return False"
   ]
  },
  {
   "cell_type": "code",
   "execution_count": 112,
   "metadata": {},
   "outputs": [
    {
     "name": "stdout",
     "output_type": "stream",
     "text": [
      "101,131,151,181,191,313,353,373,383,727,757,787,797,919,929,10301,10501,10601,11311,11411,12421,12721,12821,13331,13831,13931,14341,14741,15451,15551,16061,16361,16561,16661,17471,17971,18181,18481,19391,19891,19991,30103,30203,30403,30703,30803,31013,31513,32323,32423,33533,34543,34843,35053,35153,35353,35753,36263,36563,37273,37573,38083,38183,38783,39293,70207,70507,70607,71317,71917,72227,72727,73037,73237,73637,74047,74747,75557,76367,76667,77377,77477,77977,78487,78787,78887,79397,79697,79997,90709,91019,93139,93239,93739,94049,94349,94649,94849,94949,95959,96269,96469,96769,97379,97579,97879,98389,98689,"
     ]
    }
   ],
   "source": [
    "# 寻找100以内的回文素数\n",
    "没有4位数的回文素数\n",
    "\n",
    "for i in range(100, 100000):\n",
    "    if isPalindrome(i) and isPrime(i) == True:\n",
    "        print(i, end=',')"
   ]
  },
  {
   "cell_type": "markdown",
   "metadata": {},
   "source": [
    "## 13. 生成器"
   ]
  },
  {
   "cell_type": "code",
   "execution_count": 115,
   "metadata": {},
   "outputs": [
    {
     "name": "stdout",
     "output_type": "stream",
     "text": [
      "0,1,4,9,16,25,36,49,64,81,"
     ]
    }
   ],
   "source": [
    "def square():\n",
    "    for i in range(10):\n",
    "        yield i ** 2\n",
    "\n",
    "sqrGen = square()\n",
    "for x in sqrGen:\n",
    "    print(x, end=',')"
   ]
  },
  {
   "cell_type": "code",
   "execution_count": 123,
   "metadata": {},
   "outputs": [
    {
     "name": "stdout",
     "output_type": "stream",
     "text": [
      "1,2,4,8,16,32,64,128,256,512,1024,2048,4096,8192,16384,32768,65536,131072,262144,524288,"
     ]
    }
   ],
   "source": [
    "def fab(n):\n",
    "    a = 0\n",
    "    b = 1\n",
    "    for _ in range(n):\n",
    "        a, b = b, b + a\n",
    "        yield a\n",
    "for i in fab(20):\n",
    "    print(i, end=',')"
   ]
  },
  {
   "cell_type": "markdown",
   "metadata": {},
   "source": [
    "## 14. 跑马灯文字"
   ]
  },
  {
   "cell_type": "code",
   "execution_count": 130,
   "metadata": {
    "scrolled": true
   },
   "outputs": [
    {
     "name": "stdout",
     "output_type": "stream",
     "text": [
      "8个苹果分4个人的问题，7个空档中选择3个作为隔板\n"
     ]
    },
    {
     "ename": "KeyboardInterrupt",
     "evalue": "",
     "output_type": "error",
     "traceback": [
      "\u001b[0;31m---------------------------------------------------------------------------\u001b[0m",
      "\u001b[0;31mKeyboardInterrupt\u001b[0m                         Traceback (most recent call last)",
      "\u001b[0;32m<ipython-input-130-b925af89a60d>\u001b[0m in \u001b[0;36m<module>\u001b[0;34m\u001b[0m\n\u001b[1;32m      5\u001b[0m     \u001b[0mos\u001b[0m\u001b[0;34m.\u001b[0m\u001b[0msystem\u001b[0m\u001b[0;34m(\u001b[0m\u001b[0;34m'clear'\u001b[0m\u001b[0;34m)\u001b[0m \u001b[0;31m# 清理屏幕，有些环境下使用'cls'\u001b[0m\u001b[0;34m\u001b[0m\u001b[0;34m\u001b[0m\u001b[0m\n\u001b[1;32m      6\u001b[0m     \u001b[0mprint\u001b[0m\u001b[0;34m(\u001b[0m\u001b[0mcontent\u001b[0m\u001b[0;34m)\u001b[0m\u001b[0;34m\u001b[0m\u001b[0;34m\u001b[0m\u001b[0m\n\u001b[0;32m----> 7\u001b[0;31m     \u001b[0mtime\u001b[0m\u001b[0;34m.\u001b[0m\u001b[0msleep\u001b[0m\u001b[0;34m(\u001b[0m\u001b[0;36m2\u001b[0m\u001b[0;34m)\u001b[0m\u001b[0;34m\u001b[0m\u001b[0;34m\u001b[0m\u001b[0m\n\u001b[0m\u001b[1;32m      8\u001b[0m     \u001b[0mcontent\u001b[0m \u001b[0;34m=\u001b[0m \u001b[0mcontent\u001b[0m\u001b[0;34m[\u001b[0m\u001b[0;36m1\u001b[0m\u001b[0;34m:\u001b[0m\u001b[0;34m]\u001b[0m \u001b[0;34m+\u001b[0m \u001b[0mcontent\u001b[0m\u001b[0;34m[\u001b[0m\u001b[0;36m0\u001b[0m\u001b[0;34m]\u001b[0m\u001b[0;34m\u001b[0m\u001b[0;34m\u001b[0m\u001b[0m\n",
      "\u001b[0;31mKeyboardInterrupt\u001b[0m: "
     ]
    }
   ],
   "source": [
    "import os, time\n",
    "\n",
    "content = '8个苹果分4个人的问题，7个空档中选择3个作为隔板'\n",
    "while True:\n",
    "    os.system('clear') # 清理屏幕，有些环境下使用'cls'\n",
    "    print(content)\n",
    "    time.sleep(2)\n",
    "    content = content[1:] + content[0]"
   ]
  },
  {
   "cell_type": "markdown",
   "metadata": {},
   "source": [
    "## 15. a股\n",
    "\n",
    "[5行Python代码爬取3000+ 上市公司的信息 - 知乎](https://zhuanlan.zhihu.com/p/55534615)"
   ]
  },
  {
   "cell_type": "code",
   "execution_count": 12,
   "metadata": {},
   "outputs": [
    {
     "ename": "ImportError",
     "evalue": "html5lib not found, please install it",
     "output_type": "error",
     "traceback": [
      "\u001b[0;31m---------------------------------------------------------------------------\u001b[0m",
      "\u001b[0;31mImportError\u001b[0m                               Traceback (most recent call last)",
      "\u001b[0;32m<ipython-input-12-2b83f47b135c>\u001b[0m in \u001b[0;36m<module>\u001b[0;34m\u001b[0m\n\u001b[1;32m      3\u001b[0m \u001b[0;34m\u001b[0m\u001b[0m\n\u001b[1;32m      4\u001b[0m \u001b[0;32mfor\u001b[0m \u001b[0mi\u001b[0m \u001b[0;32min\u001b[0m \u001b[0mrange\u001b[0m\u001b[0;34m(\u001b[0m\u001b[0;36m1\u001b[0m\u001b[0;34m,\u001b[0m\u001b[0;36m180\u001b[0m\u001b[0;34m)\u001b[0m\u001b[0;34m:\u001b[0m\u001b[0;34m\u001b[0m\u001b[0;34m\u001b[0m\u001b[0m\n\u001b[0;32m----> 5\u001b[0;31m     \u001b[0mtb\u001b[0m \u001b[0;34m=\u001b[0m \u001b[0mpd\u001b[0m\u001b[0;34m.\u001b[0m\u001b[0mread_html\u001b[0m\u001b[0;34m(\u001b[0m\u001b[0;34m'http://s.askci.com/stock/a/?reportTime=2019-03-31&pageNum=%s#QueryCondition'\u001b[0m\u001b[0;34m%\u001b[0m\u001b[0;34m(\u001b[0m\u001b[0mstr\u001b[0m\u001b[0;34m(\u001b[0m\u001b[0mi\u001b[0m\u001b[0;34m)\u001b[0m\u001b[0;34m)\u001b[0m\u001b[0;34m)\u001b[0m\u001b[0;34m[\u001b[0m\u001b[0;36m3\u001b[0m\u001b[0;34m]\u001b[0m\u001b[0;34m\u001b[0m\u001b[0;34m\u001b[0m\u001b[0m\n\u001b[0m\u001b[1;32m      6\u001b[0m     \u001b[0mtb\u001b[0m\u001b[0;34m.\u001b[0m\u001b[0mto_csv\u001b[0m\u001b[0;34m(\u001b[0m\u001b[0;34mr'1.csv'\u001b[0m\u001b[0;34m,\u001b[0m \u001b[0mmode\u001b[0m\u001b[0;34m=\u001b[0m\u001b[0;34m'a'\u001b[0m\u001b[0;34m,\u001b[0m \u001b[0mencoding\u001b[0m\u001b[0;34m=\u001b[0m\u001b[0;34m'utf_8_sig'\u001b[0m\u001b[0;34m,\u001b[0m \u001b[0mheader\u001b[0m\u001b[0;34m=\u001b[0m\u001b[0;36m1\u001b[0m\u001b[0;34m,\u001b[0m \u001b[0mindex\u001b[0m\u001b[0;34m=\u001b[0m\u001b[0;36m0\u001b[0m\u001b[0;34m)\u001b[0m\u001b[0;34m\u001b[0m\u001b[0;34m\u001b[0m\u001b[0m\n",
      "\u001b[0;32m~/anaconda/envs/python35/lib/python3.7/site-packages/pandas/io/html.py\u001b[0m in \u001b[0;36mread_html\u001b[0;34m(io, match, flavor, header, index_col, skiprows, attrs, parse_dates, tupleize_cols, thousands, encoding, decimal, converters, na_values, keep_default_na, displayed_only)\u001b[0m\n\u001b[1;32m   1092\u001b[0m                   \u001b[0mdecimal\u001b[0m\u001b[0;34m=\u001b[0m\u001b[0mdecimal\u001b[0m\u001b[0;34m,\u001b[0m \u001b[0mconverters\u001b[0m\u001b[0;34m=\u001b[0m\u001b[0mconverters\u001b[0m\u001b[0;34m,\u001b[0m \u001b[0mna_values\u001b[0m\u001b[0;34m=\u001b[0m\u001b[0mna_values\u001b[0m\u001b[0;34m,\u001b[0m\u001b[0;34m\u001b[0m\u001b[0;34m\u001b[0m\u001b[0m\n\u001b[1;32m   1093\u001b[0m                   \u001b[0mkeep_default_na\u001b[0m\u001b[0;34m=\u001b[0m\u001b[0mkeep_default_na\u001b[0m\u001b[0;34m,\u001b[0m\u001b[0;34m\u001b[0m\u001b[0;34m\u001b[0m\u001b[0m\n\u001b[0;32m-> 1094\u001b[0;31m                   displayed_only=displayed_only)\n\u001b[0m",
      "\u001b[0;32m~/anaconda/envs/python35/lib/python3.7/site-packages/pandas/io/html.py\u001b[0m in \u001b[0;36m_parse\u001b[0;34m(flavor, io, match, attrs, encoding, displayed_only, **kwargs)\u001b[0m\n\u001b[1;32m    892\u001b[0m     \u001b[0mretained\u001b[0m \u001b[0;34m=\u001b[0m \u001b[0;32mNone\u001b[0m\u001b[0;34m\u001b[0m\u001b[0;34m\u001b[0m\u001b[0m\n\u001b[1;32m    893\u001b[0m     \u001b[0;32mfor\u001b[0m \u001b[0mflav\u001b[0m \u001b[0;32min\u001b[0m \u001b[0mflavor\u001b[0m\u001b[0;34m:\u001b[0m\u001b[0;34m\u001b[0m\u001b[0;34m\u001b[0m\u001b[0m\n\u001b[0;32m--> 894\u001b[0;31m         \u001b[0mparser\u001b[0m \u001b[0;34m=\u001b[0m \u001b[0m_parser_dispatch\u001b[0m\u001b[0;34m(\u001b[0m\u001b[0mflav\u001b[0m\u001b[0;34m)\u001b[0m\u001b[0;34m\u001b[0m\u001b[0;34m\u001b[0m\u001b[0m\n\u001b[0m\u001b[1;32m    895\u001b[0m         \u001b[0mp\u001b[0m \u001b[0;34m=\u001b[0m \u001b[0mparser\u001b[0m\u001b[0;34m(\u001b[0m\u001b[0mio\u001b[0m\u001b[0;34m,\u001b[0m \u001b[0mcompiled_match\u001b[0m\u001b[0;34m,\u001b[0m \u001b[0mattrs\u001b[0m\u001b[0;34m,\u001b[0m \u001b[0mencoding\u001b[0m\u001b[0;34m,\u001b[0m \u001b[0mdisplayed_only\u001b[0m\u001b[0;34m)\u001b[0m\u001b[0;34m\u001b[0m\u001b[0;34m\u001b[0m\u001b[0m\n\u001b[1;32m    896\u001b[0m \u001b[0;34m\u001b[0m\u001b[0m\n",
      "\u001b[0;32m~/anaconda/envs/python35/lib/python3.7/site-packages/pandas/io/html.py\u001b[0m in \u001b[0;36m_parser_dispatch\u001b[0;34m(flavor)\u001b[0m\n\u001b[1;32m    838\u001b[0m     \u001b[0;32mif\u001b[0m \u001b[0mflavor\u001b[0m \u001b[0;32min\u001b[0m \u001b[0;34m(\u001b[0m\u001b[0;34m'bs4'\u001b[0m\u001b[0;34m,\u001b[0m \u001b[0;34m'html5lib'\u001b[0m\u001b[0;34m)\u001b[0m\u001b[0;34m:\u001b[0m\u001b[0;34m\u001b[0m\u001b[0;34m\u001b[0m\u001b[0m\n\u001b[1;32m    839\u001b[0m         \u001b[0;32mif\u001b[0m \u001b[0;32mnot\u001b[0m \u001b[0m_HAS_HTML5LIB\u001b[0m\u001b[0;34m:\u001b[0m\u001b[0;34m\u001b[0m\u001b[0;34m\u001b[0m\u001b[0m\n\u001b[0;32m--> 840\u001b[0;31m             \u001b[0;32mraise\u001b[0m \u001b[0mImportError\u001b[0m\u001b[0;34m(\u001b[0m\u001b[0;34m\"html5lib not found, please install it\"\u001b[0m\u001b[0;34m)\u001b[0m\u001b[0;34m\u001b[0m\u001b[0;34m\u001b[0m\u001b[0m\n\u001b[0m\u001b[1;32m    841\u001b[0m         \u001b[0;32mif\u001b[0m \u001b[0;32mnot\u001b[0m \u001b[0m_HAS_BS4\u001b[0m\u001b[0;34m:\u001b[0m\u001b[0;34m\u001b[0m\u001b[0;34m\u001b[0m\u001b[0m\n\u001b[1;32m    842\u001b[0m             raise ImportError(\n",
      "\u001b[0;31mImportError\u001b[0m: html5lib not found, please install it"
     ]
    }
   ],
   "source": [
    "import pandas as pd\n",
    "import csv\n",
    "\n",
    "for i in range(1,180):\n",
    "    tb = pd.read_html('http://s.askci.com/stock/a/?reportTime=2019-03-31&pageNum=%s#QueryCondition'%(str(i)))[3]\n",
    "    tb.to_csv(r'1.csv', mode='a', encoding='utf_8_sig', header=1, index=0)"
   ]
  },
  {
   "cell_type": "markdown",
   "metadata": {},
   "source": [
    "## 16. 去重排序板\n",
    "\n",
    "用法：先把要排序的内容粘贴到剪切板上，然后运行程序，最后直接粘贴排序内容即可。"
   ]
  },
  {
   "cell_type": "code",
   "execution_count": 26,
   "metadata": {},
   "outputs": [
    {
     "name": "stdout",
     "output_type": "stream",
     "text": [
      "快速排序完成，请粘贴结果\n"
     ]
    }
   ],
   "source": [
    "# 只排序\n",
    "import pyperclip\n",
    "\n",
    "oldStrList = str(pyperclip.paste()).split('\\n', -1)\n",
    "newStrList = sorted(oldStrList, key = lambda s:s.lower())\n",
    "pyperclip.copy('\\n'.join(newStrList))\n",
    "print('快速排序完成，请粘贴结果')"
   ]
  },
  {
   "cell_type": "code",
   "execution_count": 30,
   "metadata": {},
   "outputs": [
    {
     "name": "stdout",
     "output_type": "stream",
     "text": [
      "去除重复完成，请粘贴结果\n"
     ]
    }
   ],
   "source": [
    "# 先去重复再排序\n",
    "import pyperclip\n",
    "\n",
    "oldStrList = str(pyperclip.paste()).split('\\n', -1)\n",
    "newStrList = sorted(list(set(oldStrList)), key = lambda s:s.lower())\n",
    "pyperclip.copy('\\n'.join(newStrList))\n",
    "print('去除重复并排序完成，请粘贴结果')"
   ]
  },
  {
   "cell_type": "code",
   "execution_count": 33,
   "metadata": {},
   "outputs": [
    {
     "name": "stdout",
     "output_type": "stream",
     "text": [
      "去开头空格，去除重复并排序完成，请粘贴结果\n"
     ]
    }
   ],
   "source": [
    "# 先去行首空格，再去重复，最后排序\n",
    "import pyperclip\n",
    "\n",
    "oldStrList = [e.lstrip() for e in str(pyperclip.paste()).split('\\n', -1)]\n",
    "newStrList = sorted(list(set(oldStrList)), key = lambda s:s.lower())\n",
    "pyperclip.copy('\\n'.join(newStrList))\n",
    "print('去开头空格，去除重复并排序完成，请粘贴结果')"
   ]
  },
  {
   "cell_type": "markdown",
   "metadata": {},
   "source": [
    "### 17. 增加项目符号"
   ]
  },
  {
   "cell_type": "code",
   "execution_count": 4,
   "metadata": {},
   "outputs": [
    {
     "name": "stdout",
     "output_type": "stream",
     "text": [
      "增加项目符号完成，请粘贴结果\n"
     ]
    }
   ],
   "source": [
    "import pyperclip\n",
    "\n",
    "itemSymbol = '-'\n",
    "oldStrList = str(pyperclip.paste()).split('\\n', -1)\n",
    "newStrList = [itemSymbol + ' ' + s for s in oldStrList]\n",
    "pyperclip.copy('\\n'.join(newStrList))\n",
    "print('增加项目符号完成，请粘贴结果')"
   ]
  },
  {
   "cell_type": "markdown",
   "metadata": {},
   "source": [
    "### 18. 玩Excel表格"
   ]
  },
  {
   "cell_type": "code",
   "execution_count": 2,
   "metadata": {},
   "outputs": [
    {
     "name": "stderr",
     "output_type": "stream",
     "text": [
      "/Users/caimeijuan/anaconda3/lib/python3.7/site-packages/ipykernel_launcher.py:4: DeprecationWarning: Call to deprecated function get_sheet_names (Use wb.sheetnames).\n",
      "  after removing the cwd from sys.path.\n",
      "/Users/caimeijuan/anaconda3/lib/python3.7/site-packages/ipykernel_launcher.py:9: DeprecationWarning: Call to deprecated function get_sheet_by_name (Use wb[sheetname]).\n",
      "  if __name__ == '__main__':\n"
     ]
    }
   ],
   "source": [
    "# 批量读取Excel表格的名字\n",
    "import openpyxl, os\n",
    "filePath = os.path.join(os.path.dirname(os.getcwd()), 'files', 'scrapy', 'tags.xlsx')\n",
    "wb = openpyxl.load_workbook(filePath)\n",
    "name = wb.get_sheet_names()\n",
    "wb.close()\n",
    "\n",
    "filePath = os.path.join(os.path.dirname(os.getcwd()), 'files', 'scrapy', 'doubanBooks.xlsx')\n",
    "wb = openpyxl.load_workbook(filePath)\n",
    "sheet = wb.get_sheet_by_name('Sheet1')\n",
    "sheet['A1'], sheet['B1'] = 'ID', 'Tags'\n",
    "for i in range(len(name)):\n",
    "    sheet['A'+str(i+2)] = i\n",
    "    sheet['B'+str(i+2)] = name[i]\n",
    "wb.save(filePath)\n",
    "wb.close()"
   ]
  },
  {
   "cell_type": "code",
   "execution_count": 5,
   "metadata": {
    "scrolled": true
   },
   "outputs": [
    {
     "name": "stderr",
     "output_type": "stream",
     "text": [
      "/Users/caimeijuan/anaconda3/lib/python3.7/site-packages/ipykernel_launcher.py:13: DeprecationWarning: Call to deprecated function get_active_sheet (Use the .active property).\n",
      "  del sys.path[0]\n"
     ]
    }
   ],
   "source": [
    "# 多个单表Excel文件合并到一个文件里\n",
    "import os, openpyxl\n",
    "from openpyxl.cell.cell import get_column_letter\n",
    "\n",
    "filePathOrigin = os.path.join(os.path.dirname(os.getcwd()), 'files', 'scrapy', 'zhihu')\n",
    "fileNames = os.listdir(filePathOrigin)\n",
    "filePathCopy = os.path.join(os.path.dirname(filePathOrigin), 'zhihuzhuanlan.xlsx')\n",
    "wbCopy = openpyxl.load_workbook(filePathCopy)\n",
    "for fileName in fileNames:\n",
    "    # 先检查扩展名，以防止\".DS_Store\"\n",
    "    if os.path.splitext(fileName)[-1] == '.xlsx':\n",
    "        wbOrigin = openpyxl.load_workbook(os.path.join(filePathOrigin, fileName))\n",
    "        sheetOrigin = wbOrigin.get_active_sheet()\n",
    "        sheetCopy = wbCopy.create_sheet()    \n",
    "        sheetCopy.title = sheetOrigin.title\n",
    "        for i in range(1, sheetOrigin.max_row+1):\n",
    "            for j in range(1, sheetOrigin.max_column+1):\n",
    "                sheetCopy[get_column_letter(j)+str(i)].value = sheetOrigin[get_column_letter(j)+str(i)].value\n",
    "        wbCopy.save(filePathCopy)\n",
    "        wbOrigin.close()\n",
    "wbCopy.close()"
   ]
  },
  {
   "cell_type": "code",
   "execution_count": 27,
   "metadata": {
    "scrolled": false
   },
   "outputs": [
    {
     "name": "stderr",
     "output_type": "stream",
     "text": [
      "/Users/caimeijuan/anaconda3/lib/python3.7/site-packages/ipykernel_launcher.py:5: DeprecationWarning: Call to deprecated function get_sheet_names (Use wb.sheetnames).\n",
      "  \"\"\"\n"
     ]
    },
    {
     "data": {
      "text/plain": [
       "145"
      ]
     },
     "execution_count": 27,
     "metadata": {},
     "output_type": "execute_result"
    }
   ],
   "source": [
    "# 查看一个文件中有多少表格\n",
    "import os, openpyxl\n",
    "filePathOrigin = os.path.join(os.path.dirname(os.getcwd()), 'files', 'scrapy', 'douban')\n",
    "filePathCopy = os.path.join(os.path.dirname(filePathOrigin), 'doubanBooks.xlsx')\n",
    "wbCopy = openpyxl.load_workbook(filePathCopy)\n",
    "len(wbCopy.get_sheet_names()) - 1"
   ]
  },
  {
   "cell_type": "code",
   "execution_count": 6,
   "metadata": {
    "scrolled": true
   },
   "outputs": [
    {
     "name": "stderr",
     "output_type": "stream",
     "text": [
      "/Users/caimeijuan/anaconda3/lib/python3.7/site-packages/ipykernel_launcher.py:8: DeprecationWarning: Call to deprecated function get_active_sheet (Use the .active property).\n",
      "  \n",
      "/Users/caimeijuan/anaconda3/lib/python3.7/site-packages/ipykernel_launcher.py:11: DeprecationWarning: Call to deprecated function get_sheet_names (Use wb.sheetnames).\n",
      "  # This is added back by InteractiveShellApp.init_path()\n",
      "/Users/caimeijuan/anaconda3/lib/python3.7/site-packages/ipykernel_launcher.py:12: DeprecationWarning: Call to deprecated function get_sheet_by_name (Use wb[sheetname]).\n",
      "  if sys.path[0] == '':\n"
     ]
    }
   ],
   "source": [
    "# 一个book内所有sheet内容合并到一个sheet里\n",
    "import os, openpyxl\n",
    "from openpyxl.cell.cell import get_column_letter\n",
    "\n",
    "filePath = os.path.join(os.path.dirname(os.getcwd()), 'files', 'scrapy', 'zhihuzhuanlan.xlsx')\n",
    "wb = openpyxl.load_workbook(filePath)\n",
    "wbNew = openpyxl.Workbook()\n",
    "sheetNew = wbNew.get_active_sheet()\n",
    "sheetNew.title = 'zhuanlan'\n",
    "total = 0\n",
    "for sheetName in wb.get_sheet_names():\n",
    "    sheet = wb.get_sheet_by_name(sheetName)\n",
    "    for i in range(1, sheet.max_row+1):\n",
    "        for j in range(1, sheet.max_column+1):\n",
    "            sheetNew[get_column_letter(j)+str(i+total)].value = sheet[get_column_letter(j)+str(i)].value\n",
    "    total = total + sheet.max_row + 1\n",
    "wbNew.save(os.path.join(os.path.dirname(os.getcwd()), 'files', 'scrapy', 'zhihuNew.xlsx'))\n",
    "wbNew.close()\n",
    "wb.close()"
   ]
  },
  {
   "cell_type": "code",
   "execution_count": 17,
   "metadata": {
    "scrolled": true
   },
   "outputs": [
    {
     "name": "stderr",
     "output_type": "stream",
     "text": [
      "/Users/caimeijuan/anaconda3/lib/python3.7/site-packages/ipykernel_launcher.py:8: DeprecationWarning: Call to deprecated function get_active_sheet (Use the .active property).\n",
      "  \n"
     ]
    }
   ],
   "source": [
    "# 合并记录，对原始表格运行了4遍\n",
    "\n",
    "import os, openpyxl\n",
    "from openpyxl.cell.cell import get_column_letter\n",
    "\n",
    "filePath = os.path.join(os.path.dirname(os.getcwd()), 'files', 'scrapy', 'books.xlsx')\n",
    "wb = openpyxl.load_workbook(filePath)\n",
    "sheet = wb.get_active_sheet()\n",
    "\n",
    "for i in range(1, sheet.max_row):\n",
    "    if sheet['F'+str(i)].value == sheet['F'+str(i+1)].value:\n",
    "        sheet['B'+str(i)].value = sheet['B'+str(i)].value + ',' + sheet['B'+str(i+1)].value\n",
    "        for j in range(1, sheet.max_column+1):\n",
    "            sheet[get_column_letter(j)+str(i+1)].value = ''\n",
    "wb.save(os.path.join(os.path.dirname(os.getcwd()), 'files', 'scrapy', 'booksNew.xlsx'))"
   ]
  },
  {
   "cell_type": "code",
   "execution_count": null,
   "metadata": {},
   "outputs": [],
   "source": [
    "# 不知道为什么会出现nonetype错误，于是加了这一段。但是最初的原始表格排序后运行程序并不会出现这样的情况。\n",
    "try:\n",
    "    if sheet['F'+str(i)].value == sheet['F'+str(i+1)].value:\n",
    "        sheet['B'+str(i)].value = sheet['B'+str(i)].value + ',' + sheet['B'+str(i+1)].value\n",
    "        for j in range(1, sheet.max_column+1):\n",
    "            sheet[get_column_letter(j)+str(i+1)].value = ''\n",
    "except TypeError as e:\n",
    "    print(i)\n",
    "    print(e)\n",
    "    break"
   ]
  },
  {
   "cell_type": "markdown",
   "metadata": {},
   "source": [
    "### 19. 大猫识字"
   ]
  },
  {
   "cell_type": "code",
   "execution_count": 24,
   "metadata": {},
   "outputs": [],
   "source": [
    "total = set(\"云日月山水田虫牛鸟鱼马鸭一二三四五十大小少女火木人耳上下口中六七八九不个红灯妈白车门画听飞种打好江花叶沙草手头只朵棵条牙天空世界土地你我他她它们气候风晴雨雪蓝黄绿色青美光亮明太阳星爷奶爸姐家母树果瓜枝米生松竹桃柳森林春秋冬年岁像同学老师习园又和也再就才河海流清池满欢乐高兴歌金跑跳行走立坐东西南北前后为什么知道会来去回别从向许多几千有没毛角兔禾苗面方圆点正台位用做住变把处这那边里总是着了的节成在进出过到开入捉找放玩活动说话叫声吹问最很每片分告孩子衣干力事送还给让要得眼足皮发巴心新快真全对长吃笑看见想奇书纸笔写字数夜晚早乌时间朋友伴自己答请原完可起带觉跟步石都国热爱城市乡村工厂校商场医作业课本题目\")"
   ]
  },
  {
   "cell_type": "code",
   "execution_count": 25,
   "metadata": {},
   "outputs": [],
   "source": [
    "cuo = set(\"找到最行本原动笔变送很我做完答都眼快亮习住么道作吹别枝千气业森兴早池就起那着友校从林间给声学市写跟这走自觉候总过是伴真课地才题新空事夜欢许放皮向\")"
   ]
  },
  {
   "cell_type": "code",
   "execution_count": 26,
   "metadata": {},
   "outputs": [],
   "source": [
    "ceshi = set(\"着心长那起天节字子厂禾没就兔朋生坐米池岁早再兴角柳清森它园业阳星老气方和千同太黄河流家枝别明多吹力作爸光道孩果西么住北城可乐习像师海树画爷竹亮绿走那桃青奶快年雪了眼都答完见也做们步我乌瓜国奇出色姐巴工还片向皮放会干许又衣欢目夜事发空新叫她题石爱纸台要数春才地课的成青真奶伴是年国总去候桃快跑开觉在位时自条走晴请足这问火商歌村圆面跟冬己捉写市学晚声后世给里对用场让间林他玩土从什看校友处吃美秋跳风正几松\")"
   ]
  },
  {
   "cell_type": "code",
   "execution_count": 55,
   "metadata": {},
   "outputs": [],
   "source": [
    "cuo2 = set(\"你种立棵把带想听笑知灯叶打进热入满早自住校找到作做题动写很答完放学总是伴着新友行走原本才欢声都市变森林从千枝送空气夜间吹这就眼向过道给我起地皮池别那么亮兴许真事跟候课\")"
   ]
  },
  {
   "cell_type": "code",
   "execution_count": 58,
   "metadata": {},
   "outputs": [
    {
     "data": {
      "text/plain": [
       "'小兔绿流回了师山秋吃让雨云八几位最有虫奶己人手牙跑在再捉步台发岁国村姐土它果海奇母歌习笔树毛西乐爸竹九可一孩禾年门只方北足生水世六沙光城觉柳里红告南园字正朋去来场瓜乌车们多上条鱼处请她没得东田画风边马快女节目数七巴坐十爱三商木火他松苗心对白问面牛家五米高四厂跳为鸭玩衣青又力河月全看干大要长出会什好说叫不天少下时乡活分的花二朵黄春前阳圆桃老雪爷医后美个也角还点晴清妈飞和草片晚纸太同业蓝用话星耳鸟书成口色江中明开日子石见每界头冬金工像'"
      ]
     },
     "execution_count": 58,
     "metadata": {},
     "output_type": "execute_result"
    }
   ],
   "source": [
    "zhengque = total - cuo2\n",
    "\"\".join(list(zhengque))"
   ]
  },
  {
   "cell_type": "markdown",
   "metadata": {},
   "source": [
    "### 20. 博客导入\n",
    "\n",
    "教育人博客已经很久起不来了，群友帮忙把之前的文章都导成word文档给了我。想想给博客搬家这事很久以前就想做了，不如顺便搬到自己的github博客上去吧。\n",
    "\n",
    "那就是要把word文档更换成指定格式的md文档。"
   ]
  },
  {
   "cell_type": "code",
   "execution_count": null,
   "metadata": {},
   "outputs": [],
   "source": [
    "import docx, os\n",
    "\n",
    "path = os.path.join(os.path.dirname(os.path.dirname(os.getcwd())), 'pickle')\n",
    "docNames = os.listdir(os.path.join(path,'docblog'))\n",
    "mdPath = os.path.join(path, 'mdblog')\n",
    "for name in docNames:\n",
    "    title = name[:-22] \n",
    "    date = ''.join([name[-21:-8], ':', name[-7:-5]]) \n",
    "    headers = '''---\n",
    "layout: post  \n",
    "title:  \"%s\"\n",
    "date:  %s:00\n",
    "author: Pickle Cai  \n",
    "categories: EduBlog  \n",
    "keywords: \n",
    "description:   \n",
    "tags:\tpickle   \n",
    "cover:  \"/assets/cover.jpg\"  \n",
    "\n",
    "---''' %(title, date)\n",
    "    dateInTitle = name[-21:-11]\n",
    "    with open (os.path.join(mdPath, dateInTitle+'-'+title+'.md'), 'w') as mdFile:\n",
    "        mdFile.write(headers)\n",
    "        mdFile.write('\\n\\n')\n",
    "        doc = docx.Document(os.path.join(path, 'docblog', name))\n",
    "        for i in range(2, len(doc.paragraphs)-2):\n",
    "            mdFile.write(doc.paragraphs[i].text + '\\n')"
   ]
  },
  {
   "cell_type": "markdown",
   "metadata": {},
   "source": [
    "### 21. 取汉字\n",
    "\n",
    "复制一大段文字，取出其中的汉字以及中文标点符号，贴到剪切板上。"
   ]
  },
  {
   "cell_type": "code",
   "execution_count": 21,
   "metadata": {},
   "outputs": [
    {
     "name": "stdout",
     "output_type": "stream",
     "text": [
      "提取汉字完成，请粘贴结果\n"
     ]
    }
   ],
   "source": [
    "import pyperclip, re\n",
    "\n",
    "texts = pyperclip.paste().replace('\\t', '').split('\\n')\n",
    "charRegex = re.compile(r'[\\u4e00-\\u9fa5]+[\\u3002\\uff1b\\uff0c\\uff1a\\u201c\\u201d\\uff08\\uff09\\u3001\\uff1f\\u300a\\u300b]*[\\u4e00-\\u9fa5]*')\n",
    "results = []\n",
    "for text in texts:\n",
    "    if re.search(charRegex, text) != None:\n",
    "        result = ''.join(charRegex.findall(text))\n",
    "        results.append(result)\n",
    "pyperclip.copy('\\n'.join(results))\n",
    "# print('\\n'.join(results))\n",
    "print('提取汉字完成，请粘贴结果')"
   ]
  }
 ],
 "metadata": {
  "kernelspec": {
   "display_name": "Python 3",
   "language": "python",
   "name": "python3"
  },
  "language_info": {
   "codemirror_mode": {
    "name": "ipython",
    "version": 3
   },
   "file_extension": ".py",
   "mimetype": "text/x-python",
   "name": "python",
   "nbconvert_exporter": "python",
   "pygments_lexer": "ipython3",
   "version": "3.7.3"
  }
 },
 "nbformat": 4,
 "nbformat_minor": 1
}
