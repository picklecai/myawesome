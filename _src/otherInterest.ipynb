{
 "cells": [
  {
   "cell_type": "markdown",
   "metadata": {},
   "source": [
    "## 1. 替换敏感词\n",
    "\n",
    "下面这个程序目的是替换不合适的词后，再存入文件中。"
   ]
  },
  {
   "cell_type": "code",
   "execution_count": 25,
   "metadata": {
    "collapsed": false
   },
   "outputs": [
    {
     "ename": "FileNotFoundError",
     "evalue": "[Errno 2] No such file or directory: '/Users/caimeijuan/github/myawesome/_src/1.txt'",
     "output_type": "error",
     "traceback": [
      "\u001b[0;31m---------------------------------------------------------------------------\u001b[0m",
      "\u001b[0;31mFileNotFoundError\u001b[0m                         Traceback (most recent call last)",
      "\u001b[0;32m<ipython-input-25-a2a8545e8dcc>\u001b[0m in \u001b[0;36m<module>\u001b[0;34m\u001b[0m\n\u001b[1;32m     24\u001b[0m     \u001b[0mmsg\u001b[0m \u001b[0;34m=\u001b[0m \u001b[0mtext_filter\u001b[0m\u001b[0;34m(\u001b[0m\u001b[0mmsg\u001b[0m\u001b[0;34m)\u001b[0m\u001b[0;34m\u001b[0m\u001b[0;34m\u001b[0m\u001b[0m\n\u001b[1;32m     25\u001b[0m     \u001b[0mtext_create\u001b[0m\u001b[0;34m(\u001b[0m\u001b[0mname\u001b[0m\u001b[0;34m,\u001b[0m\u001b[0mmsg\u001b[0m\u001b[0;34m)\u001b[0m\u001b[0;34m\u001b[0m\u001b[0;34m\u001b[0m\u001b[0m\n\u001b[0;32m---> 26\u001b[0;31m \u001b[0mcensored_text_create\u001b[0m\u001b[0;34m(\u001b[0m\u001b[0;34m'2'\u001b[0m\u001b[0;34m,\u001b[0m\u001b[0mtext_read\u001b[0m\u001b[0;34m(\u001b[0m\u001b[0;34m'1'\u001b[0m\u001b[0;34m)\u001b[0m\u001b[0;34m)\u001b[0m\u001b[0;34m\u001b[0m\u001b[0;34m\u001b[0m\u001b[0m\n\u001b[0m",
      "\u001b[0;32m<ipython-input-25-a2a8545e8dcc>\u001b[0m in \u001b[0;36mtext_read\u001b[0;34m(name)\u001b[0m\n\u001b[1;32m     18\u001b[0m     \u001b[0mfile\u001b[0m\u001b[0;34m.\u001b[0m\u001b[0mclose\u001b[0m\u001b[0;34m(\u001b[0m\u001b[0;34m)\u001b[0m\u001b[0;34m\u001b[0m\u001b[0;34m\u001b[0m\u001b[0m\n\u001b[1;32m     19\u001b[0m \u001b[0;32mdef\u001b[0m \u001b[0mtext_read\u001b[0m\u001b[0;34m(\u001b[0m\u001b[0mname\u001b[0m\u001b[0;34m)\u001b[0m\u001b[0;34m:\u001b[0m\u001b[0;34m\u001b[0m\u001b[0;34m\u001b[0m\u001b[0m\n\u001b[0;32m---> 20\u001b[0;31m     \u001b[0mmsg\u001b[0m \u001b[0;34m=\u001b[0m \u001b[0mread_file\u001b[0m\u001b[0;34m(\u001b[0m\u001b[0mname\u001b[0m\u001b[0;34m)\u001b[0m\u001b[0;34m.\u001b[0m\u001b[0mread\u001b[0m\u001b[0;34m(\u001b[0m\u001b[0;34m)\u001b[0m\u001b[0;34m\u001b[0m\u001b[0;34m\u001b[0m\u001b[0m\n\u001b[0m\u001b[1;32m     21\u001b[0m     \u001b[0mread_file\u001b[0m\u001b[0;34m(\u001b[0m\u001b[0mname\u001b[0m\u001b[0;34m)\u001b[0m\u001b[0;34m.\u001b[0m\u001b[0mclose\u001b[0m\u001b[0;34m(\u001b[0m\u001b[0;34m)\u001b[0m\u001b[0;34m\u001b[0m\u001b[0;34m\u001b[0m\u001b[0m\n\u001b[1;32m     22\u001b[0m     \u001b[0;32mreturn\u001b[0m \u001b[0mmsg\u001b[0m\u001b[0;34m\u001b[0m\u001b[0;34m\u001b[0m\u001b[0m\n",
      "\u001b[0;32m<ipython-input-25-a2a8545e8dcc>\u001b[0m in \u001b[0;36mread_file\u001b[0;34m(name)\u001b[0m\n\u001b[1;32m      8\u001b[0m     \u001b[0mdesk_path\u001b[0m \u001b[0;34m=\u001b[0m \u001b[0;34m'/Users/caimeijuan/github/myawesome/_src/'\u001b[0m\u001b[0;34m\u001b[0m\u001b[0;34m\u001b[0m\u001b[0m\n\u001b[1;32m      9\u001b[0m     \u001b[0mfull_path\u001b[0m \u001b[0;34m=\u001b[0m \u001b[0mdesk_path\u001b[0m \u001b[0;34m+\u001b[0m \u001b[0mname\u001b[0m \u001b[0;34m+\u001b[0m \u001b[0;34m'.txt'\u001b[0m\u001b[0;34m\u001b[0m\u001b[0;34m\u001b[0m\u001b[0m\n\u001b[0;32m---> 10\u001b[0;31m     \u001b[0mfile\u001b[0m \u001b[0;34m=\u001b[0m \u001b[0mopen\u001b[0m\u001b[0;34m(\u001b[0m\u001b[0mfull_path\u001b[0m\u001b[0;34m,\u001b[0m\u001b[0;34m'r'\u001b[0m\u001b[0;34m)\u001b[0m\u001b[0;34m\u001b[0m\u001b[0;34m\u001b[0m\u001b[0m\n\u001b[0m\u001b[1;32m     11\u001b[0m     \u001b[0;32mreturn\u001b[0m \u001b[0mfile\u001b[0m\u001b[0;34m\u001b[0m\u001b[0;34m\u001b[0m\u001b[0m\n\u001b[1;32m     12\u001b[0m \u001b[0;32mdef\u001b[0m \u001b[0mtext_filter\u001b[0m\u001b[0;34m(\u001b[0m\u001b[0mword\u001b[0m\u001b[0;34m,\u001b[0m \u001b[0mcensored_word\u001b[0m\u001b[0;34m=\u001b[0m\u001b[0;34m'宝宝'\u001b[0m\u001b[0;34m,\u001b[0m \u001b[0mchanged_word\u001b[0m\u001b[0;34m=\u001b[0m\u001b[0;34m'baby'\u001b[0m\u001b[0;34m)\u001b[0m\u001b[0;34m:\u001b[0m\u001b[0;34m\u001b[0m\u001b[0;34m\u001b[0m\u001b[0m\n",
      "\u001b[0;31mFileNotFoundError\u001b[0m: [Errno 2] No such file or directory: '/Users/caimeijuan/github/myawesome/_src/1.txt'"
     ]
    }
   ],
   "source": [
    "# _*_ coding: utf-8 _*_\n",
    "def load_file(name):\n",
    "    desk_path = '/Users/caimeijuan/github/myawesome/_src/'\n",
    "    full_path = desk_path + name + '.txt'\n",
    "    file = open(full_path,'w')\n",
    "    return file\n",
    "def read_file(name):\n",
    "    desk_path = '/Users/caimeijuan/github/myawesome/_src/'\n",
    "    full_path = desk_path + name + '.txt'\n",
    "    file = open(full_path,'r')\n",
    "    return file\n",
    "def text_filter(word, censored_word='宝宝', changed_word='baby'):\n",
    "    word = word.replace(censored_word,changed_word)\n",
    "    return word\n",
    "def text_create(name,msg):\n",
    "    file = load_file(name)\n",
    "    file.write(msg)\n",
    "    file.close()\n",
    "def text_read(name):\n",
    "    msg = read_file(name).read()\n",
    "    read_file(name).close()\n",
    "    return msg\n",
    "def censored_text_create(name,msg):\n",
    "    msg = text_filter(msg)\n",
    "    text_create(name,msg)\n",
    "censored_text_create('2',text_read('1'))"
   ]
  },
  {
   "cell_type": "markdown",
   "metadata": {},
   "source": [
    "## 2. PI  \n",
    "\n",
    "[Irrational Numbers Search Engine](http://www.subidiom.com/pi/pi.asp)"
   ]
  },
  {
   "cell_type": "markdown",
   "metadata": {},
   "source": [
    "[One billion digits of pi](https://stuff.mit.edu/afs/sipb/contrib/pi/)  \n",
    "[计算圆周率至任意精度 | 睿](https://z-rui.github.io/post/2015/06/pi-digits/)"
   ]
  },
  {
   "cell_type": "code",
   "execution_count": 16,
   "metadata": {
    "collapsed": false
   },
   "outputs": [
    {
     "name": "stdout",
     "output_type": "stream",
     "text": [
      "3.141592653589793115997963468544185161590576171875\n"
     ]
    }
   ],
   "source": [
    "from math import pi\n",
    "from decimal import *\n",
    "import re\n",
    "import numpy as np\n",
    "import timeit\n",
    "\n",
    "strPI = str(Decimal(pi))\n",
    "print(strPI)"
   ]
  },
  {
   "cell_type": "code",
   "execution_count": 24,
   "metadata": {
    "collapsed": false
   },
   "outputs": [
    {
     "name": "stdout",
     "output_type": "stream",
     "text": [
      "concat  1.0779117330000645 seconds\n"
     ]
    }
   ],
   "source": [
    "def pifomula(precision):\n",
    "    getcontext().prec = precision\n",
    "    fomula = 0\n",
    "    for k in range(precision):\n",
    "        fomula += 1/Decimal(16)**k * (Decimal(4)/(8*k+1)-Decimal(2)/(8*k+4)-Decimal(1)/(8*k+5)-Decimal(1)/(8*k+6))\n",
    "    return fomula\n",
    "t1 = timeit.Timer(\"pifomula(2*10**3)\", \"from __main__ import pifomula\")\n",
    "print(\"concat \",t1.timeit(number=2), \"seconds\")"
   ]
  },
  {
   "cell_type": "code",
   "execution_count": 23,
   "metadata": {
    "collapsed": false
   },
   "outputs": [
    {
     "name": "stdout",
     "output_type": "stream",
     "text": [
      "The numeric string 14 appears at the 1 decimal digit of Pi.\n",
      "<re.Match object; span=(0, 1), match='3'>\n",
      "<re.Match object; span=(6, 9), match='926'>\n"
     ]
    }
   ],
   "source": [
    "def findFromPI(numbers):\n",
    "    strPI = str(pifomula(10))    \n",
    "    if numbers.isdigit():\n",
    "        #if re.match(numbers, strPI) == None:\n",
    "        if bool(re.search(numbers, strPI)) == None:\n",
    "            print('Not found.')\n",
    "        else:\n",
    "            for match in re.finditer(numbers, strPI):\n",
    "                print('The numeric string ' + numbers + ' appears at the ' + str(int(match.start())-1) + \\\n",
    "                      ' decimal digit of Pi.')\n",
    "    else:\n",
    "        print('Digitals please!')\n",
    "findFromPI('14')\n",
    "\n",
    "print(re.match('3', '3.141592653')) #match只在开头找。开头找不到就算了。\n",
    "print(re.search('926', '3.141592653'))"
   ]
  },
  {
   "cell_type": "code",
   "execution_count": 17,
   "metadata": {
    "collapsed": false
   },
   "outputs": [
    {
     "name": "stdout",
     "output_type": "stream",
     "text": [
      "The numeric string '6346' appears at the 23 decimal digit of Pi.\n"
     ]
    }
   ],
   "source": [
    "from math import pi\n",
    "import re\n",
    "import requests\n",
    "\n",
    "def findFromPI(numbers):\n",
    "    '''url = 'https://stuff.mit.edu/afs/sipb/contrib/pi/pi-billion.txt'\n",
    "    res = requests.get(url)\n",
    "    res.raise_for_status()\n",
    "    file = open('pi.txt', 'wb')\n",
    "    for chunk in res.iter_content(100000):\n",
    "        file.write(chunk)\n",
    "    file.close()\n",
    "    file = open('pi.txt', 'r')\n",
    "    strPI = file.read()'''\n",
    "    if numbers.isdigit(): \n",
    "        if bool(re.search(numbers, strPI)) == None: \n",
    "            print('Not found.')\n",
    "            # 如果只需要判断真假，不需要找到文本结果，可以用bool(re.search(Regex, String))\n",
    "        else:\n",
    "            for match in re.finditer(numbers, strPI):\n",
    "                print('The numeric string \\'' + numbers + '\\' appears at the ' + str(int(match.start())-1) + \\\n",
    "                      ' decimal digit of Pi.')\n",
    "    else:\n",
    "        print('Digitals please!')\n",
    "findFromPI('6346')"
   ]
  },
  {
   "cell_type": "markdown",
   "metadata": {},
   "source": [
    "## 3. 比较文件是否相同"
   ]
  },
  {
   "cell_type": "markdown",
   "metadata": {},
   "source": [
    "[python中比较两个文件是否相同 - Cure - 博客园](https://www.cnblogs.com/dahuzizyd/archive/2005/03/02/111749.html)"
   ]
  },
  {
   "cell_type": "markdown",
   "metadata": {},
   "source": [
    "[MAC OSX 系统下，U盘会被自动挂载到哪个目录](https://www.douban.com/note/525171297/)"
   ]
  },
  {
   "cell_type": "markdown",
   "metadata": {},
   "source": [
    "[python字典排序、按照list中的字典的某个key排序 - 一步一步 - CSDN博客](https://blog.csdn.net/Tangzongyu123/article/details/75200619)"
   ]
  },
  {
   "cell_type": "code",
   "execution_count": 33,
   "metadata": {
    "collapsed": false
   },
   "outputs": [],
   "source": [
    "import os, filecmp\n",
    "\n",
    "def findDupFile(path):\n",
    "    os.chdir(path)\n",
    "    # 把文件名和大小存入字典\n",
    "    files = []\n",
    "    for i in range(len(os.listdir(path))):\n",
    "        files.append(\n",
    "            {\n",
    "                'fileName':os.listdir(path)[i],\n",
    "                'fileSize':os.path.getsize(os.listdir(path)[i]),      \n",
    "            }\n",
    "        )\n",
    "    files = sorted(files, key=lambda e:e.__getitem__('fileSize')) # 按size大小排序\n",
    "\n",
    "    #可以直接比较文件，反正已经排序过了\n",
    "    num = 0\n",
    "    sizes, dupFiles = [], []\n",
    "    for i in range(len(files)-1):\n",
    "        if filecmp.cmp(files[i]['fileName'], files[i+1]['fileName']):\n",
    "            num += 1\n",
    "            sizes.append(files[i]['fileSize'])\n",
    "            dupFiles.append(files[i+1]['fileName'])\n",
    "            '''print('[Pair %d] %s, %s . Size is %d' %(num, files[i]['fileName'], files[i+1]['fileName'],\\\n",
    "                                                    files[i]['fileSize']))'''\n",
    "    print('Total of size is: %d M.'% (sum(sizes)/1024/1024))\n",
    "\n",
    "    # 有两对文件，大小相同，但不是相同文件。列出来看看是谁\n",
    "    number = 0\n",
    "    for i in range(len(files)-1):\n",
    "        if files[i]['fileSize']==files[i+1]['fileSize'] and not filecmp.cmp(files[i]['fileName'], files[i+1]['fileName']):\n",
    "            number += 1\n",
    "            print('[Pair %d] %s, %s . Size is %d' %(number, files[i]['fileName'], files[i+1]['fileName'],\\\n",
    "                                                                      files[i]['fileSize']))\n",
    "    recordFile = open('/users/caimeijuan/github/myawesome/_src/Duple/' + os.path.basename(path) + '.txt','w')\n",
    "    for txt in dupFiles:\n",
    "        recordFile.write(txt)\n",
    "        recordFile.write('\\n')\n",
    "    recordFile.close()"
   ]
  },
  {
   "cell_type": "code",
   "execution_count": 34,
   "metadata": {
    "collapsed": false
   },
   "outputs": [
    {
     "name": "stdout",
     "output_type": "stream",
     "text": [
      "Total of size is: 495 M.\n",
      "[Pair 1] 43-1-搜商：万物皆有路径且可达.mp3, 古典丨搜商：万物皆有路径且可达.mp3 . Size is 10837289\n",
      "[Pair 2] 40-3-三个卓有成效的向上沟通方法.mp3, 古典丨三个卓有成效的向上沟通方法.mp3 . Size is 13602107\n",
      "Total of size is: 321 M.\n",
      "Total of size is: 281 M.\n",
      "[Pair 1] 0622, 0625 . Size is 0\n",
      "[Pair 2] 0625, 0706 . Size is 0\n",
      "[Pair 3] 0706, 20171129 . Size is 0\n",
      "[Pair 4] 20171129, 20171203 . Size is 0\n",
      "[Pair 5] 20171203, 20171204 . Size is 0\n",
      "[Pair 6] 20171204, 20180614 . Size is 0\n",
      "[Pair 7] 刘润丨4U原则：我文章写得很好，但阅读量总是很低，怎么办？.mp3, 刘润丨社群效应：另一种增强用户黏性的“强力胶”.mp3 . Size is 2888665\n",
      "[Pair 8] 刘润丨女生为什么会逼婚？.mp3, 刘润丨麦穗理论：如何选择人生中最大的那支麦穗.mp3 . Size is 2998046\n",
      "[Pair 9] 刘润丨展示设计：顾客逛了一圈，就蒙圈地走了，怎么办？.mp3, 刘润丨选址逻辑：不知道选贵而近，还是远而便宜的地方开店，怎么办？.mp3 . Size is 3088729\n",
      "[Pair 10] 卓克｜科学思维课-全年总结.mp3, 卓克｜衰老：线粒体，曾经的杀手.mp3 . Size is 4878209\n",
      "[Pair 11] 何帆｜论语2：儒家思想的历史渊源.mp3, 唐涯丨 动量交易：追涨杀跌，对不对？.mp3 . Size is 5321664\n",
      "[Pair 12] 刘苏里｜《两种自由》第五讲：思想的最要者在于方法.mp3, 武志红丨无常04 头脑的伟大之处.mp3 . Size is 5493654\n",
      "[Pair 13] 1_唐涯丨延展话题：索罗斯与反身性炼金术.mp3, 唐涯丨延展话题：索罗斯与反身性炼金术.mp3 . Size is 5912240\n",
      "[Pair 14] 刘苏里丨《管理行为》第一讲：当代百科全书式的人物赫伯特·西蒙2.mp3, 张潇雨丨保时捷和大众，到底是谁收购了谁？.mp3 . Size is 9573486\n",
      "[Pair 15] 1_每日听书丨高情商管理.mp3, 每日听书丨我们内心的冲突.mp3 . Size is 11051884\n",
      "[Pair 16] 每日听书丨人体的故事.mp3, 每日听书丨说话就是生产力.mp3 . Size is 11497638\n",
      "[Pair 17] 每日听书《拜占庭帝国3》.mp3, 每日听书《苏格拉底的申辩》.mp3 . Size is 26040254\n"
     ]
    }
   ],
   "source": [
    "path = '/Volumes/学习工具/培训与学习/10-得到音频/gudian'\n",
    "findDupFile(path)\n",
    "path = '/Volumes/学习工具/培训与学习/10-得到音频/图片'\n",
    "findDupFile(path)\n",
    "path = '/Volumes/学习工具/培训与学习/10-得到音频'\n",
    "findDupFile(path)"
   ]
  },
  {
   "cell_type": "markdown",
   "metadata": {},
   "source": [
    "[Bug report: \"Error: Unknown command: cask\" after #23852 · Issue #23934 · Homebrew/homebrew-cask](https://github.com/Homebrew/homebrew-cask/issues/23934)"
   ]
  },
  {
   "cell_type": "code",
   "execution_count": null,
   "metadata": {
    "collapsed": false
   },
   "outputs": [],
   "source": [
    "# 删除重复文件\n",
    "'''for file in dupFiles:\n",
    "    if os.path.exists(file):\n",
    "        os.remove(file)\n",
    "    else:\n",
    "        print('No such file. %s' %file)\n",
    "print('Done.')'''"
   ]
  },
  {
   "cell_type": "markdown",
   "metadata": {
    "collapsed": false
   },
   "source": [
    "## 4. Tkinter学习  \n",
    "\n",
    "[Tkinter GUI 教程系列 | 莫烦Python](https://morvanzhou.github.io/tutorials/python-basic/tkinter/)"
   ]
  },
  {
   "cell_type": "markdown",
   "metadata": {},
   "source": [
    "### 4.1 button & lable"
   ]
  },
  {
   "cell_type": "code",
   "execution_count": 1,
   "metadata": {
    "collapsed": false
   },
   "outputs": [],
   "source": [
    "import tkinter\n",
    "\n",
    "root = tkinter.Tk()\n",
    "root.title('You Hit Me')\n",
    "root.geometry('640x480')\n",
    "\n",
    "var = tkinter.StringVar()\n",
    "l = tkinter.Label(root, textvariable=var, bg='yellow', width=15)\n",
    "l.pack()\n",
    "\n",
    "on_hit = False\n",
    "def hit_me():\n",
    "    global on_hit\n",
    "    if on_hit == False:\n",
    "        on_hit = True\n",
    "        var.set('You hitted me.')\n",
    "    else:\n",
    "        on_hit = False\n",
    "        var.set('')\n",
    "b = tkinter.Button(root, text='hit me', command=hit_me, width=15)\n",
    "b.pack()\n",
    "root.mainloop()"
   ]
  },
  {
   "cell_type": "markdown",
   "metadata": {},
   "source": [
    "### 4.2 entry & button"
   ]
  },
  {
   "cell_type": "code",
   "execution_count": 1,
   "metadata": {
    "collapsed": false
   },
   "outputs": [],
   "source": [
    "import tkinter\n",
    "\n",
    "root = tkinter.Tk()\n",
    "root.title('Insert')\n",
    "root.geometry('640x480')\n",
    "\n",
    "e = tkinter.Entry(root, width=15, show='o')\n",
    "e.pack()\n",
    "\n",
    "def insert_point():\n",
    "    var = e.get()\n",
    "    t.insert('insert', var)\n",
    "def insert_end():\n",
    "    var = e.get()\n",
    "    t.insert('end', var)\n",
    "    \n",
    "b1 = tkinter.Button(root, text='Insert point', command=insert_point, width=15)\n",
    "b2 = tkinter.Button(root, text='Insert end', command=insert_end, width=15)\n",
    "b1.pack()\n",
    "b2.pack()\n",
    "\n",
    "t = tkinter.Text(root, width=15, height=5)\n",
    "t.pack()\n",
    "\n",
    "root.mainloop()"
   ]
  },
  {
   "cell_type": "markdown",
   "metadata": {},
   "source": [
    "### 4.3 listbox & lable"
   ]
  },
  {
   "cell_type": "code",
   "execution_count": 1,
   "metadata": {
    "collapsed": false
   },
   "outputs": [],
   "source": [
    "import tkinter\n",
    "\n",
    "root = tkinter.Tk()\n",
    "root.title('Selection')\n",
    "root.geometry('640x480')\n",
    "\n",
    "var1 = tkinter.Variable()\n",
    "l = tkinter.Label(root, width=15, textvariable=var1, bg='pink')\n",
    "l.pack()\n",
    "\n",
    "def print_selection():\n",
    "    variable = ls.get(ls.curselection())\n",
    "    var1.set(variable)\n",
    "\n",
    "b = tkinter.Button(root, text='Print Selection', command=print_selection, width=15)\n",
    "b.pack()\n",
    "\n",
    "var2 = tkinter.Variable()\n",
    "month_list = ['May', 'June', 'July', 'August', 'September']\n",
    "var2.set(['Janary','Februry','March','April'])\n",
    "\n",
    "ls = tkinter.Listbox(root, listvariable=var2, width=15) #不赋初值也没关系\n",
    "for month in month_list:\n",
    "    ls.insert('end', month)\n",
    "ls.insert(9, 'Octorber')\n",
    "ls.pack()\n",
    "\n",
    "root.mainloop()"
   ]
  },
  {
   "cell_type": "markdown",
   "metadata": {},
   "source": [
    "### 4.4 radiobutton & lable"
   ]
  },
  {
   "cell_type": "code",
   "execution_count": 1,
   "metadata": {
    "collapsed": false
   },
   "outputs": [],
   "source": [
    "import tkinter\n",
    "\n",
    "root = tkinter.Tk()\n",
    "root.title('Radio Button')\n",
    "root.geometry('640x480')\n",
    "\n",
    "var = tkinter.Variable()\n",
    "l = tkinter.Label(root, width=20, text=' ', bg='pink')\n",
    "l.pack()\n",
    "\n",
    "def print_selection():\n",
    "    l.config(text='You choose ' + var.get())\n",
    "\n",
    "r1 = tkinter.Radiobutton(root, text='Option A', variable=var, value='Spring', command=print_selection, width=15)\n",
    "r1.pack()\n",
    "r2 = tkinter.Radiobutton(root, text='Option B', variable=var, value='Summer', command=print_selection, width=15)\n",
    "r2.pack()\n",
    "r3 = tkinter.Radiobutton(root, text='Option C', variable=var, value='Autumn', command=print_selection, width=15)\n",
    "r3.pack()\n",
    "\n",
    "root.mainloop()"
   ]
  },
  {
   "cell_type": "markdown",
   "metadata": {
    "collapsed": true
   },
   "source": [
    "### 4.5 scale"
   ]
  },
  {
   "cell_type": "code",
   "execution_count": 29,
   "metadata": {
    "collapsed": false
   },
   "outputs": [],
   "source": [
    "import tkinter\n",
    "\n",
    "root = tkinter.Tk()\n",
    "root.title('A Ruler')\n",
    "root.geometry('640x480')\n",
    "\n",
    "\n",
    "l = tkinter.Label(root, width=20, text=' ', bg='#7DECF5')\n",
    "l.pack()\n",
    "\n",
    "def print_selection(v):\n",
    "    l.config(text='You choose ' + v)\n",
    "\n",
    "s = tkinter.Scale(root, label = 'A Ruler', from_=0, to=600, length=600, orient = tkinter.HORIZONTAL, tickinterval=100,\\\n",
    "                 command=print_selection, resolution=0.1, showvalue=1)\n",
    "s.pack()\n",
    "\n",
    "root.mainloop()"
   ]
  },
  {
   "cell_type": "markdown",
   "metadata": {},
   "source": [
    "### 4.6 checkbutton"
   ]
  },
  {
   "cell_type": "code",
   "execution_count": 37,
   "metadata": {
    "collapsed": false
   },
   "outputs": [],
   "source": [
    "import tkinter\n",
    "\n",
    "root = tkinter.Tk()\n",
    "root.title('Python or C ?')\n",
    "root.geometry('640x480')\n",
    "\n",
    "\n",
    "l = tkinter.Label(root, width=20, text=' ', bg='#7DECF5')\n",
    "l.pack()\n",
    "\n",
    "var1 = tkinter.IntVar()\n",
    "var2 = tkinter.IntVar()\n",
    "\n",
    "def print_selection():\n",
    "    if var1.get()==1 and var2.get()==0:\n",
    "        l.config(text='I love only Python')\n",
    "    elif var1.get()==0 and var2.get()==1:\n",
    "        l.config(text='I love only C语言')\n",
    "    elif var1.get()==1 and var2.get()==1:\n",
    "        l.config(text='I love both')\n",
    "    else:\n",
    "        l.config(text='I dont love either')\n",
    "\n",
    "c1 = tkinter.Checkbutton(root, text='Python', variable=var1, onvalue=1, offvalue=0, command=print_selection)\n",
    "c2 = tkinter.Checkbutton(root, text='C语言', variable=var2, onvalue=1, offvalue=0, command=print_selection)\n",
    "c1.pack()\n",
    "c2.pack()\n",
    "\n",
    "root.mainloop()"
   ]
  },
  {
   "cell_type": "code",
   "execution_count": 5,
   "metadata": {
    "collapsed": false
   },
   "outputs": [],
   "source": []
  },
  {
   "cell_type": "markdown",
   "metadata": {},
   "source": [
    "### 4.7 canvas"
   ]
  },
  {
   "cell_type": "code",
   "execution_count": 1,
   "metadata": {
    "collapsed": false
   },
   "outputs": [],
   "source": [
    "import tkinter\n",
    "\n",
    "root = tkinter.Tk()\n",
    "root.title('My canvas')\n",
    "root.geometry('640x480')\n",
    "\n",
    "\n",
    "c = tkinter.Canvas(root, width=360, height=360, bg='#7DECF5')\n",
    "image_file = tkinter.PhotoImage(file='emoj.png')\n",
    "image = c.create_image(10, 10, anchor='nw', image=image_file)\n",
    "line = c.create_line(200,200,220,220,230,250,320,150)\n",
    "oval = c.create_oval(300,300,350,350, fill='red')\n",
    "arc = c.create_arc(260,260,330,330, fill='yellow', start=0, extent=120)\n",
    "rec = c.create_rectangle(50,270,150,310, fill='#A3F57D')\n",
    "\n",
    "c.pack()\n",
    "\n",
    "def down_it():\n",
    "    c.move(rec,0,5)\n",
    "def up_it():\n",
    "    c.move(rec,0,-5)\n",
    "def left_it():\n",
    "    c.move(rec,-5,0)\n",
    "def right_it():\n",
    "    c.move(rec,5,0)\n",
    "\n",
    "b1 = tkinter.Button(root, text='up', command=up_it)\n",
    "b1.pack()\n",
    "b2 = tkinter.Button(root, text='down', command=down_it)\n",
    "b2.pack()\n",
    "b3 = tkinter.Button(root, text='left', command=left_it)\n",
    "b3.pack()\n",
    "b4 = tkinter.Button(root, text='right', command=right_it)\n",
    "b4.pack()\n",
    "\n",
    "root.mainloop()"
   ]
  },
  {
   "cell_type": "markdown",
   "metadata": {
    "collapsed": true
   },
   "source": [
    "### 4.8 menubar"
   ]
  },
  {
   "cell_type": "code",
   "execution_count": 26,
   "metadata": {
    "collapsed": false
   },
   "outputs": [],
   "source": [
    "import tkinter\n",
    "\n",
    "root = tkinter.Tk()\n",
    "root.title('MenuBar')\n",
    "root.geometry('640x480')\n",
    "\n",
    "l = tkinter.Label(bg='yellow', width=20)\n",
    "l.pack()\n",
    "\n",
    "count = 0\n",
    "def do_job():\n",
    "    global count\n",
    "    l.config(text='Do it %s times. '%str(count))\n",
    "    count += 1    \n",
    "\n",
    "menubar = tkinter.Menu(root)\n",
    "\n",
    "filemenu = tkinter.Menu(menubar, tearoff=1)\n",
    "menubar.add_cascade(label='File', menu=filemenu)\n",
    "filemenu.add_command(label='New', command=do_job)\n",
    "filemenu.add_command(label='Open', command=do_job)\n",
    "filemenu.add_command(label='Save', command=do_job)\n",
    "\n",
    "submenu = tkinter.Menu(filemenu, tearoff=1)\n",
    "filemenu.add_cascade(label='Import', menu=submenu)\n",
    "submenu.add_command(label='Submenu1', command=do_job)\n",
    "\n",
    "filemenu.add_separator()\n",
    "filemenu.add_command(label='Exit', command=root.quit)\n",
    "\n",
    "editmenu = tkinter.Menu(menubar, tearoff=1)\n",
    "menubar.add_cascade(label='Edit', menu=editmenu)\n",
    "editmenu.add_command(label='Cut', command=do_job)\n",
    "editmenu.add_command(label='Copy', command=do_job)\n",
    "editmenu.add_command(label='Paste', command=do_job)\n",
    "editmenu.add_separator()\n",
    "\n",
    "root.config(menu=menubar)\n",
    "\n",
    "root.mainloop()"
   ]
  },
  {
   "cell_type": "markdown",
   "metadata": {},
   "source": [
    "### 4.9 Frame框架"
   ]
  },
  {
   "cell_type": "code",
   "execution_count": 34,
   "metadata": {
    "collapsed": true
   },
   "outputs": [],
   "source": [
    "import tkinter\n",
    "\n",
    "root = tkinter.Tk()\n",
    "root.title('Frame')\n",
    "root.geometry('640x480')\n",
    "\n",
    "l = tkinter.Label(root, text='On the window')\n",
    "l.pack()\n",
    "\n",
    "frm = tkinter.Frame(root, bg='pink')\n",
    "frm.pack()\n",
    "\n",
    "frm_l = tkinter.Frame(frm, bg='yellow')\n",
    "frm_l.pack(side='left')\n",
    "l1 = tkinter.Label(frm_l, text='Left Frame')\n",
    "l1.pack()\n",
    "l2 = tkinter.Label(frm_l, text='Left Frame')\n",
    "l2.pack()\n",
    "\n",
    "frm_r = tkinter.Frame(frm)\n",
    "frm_r.pack(side='right')\n",
    "l3 = tkinter.Label(frm_r, text='Right Frame')\n",
    "l3.pack(side='right')\n",
    "\n",
    "\n",
    "root.mainloop()"
   ]
  },
  {
   "cell_type": "markdown",
   "metadata": {},
   "source": [
    "### 4.10 messagebox"
   ]
  },
  {
   "cell_type": "code",
   "execution_count": 48,
   "metadata": {
    "collapsed": false
   },
   "outputs": [
    {
     "name": "stdout",
     "output_type": "stream",
     "text": [
      "False\n",
      "True\n"
     ]
    }
   ],
   "source": [
    "import tkinter\n",
    "import tkinter.messagebox\n",
    "\n",
    "root= tkinter.Tk()\n",
    "root.title('MessageBox')\n",
    "root.geometry('640x480')\n",
    "\n",
    "def hit_me():\n",
    "    #tkinter.messagebox.showinfo(title='Information', message='This is a normal information.')        \n",
    "    #tkinter.messagebox.showwarning(title='Warning', message='Warning. Stop it !!!')    \n",
    "    #tkinter.messagebox.showerror(title='Error', message='Error!!!')\n",
    "    #print(tkinter.messagebox.askquestion(title='Ask', message='for lunch?'))\n",
    "    #print(tkinter.messagebox.askyesno(title='Ask', message='for lunch?'))\n",
    "    #print(tkinter.messagebox.askyesnocancel(title='Ask', message='for lunch?'))\n",
    "    #print(tkinter.messagebox.askretrycancel(title='Ask', message='for lunch?'))\n",
    "    print(tkinter.messagebox.askokcancel(title='Ask', message='for lunch?'))\n",
    "    \n",
    "b = tkinter.Button(root, text='hit me', command=hit_me)\n",
    "b.pack()\n",
    "\n",
    "root.mainloop()"
   ]
  },
  {
   "cell_type": "markdown",
   "metadata": {},
   "source": [
    "### 4.11 pack"
   ]
  },
  {
   "cell_type": "code",
   "execution_count": 79,
   "metadata": {
    "collapsed": false
   },
   "outputs": [],
   "source": [
    "import tkinter\n",
    "\n",
    "root = tkinter.Tk()\n",
    "root.title('Pack Grid Place')\n",
    "root.geometry('640x480')\n",
    "\n",
    "'''tkinter.Label(text='top', bg='pink').pack(side='top')\n",
    "tkinter.Label(text='bottom', bg='pink').pack(side='bottom')\n",
    "tkinter.Label(text='left', bg='pink').pack(side='left')\n",
    "tkinter.Label(text='right', bg='pink').pack(side='right')'''\n",
    "\n",
    "'''for i in range(3):\n",
    "    for j in range(3):\n",
    "        tkinter.Label(root, text='null', bg='pink',borderwidth=2, relief=\"groove\", width=10, height=5\\\n",
    "                     ).grid(row=i, column=j, padx=10, pady=10, ipadx=10, ipady=10)'''\n",
    "\n",
    "tkinter.Label(text=' ', bg='pink', padx=10, pady=10).place(x=100, y=100, anchor='se')\n",
    "tkinter.Label(text=' ', bg='yellow', padx=10, pady=10).place(x=100, y=100, anchor='nw')\n",
    "tkinter.Label(text=' ', bg='red', padx=10, pady=10).place(x=100, y=100, anchor='sw')\n",
    "tkinter.Label(text=' ', bg='blue', padx=10, pady=10).place(x=100, y=100, anchor='ne')\n",
    "\n",
    "root.mainloop()"
   ]
  },
  {
   "cell_type": "markdown",
   "metadata": {},
   "source": [
    "### 4.12 登录窗口"
   ]
  },
  {
   "cell_type": "markdown",
   "metadata": {},
   "source": [
    "先制作用户名密码文件：  "
   ]
  },
  {
   "cell_type": "code",
   "execution_count": 3,
   "metadata": {
    "collapsed": false
   },
   "outputs": [],
   "source": [
    "import pickle, os\n",
    "user_dict = {'admin':'123456', 'example@python.com':'py123thon', 'cai@163.com':'qwerasdf'}\n",
    "os.chdir(os.path.dirname(os.getcwd()) + '/files')\n",
    "file = open(os.getcwd()+'/user.pickle','wb')\n",
    "pickle.dump(user_dict, file)\n",
    "file.close()\n",
    "os.chdir(os.path.dirname(os.getcwd()) + '/_src')"
   ]
  },
  {
   "cell_type": "code",
   "execution_count": 2,
   "metadata": {
    "collapsed": false
   },
   "outputs": [],
   "source": [
    "import tkinter, os, pickle\n",
    "import tkinter.messagebox\n",
    "\n",
    "root = tkinter.Tk()\n",
    "root.title(' ')\n",
    "root.geometry('640x480')\n",
    "\n",
    "canvas = tkinter.Canvas(root, height=130, width=445)\n",
    "image_file = tkinter.PhotoImage(file='welcome.gif')\n",
    "image = canvas.create_image(0, 0, anchor='nw', image=image_file)\n",
    "canvas.pack(side='top')\n",
    "\n",
    "var_usr_name = tkinter.StringVar()\n",
    "var_usr_name.set('example@python.com')\n",
    "var_usr_pwd = tkinter.StringVar()\n",
    "\n",
    "def usr_login():\n",
    "    usr_name = var_usr_name.get()\n",
    "    usr_pwd = var_usr_pwd.get()\n",
    "    os.chdir(os.path.dirname(os.getcwd()) + '/files')\n",
    "    with open(os.getcwd()+'/user.pickle','rb') as usr_file:\n",
    "        usr_dict = pickle.load(usr_file)\n",
    "    if usr_name in usr_dict and usr_pwd==usr_dict[usr_name]:\n",
    "        tkinter.messagebox.showinfo(title='Welcome', message='Welcome to here, '+usr_name)\n",
    "    elif usr_name in usr_dict and usr_pwd!=usr_dict[usr_name]:\n",
    "        tkinter.messagebox.showerror(title='Error', message='Your password is wrong. Try again.')\n",
    "    elif usr_name not in usr_dict:\n",
    "        is_sign_up = tkinter.messagebox.askyesno(title='Warning', message='You havn\\'t sign up. Sign up today?')\n",
    "        if is_sign_up:\n",
    "            usr_signup()\n",
    "    os.chdir(os.path.dirname(os.getcwd()) + '/_src')\n",
    "\n",
    "def usr_signup():\n",
    "    window_sign_up = tkinter.Toplevel(root)\n",
    "    window_sign_up.title('Sign Up')\n",
    "    window_sign_up.geometry('350x200')\n",
    "    \n",
    "    new_name = tkinter.StringVar()\n",
    "    new_name.set('example@python.com')\n",
    "    new_pwd = tkinter.StringVar()\n",
    "    new_pwd_confirm = tkinter.StringVar()\n",
    "    \n",
    "    def win_signup():\n",
    "        win_name = new_name.get()\n",
    "        win_pwd = new_pwd.get()\n",
    "        win_pwd_confirm = new_pwd_confirm.get()\n",
    "        os.chdir(os.path.dirname(os.getcwd()) + '/files')\n",
    "        with open(os.getcwd()+'/user.pickle','rb') as usr_file:\n",
    "            usr_dict = pickle.load(usr_file)\n",
    "        if win_name in usr_dict:\n",
    "            tkinter.messagebox.showerror(title='Error', message='This user has exist. Please choose another.')\n",
    "        elif win_pwd!=win_pwd_confirm:\n",
    "            tkinter.messagebox.showerror(title='Error', message='Password should be confirmed.')\n",
    "        else:\n",
    "            usr_dict[win_name] = win_pwd \n",
    "            with open(os.getcwd()+'/user.pickle','wb') as usr_file:                \n",
    "                pickle.dump(usr_dict, usr_file)\n",
    "            tkinter.messagebox.showinfo(title='Welcome', message='Sign up successfully. Welcome you '+ win_name)\n",
    "        window_sign_up.destroy()\n",
    "        os.chdir(os.path.dirname(os.getcwd()) + '/_src')\n",
    "    \n",
    "    tkinter.Label(window_sign_up, text='Username: ').place(x=15, y=20)\n",
    "    tkinter.Label(window_sign_up, text='Password: ').place(x=15, y=60)\n",
    "    tkinter.Label(window_sign_up, text='Password Again: ').place(x=15, y=100)\n",
    "    tkinter.Entry(window_sign_up, textvariable=new_name).place(x=145, y=20)\n",
    "    tkinter.Entry(window_sign_up, textvariable=new_pwd, show='*').place(x=145, y=60)\n",
    "    tkinter.Entry(window_sign_up, textvariable=new_pwd_confirm, show='*').place(x=145, y=100)\n",
    "    tkinter.Button(window_sign_up, text='Sign Up', command=win_signup).place(x=135, y=150)\n",
    "\n",
    "tkinter.Label(root, text='Username: ').place(x=50, y=150)\n",
    "tkinter.Label(root, text='Password: ').place(x=50, y=190)\n",
    "tkinter.Entry(root, textvariable=var_usr_name).place(x=160, y=150)\n",
    "tkinter.Entry(root, textvariable=var_usr_pwd, show='*').place(x=160, y=190)\n",
    "tkinter.Button(root, text='Login', command=usr_login).place(x=170, y=250)\n",
    "tkinter.Button(root, text='Sign up', command=usr_signup).place(x=270, y=250)\n",
    "\n",
    "root.mainloop()"
   ]
  },
  {
   "cell_type": "markdown",
   "metadata": {
    "collapsed": false
   },
   "source": [
    "读取密码文件看看："
   ]
  },
  {
   "cell_type": "code",
   "execution_count": 5,
   "metadata": {
    "collapsed": false
   },
   "outputs": [],
   "source": [
    "import pprint\n",
    "os.chdir(os.path.dirname(os.getcwd()) + '/files')\n",
    "with open(os.getcwd()+'/user.pickle','rb') as usr_file:\n",
    "    usr_dict = pickle.load(usr_file)\n",
    "#pprint.pprint(usr_dict)    \n",
    "os.chdir(os.path.dirname(os.getcwd()) + '/_src')"
   ]
  },
  {
   "cell_type": "markdown",
   "metadata": {
    "collapsed": true
   },
   "source": [
    "## 5. 邻接矩阵转换"
   ]
  },
  {
   "cell_type": "markdown",
   "metadata": {
    "collapsed": false
   },
   "source": [
    "以前的项目里，需要把作者联系表转换为作者-作者邻接矩阵。创下的记录是38天写了72行代码。其实有语言差别，这72行中有三分之一是end。整个全部用循环来做了。那时候就想，一个真正会写程序的人，肯定一会儿就做好了，而且不需要全部用循环——用循环多不经济啊，老是从头再来地计算。  \n",
    "\n",
    "很久没有看了，先复习一下什么是邻接矩阵：  \n",
    "\n",
    "> 邻接矩阵（Adjacency Matrix）是表示顶点之间相邻关系的矩阵。 设G=(V,E)是一个图，其中V={v1,v2,…,vn} 。 G的邻接矩阵是一个具有下列性质的n阶方阵： ①对无向图而言，邻接矩阵一定是对称的，而且主对角线一定为零（在此仅讨论无向简单图），副对角线不一定为0，有向图则不一定如此。\n",
    "\n",
    "输入是一个`m*n`的嵌套列表，m代表行，n代表各行中最大的列数。  \n",
    "输出是`c*c`的矩阵b，c是上面嵌套列表中不重复个体的总数，最大是`m*n`，一般不会有这么大。  \n",
    "b矩阵的特征是：  \n",
    "- `b[i][i] == 0`\n",
    "- 如果`b[0][j]`和`b[i][0]`在嵌套列表中是同一行，那么`b[i][j]`和`b[j][i]`都是1"
   ]
  },
  {
   "cell_type": "code",
   "execution_count": 16,
   "metadata": {
    "collapsed": false
   },
   "outputs": [],
   "source": [
    "from itertools import permutations\n",
    "def toAdjency(authorsContact):\n",
    "    # 读取authors的members    \n",
    "    authorMembers = set()\n",
    "    for authors in authorsContact:\n",
    "        authorMembers = authorMembers | set(authors)\n",
    "    # 构造由members构成的二维矩阵\n",
    "    authorAdjency = [['没有' for i in range(len(authorMembers)+1)] for j in range(len(authorMembers)+1)]\n",
    "    authorAdjency[0] = [''] + list(authorMembers)\n",
    "    for i in range(1, len(authorAdjency)):\n",
    "        authorAdjency[i][0] = authorAdjency[0][i]        \n",
    "    # 给二维矩阵赋值：来自authors同一行，赋值1    \n",
    "    for authors in authorsContact:\n",
    "        adjcentX = []\n",
    "        for i in range(len(authors)):\n",
    "            adjcentX.append(list(authorMembers).index(authors[i]) + 1)\n",
    "        for x in list(permutations(adjcentX,2)):\n",
    "            authorAdjency[x[0]][x[1]] = '有'    \n",
    "    # 输出二维矩阵\n",
    "    return authorAdjency"
   ]
  },
  {
   "cell_type": "code",
   "execution_count": 22,
   "metadata": {
    "collapsed": false,
    "scrolled": true
   },
   "outputs": [
    {
     "name": "stdout",
     "output_type": "stream",
     "text": [
      "      何玲梅  朱小颖  曹志希  范传伟  杨庆尧  白 雪  孙红珠  麋 可  杨晓彤 \n",
      "\n",
      " 何玲梅   没有   没有   有    没有   没有   没有   没有   没有   没有 \n",
      "\n",
      " 朱小颖   没有   没有   没有   没有   有    没有   有    没有   没有 \n",
      "\n",
      " 曹志希   有    没有   没有   没有   没有   没有   没有   没有   没有 \n",
      "\n",
      " 范传伟   没有   没有   没有   没有   没有   有    没有   没有   没有 \n",
      "\n",
      " 杨庆尧   没有   有    没有   没有   没有   没有   有    有    有  \n",
      "\n",
      " 白 雪   没有   没有   没有   有    没有   没有   没有   没有   没有 \n",
      "\n",
      " 孙红珠   没有   有    没有   没有   有    没有   没有   没有   没有 \n",
      "\n",
      " 麋 可   没有   没有   没有   没有   有    没有   没有   没有   有  \n",
      "\n",
      " 杨晓彤   没有   没有   没有   没有   有    没有   没有   有    没有 \n",
      "\n"
     ]
    }
   ],
   "source": [
    "# 只是为了漂亮打印\n",
    "import pprint\n",
    "authorsContact = [['白 雪','范传伟'],['曹志希','何玲梅'],['杨晓彤','麋 可','杨庆尧'],['杨庆尧','朱小颖','孙红珠']]\n",
    "b = toAdjency(authorsContact)\n",
    "for i in range(len(b)):\n",
    "    for j in range(len(b[i])):\n",
    "        print(str(b[i][j]).center(5), end='')\n",
    "    print('\\n')"
   ]
  },
  {
   "cell_type": "markdown",
   "metadata": {
    "collapsed": true
   },
   "source": [
    "### 如何快速算出组合可能\n",
    "\n",
    "[Python 排列组合的计算 - Zhang's Wikipedia - CSDN博客](https://blog.csdn.net/lanchunhui/article/details/51824602)  \n",
    "```\n",
    "from itertools import combinations, permutations\n",
    "permutations([1, 2, 3], 2)\n",
    "<itertools.permutations at 0x7febfd880fc0>   # 可迭代对象\n",
    "list(permutations([1, 2, 3], 2))\n",
    "[(1, 2), (1, 3), (2, 1), (2, 3), (3, 1), (3, 2)]\n",
    "\n",
    "list(combinations([1, 2, 3], 2))\n",
    "[(1, 2), (1, 3), (2, 3)]\n",
    "```"
   ]
  },
  {
   "cell_type": "markdown",
   "metadata": {},
   "source": [
    "### numpy或普通矩阵\n",
    "```\n",
    "import numpy as np\n",
    "\n",
    "authorAdjency = np.zeros((len(authorMembers)+1,len(authorMembers)+1))\n",
    "\n",
    "```\n",
    "\n",
    "由于numpy做零矩阵会出现`ValueError: could not convert string to float`的错误，即：numpy的零矩阵，不能把其中某个值更改为字符串值，只能是数值。 所以不采用numpy，改用普通零矩阵。\n",
    "\n",
    "普通零矩阵的方法来自这里：[python二维零矩阵 - 简书](https://www.jianshu.com/p/ba57509b0d55)\n",
    "\n",
    "```\n",
    "[[0 for col in range(2)] for row in range(3)]\n",
    "\n",
    "```"
   ]
  },
  {
   "cell_type": "markdown",
   "metadata": {},
   "source": [
    "### 小结和之前程序的变化  \n",
    "\n",
    "1. 花费的时间变少了：由38天缩短为3.5小时  \n",
    "2. 代码变短了：由72行缩短为16行（另外加上4行注释）  \n",
    "3. for循环变少了：for的数量变少，层数变浅，计算量也变小  \n",
    "4. 重复作者不需要特殊处理  \n",
    "5. 没有用if判断  \n",
    "6. 过程变清晰了  \n",
    "\n",
    "其中前三条是推动这次重写的主因。对这三条，十年来一直念念不忘。2016年想重写的时候还想着‘再写不也还是要依靠for循环吗’。事实的确如此，不过还是有很大改进啊。\n",
    "\n",
    "不过这个题目需要花费3个半小时也是意想不到的。半个小时时以为很快就好了，因为整体思路清晰，只差第三部分了。没想到后来又走了许多歪路，才终于写出了第三部分这6行。以这个作为考核的话，还只是入门吧。\n",
    "\n",
    "### 增加的巧妙办法  \n",
    "\n",
    "1. 使用集合，能去重复  \n",
    "2. 使用零矩阵，快速大量赋值\n",
    "3. 使用获取下标index建立联系\n",
    "4. 引入排列组合已有模块"
   ]
  },
  {
   "cell_type": "markdown",
   "metadata": {
    "collapsed": false
   },
   "source": [
    "## 6. 处理大猫照片"
   ]
  },
  {
   "cell_type": "code",
   "execution_count": 1,
   "metadata": {
    "collapsed": true
   },
   "outputs": [],
   "source": [
    "from PIL import Image\n",
    "\n",
    "catIm = Image.open('bigcat.jpg')\n",
    "width, height = catIm.size\n",
    "smallCatIm = catIm.resize((int(width//4),int(height//4)))\n",
    "smallCatIm.save('smallcat.jpg')\n",
    "cropCat = smallCatIm.crop((235,193,648,819))\n",
    "cropCat.save('cropcat.jpg')\n",
    "cropCatIm = cropCat.copy()"
   ]
  },
  {
   "cell_type": "code",
   "execution_count": 4,
   "metadata": {
    "collapsed": false
   },
   "outputs": [],
   "source": [
    "for x in range(40):\n",
    "    for y in range(200):\n",
    "        if cropCatIm.getpixel((x,y))[2] > 150:\n",
    "            cropCatIm.putpixel((x,y),(0,0,255))\n",
    "cropCatIm.save('bluecat.jpg')"
   ]
  },
  {
   "cell_type": "code",
   "execution_count": 6,
   "metadata": {
    "collapsed": false
   },
   "outputs": [
    {
     "data": {
      "text/plain": [
       "(237, 206, 152)"
      ]
     },
     "execution_count": 6,
     "metadata": {},
     "output_type": "execute_result"
    }
   ],
   "source": [
    "cropCatIm.getpixel((120,350))"
   ]
  },
  {
   "cell_type": "code",
   "execution_count": null,
   "metadata": {
    "collapsed": false
   },
   "outputs": [],
   "source": [
    "import cv2\n",
    "\n",
    "bigCat = cv2.imread('cropcat.jpg')\n",
    "cv2.imshow('cropcat', bigCat)\n",
    "cv2.waitKey(0)\n",
    "cv2.destroyAllWindows()"
   ]
  },
  {
   "cell_type": "markdown",
   "metadata": {
    "collapsed": true
   },
   "source": [
    "## 7. 随机产生6位数字"
   ]
  },
  {
   "cell_type": "code",
   "execution_count": 3,
   "metadata": {
    "collapsed": false
   },
   "outputs": [
    {
     "name": "stdout",
     "output_type": "stream",
     "text": [
      "360135\n"
     ]
    }
   ],
   "source": [
    "import random\n",
    "\n",
    "string = ''\n",
    "for i in range(6):\n",
    "    ch = chr(random.randrange(ord('0'), ord('9')+1))\n",
    "    string += ch\n",
    "print(string)"
   ]
  },
  {
   "cell_type": "code",
   "execution_count": null,
   "metadata": {
    "collapsed": true
   },
   "outputs": [],
   "source": []
  },
  {
   "cell_type": "code",
   "execution_count": null,
   "metadata": {
    "collapsed": true
   },
   "outputs": [],
   "source": []
  }
 ],
 "metadata": {
  "kernelspec": {
   "display_name": "Python 3",
   "language": "python",
   "name": "python3"
  },
  "language_info": {
   "codemirror_mode": {
    "name": "ipython",
    "version": 3
   },
   "file_extension": ".py",
   "mimetype": "text/x-python",
   "name": "python",
   "nbconvert_exporter": "python",
   "pygments_lexer": "ipython3",
   "version": "3.7.2"
  }
 },
 "nbformat": 4,
 "nbformat_minor": 0
}
