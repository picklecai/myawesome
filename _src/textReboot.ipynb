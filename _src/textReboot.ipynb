{
 "cells": [
  {
   "cell_type": "markdown",
   "metadata": {},
   "source": [
    "## 1. 本地版记事本\n",
    "\n",
    "这是人生第一个python文件。又重新写了一遍。"
   ]
  },
  {
   "cell_type": "code",
   "execution_count": 2,
   "metadata": {
    "collapsed": false
   },
   "outputs": [
    {
     "name": "stdout",
     "output_type": "stream",
     "text": [
      "\n",
      "请输入你的选择：\n",
      "  1. 打印之前的内容\n",
      "  2. 写新的内容\n",
      "  3. 退出\n",
      "    \n",
      ">3\n"
     ]
    },
    {
     "ename": "SystemExit",
     "evalue": "0",
     "output_type": "error",
     "traceback": [
      "An exception has occurred, use %tb to see the full traceback.\n",
      "\u001b[0;31mSystemExit\u001b[0m\u001b[0;31m:\u001b[0m 0\n"
     ]
    }
   ],
   "source": [
    "#_*_coding:utf-8_*_\n",
    "\n",
    "from os.path import exists\n",
    "from sys import exit\n",
    "import time\n",
    "\n",
    "def main():\n",
    "    print('''\n",
    "请输入你的选择：\n",
    "  1. 打印之前的内容\n",
    "  2. 写新的内容\n",
    "  3. 退出\n",
    "    ''')\n",
    "    choose = input('>')\n",
    "    if choose == '1':\n",
    "        printHistory()\n",
    "        main()\n",
    "    elif choose == '2':\n",
    "        writeNew()\n",
    "        main()\n",
    "    elif choose == '3':\n",
    "        exit(0)\n",
    "    else:\n",
    "        print('对不起，我不知道你要干什么。')\n",
    "        main()\n",
    "\n",
    "def printHistory():\n",
    "    if exists('tempfile.txt'):\n",
    "        print('历史记录：')\n",
    "        print('='*80)\n",
    "        txt = open('tempfile.txt')\n",
    "        lines = txt.readlines()\n",
    "        for i in lines:\n",
    "            print(i)\n",
    "        print('='*80)\n",
    "    else:\n",
    "        print('程序第一次运行，还没有历史记录。请选择2录入新内容。')\n",
    "\n",
    "def writeNew():\n",
    "    temp = open('tempfile.txt', 'a')\n",
    "    global content #global声明和赋值不能合一句。\n",
    "    content = input('今日记录，请输入：')\n",
    "    temp.write(time.strftime('%d/%m/%Y %H:%M:%S'+'\\n')) #在保存当前输入的同时，也保存当前时间。\n",
    "    temp.write(content+'\\n'+'\\n')\n",
    "    temp.close()\n",
    "    print('''\n",
    "你是否想把新输入内容存为独立文件？\n",
    "  1. 随便写写，不用保存。\n",
    "  2. 保存吧。\n",
    "    ''')\n",
    "    c = input('>')  \n",
    "    if c == '1':\n",
    "        main()\n",
    "    elif c == '2':\n",
    "        saveNew()\n",
    "    else:\n",
    "        print('对不起，我不知道你想要干什么。请重新选择是否要存盘。')\n",
    "        saveNew()\n",
    "\n",
    "def saveNew():\n",
    "    print('请输入文件名（扩展名已经默认为txt）：')\n",
    "    filename = input() + '.txt'\n",
    "    if exists(filename):\n",
    "        t = open(filename, 'a')\n",
    "    else:\n",
    "        t = open(filename, 'w')\n",
    "        t.write(filename+'\\n')\n",
    "        t.write('='*80+'\\n'+'\\n')\n",
    "    t.write(time.strftime('%d/%m/%Y %H:%M:%S'+'\\n'))\n",
    "    t.write(content+'\\n'+'\\n')\n",
    "    t.close() \n",
    "        \n",
    "if __name__ == '__main__':\n",
    "    main()"
   ]
  },
  {
   "cell_type": "markdown",
   "metadata": {},
   "source": [
    "小结：  \n",
    "1. pass语句对写整体结构很有帮助。这也是之前培炎经常说的。  \n",
    "2. global语句的声明和赋值不能合为一句，之前没有遇到过。  \n",
    "3. 在这个例子中，要么函数嵌套，要么用全局变量。似乎没有看到既不嵌套函数也不全局变量的解决方案。  \n",
    "4. 我之前写的程序，很久以后再运行，往往对输入值的要求不甚明了。例如本例中文件名是否要加扩展名。所以这方面要给足提示。\n",
    "5. 其实这第一个程序，就已经用了递归。但那时没太注意到，还一直觉得递归很难理解。最近理解后，马上觉得递归太好用了。\n",
    "6. print仍然是最好用的debug方法。今天把write()的结果赋值给content，要不是打印出来，都不知道为啥是int而不是str。"
   ]
  },
  {
   "cell_type": "markdown",
   "metadata": {
    "collapsed": true
   },
   "source": [
    "## 2. Tkinter版本"
   ]
  },
  {
   "cell_type": "code",
   "execution_count": 3,
   "metadata": {
    "collapsed": false
   },
   "outputs": [],
   "source": [
    "# _*_coding:utf-8_*_\n",
    "import tkinter, os, time\n",
    "\n",
    "root = tkinter.Tk()\n",
    "root.title('记事本')\n",
    "root.geometry('640x480')\n",
    "\n",
    "var = tkinter.StringVar()\n",
    "\n",
    "def print_history():\n",
    "    os.chdir(os.path.dirname(os.getcwd()) + '/files')\n",
    "    if os.path.exists('notebook.txt'):\n",
    "        file = open(os.getcwd()+'/notebook.txt','r')\n",
    "        content = file.read()\n",
    "        '''content = []\n",
    "        for line in file.readlines(): #如果用这种，会打印出{}\n",
    "            content.append(line)'''\n",
    "        file.close()\n",
    "        os.chdir(os.path.dirname(os.getcwd()) + '/_src')\n",
    "    else:\n",
    "        content = '程序第一次运行，还没有历史记录可打印。赶快去输入内容吧。'\n",
    "    var.set(content)\n",
    "\n",
    "def save():\n",
    "    content = entry.get()\n",
    "    os.chdir(os.path.dirname(os.getcwd()) + '/files')\n",
    "    if os.path.exists('notebook.txt'):\n",
    "        file = open(os.getcwd()+'/notebook.txt','a')\n",
    "    else:\n",
    "        file = open(os.getcwd()+'/notebook.txt','w')\n",
    "    file.write(time.strftime('%Y/%m/%d %H:%M:%S'+'\\n'))\n",
    "    file.write(content+'\\n'+'\\n')\n",
    "    file.close()\n",
    "    os.chdir(os.path.dirname(os.getcwd()) + '/_src')\n",
    "\n",
    "l1 = tkinter.Label(root, text='历史记录区：')\n",
    "l1.place(x=15, y=10)\n",
    "\n",
    "label = tkinter.Label(root, textvariable=var, bg='#EEEEEE', width=65, height=18, justify='left',\\\n",
    "                      anchor='nw') #文字左对齐、顶部对齐\n",
    "label.place(x=15, y=35)\n",
    "\n",
    "l2 = tkinter.Label(root, text='输入新内容：')\n",
    "l2.place(x=15, y=370)\n",
    "\n",
    "entry = tkinter.Entry(root, width=65)\n",
    "entry.place(x=15, y=395)\n",
    "\n",
    "b1 = tkinter.Button(root, text='打印历史记录', command=print_history)\n",
    "b2 = tkinter.Button(root, text='保存输入', command=save)\n",
    "b1.place(x=150, y=440)\n",
    "b2.place(x=400, y=440)\n",
    "\n",
    "root.mainloop()"
   ]
  },
  {
   "cell_type": "markdown",
   "metadata": {
    "collapsed": true
   },
   "source": [
    "1. 找不到文件，是因为在文件前多加了个反斜杠\\。\n",
    "2. 打印时要直接read，不要readlines逐句，否则打印{}\n",
    "3. 可以让save弹出messagebox框，问要不要保存。\n",
    "4. 如果文字太长，历史记录区就不够了。不知道能不能用滚动条？"
   ]
  },
  {
   "cell_type": "markdown",
   "metadata": {
    "collapsed": true
   },
   "source": [
    "## 3. 内网版 ——命令行版 \n",
    "\n",
    "之前写的是UDP版本，这次决定改成TCP版本。\n",
    "\n",
    "主要使用socket。这里[[译]Python 中的 Socket 编程（指南）](https://keelii.com/2018/09/24/socket-programming-in-python/)有socket教程。\n",
    "\n",
    "[Python 网络编程 | 菜鸟教程](https://www.runoob.com/python/python-socket.html)"
   ]
  },
  {
   "cell_type": "code",
   "execution_count": 9,
   "metadata": {
    "collapsed": false,
    "scrolled": false
   },
   "outputs": [
    {
     "ename": "OSError",
     "evalue": "[Errno 48] Address already in use",
     "output_type": "error",
     "traceback": [
      "\u001b[0;31m---------------------------------------------------------------------------\u001b[0m",
      "\u001b[0;31mOSError\u001b[0m                                   Traceback (most recent call last)",
      "\u001b[0;32m<ipython-input-9-3be2e31aba66>\u001b[0m in \u001b[0;36m<module>\u001b[0;34m\u001b[0m\n\u001b[1;32m      5\u001b[0m \u001b[0;34m\u001b[0m\u001b[0m\n\u001b[1;32m      6\u001b[0m \u001b[0ms\u001b[0m \u001b[0;34m=\u001b[0m \u001b[0msocket\u001b[0m\u001b[0;34m.\u001b[0m\u001b[0msocket\u001b[0m\u001b[0;34m(\u001b[0m\u001b[0msocket\u001b[0m\u001b[0;34m.\u001b[0m\u001b[0mAF_INET\u001b[0m\u001b[0;34m,\u001b[0m \u001b[0msocket\u001b[0m\u001b[0;34m.\u001b[0m\u001b[0mSOCK_STREAM\u001b[0m\u001b[0;34m)\u001b[0m\u001b[0;34m\u001b[0m\u001b[0;34m\u001b[0m\u001b[0m\n\u001b[0;32m----> 7\u001b[0;31m \u001b[0ms\u001b[0m\u001b[0;34m.\u001b[0m\u001b[0mbind\u001b[0m\u001b[0;34m(\u001b[0m\u001b[0;34m(\u001b[0m\u001b[0mHOST\u001b[0m\u001b[0;34m,\u001b[0m \u001b[0mPORT\u001b[0m\u001b[0;34m)\u001b[0m\u001b[0;34m)\u001b[0m\u001b[0;34m\u001b[0m\u001b[0;34m\u001b[0m\u001b[0m\n\u001b[0m\u001b[1;32m      8\u001b[0m \u001b[0ms\u001b[0m\u001b[0;34m.\u001b[0m\u001b[0mlisten\u001b[0m\u001b[0;34m(\u001b[0m\u001b[0;34m)\u001b[0m\u001b[0;34m\u001b[0m\u001b[0;34m\u001b[0m\u001b[0m\n\u001b[1;32m      9\u001b[0m \u001b[0mconn\u001b[0m\u001b[0;34m,\u001b[0m \u001b[0maddr\u001b[0m \u001b[0;34m=\u001b[0m \u001b[0ms\u001b[0m\u001b[0;34m.\u001b[0m\u001b[0maccept\u001b[0m\u001b[0;34m(\u001b[0m\u001b[0;34m)\u001b[0m\u001b[0;34m\u001b[0m\u001b[0;34m\u001b[0m\u001b[0m\n",
      "\u001b[0;31mOSError\u001b[0m: [Errno 48] Address already in use"
     ]
    }
   ],
   "source": [
    "import socket\n",
    "\n",
    "HOST = '127.0.0.1'\n",
    "PORT = 65432\n",
    "\n",
    "s = socket.socket(socket.AF_INET, socket.SOCK_STREAM)\n",
    "s.bind((HOST, PORT))\n",
    "s.listen()\n",
    "conn, addr = s.accept()\n",
    "s.close() # 如果这句话不写，就会提示[Errno 48] Address already in use"
   ]
  },
  {
   "cell_type": "markdown",
   "metadata": {},
   "source": [
    "用ipython已经占据了本地地址，所以改用终端。"
   ]
  },
  {
   "cell_type": "code",
   "execution_count": 25,
   "metadata": {
    "collapsed": false
   },
   "outputs": [
    {
     "data": {
      "text/plain": [
       "<_io.TextIOWrapper name='/Users/caimeijuan/github/myawesome/_src/nb-client.py' mode='w' encoding='UTF-8'>"
      ]
     },
     "execution_count": 25,
     "metadata": {},
     "output_type": "execute_result"
    }
   ],
   "source": [
    "import os\n",
    "\n",
    "open(os.getcwd() + '/nb-client.py', 'w')"
   ]
  },
  {
   "cell_type": "code",
   "execution_count": 12,
   "metadata": {
    "collapsed": false
   },
   "outputs": [
    {
     "name": "stdout",
     "output_type": "stream",
     "text": [
      "Connected by ('127.0.0.1', 64937)\n"
     ]
    }
   ],
   "source": [
    "# _*_coding:utf-8_*_\n",
    "\n",
    "import socket\n",
    "\n",
    "HOST = '127.0.0.1'\n",
    "PORT = 65433\n",
    "\n",
    "with socket.socket(socket.AF_INET, socket.SOCK_STREAM) as s:\n",
    "    s.bind((HOST, PORT))\n",
    "    s.listen()\n",
    "    conn, addr = s.accept()\n",
    "\n",
    "    with conn:\n",
    "        print('Connected by', addr)\n",
    "        while True:\n",
    "            data = conn.recv(1024)\n",
    "            if not data:\n",
    "                break\n",
    "            conn.sendall(data)"
   ]
  },
  {
   "cell_type": "code",
   "execution_count": 16,
   "metadata": {
    "collapsed": false
   },
   "outputs": [
    {
     "name": "stdout",
     "output_type": "stream",
     "text": [
      "Received b'Hello world'\n"
     ]
    }
   ],
   "source": [
    "import socket\n",
    "\n",
    "HOST = '127.0.0.1'\n",
    "PORT = 65433\n",
    "\n",
    "with socket.socket(socket.AF_INET, socket.SOCK_STREAM) as s:\n",
    "    s.connect((HOST, PORT))\n",
    "    s.sendall(b'Hello world')\n",
    "    data = s.recv(1024)\n",
    "\n",
    "print('Received', repr(data))"
   ]
  },
  {
   "cell_type": "code",
   "execution_count": 3,
   "metadata": {
    "collapsed": false
   },
   "outputs": [
    {
     "name": "stdout",
     "output_type": "stream",
     "text": [
      "Waiting for data...\n",
      "2019/05/09 17:10:38: From ('127.0.0.1', 58743) receive: 试试ipython \n",
      "\n"
     ]
    }
   ],
   "source": [
    "# 服务端 \n",
    "# _*_coding:utf-8_*_\n",
    "import socket\n",
    "import time\n",
    "\n",
    "HOST = '127.0.0.1'\n",
    "PORT = 65432\n",
    "with socket.socket(socket.AF_INET, socket.SOCK_STREAM) as s:\n",
    "    s.bind((HOST, PORT))\n",
    "    s.listen()\n",
    "    print('Waiting for data...')\n",
    "    conn, addr = s.accept()\n",
    "    with conn:\n",
    "        while True:\n",
    "            data = conn.recv(1024)\n",
    "            if not data:\n",
    "                # 如果没有这句话控制，一旦客户端退出，它就会陷入死循环.\n",
    "                # if sdata == 'quit'并不能拯救它死循环命运\n",
    "                break\n",
    "            conn.sendall(data)\n",
    "            print('%s: From %s receive: %s \\n' % (time.strftime('%Y/%m/%d %H:%M:%S'), str(addr), data.decode('utf-8')))"
   ]
  },
  {
   "cell_type": "code",
   "execution_count": 4,
   "metadata": {
    "collapsed": false
   },
   "outputs": [
    {
     "name": "stdout",
     "output_type": "stream",
     "text": [
      "1. 打印历史记录 2. 输入今日记录 （输入quit退出程序）2\n",
      "今日记录，请输入（输入quit退出程序）：试试ipython\n",
      "Data: 2019/05/09 17:11:14 试试ipython\n",
      "1. 打印历史记录 2. 输入今日记录 （输入quit退出程序）quit\n"
     ]
    },
    {
     "ename": "SystemExit",
     "evalue": "0",
     "output_type": "error",
     "traceback": [
      "An exception has occurred, use %tb to see the full traceback.\n",
      "\u001b[0;31mSystemExit\u001b[0m\u001b[0;31m:\u001b[0m 0\n"
     ]
    },
    {
     "name": "stderr",
     "output_type": "stream",
     "text": [
      "/Users/caimeijuan/anaconda/envs/python35/lib/python3.7/site-packages/IPython/core/interactiveshell.py:3299: UserWarning: To exit: use 'exit', 'quit', or Ctrl-D.\n",
      "  warn(\"To exit: use 'exit', 'quit', or Ctrl-D.\", stacklevel=1)\n"
     ]
    }
   ],
   "source": [
    "# 客户端\n",
    "# _*_coding:utf-8_*_\n",
    "\n",
    "import socket\n",
    "import sys\n",
    "import os\n",
    "# import nbserver\n",
    "import time\n",
    "\n",
    "\n",
    "def main():\n",
    "    HOST = '127.0.0.1'\n",
    "    PORT = 65432\n",
    "    s = socket.socket(socket.AF_INET, socket.SOCK_STREAM)\n",
    "    s.connect((HOST, PORT))\n",
    "    while True:\n",
    "        choose = input('1. 打印历史记录 2. 输入今日记录 （输入quit退出程序）')\n",
    "        if choose == '1':\n",
    "            printhistory()\n",
    "        elif choose == '2':\n",
    "            data = input('今日记录，请输入（输入quit退出程序）：')\n",
    "            if data == 'quit':\n",
    "                sys.exit(0)\n",
    "            else:\n",
    "                s.sendall(bytes(data.encode('utf-8')))\n",
    "                data = s.recv(1024)\n",
    "                print('Data:', time.strftime('%Y/%m/%d %H:%M:%S'), data.decode('utf-8'))\n",
    "                save(data.decode('utf-8'))\n",
    "        elif choose == 'quit':\n",
    "            sys.exit(0)\n",
    "        else:\n",
    "            continue\n",
    "    s.close()\n",
    "\n",
    "\n",
    "def printhistory():\n",
    "    if os.path.exists(\"tempfile.txt\"):\n",
    "        txt = open(\"tempfile.txt\")\n",
    "        notelist = txt.readlines()\n",
    "        print('历史记录：' + '\\n')\n",
    "        for i in notelist:\n",
    "            print(i)\n",
    "\n",
    "\n",
    "def save(newline):\n",
    "    txt = open(\"tempfile.txt\", 'a')\n",
    "    txt.write(time.strftime('%Y/%m/%d %H:%M:%S') + \"\\n\")\n",
    "    txt.write(newline + \"\\n\" + \"\\n\")\n",
    "    txt.close()\n",
    "\n",
    "if __name__ == '__main__':\n",
    "    main()"
   ]
  },
  {
   "cell_type": "markdown",
   "metadata": {
    "collapsed": true
   },
   "source": [
    "## 4. 内网版记事本——浏览器版（web版）"
   ]
  },
  {
   "cell_type": "markdown",
   "metadata": {},
   "source": [
    "### 4.1 先复习bottle"
   ]
  },
  {
   "cell_type": "code",
   "execution_count": 1,
   "metadata": {
    "collapsed": true
   },
   "outputs": [],
   "source": [
    "import bottle"
   ]
  },
  {
   "cell_type": "code",
   "execution_count": 24,
   "metadata": {
    "collapsed": false
   },
   "outputs": [
    {
     "name": "stderr",
     "output_type": "stream",
     "text": [
      "/Users/caimeijuan/anaconda/envs/python35/lib/python3.7/site-packages/jupyter_client/jsonutil.py:67: DeprecationWarning: Interpreting naive datetime as local 2019-05-10 12:04:54.344372. Please add timezone info to timestamps.\n",
      "  new_obj[k] = extract_dates(v)\n",
      "Bottle v0.12.16 server starting up (using WSGIRefServer())...\n",
      "Listening on http://localhost:8080/\n",
      "Hit Ctrl-C to quit.\n",
      "\n"
     ]
    }
   ],
   "source": [
    "from bottle import route\n",
    "\n",
    "if __name__ == '__main__':\n",
    "    main()\n",
    "\n",
    "@route('/')\n",
    "def application(environ, start_response):\n",
    "    start_response('200 OK', [('Content-Type', 'text/html')])\n",
    "    return ['<h1> Hello world!</h1>']\n",
    "    \n",
    "def main():   \n",
    "    bottle.run(host='localhost', port=8080, app=application)"
   ]
  },
  {
   "cell_type": "code",
   "execution_count": 6,
   "metadata": {
    "collapsed": false,
    "scrolled": true
   },
   "outputs": [
    {
     "name": "stderr",
     "output_type": "stream",
     "text": [
      "/Users/caimeijuan/anaconda/envs/python35/lib/python3.7/site-packages/jupyter_client/jsonutil.py:67: DeprecationWarning: Interpreting naive datetime as local 2019-05-10 12:14:37.799671. Please add timezone info to timestamps.\n",
      "  new_obj[k] = extract_dates(v)\n",
      "Bottle v0.12.16 server starting up (using WSGIRefServer())...\n",
      "Listening on http://localhost:8000/\n",
      "Hit Ctrl-C to quit.\n",
      "\n",
      "127.0.0.1 - - [10/May/2019 12:14:48] \"GET /hello HTTP/1.1\" 200 12\n",
      "/Users/caimeijuan/anaconda/envs/python35/lib/python3.7/site-packages/bottle.py:3131: ResourceWarning: unclosed <socket.socket fd=69, family=AddressFamily.AF_INET, type=SocketKind.SOCK_STREAM, proto=0, laddr=('127.0.0.1', 8000)>\n",
      "  pass\n",
      "ResourceWarning: Enable tracemalloc to get the object allocation traceback\n"
     ]
    }
   ],
   "source": [
    "from bottle import run\n",
    "import bottle\n",
    "\n",
    "@bottle.route('/hello')\n",
    "def hello():\n",
    "    return \"Hello World!\"\n",
    "\n",
    "run(host='localhost', port=8000, debug=True)"
   ]
  },
  {
   "cell_type": "code",
   "execution_count": 27,
   "metadata": {
    "collapsed": false
   },
   "outputs": [
    {
     "name": "stderr",
     "output_type": "stream",
     "text": [
      "/Users/caimeijuan/anaconda/envs/python35/lib/python3.7/site-packages/jupyter_client/jsonutil.py:67: DeprecationWarning: Interpreting naive datetime as local 2019-05-10 15:22:06.991513. Please add timezone info to timestamps.\n",
      "  new_obj[k] = extract_dates(v)\n",
      "Bottle v0.12.16 server starting up (using WSGIRefServer())...\n",
      "Listening on http://localhost:8800/\n",
      "Hit Ctrl-C to quit.\n",
      "\n",
      "127.0.0.1 - - [10/May/2019 15:22:17] \"GET / HTTP/1.1\" 404 720\n",
      "127.0.0.1 - - [10/May/2019 15:22:24] \"GET /hello HTTP/1.1\" 200 12\n"
     ]
    }
   ],
   "source": [
    "from bottle import Bottle, run\n",
    "\n",
    "app = Bottle()\n",
    "\n",
    "@app.route('/hello')\n",
    "def hello():\n",
    "    return 'Hello world!'\n",
    "\n",
    "run(app, host='localhost', port=8800)"
   ]
  },
  {
   "cell_type": "code",
   "execution_count": 11,
   "metadata": {
    "collapsed": false
   },
   "outputs": [
    {
     "name": "stderr",
     "output_type": "stream",
     "text": [
      "/Users/caimeijuan/anaconda/envs/python35/lib/python3.7/site-packages/jupyter_client/jsonutil.py:67: DeprecationWarning: Interpreting naive datetime as local 2019-05-10 12:26:27.102360. Please add timezone info to timestamps.\n",
      "  new_obj[k] = extract_dates(v)\n",
      "/Users/caimeijuan/anaconda/envs/python35/lib/python3.7/site-packages/bottle.py:380: RuntimeWarning: Route <GET /hello/<name>> overwrites a previously defined route\n",
      "  warnings.warn(msg % (method, rule), RuntimeWarning)\n",
      "Bottle v0.12.16 server starting up (using WSGIRefServer())...\n",
      "Listening on http://localhost:8000/\n",
      "Hit Ctrl-C to quit.\n",
      "\n",
      "127.0.0.1 - - [10/May/2019 12:26:30] \"GET / HTTP/1.1\" 200 28\n",
      "127.0.0.1 - - [10/May/2019 12:26:37] \"GET /hello HTTP/1.1\" 200 12\n",
      "127.0.0.1 - - [10/May/2019 12:27:18] \"GET /hello/stranger HTTP/1.1\" 200 28\n",
      "127.0.0.1 - - [10/May/2019 12:27:33] \"GET /hello/caimeijuan HTTP/1.1\" 200 30\n",
      "127.0.0.1 - - [10/May/2019 12:27:43] \"GET /hello/ahcai HTTP/1.1\" 200 25\n",
      "/Users/caimeijuan/anaconda/envs/python35/lib/python3.7/site-packages/bottle.py:3131: ResourceWarning: unclosed <socket.socket fd=68, family=AddressFamily.AF_INET, type=SocketKind.SOCK_STREAM, proto=0, laddr=('127.0.0.1', 8000)>\n",
      "  pass\n",
      "ResourceWarning: Enable tracemalloc to get the object allocation traceback\n"
     ]
    }
   ],
   "source": [
    "from bottle import route, template, run\n",
    "\n",
    "@route('/')\n",
    "@route('/hello/<name>')\n",
    "def hello(name='stranger'):\n",
    "    return template('Hello, {{name}}. How are you', name=name)\n",
    "\n",
    "run(host='localhost', port=8000, debug=True)"
   ]
  },
  {
   "cell_type": "markdown",
   "metadata": {},
   "source": [
    "插入一段装饰器，详细见notebook"
   ]
  },
  {
   "cell_type": "code",
   "execution_count": 26,
   "metadata": {
    "collapsed": false,
    "scrolled": true
   },
   "outputs": [
    {
     "name": "stderr",
     "output_type": "stream",
     "text": [
      "/Users/caimeijuan/anaconda/envs/python35/lib/python3.7/site-packages/jupyter_client/jsonutil.py:67: DeprecationWarning: Interpreting naive datetime as local 2019-05-10 14:16:58.758376. Please add timezone info to timestamps.\n",
      "  new_obj[k] = extract_dates(v)\n",
      "WARNING:root:foo is running\n"
     ]
    },
    {
     "name": "stdout",
     "output_type": "stream",
     "text": [
      "2019-05-10 14:16:58\n",
      "I am ahcai\n"
     ]
    }
   ],
   "source": [
    "import logging, time\n",
    "def use_logging(level):\n",
    "    def decorator(func):\n",
    "        def wrapper(*args, **kwargs):\n",
    "            if level == \"warn\":\n",
    "                logging.warning(\"%s is running\" % func.__name__)\n",
    "                print(time.strftime('%Y-%m-%d %H:%M:%S'))\n",
    "            elif level == \"info\":\n",
    "                logging.info(\"%s is running\" % func.__name__)\n",
    "                print(time.strftime('%Y-%m-%d %H:%M:%S'))\n",
    "            return func(*args, **kwargs)\n",
    "        return wrapper\n",
    "    return decorator\n",
    "\n",
    "@use_logging(level=\"warn\")\n",
    "def foo(name='foo'):\n",
    "    print(\"I am %s\" % name)\n",
    "    \n",
    "foo('ahcai')"
   ]
  },
  {
   "cell_type": "code",
   "execution_count": 35,
   "metadata": {
    "collapsed": false
   },
   "outputs": [
    {
     "name": "stderr",
     "output_type": "stream",
     "text": [
      "/Users/caimeijuan/anaconda/envs/python35/lib/python3.7/site-packages/jupyter_client/jsonutil.py:67: DeprecationWarning: Interpreting naive datetime as local 2019-05-10 15:38:23.847537. Please add timezone info to timestamps.\n",
      "  new_obj[k] = extract_dates(v)\n"
     ]
    },
    {
     "data": {
      "text/plain": [
       "'Hello world'"
      ]
     },
     "execution_count": 35,
     "metadata": {},
     "output_type": "execute_result"
    }
   ],
   "source": [
    "from bottle import template\n",
    "\n",
    "template('I am a {{state}} woman. ', state='Chinese')\n",
    "template('Hello {{name if name else \"world\"}}', name=None)"
   ]
  },
  {
   "cell_type": "code",
   "execution_count": 40,
   "metadata": {
    "collapsed": false
   },
   "outputs": [
    {
     "name": "stdout",
     "output_type": "stream",
     "text": [
      "I am a Chinese woman. \n",
      "I am a English woman. \n",
      "I am a American woman. \n",
      "I am a Russian woman. \n",
      "I am a French woman. \n"
     ]
    },
    {
     "name": "stderr",
     "output_type": "stream",
     "text": [
      "/Users/caimeijuan/anaconda/envs/python35/lib/python3.7/site-packages/jupyter_client/jsonutil.py:67: DeprecationWarning: Interpreting naive datetime as local 2019-05-10 15:54:12.290430. Please add timezone info to timestamps.\n",
      "  new_obj[k] = extract_dates(v)\n"
     ]
    }
   ],
   "source": [
    "from bottle import template\n",
    "# 我压根不知道template干啥用的，所以瞎写这个\n",
    "\n",
    "def state(state):\n",
    "    return template('I am a {{state}} woman. ', state=state)\n",
    "states = ['Chinese', 'English', 'American', 'Russian', 'French']\n",
    "for i in range(5):\n",
    "    print(state(states[i]))"
   ]
  },
  {
   "cell_type": "code",
   "execution_count": 45,
   "metadata": {
    "collapsed": false
   },
   "outputs": [
    {
     "name": "stderr",
     "output_type": "stream",
     "text": [
      "/Users/caimeijuan/anaconda/envs/python35/lib/python3.7/site-packages/jupyter_client/jsonutil.py:67: DeprecationWarning: Interpreting naive datetime as local 2019-05-10 16:20:27.014569. Please add timezone info to timestamps.\n",
      "  new_obj[k] = extract_dates(v)\n",
      "/Users/caimeijuan/anaconda/envs/python35/lib/python3.7/site-packages/bottle.py:380: RuntimeWarning: Route <GET /object/<id:int>> overwrites a previously defined route\n",
      "  warnings.warn(msg % (method, rule), RuntimeWarning)\n",
      "Bottle v0.12.16 server starting up (using WSGIRefServer())...\n",
      "Listening on http://localhost:8880/\n",
      "Hit Ctrl-C to quit.\n",
      "\n",
      "127.0.0.1 - - [10/May/2019 16:20:29] \"GET / HTTP/1.1\" 200 28\n",
      "127.0.0.1 - - [10/May/2019 16:20:36] \"GET /object/2 HTTP/1.1\" 200 10\n",
      "127.0.0.1 - - [10/May/2019 16:20:40] \"GET /object/2int HTTP/1.1\" 404 742\n"
     ]
    }
   ],
   "source": [
    "from bottle import route, run\n",
    "\n",
    "@route('/object/<id:int>')\n",
    "def callback(id):\n",
    "    assert isinstance(id, int)\n",
    "    return template('{{id}} is {{isinstance(id, int)}} ', id=id)\n",
    "run(host='localhost', port=8080, debug=True)"
   ]
  },
  {
   "cell_type": "code",
   "execution_count": 47,
   "metadata": {
    "collapsed": false
   },
   "outputs": [
    {
     "name": "stderr",
     "output_type": "stream",
     "text": [
      "/Users/caimeijuan/anaconda/envs/python35/lib/python3.7/site-packages/jupyter_client/jsonutil.py:67: DeprecationWarning: Interpreting naive datetime as local 2019-05-10 16:25:12.800300. Please add timezone info to timestamps.\n",
      "  new_obj[k] = extract_dates(v)\n",
      "/Users/caimeijuan/anaconda/envs/python35/lib/python3.7/site-packages/bottle.py:380: RuntimeWarning: Route <GET /show/<name:re:[a-z]+>> overwrites a previously defined route\n",
      "  warnings.warn(msg % (method, rule), RuntimeWarning)\n",
      "Bottle v0.12.16 server starting up (using WSGIRefServer())...\n",
      "Listening on http://localhost:8008/\n",
      "Hit Ctrl-C to quit.\n",
      "\n",
      "127.0.0.1 - - [10/May/2019 16:25:21] \"GET / HTTP/1.1\" 200 28\n",
      "127.0.0.1 - - [10/May/2019 16:25:30] \"GET /show/name HTTP/1.1\" 200 0\n",
      "127.0.0.1 - - [10/May/2019 16:25:36] \"GET /show/123 HTTP/1.1\" 404 736\n"
     ]
    }
   ],
   "source": [
    "from bottle import route, run\n",
    "\n",
    "@route('/show/<name:re:[a-z]+>')\n",
    "def callback(name):\n",
    "    assert name.isalpha()\n",
    "run(host='localhost', port=8008, debug=True)"
   ]
  },
  {
   "cell_type": "markdown",
   "metadata": {},
   "source": [
    "使用re都不需要import？？？"
   ]
  },
  {
   "cell_type": "markdown",
   "metadata": {},
   "source": [
    "### 4.2 一个简单的登录验证界面"
   ]
  },
  {
   "cell_type": "code",
   "execution_count": 51,
   "metadata": {
    "collapsed": false
   },
   "outputs": [
    {
     "name": "stderr",
     "output_type": "stream",
     "text": [
      "/Users/caimeijuan/anaconda/envs/python35/lib/python3.7/site-packages/jupyter_client/jsonutil.py:67: DeprecationWarning: Interpreting naive datetime as local 2019-05-10 16:42:57.709357. Please add timezone info to timestamps.\n",
      "  new_obj[k] = extract_dates(v)\n",
      "Bottle v0.12.16 server starting up (using WSGIRefServer())...\n",
      "Listening on http://localhost:8000/\n",
      "Hit Ctrl-C to quit.\n",
      "\n",
      "127.0.0.1 - - [10/May/2019 16:43:04] \"GET / HTTP/1.1\" 200 28\n",
      "127.0.0.1 - - [10/May/2019 16:43:09] \"GET /login HTTP/1.1\" 200 232\n",
      "127.0.0.1 - - [10/May/2019 16:43:18] \"POST /login HTTP/1.1\" 200 42\n",
      "127.0.0.1 - - [10/May/2019 16:43:28] \"POST /login HTTP/1.1\" 200 42\n",
      "127.0.0.1 - - [10/May/2019 16:43:30] \"GET /login HTTP/1.1\" 200 232\n",
      "127.0.0.1 - - [10/May/2019 16:43:34] \"POST /login HTTP/1.1\" 200 20\n",
      "/Users/caimeijuan/anaconda/envs/python35/lib/python3.7/site-packages/bottle.py:3131: ResourceWarning: unclosed <socket.socket fd=63, family=AddressFamily.AF_INET, type=SocketKind.SOCK_STREAM, proto=0, laddr=('127.0.0.1', 8000)>\n",
      "  pass\n",
      "ResourceWarning: Enable tracemalloc to get the object allocation traceback\n"
     ]
    }
   ],
   "source": [
    "from bottle import get, post, request, run\n",
    "\n",
    "@get('/login')\n",
    "def login():\n",
    "    return '''\n",
    "    <form action=\"/login\" method=\"post\">\n",
    "            Username: <input name=\"username\" type=\"text\" />\n",
    "            Password: <input name=\"password\" type=\"password\" />\n",
    "            <input value=\"Login\" type=\"submit\" />\n",
    "    </form>\n",
    "    '''\n",
    "\n",
    "@post('/login')\n",
    "def do_login():\n",
    "    username = request.forms.get('username')\n",
    "    password = request.forms.get('password')\n",
    "    if check_login(username, password):\n",
    "        return \"<p>Your login information was correct.</p>\"\n",
    "    else:\n",
    "        return \"<p>Login failed.</p>\"\n",
    "    \n",
    "def check_login(username, password):\n",
    "    if username == 'ahcai' and password == '123456':\n",
    "        return True\n",
    "\n",
    "run(host='localhost', port=8000, debug=True)"
   ]
  },
  {
   "cell_type": "code",
   "execution_count": 60,
   "metadata": {
    "collapsed": false
   },
   "outputs": [
    {
     "name": "stderr",
     "output_type": "stream",
     "text": [
      "/Users/caimeijuan/anaconda/envs/python35/lib/python3.7/site-packages/jupyter_client/jsonutil.py:67: DeprecationWarning: Interpreting naive datetime as local 2019-05-10 17:12:21.193839. Please add timezone info to timestamps.\n",
      "  new_obj[k] = extract_dates(v)\n",
      "/Users/caimeijuan/anaconda/envs/python35/lib/python3.7/site-packages/bottle.py:380: RuntimeWarning: Route <GET /hello/<name>> overwrites a previously defined route\n",
      "  warnings.warn(msg % (method, rule), RuntimeWarning)\n",
      "Bottle v0.12.16 server starting up (using WSGIRefServer())...\n",
      "Listening on http://localhost:8080/\n",
      "Hit Ctrl-C to quit.\n",
      "\n",
      "127.0.0.1 - - [10/May/2019 17:12:29] \"GET / HTTP/1.1\" 200 28\n",
      "127.0.0.1 - - [10/May/2019 17:12:37] \"GET /hello HTTP/1.1\" 200 136\n",
      "127.0.0.1 - - [10/May/2019 17:12:45] \"GET /hello/ahc HTTP/1.1\" 200 134\n",
      "127.0.0.1 - - [10/May/2019 17:12:51] \"GET /hello/cai HTTP/1.1\" 200 134\n",
      "/Users/caimeijuan/anaconda/envs/python35/lib/python3.7/site-packages/bottle.py:3131: ResourceWarning: unclosed <socket.socket fd=69, family=AddressFamily.AF_INET, type=SocketKind.SOCK_STREAM, proto=0, laddr=('127.0.0.1', 8080)>\n",
      "  pass\n",
      "ResourceWarning: Enable tracemalloc to get the object allocation traceback\n"
     ]
    }
   ],
   "source": [
    "from bottle import route, run\n",
    "\n",
    "@route('/hello')\n",
    "@route('/hello/<name>')\n",
    "def hello(name='world'):\n",
    "    return template('hello_template.tpl', name=name)\n",
    "run(host='localhost', port=8080, debug=True)"
   ]
  },
  {
   "cell_type": "markdown",
   "metadata": {},
   "source": [
    "500错误提示：  \n",
    "\n",
    "```\n",
    "Sorry, the requested URL 'http://localhost:8000/hello/ahcai' caused an error:\n",
    "\n",
    "Template 'hello_template.tpl' not found.\n",
    "```\n",
    "\n",
    "造了一个hello_template.tpl文件放在同目录下，运行成功了。  \n",
    "\n",
    "所以模版文件就是一堆写好的页面，运行时放在同目录下就行了。有点印象了。  "
   ]
  },
  {
   "cell_type": "markdown",
   "metadata": {
    "collapsed": true
   },
   "source": [
    "### 4.3 正式的bottle内网版程序"
   ]
  },
  {
   "cell_type": "code",
   "execution_count": 1,
   "metadata": {
    "collapsed": false
   },
   "outputs": [
    {
     "ename": "SystemExit",
     "evalue": "1",
     "output_type": "error",
     "traceback": [
      "An exception has occurred, use %tb to see the full traceback.\n",
      "\u001b[0;31mSystemExit\u001b[0m\u001b[0;31m:\u001b[0m 1\n"
     ]
    },
    {
     "name": "stderr",
     "output_type": "stream",
     "text": [
      "/Users/caimeijuan/anaconda/envs/python35/lib/python3.7/site-packages/IPython/core/interactiveshell.py:3299: UserWarning: To exit: use 'exit', 'quit', or Ctrl-D.\n",
      "  warn(\"To exit: use 'exit', 'quit', or Ctrl-D.\", stacklevel=1)\n"
     ]
    }
   ],
   "source": [
    "# 服务端程序\n",
    "# _*_coding:utf-8_*_\n",
    "import socket\n",
    "import time\n",
    "from bottle import route, post, run, template, request\n",
    "import os\n",
    "\n",
    "\n",
    "def main():\n",
    "    global HOST, PORT\n",
    "    HOST = '127.0.0.1'\n",
    "    PORT1 = 65429\n",
    "    PORT2 = 65430\n",
    "    run(host=HOST, port=PORT1, debug=True, reloader=True)\n",
    "    with socket.socket(socket.AF_INET, socket.SOCK_STREAM) as s:\n",
    "        s.bind((HOST, PORT2))\n",
    "        s.listen()\n",
    "        print('Waiting for data...')\n",
    "        conn, addr = s.accept()\n",
    "        with conn:\n",
    "            while True:\n",
    "                data = conn.recv(1024)\n",
    "                if not data:\n",
    "                    # 如果没有这句话控制，一旦客户端退出，它就会陷入死循环.\n",
    "                    # if sdata == 'quit'并不能拯救它死循环命运\n",
    "                    break\n",
    "                conn.sendall(data)\n",
    "                print('%s: From %s receive: %s \\n' % (time.strftime('%Y/%m/%d %H:%M:%S'), str(addr), data.decode('utf-8')))\n",
    "\n",
    "\n",
    "@route('/')\n",
    "def index():\n",
    "    return template('index', savetxt=False)\n",
    "\n",
    "\n",
    "@post('/', method='POST')\n",
    "def save():\n",
    "    # newline = request.POST.decode('utf-8').get('record')  # 先decode再get，中文无碍\n",
    "    newline = request.forms.decode('utf-8').get('record')  # 先decode再get，中文无碍\n",
    "    txt = open(\"tempfile.txt\", 'a')\n",
    "    txt.write(time.strftime('%Y/%m/%d %H:%M:%S') + \"\\n\")\n",
    "    txt.write(newline + \"\\n\" + \"\\n\")\n",
    "    txt.close()\n",
    "    return template('index', savetxt=True)\n",
    "\n",
    "\n",
    "@route('/history')\n",
    "def printhistory():\n",
    "    if os.path.exists(\"tempfile.txt\"):\n",
    "        txt = open(\"tempfile.txt\")\n",
    "        notelist = txt.readlines()\n",
    "        return template('history', history=notelist)\n",
    "\n",
    "\n",
    "def save_new(newline):\n",
    "    txt = open(\"tempfile.txt\", 'a')\n",
    "    txt.write(time.strftime('%Y/%m/%d %H:%M:%S') + \"\\n\")\n",
    "    txt.write(newline + \"\\n\" + \"\\n\")\n",
    "    txt.close()\n",
    "\n",
    "\n",
    "def print_history():\n",
    "    if os.path.exists(\"tempfile.txt\"):\n",
    "        txt = open(\"tempfile.txt\")\n",
    "        notelist = txt.readlines()\n",
    "        print('历史记录：' + '\\n')\n",
    "        for i in notelist:\n",
    "            print(i)\n",
    "\n",
    "\n",
    "if __name__ == '__main__':\n",
    "    main()\n"
   ]
  },
  {
   "cell_type": "markdown",
   "metadata": {},
   "source": [
    "客户端程序基本不变"
   ]
  },
  {
   "cell_type": "markdown",
   "metadata": {
    "collapsed": false
   },
   "source": [
    "## 5 部署于SAE上的bottle程序"
   ]
  },
  {
   "cell_type": "code",
   "execution_count": null,
   "metadata": {
    "collapsed": true
   },
   "outputs": [],
   "source": [
    "# _*_coding:utf-8_*_\n",
    "import time\n",
    "import os\n",
    "from bottle import run, route, post, template, request\n",
    "\n",
    "\n",
    "@route('/')\n",
    "def index():\n",
    "    return template('index', savetxt=False)\n",
    "\n",
    "\n",
    "@post('/', method='POST')\n",
    "def save():\n",
    "    newline = request.forms.decode('utf-8').get('record')\n",
    "    txt = open(\"tempfile.txt\", 'a')\n",
    "    txt.write(time.strftime('%Y/%m/%d %H:%M:%S') + \"\\n\")\n",
    "    txt.write(newline + \"\\n\" + \"\\n\")\n",
    "    txt.close()\n",
    "    return template('index', savetxt=True)\n",
    "\n",
    "\n",
    "@route('/history')\n",
    "def printhistory():\n",
    "    if os.path.exists(\"tempfile.txt\"):\n",
    "        txt = open(\"tempfile.txt\")\n",
    "        notelist = txt.readlines()\n",
    "    else:\n",
    "        notelist = []\n",
    "    return template('history', history=notelist)\n",
    "\n",
    "\n",
    "if __name__ == '__main__':\n",
    "    global HOST, PORT\n",
    "    HOST = '0.0.0.0'\n",
    "    PORT = 5050\n",
    "    run(host=HOST, port=PORT, debug=True, reloader=True)\n"
   ]
  },
  {
   "cell_type": "markdown",
   "metadata": {},
   "source": [
    "比较惊讶的：  \n",
    "\n",
    "1. bottle可以直接放上去，不用其他程序帮忙。\n",
    "2. 地址要改成sae要求的“0.0.0.0:5050”\n",
    "3. sae上可以直接用os建立文本文件来存储，居然不需要数据库也能存储。\n",
    "4. 每次重新上传程序，就会清空之前的历史文件，卸载我去掉的依赖库。\n",
    "5. 有几个配套文件设置，记录一下：\n",
    "\n",
    "```\n",
    "# Procfile\n",
    "-------------------------------------------------\n",
    "web: python main.py runserver 0.0.0.0:5050\n",
    "\n",
    "# requirements.txt\n",
    "-------------------------------------------------\n",
    "bottle\n",
    "\n",
    "# runtime.txt\n",
    "-------------------------------------------------\n",
    "python-3.7.2\n",
    "\n",
    "``` "
   ]
  },
  {
   "cell_type": "code",
   "execution_count": 1,
   "metadata": {
    "collapsed": true
   },
   "outputs": [],
   "source": [
    "import sae"
   ]
  },
  {
   "cell_type": "code",
   "execution_count": 8,
   "metadata": {
    "collapsed": false
   },
   "outputs": [
    {
     "ename": "ModuleNotFoundError",
     "evalue": "No module named 'sae.kvdb'",
     "output_type": "error",
     "traceback": [
      "\u001b[0;31m---------------------------------------------------------------------------\u001b[0m",
      "\u001b[0;31mModuleNotFoundError\u001b[0m                       Traceback (most recent call last)",
      "\u001b[0;32m<ipython-input-8-90303ea60be8>\u001b[0m in \u001b[0;36m<module>\u001b[0;34m\u001b[0m\n\u001b[0;32m----> 1\u001b[0;31m \u001b[0;32mimport\u001b[0m \u001b[0msae\u001b[0m\u001b[0;34m.\u001b[0m\u001b[0mkvdb\u001b[0m\u001b[0;34m\u001b[0m\u001b[0;34m\u001b[0m\u001b[0m\n\u001b[0m",
      "\u001b[0;31mModuleNotFoundError\u001b[0m: No module named 'sae.kvdb'"
     ]
    }
   ],
   "source": [
    "import sae.kvdb"
   ]
  },
  {
   "cell_type": "code",
   "execution_count": null,
   "metadata": {
    "collapsed": true
   },
   "outputs": [],
   "source": []
  }
 ],
 "metadata": {
  "kernelspec": {
   "display_name": "Python 3",
   "language": "python",
   "name": "python3"
  },
  "language_info": {
   "codemirror_mode": {
    "name": "ipython",
    "version": 3
   },
   "file_extension": ".py",
   "mimetype": "text/x-python",
   "name": "python",
   "nbconvert_exporter": "python",
   "pygments_lexer": "ipython3",
   "version": "3.7.2"
  }
 },
 "nbformat": 4,
 "nbformat_minor": 0
}
