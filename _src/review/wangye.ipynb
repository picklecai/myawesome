{
 "cells": [
  {
   "cell_type": "code",
   "execution_count": 2,
   "metadata": {
    "collapsed": false
   },
   "outputs": [],
   "source": [
    "from bs4 import BeautifulSoup\n",
    "import requests\n",
    "import lxml"
   ]
  },
  {
   "cell_type": "code",
   "execution_count": 8,
   "metadata": {
    "collapsed": true
   },
   "outputs": [],
   "source": [
    "# _*_ coding: utf-8 _*_"
   ]
  },
  {
   "cell_type": "code",
   "execution_count": 3,
   "metadata": {
    "collapsed": true
   },
   "outputs": [],
   "source": [
    "url = 'http://www.engine3d.com/'\n",
    "wy_data = requests.get(url)"
   ]
  },
  {
   "cell_type": "code",
   "execution_count": 6,
   "metadata": {
    "collapsed": false
   },
   "outputs": [],
   "source": [
    "soup = BeautifulSoup(wy_data.text,'lxml')"
   ]
  },
  {
   "cell_type": "code",
   "execution_count": 14,
   "metadata": {
    "collapsed": false
   },
   "outputs": [],
   "source": [
    "title1 = soup.select('body > div.container > div > div > div:nth-child(1)')"
   ]
  },
  {
   "cell_type": "code",
   "execution_count": 15,
   "metadata": {
    "collapsed": false
   },
   "outputs": [
    {
     "name": "stdout",
     "output_type": "stream",
     "text": [
      "[<div class=\"col-md-4\">\n",
      "<h5>ä¸­ç§å¾æ°ç®ä»</h5><span class=\"text-content\">\n",
      "<a href=\"about.html\"> <p class=\"card-description text-content14\">  èå·ä¸­ç§å¾æ°ç½ç»ç§ææéå",
      "¬å¸æ¯å½å",
      "ä¼ç§çä¸ç»´GISè½¯ä»¶ä¸æå¡æä¾åï¼å¨ä¸ç»´GISè¡ä¸æ·±èè¿10å¹´ãå",
      "¬å¸åæä¸æ³¨ãå¡å®ãå¼æ¾ãåæ°çæ ¸å¿ä»·å¼è§ï¼ä¸æ³¨äºå¾ææå½±å®æ¯ä¸ç»´åºç¨ï¼ä»¥ææ¯åæ°ä¸ºæ ¸å¿ç«äºåï¼å·²æ4é¡¹åæä¸å©å20å¤é¡¹è½¯ä»¶èä½æãæä»¬æ¥æWish3DåLocaSpace ä¸¤å¤§äº§åç³»ï¼è´åäºä¸ºä¼ä¸\n",
      "           </p></a></span>\n",
      "</div>]\n"
     ]
    }
   ],
   "source": [
    "print(title1)"
   ]
  },
  {
   "cell_type": "code",
   "execution_count": null,
   "metadata": {
    "collapsed": true
   },
   "outputs": [],
   "source": []
  }
 ],
 "metadata": {
  "kernelspec": {
   "display_name": "Python 3",
   "language": "python",
   "name": "python3"
  },
  "language_info": {
   "codemirror_mode": {
    "name": "ipython",
    "version": 3
   },
   "file_extension": ".py",
   "mimetype": "text/x-python",
   "name": "python",
   "nbconvert_exporter": "python",
   "pygments_lexer": "ipython3",
   "version": "3.7.2"
  }
 },
 "nbformat": 4,
 "nbformat_minor": 0
}
