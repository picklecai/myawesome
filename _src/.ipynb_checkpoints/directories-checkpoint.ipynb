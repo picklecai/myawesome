{
 "cells": [
  {
   "cell_type": "code",
   "execution_count": 12,
   "metadata": {},
   "outputs": [],
   "source": [
    "import os\n",
    "\n",
    "path = \"E:\"\n",
    "\n",
    "g = os.walk(path)\n",
    "\n",
    "f = open('d:/test.txt','w')\n",
    "\n",
    "for path,dir_list,file_list in g:  \n",
    "    for file_name in file_list:\n",
    "        f.write('\\n')\n",
    "        f.write(os.path.join(path, file_name.replace(u'\\xa0', u'')))\n",
    "f.close()"
   ]
  },
  {
   "cell_type": "markdown",
   "metadata": {},
   "source": [
    "# 指定规律的文件夹下的所有文件，都移动到另一个指定文件夹中"
   ]
  },
  {
   "cell_type": "code",
   "execution_count": 40,
   "metadata": {},
   "outputs": [],
   "source": [
    "import os, shutil\n",
    "\n",
    "#原始目录\n",
    "path = \"F:\\betadir\"\n",
    "newpath = os.path.join(path, 'data')\n",
    "\n",
    "# 取得目标文件夹\n",
    "os.chdir(path)\n",
    "pathlist = []\n",
    "for each in os.listdir(path):\n",
    "    if each[-3:] == \"txt\":\n",
    "        pathlist.append(os.path.join(path,each))\n",
    "\n",
    "# 移动目标文件夹    \n",
    "for dirname in pathlist:\n",
    "    shutil.move(os.path.join(dirname,os.listdir(dirname)[0]), newpath)"
   ]
  },
  {
   "cell_type": "code",
   "execution_count": null,
   "metadata": {},
   "outputs": [],
   "source": []
  },
  {
   "cell_type": "code",
   "execution_count": null,
   "metadata": {},
   "outputs": [],
   "source": []
  }
 ],
 "metadata": {
  "kernelspec": {
   "display_name": "Python 3",
   "language": "python",
   "name": "python3"
  },
  "language_info": {
   "codemirror_mode": {
    "name": "ipython",
    "version": 3
   },
   "file_extension": ".py",
   "mimetype": "text/x-python",
   "name": "python",
   "nbconvert_exporter": "python",
   "pygments_lexer": "ipython3",
   "version": "3.7.6"
  }
 },
 "nbformat": 4,
 "nbformat_minor": 4
}
