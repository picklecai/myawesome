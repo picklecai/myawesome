{
 "cells": [
  {
   "cell_type": "markdown",
   "metadata": {},
   "source": [
    "# python编程导论\n",
    "\n",
    "John V. Guttag著，中国工信出版集团 人民邮电出版社，2018年2月第一版\n",
    "\n",
    "基于python3讲计算机科学基础知识"
   ]
  },
  {
   "cell_type": "markdown",
   "metadata": {},
   "source": [
    "## 1. 寻找最大奇数\n",
    "\n",
    "### 1.1 计算三个数中最大的奇数"
   ]
  },
  {
   "cell_type": "markdown",
   "metadata": {},
   "source": [
    "思路：  \n",
    "\n",
    "每个数，先根据是否偶数判断是放弃还是留着比较大小。  \n",
    "所以是2*2*2种可能。写起来比较繁杂，过程中也容易乱，一个不小心就忘了比较到哪里了。  \n",
    "如果有超过3个数字进行比较，时间复杂度会以2的指数级增长。  "
   ]
  },
  {
   "cell_type": "code",
   "execution_count": 3,
   "metadata": {},
   "outputs": [],
   "source": [
    "def max_odd(x,y,z):\n",
    "    if x%2==0:\n",
    "        if y%2==0:\n",
    "            if z%2==0:\n",
    "                print('No odd.')\n",
    "                return None\n",
    "            else:\n",
    "                return z\n",
    "        elif y%2!=0 and z%2==0:\n",
    "            return y\n",
    "        else:\n",
    "            if y>= z:\n",
    "                return y\n",
    "            else:\n",
    "                return z\n",
    "    else:\n",
    "        if y%2==0 and z%2==0:\n",
    "            return x\n",
    "        elif y%2==0 and z%2!=0:\n",
    "            if x>=z:\n",
    "                return x\n",
    "            else:\n",
    "                return z\n",
    "        elif y%2!=0 and z%2==0:\n",
    "            if x>=y:\n",
    "                return x\n",
    "            else:\n",
    "                return y\n",
    "        else:\n",
    "            if x<=y and y<z:\n",
    "                return z\n",
    "            elif x<=y and y>=z:\n",
    "                return y\n",
    "            elif x>y and y>=z:\n",
    "                return x\n",
    "            elif x>y and y<z:\n",
    "                if x>=z:\n",
    "                    return x\n",
    "                else:\n",
    "                    return z"
   ]
  },
  {
   "cell_type": "code",
   "execution_count": 4,
   "metadata": {},
   "outputs": [
    {
     "data": {
      "text/plain": [
       "45"
      ]
     },
     "execution_count": 4,
     "metadata": {},
     "output_type": "execute_result"
    }
   ],
   "source": [
    "max_odd(43,45,43)"
   ]
  },
  {
   "cell_type": "markdown",
   "metadata": {},
   "source": [
    "### 1.2 计算n个数中最大的奇数"
   ]
  },
  {
   "cell_type": "markdown",
   "metadata": {},
   "source": [
    "前面这个计算3个数中最大的奇数，代码太长。\n",
    "\n",
    "思路：  \n",
    "\n",
    "    原比较数列用数组来存储。  \n",
    "    for循环算出是否奇偶之后，奇数仍然存数组。  \n",
    "    最后用max求最大值即可。\n",
    "    \n",
    "比较大小使用了max来简化过程。"
   ]
  },
  {
   "cell_type": "code",
   "execution_count": 2,
   "metadata": {},
   "outputs": [
    {
     "data": {
      "text/plain": [
       "83"
      ]
     },
     "execution_count": 2,
     "metadata": {},
     "output_type": "execute_result"
    }
   ],
   "source": [
    "def max_odd(list1):\n",
    "    list2 = []\n",
    "    for i in range(len(list1)):\n",
    "        if list1[i] % 2 == 1:\n",
    "            list2.append(list1[i])\n",
    "    return max(list2)\n",
    "list1 = [5,83,21]\n",
    "max_odd(list1)"
   ]
  },
  {
   "cell_type": "markdown",
   "metadata": {},
   "source": [
    "思路：  \n",
    "\n",
    "增加了例外处理：  \n",
    "\n",
    "    如果全为偶数的处理情况"
   ]
  },
  {
   "cell_type": "code",
   "execution_count": 6,
   "metadata": {},
   "outputs": [],
   "source": [
    "def odd_max(num_list):\n",
    "    odd_list = []\n",
    "    for i in range(len(num_list)):\n",
    "        if num_list[i]%2!=0:\n",
    "            odd_list.append(num_list[i])\n",
    "    if odd_list == []:\n",
    "        print('No odd.')\n",
    "    else:\n",
    "        return max(odd_list)"
   ]
  },
  {
   "cell_type": "code",
   "execution_count": 7,
   "metadata": {},
   "outputs": [
    {
     "data": {
      "text/plain": [
       "119"
      ]
     },
     "execution_count": 7,
     "metadata": {},
     "output_type": "execute_result"
    }
   ],
   "source": [
    "num_list = [34,22,12,43,43,96,10,57,119,93]\n",
    "odd_max(num_list)"
   ]
  },
  {
   "cell_type": "markdown",
   "metadata": {},
   "source": [
    "哈哈哈！这回只有9行。感觉是真的会写程序了。"
   ]
  },
  {
   "cell_type": "markdown",
   "metadata": {},
   "source": [
    "## 2. 输出指定数量的某字符"
   ]
  },
  {
   "cell_type": "markdown",
   "metadata": {},
   "source": [
    "思路：  \n",
    "\n",
    "    打印字符串本身比较简单。  \n",
    "    只是增加了约束条件：约束打印字符的类型必须是数字或字母，约束重复数量必须是正整数。"
   ]
  },
  {
   "cell_type": "code",
   "execution_count": 3,
   "metadata": {},
   "outputs": [
    {
     "name": "stdout",
     "output_type": "stream",
     "text": [
      "Which letter should I print? r\n",
      "How many times should I print the letter r ? 12\n",
      "rrrrrrrrrrrr\n"
     ]
    }
   ],
   "source": [
    "def x_num(num,s):\n",
    "    to_print = s * num\n",
    "    print(to_print)\n",
    "\n",
    "while True:\n",
    "    '''\n",
    "    如果用户输入的字符不是字母或数字，则需要重新输入。\n",
    "    '''\n",
    "    s = input('Which letter should I print? ')\n",
    "    if s.isalnum():\n",
    "        break    \n",
    "    \n",
    "while True:\n",
    "    '''\n",
    "    如果用户输入的数字不是正整数，则需要重新输入。\n",
    "    '''\n",
    "    n = input('How many times should I print the letter %s ? ' %s)\n",
    "    if n.isdecimal() and int(n)>0:\n",
    "        n = int(n)\n",
    "        break\n",
    "x_num(n,s)"
   ]
  },
  {
   "cell_type": "markdown",
   "metadata": {},
   "source": [
    "思路：  \n",
    "\n",
    "    如果用正则来表达约束，必定简单许多。 \n",
    "    记住`re.match`的语法即可，第一个参数是正则表达式，第二个参数是待匹配字符串"
   ]
  },
  {
   "cell_type": "code",
   "execution_count": 54,
   "metadata": {},
   "outputs": [],
   "source": [
    "import re\n",
    "def x_num(num, s):\n",
    "    if re.match(r'^\\d+$', str(num)) and re.search(r'\\S', s) and num!=0:\n",
    "        print(s*num)\n",
    "    else:\n",
    "        print('参数有误，无法打印！')"
   ]
  },
  {
   "cell_type": "code",
   "execution_count": 55,
   "metadata": {},
   "outputs": [
    {
     "name": "stdout",
     "output_type": "stream",
     "text": [
      "参数有误，无法打印！\n"
     ]
    }
   ],
   "source": [
    "x_num(0, ' ^_^ ')"
   ]
  },
  {
   "cell_type": "markdown",
   "metadata": {},
   "source": [
    "## 3.  整数根\n",
    "\n",
    "### 3.1 计算完全立方数"
   ]
  },
  {
   "cell_type": "code",
   "execution_count": 8,
   "metadata": {
    "collapsed": true
   },
   "outputs": [],
   "source": [
    "def cube_root(x):\n",
    "    c = 0\n",
    "    while c**3<abs(x):\n",
    "        c += 1\n",
    "    if c**3!=abs(x):\n",
    "        print('%d is not cube number.' %x)\n",
    "    else:\n",
    "        if x<0:\n",
    "            c = -c\n",
    "        print('Cube root of %d is %d' %(x,c))"
   ]
  },
  {
   "cell_type": "code",
   "execution_count": 9,
   "metadata": {},
   "outputs": [
    {
     "name": "stdout",
     "output_type": "stream",
     "text": [
      "Cube root of 1957816251 is 1251\n"
     ]
    }
   ],
   "source": [
    "cube_root(1957816251)"
   ]
  },
  {
   "cell_type": "code",
   "execution_count": 56,
   "metadata": {},
   "outputs": [],
   "source": [
    "def is_CubeRoot(x):\n",
    "    c = 0\n",
    "    while c**3<abs(x):\n",
    "        c += 1\n",
    "    if c ** 3 != abs(x):\n",
    "        return False\n",
    "    else:\n",
    "        if x < 0:\n",
    "            c = -c\n",
    "        print('Cube root of %d is %d' %(x,c))\n",
    "        return True"
   ]
  },
  {
   "cell_type": "code",
   "execution_count": 63,
   "metadata": {},
   "outputs": [
    {
     "name": "stdout",
     "output_type": "stream",
     "text": [
      "Cube root of 0 is 0\n",
      "Cube root of 1 is 1\n",
      "Cube root of 8 is 2\n",
      "Cube root of 27 is 3\n",
      "Cube root of 64 is 4\n",
      "Cube root of 125 is 5\n",
      "Cube root of 216 is 6\n",
      "Cube root of 343 is 7\n",
      "Cube root of 512 is 8\n",
      "Cube root of 729 is 9\n"
     ]
    }
   ],
   "source": [
    "for i in range(1000):\n",
    "    is_CubeRoot(i)"
   ]
  },
  {
   "cell_type": "markdown",
   "metadata": {},
   "source": [
    "###  3.2 某整数是否有根"
   ]
  },
  {
   "cell_type": "code",
   "execution_count": 11,
   "metadata": {},
   "outputs": [],
   "source": [
    "def num_root(x):\n",
    "    root_list = []\n",
    "    for i in range(x):\n",
    "        root = 1        \n",
    "        while root<x:\n",
    "            if root**i!=x: \n",
    "                root += 1\n",
    "            else:\n",
    "                root_list.append(root)\n",
    "                print('%d ** %d is %d'%(root, i, x))\n",
    "                break \n",
    "    if root_list == []:\n",
    "        print('No root for %d' %x)"
   ]
  },
  {
   "cell_type": "code",
   "execution_count": 14,
   "metadata": {},
   "outputs": [
    {
     "name": "stdout",
     "output_type": "stream",
     "text": [
      "27 ** 2 is 729\n",
      "9 ** 3 is 729\n",
      "3 ** 6 is 729\n"
     ]
    }
   ],
   "source": [
    "num_root(27**2)"
   ]
  },
  {
   "cell_type": "markdown",
   "metadata": {},
   "source": [
    "## 4. 逗号隔开的数值字符串求和"
   ]
  },
  {
   "cell_type": "code",
   "execution_count": 12,
   "metadata": {
    "collapsed": true
   },
   "outputs": [],
   "source": [
    "def num_sum(s):\n",
    "    num_list = []\n",
    "    i = 0\n",
    "    while i <= len(s):\n",
    "        if ',' in s:\n",
    "            if s[i]!=',':\n",
    "                i = i + 1\n",
    "            else:\n",
    "                num_list.append(float(s[0:i]))\n",
    "                s = (s.replace((s[0:i]),'')).strip(',')\n",
    "                i = 0\n",
    "                continue\n",
    "        else:\n",
    "            num_list.append(float(s))\n",
    "            break\n",
    "    return sum(num_list)"
   ]
  },
  {
   "cell_type": "code",
   "execution_count": 13,
   "metadata": {},
   "outputs": [
    {
     "data": {
      "text/plain": [
       "22.623"
      ]
     },
     "execution_count": 13,
     "metadata": {},
     "output_type": "execute_result"
    }
   ],
   "source": [
    "num_sum('1.23,2.4,3.123,4.34,5.32,6.21')"
   ]
  },
  {
   "cell_type": "markdown",
   "metadata": {},
   "source": [
    "改进，使用列表推导式。"
   ]
  },
  {
   "cell_type": "code",
   "execution_count": 19,
   "metadata": {},
   "outputs": [
    {
     "data": {
      "text/plain": [
       "22.623"
      ]
     },
     "execution_count": 19,
     "metadata": {},
     "output_type": "execute_result"
    }
   ],
   "source": [
    "def strNum(s):\n",
    "    sList = [float(num) for num in s.split(',')]\n",
    "    return sum(sList)\n",
    "strNum('1.23,2.4,3.123,4.34,5.32,6.21')"
   ]
  },
  {
   "cell_type": "markdown",
   "metadata": {},
   "source": [
    "## 5. 求平方根\n",
    "\n",
    "### 5.1 穷举法"
   ]
  },
  {
   "cell_type": "code",
   "execution_count": 14,
   "metadata": {
    "collapsed": true
   },
   "outputs": [],
   "source": [
    "def sqr_root(x):\n",
    "    epsilon = 0.001 \n",
    "    c = 0\n",
    "    i = 0\n",
    "    while abs(c**2-x)>epsilon and c<x:\n",
    "        c = c + epsilon**2\n",
    "        i += 1\n",
    "    print(i)\n",
    "    return c"
   ]
  },
  {
   "cell_type": "code",
   "execution_count": 15,
   "metadata": {},
   "outputs": [
    {
     "name": "stdout",
     "output_type": "stream",
     "text": [
      "3463958\n"
     ]
    },
    {
     "data": {
      "text/plain": [
       "3.4639580001302805"
      ]
     },
     "execution_count": 15,
     "metadata": {},
     "output_type": "execute_result"
    }
   ],
   "source": [
    "sqr_root(12)"
   ]
  },
  {
   "cell_type": "markdown",
   "metadata": {},
   "source": [
    "### 5.2 二分法"
   ]
  },
  {
   "cell_type": "code",
   "execution_count": 16,
   "metadata": {},
   "outputs": [
    {
     "name": "stdout",
     "output_type": "stream",
     "text": [
      "34\n"
     ]
    },
    {
     "data": {
      "text/plain": [
       "351.36306126974523"
      ]
     },
     "execution_count": 16,
     "metadata": {},
     "output_type": "execute_result"
    }
   ],
   "source": [
    "def sqr_root_bisec(x):\n",
    "    epsilon = 0.001 \n",
    "    low = 0\n",
    "    high = x\n",
    "    c = (low+high)/2\n",
    "    i = 0\n",
    "    while abs(c**2-x)>epsilon:\n",
    "        if c**2<=x:\n",
    "            low = c\n",
    "            i += 1\n",
    "        else:\n",
    "            high = c\n",
    "            i += 1\n",
    "        c = (low+high)/2\n",
    "    print(i)\n",
    "    return c\n",
    "sqr_root_bisec(123456)"
   ]
  },
  {
   "cell_type": "markdown",
   "metadata": {},
   "source": [
    "### 5.3 牛顿法"
   ]
  },
  {
   "cell_type": "code",
   "execution_count": 17,
   "metadata": {},
   "outputs": [
    {
     "name": "stdout",
     "output_type": "stream",
     "text": [
      "11\n"
     ]
    },
    {
     "data": {
      "text/plain": [
       "351.3630601485824"
      ]
     },
     "execution_count": 17,
     "metadata": {},
     "output_type": "execute_result"
    }
   ],
   "source": [
    "def sqr_root_newton(x):\n",
    "    epsilon = 0.001\n",
    "    guess = x/2  #这里不除以2的话，会多一次次数\n",
    "    i = 0\n",
    "    while abs(guess**2-x)>epsilon:\n",
    "        guess = guess - (guess**2-x)/(2*guess)\n",
    "        i += 1\n",
    "    print(i)\n",
    "    return guess\n",
    "sqr_root_newton(123456)"
   ]
  },
  {
   "cell_type": "markdown",
   "metadata": {},
   "source": [
    "没想到牛顿的方法比二分法还快！！！"
   ]
  },
  {
   "cell_type": "markdown",
   "metadata": {},
   "source": [
    "### 5.4  也说是牛顿法\n",
    "\n",
    "以下方法的原理（[计算平方根的算法 - Mr.Rico - 博客园](https://www.cnblogs.com/xkfz007/archive/2012/05/15/2502348.html)）\n",
    "\n",
    "牛顿法：  \n",
    "\n",
    "这个非形式化过程可以用如下更形式化的自然语言表示：\n",
    "\n",
    "1. 为了计算数x的平方根，从选择一个任意的猜测值g开始。一种可能就是将g设为x，尽管也可以选择任何其他的正数值。  \n",
    "2. 如果猜测值g足够接近于正确的平方根，算法结束，函数将g作为结果返回。  \n",
    "3. 如果g不够精确，用g和x/g的平均值作为新的猜测值。因为这两个值中的一个小于确切的平方根，另一个则大于确切的平方根，选择平均值会使你得到一个更接近于正确答案的值。  \n",
    "4. 把新的猜测值存入变量g，从第二步开始重复这个过程。  \n",
    "\n",
    "其实不用随机函数也是一样，或者取值x，或者取值x/2"
   ]
  },
  {
   "cell_type": "code",
   "execution_count": 35,
   "metadata": {},
   "outputs": [
    {
     "name": "stdout",
     "output_type": "stream",
     "text": [
      "12\n"
     ]
    },
    {
     "data": {
      "text/plain": [
       "351.36306014858235"
      ]
     },
     "execution_count": 35,
     "metadata": {},
     "output_type": "execute_result"
    }
   ],
   "source": [
    "# import random \n",
    "def square_root(x):\n",
    "    # g = random.randint(1, x)\n",
    "    g = x / 2\n",
    "    i = 0\n",
    "    while True:\n",
    "        if abs(g*g-x) < 0.001:\n",
    "            i += 1\n",
    "            print(i)\n",
    "            return g\n",
    "            break\n",
    "        else:\n",
    "            g = (g+x/g)/2\n",
    "            i += 1     \n",
    "\n",
    "square_root(123456)"
   ]
  },
  {
   "cell_type": "markdown",
   "metadata": {},
   "source": [
    "## 6. 浮点数"
   ]
  },
  {
   "cell_type": "code",
   "execution_count": 37,
   "metadata": {},
   "outputs": [
    {
     "name": "stdout",
     "output_type": "stream",
     "text": [
      "0.9999999999999999\n"
     ]
    }
   ],
   "source": [
    "x = 0.0\n",
    "for i in range(10):\n",
    "    x = x + 0.1\n",
    "print(x)"
   ]
  },
  {
   "cell_type": "markdown",
   "metadata": {
    "collapsed": true
   },
   "source": [
    "## 7. 判断是否包含"
   ]
  },
  {
   "cell_type": "code",
   "execution_count": 19,
   "metadata": {},
   "outputs": [
    {
     "data": {
      "text/plain": [
       "True"
      ]
     },
     "execution_count": 19,
     "metadata": {},
     "output_type": "execute_result"
    }
   ],
   "source": [
    "def isIn(subS, s):\n",
    "    if subS in s:\n",
    "        return True\n",
    "    else:\n",
    "        return False\n",
    "isIn('et', 'wetrt')"
   ]
  },
  {
   "cell_type": "markdown",
   "metadata": {},
   "source": [
    "## 8. 阶乘"
   ]
  },
  {
   "cell_type": "code",
   "execution_count": 39,
   "metadata": {},
   "outputs": [
    {
     "data": {
      "text/plain": [
       "3628800"
      ]
     },
     "execution_count": 39,
     "metadata": {},
     "output_type": "execute_result"
    }
   ],
   "source": [
    "def factI(n):\n",
    "    y = 1\n",
    "    while n>1:\n",
    "        y = y * n\n",
    "        n = n -1\n",
    "    return y\n",
    "factI(10)"
   ]
  },
  {
   "cell_type": "code",
   "execution_count": 38,
   "metadata": {},
   "outputs": [
    {
     "data": {
      "text/plain": [
       "3628800"
      ]
     },
     "execution_count": 38,
     "metadata": {},
     "output_type": "execute_result"
    }
   ],
   "source": [
    "def factR(n):\n",
    "    if n == 1:\n",
    "        return n\n",
    "    else:\n",
    "        return factR(n-1)*n\n",
    "factR(10)"
   ]
  },
  {
   "cell_type": "markdown",
   "metadata": {
    "collapsed": true
   },
   "source": [
    "## 9. 斐波那契数列\n",
    "\n",
    "为什么必提呢？\n",
    "[斐波那契数列为什么那么重要，所有关于数学的书几乎都会提到？ - 知乎](https://www.zhihu.com/question/28062458)\n",
    "\n",
    "> 斐波那契数列是编程书中讲递归必提的，因为它是按照递归定义的。"
   ]
  },
  {
   "cell_type": "markdown",
   "metadata": {},
   "source": [
    "### 9.1 普通递归方法计算"
   ]
  },
  {
   "cell_type": "code",
   "execution_count": 40,
   "metadata": {},
   "outputs": [
    {
     "name": "stdout",
     "output_type": "stream",
     "text": [
      "1 1\n",
      "1 1\n",
      "2 3\n",
      "3 5\n",
      "5 9\n",
      "8 15\n",
      "13 25\n",
      "21 41\n",
      "34 67\n",
      "55 109\n"
     ]
    }
   ],
   "source": [
    "def fab(x):\n",
    "    global numFibCalls\n",
    "    numFibCalls += 1\n",
    "    if x==0 or x==1:\n",
    "        return 1\n",
    "    else:\n",
    "        return fab(x-1)+fab(x-2)\n",
    "for i in range(10):\n",
    "    global numFibCalls\n",
    "    numFibCalls = 0\n",
    "    print(fab(i), end=' ')\n",
    "    print(numFibCalls)"
   ]
  },
  {
   "cell_type": "markdown",
   "metadata": {},
   "source": [
    "### 9.2 快速方法（动态规划法）计算：  \n",
    "\n",
    "也用上面的全局变量计算调用次数，每次都是1。复杂度为O(n)\n",
    "\n",
    "**将第一次调用结果保存下来，下次需要时直接查找，而不是重新计算。这种方法称为备忘录法，是动态规划的核心思想。**"
   ]
  },
  {
   "cell_type": "code",
   "execution_count": 40,
   "metadata": {},
   "outputs": [
    {
     "name": "stdout",
     "output_type": "stream",
     "text": [
      "1 1 2 3 5 8 13 21 34 55 89 144 233 377 610 987 1597 2584 4181 6765 "
     ]
    }
   ],
   "source": [
    "def fab(x, memo = {}):\n",
    "    if x==0 or x==1:\n",
    "        return 1\n",
    "    try:\n",
    "        return memo[x]\n",
    "    except KeyError:\n",
    "        result = fab(x-1, memo) + fab(x-2,memo)\n",
    "        memo[x] = result\n",
    "        return result\n",
    "for i in range(20):\n",
    "    print(fab(i), end=' ')"
   ]
  },
  {
   "cell_type": "markdown",
   "metadata": {},
   "source": [
    "memo完全可以不放在参数里。"
   ]
  },
  {
   "cell_type": "code",
   "execution_count": 5,
   "metadata": {},
   "outputs": [
    {
     "name": "stdout",
     "output_type": "stream",
     "text": [
      "1 1 2 3 5 8 13 21 34 55 89 144 233 377 610 987 1597 2584 4181 6765 "
     ]
    }
   ],
   "source": [
    "def fab(x):\n",
    "    memo = {}\n",
    "    if x==0 or x==1:\n",
    "        return 1\n",
    "    try:\n",
    "        return memo[x]\n",
    "    except KeyError:\n",
    "        result = fab(x-1) + fab(x-2)\n",
    "        memo[x] = result\n",
    "        return result\n",
    "for i in range(20):\n",
    "    print(fab(i), end=' ')"
   ]
  },
  {
   "cell_type": "code",
   "execution_count": 44,
   "metadata": {},
   "outputs": [
    {
     "name": "stdout",
     "output_type": "stream",
     "text": [
      "[1.0,\n",
      " 0.5,\n",
      " 0.6666666666666666,\n",
      " 0.6,\n",
      " 0.625,\n",
      " 0.6153846153846154,\n",
      " 0.6190476190476191,\n",
      " 0.6176470588235294,\n",
      " 0.6181818181818182,\n",
      " 0.6179775280898876,\n",
      " 0.6180555555555556,\n",
      " 0.6180257510729614,\n",
      " 0.6180371352785146,\n",
      " 0.6180327868852459,\n",
      " 0.6180344478216818,\n",
      " 0.6180338134001252,\n",
      " 0.6180340557275542,\n",
      " 0.6180339631667066,\n",
      " 0.6180339985218034,\n",
      " 0.618033985017358,\n",
      " 0.6180339901755971]\n"
     ]
    }
   ],
   "source": [
    "import pprint\n",
    "pprint.pprint([fab(i)/fab(i+1) for i in range(21)])"
   ]
  },
  {
   "cell_type": "markdown",
   "metadata": {},
   "source": [
    "## 10. 检测回文"
   ]
  },
  {
   "cell_type": "code",
   "execution_count": 23,
   "metadata": {},
   "outputs": [],
   "source": [
    "def isPalExist(s):\n",
    "    def toChars(s):\n",
    "        s1 = s.lower()\n",
    "        return s1\n",
    "    def isPal(s):\n",
    "        '''\n",
    "        if len(s)<=1 or (len(s)==2 and s[0]==s[-1]):\n",
    "            return True\n",
    "        else:\n",
    "            if s[0]==s[-1]:\n",
    "                isPal(s[1:-1])\n",
    "            else:\n",
    "                return False\n",
    "        '''\n",
    "        if len(s)<=1:\n",
    "            return True\n",
    "        else:\n",
    "            return s[0]==s[-1] and isPal(s[1:-1])        \n",
    "    return isPal(toChars(s))"
   ]
  },
  {
   "cell_type": "code",
   "execution_count": 24,
   "metadata": {},
   "outputs": [
    {
     "data": {
      "text/plain": [
       "True"
      ]
     },
     "execution_count": 24,
     "metadata": {},
     "output_type": "execute_result"
    }
   ],
   "source": [
    "isPalExist('Goddog')"
   ]
  },
  {
   "cell_type": "markdown",
   "metadata": {},
   "source": [
    "## 13. 函数作参数"
   ]
  },
  {
   "cell_type": "code",
   "execution_count": 6,
   "metadata": {},
   "outputs": [
    {
     "name": "stdout",
     "output_type": "stream",
     "text": [
      "1\n",
      "8\n",
      "13\n"
     ]
    }
   ],
   "source": [
    "def applyToEach(L,f):\n",
    "    for i in range(len(L)):\n",
    "        L[i] = f(L[i])\n",
    "        print(L[i])\n",
    "        \n",
    "L = [1,5,6]\n",
    "applyToEach(L,fab)"
   ]
  },
  {
   "cell_type": "code",
   "execution_count": 26,
   "metadata": {},
   "outputs": [
    {
     "name": "stdout",
     "output_type": "stream",
     "text": [
      "2\n",
      "15\n",
      "36\n"
     ]
    }
   ],
   "source": [
    "L1 = [3, 28, 36]\n",
    "L2 = [2, 15, 92]\n",
    "for i in map(min,L1,L2):\n",
    "    print(i)"
   ]
  },
  {
   "cell_type": "markdown",
   "metadata": {},
   "source": [
    "[Python map() 函数 | 菜鸟教程](https://www.runoob.com/python/python-func-map.html)\n",
    "\n",
    "map函数：  \n",
    "第一个参数是函数，后面的参数是数列。python3的结果是生成器。"
   ]
  },
  {
   "cell_type": "code",
   "execution_count": 13,
   "metadata": {},
   "outputs": [
    {
     "name": "stdout",
     "output_type": "stream",
     "text": [
      "1.0\n",
      "4.0\n",
      "9.0\n",
      "16.0\n",
      "25.0\n"
     ]
    }
   ],
   "source": [
    "import math\n",
    "for i in map(math.pow, [1,2,3,4,5], [2,2,2,2,2]):\n",
    "    print(i)"
   ]
  },
  {
   "cell_type": "code",
   "execution_count": 27,
   "metadata": {},
   "outputs": [
    {
     "name": "stdout",
     "output_type": "stream",
     "text": [
      "1\n",
      "4\n",
      "27\n",
      "256\n"
     ]
    }
   ],
   "source": [
    "L = []\n",
    "for i in map(lambda x, y: x**y, [1,2,3,4],[1,2,3,4]):\n",
    "    print(i)"
   ]
  },
  {
   "cell_type": "markdown",
   "metadata": {},
   "source": [
    "## 14. 处理异常"
   ]
  },
  {
   "cell_type": "markdown",
   "metadata": {},
   "source": [
    "### 14.1 不除以零"
   ]
  },
  {
   "cell_type": "code",
   "execution_count": 15,
   "metadata": {},
   "outputs": [
    {
     "name": "stdout",
     "output_type": "stream",
     "text": [
      "Input a number as a dividend: 8\n",
      "Input a number as a divisor: 0\n",
      "Fact should not be Zero.\n"
     ]
    }
   ],
   "source": [
    "def divise_noZero(num, fact):\n",
    "    try:\n",
    "        division = num / fact\n",
    "        print(division)\n",
    "        return division\n",
    "    except ZeroDivisionError:\n",
    "        print('Fact should not be Zero.')\n",
    "num = int(input('Input a number as a dividend: '))\n",
    "fact = int(input('Input a number as a divisor: '))\n",
    "divise_noZero(num, fact)"
   ]
  },
  {
   "cell_type": "markdown",
   "metadata": {},
   "source": [
    "### 14.2 字符串中的数值求和"
   ]
  },
  {
   "cell_type": "code",
   "execution_count": 18,
   "metadata": {},
   "outputs": [],
   "source": [
    "def sumDigits(s):\n",
    "    num = []\n",
    "    for i in s:\n",
    "        if i in '0123456789':\n",
    "            num.append(int(i))\n",
    "    if num == []:\n",
    "        print('There is no digit in this string.')\n",
    "    return sum(num)"
   ]
  },
  {
   "cell_type": "code",
   "execution_count": 19,
   "metadata": {},
   "outputs": [
    {
     "name": "stdout",
     "output_type": "stream",
     "text": [
      "There is no digit in this string.\n"
     ]
    },
    {
     "data": {
      "text/plain": [
       "0"
      ]
     },
     "execution_count": 19,
     "metadata": {},
     "output_type": "execute_result"
    }
   ],
   "source": [
    "sumDigits('abeeettued')"
   ]
  },
  {
   "cell_type": "markdown",
   "metadata": {},
   "source": [
    "### 14.3 限定输入整数"
   ]
  },
  {
   "cell_type": "code",
   "execution_count": 32,
   "metadata": {},
   "outputs": [
    {
     "name": "stdout",
     "output_type": "stream",
     "text": [
      "Enter an integer:4rt\n",
      "4rt is not an interger.\n",
      "Enter an integer:456\n"
     ]
    },
    {
     "data": {
      "text/plain": [
       "456"
      ]
     },
     "execution_count": 32,
     "metadata": {},
     "output_type": "execute_result"
    }
   ],
   "source": [
    "def readInt():\n",
    "    while True:\n",
    "        val = input('Enter an integer:')\n",
    "        try:\n",
    "            return int(val)\n",
    "        except (ValueError,TypeError):\n",
    "            print('%s is not an interger.' %val)\n",
    "readInt()"
   ]
  },
  {
   "cell_type": "markdown",
   "metadata": {},
   "source": [
    "### 14.4 找第一个偶数（输入数值串）"
   ]
  },
  {
   "cell_type": "code",
   "execution_count": 37,
   "metadata": {},
   "outputs": [
    {
     "data": {
      "text/plain": [
       "ValueError"
      ]
     },
     "execution_count": 37,
     "metadata": {},
     "output_type": "execute_result"
    }
   ],
   "source": [
    "def findAnEven(L):\n",
    "    result = ''\n",
    "    for i in L:\n",
    "        if int(i)%2==0:\n",
    "            return i\n",
    "            break\n",
    "        else:\n",
    "            result += i\n",
    "    # if result != '':\n",
    "    return ValueError\n",
    "L = '7797'\n",
    "findAnEven(L)"
   ]
  },
  {
   "cell_type": "markdown",
   "metadata": {},
   "source": [
    "为什么跳出循环后，用result是否空来判定任务是否失败呢？  \n",
    "\n",
    "照理result肯定不空的，除非第一个字符就是偶数。\n",
    "\n",
    "事实证明去掉这个result是否空的条件也是一样的。只要循环结束还没有返回，那就指定是没有找到偶数的。"
   ]
  },
  {
   "cell_type": "markdown",
   "metadata": {},
   "source": [
    "### 14.5 找第一个偶数（输入数值字母或其他字符串）"
   ]
  },
  {
   "cell_type": "code",
   "execution_count": 41,
   "metadata": {},
   "outputs": [],
   "source": [
    "def findEvenNoAlpha(L):\n",
    "    result = ''\n",
    "    for i in L:\n",
    "        try:\n",
    "            if int(i)%2==0:\n",
    "                print('The first even number %s is found.' %i)\n",
    "                return i\n",
    "                break\n",
    "            else:\n",
    "                result += i\n",
    "                print('%s is an odd number, not even.' %i)\n",
    "        except ValueError as msg:\n",
    "            result += i\n",
    "            print(msg)\n",
    "    # if result != '':\n",
    "    return ValueError"
   ]
  },
  {
   "cell_type": "code",
   "execution_count": 42,
   "metadata": {},
   "outputs": [
    {
     "name": "stdout",
     "output_type": "stream",
     "text": [
      "3 is an odd number, not even.\n",
      "5 is an odd number, not even.\n",
      "invalid literal for int() with base 10: 'r'\n",
      "invalid literal for int() with base 10: 'e'\n",
      "invalid literal for int() with base 10: '-'\n",
      "invalid literal for int() with base 10: 't'\n",
      "invalid literal for int() with base 10: 'y'\n",
      "7 is an odd number, not even.\n"
     ]
    },
    {
     "data": {
      "text/plain": [
       "ValueError"
      ]
     },
     "execution_count": 42,
     "metadata": {},
     "output_type": "execute_result"
    }
   ],
   "source": [
    "L = '35re-ty7'\n",
    "findEvenNoAlpha(L)"
   ]
  },
  {
   "cell_type": "markdown",
   "metadata": {},
   "source": [
    "### 14.6 打开文件异常"
   ]
  },
  {
   "cell_type": "code",
   "execution_count": 46,
   "metadata": {},
   "outputs": [
    {
     "name": "stdout",
     "output_type": "stream",
     "text": [
      "Median grade is  74.0\n",
      "Average grade is  70.06666666666666\n",
      "Max grade is  92.0\n",
      "Min grade is  34.0\n"
     ]
    }
   ],
   "source": [
    "import os\n",
    "def getGrades(fname):\n",
    "    try:\n",
    "        gradesFile = open(os.path.join(os.path.dirname(os.getcwd()), 'files', fname), 'r')\n",
    "    except IOError:\n",
    "        raise ValueError('The program \"getGrades\" could not open ' + fname)\n",
    "    grades = []\n",
    "    for line in gradesFile:\n",
    "        try:\n",
    "            grades.append(float(line))\n",
    "        except:\n",
    "            raise ValueError('Unable to convert line to float')\n",
    "    return grades\n",
    "\n",
    "def calculate(fname):\n",
    "    try:\n",
    "        grades = getGrades(fname)\n",
    "        grades.sort()\n",
    "        median = grades[len(grades)//2]\n",
    "        average = sum(grades)/len(grades)\n",
    "        maxGrade = max(grades)\n",
    "        minGrade = min(grades)\n",
    "        print('Median grade is ', median)\n",
    "        print('Average grade is ', average)\n",
    "        print('Max grade is ', maxGrade)\n",
    "        print('Min grade is ', minGrade)\n",
    "    except ValueError as errorMsg:\n",
    "        print('Whoops. ', errorMsg)\n",
    "\n",
    "calculate('quiz1grades.txt')"
   ]
  },
  {
   "cell_type": "markdown",
   "metadata": {
    "collapsed": true
   },
   "source": [
    "## 15. 开始class类\n",
    "\n",
    "原来class类，就是自己定义自己的类型。函数是自己定义自己的函数。系统指定类型就是整数类、字符串类等这些。每个类型都有自己不同的方法。例如整数可相减而字符串却不可以。所以class就是让用户自己定义某种包含某些特定方法的类型。类型定义好了之后，给它赋值就是实例化了。\n",
    "\n",
    "class 后面的参数实际上是父类。"
   ]
  },
  {
   "cell_type": "markdown",
   "metadata": {},
   "source": [
    "### 15.1 整数类Intset"
   ]
  },
  {
   "cell_type": "code",
   "execution_count": 47,
   "metadata": {},
   "outputs": [],
   "source": [
    "class IntSet(object):\n",
    "   \n",
    "    # 实例化后首先做这个操作。\n",
    "    def __init__(self):\n",
    "        self.vals = []\n",
    "    \n",
    "    # 新增元素\n",
    "    def insert(self,e):\n",
    "        if e not in self.vals:\n",
    "            self.vals.append(e)\n",
    "        else:\n",
    "            raise ValueError(str(e) + ' is in this set.')\n",
    "    \n",
    "    # 检查是否包含该元素\n",
    "    def member(self,e):\n",
    "        return e in self.vals\n",
    "    \n",
    "    # 删除元素\n",
    "    def remove(self,e):\n",
    "        try:\n",
    "            self.vals.remove(e)\n",
    "        except:\n",
    "            # 不存在的元素无法删除\n",
    "            raise ValueError('Not found ' + str(e))\n",
    "            \n",
    "    # 获得元素集合\n",
    "    def getmember(self):\n",
    "        return self.vals[:]\n",
    "    \n",
    "    # 打印全体\n",
    "    def __str__(self):\n",
    "        self.vals.sort()\n",
    "        result = ''\n",
    "        for e in self.vals:\n",
    "            result = result + str(e) + ','\n",
    "        return '{' + result[:-1] + '}'"
   ]
  },
  {
   "cell_type": "code",
   "execution_count": 48,
   "metadata": {},
   "outputs": [],
   "source": [
    "c = IntSet()\n",
    "f = [5,6,7,3,8,0,12,34]\n",
    "for e in f:\n",
    "    c.insert(e)"
   ]
  },
  {
   "cell_type": "code",
   "execution_count": 50,
   "metadata": {},
   "outputs": [],
   "source": [
    "c.insert(18)"
   ]
  },
  {
   "cell_type": "code",
   "execution_count": 51,
   "metadata": {},
   "outputs": [
    {
     "data": {
      "text/plain": [
       "[5, 6, 7, 3, 8, 0, 12, 34, 18]"
      ]
     },
     "execution_count": 51,
     "metadata": {},
     "output_type": "execute_result"
    }
   ],
   "source": [
    "c.getmember()"
   ]
  },
  {
   "cell_type": "code",
   "execution_count": 52,
   "metadata": {},
   "outputs": [],
   "source": [
    "c.remove(6)"
   ]
  },
  {
   "cell_type": "code",
   "execution_count": 53,
   "metadata": {},
   "outputs": [
    {
     "data": {
      "text/plain": [
       "[5, 7, 3, 8, 0, 12, 34, 18]"
      ]
     },
     "execution_count": 53,
     "metadata": {},
     "output_type": "execute_result"
    }
   ],
   "source": [
    "c.getmember()"
   ]
  },
  {
   "cell_type": "code",
   "execution_count": 54,
   "metadata": {},
   "outputs": [
    {
     "data": {
      "text/plain": [
       "False"
      ]
     },
     "execution_count": 54,
     "metadata": {},
     "output_type": "execute_result"
    }
   ],
   "source": [
    "c.member(6)"
   ]
  },
  {
   "cell_type": "code",
   "execution_count": 55,
   "metadata": {},
   "outputs": [
    {
     "name": "stdout",
     "output_type": "stream",
     "text": [
      "{0,3,5,7,8,12,18,34}\n"
     ]
    }
   ],
   "source": [
    "print(c)"
   ]
  },
  {
   "cell_type": "code",
   "execution_count": 98,
   "metadata": {},
   "outputs": [
    {
     "name": "stdout",
     "output_type": "stream",
     "text": [
      "Help on class int in module builtins:\n",
      "\n",
      "class int(object)\n",
      " |  int([x]) -> integer\n",
      " |  int(x, base=10) -> integer\n",
      " |  \n",
      " |  Convert a number or string to an integer, or return 0 if no arguments\n",
      " |  are given.  If x is a number, return x.__int__().  For floating point\n",
      " |  numbers, this truncates towards zero.\n",
      " |  \n",
      " |  If x is not a number or if base is given, then x must be a string,\n",
      " |  bytes, or bytearray instance representing an integer literal in the\n",
      " |  given base.  The literal can be preceded by '+' or '-' and be surrounded\n",
      " |  by whitespace.  The base defaults to 10.  Valid bases are 0 and 2-36.\n",
      " |  Base 0 means to interpret the base from the string as an integer literal.\n",
      " |  >>> int('0b100', base=0)\n",
      " |  4\n",
      " |  \n",
      " |  Methods defined here:\n",
      " |  \n",
      " |  __abs__(self, /)\n",
      " |      abs(self)\n",
      " |  \n",
      " |  __add__(self, value, /)\n",
      " |      Return self+value.\n",
      " |  \n",
      " |  __and__(self, value, /)\n",
      " |      Return self&value.\n",
      " |  \n",
      " |  __bool__(self, /)\n",
      " |      self != 0\n",
      " |  \n",
      " |  __ceil__(...)\n",
      " |      Ceiling of an Integral returns itself.\n",
      " |  \n",
      " |  __divmod__(self, value, /)\n",
      " |      Return divmod(self, value).\n",
      " |  \n",
      " |  __eq__(self, value, /)\n",
      " |      Return self==value.\n",
      " |  \n",
      " |  __float__(self, /)\n",
      " |      float(self)\n",
      " |  \n",
      " |  __floor__(...)\n",
      " |      Flooring an Integral returns itself.\n",
      " |  \n",
      " |  __floordiv__(self, value, /)\n",
      " |      Return self//value.\n",
      " |  \n",
      " |  __format__(self, format_spec, /)\n",
      " |      Default object formatter.\n",
      " |  \n",
      " |  __ge__(self, value, /)\n",
      " |      Return self>=value.\n",
      " |  \n",
      " |  __getattribute__(self, name, /)\n",
      " |      Return getattr(self, name).\n",
      " |  \n",
      " |  __getnewargs__(self, /)\n",
      " |  \n",
      " |  __gt__(self, value, /)\n",
      " |      Return self>value.\n",
      " |  \n",
      " |  __hash__(self, /)\n",
      " |      Return hash(self).\n",
      " |  \n",
      " |  __index__(self, /)\n",
      " |      Return self converted to an integer, if self is suitable for use as an index into a list.\n",
      " |  \n",
      " |  __int__(self, /)\n",
      " |      int(self)\n",
      " |  \n",
      " |  __invert__(self, /)\n",
      " |      ~self\n",
      " |  \n",
      " |  __le__(self, value, /)\n",
      " |      Return self<=value.\n",
      " |  \n",
      " |  __lshift__(self, value, /)\n",
      " |      Return self<<value.\n",
      " |  \n",
      " |  __lt__(self, value, /)\n",
      " |      Return self<value.\n",
      " |  \n",
      " |  __mod__(self, value, /)\n",
      " |      Return self%value.\n",
      " |  \n",
      " |  __mul__(self, value, /)\n",
      " |      Return self*value.\n",
      " |  \n",
      " |  __ne__(self, value, /)\n",
      " |      Return self!=value.\n",
      " |  \n",
      " |  __neg__(self, /)\n",
      " |      -self\n",
      " |  \n",
      " |  __or__(self, value, /)\n",
      " |      Return self|value.\n",
      " |  \n",
      " |  __pos__(self, /)\n",
      " |      +self\n",
      " |  \n",
      " |  __pow__(self, value, mod=None, /)\n",
      " |      Return pow(self, value, mod).\n",
      " |  \n",
      " |  __radd__(self, value, /)\n",
      " |      Return value+self.\n",
      " |  \n",
      " |  __rand__(self, value, /)\n",
      " |      Return value&self.\n",
      " |  \n",
      " |  __rdivmod__(self, value, /)\n",
      " |      Return divmod(value, self).\n",
      " |  \n",
      " |  __repr__(self, /)\n",
      " |      Return repr(self).\n",
      " |  \n",
      " |  __rfloordiv__(self, value, /)\n",
      " |      Return value//self.\n",
      " |  \n",
      " |  __rlshift__(self, value, /)\n",
      " |      Return value<<self.\n",
      " |  \n",
      " |  __rmod__(self, value, /)\n",
      " |      Return value%self.\n",
      " |  \n",
      " |  __rmul__(self, value, /)\n",
      " |      Return value*self.\n",
      " |  \n",
      " |  __ror__(self, value, /)\n",
      " |      Return value|self.\n",
      " |  \n",
      " |  __round__(...)\n",
      " |      Rounding an Integral returns itself.\n",
      " |      Rounding with an ndigits argument also returns an integer.\n",
      " |  \n",
      " |  __rpow__(self, value, mod=None, /)\n",
      " |      Return pow(value, self, mod).\n",
      " |  \n",
      " |  __rrshift__(self, value, /)\n",
      " |      Return value>>self.\n",
      " |  \n",
      " |  __rshift__(self, value, /)\n",
      " |      Return self>>value.\n",
      " |  \n",
      " |  __rsub__(self, value, /)\n",
      " |      Return value-self.\n",
      " |  \n",
      " |  __rtruediv__(self, value, /)\n",
      " |      Return value/self.\n",
      " |  \n",
      " |  __rxor__(self, value, /)\n",
      " |      Return value^self.\n",
      " |  \n",
      " |  __sizeof__(self, /)\n",
      " |      Returns size in memory, in bytes.\n",
      " |  \n",
      " |  __str__(self, /)\n",
      " |      Return str(self).\n",
      " |  \n",
      " |  __sub__(self, value, /)\n",
      " |      Return self-value.\n",
      " |  \n",
      " |  __truediv__(self, value, /)\n",
      " |      Return self/value.\n",
      " |  \n",
      " |  __trunc__(...)\n",
      " |      Truncating an Integral returns itself.\n",
      " |  \n",
      " |  __xor__(self, value, /)\n",
      " |      Return self^value.\n",
      " |  \n",
      " |  bit_length(self, /)\n",
      " |      Number of bits necessary to represent self in binary.\n",
      " |      \n",
      " |      >>> bin(37)\n",
      " |      '0b100101'\n",
      " |      >>> (37).bit_length()\n",
      " |      6\n",
      " |  \n",
      " |  conjugate(...)\n",
      " |      Returns self, the complex conjugate of any int.\n",
      " |  \n",
      " |  to_bytes(self, /, length, byteorder, *, signed=False)\n",
      " |      Return an array of bytes representing an integer.\n",
      " |      \n",
      " |      length\n",
      " |        Length of bytes object to use.  An OverflowError is raised if the\n",
      " |        integer is not representable with the given number of bytes.\n",
      " |      byteorder\n",
      " |        The byte order used to represent the integer.  If byteorder is 'big',\n",
      " |        the most significant byte is at the beginning of the byte array.  If\n",
      " |        byteorder is 'little', the most significant byte is at the end of the\n",
      " |        byte array.  To request the native byte order of the host system, use\n",
      " |        `sys.byteorder' as the byte order value.\n",
      " |      signed\n",
      " |        Determines whether two's complement is used to represent the integer.\n",
      " |        If signed is False and a negative integer is given, an OverflowError\n",
      " |        is raised.\n",
      " |  \n",
      " |  ----------------------------------------------------------------------\n",
      " |  Class methods defined here:\n",
      " |  \n",
      " |  from_bytes(bytes, byteorder, *, signed=False) from builtins.type\n",
      " |      Return the integer represented by the given array of bytes.\n",
      " |      \n",
      " |      bytes\n",
      " |        Holds the array of bytes to convert.  The argument must either\n",
      " |        support the buffer protocol or be an iterable object producing bytes.\n",
      " |        Bytes and bytearray are examples of built-in objects that support the\n",
      " |        buffer protocol.\n",
      " |      byteorder\n",
      " |        The byte order used to represent the integer.  If byteorder is 'big',\n",
      " |        the most significant byte is at the beginning of the byte array.  If\n",
      " |        byteorder is 'little', the most significant byte is at the end of the\n",
      " |        byte array.  To request the native byte order of the host system, use\n",
      " |        `sys.byteorder' as the byte order value.\n",
      " |      signed\n",
      " |        Indicates whether two's complement is used to represent the integer.\n",
      " |  \n",
      " |  ----------------------------------------------------------------------\n",
      " |  Static methods defined here:\n",
      " |  \n",
      " |  __new__(*args, **kwargs) from builtins.type\n",
      " |      Create and return a new object.  See help(type) for accurate signature.\n",
      " |  \n",
      " |  ----------------------------------------------------------------------\n",
      " |  Data descriptors defined here:\n",
      " |  \n",
      " |  denominator\n",
      " |      the denominator of a rational number in lowest terms\n",
      " |  \n",
      " |  imag\n",
      " |      the imaginary part of a complex number\n",
      " |  \n",
      " |  numerator\n",
      " |      the numerator of a rational number in lowest terms\n",
      " |  \n",
      " |  real\n",
      " |      the real part of a complex number\n",
      "\n"
     ]
    }
   ],
   "source": [
    "help(int)"
   ]
  },
  {
   "cell_type": "markdown",
   "metadata": {},
   "source": [
    "### 15.2 人类Person"
   ]
  },
  {
   "cell_type": "markdown",
   "metadata": {},
   "source": [
    "[Python rindex()方法 | 菜鸟教程](http://www.runoob.com/python/att-string-rindex.html)\n",
    "\n",
    "rindex，参数是想要查找的字符串，返回是该字符串的位置，从右边数第一次。\n",
    "\n",
    "相对于index而言。index返回的也是字符串的位置，但是从左边数第一次。"
   ]
  },
  {
   "cell_type": "code",
   "execution_count": 56,
   "metadata": {},
   "outputs": [],
   "source": [
    "import datetime\n",
    "\n",
    "class Person(object):\n",
    "    \n",
    "    def __init__(self,name):\n",
    "        # init里规定对象的属性。对于这个person来说，就是name，lastname，birthday\n",
    "        self.name = name\n",
    "        try:\n",
    "            lastBlank = name.rindex(\" \")\n",
    "            self.lastName = name[lastBlank+1:]\n",
    "        except:\n",
    "            self.lastName = name\n",
    "        self.birthday = None\n",
    "    \n",
    "    # 除了init之外，规定对象的方法\n",
    "    def getName(self):\n",
    "        return self.name\n",
    "    \n",
    "    def getLastName(self):\n",
    "        return self.lastName\n",
    "    \n",
    "    def setBirthdate(self, birthdate):\n",
    "        self.birthday = birthdate\n",
    "        \n",
    "    def getAge(self):\n",
    "        try:\n",
    "            return ((datetime.date.today() - self.birthday).days)/365\n",
    "        except:\n",
    "            raise ValueError('Birthday is not set.')\n",
    "            \n",
    "    def __lt__(self, other):\n",
    "        if self.lastName == other.lastName:\n",
    "            return self.name<other.name\n",
    "        return self.lastName<other.lastName\n",
    "        \n",
    "    def __str__(self):\n",
    "        return self.name"
   ]
  },
  {
   "cell_type": "code",
   "execution_count": 57,
   "metadata": {},
   "outputs": [],
   "source": [
    "me = Person('Cindy Cai')\n",
    "him = Person('Barack Hussein Obama')\n",
    "her = Person('Michral Guttage')\n",
    "plist = [me, him, her]"
   ]
  },
  {
   "cell_type": "code",
   "execution_count": 58,
   "metadata": {},
   "outputs": [
    {
     "name": "stdout",
     "output_type": "stream",
     "text": [
      "Cindy Cai\n",
      "Barack Hussein Obama\n",
      "Michral Guttage\n"
     ]
    }
   ],
   "source": [
    "for p in plist:\n",
    "    print(p)"
   ]
  },
  {
   "cell_type": "code",
   "execution_count": 59,
   "metadata": {},
   "outputs": [],
   "source": [
    "me.setBirthdate(datetime.date(1981,8,27))"
   ]
  },
  {
   "cell_type": "code",
   "execution_count": 60,
   "metadata": {},
   "outputs": [
    {
     "name": "stdout",
     "output_type": "stream",
     "text": [
      "Cindy Cai\n"
     ]
    }
   ],
   "source": [
    "print(me)"
   ]
  },
  {
   "cell_type": "code",
   "execution_count": 61,
   "metadata": {},
   "outputs": [
    {
     "data": {
      "text/plain": [
       "'Cai'"
      ]
     },
     "execution_count": 61,
     "metadata": {},
     "output_type": "execute_result"
    }
   ],
   "source": [
    "me.getLastName()"
   ]
  },
  {
   "cell_type": "code",
   "execution_count": 62,
   "metadata": {},
   "outputs": [
    {
     "data": {
      "text/plain": [
       "38.10958904109589"
      ]
     },
     "execution_count": 62,
     "metadata": {},
     "output_type": "execute_result"
    }
   ],
   "source": [
    "me.getAge()"
   ]
  },
  {
   "cell_type": "code",
   "execution_count": 63,
   "metadata": {},
   "outputs": [
    {
     "data": {
      "text/plain": [
       "True"
      ]
     },
     "execution_count": 63,
     "metadata": {},
     "output_type": "execute_result"
    }
   ],
   "source": [
    "me < him"
   ]
  },
  {
   "cell_type": "code",
   "execution_count": 64,
   "metadata": {},
   "outputs": [],
   "source": [
    "plist.sort()"
   ]
  },
  {
   "cell_type": "code",
   "execution_count": 65,
   "metadata": {},
   "outputs": [
    {
     "name": "stdout",
     "output_type": "stream",
     "text": [
      "Cindy Cai\n",
      "Michral Guttage\n",
      "Barack Hussein Obama\n"
     ]
    }
   ],
   "source": [
    "for p in plist:\n",
    "    print(p)"
   ]
  },
  {
   "cell_type": "code",
   "execution_count": 67,
   "metadata": {},
   "outputs": [],
   "source": [
    "him.setBirthdate(datetime.date(1979,10,23))"
   ]
  },
  {
   "cell_type": "code",
   "execution_count": 68,
   "metadata": {},
   "outputs": [
    {
     "data": {
      "text/plain": [
       "39.95616438356164"
      ]
     },
     "execution_count": 68,
     "metadata": {},
     "output_type": "execute_result"
    }
   ],
   "source": [
    "him.getAge()"
   ]
  },
  {
   "cell_type": "code",
   "execution_count": 74,
   "metadata": {},
   "outputs": [],
   "source": [
    "class MITPerson(Person):\n",
    "    nextIdnum = 0\n",
    "    \n",
    "    def __init__(self,name):\n",
    "        Person.__init__(self,name)\n",
    "        self.idNum = MITPerson.nextIdnum\n",
    "        MITPerson.nextIdnum += 1\n",
    "        \n",
    "    def getIdnum(self):\n",
    "        return self.idNum\n",
    "    \n",
    "    def isStudent(self):\n",
    "        return isinstance(self, Student)\n",
    "    \n",
    "    def __lt__(self, other):\n",
    "        return self.idNum<other.idNum"
   ]
  },
  {
   "cell_type": "code",
   "execution_count": 75,
   "metadata": {},
   "outputs": [
    {
     "name": "stdout",
     "output_type": "stream",
     "text": [
      "Barbara Beaver\n",
      "0\n",
      "Clark Simpton\n",
      "1\n",
      "Mark Guttag\n",
      "2\n",
      "Billy Bob Beaver\n",
      "3\n"
     ]
    }
   ],
   "source": [
    "p1 = MITPerson('Barbara Beaver')\n",
    "p2 = MITPerson('Clark Simpton')\n",
    "p3 = MITPerson('Mark Guttag')\n",
    "p4 = MITPerson('Billy Bob Beaver')\n",
    "MITP = [p1, p2, p3, p4]\n",
    "p2.setBirthdate(datetime.date(1981,8,27))\n",
    "for p in MITP:\n",
    "    print(p)\n",
    "    print(p.getIdnum())"
   ]
  },
  {
   "cell_type": "code",
   "execution_count": 76,
   "metadata": {},
   "outputs": [],
   "source": [
    "class Student(MITPerson):\n",
    "    pass\n",
    "\n",
    "class UG(Student):\n",
    "    def __init__(self, name, classYear):\n",
    "        MITPerson.__init__(self, name)\n",
    "        self.year = classYear\n",
    "        \n",
    "    def getClass(self):\n",
    "        return self.year\n",
    "    \n",
    "class Grad(Student):\n",
    "    pass"
   ]
  },
  {
   "cell_type": "code",
   "execution_count": 7,
   "metadata": {},
   "outputs": [
    {
     "name": "stdout",
     "output_type": "stream",
     "text": [
      "Barbara Beaver\n",
      "<class '__main__.MITPerson'>\n",
      "Clark Simpton\n",
      "<class '__main__.MITPerson'>\n",
      "Mark Guttag\n",
      "<class '__main__.MITPerson'>\n",
      "Billy Bob Beaver\n",
      "<class '__main__.MITPerson'>\n",
      "Buzz Aldrin\n",
      "<class '__main__.Grad'>\n",
      "Billy Clinton\n",
      "<class '__main__.UG'>\n"
     ]
    }
   ],
   "source": [
    "p5 = Grad('Buzz Aldrin')\n",
    "p6 = UG('Billy Clinton', 2003)\n",
    "MITP.append(p5)\n",
    "MITP.append(p6)\n",
    "for p in MITP:\n",
    "    print(p)\n",
    "    print(type(p))"
   ]
  },
  {
   "cell_type": "code",
   "execution_count": 8,
   "metadata": {},
   "outputs": [
    {
     "name": "stdout",
     "output_type": "stream",
     "text": [
      "Buzz Aldrin is a graduate student is  True\n",
      "Buzz Aldrin is a graduate student is  False\n"
     ]
    }
   ],
   "source": [
    "print(p5, 'is a graduate student is ', type(p5)==Grad)\n",
    "print(p5, 'is a graduate student is ', type(p5)==UG)"
   ]
  },
  {
   "cell_type": "code",
   "execution_count": 9,
   "metadata": {},
   "outputs": [
    {
     "data": {
      "text/plain": [
       "True"
      ]
     },
     "execution_count": 9,
     "metadata": {},
     "output_type": "execute_result"
    }
   ],
   "source": [
    "p5.isStudent()"
   ]
  },
  {
   "cell_type": "code",
   "execution_count": 10,
   "metadata": {},
   "outputs": [
    {
     "data": {
      "text/plain": [
       "True"
      ]
     },
     "execution_count": 10,
     "metadata": {},
     "output_type": "execute_result"
    }
   ],
   "source": [
    "p6.isStudent()"
   ]
  },
  {
   "cell_type": "code",
   "execution_count": 11,
   "metadata": {},
   "outputs": [
    {
     "data": {
      "text/plain": [
       "False"
      ]
     },
     "execution_count": 11,
     "metadata": {},
     "output_type": "execute_result"
    }
   ],
   "source": [
    "p3.isStudent()"
   ]
  },
  {
   "cell_type": "code",
   "execution_count": 8,
   "metadata": {},
   "outputs": [],
   "source": [
    "class TransferStudent(Student):\n",
    "    \n",
    "    def __init__(self, name, fromSchool):\n",
    "        MITPerson.__init__(self, name)\n",
    "        self.fromSchool = fromSchool\n",
    "        \n",
    "    def getOldSchool(self,name):\n",
    "        return self.fromSchool"
   ]
  },
  {
   "cell_type": "code",
   "execution_count": 9,
   "metadata": {},
   "outputs": [],
   "source": [
    "p7 = TransferStudent('Felix Green', 'Havard')\n",
    "MITP.append(p7)"
   ]
  },
  {
   "cell_type": "markdown",
   "metadata": {},
   "source": [
    "新的类别：分数grades"
   ]
  },
  {
   "cell_type": "code",
   "execution_count": 69,
   "metadata": {},
   "outputs": [],
   "source": [
    "class Grades(object):\n",
    "    \n",
    "    def __init__(self):\n",
    "        self.students = []\n",
    "        self.grades = {}\n",
    "        self.isSorted = True\n",
    "        \n",
    "    def addStudent(self, student):\n",
    "        if student in self.students:\n",
    "            raise ValueError('Duplicated student.')\n",
    "        self.students.append(student)\n",
    "        self.grades[student.getIdnum()] = []\n",
    "        self.isSorted = False\n",
    "    \n",
    "    def addGrade(self, student, grade):\n",
    "        if student not in self.students:\n",
    "            raise ValueError('Student not in mapping.')\n",
    "        # append，列表，可以记录同一个学生的多门成绩\n",
    "        self.grades[student.getIdnum()].append(grade)\n",
    "        \n",
    "    def getGrades(self, student):\n",
    "        if student not in self.students:\n",
    "            raise ValueError('Student not in mapping.')\n",
    "        return self.grades[student.getIdnum()][:]\n",
    "    \n",
    "    def getStudents(self):\n",
    "        if self.isSorted == False:\n",
    "            self.students.sort()\n",
    "            self.isSorted = True\n",
    "        return self.students[:]"
   ]
  },
  {
   "cell_type": "markdown",
   "metadata": {},
   "source": [
    "什么时候用if什么时候用try-except？"
   ]
  },
  {
   "cell_type": "code",
   "execution_count": 70,
   "metadata": {},
   "outputs": [],
   "source": [
    "sixHundred = Grades()"
   ]
  },
  {
   "cell_type": "code",
   "execution_count": 77,
   "metadata": {},
   "outputs": [],
   "source": [
    "ug1 = UG('Jane Doe', 2014)\n",
    "ug2 = UG('John Simpton', 2015)\n",
    "ug3 = UG('David Henry', 2003)\n",
    "g1 = Grad('Billy Buckner')\n",
    "g2 = Grad('Bucky F. Dent')\n",
    "\n",
    "MITP.append(ug1)\n",
    "MITP.append(ug2)\n",
    "MITP.append(ug3)\n",
    "MITP.append(g1)\n",
    "MITP.append(g2)"
   ]
  },
  {
   "cell_type": "code",
   "execution_count": 78,
   "metadata": {},
   "outputs": [],
   "source": [
    "for p in MITP:\n",
    "    sixHundred.addStudent(p)"
   ]
  },
  {
   "cell_type": "code",
   "execution_count": 79,
   "metadata": {},
   "outputs": [],
   "source": [
    "for s in sixHundred.getStudents():\n",
    "    sixHundred.addGrade(s, 75)"
   ]
  },
  {
   "cell_type": "code",
   "execution_count": 80,
   "metadata": {},
   "outputs": [
    {
     "data": {
      "text/plain": [
       "[75]"
      ]
     },
     "execution_count": 80,
     "metadata": {},
     "output_type": "execute_result"
    }
   ],
   "source": [
    "sixHundred.getGrades(ug1)"
   ]
  },
  {
   "cell_type": "code",
   "execution_count": 81,
   "metadata": {},
   "outputs": [],
   "source": [
    "sixHundred.addGrade(ug1, 80)\n",
    "sixHundred.addGrade(ug2, 65)"
   ]
  },
  {
   "cell_type": "code",
   "execution_count": 82,
   "metadata": {},
   "outputs": [
    {
     "data": {
      "text/plain": [
       "[75, 80]"
      ]
     },
     "execution_count": 82,
     "metadata": {},
     "output_type": "execute_result"
    }
   ],
   "source": [
    "sixHundred.getGrades(ug1)"
   ]
  },
  {
   "cell_type": "code",
   "execution_count": 86,
   "metadata": {},
   "outputs": [
    {
     "name": "stdout",
     "output_type": "stream",
     "text": [
      "[75]\n",
      "[75]\n",
      "[75]\n",
      "[75]\n",
      "[75, 80]\n",
      "[75, 65]\n",
      "[75]\n",
      "[75]\n",
      "[75]\n"
     ]
    }
   ],
   "source": [
    "for s in sixHundred.getStudents():\n",
    "    print(sixHundred.getGrades(s))"
   ]
  },
  {
   "cell_type": "code",
   "execution_count": 87,
   "metadata": {},
   "outputs": [
    {
     "name": "stdout",
     "output_type": "stream",
     "text": [
      "Barbara Beaver\n",
      "[75]\n",
      "Clark Simpton\n",
      "[75]\n",
      "Mark Guttag\n",
      "[75]\n",
      "Billy Bob Beaver\n",
      "[75]\n",
      "Jane Doe\n",
      "[75, 80]\n",
      "John Simpton\n",
      "[75, 65]\n",
      "David Henry\n",
      "[75]\n",
      "Billy Buckner\n",
      "[75]\n",
      "Bucky F. Dent\n",
      "[75]\n"
     ]
    }
   ],
   "source": [
    "for s in sixHundred.getStudents():\n",
    "    print(s)\n",
    "    print(sixHundred.getGrades(s))"
   ]
  },
  {
   "cell_type": "markdown",
   "metadata": {},
   "source": [
    "### 15.3 类方法的隐藏"
   ]
  },
  {
   "cell_type": "markdown",
   "metadata": {},
   "source": [
    "附录：[【编程开发】Python隐藏属性 - 知乎](https://zhuanlan.zhihu.com/p/30553607)  （与本节无关）"
   ]
  },
  {
   "cell_type": "code",
   "execution_count": 89,
   "metadata": {},
   "outputs": [],
   "source": [
    "class infoHiding(object):\n",
    "    \n",
    "    def __init__(self):\n",
    "        self.visible = 'Look at me.'\n",
    "        self.__alsoVisible__ = 'Look at me too.'\n",
    "        self.__invisible = 'Don\\'t look at me directly.'\n",
    "        \n",
    "    def printVisible(self):\n",
    "        print(self.visible)\n",
    "        \n",
    "    def printInvisible(self):\n",
    "        print(self.__inVisible)\n",
    "        \n",
    "    def __printInvisible(self):\n",
    "        print(self.__inVisible)\n",
    "        \n",
    "    def __printInvisible__(self):\n",
    "        print(self.__inVisible)"
   ]
  },
  {
   "cell_type": "code",
   "execution_count": 90,
   "metadata": {},
   "outputs": [],
   "source": [
    "test = infoHiding()"
   ]
  },
  {
   "cell_type": "markdown",
   "metadata": {},
   "source": [
    "三个属性的隐藏与否："
   ]
  },
  {
   "cell_type": "code",
   "execution_count": 91,
   "metadata": {},
   "outputs": [
    {
     "name": "stdout",
     "output_type": "stream",
     "text": [
      "Look at me.\n"
     ]
    }
   ],
   "source": [
    "print(test.visible)"
   ]
  },
  {
   "cell_type": "code",
   "execution_count": 92,
   "metadata": {},
   "outputs": [
    {
     "name": "stdout",
     "output_type": "stream",
     "text": [
      "Look at me too.\n"
     ]
    }
   ],
   "source": [
    "print(test.__alsoVisible__)"
   ]
  },
  {
   "cell_type": "code",
   "execution_count": 93,
   "metadata": {},
   "outputs": [
    {
     "ename": "AttributeError",
     "evalue": "'infoHiding' object has no attribute '__invisible'",
     "output_type": "error",
     "traceback": [
      "\u001b[0;31m---------------------------------------------------------------------------\u001b[0m",
      "\u001b[0;31mAttributeError\u001b[0m                            Traceback (most recent call last)",
      "\u001b[0;32m<ipython-input-93-627fe9e5dac1>\u001b[0m in \u001b[0;36m<module>\u001b[0;34m\u001b[0m\n\u001b[0;32m----> 1\u001b[0;31m \u001b[0mprint\u001b[0m\u001b[0;34m(\u001b[0m\u001b[0mtest\u001b[0m\u001b[0;34m.\u001b[0m\u001b[0m__invisible\u001b[0m\u001b[0;34m)\u001b[0m\u001b[0;34m\u001b[0m\u001b[0;34m\u001b[0m\u001b[0m\n\u001b[0m",
      "\u001b[0;31mAttributeError\u001b[0m: 'infoHiding' object has no attribute '__invisible'"
     ]
    }
   ],
   "source": [
    "print(test.__invisible)"
   ]
  },
  {
   "cell_type": "markdown",
   "metadata": {},
   "source": [
    "四个方法的隐藏与否："
   ]
  },
  {
   "cell_type": "code",
   "execution_count": 94,
   "metadata": {},
   "outputs": [
    {
     "name": "stdout",
     "output_type": "stream",
     "text": [
      "Look at me.\n"
     ]
    }
   ],
   "source": [
    "test.printVisible()"
   ]
  },
  {
   "cell_type": "code",
   "execution_count": 95,
   "metadata": {},
   "outputs": [
    {
     "ename": "AttributeError",
     "evalue": "'infoHiding' object has no attribute '_infoHiding__inVisible'",
     "output_type": "error",
     "traceback": [
      "\u001b[0;31m---------------------------------------------------------------------------\u001b[0m",
      "\u001b[0;31mAttributeError\u001b[0m                            Traceback (most recent call last)",
      "\u001b[0;32m<ipython-input-95-f436ae701dad>\u001b[0m in \u001b[0;36m<module>\u001b[0;34m\u001b[0m\n\u001b[0;32m----> 1\u001b[0;31m \u001b[0mtest\u001b[0m\u001b[0;34m.\u001b[0m\u001b[0mprintInvisible\u001b[0m\u001b[0;34m(\u001b[0m\u001b[0;34m)\u001b[0m\u001b[0;34m\u001b[0m\u001b[0;34m\u001b[0m\u001b[0m\n\u001b[0m",
      "\u001b[0;32m<ipython-input-89-f0b16336d17f>\u001b[0m in \u001b[0;36mprintInvisible\u001b[0;34m(self)\u001b[0m\n\u001b[1;32m     10\u001b[0m \u001b[0;34m\u001b[0m\u001b[0m\n\u001b[1;32m     11\u001b[0m     \u001b[0;32mdef\u001b[0m \u001b[0mprintInvisible\u001b[0m\u001b[0;34m(\u001b[0m\u001b[0mself\u001b[0m\u001b[0;34m)\u001b[0m\u001b[0;34m:\u001b[0m\u001b[0;34m\u001b[0m\u001b[0;34m\u001b[0m\u001b[0m\n\u001b[0;32m---> 12\u001b[0;31m         \u001b[0mprint\u001b[0m\u001b[0;34m(\u001b[0m\u001b[0mself\u001b[0m\u001b[0;34m.\u001b[0m\u001b[0m__inVisible\u001b[0m\u001b[0;34m)\u001b[0m\u001b[0;34m\u001b[0m\u001b[0;34m\u001b[0m\u001b[0m\n\u001b[0m\u001b[1;32m     13\u001b[0m \u001b[0;34m\u001b[0m\u001b[0m\n\u001b[1;32m     14\u001b[0m     \u001b[0;32mdef\u001b[0m \u001b[0m__printInvisible\u001b[0m\u001b[0;34m(\u001b[0m\u001b[0mself\u001b[0m\u001b[0;34m)\u001b[0m\u001b[0;34m:\u001b[0m\u001b[0;34m\u001b[0m\u001b[0;34m\u001b[0m\u001b[0m\n",
      "\u001b[0;31mAttributeError\u001b[0m: 'infoHiding' object has no attribute '_infoHiding__inVisible'"
     ]
    }
   ],
   "source": [
    "test.printInvisible()"
   ]
  },
  {
   "cell_type": "code",
   "execution_count": 96,
   "metadata": {},
   "outputs": [
    {
     "ename": "AttributeError",
     "evalue": "'infoHiding' object has no attribute '_infoHiding__inVisible'",
     "output_type": "error",
     "traceback": [
      "\u001b[0;31m---------------------------------------------------------------------------\u001b[0m",
      "\u001b[0;31mAttributeError\u001b[0m                            Traceback (most recent call last)",
      "\u001b[0;32m<ipython-input-96-5b635ee96298>\u001b[0m in \u001b[0;36m<module>\u001b[0;34m\u001b[0m\n\u001b[0;32m----> 1\u001b[0;31m \u001b[0mtest\u001b[0m\u001b[0;34m.\u001b[0m\u001b[0m__printInvisible__\u001b[0m\u001b[0;34m(\u001b[0m\u001b[0;34m)\u001b[0m\u001b[0;34m\u001b[0m\u001b[0;34m\u001b[0m\u001b[0m\n\u001b[0m",
      "\u001b[0;32m<ipython-input-89-f0b16336d17f>\u001b[0m in \u001b[0;36m__printInvisible__\u001b[0;34m(self)\u001b[0m\n\u001b[1;32m     16\u001b[0m \u001b[0;34m\u001b[0m\u001b[0m\n\u001b[1;32m     17\u001b[0m     \u001b[0;32mdef\u001b[0m \u001b[0m__printInvisible__\u001b[0m\u001b[0;34m(\u001b[0m\u001b[0mself\u001b[0m\u001b[0;34m)\u001b[0m\u001b[0;34m:\u001b[0m\u001b[0;34m\u001b[0m\u001b[0;34m\u001b[0m\u001b[0m\n\u001b[0;32m---> 18\u001b[0;31m         \u001b[0mprint\u001b[0m\u001b[0;34m(\u001b[0m\u001b[0mself\u001b[0m\u001b[0;34m.\u001b[0m\u001b[0m__inVisible\u001b[0m\u001b[0;34m)\u001b[0m\u001b[0;34m\u001b[0m\u001b[0;34m\u001b[0m\u001b[0m\n\u001b[0m",
      "\u001b[0;31mAttributeError\u001b[0m: 'infoHiding' object has no attribute '_infoHiding__inVisible'"
     ]
    }
   ],
   "source": [
    "test.__printInvisible__()"
   ]
  },
  {
   "cell_type": "code",
   "execution_count": 97,
   "metadata": {},
   "outputs": [
    {
     "ename": "AttributeError",
     "evalue": "'infoHiding' object has no attribute '__printInvisible'",
     "output_type": "error",
     "traceback": [
      "\u001b[0;31m---------------------------------------------------------------------------\u001b[0m",
      "\u001b[0;31mAttributeError\u001b[0m                            Traceback (most recent call last)",
      "\u001b[0;32m<ipython-input-97-e3e103992aef>\u001b[0m in \u001b[0;36m<module>\u001b[0;34m\u001b[0m\n\u001b[0;32m----> 1\u001b[0;31m \u001b[0mtest\u001b[0m\u001b[0;34m.\u001b[0m\u001b[0m__printInvisible\u001b[0m\u001b[0;34m(\u001b[0m\u001b[0;34m)\u001b[0m\u001b[0;34m\u001b[0m\u001b[0;34m\u001b[0m\u001b[0m\n\u001b[0m",
      "\u001b[0;31mAttributeError\u001b[0m: 'infoHiding' object has no attribute '__printInvisible'"
     ]
    }
   ],
   "source": [
    "test.__printInvisible()"
   ]
  },
  {
   "cell_type": "markdown",
   "metadata": {},
   "source": [
    "不太理解隐藏属性和方法，没找到关于这个的讲解。暂记视频：  \n",
    "\n",
    "[(10) 马哥教育python视频 -- 48 Python类方法中的可用变量 - YouTube](https://www.youtube.com/watch?v=7d7xsJwGrgg)\n",
    "\n",
    "喜欢莫烦讲的：  \n",
    "[(10) python基础 18 class 类 (教学教程tutorial) - YouTube](https://www.youtube.com/watch?v=PI9U3LKNCo4)\n",
    "[(10) python基础 19 类 init 功能 (教学教程tutorial) - YouTube](https://www.youtube.com/watch?v=GxMm82yy2Ds)"
   ]
  },
  {
   "cell_type": "code",
   "execution_count": 104,
   "metadata": {},
   "outputs": [
    {
     "name": "stdout",
     "output_type": "stream",
     "text": [
      "Init Dog\n",
      "Init Dog\n",
      "huang\n"
     ]
    }
   ],
   "source": [
    "class Dog(object):\n",
    "    def __init__(self, name):\n",
    "        self.name = name\n",
    "        print('Init Dog')\n",
    "    def __str__(self):\n",
    "        return self.name\n",
    "    def __del(self):\n",
    "        print('%s 被回收' %self.name)\n",
    "        \n",
    "dog1 = Dog('huang')\n",
    "dog2 = Dog('Lan')\n",
    "print(dog1)"
   ]
  },
  {
   "cell_type": "markdown",
   "metadata": {},
   "source": [
    "[07_python类和对象【北京尚学堂·百战程序员】-教育-高清完整正版视频在线观看-优酷](https://v.youku.com/v_show/id_XNDAwNDQ5ODY0MA==.html?spm=a2h0k.11417342.soresults.dtitle)\n",
    "\n",
    "这个视频有助于我理解类和对象。"
   ]
  },
  {
   "cell_type": "markdown",
   "metadata": {},
   "source": [
    "还有个new方法。\n",
    "[python 类中__new__ 和 __init__方法区别 - 知乎](https://zhuanlan.zhihu.com/p/21379984)"
   ]
  },
  {
   "cell_type": "markdown",
   "metadata": {},
   "source": [
    "### 15.4 抵押贷款"
   ]
  },
  {
   "cell_type": "code",
   "execution_count": 19,
   "metadata": {
    "collapsed": true
   },
   "outputs": [],
   "source": [
    "def findPayment(loan, r, m):\n",
    "    return loan*(r*(1+r)**m)/((1+r)**m-1) #还款期限内每月所需固定支付金额，包括利息和本金。\n",
    "\n",
    "class Mortgage(object):\n",
    "    def __init__(self, loan, annRate, months):\n",
    "        self.loan = loan\n",
    "        self.rate = annRate/12\n",
    "        self.months = months\n",
    "        self.paid = [0.0]\n",
    "        self.outstanding = [loan]\n",
    "        self.payment = findPayment(loan, self.rate, months)\n",
    "        self.legend = None\n",
    "    \n",
    "    def makePayment(self):\n",
    "        self.paid.append(self.payment) #此为等额本息还款法\n",
    "        reduction = self.payment - self.outstanding[-1]*self.rate #余额乘以利率即利息。支付款项中去掉利息即为本金减少的部分\n",
    "        self.outstanding.append(self.outstanding[-1]-reduction) #余额减去本金减少的部分，为新的余额。\n",
    "    \n",
    "    def getTotalPaid(self):\n",
    "        return sum(self.paid)\n",
    "    \n",
    "    def __str__(self):\n",
    "        return self.legend"
   ]
  },
  {
   "cell_type": "code",
   "execution_count": 72,
   "metadata": {
    "collapsed": true
   },
   "outputs": [],
   "source": [
    "class Fixed(Mortgage):\n",
    "    def __init__(self, loan, rate, months):\n",
    "        Mortgage.__init__(self, loan, rate, months)\n",
    "        self.legend = 'Fixed, ' + str(round(rate*100,2)) + '%'"
   ]
  },
  {
   "cell_type": "code",
   "execution_count": 73,
   "metadata": {
    "collapsed": true
   },
   "outputs": [],
   "source": [
    "class FixedWithPts(Mortgage):\n",
    "    def __init__(self, loan, rate, months, pts):\n",
    "        Mortgage.__init__(self, loan, rate, months)\n",
    "        self.pts = pts\n",
    "        self.paid = [loan*pts/100]\n",
    "        self.legend = 'Fixed, ' + str(round(rate*100,2)) + '%, ' + str(pts) + 'points'"
   ]
  },
  {
   "cell_type": "code",
   "execution_count": 74,
   "metadata": {
    "collapsed": true
   },
   "outputs": [],
   "source": [
    "class TwoRate(Mortgage):\n",
    "    def __init__(self, loan, rate, months, teaserRate, teaserMonths):\n",
    "        Mortgage.__init__(self, loan, teaserRate, months)\n",
    "        self.teaserMonths = teaserMonths\n",
    "        self.teaserRate = teaserRate\n",
    "        self.nextRate = rate/12\n",
    "        self.legend = str(teaserRate*100) + '% for ' + str(self.teaserMonths) \\\n",
    "        + 'months, then ' + str(round(rate*100, 2)) + '%'\n",
    "        \n",
    "    def makePayment(self):\n",
    "        Mortgage.makePayment(self)\n",
    "        if len(self.paid) == self.teaserMonths + 1:\n",
    "            self.rate = self.nextRate\n",
    "            self.payment = findPayment(self.outstanding[-1], self.rate, self.months-self.teaserMonths)"
   ]
  },
  {
   "cell_type": "code",
   "execution_count": 39,
   "metadata": {
    "collapsed": true
   },
   "outputs": [],
   "source": [
    "def compareMortgage(amt, years, fixedRate, pts, ptsRate, varRate1, varRate2, varMonths):\n",
    "    totMonths = years*12\n",
    "    fixed1 = Fixed(amt, fixedRate, totMonths)\n",
    "    fixed2 = FixedWithPts(amt, ptsRate, totMonths, pts)\n",
    "    twoRate = TwoRate(amt, varRate2, totMonths, varRate1, varMonths)\n",
    "    morts = [fixed1, fixed2, twoRate]\n",
    "    for m in range(totMonths):\n",
    "        for mort in morts:\n",
    "            mort.makePayment()\n",
    "    for m in morts:\n",
    "        print(m)\n",
    "        # print([round(i,2) for i in m.paid[:]]) # 用列表推导式打印出了每个月的还款期刊。\n",
    "        print('Total payments = $' + str(int(m.getTotalPaid())))"
   ]
  },
  {
   "cell_type": "code",
   "execution_count": 40,
   "metadata": {},
   "outputs": [
    {
     "name": "stdout",
     "output_type": "stream",
     "text": [
      "Fixed, 7.0%\n",
      "Total payments = $1209466\n",
      "Fixed, 5.0%, 3.25points\n",
      "Total payments = $1050655\n",
      "4.5% for 48months, then 9.5%\n",
      "Total payments = $1292804\n"
     ]
    }
   ],
   "source": [
    "compareMortgage(amt=650000, years = 20, fixedRate=0.07, pts = 3.25, ptsRate=0.05, \\\n",
    "                varRate1=0.045, varRate2=0.095, varMonths=48)"
   ]
  },
  {
   "cell_type": "markdown",
   "metadata": {},
   "source": [
    "#### 15.4.2 增加绘图功能的进阶版"
   ]
  },
  {
   "cell_type": "code",
   "execution_count": 71,
   "metadata": {},
   "outputs": [],
   "source": [
    "def findPayment(loan, r, m):\n",
    "    return loan*(r*(1+r)**m)/((1+r)**m-1) #还款期限内每月所需固定支付金额，包括利息和本金。\n",
    "\n",
    "class Mortgage(object):\n",
    "    def __init__(self, loan, annRate, months):\n",
    "        self.loan = loan\n",
    "        self.rate = annRate/12\n",
    "        self.months = months\n",
    "        self.paid = [0.0]\n",
    "        self.outstanding = [loan]\n",
    "        self.payment = findPayment(loan, self.rate, months)\n",
    "        self.legend = None\n",
    "    \n",
    "    def makePayment(self):\n",
    "        self.paid.append(self.payment) #此为等额本息还款法\n",
    "        reduction = self.payment - self.outstanding[-1]*self.rate #余额乘以利率即利息。支付款项中去掉利息即为本金减少的部分\n",
    "        self.outstanding.append(self.outstanding[-1]-reduction) #余额减去本金减少的部分，为新的余额。\n",
    "    \n",
    "    def getTotalPaid(self):\n",
    "        return sum(self.paid)\n",
    "    \n",
    "    def __str__(self):\n",
    "        return self.legend\n",
    "    \n",
    "    #以下为新增的绘图方法\n",
    "    \n",
    "    def plotPayments(self, style):\n",
    "        pylab.plot(self.paid[1:], style, label=self.legend)\n",
    "        \n",
    "    def plotBalance(self, style):\n",
    "        pylab.plot(self.outstanding, style, label=self.legend)\n",
    "        \n",
    "    def plotTotPd(self, style):\n",
    "        totPd = [self.paid[0]]\n",
    "        for i in range(1, len(self.paid)):\n",
    "            totPd.append(totPd[-1]+self.paid[i])\n",
    "        pylab.plot(totPd, style, label=self.legend)\n",
    "        \n",
    "    def plotNet(self, style):\n",
    "        totPd = [self.paid[0]]\n",
    "        for i in range(1, len(self.paid)):\n",
    "            totPd.append(totPd[-1]+self.paid[i])\n",
    "        equityAcquired = pylab.array([self.loan]*len(self.outstanding))\n",
    "        equityAcquired = equityAcquired - pylab.array(self.outstanding)\n",
    "        net = pylab.array(totPd) - equityAcquired\n",
    "        pylab.plot(net, style, label=self.legend)"
   ]
  },
  {
   "cell_type": "markdown",
   "metadata": {},
   "source": [
    "子类的生成，没有变化。\n",
    "\n",
    "但是，**由于父类发生了变化，所以在程序运行时，子类需要再生成一遍，否则无法继承到父类新增的方法。**\n",
    "\n",
    "\n",
    "在比较三种贷款方式的函数中，新增了绘图模块。"
   ]
  },
  {
   "cell_type": "code",
   "execution_count": 78,
   "metadata": {
    "collapsed": true
   },
   "outputs": [],
   "source": [
    "def plotMortgages(morts, amt):\n",
    "    def labelPlot(figure, title, xLabel, yLabel):\n",
    "        pylab.figure(figure)\n",
    "        pylab.title(title)\n",
    "        pylab.xlabel(xLabel)\n",
    "        pylab.ylabel(yLabel)\n",
    "        pylab.legend(loc='best')\n",
    "    styles = ['k-', 'k-.', 'k:']\n",
    "    payments, balance, cost, netCost = 0, 1, 2, 3\n",
    "    for i in range(len(morts)):\n",
    "        pylab.figure(payments)\n",
    "        morts[i].plotPayments(styles[i])\n",
    "        pylab.figure(balance)\n",
    "        morts[i].plotBalance(styles[i])\n",
    "        pylab.figure(cost)\n",
    "        morts[i].plotTotPd(styles[i])\n",
    "        pylab.figure(netCost)\n",
    "        morts[i].plotNet(styles[i])\n",
    "    labelPlot(payments, 'Monthly Payments of $' + str(amt) + ' Mortgages', 'Months', 'Monthly Payments')\n",
    "    labelPlot(balance, 'Balance Remaining of $' + str(amt) + ' Mortgages', 'Months', 'Remaining Loan Balance of $')\n",
    "    labelPlot(cost, 'Cash Outlay of $' + str(amt) + ' Mortgages', 'Months', 'Total Payments')\n",
    "    labelPlot(netCost, 'Net Cost of $' + str(amt) + ' Mortgages', 'Months', 'Payments - Equity $')"
   ]
  },
  {
   "cell_type": "code",
   "execution_count": 79,
   "metadata": {
    "collapsed": true
   },
   "outputs": [],
   "source": [
    "def compareMortgage(amt, years, fixedRate, pts, ptsRate, varRate1, varRate2, varMonths):\n",
    "    totMonths = years*12\n",
    "    fixed1 = Fixed(amt, fixedRate, totMonths)\n",
    "    fixed2 = FixedWithPts(amt, ptsRate, totMonths, pts)\n",
    "    twoRate = TwoRate(amt, varRate2, totMonths, varRate1, varMonths)\n",
    "    morts = [fixed1, fixed2, twoRate]\n",
    "    for m in range(totMonths):\n",
    "        for mort in morts:\n",
    "            mort.makePayment()\n",
    "    plotMortgages(morts, amt)"
   ]
  },
  {
   "cell_type": "code",
   "execution_count": 81,
   "metadata": {
    "scrolled": true
   },
   "outputs": [
    {
     "data": {
      "image/png": "[encoded data removed]",
      "text/plain": [
       "<Figure size 432x288 with 1 Axes>"
      ]
     },
     "metadata": {
      "needs_background": "light"
     },
     "output_type": "display_data"
    },
    {
     "data": {
      "image/png": "[encoded data removed]",
      "text/plain": [
       "<Figure size 432x288 with 1 Axes>"
      ]
     },
     "metadata": {
      "needs_background": "light"
     },
     "output_type": "display_data"
    },
    {
     "data": {
      "image/png": "[encoded data removed]",
      "text/plain": [
       "<Figure size 432x288 with 1 Axes>"
      ]
     },
     "metadata": {
      "needs_background": "light"
     },
     "output_type": "display_data"
    },
    {
     "data": {
      "image/png": "[encoded data removed]",
      "text/plain": [
       "<Figure size 432x288 with 1 Axes>"
      ]
     },
     "metadata": {
      "needs_background": "light"
     },
     "output_type": "display_data"
    }
   ],
   "source": [
    "import pylab\n",
    "compareMortgage(amt=650000, years = 20, fixedRate=0.07, pts = 3.25, ptsRate=0.05, \\\n",
    "                varRate1=0.045, varRate2=0.095, varMonths=48)"
   ]
  },
  {
   "cell_type": "markdown",
   "metadata": {},
   "source": [
    "## 16. 复杂度"
   ]
  },
  {
   "cell_type": "markdown",
   "metadata": {},
   "source": [
    "### 16.1 整数转为字符"
   ]
  },
  {
   "cell_type": "code",
   "execution_count": 75,
   "metadata": {},
   "outputs": [],
   "source": [
    "def intToStr(i):\n",
    "    digits = '0123456789'\n",
    "    if i==0:\n",
    "        return '0'\n",
    "    result = ''\n",
    "    while i>0:\n",
    "        result = digits[i%10] + result\n",
    "        i = i//10\n",
    "    return result"
   ]
  },
  {
   "cell_type": "code",
   "execution_count": 76,
   "metadata": {},
   "outputs": [
    {
     "data": {
      "text/plain": [
       "'356'"
      ]
     },
     "execution_count": 76,
     "metadata": {},
     "output_type": "execute_result"
    }
   ],
   "source": [
    "intToStr(356)"
   ]
  },
  {
   "cell_type": "markdown",
   "metadata": {},
   "source": [
    "### 16.2 归并排序"
   ]
  },
  {
   "cell_type": "code",
   "execution_count": 106,
   "metadata": {},
   "outputs": [],
   "source": [
    "def merge(left,right,compare):\n",
    "    result = []\n",
    "    i = 0\n",
    "    j = 0\n",
    "    while i < len(left) and j < len(right):\n",
    "        if compare(left[i],right[j]):\n",
    "            result.append(left[i])\n",
    "            i+=1\n",
    "        else:\n",
    "            result.append(right[j])\n",
    "            j+=1\n",
    "    while i < len(left):\n",
    "        result.append(left[i])\n",
    "        i+=1\n",
    "        \n",
    "    while j < len(right):\n",
    "        result.append(right[j])\n",
    "        j+=1\n",
    "        \n",
    "    return result\n",
    "\n",
    "def mergeSort(L, compare = lambda x,y:x<y):    \n",
    "    if len(L)==0 or len(L)==1:\n",
    "        return L\n",
    "    else:\n",
    "        left = mergeSort(L[:len(L)//2], compare) \n",
    "        right = mergeSort(L[len(L)//2:], compare)\n",
    "        return merge(left, right, compare)    "
   ]
  },
  {
   "cell_type": "code",
   "execution_count": 107,
   "metadata": {
    "collapsed": true
   },
   "outputs": [],
   "source": [
    "L = [1, 5, 12, 18, 19, 20, 2, 3 ,4 ,7]"
   ]
  },
  {
   "cell_type": "code",
   "execution_count": 108,
   "metadata": {},
   "outputs": [
    {
     "data": {
      "text/plain": [
       "[20, 19, 18, 12, 7, 5, 4, 3, 2, 1]"
      ]
     },
     "execution_count": 108,
     "metadata": {},
     "output_type": "execute_result"
    }
   ],
   "source": [
    "mergeSort(L, compare = lambda x,y:x>y)"
   ]
  },
  {
   "cell_type": "markdown",
   "metadata": {},
   "source": [
    "## 17. 绘图"
   ]
  },
  {
   "cell_type": "markdown",
   "metadata": {},
   "source": [
    "### 17.1"
   ]
  },
  {
   "cell_type": "code",
   "execution_count": 11,
   "metadata": {},
   "outputs": [
    {
     "data": {
      "image/png": "[encoded data removed]",
      "text/plain": [
       "<Figure size 432x288 with 1 Axes>"
      ]
     },
     "metadata": {
      "needs_background": "light"
     },
     "output_type": "display_data"
    }
   ],
   "source": [
    "import pylab\n",
    "\n",
    "pylab.figure(1)\n",
    "pylab.plot([1,2,3,4,5,6,5.5],[1,7,3,5,3,2,1.5])\n",
    "pylab.savefig('Figure-Addie')\n",
    "pylab.show()"
   ]
  },
  {
   "cell_type": "code",
   "execution_count": 13,
   "metadata": {},
   "outputs": [
    {
     "data": {
      "image/png": "[encoded data removed]",
      "text/plain": [
       "<Figure size 432x288 with 1 Axes>"
      ]
     },
     "metadata": {
      "needs_background": "light"
     },
     "output_type": "display_data"
    },
    {
     "data": {
      "image/png": "[encoded data removed]",
      "text/plain": [
       "<Figure size 432x288 with 1 Axes>"
      ]
     },
     "metadata": {
      "needs_background": "light"
     },
     "output_type": "display_data"
    }
   ],
   "source": [
    "pylab.figure(2)\n",
    "pylab.plot([2,4,5,1],[7,2,3,8])\n",
    "pylab.figure(3)\n",
    "pylab.plot([4,3],[6,2])\n",
    "pylab.figure(2)\n",
    "pylab.savefig('Figure-Cindy')\n",
    "pylab.figure(3)\n",
    "pylab.savefig('Figure-Sunny')"
   ]
  },
  {
   "cell_type": "code",
   "execution_count": 16,
   "metadata": {},
   "outputs": [
    {
     "data": {
      "text/plain": [
       "[<matplotlib.lines.Line2D at 0x112f1c080>]"
      ]
     },
     "execution_count": 16,
     "metadata": {},
     "output_type": "execute_result"
    },
    {
     "data": {
      "image/png": "[encoded data removed]",
      "text/plain": [
       "<Figure size 432x288 with 1 Axes>"
      ]
     },
     "metadata": {
      "needs_background": "light"
     },
     "output_type": "display_data"
    }
   ],
   "source": [
    "pylab.figure(1)\n",
    "pylab.plot([3,4,2,4]) # 提供参数为Y值。X值由这个序列计算出来：range(len[3,4,2,4])即range(4)，也就是[0,1,2,3]"
   ]
  },
  {
   "cell_type": "code",
   "execution_count": 42,
   "metadata": {},
   "outputs": [
    {
     "data": {
      "text/plain": [
       "Text(0, 0.5, 'Value of Principal($)')"
      ]
     },
     "execution_count": 42,
     "metadata": {},
     "output_type": "execute_result"
    },
    {
     "data": {
      "image/png": "[encoded data removed]",
      "text/plain": [
       "<Figure size 432x288 with 1 Axes>"
      ]
     },
     "metadata": {
      "needs_background": "light"
     },
     "output_type": "display_data"
    }
   ],
   "source": [
    "# _*_coding:utf-8_*_\n",
    "\n",
    "principal = 10000\n",
    "interestRate = 0.05\n",
    "years = 20\n",
    "values = []\n",
    "\n",
    "for i in range(years + 1):\n",
    "    values.append(principal)\n",
    "    principal *= (1+interestRate)\n",
    "pylab.plot(values, 'ko')\n",
    "#pylab.plot(values, linewidth = 10)\n",
    "pylab.title('5% Growth, Compounded Annually', fontsize = 'xx-large')\n",
    "pylab.xlabel('Years of Copounding', fontsize = 'x-small')\n",
    "pylab.ylabel('Value of Principal($)')"
   ]
  },
  {
   "cell_type": "markdown",
   "metadata": {},
   "source": [
    "## 18. 最优化"
   ]
  },
  {
   "cell_type": "markdown",
   "metadata": {},
   "source": [
    "### 18.1 背包问题"
   ]
  },
  {
   "cell_type": "code",
   "execution_count": 24,
   "metadata": {
    "collapsed": true
   },
   "outputs": [],
   "source": [
    "# _*_coding:utf-8_*_\n",
    "\n",
    "# 定义背包类型：包含物品，物品重量，物品价值\n",
    "class Item(object):    \n",
    "    def __init__(self, name, value, weight):\n",
    "        self.name = name\n",
    "        self.value = value\n",
    "        self.weight = weight        \n",
    "    def getName(self):\n",
    "        return self.name    \n",
    "    def getValue(self):\n",
    "        return self.value    \n",
    "    def getWeight(self):\n",
    "        return self.weight    \n",
    "    def __str__(self):\n",
    "        result = '<' + self.name + ',' + str(self.value) + ',' + str(self.weight) + '>'\n",
    "        return result\n",
    "\n",
    "# 定义keyFucntion，为排序作准备。\n",
    "def value(item):\n",
    "    return item.getValue()\n",
    "def weightInverse(item):\n",
    "    return 1.0 / item.getWeight()\n",
    "def density(item):\n",
    "    return item.getValue()/item.getWeight()\n",
    "\n",
    "# 定义指定排序下拿物品的规则\n",
    "def greedy(item, maxWeight, keyFunction):\n",
    "    itemCopy = sorted(item, key=keyFunction, reverse=True)\n",
    "    result = []\n",
    "    totWeight= 0.0\n",
    "    totValue = 0.0\n",
    "    for i in itemCopy:\n",
    "        if i.getWeight() + totWeight <= maxWeight:\n",
    "            result.append(i)\n",
    "            totWeight += i.weight\n",
    "            totValue += i.value\n",
    "    return result, totValue\n",
    "\n",
    "# 指定排序下输出背包物品的结果\n",
    "def testGreedy(items, maxWeight, keyFunction):\n",
    "    taken, values = greedy(items, maxWeight, keyFunction)\n",
    "    for i in taken:\n",
    "        print(i)\n",
    "    print(values,'\\n')\n",
    "\n",
    "# 批量测试结果\n",
    "def testGreedys(items, maxWeight):\n",
    "    print('Use greedy by value to fill knapsack of size ', maxWeight)\n",
    "    testGreedy(items, maxWeight, value)\n",
    "    print('Use greedy by weight to fill knapsack of size ', maxWeight)\n",
    "    testGreedy(items, maxWeight, weightInverse)\n",
    "    print('Use greedy by density to fill knapsack of size ', maxWeight)\n",
    "    testGreedy(items, maxWeight, density)"
   ]
  },
  {
   "cell_type": "code",
   "execution_count": 25,
   "metadata": {},
   "outputs": [
    {
     "name": "stdout",
     "output_type": "stream",
     "text": [
      "Use greedy by value to fill knapsack of size  20\n",
      "<computer,200,20>\n",
      "200.0 \n",
      "\n",
      "Use greedy by weight to fill knapsack of size  20\n",
      "<book,10,1>\n",
      "<valve,50,2>\n",
      "<radio,20,4>\n",
      "<paint,90,9>\n",
      "170.0 \n",
      "\n",
      "Use greedy by density to fill knapsack of size  20\n",
      "<valve,50,2>\n",
      "<clock,175,10>\n",
      "<book,10,1>\n",
      "<radio,20,4>\n",
      "255.0 \n",
      "\n"
     ]
    }
   ],
   "source": [
    "# 给定物品价值表，赋值开始执行\n",
    "def builtItem():\n",
    "    names = ['clock', 'paint', 'radio', 'valve', 'book', 'computer']\n",
    "    values = [175, 90, 20, 50, 10, 200]\n",
    "    weights = [10, 9, 4, 2, 1, 20]\n",
    "    items = []\n",
    "    for i in range(len(names)):\n",
    "        items.append(Item(names[i], values[i], weights[i]))\n",
    "    return items\n",
    "\n",
    "# 执行\n",
    "testGreedys(builtItem(), 20)"
   ]
  },
  {
   "cell_type": "markdown",
   "metadata": {
    "collapsed": true
   },
   "source": [
    "#### 穷举最优"
   ]
  },
  {
   "cell_type": "code",
   "execution_count": 3,
   "metadata": {},
   "outputs": [
    {
     "data": {
      "text/plain": [
       "'100101'"
      ]
     },
     "execution_count": 3,
     "metadata": {},
     "output_type": "execute_result"
    }
   ],
   "source": [
    "#将一个十进制数转为指定位数的二进制。\n",
    "def getBinaryRep(n, numDigits):\n",
    "    result = ''\n",
    "    while n >0:\n",
    "        result = str(n%2) + result\n",
    "        n = n//2\n",
    "    if len(result)>numDigits:\n",
    "        raise ValueError('not enough digits.')\n",
    "    else:\n",
    "        for i in range(numDigits-len(result)):\n",
    "            result = '0' + result\n",
    "    return result\n",
    "\n",
    "getBinaryRep(37,6)"
   ]
  },
  {
   "cell_type": "code",
   "execution_count": 4,
   "metadata": {},
   "outputs": [],
   "source": [
    "#利用转二进制的方法，求子集。所谓子集，就是每一个元素要么在、要么不在的集合。所以每一位上都是0或者1，这样就是一个二进制数串了。\n",
    "def getSubSet(L):\n",
    "    powerSet = []\n",
    "    for i in range(2**len(L)):\n",
    "        sub = getBinaryRep(i,len(L))\n",
    "        subSet = []\n",
    "        for j in range(len(L)):\n",
    "            if sub[j]=='1':\n",
    "                subSet.append(L[j])\n",
    "        powerSet.append(subSet)\n",
    "    return powerSet"
   ]
  },
  {
   "cell_type": "code",
   "execution_count": 19,
   "metadata": {},
   "outputs": [
    {
     "name": "stdout",
     "output_type": "stream",
     "text": [
      "clock : 175\n",
      "paint : 90\n",
      "book : 10\n",
      "Total value is :  275\n"
     ]
    }
   ],
   "source": [
    "items = builtItem()\n",
    "\n",
    "# 求出给定背包集中的物品重量列表。\n",
    "def weights(items):\n",
    "    knapWeights = []\n",
    "    for i in range(len(items)):\n",
    "        knapWeights.append(items[i].weight)\n",
    "    return knapWeights\n",
    "\n",
    "# 筛选出符合背包最大承重的重量组合\n",
    "def maxWeightSet( maxWeight):\n",
    "    # 物品重量的所有组合方式穷举\n",
    "    knapSet = getSubSet(weights(items))\n",
    "    # 筛选不超过最大承重的组合\n",
    "    maxWeightKnap = []\n",
    "    for i in knapSet:\n",
    "        if sum(i)<=maxWeight and sum(i)>0:\n",
    "            maxWeightKnap.append(i)\n",
    "    return maxWeightKnap\n",
    "\n",
    "# 计算这些组合的物品价值\n",
    "maxWeightKnap = maxWeightSet(20)\n",
    "for i in maxWeightKnap:\n",
    "    for j in range(len(i)):\n",
    "        for k in range(len(items)):\n",
    "            if i[j]==items[k].weight:\n",
    "                i[j]=items[k].value\n",
    "                break #如果不跳出来，4-20-200，这样所有4都会变成200了。\n",
    "\n",
    "# 提取最大价值物品\n",
    "value = []\n",
    "for i in maxWeightKnap:\n",
    "    value.append(sum(i))\n",
    "for i in maxWeightKnap:\n",
    "    if sum(i)==max(value):\n",
    "        for j in range(len(i)):\n",
    "            for k in range(len(items)):\n",
    "                if i[j]==items[k].value:\n",
    "                    print(items[k].name,':',items[k].value)\n",
    "        print('Total value is : ', sum(i))"
   ]
  },
  {
   "cell_type": "markdown",
   "metadata": {},
   "source": [
    "for循环用得有点多。\n",
    "\n",
    "下面👇这个是书上写的。感觉是要把对象作为一个整体来思考，而不是各个部分无关的。"
   ]
  },
  {
   "cell_type": "code",
   "execution_count": 29,
   "metadata": {},
   "outputs": [],
   "source": [
    "def chooseBest(pset, maxWeight, getVal, getWeight):\n",
    "    bestVal = 0.0\n",
    "    bestSet = None\n",
    "    for items in pset:\n",
    "        itemsVal = 0.0\n",
    "        itemsWeight = 0.0\n",
    "        for item in items:\n",
    "            itemsVal += getVal(item)\n",
    "            itemsWeight += getWeight(item)\n",
    "        if itemsWeight<=maxWeight and itemsVal>bestVal:\n",
    "            bestVal = itemsVal\n",
    "            bestSet = items\n",
    "    return (bestSet, bestVal)"
   ]
  },
  {
   "cell_type": "code",
   "execution_count": 33,
   "metadata": {},
   "outputs": [
    {
     "name": "stdout",
     "output_type": "stream",
     "text": [
      "<clock,175,10>\n",
      "<paint,90,9>\n",
      "<book,10,1>\n",
      "Total value is :  275.0\n"
     ]
    }
   ],
   "source": [
    "pset = getSubSet(items)\n",
    "bestSet, bestVal = chooseBest(pset, 20, Item.getValue, Item.getWeight)\n",
    "for i in bestSet:\n",
    "    print(i)\n",
    "print('Total value is : ', bestVal)"
   ]
  },
  {
   "cell_type": "markdown",
   "metadata": {
    "collapsed": true
   },
   "source": [
    "读到这里感觉备受打击，决定终止这本书的阅读。下次再说。"
   ]
  },
  {
   "cell_type": "code",
   "execution_count": null,
   "metadata": {
    "collapsed": true
   },
   "outputs": [],
   "source": []
  }
 ],
 "metadata": {
  "kernelspec": {
   "display_name": "Python 3",
   "language": "python",
   "name": "python3"
  },
  "language_info": {
   "codemirror_mode": {
    "name": "ipython",
    "version": 3
   },
   "file_extension": ".py",
   "mimetype": "text/x-python",
   "name": "python",
   "nbconvert_exporter": "python",
   "pygments_lexer": "ipython3",
   "version": "3.7.3"
  }
 },
 "nbformat": 4,
 "nbformat_minor": 1
}
