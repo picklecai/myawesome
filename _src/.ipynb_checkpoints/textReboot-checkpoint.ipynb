{
 "cells": [
  {
   "cell_type": "markdown",
   "metadata": {},
   "source": [
    "## 1. 本地版记事本\n",
    "\n",
    "这是人生第一个python文件。又重新写了一遍。"
   ]
  },
  {
   "cell_type": "code",
   "execution_count": 43,
   "metadata": {
    "collapsed": false
   },
   "outputs": [
    {
     "name": "stdout",
     "output_type": "stream",
     "text": [
      "\n",
      "请输入你的选择：\n",
      "  1. 打印之前的内容\n",
      "  2. 写新的内容\n",
      "  3. 退出\n",
      "    \n",
      ">3\n"
     ]
    },
    {
     "ename": "SystemExit",
     "evalue": "0",
     "output_type": "error",
     "traceback": [
      "An exception has occurred, use %tb to see the full traceback.\n",
      "\u001b[0;31mSystemExit\u001b[0m\u001b[0;31m:\u001b[0m 0\n"
     ]
    }
   ],
   "source": [
    "#_*_coding:utf-8_*_\n",
    "\n",
    "from os.path import exists\n",
    "from sys import exit\n",
    "import time\n",
    "\n",
    "def main():\n",
    "    print('''\n",
    "请输入你的选择：\n",
    "  1. 打印之前的内容\n",
    "  2. 写新的内容\n",
    "  3. 退出\n",
    "    ''')\n",
    "    choose = input('>')\n",
    "    if choose == '1':\n",
    "        printHistory()\n",
    "        main()\n",
    "    elif choose == '2':\n",
    "        writeNew()\n",
    "        main()\n",
    "    elif choose == '3':\n",
    "        exit(0)\n",
    "    else:\n",
    "        print('对不起，我不知道你要干什么。')\n",
    "        main()\n",
    "\n",
    "def printHistory():\n",
    "    if exists('tempfile.txt'):\n",
    "        print('历史记录：')\n",
    "        print('='*80)\n",
    "        txt = open('tempfile.txt')\n",
    "        lines = txt.readlines()\n",
    "        for i in lines:\n",
    "            print(i)\n",
    "        print('='*80)\n",
    "    else:\n",
    "        print('程序第一次运行，还没有历史记录。请选择2录入新内容。')\n",
    "\n",
    "def writeNew():\n",
    "    temp = open('tempfile.txt', 'a')\n",
    "    global content #global声明和赋值不能合一句。\n",
    "    content = input('今日记录，请输入：')\n",
    "    temp.write(time.strftime('%d/%m/%Y %H:%M:%s'+'\\n')) #在保存当前输入的同时，也保存当前时间。\n",
    "    temp.write(content+'\\n'+'\\n')\n",
    "    temp.close()\n",
    "    print('''\n",
    "你是否想把新输入内容存为独立文件？\n",
    "  1. 随便写写，不用保存。\n",
    "  2. 保存吧。\n",
    "    ''')\n",
    "    c = input('>')  \n",
    "    if c == '1':\n",
    "        main()\n",
    "    elif c == '2':\n",
    "        saveNew()\n",
    "    else:\n",
    "        print('对不起，我不知道你想要干什么。请重新选择是否要存盘。')\n",
    "        saveNew()\n",
    "\n",
    "def saveNew():\n",
    "    print('请输入文件名（扩展名已经默认为txt）：')\n",
    "    filename = input() + '.txt'\n",
    "    if exists(filename):\n",
    "        t = open(filename, 'a')\n",
    "    else:\n",
    "        t = open(filename, 'w')\n",
    "        t.write(filename+'\\n')\n",
    "        t.write('='*80+'\\n'+'\\n')\n",
    "    t.write(time.strftime('%d/%m/%Y %H:%M:%s'+'\\n'))\n",
    "    t.write(content+'\\n'+'\\n')\n",
    "    t.close() \n",
    "        \n",
    "if __name__ == '__main__':\n",
    "    main()"
   ]
  },
  {
   "cell_type": "markdown",
   "metadata": {},
   "source": [
    "小结：  \n",
    "1. pass语句对写整体结构很有帮助。这也是之前培炎经常说的。  \n",
    "2. global语句的声明和赋值不能合为一句，之前没有遇到过。  \n",
    "3. 在这个例子中，要么函数嵌套，要么用全局变量。似乎没有看到既不嵌套函数也不全局变量的解决方案。  \n",
    "4. 我之前写的程序，很久以后再运行，往往对输入值的要求不甚明了。例如本例中文件名是否要加扩展名。所以这方面要给足提示。\n",
    "5. 其实这第一个程序，就已经用了递归。但那时没太注意到，还一直觉得递归很难理解。最近理解后，马上觉得递归太好用了。\n",
    "6. print仍然是最好用但debug方法。今天把write()的结果赋值给content，要不是打印出来，都不知道为啥是int而不是str。"
   ]
  },
  {
   "cell_type": "markdown",
   "metadata": {
    "collapsed": true
   },
   "source": [
    "## 2. Tkinter版本"
   ]
  },
  {
   "cell_type": "code",
   "execution_count": 1,
   "metadata": {
    "collapsed": false
   },
   "outputs": [],
   "source": [
    "# _*_coding:utf-8_*_\n",
    "import tkinter, os, time\n",
    "\n",
    "root = tkinter.Tk()\n",
    "root.title('记事本')\n",
    "root.geometry('640x480')\n",
    "\n",
    "var = tkinter.StringVar()\n",
    "\n",
    "def print_history():\n",
    "    os.chdir(os.path.dirname(os.getcwd()) + '/files')\n",
    "    if os.path.exists('notebook.txt'):\n",
    "        file = open(os.getcwd()+'/notebook.txt','r')\n",
    "        content = file.read()\n",
    "        '''content = []\n",
    "        for line in file.readlines(): #如果用这种，会打印出{}\n",
    "            content.append(line)'''\n",
    "        file.close()\n",
    "        os.chdir(os.path.dirname(os.getcwd()) + '/_src')\n",
    "    else:\n",
    "        content = '程序第一次运行，还没有历史记录可打印。赶快去输入内容吧。'\n",
    "    var.set(content)\n",
    "\n",
    "def save():\n",
    "    content = entry.get()\n",
    "    os.chdir(os.path.dirname(os.getcwd()) + '/files')\n",
    "    if os.path.exists('notebook.txt'):\n",
    "        file = open(os.getcwd()+'/notebook.txt','a')\n",
    "    else:\n",
    "        file = open(os.getcwd()+'/notebook.txt','w')\n",
    "    file.write(time.strftime('%Y/%m/%d %H:%M'+'\\n'))\n",
    "    file.write(content+'\\n'+'\\n')\n",
    "    file.close()\n",
    "    os.chdir(os.path.dirname(os.getcwd()) + '/_src')\n",
    "\n",
    "l1 = tkinter.Label(root, text='历史记录区：')\n",
    "l1.place(x=15, y=10)\n",
    "\n",
    "label = tkinter.Label(root, textvariable=var, bg='#EEEEEE', width=65, height=18, justify='left',\\\n",
    "                      anchor='nw') #文字左对齐、顶部对齐\n",
    "label.place(x=15, y=35)\n",
    "\n",
    "l2 = tkinter.Label(root, text='输入新内容：')\n",
    "l2.place(x=15, y=370)\n",
    "\n",
    "entry = tkinter.Entry(root, width=65)\n",
    "entry.place(x=15, y=395)\n",
    "\n",
    "b1 = tkinter.Button(root, text='打印历史记录', command=print_history)\n",
    "b2 = tkinter.Button(root, text='保存输入', command=save)\n",
    "b1.place(x=150, y=440)\n",
    "b2.place(x=400, y=440)\n",
    "\n",
    "root.mainloop()"
   ]
  },
  {
   "cell_type": "markdown",
   "metadata": {
    "collapsed": true
   },
   "source": [
    "1. 找不到文件，是因为在文件前多加了个反斜杠\\。\n",
    "2. 打印时要直接read，不要readlines逐句，否则打印{}\n",
    "3. 可以让save弹出messagebox框，问要不要保存。\n",
    "4. 如果文字太长，历史记录区就不够了。不知道能不能用滚动条？"
   ]
  },
  {
   "cell_type": "code",
   "execution_count": null,
   "metadata": {
    "collapsed": true
   },
   "outputs": [],
   "source": []
  }
 ],
 "metadata": {
  "kernelspec": {
   "display_name": "Python 3",
   "language": "python",
   "name": "python3"
  },
  "language_info": {
   "codemirror_mode": {
    "name": "ipython",
    "version": 3
   },
   "file_extension": ".py",
   "mimetype": "text/x-python",
   "name": "python",
   "nbconvert_exporter": "python",
   "pygments_lexer": "ipython3",
   "version": "3.7.2"
  }
 },
 "nbformat": 4,
 "nbformat_minor": 0
}
