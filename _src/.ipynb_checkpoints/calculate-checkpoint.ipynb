{
 "cells": [
  {
   "cell_type": "markdown",
   "metadata": {},
   "source": [
    "## 计算平方根"
   ]
  },
  {
   "cell_type": "code",
   "execution_count": 1,
   "metadata": {
    "collapsed": true
   },
   "outputs": [],
   "source": [
    "import random \n",
    "def square_root(x):\n",
    "    g = random.randint(1, x)\n",
    "    while True:\n",
    "        if abs(g*g-x) < 0.00001:\n",
    "            return g\n",
    "            break\n",
    "        else:\n",
    "            g = (g+x/g)/2\n",
    "            continue      "
   ]
  },
  {
   "cell_type": "code",
   "execution_count": 2,
   "metadata": {
    "collapsed": false
   },
   "outputs": [
    {
     "data": {
      "text/plain": [
       "4.000000000204789"
      ]
     },
     "execution_count": 2,
     "metadata": {},
     "output_type": "execute_result"
    }
   ],
   "source": [
    "square_root(16)"
   ]
  },
  {
   "cell_type": "markdown",
   "metadata": {},
   "source": [
    "## 计算三个数中最大的奇数"
   ]
  },
  {
   "cell_type": "code",
   "execution_count": 3,
   "metadata": {
    "collapsed": false
   },
   "outputs": [],
   "source": [
    "def max_odd(x,y,z):\n",
    "    if x%2==0:\n",
    "        if y%2==0:\n",
    "            if z%2==0:\n",
    "                print('No odd.')\n",
    "                return None\n",
    "            else:\n",
    "                return z\n",
    "        elif y%2!=0 and z%2==0:\n",
    "            return y\n",
    "        else:\n",
    "            if y>= z:\n",
    "                return y\n",
    "            else:\n",
    "                return z\n",
    "    else:\n",
    "        if y%2==0 and z%2==0:\n",
    "            return x\n",
    "        elif y%2==0 and z%2!=0:\n",
    "            if x>=z:\n",
    "                return x\n",
    "            else:\n",
    "                return z\n",
    "        elif y%2!=0 and z%2==0:\n",
    "            if x>=y:\n",
    "                return x\n",
    "            else:\n",
    "                return y\n",
    "        else:\n",
    "            if x<=y and y<z:\n",
    "                return z\n",
    "            elif x<=y and y>=z:\n",
    "                return y\n",
    "            elif x>y and y>=z:\n",
    "                return x\n",
    "            elif x>y and y<z:\n",
    "                if x>=z:\n",
    "                    return x\n",
    "                else:\n",
    "                    return z"
   ]
  },
  {
   "cell_type": "code",
   "execution_count": 4,
   "metadata": {
    "collapsed": false
   },
   "outputs": [
    {
     "data": {
      "text/plain": [
       "45"
      ]
     },
     "execution_count": 4,
     "metadata": {},
     "output_type": "execute_result"
    }
   ],
   "source": [
    "max_odd(43,45,43)"
   ]
  },
  {
   "cell_type": "markdown",
   "metadata": {},
   "source": [
    "## 输出指定数量的某字符"
   ]
  },
  {
   "cell_type": "code",
   "execution_count": 5,
   "metadata": {
    "collapsed": false
   },
   "outputs": [
    {
     "name": "stdout",
     "output_type": "stream",
     "text": [
      "Which letter should I print? x\n",
      "How many times should I print the letter x ?25\n",
      "xxxxxxxxxxxxxxxxxxxxxxxxx\n"
     ]
    }
   ],
   "source": [
    "def x_num(num,s):\n",
    "    to_print = s * num\n",
    "    print(to_print)\n",
    "\n",
    "while True:\n",
    "    '''\n",
    "    如果用户输入的字符不是字母或数字，则需要重新输入。\n",
    "    '''\n",
    "    s = input('Which letter should I print? ')\n",
    "    if s.isalnum():\n",
    "        break    \n",
    "    \n",
    "while True:\n",
    "    '''\n",
    "    如果用户输入的数字不是正整数，则需要重新输入。\n",
    "    '''\n",
    "    n = input('How many times should I print the letter %s ?' %s)\n",
    "    if n.isdecimal() and int(n)>0:\n",
    "        n = int(n)\n",
    "        break\n",
    "x_num(n,s)"
   ]
  },
  {
   "cell_type": "markdown",
   "metadata": {},
   "source": [
    "## 计算n个数中最大的奇数"
   ]
  },
  {
   "cell_type": "markdown",
   "metadata": {},
   "source": [
    "前面这个计算3个数中最大的奇数，代码太长。用数组来存储，for循环算出是否奇偶之后，仍然存数组，用max求最大值即可。"
   ]
  },
  {
   "cell_type": "code",
   "execution_count": 6,
   "metadata": {
    "collapsed": false
   },
   "outputs": [],
   "source": [
    "def odd_max(num_list):\n",
    "    odd_list = []\n",
    "    for i in range(len(num_list)):\n",
    "        if num_list[i]%2!=0:\n",
    "            odd_list.append(num_list[i])\n",
    "    if odd_list == []:\n",
    "        print('No odd.')\n",
    "    else:\n",
    "        return max(odd_list)"
   ]
  },
  {
   "cell_type": "code",
   "execution_count": 7,
   "metadata": {
    "collapsed": false
   },
   "outputs": [
    {
     "data": {
      "text/plain": [
       "119"
      ]
     },
     "execution_count": 7,
     "metadata": {},
     "output_type": "execute_result"
    }
   ],
   "source": [
    "num_list = [34,22,12,43,43,96,10,57,119,93]\n",
    "odd_max(num_list)"
   ]
  },
  {
   "cell_type": "markdown",
   "metadata": {},
   "source": [
    "哈哈哈！这回只有9行。感觉是真的会写程序了。"
   ]
  },
  {
   "cell_type": "markdown",
   "metadata": {},
   "source": [
    "## 计算完全立方数"
   ]
  },
  {
   "cell_type": "code",
   "execution_count": 8,
   "metadata": {
    "collapsed": true
   },
   "outputs": [],
   "source": [
    "def cube_root(x):\n",
    "    c = 0\n",
    "    while c**3<abs(x):\n",
    "        c += 1\n",
    "    if c**3!=abs(x):\n",
    "        print('%d is not cube number.' %x)\n",
    "    else:\n",
    "        if x<0:\n",
    "            c = -c\n",
    "        print('Cube root of %d is %d' %(x,c))"
   ]
  },
  {
   "cell_type": "code",
   "execution_count": 9,
   "metadata": {
    "collapsed": false
   },
   "outputs": [
    {
     "name": "stdout",
     "output_type": "stream",
     "text": [
      "Cube root of 1957816251 is 1251\n"
     ]
    }
   ],
   "source": [
    "cube_root(1957816251)"
   ]
  },
  {
   "cell_type": "markdown",
   "metadata": {
    "collapsed": false
   },
   "source": [
    "## 某整数是否有根"
   ]
  },
  {
   "cell_type": "code",
   "execution_count": 10,
   "metadata": {
    "collapsed": false
   },
   "outputs": [],
   "source": [
    "def num_root(x):\n",
    "    root_list = []\n",
    "    for i in range(11):\n",
    "        root = 1        \n",
    "        while root<x:\n",
    "            if root**i!=x: \n",
    "                root += 1\n",
    "            else:\n",
    "                root_list.append(root)\n",
    "                print('%d ** %d is %d'%(root, i, x))\n",
    "                break \n",
    "        i += 1\n",
    "    if root_list == []:\n",
    "        print('No root for %d' %x)"
   ]
  },
  {
   "cell_type": "code",
   "execution_count": 11,
   "metadata": {
    "collapsed": false
   },
   "outputs": [
    {
     "name": "stdout",
     "output_type": "stream",
     "text": [
      "28 ** 2 is 784\n"
     ]
    }
   ],
   "source": [
    "num_root(28**2)"
   ]
  },
  {
   "cell_type": "markdown",
   "metadata": {},
   "source": [
    "## 逗号隔开的数值字符串求和"
   ]
  },
  {
   "cell_type": "code",
   "execution_count": 12,
   "metadata": {
    "collapsed": true
   },
   "outputs": [],
   "source": [
    "def num_sum(s):\n",
    "    num_list = []\n",
    "    i = 0\n",
    "    while i <= len(s):\n",
    "        if ',' in s:\n",
    "            if s[i]!=',':\n",
    "                i = i + 1\n",
    "            else:\n",
    "                num_list.append(float(s[0:i]))\n",
    "                s = (s.replace((s[0:i]),'')).strip(',')\n",
    "                i = 0\n",
    "                continue\n",
    "        else:\n",
    "            num_list.append(float(s))\n",
    "            break\n",
    "    return sum(num_list)"
   ]
  },
  {
   "cell_type": "code",
   "execution_count": 13,
   "metadata": {
    "collapsed": false
   },
   "outputs": [
    {
     "data": {
      "text/plain": [
       "22.623"
      ]
     },
     "execution_count": 13,
     "metadata": {},
     "output_type": "execute_result"
    }
   ],
   "source": [
    "num_sum('1.23,2.4,3.123,4.34,5.32,6.21')"
   ]
  },
  {
   "cell_type": "markdown",
   "metadata": {
    "collapsed": false
   },
   "source": [
    "## 求平方根"
   ]
  },
  {
   "cell_type": "code",
   "execution_count": 14,
   "metadata": {
    "collapsed": true
   },
   "outputs": [],
   "source": [
    "def sqr_root(x):\n",
    "    epsilon = 0.001 \n",
    "    c = 0\n",
    "    i = 0\n",
    "    while abs(c**2-x)>epsilon and c<x:\n",
    "        c = c + epsilon**2\n",
    "        i += 1\n",
    "    print(i)\n",
    "    return c"
   ]
  },
  {
   "cell_type": "code",
   "execution_count": 15,
   "metadata": {
    "collapsed": false
   },
   "outputs": [
    {
     "name": "stdout",
     "output_type": "stream",
     "text": [
      "3463958\n"
     ]
    },
    {
     "data": {
      "text/plain": [
       "3.4639580001302805"
      ]
     },
     "execution_count": 15,
     "metadata": {},
     "output_type": "execute_result"
    }
   ],
   "source": [
    "sqr_root(12)"
   ]
  },
  {
   "cell_type": "code",
   "execution_count": 16,
   "metadata": {
    "collapsed": false
   },
   "outputs": [
    {
     "name": "stdout",
     "output_type": "stream",
     "text": [
      "34\n"
     ]
    },
    {
     "data": {
      "text/plain": [
       "351.36306126974523"
      ]
     },
     "execution_count": 16,
     "metadata": {},
     "output_type": "execute_result"
    }
   ],
   "source": [
    "def sqr_root_bisec(x):\n",
    "    epsilon = 0.001 \n",
    "    low = 0\n",
    "    high = x\n",
    "    c = (low+high)/2\n",
    "    i = 0\n",
    "    while abs(c**2-x)>epsilon:\n",
    "        if c**2<=x:\n",
    "            low = c\n",
    "            i += 1\n",
    "        else:\n",
    "            high = c\n",
    "            i += 1\n",
    "        c = (low+high)/2\n",
    "    print(i)\n",
    "    return c\n",
    "sqr_root_bisec(123456)"
   ]
  },
  {
   "cell_type": "code",
   "execution_count": 17,
   "metadata": {
    "collapsed": false
   },
   "outputs": [
    {
     "name": "stdout",
     "output_type": "stream",
     "text": [
      "11\n"
     ]
    },
    {
     "data": {
      "text/plain": [
       "351.3630601485824"
      ]
     },
     "execution_count": 17,
     "metadata": {},
     "output_type": "execute_result"
    }
   ],
   "source": [
    "def sqr_root_newton(x):\n",
    "    epsilon = 0.001\n",
    "    guess = x/2  #zheli buchuyi 2, zhi duole 1ci.\n",
    "    i = 0\n",
    "    while abs(guess**2-x)>epsilon:\n",
    "        guess = guess - (guess**2-x)/(2*guess)\n",
    "        i += 1\n",
    "    print(i)\n",
    "    return guess\n",
    "sqr_root_newton(123456)"
   ]
  },
  {
   "cell_type": "markdown",
   "metadata": {},
   "source": [
    "没想到牛顿的方法比二分法还快！！！"
   ]
  },
  {
   "cell_type": "markdown",
   "metadata": {},
   "source": [
    "## 浮点数"
   ]
  },
  {
   "cell_type": "code",
   "execution_count": 18,
   "metadata": {
    "collapsed": false
   },
   "outputs": [
    {
     "name": "stdout",
     "output_type": "stream",
     "text": [
      "0.9999999999999999\n"
     ]
    }
   ],
   "source": [
    "x = 0.0\n",
    "for i in range(10):\n",
    "    x = x + 0.1\n",
    "print(x)"
   ]
  },
  {
   "cell_type": "markdown",
   "metadata": {
    "collapsed": true
   },
   "source": [
    "## 判断是否包含"
   ]
  },
  {
   "cell_type": "code",
   "execution_count": 19,
   "metadata": {
    "collapsed": false
   },
   "outputs": [
    {
     "data": {
      "text/plain": [
       "True"
      ]
     },
     "execution_count": 19,
     "metadata": {},
     "output_type": "execute_result"
    }
   ],
   "source": [
    "def isIn(subS, s):\n",
    "    if subS in s:\n",
    "        return True\n",
    "    else:\n",
    "        return False\n",
    "isIn('et', 'wetrt')"
   ]
  },
  {
   "cell_type": "markdown",
   "metadata": {},
   "source": [
    "## 阶乘"
   ]
  },
  {
   "cell_type": "code",
   "execution_count": 20,
   "metadata": {
    "collapsed": false
   },
   "outputs": [
    {
     "data": {
      "text/plain": [
       "3628800"
      ]
     },
     "execution_count": 20,
     "metadata": {},
     "output_type": "execute_result"
    }
   ],
   "source": [
    "def factI(n):\n",
    "    y = 1\n",
    "    while n>1:\n",
    "        y = y * n\n",
    "        n = n -1\n",
    "    return y\n",
    "factI(10)"
   ]
  },
  {
   "cell_type": "code",
   "execution_count": 21,
   "metadata": {
    "collapsed": false
   },
   "outputs": [
    {
     "data": {
      "text/plain": [
       "3628800"
      ]
     },
     "execution_count": 21,
     "metadata": {},
     "output_type": "execute_result"
    }
   ],
   "source": [
    "def factR(n):\n",
    "    if n == 1:\n",
    "        return n\n",
    "    else:\n",
    "        return factI(n-1)*n\n",
    "factR(10)"
   ]
  },
  {
   "cell_type": "markdown",
   "metadata": {
    "collapsed": true
   },
   "source": [
    "## 斐波那契数列"
   ]
  },
  {
   "cell_type": "code",
   "execution_count": 22,
   "metadata": {
    "collapsed": false
   },
   "outputs": [
    {
     "name": "stdout",
     "output_type": "stream",
     "text": [
      "1 1\n",
      "1 1\n",
      "2 3\n",
      "3 5\n",
      "5 9\n"
     ]
    }
   ],
   "source": [
    "def fab(x):\n",
    "    global numFibCalls\n",
    "    numFibCalls += 1\n",
    "    if x==0 or x==1:\n",
    "        return 1\n",
    "    else:\n",
    "        return fab(x-1)+fab(x-2)\n",
    "for i in range(5):\n",
    "    global numFibCalls\n",
    "    numFibCalls = 0\n",
    "    print(fab(i), end=' ')\n",
    "    print(numFibCalls)"
   ]
  },
  {
   "cell_type": "markdown",
   "metadata": {},
   "source": [
    "## 检测回文"
   ]
  },
  {
   "cell_type": "code",
   "execution_count": 23,
   "metadata": {
    "collapsed": false
   },
   "outputs": [],
   "source": [
    "def isPalExist(s):\n",
    "    def toChars(s):\n",
    "        s1 = s.lower()\n",
    "        return s1\n",
    "    def isPal(s):\n",
    "        '''\n",
    "        if len(s)<=1 or (len(s)==2 and s[0]==s[-1]):\n",
    "            return True\n",
    "        else:\n",
    "            if s[0]==s[-1]:\n",
    "                isPal(s[1:-1])\n",
    "            else:\n",
    "                return False\n",
    "        '''\n",
    "        if len(s)<=1:\n",
    "            return True\n",
    "        else:\n",
    "            return s[0]==s[-1] and isPal(s[1:-1])        \n",
    "    return isPal(toChars(s))"
   ]
  },
  {
   "cell_type": "code",
   "execution_count": 24,
   "metadata": {
    "collapsed": false
   },
   "outputs": [
    {
     "data": {
      "text/plain": [
       "True"
      ]
     },
     "execution_count": 24,
     "metadata": {},
     "output_type": "execute_result"
    }
   ],
   "source": [
    "isPalExist('Goddog')"
   ]
  },
  {
   "cell_type": "markdown",
   "metadata": {},
   "source": [
    "## 函数作参数"
   ]
  },
  {
   "cell_type": "code",
   "execution_count": 25,
   "metadata": {
    "collapsed": false
   },
   "outputs": [
    {
     "name": "stdout",
     "output_type": "stream",
     "text": [
      "1\n",
      "8\n",
      "13\n"
     ]
    }
   ],
   "source": [
    "def applyToEach(L,f):\n",
    "    for i in range(len(L)):\n",
    "        L[i] = f(L[i])\n",
    "        print(L[i])\n",
    "        \n",
    "L = [1,5,6]\n",
    "applyToEach(L,fab)"
   ]
  },
  {
   "cell_type": "code",
   "execution_count": 26,
   "metadata": {
    "collapsed": false
   },
   "outputs": [
    {
     "name": "stdout",
     "output_type": "stream",
     "text": [
      "2\n",
      "15\n",
      "36\n"
     ]
    }
   ],
   "source": [
    "L1 = [3, 28, 36]\n",
    "L2 = [2, 15, 92]\n",
    "for i in map(min,L1,L2):\n",
    "    print(i)"
   ]
  },
  {
   "cell_type": "code",
   "execution_count": 27,
   "metadata": {
    "collapsed": false
   },
   "outputs": [
    {
     "name": "stdout",
     "output_type": "stream",
     "text": [
      "1\n",
      "4\n",
      "27\n",
      "256\n"
     ]
    }
   ],
   "source": [
    "L = []\n",
    "for i in map(lambda x, y: x**y, [1,2,3,4],[1,2,3,4]):\n",
    "    print(i)"
   ]
  },
  {
   "cell_type": "markdown",
   "metadata": {},
   "source": [
    "## 处理异常"
   ]
  },
  {
   "cell_type": "markdown",
   "metadata": {},
   "source": [
    "### 不除以零"
   ]
  },
  {
   "cell_type": "code",
   "execution_count": 29,
   "metadata": {
    "collapsed": false
   },
   "outputs": [
    {
     "name": "stdout",
     "output_type": "stream",
     "text": [
      "Input a number as a dividend:5\n",
      "Input a number as a divisor:0\n",
      "Fact should not be Zero.\n"
     ]
    }
   ],
   "source": [
    "def divise_noZero(num, fact):\n",
    "    try:\n",
    "        division = num / fact\n",
    "        print(division)\n",
    "        return division\n",
    "    except ZeroDivisionError:\n",
    "        print('Fact should not be Zero.')\n",
    "num = int(input('Input a number as a dividend:'))\n",
    "fact = int(input('Input a number as a divisor:'))\n",
    "divise_noZero(num, fact)"
   ]
  },
  {
   "cell_type": "markdown",
   "metadata": {},
   "source": [
    "### 字符串中的数值求和"
   ]
  },
  {
   "cell_type": "code",
   "execution_count": 30,
   "metadata": {
    "collapsed": true
   },
   "outputs": [],
   "source": [
    "def sumDigits(s):\n",
    "    num = []\n",
    "    for i in s:\n",
    "        if i in '0123456789':\n",
    "            num.append(int(i))\n",
    "        else:\n",
    "            continue\n",
    "    if num == []:\n",
    "        print('There is no digit in this string.')\n",
    "    return sum(num)"
   ]
  },
  {
   "cell_type": "code",
   "execution_count": 31,
   "metadata": {
    "collapsed": false
   },
   "outputs": [
    {
     "name": "stdout",
     "output_type": "stream",
     "text": [
      "There is no digit in this string.\n"
     ]
    },
    {
     "data": {
      "text/plain": [
       "0"
      ]
     },
     "execution_count": 31,
     "metadata": {},
     "output_type": "execute_result"
    }
   ],
   "source": [
    "sumDigits('abeeettued')"
   ]
  },
  {
   "cell_type": "markdown",
   "metadata": {},
   "source": [
    "### 限定输入整数"
   ]
  },
  {
   "cell_type": "code",
   "execution_count": 32,
   "metadata": {
    "collapsed": false
   },
   "outputs": [
    {
     "name": "stdout",
     "output_type": "stream",
     "text": [
      "Enter an integer:4rt\n",
      "4rt is not an interger.\n",
      "Enter an integer:456\n"
     ]
    },
    {
     "data": {
      "text/plain": [
       "456"
      ]
     },
     "execution_count": 32,
     "metadata": {},
     "output_type": "execute_result"
    }
   ],
   "source": [
    "def readInt():\n",
    "    while True:\n",
    "        val = input('Enter an integer:')\n",
    "        try:\n",
    "            return int(val)\n",
    "        except (ValueError,TypeError):\n",
    "            print('%s is not an interger.' %val)\n",
    "readInt()"
   ]
  },
  {
   "cell_type": "markdown",
   "metadata": {},
   "source": [
    "### 找第一个偶数（输入数值串）"
   ]
  },
  {
   "cell_type": "code",
   "execution_count": 1,
   "metadata": {
    "collapsed": false
   },
   "outputs": [
    {
     "data": {
      "text/plain": [
       "ValueError"
      ]
     },
     "execution_count": 1,
     "metadata": {},
     "output_type": "execute_result"
    }
   ],
   "source": [
    "def findAnEven(L):\n",
    "    result = ''\n",
    "    for i in L:\n",
    "        if int(i)%2==0:\n",
    "            return i\n",
    "            break\n",
    "        else:\n",
    "            result += i\n",
    "    if result != '':\n",
    "        return ValueError\n",
    "L = '7797'\n",
    "findAnEven(L)"
   ]
  },
  {
   "cell_type": "markdown",
   "metadata": {},
   "source": [
    "### 找第一个偶数（输入数值字母或其他字符串）"
   ]
  },
  {
   "cell_type": "code",
   "execution_count": 2,
   "metadata": {
    "collapsed": true
   },
   "outputs": [],
   "source": [
    "def findEvenNoAlpha(L):\n",
    "    result = ''\n",
    "    for i in L:\n",
    "        try:\n",
    "            if int(i)%2==0:\n",
    "                print('The first even number %s is found.' %i)\n",
    "                return i\n",
    "                break\n",
    "            else:\n",
    "                result += i\n",
    "                print('%s is an odd number, not even.' %i)\n",
    "        except ValueError as msg:\n",
    "            result += i\n",
    "            print(msg)\n",
    "    if result != '':\n",
    "        return ValueError"
   ]
  },
  {
   "cell_type": "code",
   "execution_count": 3,
   "metadata": {
    "collapsed": false
   },
   "outputs": [
    {
     "name": "stdout",
     "output_type": "stream",
     "text": [
      "3 is an odd number, not even.\n",
      "5 is an odd number, not even.\n",
      "The first even number 6 is found.\n"
     ]
    },
    {
     "data": {
      "text/plain": [
       "'6'"
      ]
     },
     "execution_count": 3,
     "metadata": {},
     "output_type": "execute_result"
    }
   ],
   "source": [
    "L = '356re-ty87'\n",
    "findEvenNoAlpha(L)"
   ]
  },
  {
   "cell_type": "markdown",
   "metadata": {},
   "source": [
    "### 打开文件异常"
   ]
  },
  {
   "cell_type": "code",
   "execution_count": 4,
   "metadata": {
    "collapsed": false
   },
   "outputs": [
    {
     "name": "stdout",
     "output_type": "stream",
     "text": [
      "Median grades is  74.0\n"
     ]
    }
   ],
   "source": [
    "def getGrades(fname):\n",
    "    try:\n",
    "        gradesFile = open(fname, 'r')\n",
    "    except IOError:\n",
    "        raise ValueError('The program \"getGrades\" could not open ' + fname)\n",
    "    grades = []\n",
    "    for line in gradesFile:\n",
    "        try:\n",
    "            grades.append(float(line))\n",
    "        except:\n",
    "            raise ValueError('Unable to convert line to float')\n",
    "    return grades\n",
    "\n",
    "def calculate(fname):\n",
    "    try:\n",
    "        grades = getGrades(fname)\n",
    "        grades.sort()\n",
    "        median = grades[len(grades)//2]\n",
    "        print('Median grades is ', median)\n",
    "    except ValueError as errorMsg:\n",
    "        print('Whoops. ', errorMsg)\n",
    "\n",
    "calculate('quiz1grades.txt')"
   ]
  },
  {
   "cell_type": "code",
   "execution_count": null,
   "metadata": {
    "collapsed": true
   },
   "outputs": [],
   "source": []
  }
 ],
 "metadata": {
  "kernelspec": {
   "display_name": "Python 3",
   "language": "python",
   "name": "python3"
  },
  "language_info": {
   "codemirror_mode": {
    "name": "ipython",
    "version": 3
   },
   "file_extension": ".py",
   "mimetype": "text/x-python",
   "name": "python",
   "nbconvert_exporter": "python",
   "pygments_lexer": "ipython3",
   "version": "3.7.2"
  }
 },
 "nbformat": 4,
 "nbformat_minor": 0
}
