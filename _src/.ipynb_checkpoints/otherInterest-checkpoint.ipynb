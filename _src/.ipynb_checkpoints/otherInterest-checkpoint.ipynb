{
 "cells": [
  {
   "cell_type": "markdown",
   "metadata": {},
   "source": [
    "## 1. 替换敏感词\n",
    "\n",
    "下面这个程序目的是替换不合适的词后，再存入文件中。"
   ]
  },
  {
   "cell_type": "code",
   "execution_count": 25,
   "metadata": {
    "collapsed": false
   },
   "outputs": [
    {
     "ename": "FileNotFoundError",
     "evalue": "[Errno 2] No such file or directory: '/Users/caimeijuan/github/myawesome/_src/1.txt'",
     "output_type": "error",
     "traceback": [
      "\u001b[0;31m---------------------------------------------------------------------------\u001b[0m",
      "\u001b[0;31mFileNotFoundError\u001b[0m                         Traceback (most recent call last)",
      "\u001b[0;32m<ipython-input-25-a2a8545e8dcc>\u001b[0m in \u001b[0;36m<module>\u001b[0;34m\u001b[0m\n\u001b[1;32m     24\u001b[0m     \u001b[0mmsg\u001b[0m \u001b[0;34m=\u001b[0m \u001b[0mtext_filter\u001b[0m\u001b[0;34m(\u001b[0m\u001b[0mmsg\u001b[0m\u001b[0;34m)\u001b[0m\u001b[0;34m\u001b[0m\u001b[0;34m\u001b[0m\u001b[0m\n\u001b[1;32m     25\u001b[0m     \u001b[0mtext_create\u001b[0m\u001b[0;34m(\u001b[0m\u001b[0mname\u001b[0m\u001b[0;34m,\u001b[0m\u001b[0mmsg\u001b[0m\u001b[0;34m)\u001b[0m\u001b[0;34m\u001b[0m\u001b[0;34m\u001b[0m\u001b[0m\n\u001b[0;32m---> 26\u001b[0;31m \u001b[0mcensored_text_create\u001b[0m\u001b[0;34m(\u001b[0m\u001b[0;34m'2'\u001b[0m\u001b[0;34m,\u001b[0m\u001b[0mtext_read\u001b[0m\u001b[0;34m(\u001b[0m\u001b[0;34m'1'\u001b[0m\u001b[0;34m)\u001b[0m\u001b[0;34m)\u001b[0m\u001b[0;34m\u001b[0m\u001b[0;34m\u001b[0m\u001b[0m\n\u001b[0m",
      "\u001b[0;32m<ipython-input-25-a2a8545e8dcc>\u001b[0m in \u001b[0;36mtext_read\u001b[0;34m(name)\u001b[0m\n\u001b[1;32m     18\u001b[0m     \u001b[0mfile\u001b[0m\u001b[0;34m.\u001b[0m\u001b[0mclose\u001b[0m\u001b[0;34m(\u001b[0m\u001b[0;34m)\u001b[0m\u001b[0;34m\u001b[0m\u001b[0;34m\u001b[0m\u001b[0m\n\u001b[1;32m     19\u001b[0m \u001b[0;32mdef\u001b[0m \u001b[0mtext_read\u001b[0m\u001b[0;34m(\u001b[0m\u001b[0mname\u001b[0m\u001b[0;34m)\u001b[0m\u001b[0;34m:\u001b[0m\u001b[0;34m\u001b[0m\u001b[0;34m\u001b[0m\u001b[0m\n\u001b[0;32m---> 20\u001b[0;31m     \u001b[0mmsg\u001b[0m \u001b[0;34m=\u001b[0m \u001b[0mread_file\u001b[0m\u001b[0;34m(\u001b[0m\u001b[0mname\u001b[0m\u001b[0;34m)\u001b[0m\u001b[0;34m.\u001b[0m\u001b[0mread\u001b[0m\u001b[0;34m(\u001b[0m\u001b[0;34m)\u001b[0m\u001b[0;34m\u001b[0m\u001b[0;34m\u001b[0m\u001b[0m\n\u001b[0m\u001b[1;32m     21\u001b[0m     \u001b[0mread_file\u001b[0m\u001b[0;34m(\u001b[0m\u001b[0mname\u001b[0m\u001b[0;34m)\u001b[0m\u001b[0;34m.\u001b[0m\u001b[0mclose\u001b[0m\u001b[0;34m(\u001b[0m\u001b[0;34m)\u001b[0m\u001b[0;34m\u001b[0m\u001b[0;34m\u001b[0m\u001b[0m\n\u001b[1;32m     22\u001b[0m     \u001b[0;32mreturn\u001b[0m \u001b[0mmsg\u001b[0m\u001b[0;34m\u001b[0m\u001b[0;34m\u001b[0m\u001b[0m\n",
      "\u001b[0;32m<ipython-input-25-a2a8545e8dcc>\u001b[0m in \u001b[0;36mread_file\u001b[0;34m(name)\u001b[0m\n\u001b[1;32m      8\u001b[0m     \u001b[0mdesk_path\u001b[0m \u001b[0;34m=\u001b[0m \u001b[0;34m'/Users/caimeijuan/github/myawesome/_src/'\u001b[0m\u001b[0;34m\u001b[0m\u001b[0;34m\u001b[0m\u001b[0m\n\u001b[1;32m      9\u001b[0m     \u001b[0mfull_path\u001b[0m \u001b[0;34m=\u001b[0m \u001b[0mdesk_path\u001b[0m \u001b[0;34m+\u001b[0m \u001b[0mname\u001b[0m \u001b[0;34m+\u001b[0m \u001b[0;34m'.txt'\u001b[0m\u001b[0;34m\u001b[0m\u001b[0;34m\u001b[0m\u001b[0m\n\u001b[0;32m---> 10\u001b[0;31m     \u001b[0mfile\u001b[0m \u001b[0;34m=\u001b[0m \u001b[0mopen\u001b[0m\u001b[0;34m(\u001b[0m\u001b[0mfull_path\u001b[0m\u001b[0;34m,\u001b[0m\u001b[0;34m'r'\u001b[0m\u001b[0;34m)\u001b[0m\u001b[0;34m\u001b[0m\u001b[0;34m\u001b[0m\u001b[0m\n\u001b[0m\u001b[1;32m     11\u001b[0m     \u001b[0;32mreturn\u001b[0m \u001b[0mfile\u001b[0m\u001b[0;34m\u001b[0m\u001b[0;34m\u001b[0m\u001b[0m\n\u001b[1;32m     12\u001b[0m \u001b[0;32mdef\u001b[0m \u001b[0mtext_filter\u001b[0m\u001b[0;34m(\u001b[0m\u001b[0mword\u001b[0m\u001b[0;34m,\u001b[0m \u001b[0mcensored_word\u001b[0m\u001b[0;34m=\u001b[0m\u001b[0;34m'宝宝'\u001b[0m\u001b[0;34m,\u001b[0m \u001b[0mchanged_word\u001b[0m\u001b[0;34m=\u001b[0m\u001b[0;34m'baby'\u001b[0m\u001b[0;34m)\u001b[0m\u001b[0;34m:\u001b[0m\u001b[0;34m\u001b[0m\u001b[0;34m\u001b[0m\u001b[0m\n",
      "\u001b[0;31mFileNotFoundError\u001b[0m: [Errno 2] No such file or directory: '/Users/caimeijuan/github/myawesome/_src/1.txt'"
     ]
    }
   ],
   "source": [
    "# _*_ coding: utf-8 _*_\n",
    "def load_file(name):\n",
    "    desk_path = '/Users/caimeijuan/github/myawesome/_src/'\n",
    "    full_path = desk_path + name + '.txt'\n",
    "    file = open(full_path,'w')\n",
    "    return file\n",
    "def read_file(name):\n",
    "    desk_path = '/Users/caimeijuan/github/myawesome/_src/'\n",
    "    full_path = desk_path + name + '.txt'\n",
    "    file = open(full_path,'r')\n",
    "    return file\n",
    "def text_filter(word, censored_word='宝宝', changed_word='baby'):\n",
    "    word = word.replace(censored_word,changed_word)\n",
    "    return word\n",
    "def text_create(name,msg):\n",
    "    file = load_file(name)\n",
    "    file.write(msg)\n",
    "    file.close()\n",
    "def text_read(name):\n",
    "    msg = read_file(name).read()\n",
    "    read_file(name).close()\n",
    "    return msg\n",
    "def censored_text_create(name,msg):\n",
    "    msg = text_filter(msg)\n",
    "    text_create(name,msg)\n",
    "censored_text_create('2',text_read('1'))"
   ]
  },
  {
   "cell_type": "markdown",
   "metadata": {},
   "source": [
    "## 2. PI  \n",
    "\n",
    "[Irrational Numbers Search Engine](http://www.subidiom.com/pi/pi.asp)"
   ]
  },
  {
   "cell_type": "markdown",
   "metadata": {},
   "source": [
    "[One billion digits of pi](https://stuff.mit.edu/afs/sipb/contrib/pi/)  \n",
    "[计算圆周率至任意精度 | 睿](https://z-rui.github.io/post/2015/06/pi-digits/)"
   ]
  },
  {
   "cell_type": "code",
   "execution_count": 16,
   "metadata": {
    "collapsed": false
   },
   "outputs": [
    {
     "name": "stdout",
     "output_type": "stream",
     "text": [
      "3.141592653589793115997963468544185161590576171875\n"
     ]
    }
   ],
   "source": [
    "from math import pi\n",
    "from decimal import *\n",
    "import re\n",
    "import numpy as np\n",
    "import timeit\n",
    "\n",
    "strPI = str(Decimal(pi))\n",
    "print(strPI)"
   ]
  },
  {
   "cell_type": "code",
   "execution_count": 24,
   "metadata": {
    "collapsed": false
   },
   "outputs": [
    {
     "name": "stdout",
     "output_type": "stream",
     "text": [
      "concat  1.0779117330000645 seconds\n"
     ]
    }
   ],
   "source": [
    "def pifomula(precision):\n",
    "    getcontext().prec = precision\n",
    "    fomula = 0\n",
    "    for k in range(precision):\n",
    "        fomula += 1/Decimal(16)**k * (Decimal(4)/(8*k+1)-Decimal(2)/(8*k+4)-Decimal(1)/(8*k+5)-Decimal(1)/(8*k+6))\n",
    "    return fomula\n",
    "t1 = timeit.Timer(\"pifomula(2*10**3)\", \"from __main__ import pifomula\")\n",
    "print(\"concat \",t1.timeit(number=2), \"seconds\")"
   ]
  },
  {
   "cell_type": "code",
   "execution_count": 23,
   "metadata": {
    "collapsed": false
   },
   "outputs": [
    {
     "name": "stdout",
     "output_type": "stream",
     "text": [
      "The numeric string 14 appears at the 1 decimal digit of Pi.\n",
      "<re.Match object; span=(0, 1), match='3'>\n",
      "<re.Match object; span=(6, 9), match='926'>\n"
     ]
    }
   ],
   "source": [
    "def findFromPI(numbers):\n",
    "    strPI = str(pifomula(10))    \n",
    "    if numbers.isdigit():\n",
    "        #if re.match(numbers, strPI) == None:\n",
    "        if bool(re.search(numbers, strPI)) == None:\n",
    "            print('Not found.')\n",
    "        else:\n",
    "            for match in re.finditer(numbers, strPI):\n",
    "                print('The numeric string ' + numbers + ' appears at the ' + str(int(match.start())-1) + \\\n",
    "                      ' decimal digit of Pi.')\n",
    "    else:\n",
    "        print('Digitals please!')\n",
    "findFromPI('14')\n",
    "\n",
    "print(re.match('3', '3.141592653')) #match只在开头找。开头找不到就算了。\n",
    "print(re.search('926', '3.141592653'))"
   ]
  },
  {
   "cell_type": "code",
   "execution_count": 17,
   "metadata": {
    "collapsed": false
   },
   "outputs": [
    {
     "name": "stdout",
     "output_type": "stream",
     "text": [
      "The numeric string '6346' appears at the 23 decimal digit of Pi.\n"
     ]
    }
   ],
   "source": [
    "from math import pi\n",
    "import re\n",
    "import requests\n",
    "\n",
    "def findFromPI(numbers):\n",
    "    '''url = 'https://stuff.mit.edu/afs/sipb/contrib/pi/pi-billion.txt'\n",
    "    res = requests.get(url)\n",
    "    res.raise_for_status()\n",
    "    file = open('pi.txt', 'wb')\n",
    "    for chunk in res.iter_content(100000):\n",
    "        file.write(chunk)\n",
    "    file.close()\n",
    "    file = open('pi.txt', 'r')\n",
    "    strPI = file.read()'''\n",
    "    if numbers.isdigit(): \n",
    "        if bool(re.search(numbers, strPI)) == None: \n",
    "            print('Not found.')\n",
    "            # 如果只需要判断真假，不需要找到文本结果，可以用bool(re.search(Regex, String))\n",
    "        else:\n",
    "            for match in re.finditer(numbers, strPI):\n",
    "                print('The numeric string \\'' + numbers + '\\' appears at the ' + str(int(match.start())-1) + \\\n",
    "                      ' decimal digit of Pi.')\n",
    "    else:\n",
    "        print('Digitals please!')\n",
    "findFromPI('6346')"
   ]
  },
  {
   "cell_type": "markdown",
   "metadata": {},
   "source": [
    "## 3. 比较文件是否相同"
   ]
  },
  {
   "cell_type": "markdown",
   "metadata": {},
   "source": [
    "[python中比较两个文件是否相同 - Cure - 博客园](https://www.cnblogs.com/dahuzizyd/archive/2005/03/02/111749.html)"
   ]
  },
  {
   "cell_type": "code",
   "execution_count": 26,
   "metadata": {
    "collapsed": true
   },
   "outputs": [],
   "source": [
    "import os"
   ]
  },
  {
   "cell_type": "code",
   "execution_count": null,
   "metadata": {
    "collapsed": true
   },
   "outputs": [],
   "source": []
  }
 ],
 "metadata": {
  "kernelspec": {
   "display_name": "Python 3",
   "language": "python",
   "name": "python3"
  },
  "language_info": {
   "codemirror_mode": {
    "name": "ipython",
    "version": 3
   },
   "file_extension": ".py",
   "mimetype": "text/x-python",
   "name": "python",
   "nbconvert_exporter": "python",
   "pygments_lexer": "ipython3",
   "version": "3.7.2"
  }
 },
 "nbformat": 4,
 "nbformat_minor": 0
}
