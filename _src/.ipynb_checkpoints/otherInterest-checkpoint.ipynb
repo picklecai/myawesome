{
 "cells": [
  {
   "cell_type": "markdown",
   "metadata": {},
   "source": [
    "## 1. 替换敏感词\n",
    "\n",
    "下面这个程序目的是替换不合适的词后，再存入文件中。"
   ]
  },
  {
   "cell_type": "code",
   "execution_count": 25,
   "metadata": {
    "collapsed": false
   },
   "outputs": [
    {
     "ename": "FileNotFoundError",
     "evalue": "[Errno 2] No such file or directory: '/Users/caimeijuan/github/myawesome/_src/1.txt'",
     "output_type": "error",
     "traceback": [
      "\u001b[0;31m---------------------------------------------------------------------------\u001b[0m",
      "\u001b[0;31mFileNotFoundError\u001b[0m                         Traceback (most recent call last)",
      "\u001b[0;32m<ipython-input-25-a2a8545e8dcc>\u001b[0m in \u001b[0;36m<module>\u001b[0;34m\u001b[0m\n\u001b[1;32m     24\u001b[0m     \u001b[0mmsg\u001b[0m \u001b[0;34m=\u001b[0m \u001b[0mtext_filter\u001b[0m\u001b[0;34m(\u001b[0m\u001b[0mmsg\u001b[0m\u001b[0;34m)\u001b[0m\u001b[0;34m\u001b[0m\u001b[0;34m\u001b[0m\u001b[0m\n\u001b[1;32m     25\u001b[0m     \u001b[0mtext_create\u001b[0m\u001b[0;34m(\u001b[0m\u001b[0mname\u001b[0m\u001b[0;34m,\u001b[0m\u001b[0mmsg\u001b[0m\u001b[0;34m)\u001b[0m\u001b[0;34m\u001b[0m\u001b[0;34m\u001b[0m\u001b[0m\n\u001b[0;32m---> 26\u001b[0;31m \u001b[0mcensored_text_create\u001b[0m\u001b[0;34m(\u001b[0m\u001b[0;34m'2'\u001b[0m\u001b[0;34m,\u001b[0m\u001b[0mtext_read\u001b[0m\u001b[0;34m(\u001b[0m\u001b[0;34m'1'\u001b[0m\u001b[0;34m)\u001b[0m\u001b[0;34m)\u001b[0m\u001b[0;34m\u001b[0m\u001b[0;34m\u001b[0m\u001b[0m\n\u001b[0m",
      "\u001b[0;32m<ipython-input-25-a2a8545e8dcc>\u001b[0m in \u001b[0;36mtext_read\u001b[0;34m(name)\u001b[0m\n\u001b[1;32m     18\u001b[0m     \u001b[0mfile\u001b[0m\u001b[0;34m.\u001b[0m\u001b[0mclose\u001b[0m\u001b[0;34m(\u001b[0m\u001b[0;34m)\u001b[0m\u001b[0;34m\u001b[0m\u001b[0;34m\u001b[0m\u001b[0m\n\u001b[1;32m     19\u001b[0m \u001b[0;32mdef\u001b[0m \u001b[0mtext_read\u001b[0m\u001b[0;34m(\u001b[0m\u001b[0mname\u001b[0m\u001b[0;34m)\u001b[0m\u001b[0;34m:\u001b[0m\u001b[0;34m\u001b[0m\u001b[0;34m\u001b[0m\u001b[0m\n\u001b[0;32m---> 20\u001b[0;31m     \u001b[0mmsg\u001b[0m \u001b[0;34m=\u001b[0m \u001b[0mread_file\u001b[0m\u001b[0;34m(\u001b[0m\u001b[0mname\u001b[0m\u001b[0;34m)\u001b[0m\u001b[0;34m.\u001b[0m\u001b[0mread\u001b[0m\u001b[0;34m(\u001b[0m\u001b[0;34m)\u001b[0m\u001b[0;34m\u001b[0m\u001b[0;34m\u001b[0m\u001b[0m\n\u001b[0m\u001b[1;32m     21\u001b[0m     \u001b[0mread_file\u001b[0m\u001b[0;34m(\u001b[0m\u001b[0mname\u001b[0m\u001b[0;34m)\u001b[0m\u001b[0;34m.\u001b[0m\u001b[0mclose\u001b[0m\u001b[0;34m(\u001b[0m\u001b[0;34m)\u001b[0m\u001b[0;34m\u001b[0m\u001b[0;34m\u001b[0m\u001b[0m\n\u001b[1;32m     22\u001b[0m     \u001b[0;32mreturn\u001b[0m \u001b[0mmsg\u001b[0m\u001b[0;34m\u001b[0m\u001b[0;34m\u001b[0m\u001b[0m\n",
      "\u001b[0;32m<ipython-input-25-a2a8545e8dcc>\u001b[0m in \u001b[0;36mread_file\u001b[0;34m(name)\u001b[0m\n\u001b[1;32m      8\u001b[0m     \u001b[0mdesk_path\u001b[0m \u001b[0;34m=\u001b[0m \u001b[0;34m'/Users/caimeijuan/github/myawesome/_src/'\u001b[0m\u001b[0;34m\u001b[0m\u001b[0;34m\u001b[0m\u001b[0m\n\u001b[1;32m      9\u001b[0m     \u001b[0mfull_path\u001b[0m \u001b[0;34m=\u001b[0m \u001b[0mdesk_path\u001b[0m \u001b[0;34m+\u001b[0m \u001b[0mname\u001b[0m \u001b[0;34m+\u001b[0m \u001b[0;34m'.txt'\u001b[0m\u001b[0;34m\u001b[0m\u001b[0;34m\u001b[0m\u001b[0m\n\u001b[0;32m---> 10\u001b[0;31m     \u001b[0mfile\u001b[0m \u001b[0;34m=\u001b[0m \u001b[0mopen\u001b[0m\u001b[0;34m(\u001b[0m\u001b[0mfull_path\u001b[0m\u001b[0;34m,\u001b[0m\u001b[0;34m'r'\u001b[0m\u001b[0;34m)\u001b[0m\u001b[0;34m\u001b[0m\u001b[0;34m\u001b[0m\u001b[0m\n\u001b[0m\u001b[1;32m     11\u001b[0m     \u001b[0;32mreturn\u001b[0m \u001b[0mfile\u001b[0m\u001b[0;34m\u001b[0m\u001b[0;34m\u001b[0m\u001b[0m\n\u001b[1;32m     12\u001b[0m \u001b[0;32mdef\u001b[0m \u001b[0mtext_filter\u001b[0m\u001b[0;34m(\u001b[0m\u001b[0mword\u001b[0m\u001b[0;34m,\u001b[0m \u001b[0mcensored_word\u001b[0m\u001b[0;34m=\u001b[0m\u001b[0;34m'宝宝'\u001b[0m\u001b[0;34m,\u001b[0m \u001b[0mchanged_word\u001b[0m\u001b[0;34m=\u001b[0m\u001b[0;34m'baby'\u001b[0m\u001b[0;34m)\u001b[0m\u001b[0;34m:\u001b[0m\u001b[0;34m\u001b[0m\u001b[0;34m\u001b[0m\u001b[0m\n",
      "\u001b[0;31mFileNotFoundError\u001b[0m: [Errno 2] No such file or directory: '/Users/caimeijuan/github/myawesome/_src/1.txt'"
     ]
    }
   ],
   "source": [
    "# _*_ coding: utf-8 _*_\n",
    "def load_file(name):\n",
    "    desk_path = '/Users/caimeijuan/github/myawesome/_src/'\n",
    "    full_path = desk_path + name + '.txt'\n",
    "    file = open(full_path,'w')\n",
    "    return file\n",
    "def read_file(name):\n",
    "    desk_path = '/Users/caimeijuan/github/myawesome/_src/'\n",
    "    full_path = desk_path + name + '.txt'\n",
    "    file = open(full_path,'r')\n",
    "    return file\n",
    "def text_filter(word, censored_word='宝宝', changed_word='baby'):\n",
    "    word = word.replace(censored_word,changed_word)\n",
    "    return word\n",
    "def text_create(name,msg):\n",
    "    file = load_file(name)\n",
    "    file.write(msg)\n",
    "    file.close()\n",
    "def text_read(name):\n",
    "    msg = read_file(name).read()\n",
    "    read_file(name).close()\n",
    "    return msg\n",
    "def censored_text_create(name,msg):\n",
    "    msg = text_filter(msg)\n",
    "    text_create(name,msg)\n",
    "censored_text_create('2',text_read('1'))"
   ]
  },
  {
   "cell_type": "markdown",
   "metadata": {},
   "source": [
    "## 2. PI  \n",
    "\n",
    "[Irrational Numbers Search Engine](http://www.subidiom.com/pi/pi.asp)"
   ]
  },
  {
   "cell_type": "markdown",
   "metadata": {},
   "source": [
    "[One billion digits of pi](https://stuff.mit.edu/afs/sipb/contrib/pi/)  \n",
    "[计算圆周率至任意精度 | 睿](https://z-rui.github.io/post/2015/06/pi-digits/)"
   ]
  },
  {
   "cell_type": "code",
   "execution_count": 16,
   "metadata": {
    "collapsed": false
   },
   "outputs": [
    {
     "name": "stdout",
     "output_type": "stream",
     "text": [
      "3.141592653589793115997963468544185161590576171875\n"
     ]
    }
   ],
   "source": [
    "from math import pi\n",
    "from decimal import *\n",
    "import re\n",
    "import numpy as np\n",
    "import timeit\n",
    "\n",
    "strPI = str(Decimal(pi))\n",
    "print(strPI)"
   ]
  },
  {
   "cell_type": "code",
   "execution_count": 24,
   "metadata": {
    "collapsed": false
   },
   "outputs": [
    {
     "name": "stdout",
     "output_type": "stream",
     "text": [
      "concat  1.0779117330000645 seconds\n"
     ]
    }
   ],
   "source": [
    "def pifomula(precision):\n",
    "    getcontext().prec = precision\n",
    "    fomula = 0\n",
    "    for k in range(precision):\n",
    "        fomula += 1/Decimal(16)**k * (Decimal(4)/(8*k+1)-Decimal(2)/(8*k+4)-Decimal(1)/(8*k+5)-Decimal(1)/(8*k+6))\n",
    "    return fomula\n",
    "t1 = timeit.Timer(\"pifomula(2*10**3)\", \"from __main__ import pifomula\")\n",
    "print(\"concat \",t1.timeit(number=2), \"seconds\")"
   ]
  },
  {
   "cell_type": "code",
   "execution_count": 23,
   "metadata": {
    "collapsed": false
   },
   "outputs": [
    {
     "name": "stdout",
     "output_type": "stream",
     "text": [
      "The numeric string 14 appears at the 1 decimal digit of Pi.\n",
      "<re.Match object; span=(0, 1), match='3'>\n",
      "<re.Match object; span=(6, 9), match='926'>\n"
     ]
    }
   ],
   "source": [
    "def findFromPI(numbers):\n",
    "    strPI = str(pifomula(10))    \n",
    "    if numbers.isdigit():\n",
    "        #if re.match(numbers, strPI) == None:\n",
    "        if bool(re.search(numbers, strPI)) == None:\n",
    "            print('Not found.')\n",
    "        else:\n",
    "            for match in re.finditer(numbers, strPI):\n",
    "                print('The numeric string ' + numbers + ' appears at the ' + str(int(match.start())-1) + \\\n",
    "                      ' decimal digit of Pi.')\n",
    "    else:\n",
    "        print('Digitals please!')\n",
    "findFromPI('14')\n",
    "\n",
    "print(re.match('3', '3.141592653')) #match只在开头找。开头找不到就算了。\n",
    "print(re.search('926', '3.141592653'))"
   ]
  },
  {
   "cell_type": "code",
   "execution_count": 17,
   "metadata": {
    "collapsed": false
   },
   "outputs": [
    {
     "name": "stdout",
     "output_type": "stream",
     "text": [
      "The numeric string '6346' appears at the 23 decimal digit of Pi.\n"
     ]
    }
   ],
   "source": [
    "from math import pi\n",
    "import re\n",
    "import requests\n",
    "\n",
    "def findFromPI(numbers):\n",
    "    '''url = 'https://stuff.mit.edu/afs/sipb/contrib/pi/pi-billion.txt'\n",
    "    res = requests.get(url)\n",
    "    res.raise_for_status()\n",
    "    file = open('pi.txt', 'wb')\n",
    "    for chunk in res.iter_content(100000):\n",
    "        file.write(chunk)\n",
    "    file.close()\n",
    "    file = open('pi.txt', 'r')\n",
    "    strPI = file.read()'''\n",
    "    if numbers.isdigit(): \n",
    "        if bool(re.search(numbers, strPI)) == None: \n",
    "            print('Not found.')\n",
    "            # 如果只需要判断真假，不需要找到文本结果，可以用bool(re.search(Regex, String))\n",
    "        else:\n",
    "            for match in re.finditer(numbers, strPI):\n",
    "                print('The numeric string \\'' + numbers + '\\' appears at the ' + str(int(match.start())-1) + \\\n",
    "                      ' decimal digit of Pi.')\n",
    "    else:\n",
    "        print('Digitals please!')\n",
    "findFromPI('6346')"
   ]
  },
  {
   "cell_type": "markdown",
   "metadata": {},
   "source": [
    "## 3. 比较文件是否相同"
   ]
  },
  {
   "cell_type": "markdown",
   "metadata": {},
   "source": [
    "[python中比较两个文件是否相同 - Cure - 博客园](https://www.cnblogs.com/dahuzizyd/archive/2005/03/02/111749.html)"
   ]
  },
  {
   "cell_type": "markdown",
   "metadata": {},
   "source": [
    "[MAC OSX 系统下，U盘会被自动挂载到哪个目录](https://www.douban.com/note/525171297/)"
   ]
  },
  {
   "cell_type": "markdown",
   "metadata": {},
   "source": [
    "[python字典排序、按照list中的字典的某个key排序 - 一步一步 - CSDN博客](https://blog.csdn.net/Tangzongyu123/article/details/75200619)"
   ]
  },
  {
   "cell_type": "code",
   "execution_count": 33,
   "metadata": {
    "collapsed": false
   },
   "outputs": [],
   "source": [
    "import os, filecmp\n",
    "\n",
    "def findDupFile(path):\n",
    "    os.chdir(path)\n",
    "    # 把文件名和大小存入字典\n",
    "    files = []\n",
    "    for i in range(len(os.listdir(path))):\n",
    "        files.append(\n",
    "            {\n",
    "                'fileName':os.listdir(path)[i],\n",
    "                'fileSize':os.path.getsize(os.listdir(path)[i]),      \n",
    "            }\n",
    "        )\n",
    "    files = sorted(files, key=lambda e:e.__getitem__('fileSize')) # 按size大小排序\n",
    "\n",
    "    #可以直接比较文件，反正已经排序过了\n",
    "    num = 0\n",
    "    sizes, dupFiles = [], []\n",
    "    for i in range(len(files)-1):\n",
    "        if filecmp.cmp(files[i]['fileName'], files[i+1]['fileName']):\n",
    "            num += 1\n",
    "            sizes.append(files[i]['fileSize'])\n",
    "            dupFiles.append(files[i+1]['fileName'])\n",
    "            '''print('[Pair %d] %s, %s . Size is %d' %(num, files[i]['fileName'], files[i+1]['fileName'],\\\n",
    "                                                    files[i]['fileSize']))'''\n",
    "    print('Total of size is: %d M.'% (sum(sizes)/1024/1024))\n",
    "\n",
    "    # 有两对文件，大小相同，但不是相同文件。列出来看看是谁\n",
    "    number = 0\n",
    "    for i in range(len(files)-1):\n",
    "        if files[i]['fileSize']==files[i+1]['fileSize'] and not filecmp.cmp(files[i]['fileName'], files[i+1]['fileName']):\n",
    "            number += 1\n",
    "            print('[Pair %d] %s, %s . Size is %d' %(number, files[i]['fileName'], files[i+1]['fileName'],\\\n",
    "                                                                      files[i]['fileSize']))\n",
    "    recordFile = open('/users/caimeijuan/github/myawesome/_src/Duple/' + os.path.basename(path) + '.txt','w')\n",
    "    for txt in dupFiles:\n",
    "        recordFile.write(txt)\n",
    "        recordFile.write('\\n')\n",
    "    recordFile.close()"
   ]
  },
  {
   "cell_type": "code",
   "execution_count": 34,
   "metadata": {
    "collapsed": false
   },
   "outputs": [
    {
     "name": "stdout",
     "output_type": "stream",
     "text": [
      "Total of size is: 495 M.\n",
      "[Pair 1] 43-1-搜商：万物皆有路径且可达.mp3, 古典丨搜商：万物皆有路径且可达.mp3 . Size is 10837289\n",
      "[Pair 2] 40-3-三个卓有成效的向上沟通方法.mp3, 古典丨三个卓有成效的向上沟通方法.mp3 . Size is 13602107\n",
      "Total of size is: 321 M.\n",
      "Total of size is: 281 M.\n",
      "[Pair 1] 0622, 0625 . Size is 0\n",
      "[Pair 2] 0625, 0706 . Size is 0\n",
      "[Pair 3] 0706, 20171129 . Size is 0\n",
      "[Pair 4] 20171129, 20171203 . Size is 0\n",
      "[Pair 5] 20171203, 20171204 . Size is 0\n",
      "[Pair 6] 20171204, 20180614 . Size is 0\n",
      "[Pair 7] 刘润丨4U原则：我文章写得很好，但阅读量总是很低，怎么办？.mp3, 刘润丨社群效应：另一种增强用户黏性的“强力胶”.mp3 . Size is 2888665\n",
      "[Pair 8] 刘润丨女生为什么会逼婚？.mp3, 刘润丨麦穗理论：如何选择人生中最大的那支麦穗.mp3 . Size is 2998046\n",
      "[Pair 9] 刘润丨展示设计：顾客逛了一圈，就蒙圈地走了，怎么办？.mp3, 刘润丨选址逻辑：不知道选贵而近，还是远而便宜的地方开店，怎么办？.mp3 . Size is 3088729\n",
      "[Pair 10] 卓克｜科学思维课-全年总结.mp3, 卓克｜衰老：线粒体，曾经的杀手.mp3 . Size is 4878209\n",
      "[Pair 11] 何帆｜论语2：儒家思想的历史渊源.mp3, 唐涯丨 动量交易：追涨杀跌，对不对？.mp3 . Size is 5321664\n",
      "[Pair 12] 刘苏里｜《两种自由》第五讲：思想的最要者在于方法.mp3, 武志红丨无常04 头脑的伟大之处.mp3 . Size is 5493654\n",
      "[Pair 13] 1_唐涯丨延展话题：索罗斯与反身性炼金术.mp3, 唐涯丨延展话题：索罗斯与反身性炼金术.mp3 . Size is 5912240\n",
      "[Pair 14] 刘苏里丨《管理行为》第一讲：当代百科全书式的人物赫伯特·西蒙2.mp3, 张潇雨丨保时捷和大众，到底是谁收购了谁？.mp3 . Size is 9573486\n",
      "[Pair 15] 1_每日听书丨高情商管理.mp3, 每日听书丨我们内心的冲突.mp3 . Size is 11051884\n",
      "[Pair 16] 每日听书丨人体的故事.mp3, 每日听书丨说话就是生产力.mp3 . Size is 11497638\n",
      "[Pair 17] 每日听书《拜占庭帝国3》.mp3, 每日听书《苏格拉底的申辩》.mp3 . Size is 26040254\n"
     ]
    }
   ],
   "source": [
    "path = '/Volumes/学习工具/培训与学习/10-得到音频/gudian'\n",
    "findDupFile(path)\n",
    "path = '/Volumes/学习工具/培训与学习/10-得到音频/图片'\n",
    "findDupFile(path)\n",
    "path = '/Volumes/学习工具/培训与学习/10-得到音频'\n",
    "findDupFile(path)"
   ]
  },
  {
   "cell_type": "markdown",
   "metadata": {},
   "source": [
    "[Bug report: \"Error: Unknown command: cask\" after #23852 · Issue #23934 · Homebrew/homebrew-cask](https://github.com/Homebrew/homebrew-cask/issues/23934)"
   ]
  },
  {
   "cell_type": "code",
   "execution_count": null,
   "metadata": {
    "collapsed": false
   },
   "outputs": [],
   "source": [
    "# 删除重复文件\n",
    "'''for file in dupFiles:\n",
    "    if os.path.exists(file):\n",
    "        os.remove(file)\n",
    "    else:\n",
    "        print('No such file. %s' %file)\n",
    "print('Done.')'''"
   ]
  },
  {
   "cell_type": "markdown",
   "metadata": {
    "collapsed": false
   },
   "source": [
    "## 4. Tkinter学习  "
   ]
  },
  {
   "cell_type": "markdown",
   "metadata": {},
   "source": [
    "### 4.1 button & lable"
   ]
  },
  {
   "cell_type": "code",
   "execution_count": 1,
   "metadata": {
    "collapsed": false
   },
   "outputs": [],
   "source": [
    "import tkinter\n",
    "\n",
    "root = tkinter.Tk()\n",
    "root.title('You Hit Me')\n",
    "root.geometry('640x480')\n",
    "\n",
    "var = tkinter.StringVar()\n",
    "l = tkinter.Label(root, textvariable=var, bg='yellow', width=15)\n",
    "l.pack()\n",
    "\n",
    "on_hit = False\n",
    "def hit_me():\n",
    "    global on_hit\n",
    "    if on_hit == False:\n",
    "        on_hit = True\n",
    "        var.set('You hitted me.')\n",
    "    else:\n",
    "        on_hit = False\n",
    "        var.set('')\n",
    "b = tkinter.Button(root, text='hit me', command=hit_me, width=15)\n",
    "b.pack()\n",
    "root.mainloop()"
   ]
  },
  {
   "cell_type": "markdown",
   "metadata": {},
   "source": [
    "### 4.2 entry & button"
   ]
  },
  {
   "cell_type": "code",
   "execution_count": 2,
   "metadata": {
    "collapsed": false
   },
   "outputs": [],
   "source": [
    "import tkinter\n",
    "\n",
    "root = tkinter.Tk()\n",
    "root.title('Insert')\n",
    "root.geometry('640x480')\n",
    "\n",
    "e = tkinter.Entry(root, width=15, show='o')\n",
    "e.pack()\n",
    "\n",
    "def insert_point():\n",
    "    var = e.get()\n",
    "    t.insert('insert', var)\n",
    "def insert_end():\n",
    "    var = e.get()\n",
    "    t.insert('end', var)\n",
    "    \n",
    "b1 = tkinter.Button(root, text='Insert point', command=insert_point, width=15)\n",
    "b2 = tkinter.Button(root, text='Insert end', command=insert_end, width=15)\n",
    "b1.pack()\n",
    "b2.pack()\n",
    "\n",
    "t = tkinter.Text(root, width=15, height=5)\n",
    "t.pack()\n",
    "\n",
    "root.mainloop()"
   ]
  },
  {
   "cell_type": "markdown",
   "metadata": {},
   "source": [
    "### 4.3 listbox & lable"
   ]
  },
  {
   "cell_type": "code",
   "execution_count": 3,
   "metadata": {
    "collapsed": false
   },
   "outputs": [],
   "source": [
    "import tkinter\n",
    "\n",
    "root = tkinter.Tk()\n",
    "root.title('Selection')\n",
    "root.geometry('640x480')\n",
    "\n",
    "var1 = tkinter.Variable()\n",
    "l = tkinter.Label(root, width=15, textvariable=var1, bg='pink')\n",
    "l.pack()\n",
    "\n",
    "def print_selection():\n",
    "    variable = ls.get(ls.curselection())\n",
    "    var1.set(variable)\n",
    "\n",
    "b = tkinter.Button(root, text='Print Selection', command=print_selection, width=15)\n",
    "b.pack()\n",
    "\n",
    "var2 = tkinter.Variable()\n",
    "month_list = ['May', 'June', 'July', 'August', 'September']\n",
    "var2.set(['Janary','Februry','March','April'])\n",
    "\n",
    "ls = tkinter.Listbox(root, listvariable=var2, width=15) #不赋初值也没关系\n",
    "for month in month_list:\n",
    "    ls.insert('end', month)\n",
    "ls.insert(9, 'Octorber')\n",
    "ls.pack()\n",
    "\n",
    "root.mainloop()"
   ]
  },
  {
   "cell_type": "markdown",
   "metadata": {},
   "source": [
    "### 4.4 radiobutton & lable"
   ]
  },
  {
   "cell_type": "code",
   "execution_count": 1,
   "metadata": {
    "collapsed": false
   },
   "outputs": [],
   "source": [
    "import tkinter\n",
    "\n",
    "root = tkinter.Tk()\n",
    "root.title('Radio Button')\n",
    "root.geometry('640x480')\n",
    "\n",
    "var = tkinter.Variable()\n",
    "l = tkinter.Label(root, width=20, text=' ', bg='pink')\n",
    "l.pack()\n",
    "\n",
    "def print_selection():\n",
    "    l.config(text='You choose ' + var.get())\n",
    "\n",
    "r1 = tkinter.Radiobutton(root, text='Option A', variable=var, value='Spring', command=print_selection, width=15)\n",
    "r1.pack()\n",
    "r2 = tkinter.Radiobutton(root, text='Option B', variable=var, value='Summer', command=print_selection, width=15)\n",
    "r2.pack()\n",
    "r3 = tkinter.Radiobutton(root, text='Option C', variable=var, value='Autumn', command=print_selection, width=15)\n",
    "r3.pack()\n",
    "\n",
    "root.mainloop()"
   ]
  },
  {
   "cell_type": "markdown",
   "metadata": {
    "collapsed": true
   },
   "source": [
    "### 4.5 scale"
   ]
  },
  {
   "cell_type": "code",
   "execution_count": 29,
   "metadata": {
    "collapsed": false
   },
   "outputs": [],
   "source": [
    "import tkinter\n",
    "\n",
    "root = tkinter.Tk()\n",
    "root.title('A Ruler')\n",
    "root.geometry('640x480')\n",
    "\n",
    "\n",
    "l = tkinter.Label(root, width=20, text=' ', bg='#7DECF5')\n",
    "l.pack()\n",
    "\n",
    "def print_selection(v):\n",
    "    l.config(text='You choose ' + v)\n",
    "\n",
    "s = tkinter.Scale(root, label = 'A Ruler', from_=0, to=600, length=600, orient = tkinter.HORIZONTAL, tickinterval=100,\\\n",
    "                 command=print_selection, resolution=0.1, showvalue=1)\n",
    "s.pack()\n",
    "\n",
    "root.mainloop()"
   ]
  },
  {
   "cell_type": "markdown",
   "metadata": {},
   "source": [
    "### 4.6 checkbutton"
   ]
  },
  {
   "cell_type": "code",
   "execution_count": 37,
   "metadata": {
    "collapsed": false
   },
   "outputs": [],
   "source": [
    "import tkinter\n",
    "\n",
    "root = tkinter.Tk()\n",
    "root.title('Python or C ?')\n",
    "root.geometry('640x480')\n",
    "\n",
    "\n",
    "l = tkinter.Label(root, width=20, text=' ', bg='#7DECF5')\n",
    "l.pack()\n",
    "\n",
    "var1 = tkinter.IntVar()\n",
    "var2 = tkinter.IntVar()\n",
    "\n",
    "def print_selection():\n",
    "    if var1.get()==1 and var2.get()==0:\n",
    "        l.config(text='I love only Python')\n",
    "    elif var1.get()==0 and var2.get()==1:\n",
    "        l.config(text='I love only C语言')\n",
    "    elif var1.get()==1 and var2.get()==1:\n",
    "        l.config(text='I love both')\n",
    "    else:\n",
    "        l.config(text='I dont love either')\n",
    "\n",
    "c1 = tkinter.Checkbutton(root, text='Python', variable=var1, onvalue=1, offvalue=0, command=print_selection)\n",
    "c2 = tkinter.Checkbutton(root, text='C语言', variable=var2, onvalue=1, offvalue=0, command=print_selection)\n",
    "c1.pack()\n",
    "c2.pack()\n",
    "\n",
    "root.mainloop()"
   ]
  },
  {
   "cell_type": "markdown",
   "metadata": {},
   "source": [
    "### 4.7 canvas"
   ]
  },
  {
   "cell_type": "code",
   "execution_count": 1,
   "metadata": {
    "collapsed": false
   },
   "outputs": [],
   "source": [
    "import tkinter\n",
    "\n",
    "root = tkinter.Tk()\n",
    "root.title('My canvas')\n",
    "root.geometry('640x480')\n",
    "\n",
    "\n",
    "c = tkinter.Canvas(root, width=360, height=360, bg='#7DECF5')\n",
    "image_file = tkinter.PhotoImage(file='emoj.png')\n",
    "image = c.create_image(10, 10, anchor='nw', image=image_file)\n",
    "line = c.create_line(200,200,220,220,230,250,320,150)\n",
    "oval = c.create_oval(300,300,350,350, fill='red')\n",
    "arc = c.create_arc(260,260,330,330, fill='yellow', start=0, extent=120)\n",
    "rec = c.create_rectangle(50,270,150,310, fill='#A3F57D')\n",
    "\n",
    "c.pack()\n",
    "\n",
    "def down_it():\n",
    "    c.move(rec,0,5)\n",
    "def up_it():\n",
    "    c.move(rec,0,-5)\n",
    "def left_it():\n",
    "    c.move(rec,-5,0)\n",
    "def right_it():\n",
    "    c.move(rec,5,0)\n",
    "\n",
    "b1 = tkinter.Button(root, text='up', command=up_it)\n",
    "b1.pack()\n",
    "b2 = tkinter.Button(root, text='down', command=down_it)\n",
    "b2.pack()\n",
    "b3 = tkinter.Button(root, text='left', command=left_it)\n",
    "b3.pack()\n",
    "b4 = tkinter.Button(root, text='right', command=right_it)\n",
    "b4.pack()\n",
    "\n",
    "root.mainloop()"
   ]
  },
  {
   "cell_type": "code",
   "execution_count": null,
   "metadata": {
    "collapsed": true
   },
   "outputs": [],
   "source": []
  }
 ],
 "metadata": {
  "kernelspec": {
   "display_name": "Python 3",
   "language": "python",
   "name": "python3"
  },
  "language_info": {
   "codemirror_mode": {
    "name": "ipython",
    "version": 3
   },
   "file_extension": ".py",
   "mimetype": "text/x-python",
   "name": "python",
   "nbconvert_exporter": "python",
   "pygments_lexer": "ipython3",
   "version": "3.7.2"
  }
 },
 "nbformat": 4,
 "nbformat_minor": 0
}
