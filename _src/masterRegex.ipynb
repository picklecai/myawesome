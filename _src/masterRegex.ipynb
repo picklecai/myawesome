{
 "cells": [
  {
   "cell_type": "markdown",
   "metadata": {},
   "source": [
    "# 精通正则表达式 （第3版） \n",
    "\n",
    "## Mastering regular expressions\n",
    "\n",
    "作者:  [美] Jeffrey E·F·Friedl \n",
    "译者: 余晟 \n",
    "\n",
    "电子工业出版社，2007\n",
    "\n",
    "\n",
    "[Jeffrey Friedl's Web Sites](http://regex.info/)。\n",
    "\n",
    "这是一本号称精通的书，还是余晟翻译的。几年前我就打算读，并读了几页纸，此后一直躺在豆瓣‘在读’列表中，现在又想起来读着试试看。"
   ]
  },
  {
   "cell_type": "markdown",
   "metadata": {},
   "source": [
    "## 第二章\n",
    "\n",
    "### 1. 计算摄氏度华氏度  \n",
    "\n",
    "在书上，这个例子是perl的。想着用python再写一遍看看。  "
   ]
  },
  {
   "cell_type": "code",
   "execution_count": 9,
   "metadata": {},
   "outputs": [
    {
     "name": "stdout",
     "output_type": "stream",
     "text": [
      "32.5 c\n",
      "32.50 C is 90.50 F.\n",
      "45.7 F\n",
      "45.70 F is 7.61 C.\n",
      "37.6 C\n",
      "37.60 C is 99.68 F.\n",
      "36.7 C\n",
      "36.70 C is 98.06 F.\n",
      "100 F\n",
      "100.00 F is 37.78 C.\n",
      "104.2 f\n",
      "104.20 F is 40.11 C.\n"
     ]
    }
   ],
   "source": [
    "# _*_coding:utf-8_*_\n",
    "import re\n",
    "\n",
    "def tempTransform(temp):\n",
    "    tempRegex = re.compile(r'[+-]?(\\d+(?:\\.\\d+)?)\\s*(c|f)\\s*', re.IGNORECASE)\n",
    "    if re.match(tempRegex, temp):\n",
    "        tempType = tempRegex.search(temp).group(2)\n",
    "        if tempType.lower() == 'c':\n",
    "            tempC = float(tempRegex.search(temp).group(1))\n",
    "            tempF = tempC * 9 / 5 + 32\n",
    "            print('%.2f C is %.2f F.' % (tempC, tempF))\n",
    "        else:\n",
    "            tempF = float(tempRegex.search(temp).group(1))\n",
    "            tempC = (tempF - 32) * 5 / 9\n",
    "            print('%.2f F is %.2f C.' % (tempF, tempC))\n",
    "    else:\n",
    "        print('%s is not a temperature digis.' %(temp))\n",
    "    return\n",
    "\n",
    "for i in range(6):\n",
    "    temp = input()\n",
    "    tempTransform(temp)"
   ]
  },
  {
   "cell_type": "markdown",
   "metadata": {},
   "source": [
    "### 判断是否传统型NFA"
   ]
  },
  {
   "cell_type": "code",
   "execution_count": 10,
   "metadata": {
    "collapsed": true
   },
   "outputs": [],
   "source": [
    "import re"
   ]
  },
  {
   "cell_type": "code",
   "execution_count": 12,
   "metadata": {},
   "outputs": [
    {
     "data": {
      "text/plain": [
       "'nfa'"
      ]
     },
     "execution_count": 12,
     "metadata": {},
     "output_type": "execute_result"
    }
   ],
   "source": [
    "regexN = re.compile(r'nfa|nfa not')\n",
    "mo = regexN.search('nfa not')\n",
    "mo.group()"
   ]
  }
 ],
 "metadata": {
  "kernelspec": {
   "display_name": "Python 3",
   "language": "python",
   "name": "python3"
  },
  "language_info": {
   "codemirror_mode": {
    "name": "ipython",
    "version": 3
   },
   "file_extension": ".py",
   "mimetype": "text/x-python",
   "name": "python",
   "nbconvert_exporter": "python",
   "pygments_lexer": "ipython3",
   "version": "3.7.3"
  }
 },
 "nbformat": 4,
 "nbformat_minor": 1
}
