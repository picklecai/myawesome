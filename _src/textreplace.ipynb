{
 "cells": [
  {
   "cell_type": "markdown",
   "metadata": {},
   "source": [
    "下面这个程序目的是替换不合适的词后，再存入文件中。"
   ]
  },
  {
   "cell_type": "code",
   "execution_count": null,
   "metadata": {
    "collapsed": true
   },
   "outputs": [],
   "source": [
    "# _*_ coding: utf-8 _*_\n",
    "def load_file(name):\n",
    "    desk_path = '/Users/caimeijuan/github/myawesome/_src/'\n",
    "    full_path = desk_path + name + '.txt'\n",
    "    file = open(full_path,'w')\n",
    "    return file\n",
    "def read_file(name):\n",
    "    desk_path = '/Users/caimeijuan/github/myawesome/_src/'\n",
    "    full_path = desk_path + name + '.txt'\n",
    "    file = open(full_path,'r')\n",
    "    return file\n",
    "def text_filter(word, censored_word='宝宝', changed_word='baby'):\n",
    "    word = word.replace(censored_word,changed_word)\n",
    "    return word\n",
    "def text_create(name,msg):\n",
    "    file = load_file(name)\n",
    "    file.write(msg)\n",
    "    file.close()\n",
    "def text_read(name):\n",
    "    msg = read_file(name).read()\n",
    "    read_file(name).close()\n",
    "    return msg\n",
    "def censored_text_create(name,msg):\n",
    "    msg = text_filter(msg)\n",
    "    text_create(name,msg)\n",
    "censored_text_create('2',text_read('1'))"
   ]
  }
 ],
 "metadata": {
  "kernelspec": {
   "display_name": "Python 3",
   "language": "python",
   "name": "python3"
  },
  "language_info": {
   "codemirror_mode": {
    "name": "ipython",
    "version": 3
   },
   "file_extension": ".py",
   "mimetype": "text/x-python",
   "name": "python",
   "nbconvert_exporter": "python",
   "pygments_lexer": "ipython3",
   "version": "3.7.2"
  }
 },
 "nbformat": 4,
 "nbformat_minor": 0
}
