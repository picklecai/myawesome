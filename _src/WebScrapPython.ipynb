{
 "cells": [
  {
   "cell_type": "markdown",
   "metadata": {},
   "source": [
    "# Python 网络爬虫实战\n",
    "\n",
    "胡松涛 编著 清华大学出版社 2017年1月第1版\n",
    "\n",
    "每个人的写作风格不同，这位作者比较喜欢用类。"
   ]
  },
  {
   "cell_type": "markdown",
   "metadata": {},
   "source": [
    "## 1. 彩色打印"
   ]
  },
  {
   "cell_type": "code",
   "execution_count": 1,
   "metadata": {
    "collapsed": false
   },
   "outputs": [],
   "source": [
    "#_*_coding:utf-8_*_\n",
    "class ColorPrint(object):\n",
    "    \n",
    "    def __init__(self, color, msg):\n",
    "        self.color = color\n",
    "        self.msg = msg\n",
    "        self.cPrint(self.color, self.msg)\n",
    "        \n",
    "    def cPrint(self, color, msg):\n",
    "        colors = {\n",
    "            'black':'\\033[1;30;0m',\n",
    "            'red':'\\033[1;31;0m',\n",
    "            'green':'\\033[1;32;0m',\n",
    "            'yellow':'\\033[1;33;0m',\n",
    "            'blue':'\\033[1;34;0m',\n",
    "            'prunosus':'\\033[1;35;0m',\n",
    "            'cyan':'\\033[1;36;0m',\n",
    "            'white':'\\033[1;37;0m',\n",
    "        }\n",
    "        \n",
    "        if color in colors:\n",
    "            print(u'输入的颜色有效，开始彩色打印')\n",
    "            print(u'%s' %colors[color]) \n",
    "            print(color + ':')\n",
    "        else:            \n",
    "            print(u'输入的颜色暂时没有，按系统默认配置色打印')\n",
    "            print(u'\\033[0m' )\n",
    "            print('Default:')\n",
    "        print(msg)\n",
    "        print(u'\\033[0m' )"
   ]
  },
  {
   "cell_type": "code",
   "execution_count": 2,
   "metadata": {
    "collapsed": false
   },
   "outputs": [
    {
     "name": "stdout",
     "output_type": "stream",
     "text": [
      "输入的颜色有效，开始彩色打印\n",
      "\u001b[1;31;0m\n",
      "red:\n",
      "I am Cindy\n",
      "\u001b[0m\n",
      "输入的颜色暂时没有，按系统默认配置色打印\n",
      "\u001b[0m\n",
      "Default:\n",
      "I am Cindy\n",
      "\u001b[0m\n",
      "输入的颜色有效，开始彩色打印\n",
      "\u001b[1;33;0m\n",
      "yellow:\n",
      "I am Cindy\n",
      "\u001b[0m\n",
      "输入的颜色有效，开始彩色打印\n",
      "\u001b[1;32;0m\n",
      "green:\n",
      "I am Cindy\n",
      "\u001b[0m\n",
      "输入的颜色有效，开始彩色打印\n",
      "\u001b[1;36;0m\n",
      "cyan:\n",
      "I am Cindy\n",
      "\u001b[0m\n",
      "输入的颜色有效，开始彩色打印\n",
      "\u001b[1;34;0m\n",
      "blue:\n",
      "I am Cindy\n",
      "\u001b[0m\n",
      "输入的颜色有效，开始彩色打印\n",
      "\u001b[1;35;0m\n",
      "prunosus:\n",
      "I am Cindy\n",
      "\u001b[0m\n",
      "输入的颜色有效，开始彩色打印\n",
      "\u001b[1;37;0m\n",
      "white:\n",
      "I am Cindy\n",
      "\u001b[0m\n",
      "输入的颜色有效，开始彩色打印\n",
      "\u001b[1;30;0m\n",
      "black:\n",
      "I am Cindy\n",
      "\u001b[0m\n",
      "输入的颜色暂时没有，按系统默认配置色打印\n",
      "\u001b[0m\n",
      "Default:\n",
      "I am Cindy\n",
      "\u001b[0m\n"
     ]
    }
   ],
   "source": [
    "argu1 = ['red','orange','yellow', 'green', 'cyan', 'blue', 'prunosus','white', 'black', 'puple']\n",
    "argu2 = 'I am Cindy'\n",
    "for i in argu1:\n",
    "    test = ColorPrint(i, argu2)"
   ]
  },
  {
   "cell_type": "markdown",
   "metadata": {
    "collapsed": false
   },
   "source": [
    "## urlib2模块\n",
    "\n",
    "作者说urlib和urlib2的区别，这篇文章[Python：urllib和urllib2之间的区别](https://www.hacksparrow.com/python-difference-between-urllib-and-urllib2.html)讲得很清楚。\n",
    "\n",
    "### 2.1  爬百度"
   ]
  },
  {
   "cell_type": "markdown",
   "metadata": {},
   "source": [
    "第一条就是下马威：在python3中，urllib和urllib2已经合并了。\n",
    "[python3中没有了URLlib2 - openthings的个人空间 - 开源中国](https://my.oschina.net/u/2306127/blog/596435)\n",
    "\n",
    "> python 3.x中urllib库和urilib2库合并成了urllib库。。  \n",
    "> 其中urllib2.urlopen()变成了urllib.request.urlopen()  \n",
    "> urllib2.Request()变成了urllib.request.Request()  "
   ]
  },
  {
   "cell_type": "code",
   "execution_count": 10,
   "metadata": {
    "collapsed": false
   },
   "outputs": [
    {
     "name": "stdout",
     "output_type": "stream",
     "text": [
      "获取URL信息，response.geturl() \n",
      ": http://www.baidu.com\n",
      "获取返回代码，response.getcode() \n",
      ": 200\n",
      "获取返回信息，response.info() \n",
      ": Transfer-Encoding: chunked\n",
      "Bdpagetype: 1\n",
      "Bdqid: 0xbcd435dd00017a8e\n",
      "Cache-Control: private\n",
      "Content-Type: text/html\n",
      "Cxy_all: baidu+a16506e12cd7f632567ede8a050e7bb3\n",
      "Date: Tue, 02 Apr 2019 02:51:49 GMT\n",
      "Expires: Tue, 02 Apr 2019 02:51:18 GMT\n",
      "Keep-Alive: timeout=58\n",
      "P3p: CP=\" OTI DSP COR IVA OUR IND COM \"\n",
      "Server: BWS/1.1\n",
      "Set-Cookie: BAIDUID=0B5C8EECB14DE06DE9E7803916C98464:FG=1; expires=Thu, 31-Dec-37 23:55:55 GMT; max-age=2147483647; path=/; domain=.baidu.com\n",
      "Set-Cookie: BIDUPSID=0B5C8EECB14DE06DE9E7803916C98464; expires=Thu, 31-Dec-37 23:55:55 GMT; max-age=2147483647; path=/; domain=.baidu.com\n",
      "Set-Cookie: PSTM=1554173509; expires=Thu, 31-Dec-37 23:55:55 GMT; max-age=2147483647; path=/; domain=.baidu.com\n",
      "Set-Cookie: delPer=0; path=/; domain=.baidu.com\n",
      "Set-Cookie: BDSVRTM=0; path=/\n",
      "Set-Cookie: BD_HOME=0; path=/\n",
      "Set-Cookie: H_PS_PSSID=26523_1437_21116_28775_28721_28557_28697_28585_26350_28604_28625_22159; path=/; domain=.baidu.com\n",
      "Vary: Accept-Encoding\n",
      "X-Ua-Compatible: IE=Edge,chrome=1\n",
      "\n",
      "\n",
      "获取的网页内容已存入当前目录的baidu.txt中，晴自行查看\n"
     ]
    }
   ],
   "source": [
    "#_*_coding:utf-8_*_\n",
    "import urllib\n",
    "\n",
    "def clear():\n",
    "    print(u'内容较多，显示3秒后翻页')\n",
    "    time.sleep(3)\n",
    "    OS = platform.system()\n",
    "    if OS == 'Windows':\n",
    "        os.system('cls')\n",
    "    else:\n",
    "        os.system('clear')\n",
    "        \n",
    "def linkBaidu():\n",
    "    url = 'http://www.baidu.com'\n",
    "    try:\n",
    "        response = urllib.request.urlopen(url, timeout=3)\n",
    "    except:\n",
    "        print(u'网络地址错误')\n",
    "        exit()\n",
    "    with open('./baidu.txt','w') as fp:\n",
    "        fp.write(str(response.read()))\n",
    "        \n",
    "    print(u'获取URL信息，response.geturl() \\n: %s' %response.geturl())\n",
    "    print(u'获取返回代码，response.getcode() \\n: %s' %response.getcode())\n",
    "    print(u'获取返回信息，response.info() \\n: %s' %response.info())\n",
    "    print(u'获取的网页内容已存入当前目录的baidu.txt中，晴自行查看')\n",
    "        \n",
    "linkBaidu()"
   ]
  },
  {
   "cell_type": "code",
   "execution_count": null,
   "metadata": {
    "collapsed": true
   },
   "outputs": [],
   "source": []
  }
 ],
 "metadata": {
  "kernelspec": {
   "display_name": "Python 3",
   "language": "python",
   "name": "python3"
  },
  "language_info": {
   "codemirror_mode": {
    "name": "ipython",
    "version": 3
   },
   "file_extension": ".py",
   "mimetype": "text/x-python",
   "name": "python",
   "nbconvert_exporter": "python",
   "pygments_lexer": "ipython3",
   "version": "3.7.2"
  }
 },
 "nbformat": 4,
 "nbformat_minor": 0
}
