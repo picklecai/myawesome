{
 "cells": [
  {
   "cell_type": "markdown",
   "metadata": {},
   "source": [
    "# python编程导论\n",
    "\n",
    "John V. Guttag著，中国工信出版集团 人民邮电出版社，2018年2月第一版\n",
    "\n",
    "基于python3讲计算机科学基础知识"
   ]
  },
  {
   "cell_type": "markdown",
   "metadata": {},
   "source": [
    "## 1. 计算平方根"
   ]
  },
  {
   "cell_type": "code",
   "execution_count": 1,
   "metadata": {
    "collapsed": true
   },
   "outputs": [],
   "source": [
    "import random \n",
    "def square_root(x):\n",
    "    g = random.randint(1, x)\n",
    "    while True:\n",
    "        if abs(g*g-x) < 0.00001:\n",
    "            return g\n",
    "            break\n",
    "        else:\n",
    "            g = (g+x/g)/2\n",
    "            continue      "
   ]
  },
  {
   "cell_type": "code",
   "execution_count": 2,
   "metadata": {
    "collapsed": false
   },
   "outputs": [
    {
     "data": {
      "text/plain": [
       "4.000000000204789"
      ]
     },
     "execution_count": 2,
     "metadata": {},
     "output_type": "execute_result"
    }
   ],
   "source": [
    "square_root(16)"
   ]
  },
  {
   "cell_type": "markdown",
   "metadata": {},
   "source": [
    "## 2. 寻找最大奇数\n",
    "\n",
    "### 2.1 计算三个数中最大的奇数"
   ]
  },
  {
   "cell_type": "code",
   "execution_count": 3,
   "metadata": {
    "collapsed": false
   },
   "outputs": [],
   "source": [
    "def max_odd(x,y,z):\n",
    "    if x%2==0:\n",
    "        if y%2==0:\n",
    "            if z%2==0:\n",
    "                print('No odd.')\n",
    "                return None\n",
    "            else:\n",
    "                return z\n",
    "        elif y%2!=0 and z%2==0:\n",
    "            return y\n",
    "        else:\n",
    "            if y>= z:\n",
    "                return y\n",
    "            else:\n",
    "                return z\n",
    "    else:\n",
    "        if y%2==0 and z%2==0:\n",
    "            return x\n",
    "        elif y%2==0 and z%2!=0:\n",
    "            if x>=z:\n",
    "                return x\n",
    "            else:\n",
    "                return z\n",
    "        elif y%2!=0 and z%2==0:\n",
    "            if x>=y:\n",
    "                return x\n",
    "            else:\n",
    "                return y\n",
    "        else:\n",
    "            if x<=y and y<z:\n",
    "                return z\n",
    "            elif x<=y and y>=z:\n",
    "                return y\n",
    "            elif x>y and y>=z:\n",
    "                return x\n",
    "            elif x>y and y<z:\n",
    "                if x>=z:\n",
    "                    return x\n",
    "                else:\n",
    "                    return z"
   ]
  },
  {
   "cell_type": "code",
   "execution_count": 4,
   "metadata": {
    "collapsed": false
   },
   "outputs": [
    {
     "data": {
      "text/plain": [
       "45"
      ]
     },
     "execution_count": 4,
     "metadata": {},
     "output_type": "execute_result"
    }
   ],
   "source": [
    "max_odd(43,45,43)"
   ]
  },
  {
   "cell_type": "markdown",
   "metadata": {},
   "source": [
    "### 2.2 计算n个数中最大的奇数"
   ]
  },
  {
   "cell_type": "markdown",
   "metadata": {},
   "source": [
    "前面这个计算3个数中最大的奇数，代码太长。用数组来存储，for循环算出是否奇偶之后，仍然存数组，用max求最大值即可。"
   ]
  },
  {
   "cell_type": "code",
   "execution_count": 6,
   "metadata": {
    "collapsed": false
   },
   "outputs": [],
   "source": [
    "def odd_max(num_list):\n",
    "    odd_list = []\n",
    "    for i in range(len(num_list)):\n",
    "        if num_list[i]%2!=0:\n",
    "            odd_list.append(num_list[i])\n",
    "    if odd_list == []:\n",
    "        print('No odd.')\n",
    "    else:\n",
    "        return max(odd_list)"
   ]
  },
  {
   "cell_type": "code",
   "execution_count": 7,
   "metadata": {
    "collapsed": false
   },
   "outputs": [
    {
     "data": {
      "text/plain": [
       "119"
      ]
     },
     "execution_count": 7,
     "metadata": {},
     "output_type": "execute_result"
    }
   ],
   "source": [
    "num_list = [34,22,12,43,43,96,10,57,119,93]\n",
    "odd_max(num_list)"
   ]
  },
  {
   "cell_type": "markdown",
   "metadata": {},
   "source": [
    "哈哈哈！这回只有9行。感觉是真的会写程序了。"
   ]
  },
  {
   "cell_type": "markdown",
   "metadata": {},
   "source": [
    "## 3. 输出指定数量的某字符"
   ]
  },
  {
   "cell_type": "code",
   "execution_count": 5,
   "metadata": {
    "collapsed": false
   },
   "outputs": [
    {
     "name": "stdout",
     "output_type": "stream",
     "text": [
      "Which letter should I print? x\n",
      "How many times should I print the letter x ?25\n",
      "xxxxxxxxxxxxxxxxxxxxxxxxx\n"
     ]
    }
   ],
   "source": [
    "def x_num(num,s):\n",
    "    to_print = s * num\n",
    "    print(to_print)\n",
    "\n",
    "while True:\n",
    "    '''\n",
    "    如果用户输入的字符不是字母或数字，则需要重新输入。\n",
    "    '''\n",
    "    s = input('Which letter should I print? ')\n",
    "    if s.isalnum():\n",
    "        break    \n",
    "    \n",
    "while True:\n",
    "    '''\n",
    "    如果用户输入的数字不是正整数，则需要重新输入。\n",
    "    '''\n",
    "    n = input('How many times should I print the letter %s ?' %s)\n",
    "    if n.isdecimal() and int(n)>0:\n",
    "        n = int(n)\n",
    "        break\n",
    "x_num(n,s)"
   ]
  },
  {
   "cell_type": "markdown",
   "metadata": {},
   "source": [
    "## 4. 计算完全立方数"
   ]
  },
  {
   "cell_type": "code",
   "execution_count": 8,
   "metadata": {
    "collapsed": true
   },
   "outputs": [],
   "source": [
    "def cube_root(x):\n",
    "    c = 0\n",
    "    while c**3<abs(x):\n",
    "        c += 1\n",
    "    if c**3!=abs(x):\n",
    "        print('%d is not cube number.' %x)\n",
    "    else:\n",
    "        if x<0:\n",
    "            c = -c\n",
    "        print('Cube root of %d is %d' %(x,c))"
   ]
  },
  {
   "cell_type": "code",
   "execution_count": 9,
   "metadata": {
    "collapsed": false
   },
   "outputs": [
    {
     "name": "stdout",
     "output_type": "stream",
     "text": [
      "Cube root of 1957816251 is 1251\n"
     ]
    }
   ],
   "source": [
    "cube_root(1957816251)"
   ]
  },
  {
   "cell_type": "markdown",
   "metadata": {
    "collapsed": false
   },
   "source": [
    "## 5. 某整数是否有根"
   ]
  },
  {
   "cell_type": "code",
   "execution_count": 10,
   "metadata": {
    "collapsed": false
   },
   "outputs": [],
   "source": [
    "def num_root(x):\n",
    "    root_list = []\n",
    "    for i in range(11):\n",
    "        root = 1        \n",
    "        while root<x:\n",
    "            if root**i!=x: \n",
    "                root += 1\n",
    "            else:\n",
    "                root_list.append(root)\n",
    "                print('%d ** %d is %d'%(root, i, x))\n",
    "                break \n",
    "        i += 1\n",
    "    if root_list == []:\n",
    "        print('No root for %d' %x)"
   ]
  },
  {
   "cell_type": "code",
   "execution_count": 11,
   "metadata": {
    "collapsed": false
   },
   "outputs": [
    {
     "name": "stdout",
     "output_type": "stream",
     "text": [
      "28 ** 2 is 784\n"
     ]
    }
   ],
   "source": [
    "num_root(28**2)"
   ]
  },
  {
   "cell_type": "markdown",
   "metadata": {},
   "source": [
    "## 6. 逗号隔开的数值字符串求和"
   ]
  },
  {
   "cell_type": "code",
   "execution_count": 12,
   "metadata": {
    "collapsed": true
   },
   "outputs": [],
   "source": [
    "def num_sum(s):\n",
    "    num_list = []\n",
    "    i = 0\n",
    "    while i <= len(s):\n",
    "        if ',' in s:\n",
    "            if s[i]!=',':\n",
    "                i = i + 1\n",
    "            else:\n",
    "                num_list.append(float(s[0:i]))\n",
    "                s = (s.replace((s[0:i]),'')).strip(',')\n",
    "                i = 0\n",
    "                continue\n",
    "        else:\n",
    "            num_list.append(float(s))\n",
    "            break\n",
    "    return sum(num_list)"
   ]
  },
  {
   "cell_type": "code",
   "execution_count": 13,
   "metadata": {
    "collapsed": false
   },
   "outputs": [
    {
     "data": {
      "text/plain": [
       "22.623"
      ]
     },
     "execution_count": 13,
     "metadata": {},
     "output_type": "execute_result"
    }
   ],
   "source": [
    "num_sum('1.23,2.4,3.123,4.34,5.32,6.21')"
   ]
  },
  {
   "cell_type": "markdown",
   "metadata": {
    "collapsed": false
   },
   "source": [
    "## 7. 求平方根\n",
    "\n",
    "### 7.1 穷举法"
   ]
  },
  {
   "cell_type": "code",
   "execution_count": 14,
   "metadata": {
    "collapsed": true
   },
   "outputs": [],
   "source": [
    "def sqr_root(x):\n",
    "    epsilon = 0.001 \n",
    "    c = 0\n",
    "    i = 0\n",
    "    while abs(c**2-x)>epsilon and c<x:\n",
    "        c = c + epsilon**2\n",
    "        i += 1\n",
    "    print(i)\n",
    "    return c"
   ]
  },
  {
   "cell_type": "code",
   "execution_count": 15,
   "metadata": {
    "collapsed": false
   },
   "outputs": [
    {
     "name": "stdout",
     "output_type": "stream",
     "text": [
      "3463958\n"
     ]
    },
    {
     "data": {
      "text/plain": [
       "3.4639580001302805"
      ]
     },
     "execution_count": 15,
     "metadata": {},
     "output_type": "execute_result"
    }
   ],
   "source": [
    "sqr_root(12)"
   ]
  },
  {
   "cell_type": "markdown",
   "metadata": {},
   "source": [
    "### 7.2 二分法"
   ]
  },
  {
   "cell_type": "code",
   "execution_count": 16,
   "metadata": {
    "collapsed": false
   },
   "outputs": [
    {
     "name": "stdout",
     "output_type": "stream",
     "text": [
      "34\n"
     ]
    },
    {
     "data": {
      "text/plain": [
       "351.36306126974523"
      ]
     },
     "execution_count": 16,
     "metadata": {},
     "output_type": "execute_result"
    }
   ],
   "source": [
    "def sqr_root_bisec(x):\n",
    "    epsilon = 0.001 \n",
    "    low = 0\n",
    "    high = x\n",
    "    c = (low+high)/2\n",
    "    i = 0\n",
    "    while abs(c**2-x)>epsilon:\n",
    "        if c**2<=x:\n",
    "            low = c\n",
    "            i += 1\n",
    "        else:\n",
    "            high = c\n",
    "            i += 1\n",
    "        c = (low+high)/2\n",
    "    print(i)\n",
    "    return c\n",
    "sqr_root_bisec(123456)"
   ]
  },
  {
   "cell_type": "markdown",
   "metadata": {},
   "source": [
    "### 7.3 牛顿法"
   ]
  },
  {
   "cell_type": "code",
   "execution_count": 17,
   "metadata": {
    "collapsed": false
   },
   "outputs": [
    {
     "name": "stdout",
     "output_type": "stream",
     "text": [
      "11\n"
     ]
    },
    {
     "data": {
      "text/plain": [
       "351.3630601485824"
      ]
     },
     "execution_count": 17,
     "metadata": {},
     "output_type": "execute_result"
    }
   ],
   "source": [
    "def sqr_root_newton(x):\n",
    "    epsilon = 0.001\n",
    "    guess = x/2  #zheli buchuyi 2, zhi duole 1ci.\n",
    "    i = 0\n",
    "    while abs(guess**2-x)>epsilon:\n",
    "        guess = guess - (guess**2-x)/(2*guess)\n",
    "        i += 1\n",
    "    print(i)\n",
    "    return guess\n",
    "sqr_root_newton(123456)"
   ]
  },
  {
   "cell_type": "markdown",
   "metadata": {},
   "source": [
    "没想到牛顿的方法比二分法还快！！！"
   ]
  },
  {
   "cell_type": "markdown",
   "metadata": {},
   "source": [
    "## 8. 浮点数"
   ]
  },
  {
   "cell_type": "code",
   "execution_count": 18,
   "metadata": {
    "collapsed": false
   },
   "outputs": [
    {
     "name": "stdout",
     "output_type": "stream",
     "text": [
      "0.9999999999999999\n"
     ]
    }
   ],
   "source": [
    "x = 0.0\n",
    "for i in range(10):\n",
    "    x = x + 0.1\n",
    "print(x)"
   ]
  },
  {
   "cell_type": "markdown",
   "metadata": {
    "collapsed": true
   },
   "source": [
    "## 9. 判断是否包含"
   ]
  },
  {
   "cell_type": "code",
   "execution_count": 19,
   "metadata": {
    "collapsed": false
   },
   "outputs": [
    {
     "data": {
      "text/plain": [
       "True"
      ]
     },
     "execution_count": 19,
     "metadata": {},
     "output_type": "execute_result"
    }
   ],
   "source": [
    "def isIn(subS, s):\n",
    "    if subS in s:\n",
    "        return True\n",
    "    else:\n",
    "        return False\n",
    "isIn('et', 'wetrt')"
   ]
  },
  {
   "cell_type": "markdown",
   "metadata": {},
   "source": [
    "## 10. 阶乘"
   ]
  },
  {
   "cell_type": "code",
   "execution_count": 20,
   "metadata": {
    "collapsed": false
   },
   "outputs": [
    {
     "data": {
      "text/plain": [
       "3628800"
      ]
     },
     "execution_count": 20,
     "metadata": {},
     "output_type": "execute_result"
    }
   ],
   "source": [
    "def factI(n):\n",
    "    y = 1\n",
    "    while n>1:\n",
    "        y = y * n\n",
    "        n = n -1\n",
    "    return y\n",
    "factI(10)"
   ]
  },
  {
   "cell_type": "code",
   "execution_count": 21,
   "metadata": {
    "collapsed": false
   },
   "outputs": [
    {
     "data": {
      "text/plain": [
       "3628800"
      ]
     },
     "execution_count": 21,
     "metadata": {},
     "output_type": "execute_result"
    }
   ],
   "source": [
    "def factR(n):\n",
    "    if n == 1:\n",
    "        return n\n",
    "    else:\n",
    "        return factI(n-1)*n\n",
    "factR(10)"
   ]
  },
  {
   "cell_type": "markdown",
   "metadata": {
    "collapsed": true
   },
   "source": [
    "## 11. 斐波那契数列"
   ]
  },
  {
   "cell_type": "code",
   "execution_count": 22,
   "metadata": {
    "collapsed": false
   },
   "outputs": [
    {
     "name": "stdout",
     "output_type": "stream",
     "text": [
      "1 1\n",
      "1 1\n",
      "2 3\n",
      "3 5\n",
      "5 9\n"
     ]
    }
   ],
   "source": [
    "def fab(x):\n",
    "    global numFibCalls\n",
    "    numFibCalls += 1\n",
    "    if x==0 or x==1:\n",
    "        return 1\n",
    "    else:\n",
    "        return fab(x-1)+fab(x-2)\n",
    "for i in range(5):\n",
    "    global numFibCalls\n",
    "    numFibCalls = 0\n",
    "    print(fab(i), end=' ')\n",
    "    print(numFibCalls)"
   ]
  },
  {
   "cell_type": "markdown",
   "metadata": {},
   "source": [
    "## 12. 检测回文"
   ]
  },
  {
   "cell_type": "code",
   "execution_count": 23,
   "metadata": {
    "collapsed": false
   },
   "outputs": [],
   "source": [
    "def isPalExist(s):\n",
    "    def toChars(s):\n",
    "        s1 = s.lower()\n",
    "        return s1\n",
    "    def isPal(s):\n",
    "        '''\n",
    "        if len(s)<=1 or (len(s)==2 and s[0]==s[-1]):\n",
    "            return True\n",
    "        else:\n",
    "            if s[0]==s[-1]:\n",
    "                isPal(s[1:-1])\n",
    "            else:\n",
    "                return False\n",
    "        '''\n",
    "        if len(s)<=1:\n",
    "            return True\n",
    "        else:\n",
    "            return s[0]==s[-1] and isPal(s[1:-1])        \n",
    "    return isPal(toChars(s))"
   ]
  },
  {
   "cell_type": "code",
   "execution_count": 24,
   "metadata": {
    "collapsed": false
   },
   "outputs": [
    {
     "data": {
      "text/plain": [
       "True"
      ]
     },
     "execution_count": 24,
     "metadata": {},
     "output_type": "execute_result"
    }
   ],
   "source": [
    "isPalExist('Goddog')"
   ]
  },
  {
   "cell_type": "markdown",
   "metadata": {},
   "source": [
    "## 13. 函数作参数"
   ]
  },
  {
   "cell_type": "code",
   "execution_count": 25,
   "metadata": {
    "collapsed": false
   },
   "outputs": [
    {
     "name": "stdout",
     "output_type": "stream",
     "text": [
      "1\n",
      "8\n",
      "13\n"
     ]
    }
   ],
   "source": [
    "def applyToEach(L,f):\n",
    "    for i in range(len(L)):\n",
    "        L[i] = f(L[i])\n",
    "        print(L[i])\n",
    "        \n",
    "L = [1,5,6]\n",
    "applyToEach(L,fab)"
   ]
  },
  {
   "cell_type": "code",
   "execution_count": 26,
   "metadata": {
    "collapsed": false
   },
   "outputs": [
    {
     "name": "stdout",
     "output_type": "stream",
     "text": [
      "2\n",
      "15\n",
      "36\n"
     ]
    }
   ],
   "source": [
    "L1 = [3, 28, 36]\n",
    "L2 = [2, 15, 92]\n",
    "for i in map(min,L1,L2):\n",
    "    print(i)"
   ]
  },
  {
   "cell_type": "code",
   "execution_count": 27,
   "metadata": {
    "collapsed": false
   },
   "outputs": [
    {
     "name": "stdout",
     "output_type": "stream",
     "text": [
      "1\n",
      "4\n",
      "27\n",
      "256\n"
     ]
    }
   ],
   "source": [
    "L = []\n",
    "for i in map(lambda x, y: x**y, [1,2,3,4],[1,2,3,4]):\n",
    "    print(i)"
   ]
  },
  {
   "cell_type": "markdown",
   "metadata": {},
   "source": [
    "## 14. 处理异常"
   ]
  },
  {
   "cell_type": "markdown",
   "metadata": {},
   "source": [
    "### 14.1 不除以零"
   ]
  },
  {
   "cell_type": "code",
   "execution_count": 29,
   "metadata": {
    "collapsed": false
   },
   "outputs": [
    {
     "name": "stdout",
     "output_type": "stream",
     "text": [
      "Input a number as a dividend:5\n",
      "Input a number as a divisor:0\n",
      "Fact should not be Zero.\n"
     ]
    }
   ],
   "source": [
    "def divise_noZero(num, fact):\n",
    "    try:\n",
    "        division = num / fact\n",
    "        print(division)\n",
    "        return division\n",
    "    except ZeroDivisionError:\n",
    "        print('Fact should not be Zero.')\n",
    "num = int(input('Input a number as a dividend:'))\n",
    "fact = int(input('Input a number as a divisor:'))\n",
    "divise_noZero(num, fact)"
   ]
  },
  {
   "cell_type": "markdown",
   "metadata": {},
   "source": [
    "### 14.2 字符串中的数值求和"
   ]
  },
  {
   "cell_type": "code",
   "execution_count": 30,
   "metadata": {
    "collapsed": true
   },
   "outputs": [],
   "source": [
    "def sumDigits(s):\n",
    "    num = []\n",
    "    for i in s:\n",
    "        if i in '0123456789':\n",
    "            num.append(int(i))\n",
    "        else:\n",
    "            continue\n",
    "    if num == []:\n",
    "        print('There is no digit in this string.')\n",
    "    return sum(num)"
   ]
  },
  {
   "cell_type": "code",
   "execution_count": 31,
   "metadata": {
    "collapsed": false
   },
   "outputs": [
    {
     "name": "stdout",
     "output_type": "stream",
     "text": [
      "There is no digit in this string.\n"
     ]
    },
    {
     "data": {
      "text/plain": [
       "0"
      ]
     },
     "execution_count": 31,
     "metadata": {},
     "output_type": "execute_result"
    }
   ],
   "source": [
    "sumDigits('abeeettued')"
   ]
  },
  {
   "cell_type": "markdown",
   "metadata": {},
   "source": [
    "### 14.3 限定输入整数"
   ]
  },
  {
   "cell_type": "code",
   "execution_count": 32,
   "metadata": {
    "collapsed": false
   },
   "outputs": [
    {
     "name": "stdout",
     "output_type": "stream",
     "text": [
      "Enter an integer:4rt\n",
      "4rt is not an interger.\n",
      "Enter an integer:456\n"
     ]
    },
    {
     "data": {
      "text/plain": [
       "456"
      ]
     },
     "execution_count": 32,
     "metadata": {},
     "output_type": "execute_result"
    }
   ],
   "source": [
    "def readInt():\n",
    "    while True:\n",
    "        val = input('Enter an integer:')\n",
    "        try:\n",
    "            return int(val)\n",
    "        except (ValueError,TypeError):\n",
    "            print('%s is not an interger.' %val)\n",
    "readInt()"
   ]
  },
  {
   "cell_type": "markdown",
   "metadata": {},
   "source": [
    "### 14.4 找第一个偶数（输入数值串）"
   ]
  },
  {
   "cell_type": "code",
   "execution_count": 1,
   "metadata": {
    "collapsed": false
   },
   "outputs": [
    {
     "data": {
      "text/plain": [
       "ValueError"
      ]
     },
     "execution_count": 1,
     "metadata": {},
     "output_type": "execute_result"
    }
   ],
   "source": [
    "def findAnEven(L):\n",
    "    result = ''\n",
    "    for i in L:\n",
    "        if int(i)%2==0:\n",
    "            return i\n",
    "            break\n",
    "        else:\n",
    "            result += i\n",
    "    if result != '':\n",
    "        return ValueError\n",
    "L = '7797'\n",
    "findAnEven(L)"
   ]
  },
  {
   "cell_type": "markdown",
   "metadata": {},
   "source": [
    "### 14.5 找第一个偶数（输入数值字母或其他字符串）"
   ]
  },
  {
   "cell_type": "code",
   "execution_count": 2,
   "metadata": {
    "collapsed": true
   },
   "outputs": [],
   "source": [
    "def findEvenNoAlpha(L):\n",
    "    result = ''\n",
    "    for i in L:\n",
    "        try:\n",
    "            if int(i)%2==0:\n",
    "                print('The first even number %s is found.' %i)\n",
    "                return i\n",
    "                break\n",
    "            else:\n",
    "                result += i\n",
    "                print('%s is an odd number, not even.' %i)\n",
    "        except ValueError as msg:\n",
    "            result += i\n",
    "            print(msg)\n",
    "    if result != '':\n",
    "        return ValueError"
   ]
  },
  {
   "cell_type": "code",
   "execution_count": 3,
   "metadata": {
    "collapsed": false
   },
   "outputs": [
    {
     "name": "stdout",
     "output_type": "stream",
     "text": [
      "3 is an odd number, not even.\n",
      "5 is an odd number, not even.\n",
      "The first even number 6 is found.\n"
     ]
    },
    {
     "data": {
      "text/plain": [
       "'6'"
      ]
     },
     "execution_count": 3,
     "metadata": {},
     "output_type": "execute_result"
    }
   ],
   "source": [
    "L = '356re-ty87'\n",
    "findEvenNoAlpha(L)"
   ]
  },
  {
   "cell_type": "markdown",
   "metadata": {},
   "source": [
    "### 14.6 打开文件异常"
   ]
  },
  {
   "cell_type": "code",
   "execution_count": 4,
   "metadata": {
    "collapsed": false
   },
   "outputs": [
    {
     "name": "stdout",
     "output_type": "stream",
     "text": [
      "Median grades is  74.0\n"
     ]
    }
   ],
   "source": [
    "def getGrades(fname):\n",
    "    try:\n",
    "        gradesFile = open(fname, 'r')\n",
    "    except IOError:\n",
    "        raise ValueError('The program \"getGrades\" could not open ' + fname)\n",
    "    grades = []\n",
    "    for line in gradesFile:\n",
    "        try:\n",
    "            grades.append(float(line))\n",
    "        except:\n",
    "            raise ValueError('Unable to convert line to float')\n",
    "    return grades\n",
    "\n",
    "def calculate(fname):\n",
    "    try:\n",
    "        grades = getGrades(fname)\n",
    "        grades.sort()\n",
    "        median = grades[len(grades)//2]\n",
    "        print('Median grades is ', median)\n",
    "    except ValueError as errorMsg:\n",
    "        print('Whoops. ', errorMsg)\n",
    "\n",
    "calculate('quiz1grades.txt')"
   ]
  },
  {
   "cell_type": "markdown",
   "metadata": {
    "collapsed": true
   },
   "source": [
    "## 15. 开始class类\n",
    "\n",
    "原来class类，就是自己定义自己的类型。函数是自己定义自己的函数。系统指定类型就是整数类、字符串类等这些。每个类型都有自己不同的方法。例如整数可相减而字符串却不可以。所以class就是让用户自己定义某种包含某些特定方法的类型。类型定义好了之后，给它赋值就是实例化了。\n",
    "\n",
    "class 后面的参数实际上是父类。"
   ]
  },
  {
   "cell_type": "markdown",
   "metadata": {},
   "source": [
    "### 15.1 整数类Intset"
   ]
  },
  {
   "cell_type": "code",
   "execution_count": 72,
   "metadata": {
    "collapsed": false
   },
   "outputs": [],
   "source": [
    "class IntSet(object):\n",
    "   \n",
    "    # shilihua hou shouxian zuo zhge caozuo.\n",
    "    def __init__(self):\n",
    "        self.vals = []\n",
    "    \n",
    "    # xinzeng yuansu e\n",
    "    def insert(self,e):\n",
    "        if e not in self.vals:\n",
    "            self.vals.append(e)\n",
    "        else:\n",
    "            raise ValueError(str(e) + ' is in this set.')\n",
    "    \n",
    "    # jiancha shifou baohan\n",
    "    def member(self,e):\n",
    "        return e in self.vals\n",
    "    \n",
    "    # qudiao yige yuansu\n",
    "    def remove(self,e):\n",
    "        try:\n",
    "            self.vals.remove(e)\n",
    "        except:\n",
    "            raise ValueError('Not found ' + str(e))\n",
    "            \n",
    "    # huode yuansu jihe\n",
    "    def getmember(self):\n",
    "        return self.vals[:]\n",
    "    \n",
    "    # dayin quanti\n",
    "    def __str__(self):\n",
    "        self.vals.sort()\n",
    "        result = ''\n",
    "        for e in self.vals:\n",
    "            result = result + str(e) + ','\n",
    "        return '{' + result[:-1] + '}'"
   ]
  },
  {
   "cell_type": "code",
   "execution_count": 80,
   "metadata": {
    "collapsed": false
   },
   "outputs": [],
   "source": [
    "c = IntSet()\n",
    "f = [5,6,7,3,8,0,12,34]\n",
    "for e in f:\n",
    "    c.insert(e)"
   ]
  },
  {
   "cell_type": "code",
   "execution_count": 81,
   "metadata": {
    "collapsed": false
   },
   "outputs": [
    {
     "ename": "ValueError",
     "evalue": "8 is in this set.",
     "output_type": "error",
     "traceback": [
      "\u001b[0;31m---------------------------------------------------------------------------\u001b[0m",
      "\u001b[0;31mValueError\u001b[0m                                Traceback (most recent call last)",
      "\u001b[0;32m<ipython-input-81-8b6923018b7a>\u001b[0m in \u001b[0;36m<module>\u001b[0;34m\u001b[0m\n\u001b[0;32m----> 1\u001b[0;31m \u001b[0mc\u001b[0m\u001b[0;34m.\u001b[0m\u001b[0minsert\u001b[0m\u001b[0;34m(\u001b[0m\u001b[0;36m8\u001b[0m\u001b[0;34m)\u001b[0m\u001b[0;34m\u001b[0m\u001b[0;34m\u001b[0m\u001b[0m\n\u001b[0m",
      "\u001b[0;32m<ipython-input-72-2b7add151b99>\u001b[0m in \u001b[0;36minsert\u001b[0;34m(self, e)\u001b[0m\n\u001b[1;32m     10\u001b[0m             \u001b[0mself\u001b[0m\u001b[0;34m.\u001b[0m\u001b[0mvals\u001b[0m\u001b[0;34m.\u001b[0m\u001b[0mappend\u001b[0m\u001b[0;34m(\u001b[0m\u001b[0me\u001b[0m\u001b[0;34m)\u001b[0m\u001b[0;34m\u001b[0m\u001b[0;34m\u001b[0m\u001b[0m\n\u001b[1;32m     11\u001b[0m         \u001b[0;32melse\u001b[0m\u001b[0;34m:\u001b[0m\u001b[0;34m\u001b[0m\u001b[0;34m\u001b[0m\u001b[0m\n\u001b[0;32m---> 12\u001b[0;31m             \u001b[0;32mraise\u001b[0m \u001b[0mValueError\u001b[0m\u001b[0;34m(\u001b[0m\u001b[0mstr\u001b[0m\u001b[0;34m(\u001b[0m\u001b[0me\u001b[0m\u001b[0;34m)\u001b[0m \u001b[0;34m+\u001b[0m \u001b[0;34m' is in this set.'\u001b[0m\u001b[0;34m)\u001b[0m\u001b[0;34m\u001b[0m\u001b[0;34m\u001b[0m\u001b[0m\n\u001b[0m\u001b[1;32m     13\u001b[0m \u001b[0;34m\u001b[0m\u001b[0m\n\u001b[1;32m     14\u001b[0m     \u001b[0;31m# jiancha shifou baohan\u001b[0m\u001b[0;34m\u001b[0m\u001b[0;34m\u001b[0m\u001b[0;34m\u001b[0m\u001b[0m\n",
      "\u001b[0;31mValueError\u001b[0m: 8 is in this set."
     ]
    }
   ],
   "source": [
    "c.insert(8)"
   ]
  },
  {
   "cell_type": "code",
   "execution_count": 82,
   "metadata": {
    "collapsed": false
   },
   "outputs": [
    {
     "data": {
      "text/plain": [
       "[5, 6, 7, 3, 8, 0, 12, 34]"
      ]
     },
     "execution_count": 82,
     "metadata": {},
     "output_type": "execute_result"
    }
   ],
   "source": [
    "c.getmember()"
   ]
  },
  {
   "cell_type": "code",
   "execution_count": 76,
   "metadata": {
    "collapsed": false
   },
   "outputs": [],
   "source": [
    "c.remove(6)"
   ]
  },
  {
   "cell_type": "code",
   "execution_count": 77,
   "metadata": {
    "collapsed": false
   },
   "outputs": [
    {
     "data": {
      "text/plain": [
       "[5, 7, 3, 8, 0, 12, 34]"
      ]
     },
     "execution_count": 77,
     "metadata": {},
     "output_type": "execute_result"
    }
   ],
   "source": [
    "c.getmember()"
   ]
  },
  {
   "cell_type": "code",
   "execution_count": 78,
   "metadata": {
    "collapsed": false
   },
   "outputs": [
    {
     "data": {
      "text/plain": [
       "False"
      ]
     },
     "execution_count": 78,
     "metadata": {},
     "output_type": "execute_result"
    }
   ],
   "source": [
    "c.member(6)"
   ]
  },
  {
   "cell_type": "code",
   "execution_count": 79,
   "metadata": {
    "collapsed": false
   },
   "outputs": [
    {
     "name": "stdout",
     "output_type": "stream",
     "text": [
      "{0,3,5,7,8,12,34}\n"
     ]
    }
   ],
   "source": [
    "print(c)"
   ]
  },
  {
   "cell_type": "markdown",
   "metadata": {},
   "source": [
    "### 15.2 人类Person"
   ]
  },
  {
   "cell_type": "code",
   "execution_count": 1,
   "metadata": {
    "collapsed": true
   },
   "outputs": [],
   "source": [
    "import datetime\n",
    "\n",
    "class Person(object):\n",
    "    \n",
    "    def __init__(self,name):\n",
    "        self.name = name\n",
    "        try:\n",
    "            lastBlank = name.rindex(\" \")\n",
    "            self.lastName = name[lastBlank+1:]\n",
    "        except:\n",
    "            self.lastName = name\n",
    "        self.birthday = None\n",
    "        \n",
    "    def getName(self):\n",
    "        return self.name\n",
    "    \n",
    "    def getLastName(self):\n",
    "        return self.lastName\n",
    "    \n",
    "    def setBirthdate(self, birthdate):\n",
    "        self.birthday = birthdate\n",
    "        \n",
    "    def getAge(self):\n",
    "        try:\n",
    "            return ((datetime.date.today() - self.birthday).days)/365\n",
    "        except:\n",
    "            raise ValueError('Birthday is not set.')\n",
    "            \n",
    "    def __lt__(self, other):\n",
    "        if self.lastName == other.lastName:\n",
    "            return self.name<other.name\n",
    "        return self.lastName<other.lastName\n",
    "        \n",
    "    def __str__(self):\n",
    "        return self.name"
   ]
  },
  {
   "cell_type": "code",
   "execution_count": 2,
   "metadata": {
    "collapsed": true
   },
   "outputs": [],
   "source": [
    "me = Person('Cindy Cai')\n",
    "him = Person('Barack Hussein Obama')\n",
    "her = Person('Michral Guttage')\n",
    "plist = [me, him, her]"
   ]
  },
  {
   "cell_type": "code",
   "execution_count": 55,
   "metadata": {
    "collapsed": false
   },
   "outputs": [
    {
     "name": "stdout",
     "output_type": "stream",
     "text": [
      "Cindy Cai\n",
      "Barack Hussein Obama\n",
      "Michral Guttage\n"
     ]
    }
   ],
   "source": [
    "for p in plist:\n",
    "    print(p)"
   ]
  },
  {
   "cell_type": "code",
   "execution_count": 3,
   "metadata": {
    "collapsed": false
   },
   "outputs": [],
   "source": [
    "me.setBirthdate(datetime.date(1981,8,27))"
   ]
  },
  {
   "cell_type": "code",
   "execution_count": 40,
   "metadata": {
    "collapsed": false
   },
   "outputs": [
    {
     "name": "stdout",
     "output_type": "stream",
     "text": [
      "Cindy Cai\n"
     ]
    }
   ],
   "source": [
    "print(me)"
   ]
  },
  {
   "cell_type": "code",
   "execution_count": 42,
   "metadata": {
    "collapsed": false
   },
   "outputs": [
    {
     "data": {
      "text/plain": [
       "'Cai'"
      ]
     },
     "execution_count": 42,
     "metadata": {},
     "output_type": "execute_result"
    }
   ],
   "source": [
    "me.getLastName()"
   ]
  },
  {
   "cell_type": "code",
   "execution_count": 43,
   "metadata": {
    "collapsed": false
   },
   "outputs": [
    {
     "data": {
      "text/plain": [
       "37.61643835616438"
      ]
     },
     "execution_count": 43,
     "metadata": {},
     "output_type": "execute_result"
    }
   ],
   "source": [
    "me.getAge()"
   ]
  },
  {
   "cell_type": "code",
   "execution_count": 44,
   "metadata": {
    "collapsed": false
   },
   "outputs": [
    {
     "data": {
      "text/plain": [
       "True"
      ]
     },
     "execution_count": 44,
     "metadata": {},
     "output_type": "execute_result"
    }
   ],
   "source": [
    "me < him"
   ]
  },
  {
   "cell_type": "code",
   "execution_count": 56,
   "metadata": {
    "collapsed": false
   },
   "outputs": [],
   "source": [
    "plist.sort()"
   ]
  },
  {
   "cell_type": "code",
   "execution_count": 57,
   "metadata": {
    "collapsed": false
   },
   "outputs": [
    {
     "name": "stdout",
     "output_type": "stream",
     "text": [
      "Cindy Cai\n",
      "Michral Guttage\n",
      "Barack Hussein Obama\n"
     ]
    }
   ],
   "source": [
    "for p in plist:\n",
    "    print(p)"
   ]
  },
  {
   "cell_type": "code",
   "execution_count": 58,
   "metadata": {
    "collapsed": false
   },
   "outputs": [
    {
     "ename": "ValueError",
     "evalue": "Birthday is not set.",
     "output_type": "error",
     "traceback": [
      "\u001b[0;31m---------------------------------------------------------------------------\u001b[0m",
      "\u001b[0;31mTypeError\u001b[0m                                 Traceback (most recent call last)",
      "\u001b[0;32m<ipython-input-47-db42e60c1e26>\u001b[0m in \u001b[0;36mgetAge\u001b[0;34m(self)\u001b[0m\n\u001b[1;32m     24\u001b[0m         \u001b[0;32mtry\u001b[0m\u001b[0;34m:\u001b[0m\u001b[0;34m\u001b[0m\u001b[0;34m\u001b[0m\u001b[0m\n\u001b[0;32m---> 25\u001b[0;31m             \u001b[0;32mreturn\u001b[0m \u001b[0;34m(\u001b[0m\u001b[0;34m(\u001b[0m\u001b[0mdatetime\u001b[0m\u001b[0;34m.\u001b[0m\u001b[0mdate\u001b[0m\u001b[0;34m.\u001b[0m\u001b[0mtoday\u001b[0m\u001b[0;34m(\u001b[0m\u001b[0;34m)\u001b[0m \u001b[0;34m-\u001b[0m \u001b[0mself\u001b[0m\u001b[0;34m.\u001b[0m\u001b[0mbirthday\u001b[0m\u001b[0;34m)\u001b[0m\u001b[0;34m.\u001b[0m\u001b[0mdays\u001b[0m\u001b[0;34m)\u001b[0m\u001b[0;34m/\u001b[0m\u001b[0;36m365\u001b[0m\u001b[0;34m\u001b[0m\u001b[0;34m\u001b[0m\u001b[0m\n\u001b[0m\u001b[1;32m     26\u001b[0m         \u001b[0;32mexcept\u001b[0m\u001b[0;34m:\u001b[0m\u001b[0;34m\u001b[0m\u001b[0;34m\u001b[0m\u001b[0m\n",
      "\u001b[0;31mTypeError\u001b[0m: unsupported operand type(s) for -: 'datetime.date' and 'NoneType'",
      "\nDuring handling of the above exception, another exception occurred:\n",
      "\u001b[0;31mValueError\u001b[0m                                Traceback (most recent call last)",
      "\u001b[0;32m<ipython-input-58-c5dfa9b60bfb>\u001b[0m in \u001b[0;36m<module>\u001b[0;34m\u001b[0m\n\u001b[0;32m----> 1\u001b[0;31m \u001b[0mhim\u001b[0m\u001b[0;34m.\u001b[0m\u001b[0mgetAge\u001b[0m\u001b[0;34m(\u001b[0m\u001b[0;34m)\u001b[0m\u001b[0;34m\u001b[0m\u001b[0;34m\u001b[0m\u001b[0m\n\u001b[0m",
      "\u001b[0;32m<ipython-input-47-db42e60c1e26>\u001b[0m in \u001b[0;36mgetAge\u001b[0;34m(self)\u001b[0m\n\u001b[1;32m     25\u001b[0m             \u001b[0;32mreturn\u001b[0m \u001b[0;34m(\u001b[0m\u001b[0;34m(\u001b[0m\u001b[0mdatetime\u001b[0m\u001b[0;34m.\u001b[0m\u001b[0mdate\u001b[0m\u001b[0;34m.\u001b[0m\u001b[0mtoday\u001b[0m\u001b[0;34m(\u001b[0m\u001b[0;34m)\u001b[0m \u001b[0;34m-\u001b[0m \u001b[0mself\u001b[0m\u001b[0;34m.\u001b[0m\u001b[0mbirthday\u001b[0m\u001b[0;34m)\u001b[0m\u001b[0;34m.\u001b[0m\u001b[0mdays\u001b[0m\u001b[0;34m)\u001b[0m\u001b[0;34m/\u001b[0m\u001b[0;36m365\u001b[0m\u001b[0;34m\u001b[0m\u001b[0;34m\u001b[0m\u001b[0m\n\u001b[1;32m     26\u001b[0m         \u001b[0;32mexcept\u001b[0m\u001b[0;34m:\u001b[0m\u001b[0;34m\u001b[0m\u001b[0;34m\u001b[0m\u001b[0m\n\u001b[0;32m---> 27\u001b[0;31m             \u001b[0;32mraise\u001b[0m \u001b[0mValueError\u001b[0m\u001b[0;34m(\u001b[0m\u001b[0;34m'Birthday is not set.'\u001b[0m\u001b[0;34m)\u001b[0m\u001b[0;34m\u001b[0m\u001b[0;34m\u001b[0m\u001b[0m\n\u001b[0m\u001b[1;32m     28\u001b[0m \u001b[0;34m\u001b[0m\u001b[0m\n\u001b[1;32m     29\u001b[0m     \u001b[0;32mdef\u001b[0m \u001b[0m__lt__\u001b[0m\u001b[0;34m(\u001b[0m\u001b[0mself\u001b[0m\u001b[0;34m,\u001b[0m \u001b[0mother\u001b[0m\u001b[0;34m)\u001b[0m\u001b[0;34m:\u001b[0m\u001b[0;34m\u001b[0m\u001b[0;34m\u001b[0m\u001b[0m\n",
      "\u001b[0;31mValueError\u001b[0m: Birthday is not set."
     ]
    }
   ],
   "source": [
    "him.getAge()"
   ]
  },
  {
   "cell_type": "code",
   "execution_count": 4,
   "metadata": {
    "collapsed": false
   },
   "outputs": [],
   "source": [
    "class MITPerson(Person):\n",
    "    nextIdnum = 0\n",
    "    \n",
    "    def __init__(self,name):\n",
    "        Person.__init__(self,name)\n",
    "        self.idNum = MITPerson.nextIdnum\n",
    "        MITPerson.nextIdnum += 1\n",
    "        \n",
    "    def getIdnum(self):\n",
    "        return self.idNum\n",
    "    \n",
    "    def isStudent(self):\n",
    "        return isinstance(self, Student)\n",
    "    \n",
    "    def __lt__(self, other):\n",
    "        return self.idNum<other.idNum"
   ]
  },
  {
   "cell_type": "code",
   "execution_count": 5,
   "metadata": {
    "collapsed": false
   },
   "outputs": [
    {
     "name": "stdout",
     "output_type": "stream",
     "text": [
      "Barbara Beaver\n",
      "0\n",
      "Clark Simpton\n",
      "1\n",
      "Mark Guttag\n",
      "2\n",
      "Billy Bob Beaver\n",
      "3\n"
     ]
    }
   ],
   "source": [
    "p1 = MITPerson('Barbara Beaver')\n",
    "p2 = MITPerson('Clark Simpton')\n",
    "p3 = MITPerson('Mark Guttag')\n",
    "p4 = MITPerson('Billy Bob Beaver')\n",
    "MITP = [p1, p2, p3, p4]\n",
    "p2.setBirthdate(datetime.date(1981,8,27))\n",
    "for p in MITP:\n",
    "    print(p)\n",
    "    print(p.getIdnum())"
   ]
  },
  {
   "cell_type": "code",
   "execution_count": 6,
   "metadata": {
    "collapsed": true
   },
   "outputs": [],
   "source": [
    "class Student(MITPerson):\n",
    "    pass\n",
    "\n",
    "class UG(Student):\n",
    "    def __init__(self, name, classYear):\n",
    "        MITPerson.__init__(self, name)\n",
    "        self.year = classYear\n",
    "        \n",
    "    def getClass(self):\n",
    "        return self.year\n",
    "    \n",
    "class Grad(Student):\n",
    "    pass"
   ]
  },
  {
   "cell_type": "code",
   "execution_count": 7,
   "metadata": {
    "collapsed": false
   },
   "outputs": [
    {
     "name": "stdout",
     "output_type": "stream",
     "text": [
      "Barbara Beaver\n",
      "<class '__main__.MITPerson'>\n",
      "Clark Simpton\n",
      "<class '__main__.MITPerson'>\n",
      "Mark Guttag\n",
      "<class '__main__.MITPerson'>\n",
      "Billy Bob Beaver\n",
      "<class '__main__.MITPerson'>\n",
      "Buzz Aldrin\n",
      "<class '__main__.Grad'>\n",
      "Billy Clinton\n",
      "<class '__main__.UG'>\n"
     ]
    }
   ],
   "source": [
    "p5 = Grad('Buzz Aldrin')\n",
    "p6 = UG('Billy Clinton', 2003)\n",
    "MITP.append(p5)\n",
    "MITP.append(p6)\n",
    "for p in MITP:\n",
    "    print(p)\n",
    "    print(type(p))"
   ]
  },
  {
   "cell_type": "code",
   "execution_count": 8,
   "metadata": {
    "collapsed": false
   },
   "outputs": [
    {
     "name": "stdout",
     "output_type": "stream",
     "text": [
      "Buzz Aldrin is a graduate student is  True\n",
      "Buzz Aldrin is a graduate student is  False\n"
     ]
    }
   ],
   "source": [
    "print(p5, 'is a graduate student is ', type(p5)==Grad)\n",
    "print(p5, 'is a graduate student is ', type(p5)==UG)"
   ]
  },
  {
   "cell_type": "code",
   "execution_count": 9,
   "metadata": {
    "collapsed": false
   },
   "outputs": [
    {
     "data": {
      "text/plain": [
       "True"
      ]
     },
     "execution_count": 9,
     "metadata": {},
     "output_type": "execute_result"
    }
   ],
   "source": [
    "p5.isStudent()"
   ]
  },
  {
   "cell_type": "code",
   "execution_count": 10,
   "metadata": {
    "collapsed": false
   },
   "outputs": [
    {
     "data": {
      "text/plain": [
       "True"
      ]
     },
     "execution_count": 10,
     "metadata": {},
     "output_type": "execute_result"
    }
   ],
   "source": [
    "p6.isStudent()"
   ]
  },
  {
   "cell_type": "code",
   "execution_count": 11,
   "metadata": {
    "collapsed": false
   },
   "outputs": [
    {
     "data": {
      "text/plain": [
       "False"
      ]
     },
     "execution_count": 11,
     "metadata": {},
     "output_type": "execute_result"
    }
   ],
   "source": [
    "p3.isStudent()"
   ]
  },
  {
   "cell_type": "code",
   "execution_count": 8,
   "metadata": {
    "collapsed": false
   },
   "outputs": [],
   "source": [
    "class TransferStudent(Student):\n",
    "    \n",
    "    def __init__(self, name, fromSchool):\n",
    "        MITPerson.__init__(self, name)\n",
    "        self.fromSchool = fromSchool\n",
    "        \n",
    "    def getOldSchool(self,name):\n",
    "        return self.fromSchool"
   ]
  },
  {
   "cell_type": "code",
   "execution_count": 9,
   "metadata": {
    "collapsed": false
   },
   "outputs": [],
   "source": [
    "p7 = TransferStudent('Felix Green', 'Havard')\n",
    "MITP.append(p7)"
   ]
  },
  {
   "cell_type": "code",
   "execution_count": 12,
   "metadata": {
    "collapsed": false
   },
   "outputs": [],
   "source": [
    "class Grades(object):\n",
    "    \n",
    "    def __init__(self):\n",
    "        self.students = []\n",
    "        self.grades = {}\n",
    "        self.isSorted = True\n",
    "        \n",
    "    def addStudent(self, student):\n",
    "        if student in self.students:\n",
    "            raise ValueError('Duplicated student.')\n",
    "        self.students.append(student)\n",
    "        self.grades[student.getIdnum()] = []\n",
    "        self.isSorted = False\n",
    "    \n",
    "    def addGrade(self, student, grade):\n",
    "        if student not in self.students:\n",
    "            raise ValueError('Student not in mapping.')\n",
    "        self.grades[student.getIdnum()].append(grade)\n",
    "        \n",
    "    def getGrades(self, student):\n",
    "        if student not in self.students:\n",
    "            raise ValueError('Student not in mapping.')\n",
    "        return self.grades[student.getIdnum()][:]\n",
    "    \n",
    "    def getStudents(self):\n",
    "        if self.isSorted == False:\n",
    "            self.students.sort()\n",
    "            self.isSorted = True\n",
    "        return self.students[:]"
   ]
  },
  {
   "cell_type": "markdown",
   "metadata": {
    "collapsed": false
   },
   "source": [
    "什么时候用if什么时候用try-except？"
   ]
  },
  {
   "cell_type": "code",
   "execution_count": 13,
   "metadata": {
    "collapsed": false
   },
   "outputs": [],
   "source": [
    "sixHundred = Grades()"
   ]
  },
  {
   "cell_type": "code",
   "execution_count": 14,
   "metadata": {
    "collapsed": false
   },
   "outputs": [],
   "source": [
    "ug1 = UG('Jane Doe', 2014)\n",
    "ug2 = UG('John Simpton', 2015)\n",
    "ug3 = UG('David Henry', 2003)\n",
    "g1 = Grad('Billy Buckner')\n",
    "g2 = Grad('Bucky F. Dent')\n",
    "\n",
    "MITP.append(ug1)\n",
    "MITP.append(ug2)\n",
    "MITP.append(ug3)\n",
    "MITP.append(g1)\n",
    "MITP.append(g2)"
   ]
  },
  {
   "cell_type": "code",
   "execution_count": 15,
   "metadata": {
    "collapsed": false
   },
   "outputs": [],
   "source": [
    "for p in MITP:\n",
    "    sixHundred.addStudent(p)"
   ]
  },
  {
   "cell_type": "code",
   "execution_count": 19,
   "metadata": {
    "collapsed": false
   },
   "outputs": [],
   "source": [
    "for s in sixHundred.getStudents():\n",
    "    sixHundred.addGrade(s, 75)"
   ]
  },
  {
   "cell_type": "code",
   "execution_count": 20,
   "metadata": {
    "collapsed": false
   },
   "outputs": [
    {
     "data": {
      "text/plain": [
       "[75]"
      ]
     },
     "execution_count": 20,
     "metadata": {},
     "output_type": "execute_result"
    }
   ],
   "source": [
    "sixHundred.getGrades(ug1)"
   ]
  },
  {
   "cell_type": "code",
   "execution_count": 21,
   "metadata": {
    "collapsed": false
   },
   "outputs": [],
   "source": [
    "sixHundred.addGrade(ug1, 80)\n",
    "sixHundred.addGrade(ug2, 65)"
   ]
  },
  {
   "cell_type": "code",
   "execution_count": 22,
   "metadata": {
    "collapsed": false
   },
   "outputs": [
    {
     "data": {
      "text/plain": [
       "[75, 80]"
      ]
     },
     "execution_count": 22,
     "metadata": {},
     "output_type": "execute_result"
    }
   ],
   "source": [
    "sixHundred.getGrades(ug1)"
   ]
  },
  {
   "cell_type": "code",
   "execution_count": 24,
   "metadata": {
    "collapsed": false
   },
   "outputs": [
    {
     "name": "stdout",
     "output_type": "stream",
     "text": [
      "[75]\n",
      "[75]\n",
      "[75]\n",
      "[75]\n",
      "[75]\n",
      "[75]\n",
      "[75]\n",
      "[75, 80]\n",
      "[75, 65]\n",
      "[75]\n",
      "[75]\n",
      "[75]\n"
     ]
    }
   ],
   "source": [
    "for s in sixHundred.getStudents():\n",
    "    print(sixHundred.getGrades(s))"
   ]
  },
  {
   "cell_type": "code",
   "execution_count": 29,
   "metadata": {
    "collapsed": false
   },
   "outputs": [
    {
     "name": "stdout",
     "output_type": "stream",
     "text": [
      "Barbara Beaver\n",
      "[75]\n",
      "Clark Simpton\n",
      "[75]\n",
      "Mark Guttag\n",
      "[75]\n",
      "Billy Bob Beaver\n",
      "[75]\n",
      "Buzz Aldrin\n",
      "[75]\n",
      "Billy Clinton\n",
      "[75]\n",
      "Felix Green\n",
      "[75]\n",
      "Jane Doe\n",
      "[75, 80]\n",
      "John Simpton\n",
      "[75, 65]\n",
      "David Henry\n",
      "[75]\n",
      "Billy Buckner\n",
      "[75]\n",
      "Bucky F. Dent\n",
      "[75]\n"
     ]
    }
   ],
   "source": [
    "for s in sixHundred.getStudents():\n",
    "    print(s)\n",
    "    print(sixHundred.getGrades(s))"
   ]
  },
  {
   "cell_type": "markdown",
   "metadata": {},
   "source": [
    "### 15.3 类方法的隐藏"
   ]
  },
  {
   "cell_type": "code",
   "execution_count": 57,
   "metadata": {
    "collapsed": true
   },
   "outputs": [],
   "source": [
    "class infoHiding(object):\n",
    "    \n",
    "    def __init__(self):\n",
    "        self.visible = 'Look at me.'\n",
    "        self.__alsoVisible__ = 'Look at me too.'\n",
    "        self.__invisible = 'Don\\'t look at me directly.'\n",
    "        \n",
    "    def printVisible(self):\n",
    "        print(self.visible)\n",
    "        \n",
    "    def printInvisible(self):\n",
    "        print(self.__inVisible)\n",
    "        \n",
    "    def __printInvisible(self):\n",
    "        print(self.__inVisible)\n",
    "        \n",
    "    def __printInvisible__(self):\n",
    "        print(self.__inVisible)"
   ]
  },
  {
   "cell_type": "code",
   "execution_count": 58,
   "metadata": {
    "collapsed": false
   },
   "outputs": [],
   "source": [
    "test = infoHiding()"
   ]
  },
  {
   "cell_type": "code",
   "execution_count": 61,
   "metadata": {
    "collapsed": false
   },
   "outputs": [
    {
     "name": "stdout",
     "output_type": "stream",
     "text": [
      "Look at me.\n"
     ]
    }
   ],
   "source": [
    "print(test.visible)"
   ]
  },
  {
   "cell_type": "code",
   "execution_count": 62,
   "metadata": {
    "collapsed": false
   },
   "outputs": [
    {
     "name": "stdout",
     "output_type": "stream",
     "text": [
      "Look at me too.\n"
     ]
    }
   ],
   "source": [
    "print(test.__alsoVisible__)"
   ]
  },
  {
   "cell_type": "code",
   "execution_count": 63,
   "metadata": {
    "collapsed": false
   },
   "outputs": [
    {
     "ename": "AttributeError",
     "evalue": "'infoHiding' object has no attribute '__invisible'",
     "output_type": "error",
     "traceback": [
      "\u001b[0;31m---------------------------------------------------------------------------\u001b[0m",
      "\u001b[0;31mAttributeError\u001b[0m                            Traceback (most recent call last)",
      "\u001b[0;32m<ipython-input-63-627fe9e5dac1>\u001b[0m in \u001b[0;36m<module>\u001b[0;34m\u001b[0m\n\u001b[0;32m----> 1\u001b[0;31m \u001b[0mprint\u001b[0m\u001b[0;34m(\u001b[0m\u001b[0mtest\u001b[0m\u001b[0;34m.\u001b[0m\u001b[0m__invisible\u001b[0m\u001b[0;34m)\u001b[0m\u001b[0;34m\u001b[0m\u001b[0;34m\u001b[0m\u001b[0m\n\u001b[0m",
      "\u001b[0;31mAttributeError\u001b[0m: 'infoHiding' object has no attribute '__invisible'"
     ]
    }
   ],
   "source": [
    "print(test.__invisible)"
   ]
  },
  {
   "cell_type": "code",
   "execution_count": 64,
   "metadata": {
    "collapsed": false
   },
   "outputs": [
    {
     "name": "stdout",
     "output_type": "stream",
     "text": [
      "Look at me.\n"
     ]
    }
   ],
   "source": [
    "test.printVisible()"
   ]
  },
  {
   "cell_type": "code",
   "execution_count": 65,
   "metadata": {
    "collapsed": false
   },
   "outputs": [
    {
     "ename": "AttributeError",
     "evalue": "'infoHiding' object has no attribute '_infoHiding__inVisible'",
     "output_type": "error",
     "traceback": [
      "\u001b[0;31m---------------------------------------------------------------------------\u001b[0m",
      "\u001b[0;31mAttributeError\u001b[0m                            Traceback (most recent call last)",
      "\u001b[0;32m<ipython-input-65-f436ae701dad>\u001b[0m in \u001b[0;36m<module>\u001b[0;34m\u001b[0m\n\u001b[0;32m----> 1\u001b[0;31m \u001b[0mtest\u001b[0m\u001b[0;34m.\u001b[0m\u001b[0mprintInvisible\u001b[0m\u001b[0;34m(\u001b[0m\u001b[0;34m)\u001b[0m\u001b[0;34m\u001b[0m\u001b[0;34m\u001b[0m\u001b[0m\n\u001b[0m",
      "\u001b[0;32m<ipython-input-57-f0b16336d17f>\u001b[0m in \u001b[0;36mprintInvisible\u001b[0;34m(self)\u001b[0m\n\u001b[1;32m     10\u001b[0m \u001b[0;34m\u001b[0m\u001b[0m\n\u001b[1;32m     11\u001b[0m     \u001b[0;32mdef\u001b[0m \u001b[0mprintInvisible\u001b[0m\u001b[0;34m(\u001b[0m\u001b[0mself\u001b[0m\u001b[0;34m)\u001b[0m\u001b[0;34m:\u001b[0m\u001b[0;34m\u001b[0m\u001b[0;34m\u001b[0m\u001b[0m\n\u001b[0;32m---> 12\u001b[0;31m         \u001b[0mprint\u001b[0m\u001b[0;34m(\u001b[0m\u001b[0mself\u001b[0m\u001b[0;34m.\u001b[0m\u001b[0m__inVisible\u001b[0m\u001b[0;34m)\u001b[0m\u001b[0;34m\u001b[0m\u001b[0;34m\u001b[0m\u001b[0m\n\u001b[0m\u001b[1;32m     13\u001b[0m \u001b[0;34m\u001b[0m\u001b[0m\n\u001b[1;32m     14\u001b[0m     \u001b[0;32mdef\u001b[0m \u001b[0m__printInvisible\u001b[0m\u001b[0;34m(\u001b[0m\u001b[0mself\u001b[0m\u001b[0;34m)\u001b[0m\u001b[0;34m:\u001b[0m\u001b[0;34m\u001b[0m\u001b[0;34m\u001b[0m\u001b[0m\n",
      "\u001b[0;31mAttributeError\u001b[0m: 'infoHiding' object has no attribute '_infoHiding__inVisible'"
     ]
    }
   ],
   "source": [
    "test.printInvisible()"
   ]
  },
  {
   "cell_type": "code",
   "execution_count": 66,
   "metadata": {
    "collapsed": false
   },
   "outputs": [
    {
     "ename": "AttributeError",
     "evalue": "'infoHiding' object has no attribute '_infoHiding__inVisible'",
     "output_type": "error",
     "traceback": [
      "\u001b[0;31m---------------------------------------------------------------------------\u001b[0m",
      "\u001b[0;31mAttributeError\u001b[0m                            Traceback (most recent call last)",
      "\u001b[0;32m<ipython-input-66-5b635ee96298>\u001b[0m in \u001b[0;36m<module>\u001b[0;34m\u001b[0m\n\u001b[0;32m----> 1\u001b[0;31m \u001b[0mtest\u001b[0m\u001b[0;34m.\u001b[0m\u001b[0m__printInvisible__\u001b[0m\u001b[0;34m(\u001b[0m\u001b[0;34m)\u001b[0m\u001b[0;34m\u001b[0m\u001b[0;34m\u001b[0m\u001b[0m\n\u001b[0m",
      "\u001b[0;32m<ipython-input-57-f0b16336d17f>\u001b[0m in \u001b[0;36m__printInvisible__\u001b[0;34m(self)\u001b[0m\n\u001b[1;32m     16\u001b[0m \u001b[0;34m\u001b[0m\u001b[0m\n\u001b[1;32m     17\u001b[0m     \u001b[0;32mdef\u001b[0m \u001b[0m__printInvisible__\u001b[0m\u001b[0;34m(\u001b[0m\u001b[0mself\u001b[0m\u001b[0;34m)\u001b[0m\u001b[0;34m:\u001b[0m\u001b[0;34m\u001b[0m\u001b[0;34m\u001b[0m\u001b[0m\n\u001b[0;32m---> 18\u001b[0;31m         \u001b[0mprint\u001b[0m\u001b[0;34m(\u001b[0m\u001b[0mself\u001b[0m\u001b[0;34m.\u001b[0m\u001b[0m__inVisible\u001b[0m\u001b[0;34m)\u001b[0m\u001b[0;34m\u001b[0m\u001b[0;34m\u001b[0m\u001b[0m\n\u001b[0m",
      "\u001b[0;31mAttributeError\u001b[0m: 'infoHiding' object has no attribute '_infoHiding__inVisible'"
     ]
    }
   ],
   "source": [
    "test.__printInvisible__()"
   ]
  },
  {
   "cell_type": "code",
   "execution_count": 67,
   "metadata": {
    "collapsed": false
   },
   "outputs": [
    {
     "ename": "AttributeError",
     "evalue": "'infoHiding' object has no attribute '__printInvisible'",
     "output_type": "error",
     "traceback": [
      "\u001b[0;31m---------------------------------------------------------------------------\u001b[0m",
      "\u001b[0;31mAttributeError\u001b[0m                            Traceback (most recent call last)",
      "\u001b[0;32m<ipython-input-67-e3e103992aef>\u001b[0m in \u001b[0;36m<module>\u001b[0;34m\u001b[0m\n\u001b[0;32m----> 1\u001b[0;31m \u001b[0mtest\u001b[0m\u001b[0;34m.\u001b[0m\u001b[0m__printInvisible\u001b[0m\u001b[0;34m(\u001b[0m\u001b[0;34m)\u001b[0m\u001b[0;34m\u001b[0m\u001b[0;34m\u001b[0m\u001b[0m\n\u001b[0m",
      "\u001b[0;31mAttributeError\u001b[0m: 'infoHiding' object has no attribute '__printInvisible'"
     ]
    }
   ],
   "source": [
    "test.__printInvisible()"
   ]
  },
  {
   "cell_type": "markdown",
   "metadata": {},
   "source": [
    "## 16. 复杂度"
   ]
  },
  {
   "cell_type": "markdown",
   "metadata": {},
   "source": [
    "### 16.1 整数转为字符"
   ]
  },
  {
   "cell_type": "code",
   "execution_count": 75,
   "metadata": {
    "collapsed": false
   },
   "outputs": [],
   "source": [
    "def intToStr(i):\n",
    "    digits = '0123456789'\n",
    "    if i==0:\n",
    "        return '0'\n",
    "    result = ''\n",
    "    while i>0:\n",
    "        result = digits[i%10] + result\n",
    "        i = i//10\n",
    "    return result"
   ]
  },
  {
   "cell_type": "code",
   "execution_count": 76,
   "metadata": {
    "collapsed": false
   },
   "outputs": [
    {
     "data": {
      "text/plain": [
       "'356'"
      ]
     },
     "execution_count": 76,
     "metadata": {},
     "output_type": "execute_result"
    }
   ],
   "source": [
    "intToStr(356)"
   ]
  },
  {
   "cell_type": "markdown",
   "metadata": {},
   "source": [
    "### 16.2 归并排序"
   ]
  },
  {
   "cell_type": "code",
   "execution_count": 106,
   "metadata": {
    "collapsed": false
   },
   "outputs": [],
   "source": [
    "def merge(left,right,compare):\n",
    "    result = []\n",
    "    i = 0\n",
    "    j = 0\n",
    "    while i < len(left) and j < len(right):\n",
    "        if compare(left[i],right[j]):\n",
    "            result.append(left[i])\n",
    "            i+=1\n",
    "        else:\n",
    "            result.append(right[j])\n",
    "            j+=1\n",
    "    while i < len(left):\n",
    "        result.append(left[i])\n",
    "        i+=1\n",
    "        \n",
    "    while j < len(right):\n",
    "        result.append(right[j])\n",
    "        j+=1\n",
    "        \n",
    "    return result\n",
    "\n",
    "def mergeSort(L, compare = lambda x,y:x<y):    \n",
    "    if len(L)==0 or len(L)==1:\n",
    "        return L\n",
    "    else:\n",
    "        left = mergeSort(L[:len(L)//2], compare) \n",
    "        right = mergeSort(L[len(L)//2:], compare)\n",
    "        return merge(left, right, compare)    "
   ]
  },
  {
   "cell_type": "code",
   "execution_count": 107,
   "metadata": {
    "collapsed": true
   },
   "outputs": [],
   "source": [
    "L = [1, 5, 12, 18, 19, 20, 2, 3 ,4 ,7]"
   ]
  },
  {
   "cell_type": "code",
   "execution_count": 108,
   "metadata": {
    "collapsed": false
   },
   "outputs": [
    {
     "data": {
      "text/plain": [
       "[20, 19, 18, 12, 7, 5, 4, 3, 2, 1]"
      ]
     },
     "execution_count": 108,
     "metadata": {},
     "output_type": "execute_result"
    }
   ],
   "source": [
    "mergeSort(L, compare = lambda x,y:x>y)"
   ]
  },
  {
   "cell_type": "markdown",
   "metadata": {},
   "source": [
    "## 17. 绘图"
   ]
  },
  {
   "cell_type": "markdown",
   "metadata": {},
   "source": [
    "### 17.1"
   ]
  },
  {
   "cell_type": "code",
   "execution_count": 11,
   "metadata": {
    "collapsed": false
   },
   "outputs": [
    {
     "data": {
      "image/png": "[encoded data removed]",
      "text/plain": [
       "<Figure size 432x288 with 1 Axes>"
      ]
     },
     "metadata": {
      "needs_background": "light"
     },
     "output_type": "display_data"
    }
   ],
   "source": [
    "import pylab\n",
    "\n",
    "pylab.figure(1)\n",
    "pylab.plot([1,2,3,4,5,6,5.5],[1,7,3,5,3,2,1.5])\n",
    "pylab.savefig('Figure-Addie')\n",
    "pylab.show()"
   ]
  },
  {
   "cell_type": "code",
   "execution_count": 13,
   "metadata": {
    "collapsed": false
   },
   "outputs": [
    {
     "data": {
      "image/png": "[encoded data removed]",
      "text/plain": [
       "<Figure size 432x288 with 1 Axes>"
      ]
     },
     "metadata": {
      "needs_background": "light"
     },
     "output_type": "display_data"
    },
    {
     "data": {
      "image/png": "[encoded data removed]",
      "text/plain": [
       "<Figure size 432x288 with 1 Axes>"
      ]
     },
     "metadata": {
      "needs_background": "light"
     },
     "output_type": "display_data"
    }
   ],
   "source": [
    "pylab.figure(2)\n",
    "pylab.plot([2,4,5,1],[7,2,3,8])\n",
    "pylab.figure(3)\n",
    "pylab.plot([4,3],[6,2])\n",
    "pylab.figure(2)\n",
    "pylab.savefig('Figure-Cindy')\n",
    "pylab.figure(3)\n",
    "pylab.savefig('Figure-Sunny')"
   ]
  },
  {
   "cell_type": "code",
   "execution_count": 16,
   "metadata": {
    "collapsed": false
   },
   "outputs": [
    {
     "data": {
      "text/plain": [
       "[<matplotlib.lines.Line2D at 0x112f1c080>]"
      ]
     },
     "execution_count": 16,
     "metadata": {},
     "output_type": "execute_result"
    },
    {
     "data": {
      "image/png": "[encoded data removed]",
      "text/plain": [
       "<Figure size 432x288 with 1 Axes>"
      ]
     },
     "metadata": {
      "needs_background": "light"
     },
     "output_type": "display_data"
    }
   ],
   "source": [
    "pylab.figure(1)\n",
    "pylab.plot([3,4,2,4]) # 提供参数为Y值。X值由这个序列计算出来：range(len[3,4,2,4])即range(4)，也就是[0,1,2,3]"
   ]
  },
  {
   "cell_type": "code",
   "execution_count": 42,
   "metadata": {
    "collapsed": false
   },
   "outputs": [
    {
     "data": {
      "text/plain": [
       "Text(0, 0.5, 'Value of Principal($)')"
      ]
     },
     "execution_count": 42,
     "metadata": {},
     "output_type": "execute_result"
    },
    {
     "data": {
      "image/png": "[encoded data removed]",
      "text/plain": [
       "<Figure size 432x288 with 1 Axes>"
      ]
     },
     "metadata": {
      "needs_background": "light"
     },
     "output_type": "display_data"
    }
   ],
   "source": [
    "# _*_coding:utf-8_*_\n",
    "\n",
    "principal = 10000\n",
    "interestRate = 0.05\n",
    "years = 20\n",
    "values = []\n",
    "\n",
    "for i in range(years + 1):\n",
    "    values.append(principal)\n",
    "    principal *= (1+interestRate)\n",
    "pylab.plot(values, 'ko')\n",
    "#pylab.plot(values, linewidth = 10)\n",
    "pylab.title('5% Growth, Compounded Annually', fontsize = 'xx-large')\n",
    "pylab.xlabel('Years of Copounding', fontsize = 'x-small')\n",
    "pylab.ylabel('Value of Principal($)')"
   ]
  },
  {
   "cell_type": "code",
   "execution_count": null,
   "metadata": {
    "collapsed": false
   },
   "outputs": [],
   "source": []
  },
  {
   "cell_type": "code",
   "execution_count": null,
   "metadata": {
    "collapsed": true
   },
   "outputs": [],
   "source": []
  },
  {
   "cell_type": "code",
   "execution_count": null,
   "metadata": {
    "collapsed": true
   },
   "outputs": [],
   "source": []
  }
 ],
 "metadata": {
  "kernelspec": {
   "display_name": "Python 3",
   "language": "python",
   "name": "python3"
  },
  "language_info": {
   "codemirror_mode": {
    "name": "ipython",
    "version": 3
   },
   "file_extension": ".py",
   "mimetype": "text/x-python",
   "name": "python",
   "nbconvert_exporter": "python",
   "pygments_lexer": "ipython3",
   "version": "3.7.2"
  }
 },
 "nbformat": 4,
 "nbformat_minor": 0
}
