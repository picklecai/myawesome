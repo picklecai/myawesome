{
 "cells": [
  {
   "cell_type": "markdown",
   "metadata": {},
   "source": [
    "## 计算平方根"
   ]
  },
  {
   "cell_type": "code",
   "execution_count": 1,
   "metadata": {
    "collapsed": true
   },
   "outputs": [],
   "source": [
    "import random \n",
    "def square_root(x):\n",
    "    g = random.randint(1, x)\n",
    "    while True:\n",
    "        if abs(g*g-x) < 0.00001:\n",
    "            return g\n",
    "            break\n",
    "        else:\n",
    "            g = (g+x/g)/2\n",
    "            continue      "
   ]
  },
  {
   "cell_type": "code",
   "execution_count": 2,
   "metadata": {
    "collapsed": false
   },
   "outputs": [
    {
     "data": {
      "text/plain": [
       "4.0000001858445895"
      ]
     },
     "execution_count": 2,
     "metadata": {},
     "output_type": "execute_result"
    }
   ],
   "source": [
    "square_root(16)"
   ]
  },
  {
   "cell_type": "markdown",
   "metadata": {},
   "source": [
    "## 计算三个数中最大的奇数"
   ]
  },
  {
   "cell_type": "code",
   "execution_count": 3,
   "metadata": {
    "collapsed": false
   },
   "outputs": [],
   "source": [
    "def max_odd(x,y,z):\n",
    "    if x%2==0:\n",
    "        if y%2==0:\n",
    "            if z%2==0:\n",
    "                print('No odd.')\n",
    "                return None\n",
    "            else:\n",
    "                return z\n",
    "        elif y%2!=0 and z%2==0:\n",
    "            return y\n",
    "        else:\n",
    "            if y>= z:\n",
    "                return y\n",
    "            else:\n",
    "                return z\n",
    "    else:\n",
    "        if y%2==0 and z%2==0:\n",
    "            return x\n",
    "        elif y%2==0 and z%2!=0:\n",
    "            if x>=z:\n",
    "                return x\n",
    "            else:\n",
    "                return z\n",
    "        elif y%2!=0 and z%2==0:\n",
    "            if x>=y:\n",
    "                return x\n",
    "            else:\n",
    "                return y\n",
    "        else:\n",
    "            if x<=y and y<z:\n",
    "                return z\n",
    "            elif x<=y and y>=z:\n",
    "                return y\n",
    "            elif x>y and y>=z:\n",
    "                return x\n",
    "            elif x>y and y<z:\n",
    "                if x>=z:\n",
    "                    return x\n",
    "                else:\n",
    "                    return z"
   ]
  },
  {
   "cell_type": "code",
   "execution_count": 4,
   "metadata": {
    "collapsed": false
   },
   "outputs": [
    {
     "data": {
      "text/plain": [
       "45"
      ]
     },
     "execution_count": 4,
     "metadata": {},
     "output_type": "execute_result"
    }
   ],
   "source": [
    "max_odd(43,45,43)"
   ]
  },
  {
   "cell_type": "markdown",
   "metadata": {},
   "source": [
    "## 输出指定数量的某字符"
   ]
  },
  {
   "cell_type": "code",
   "execution_count": 7,
   "metadata": {
    "collapsed": false
   },
   "outputs": [
    {
     "name": "stdout",
     "output_type": "stream",
     "text": [
      "Which letter should I print? ozzzz\n",
      "How many times should I print the letter ozzzz ?25\n",
      "ozzzzozzzzozzzzozzzzozzzzozzzzozzzzozzzzozzzzozzzzozzzzozzzzozzzzozzzzozzzzozzzzozzzzozzzzozzzzozzzzozzzzozzzzozzzzozzzzozzzz\n"
     ]
    }
   ],
   "source": [
    "def x_num(num,s):\n",
    "    to_print = s * num\n",
    "    print(to_print)\n",
    "\n",
    "while True:\n",
    "    '''\n",
    "    如果用户输入的字符不是字母或数字，则需要重新输入。\n",
    "    '''\n",
    "    s = input('Which letter should I print? ')\n",
    "    if s.isalnum():\n",
    "        break    \n",
    "    \n",
    "while True:\n",
    "    '''\n",
    "    如果用户输入的数字不是正整数，则需要重新输入。\n",
    "    '''\n",
    "    n = input('How many times should I print the letter %s ?' %s)\n",
    "    if n.isdecimal() and int(n)>0:\n",
    "        n = int(n)\n",
    "        break\n",
    "x_num(n,s)"
   ]
  },
  {
   "cell_type": "markdown",
   "metadata": {},
   "source": [
    "## 计算n个数中最大的奇数"
   ]
  },
  {
   "cell_type": "markdown",
   "metadata": {},
   "source": [
    "前面这个计算3个数中最大的奇数，代码太长。用数组来存储，for循环算出是否奇偶之后，仍然存数组，用max求最大值即可。"
   ]
  },
  {
   "cell_type": "code",
   "execution_count": 8,
   "metadata": {
    "collapsed": false
   },
   "outputs": [],
   "source": [
    "def odd_max(num_list):\n",
    "    odd_list = []\n",
    "    for i in range(len(num_list)):\n",
    "        if num_list[i]%2!=0:\n",
    "            odd_list.append(num_list[i])\n",
    "    if odd_list == []:\n",
    "        print('No odd.')\n",
    "    else:\n",
    "        return max(odd_list)"
   ]
  },
  {
   "cell_type": "code",
   "execution_count": 9,
   "metadata": {
    "collapsed": false
   },
   "outputs": [
    {
     "data": {
      "text/plain": [
       "93"
      ]
     },
     "execution_count": 9,
     "metadata": {},
     "output_type": "execute_result"
    }
   ],
   "source": [
    "num_list = [34,22,12,43,43,96,10,57,118,93]\n",
    "odd_max(num_list)"
   ]
  },
  {
   "cell_type": "markdown",
   "metadata": {},
   "source": [
    "哈哈哈！这回只有9行。感觉是真的会写程序了。"
   ]
  },
  {
   "cell_type": "markdown",
   "metadata": {},
   "source": [
    "## 计算完全立方数"
   ]
  },
  {
   "cell_type": "code",
   "execution_count": 10,
   "metadata": {
    "collapsed": true
   },
   "outputs": [],
   "source": [
    "def cube_root(x):\n",
    "    c = 0\n",
    "    while c**3<abs(x):\n",
    "        c += 1\n",
    "    if c**3!=abs(x):\n",
    "        print('%d is not cube number.' %x)\n",
    "    else:\n",
    "        if x<0:\n",
    "            c = -c\n",
    "        print('Cube root of %d is %d' %(x,c))"
   ]
  },
  {
   "cell_type": "code",
   "execution_count": 11,
   "metadata": {
    "collapsed": false
   },
   "outputs": [
    {
     "name": "stdout",
     "output_type": "stream",
     "text": [
      "Cube root of 1957816251 is 1251\n"
     ]
    }
   ],
   "source": [
    "cube_root(1957816251)"
   ]
  },
  {
   "cell_type": "markdown",
   "metadata": {
    "collapsed": false
   },
   "source": [
    "## 某整数是否有根"
   ]
  },
  {
   "cell_type": "code",
   "execution_count": 12,
   "metadata": {
    "collapsed": false
   },
   "outputs": [],
   "source": [
    "def num_root(x):\n",
    "    root_list = []\n",
    "    for i in range(11):\n",
    "        root = 1        \n",
    "        while root<x:\n",
    "            if root**i!=x: \n",
    "                root += 1\n",
    "            else:\n",
    "                root_list.append(root)\n",
    "                print('%d ** %d is %d'%(root, i, x))\n",
    "                break \n",
    "        i += 1\n",
    "    if root_list == []:\n",
    "        print('No root for %d' %x)"
   ]
  },
  {
   "cell_type": "code",
   "execution_count": 13,
   "metadata": {
    "collapsed": false
   },
   "outputs": [
    {
     "name": "stdout",
     "output_type": "stream",
     "text": [
      "27 ** 2 is 729\n",
      "9 ** 3 is 729\n",
      "3 ** 6 is 729\n"
     ]
    }
   ],
   "source": [
    "num_root(27**2)"
   ]
  },
  {
   "cell_type": "markdown",
   "metadata": {},
   "source": [
    "## 逗号隔开的数值字符串求和"
   ]
  },
  {
   "cell_type": "code",
   "execution_count": 14,
   "metadata": {
    "collapsed": true
   },
   "outputs": [],
   "source": [
    "def num_sum(s):\n",
    "    num_list = []\n",
    "    i = 0\n",
    "    while i <= len(s):\n",
    "        if ',' in s:\n",
    "            if s[i]!=',':\n",
    "                i = i + 1\n",
    "            else:\n",
    "                num_list.append(float(s[0:i]))\n",
    "                s = (s.replace((s[0:i]),'')).strip(',')\n",
    "                i = 0\n",
    "                continue\n",
    "        else:\n",
    "            num_list.append(float(s))\n",
    "            break\n",
    "    return sum(num_list)"
   ]
  },
  {
   "cell_type": "code",
   "execution_count": 15,
   "metadata": {
    "collapsed": false
   },
   "outputs": [
    {
     "data": {
      "text/plain": [
       "22.623"
      ]
     },
     "execution_count": 15,
     "metadata": {},
     "output_type": "execute_result"
    }
   ],
   "source": [
    "num_sum('1.23,2.4,3.123,4.34,5.32,6.21')"
   ]
  },
  {
   "cell_type": "markdown",
   "metadata": {
    "collapsed": false
   },
   "source": [
    "## 求平方根"
   ]
  },
  {
   "cell_type": "code",
   "execution_count": 37,
   "metadata": {
    "collapsed": true
   },
   "outputs": [],
   "source": [
    "def sqr_root(x):\n",
    "    epsilon = 0.001 \n",
    "    c = 0\n",
    "    i = 0\n",
    "    while abs(c**2-x)>epsilon and c<x:\n",
    "        c = c + epsilon**2\n",
    "        i += 1\n",
    "    print(i)\n",
    "    return c"
   ]
  },
  {
   "cell_type": "code",
   "execution_count": 39,
   "metadata": {
    "collapsed": false
   },
   "outputs": [
    {
     "name": "stdout",
     "output_type": "stream",
     "text": [
      "3463958\n"
     ]
    },
    {
     "data": {
      "text/plain": [
       "3.4639580001302805"
      ]
     },
     "execution_count": 39,
     "metadata": {},
     "output_type": "execute_result"
    }
   ],
   "source": [
    "sqr_root(12)"
   ]
  },
  {
   "cell_type": "code",
   "execution_count": 34,
   "metadata": {
    "collapsed": false
   },
   "outputs": [
    {
     "name": "stdout",
     "output_type": "stream",
     "text": [
      "34\n"
     ]
    },
    {
     "data": {
      "text/plain": [
       "351.36306126974523"
      ]
     },
     "execution_count": 34,
     "metadata": {},
     "output_type": "execute_result"
    }
   ],
   "source": [
    "def sqr_root_bisec(x):\n",
    "    epsilon = 0.001 \n",
    "    low = 0\n",
    "    high = x\n",
    "    c = (low+high)/2\n",
    "    i = 0\n",
    "    while abs(c**2-x)>epsilon:\n",
    "        if c**2<=x:\n",
    "            low = c\n",
    "            i += 1\n",
    "        else:\n",
    "            high = c\n",
    "            i += 1\n",
    "        c = (low+high)/2\n",
    "    print(i)\n",
    "    return c\n",
    "sqr_root_bisec(123456)"
   ]
  },
  {
   "cell_type": "code",
   "execution_count": 41,
   "metadata": {
    "collapsed": false
   },
   "outputs": [
    {
     "name": "stdout",
     "output_type": "stream",
     "text": [
      "11\n"
     ]
    },
    {
     "data": {
      "text/plain": [
       "351.3630601485824"
      ]
     },
     "execution_count": 41,
     "metadata": {},
     "output_type": "execute_result"
    }
   ],
   "source": [
    "def sqr_root_newton(x):\n",
    "    epsilon = 0.001\n",
    "    guess = x/2  #zheli buchuyi 2, zhi duole 1ci.\n",
    "    i = 0\n",
    "    while abs(guess**2-x)>epsilon:\n",
    "        guess = guess - (guess**2-x)/(2*guess)\n",
    "        i += 1\n",
    "    print(i)\n",
    "    return guess\n",
    "sqr_root_newton(123456)"
   ]
  },
  {
   "cell_type": "markdown",
   "metadata": {},
   "source": [
    "没想到牛顿的方法比二分法还快！！！"
   ]
  },
  {
   "cell_type": "markdown",
   "metadata": {},
   "source": [
    "## 浮点数"
   ]
  },
  {
   "cell_type": "code",
   "execution_count": 28,
   "metadata": {
    "collapsed": false
   },
   "outputs": [
    {
     "name": "stdout",
     "output_type": "stream",
     "text": [
      "0.9999999999999999\n"
     ]
    }
   ],
   "source": [
    "x = 0.0\n",
    "for i in range(10):\n",
    "    x = x + 0.1\n",
    "print(x)"
   ]
  },
  {
   "cell_type": "code",
   "execution_count": null,
   "metadata": {
    "collapsed": true
   },
   "outputs": [],
   "source": []
  }
 ],
 "metadata": {
  "kernelspec": {
   "display_name": "Python 3",
   "language": "python",
   "name": "python3"
  },
  "language_info": {
   "codemirror_mode": {
    "name": "ipython",
    "version": 3
   },
   "file_extension": ".py",
   "mimetype": "text/x-python",
   "name": "python",
   "nbconvert_exporter": "python",
   "pygments_lexer": "ipython3",
   "version": "3.7.2"
  }
 },
 "nbformat": 4,
 "nbformat_minor": 0
}
